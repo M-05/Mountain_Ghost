{
  "nbformat": 4,
  "nbformat_minor": 0,
  "metadata": {
    "colab": {
      "provenance": []
    },
    "kernelspec": {
      "name": "python3",
      "display_name": "Python 3"
    },
    "language_info": {
      "name": "python"
    }
  },
  "cells": [
    {
      "cell_type": "code",
      "execution_count": null,
      "metadata": {
        "id": "0y-ZuXZts9Lu"
      },
      "outputs": [],
      "source": [
        "import pandas as pd\n",
        "import os\n",
        "from google.colab import drive"
      ]
    },
    {
      "cell_type": "code",
      "source": [
        "pd.set_option('display.max_columns', None)\n",
        "# display.[max_categories, max_columns, max_colwidth, max_dir_items,\n",
        "#   max_info_columns, max_info_rows, max_rows, max_seq_items, memory_usage,\n",
        "#   min_rows, multi_sparse, notebook_repr_html, pprint_nest_depth, precision,\n",
        "#   show_dimensions]"
      ],
      "metadata": {
        "id": "KxiaNFK4tCuG"
      },
      "execution_count": null,
      "outputs": []
    },
    {
      "cell_type": "code",
      "source": [
        "# 나의 구글 드라이브 연결\n",
        "drive.mount(\"/content/drive\")"
      ],
      "metadata": {
        "colab": {
          "base_uri": "https://localhost:8080/"
        },
        "id": "4pDBp2F6uv5C",
        "outputId": "1a799310-076b-4914-fbcc-e17e926c3904"
      },
      "execution_count": null,
      "outputs": [
        {
          "output_type": "stream",
          "name": "stdout",
          "text": [
            "Mounted at /content/drive\n"
          ]
        }
      ]
    },
    {
      "cell_type": "code",
      "source": [
        "path = './drive/MyDrive/Colab Notebooks/'"
      ],
      "metadata": {
        "id": "tSvDFn2Xlcof"
      },
      "execution_count": null,
      "outputs": []
    },
    {
      "cell_type": "markdown",
      "source": [
        "# 데이터 불러오기"
      ],
      "metadata": {
        "id": "xAKWS_Av06pS"
      }
    },
    {
      "cell_type": "code",
      "source": [
        "# 산림재해 관심인구 정보\n",
        "df1 = pd.read_csv(path + \"FPL080101.csv\")\n",
        "# 산림대피소 관심인구 정보\n",
        "df2 = pd.read_csv(path + \"FPL080201.csv\")\n",
        "# 산림재해 관심인구 관심지역 검색정보\n",
        "df3 = pd.read_csv(path + \"FPL080301.csv\")\n",
        "# 산림재해 연관 검색 키워드를 검색한 관심인구 정보\n",
        "df4 = pd.read_csv(path + \"FPL080401.csv\")"
      ],
      "metadata": {
        "id": "900CO4-stGEi"
      },
      "execution_count": null,
      "outputs": []
    },
    {
      "cell_type": "markdown",
      "source": [
        "# 산림재해\n",
        "\n",
        "### df1 : 산림재해 관심인구 정보 (Total : 14,988)\n",
        "\n",
        "|순위| 1 | 2 | 3 | 4 | 5 |\n",
        "|--|--|--|--|--|--|\n",
        "|거주지 230 | 서울 | 경기 | 부산 | 인천 | 대구\n",
        "|재해 | 산불 | 산사태 | 산림재해 | 병해충 | 재선충\n",
        "|거주지 20 | 서울 | 경기 | 부산 | 인천 | 대구\n",
        "|재해 | 산불 | 산림재해 | 산사태 | 병해충 | 재선충\n",
        "|거주지 30 | 서울 | 경기 | 부산 | 인천 | 충남\n",
        "|재해 | 산불 | 산사태 | 산림재해 | 병해충 | 재선충\n",
        "|||||||\n",
        "|거주지 14560 | 서울 | 경기 | 인천 | 부산 | 대구\n",
        "|재해 | 산불 | 산사태 | 산림재해 | 병해충 | 재선충\n",
        "\n",
        "> 재선충 : 소나무에게 병 옮기는 벌레\n",
        "\n",
        "`[2-30] 여 : 4,265(54.2%), 남 : 3,603(45.8%)`\n",
        "\n",
        "|Age|관심인구|Car|job|\n",
        "|--|--|--|--|\n",
        "|2-30|7,868(52.5%)|3,093(39.3%)|4,128(52.5%)\n",
        "|20|2,830(18.9%)|570(7.2%)|827(10.5%)\n",
        "|30|5,038(33.6%)|2,523(32.1%)|3,301(42.0%)\n",
        "\n",
        "---\n",
        "\n",
        "### df2 : 산림대피소 관심인구 정보 (Total : 2,302)\n",
        "\n",
        "|순위| 1 | 2 | 3 | 4 | 5 |\n",
        "|--|--|--|--|--|--|\n",
        "|거주지 230 | 서울 | 경기 | 인천 | 부산 | 대구\n",
        "|대피소 | 소백산 연화봉 | 한라산 진달래밭 | 설악산 중청 | 덕유산 향적봉 | 북한산 대피소\n",
        "|거주지 20 | 서울 | 경기 | 인천 | 부산 | 대구\n",
        "|대피소 | 한라산 진달래밭 | 소백산 연화봉 | 덕유산 향적봉 | 북한산 대피소 | 설악산 중청\n",
        "|거주지 30 | 서울 | 경기 | 인천 | 부산 | 대구\n",
        "|대피소 | 소백산 연화봉 | 설악산 중청 | 한라산 진달래밭 | 설악산 소청 | 북한산 대피소\n",
        "|||||||\n",
        "|거주지 450 | 서울 | 경기 | 인천 | 부산 | 경남\n",
        "|대피소 | 한라산 진달래밭 | 소백산 연화봉 | 북한산 대피소 | 설악산 중청 | 지리산 장터목\n",
        "\n",
        "`[2-30] 여 : 394(32.9%), 남 : 803(67.1%)`\n",
        "\n",
        "|Age|관심인구|Car|job|\n",
        "|--|--|--|--|\n",
        "|2-30|1,197(52.0%)|311(26.0%)|420(35.1%)\n",
        "|20|554(24.1%)|67(5.6%) | 108(9.0%)\n",
        "|30|643(27.9%)|244(20.4%)|312(26.1%)\n",
        "\n",
        "---\n",
        "\n",
        "### df3 : 산림재해 관심인구 관심지역 검색정보 (Total : 7,706)\n",
        "\n",
        "|순위| 1 | 2 | 3 | 4 | 5 |\n",
        "|--|--|--|--|--|--|\n",
        "|거주지 230 | 서울 | 경기 | 부산 | 인천 | 충남\n",
        "|재해 | 산불 | 산사태 | 산림재해 | 병해충 | 재선충\n",
        "|거주지 20 | 서울 | 경기 | 부산 | 인천 | 충북\n",
        "|재해 | 산불 | 산사태 | 산림재해 | 병해충 |\n",
        "|거주지 30 | 서울 | 경기 | 부산 | 인천 | 충남\n",
        "|재해 | 산불 | 산림재해 | 산사태 | 병해충 | 재선충\n",
        "|||||||\n",
        "|거주지 14560 | 서울 | 경기 | 부산 | 충남 | 인천\n",
        "|재해 | 산불 | 산사태 | 산림재해 | 병해충 | 재선충\n",
        "\n",
        "`[2-30] 여 : 2,475(59.4%), 남 : 1,689(40.6%)`\n",
        "\n",
        "|Age|관심인구|Car|job|\n",
        "|--|--|--|--|\n",
        "|2-30|4,164(54.0%)|1,734(41.6%)|2,239(53.8%)\n",
        "|20|1,415(18.4%)|331(7.9%) | 383(9.2%)\n",
        "|30|2,749(35.7%)|1,403(33.7%)|1,856(44.6%)\n",
        "\n",
        "---\n",
        "\n",
        "### df4 : 산림재해 연관 검색 키워드를 검색한 관심인구 정보 (Total : 340)\n",
        "\n",
        "|순위| 1 | 2 | 3 | 4 | 5 |\n",
        "|--|--|--|--|--|--|\n",
        "|거주지 230 | 서울 | 경기 | 인천 | 부산 | 충남\n",
        "|재해 | 산사태 | 산불 | 산림재해 |  |\n",
        "|거주지 20 | 서울 | 경기 | 부산 | 충북 | 인천\n",
        "|재해 | 산사태 | 산불 | 산림재해 |  |\n",
        "|거주지 30 | 서울 | 경기 | 인천 | 부산 | 충남\n",
        "|재해 | 산사태 | 산불 | 산림재해 |  |\n",
        "|||||||\n",
        "|거주지 14560 | 서울 | 경기 | 부산 | 대구 | 대전\n",
        "|재해 | 산사태 | 산림재해 | 산불 |  |\n",
        "\n",
        "`[2-30] 여 : 82(46.1%), 남 : 96(53.9%)`\n",
        "\n",
        "|Age|관심인구|Car|job|\n",
        "|--|--|--|--|\n",
        "|2-30|178(52.4%)|65(36.5%)|102(57.3%)\n",
        "|20|64(18.8%)|19(10.7%) | 21(11.8%)\n",
        "|30|114(33.5%)|46(25.8%)|81(45.5%)\n",
        "\n",
        "---"
      ],
      "metadata": {
        "id": "om6m2vDtvcAD"
      }
    },
    {
      "cell_type": "markdown",
      "source": [
        "귀산 -> 남자  \n",
        "산림 체험 및 산림 치유 -> 여자"
      ],
      "metadata": {
        "id": "_r4mWxdmwswF"
      }
    },
    {
      "cell_type": "markdown",
      "source": [
        "---\n",
        "---\n",
        "# df1 : 산림재해 관심인구 정보 (Total : 14,988)"
      ],
      "metadata": {
        "id": "UiL9NghznLts"
      }
    },
    {
      "cell_type": "code",
      "source": [
        "len(df1)"
      ],
      "metadata": {
        "colab": {
          "base_uri": "https://localhost:8080/"
        },
        "id": "4uupFVAIQYZQ",
        "outputId": "9c36faf4-e8a1-455b-a02a-c0d9a34d96a0"
      },
      "execution_count": null,
      "outputs": [
        {
          "output_type": "execute_result",
          "data": {
            "text/plain": [
              "14988"
            ]
          },
          "metadata": {},
          "execution_count": 6
        }
      ]
    },
    {
      "cell_type": "code",
      "source": [
        "df1.head()"
      ],
      "metadata": {
        "colab": {
          "base_uri": "https://localhost:8080/",
          "height": 354
        },
        "id": "popY0YyWm57k",
        "outputId": "329e0042-a6dc-41f3-f056-082f6d2dc207"
      },
      "execution_count": null,
      "outputs": [
        {
          "output_type": "execute_result",
          "data": {
            "text/plain": [
              "     재해                         사이트제목 성별  연령                      직업  \\\n",
              "0   산사태    우면산사사태사망사고…대법대피조치안한서초구배상책임  M   4                     NaN   \n",
              "1  산림재해                생태산림재해방지위한경진대회  F   5                     NaN   \n",
              "2  산림재해          산악기상관측망…산림재해예측정밀도높인다  M   3  사무직 (일반사무직, 공무원, 직업군인)   \n",
              "3   산사태         의령수도사산사태로매몰위험노출/뉴스렙기사  M   4                     NaN   \n",
              "4   산사태  산사태현장예방단의구성및운영에관한지침개정(안)행정예고  F   4                     NaN   \n",
              "\n",
              "          소득      결혼          자녀             주거  시도        구    동  \\\n",
              "0        NaN                                NaN  대구       동구  신서동   \n",
              "1        NaN                                NaN  서울      금천구  가산동   \n",
              "2  500~599만원   예          자녀 있음   연립주택/ 다세대/ 빌라  경기  성남시 중원구   중동   \n",
              "3        NaN                                NaN  서울      관악구  청림동   \n",
              "4        NaN                                NaN  부산      사상구  학장동   \n",
              "\n",
              "                          자동차  \n",
              "0                         NaN  \n",
              "1                         NaN  \n",
              "2  준중형차 (아반떼, K3, 크루즈, 제타급 등)  \n",
              "3                         NaN  \n",
              "4                         NaN  "
            ],
            "text/html": [
              "\n",
              "  <div id=\"df-0087d91f-82fd-497a-b9f1-6f08156c2b0e\">\n",
              "    <div class=\"colab-df-container\">\n",
              "      <div>\n",
              "<style scoped>\n",
              "    .dataframe tbody tr th:only-of-type {\n",
              "        vertical-align: middle;\n",
              "    }\n",
              "\n",
              "    .dataframe tbody tr th {\n",
              "        vertical-align: top;\n",
              "    }\n",
              "\n",
              "    .dataframe thead th {\n",
              "        text-align: right;\n",
              "    }\n",
              "</style>\n",
              "<table border=\"1\" class=\"dataframe\">\n",
              "  <thead>\n",
              "    <tr style=\"text-align: right;\">\n",
              "      <th></th>\n",
              "      <th>재해</th>\n",
              "      <th>사이트제목</th>\n",
              "      <th>성별</th>\n",
              "      <th>연령</th>\n",
              "      <th>직업</th>\n",
              "      <th>소득</th>\n",
              "      <th>결혼</th>\n",
              "      <th>자녀</th>\n",
              "      <th>주거</th>\n",
              "      <th>시도</th>\n",
              "      <th>구</th>\n",
              "      <th>동</th>\n",
              "      <th>자동차</th>\n",
              "    </tr>\n",
              "  </thead>\n",
              "  <tbody>\n",
              "    <tr>\n",
              "      <th>0</th>\n",
              "      <td>산사태</td>\n",
              "      <td>우면산사사태사망사고…대법대피조치안한서초구배상책임</td>\n",
              "      <td>M</td>\n",
              "      <td>4</td>\n",
              "      <td>NaN</td>\n",
              "      <td>NaN</td>\n",
              "      <td></td>\n",
              "      <td></td>\n",
              "      <td>NaN</td>\n",
              "      <td>대구</td>\n",
              "      <td>동구</td>\n",
              "      <td>신서동</td>\n",
              "      <td>NaN</td>\n",
              "    </tr>\n",
              "    <tr>\n",
              "      <th>1</th>\n",
              "      <td>산림재해</td>\n",
              "      <td>생태산림재해방지위한경진대회</td>\n",
              "      <td>F</td>\n",
              "      <td>5</td>\n",
              "      <td>NaN</td>\n",
              "      <td>NaN</td>\n",
              "      <td></td>\n",
              "      <td></td>\n",
              "      <td>NaN</td>\n",
              "      <td>서울</td>\n",
              "      <td>금천구</td>\n",
              "      <td>가산동</td>\n",
              "      <td>NaN</td>\n",
              "    </tr>\n",
              "    <tr>\n",
              "      <th>2</th>\n",
              "      <td>산림재해</td>\n",
              "      <td>산악기상관측망…산림재해예측정밀도높인다</td>\n",
              "      <td>M</td>\n",
              "      <td>3</td>\n",
              "      <td>사무직 (일반사무직, 공무원, 직업군인)</td>\n",
              "      <td>500~599만원</td>\n",
              "      <td>예</td>\n",
              "      <td>자녀 있음</td>\n",
              "      <td>연립주택/ 다세대/ 빌라</td>\n",
              "      <td>경기</td>\n",
              "      <td>성남시 중원구</td>\n",
              "      <td>중동</td>\n",
              "      <td>준중형차 (아반떼, K3, 크루즈, 제타급 등)</td>\n",
              "    </tr>\n",
              "    <tr>\n",
              "      <th>3</th>\n",
              "      <td>산사태</td>\n",
              "      <td>의령수도사산사태로매몰위험노출/뉴스렙기사</td>\n",
              "      <td>M</td>\n",
              "      <td>4</td>\n",
              "      <td>NaN</td>\n",
              "      <td>NaN</td>\n",
              "      <td></td>\n",
              "      <td></td>\n",
              "      <td>NaN</td>\n",
              "      <td>서울</td>\n",
              "      <td>관악구</td>\n",
              "      <td>청림동</td>\n",
              "      <td>NaN</td>\n",
              "    </tr>\n",
              "    <tr>\n",
              "      <th>4</th>\n",
              "      <td>산사태</td>\n",
              "      <td>산사태현장예방단의구성및운영에관한지침개정(안)행정예고</td>\n",
              "      <td>F</td>\n",
              "      <td>4</td>\n",
              "      <td>NaN</td>\n",
              "      <td>NaN</td>\n",
              "      <td></td>\n",
              "      <td></td>\n",
              "      <td>NaN</td>\n",
              "      <td>부산</td>\n",
              "      <td>사상구</td>\n",
              "      <td>학장동</td>\n",
              "      <td>NaN</td>\n",
              "    </tr>\n",
              "  </tbody>\n",
              "</table>\n",
              "</div>\n",
              "      <button class=\"colab-df-convert\" onclick=\"convertToInteractive('df-0087d91f-82fd-497a-b9f1-6f08156c2b0e')\"\n",
              "              title=\"Convert this dataframe to an interactive table.\"\n",
              "              style=\"display:none;\">\n",
              "        \n",
              "  <svg xmlns=\"http://www.w3.org/2000/svg\" height=\"24px\"viewBox=\"0 0 24 24\"\n",
              "       width=\"24px\">\n",
              "    <path d=\"M0 0h24v24H0V0z\" fill=\"none\"/>\n",
              "    <path d=\"M18.56 5.44l.94 2.06.94-2.06 2.06-.94-2.06-.94-.94-2.06-.94 2.06-2.06.94zm-11 1L8.5 8.5l.94-2.06 2.06-.94-2.06-.94L8.5 2.5l-.94 2.06-2.06.94zm10 10l.94 2.06.94-2.06 2.06-.94-2.06-.94-.94-2.06-.94 2.06-2.06.94z\"/><path d=\"M17.41 7.96l-1.37-1.37c-.4-.4-.92-.59-1.43-.59-.52 0-1.04.2-1.43.59L10.3 9.45l-7.72 7.72c-.78.78-.78 2.05 0 2.83L4 21.41c.39.39.9.59 1.41.59.51 0 1.02-.2 1.41-.59l7.78-7.78 2.81-2.81c.8-.78.8-2.07 0-2.86zM5.41 20L4 18.59l7.72-7.72 1.47 1.35L5.41 20z\"/>\n",
              "  </svg>\n",
              "      </button>\n",
              "      \n",
              "  <style>\n",
              "    .colab-df-container {\n",
              "      display:flex;\n",
              "      flex-wrap:wrap;\n",
              "      gap: 12px;\n",
              "    }\n",
              "\n",
              "    .colab-df-convert {\n",
              "      background-color: #E8F0FE;\n",
              "      border: none;\n",
              "      border-radius: 50%;\n",
              "      cursor: pointer;\n",
              "      display: none;\n",
              "      fill: #1967D2;\n",
              "      height: 32px;\n",
              "      padding: 0 0 0 0;\n",
              "      width: 32px;\n",
              "    }\n",
              "\n",
              "    .colab-df-convert:hover {\n",
              "      background-color: #E2EBFA;\n",
              "      box-shadow: 0px 1px 2px rgba(60, 64, 67, 0.3), 0px 1px 3px 1px rgba(60, 64, 67, 0.15);\n",
              "      fill: #174EA6;\n",
              "    }\n",
              "\n",
              "    [theme=dark] .colab-df-convert {\n",
              "      background-color: #3B4455;\n",
              "      fill: #D2E3FC;\n",
              "    }\n",
              "\n",
              "    [theme=dark] .colab-df-convert:hover {\n",
              "      background-color: #434B5C;\n",
              "      box-shadow: 0px 1px 3px 1px rgba(0, 0, 0, 0.15);\n",
              "      filter: drop-shadow(0px 1px 2px rgba(0, 0, 0, 0.3));\n",
              "      fill: #FFFFFF;\n",
              "    }\n",
              "  </style>\n",
              "\n",
              "      <script>\n",
              "        const buttonEl =\n",
              "          document.querySelector('#df-0087d91f-82fd-497a-b9f1-6f08156c2b0e button.colab-df-convert');\n",
              "        buttonEl.style.display =\n",
              "          google.colab.kernel.accessAllowed ? 'block' : 'none';\n",
              "\n",
              "        async function convertToInteractive(key) {\n",
              "          const element = document.querySelector('#df-0087d91f-82fd-497a-b9f1-6f08156c2b0e');\n",
              "          const dataTable =\n",
              "            await google.colab.kernel.invokeFunction('convertToInteractive',\n",
              "                                                     [key], {});\n",
              "          if (!dataTable) return;\n",
              "\n",
              "          const docLinkHtml = 'Like what you see? Visit the ' +\n",
              "            '<a target=\"_blank\" href=https://colab.research.google.com/notebooks/data_table.ipynb>data table notebook</a>'\n",
              "            + ' to learn more about interactive tables.';\n",
              "          element.innerHTML = '';\n",
              "          dataTable['output_type'] = 'display_data';\n",
              "          await google.colab.output.renderOutput(dataTable, element);\n",
              "          const docLink = document.createElement('div');\n",
              "          docLink.innerHTML = docLinkHtml;\n",
              "          element.appendChild(docLink);\n",
              "        }\n",
              "      </script>\n",
              "    </div>\n",
              "  </div>\n",
              "  "
            ]
          },
          "metadata": {},
          "execution_count": 7
        }
      ]
    },
    {
      "cell_type": "code",
      "source": [
        "age_counts = df1['연령'].value_counts()\n",
        "age_counts"
      ],
      "metadata": {
        "colab": {
          "base_uri": "https://localhost:8080/"
        },
        "id": "nFXIYcxvm-Zx",
        "outputId": "e10f79ec-0716-4762-b532-3150cbfe3e3e"
      },
      "execution_count": null,
      "outputs": [
        {
          "output_type": "execute_result",
          "data": {
            "text/plain": [
              "4    5046\n",
              "3    5038\n",
              "2    2830\n",
              "5    2044\n",
              "1      21\n",
              "6       9\n",
              "Name: 연령, dtype: int64"
            ]
          },
          "metadata": {},
          "execution_count": 8
        }
      ]
    },
    {
      "cell_type": "code",
      "source": [
        "age_counts.loc[[2,3]].sum(), round(age_counts.loc[[2,3]].sum() / age_counts.sum() * 100, 1),\\\n",
        "round(age_counts.loc[2] / age_counts.sum() * 100, 1),\\\n",
        "round(age_counts.loc[3] / age_counts.sum() * 100, 1),\\\n",
        "round(age_counts.drop([2,3]).sum() / age_counts.sum() * 100, 1)"
      ],
      "metadata": {
        "colab": {
          "base_uri": "https://localhost:8080/"
        },
        "id": "CHtJU2W5ntqv",
        "outputId": "2d32a9cd-ef6e-4c3d-8235-3cd7cc975f7b"
      },
      "execution_count": null,
      "outputs": [
        {
          "output_type": "execute_result",
          "data": {
            "text/plain": [
              "(7868, 52.5, 18.9, 33.6, 47.5)"
            ]
          },
          "metadata": {},
          "execution_count": 9
        }
      ]
    },
    {
      "cell_type": "code",
      "source": [
        "df1_23 = df1[df1['연령'].isin([2, 3])]\n",
        "df1_2 = df1[(df1['연령'] == 2)]\n",
        "df1_3 = df1[(df1['연령'] == 3)]\n",
        "df1_1456 = df1[df1['연령'].isin([1, 4, 5, 6])]"
      ],
      "metadata": {
        "id": "UV31QRX1t8nC"
      },
      "execution_count": null,
      "outputs": []
    },
    {
      "cell_type": "code",
      "source": [
        "df1_23.head()"
      ],
      "metadata": {
        "colab": {
          "base_uri": "https://localhost:8080/",
          "height": 354
        },
        "id": "yZHpHcnkCKoA",
        "outputId": "77e49491-9910-4cd8-a694-93ecf030c979"
      },
      "execution_count": null,
      "outputs": [
        {
          "output_type": "execute_result",
          "data": {
            "text/plain": [
              "      재해                              사이트제목 성별  연령                       직업  \\\n",
              "2   산림재해               산악기상관측망…산림재해예측정밀도높인다  M   3   사무직 (일반사무직, 공무원, 직업군인)   \n",
              "9   산림재해  산림재해예방을위한하늘의눈,강릉산림항공관리소드론산불예방훈련실시  F   3   사무직 (일반사무직, 공무원, 직업군인)   \n",
              "10   산사태                      청도태양광산사태/조선일보  F   2    주부 (전업주부, 파트타임 근무 주부)   \n",
              "12   산사태               <산사태대비하기>산사태이렇게대비하자!  F   3  전문직 (의사, 판검사, 예술가, 종교인)   \n",
              "13  산림재해            여름철산림재해예방을위한산사태대책상황실가동!  F   2   사무직 (일반사무직, 공무원, 직업군인)   \n",
              "\n",
              "            소득     결혼          자녀             주거  시도        구     동  \\\n",
              "2    500~599만원  예          자녀 있음   연립주택/ 다세대/ 빌라  경기  성남시 중원구    중동   \n",
              "9    300~399만원  예          자녀 없음   연립주택/ 다세대/ 빌라  서울      동작구  상도4동   \n",
              "10   400~499만원  예          자녀 있음       아파트/ 주상복합  전남      목포시   옥암동   \n",
              "12   600~699만원  예          자녀 있음            단독주택  서울      강서구  화곡1동   \n",
              "13  1,000만원 이상    아니오                  아파트/ 주상복합  서울      송파구   잠실동   \n",
              "\n",
              "                               자동차  \n",
              "2       준중형차 (아반떼, K3, 크루즈, 제타급 등)  \n",
              "9                              NaN  \n",
              "10                             NaN  \n",
              "12  준중형SUV (투싼, 스포티지, QM5, 티구안급 등)  \n",
              "13  준중형SUV (투싼, 스포티지, QM5, 티구안급 등)  "
            ],
            "text/html": [
              "\n",
              "  <div id=\"df-33962fd6-c513-41f9-84e3-6628e078f916\">\n",
              "    <div class=\"colab-df-container\">\n",
              "      <div>\n",
              "<style scoped>\n",
              "    .dataframe tbody tr th:only-of-type {\n",
              "        vertical-align: middle;\n",
              "    }\n",
              "\n",
              "    .dataframe tbody tr th {\n",
              "        vertical-align: top;\n",
              "    }\n",
              "\n",
              "    .dataframe thead th {\n",
              "        text-align: right;\n",
              "    }\n",
              "</style>\n",
              "<table border=\"1\" class=\"dataframe\">\n",
              "  <thead>\n",
              "    <tr style=\"text-align: right;\">\n",
              "      <th></th>\n",
              "      <th>재해</th>\n",
              "      <th>사이트제목</th>\n",
              "      <th>성별</th>\n",
              "      <th>연령</th>\n",
              "      <th>직업</th>\n",
              "      <th>소득</th>\n",
              "      <th>결혼</th>\n",
              "      <th>자녀</th>\n",
              "      <th>주거</th>\n",
              "      <th>시도</th>\n",
              "      <th>구</th>\n",
              "      <th>동</th>\n",
              "      <th>자동차</th>\n",
              "    </tr>\n",
              "  </thead>\n",
              "  <tbody>\n",
              "    <tr>\n",
              "      <th>2</th>\n",
              "      <td>산림재해</td>\n",
              "      <td>산악기상관측망…산림재해예측정밀도높인다</td>\n",
              "      <td>M</td>\n",
              "      <td>3</td>\n",
              "      <td>사무직 (일반사무직, 공무원, 직업군인)</td>\n",
              "      <td>500~599만원</td>\n",
              "      <td>예</td>\n",
              "      <td>자녀 있음</td>\n",
              "      <td>연립주택/ 다세대/ 빌라</td>\n",
              "      <td>경기</td>\n",
              "      <td>성남시 중원구</td>\n",
              "      <td>중동</td>\n",
              "      <td>준중형차 (아반떼, K3, 크루즈, 제타급 등)</td>\n",
              "    </tr>\n",
              "    <tr>\n",
              "      <th>9</th>\n",
              "      <td>산림재해</td>\n",
              "      <td>산림재해예방을위한하늘의눈,강릉산림항공관리소드론산불예방훈련실시</td>\n",
              "      <td>F</td>\n",
              "      <td>3</td>\n",
              "      <td>사무직 (일반사무직, 공무원, 직업군인)</td>\n",
              "      <td>300~399만원</td>\n",
              "      <td>예</td>\n",
              "      <td>자녀 없음</td>\n",
              "      <td>연립주택/ 다세대/ 빌라</td>\n",
              "      <td>서울</td>\n",
              "      <td>동작구</td>\n",
              "      <td>상도4동</td>\n",
              "      <td>NaN</td>\n",
              "    </tr>\n",
              "    <tr>\n",
              "      <th>10</th>\n",
              "      <td>산사태</td>\n",
              "      <td>청도태양광산사태/조선일보</td>\n",
              "      <td>F</td>\n",
              "      <td>2</td>\n",
              "      <td>주부 (전업주부, 파트타임 근무 주부)</td>\n",
              "      <td>400~499만원</td>\n",
              "      <td>예</td>\n",
              "      <td>자녀 있음</td>\n",
              "      <td>아파트/ 주상복합</td>\n",
              "      <td>전남</td>\n",
              "      <td>목포시</td>\n",
              "      <td>옥암동</td>\n",
              "      <td>NaN</td>\n",
              "    </tr>\n",
              "    <tr>\n",
              "      <th>12</th>\n",
              "      <td>산사태</td>\n",
              "      <td>&lt;산사태대비하기&gt;산사태이렇게대비하자!</td>\n",
              "      <td>F</td>\n",
              "      <td>3</td>\n",
              "      <td>전문직 (의사, 판검사, 예술가, 종교인)</td>\n",
              "      <td>600~699만원</td>\n",
              "      <td>예</td>\n",
              "      <td>자녀 있음</td>\n",
              "      <td>단독주택</td>\n",
              "      <td>서울</td>\n",
              "      <td>강서구</td>\n",
              "      <td>화곡1동</td>\n",
              "      <td>준중형SUV (투싼, 스포티지, QM5, 티구안급 등)</td>\n",
              "    </tr>\n",
              "    <tr>\n",
              "      <th>13</th>\n",
              "      <td>산림재해</td>\n",
              "      <td>여름철산림재해예방을위한산사태대책상황실가동!</td>\n",
              "      <td>F</td>\n",
              "      <td>2</td>\n",
              "      <td>사무직 (일반사무직, 공무원, 직업군인)</td>\n",
              "      <td>1,000만원 이상</td>\n",
              "      <td>아니오</td>\n",
              "      <td></td>\n",
              "      <td>아파트/ 주상복합</td>\n",
              "      <td>서울</td>\n",
              "      <td>송파구</td>\n",
              "      <td>잠실동</td>\n",
              "      <td>준중형SUV (투싼, 스포티지, QM5, 티구안급 등)</td>\n",
              "    </tr>\n",
              "  </tbody>\n",
              "</table>\n",
              "</div>\n",
              "      <button class=\"colab-df-convert\" onclick=\"convertToInteractive('df-33962fd6-c513-41f9-84e3-6628e078f916')\"\n",
              "              title=\"Convert this dataframe to an interactive table.\"\n",
              "              style=\"display:none;\">\n",
              "        \n",
              "  <svg xmlns=\"http://www.w3.org/2000/svg\" height=\"24px\"viewBox=\"0 0 24 24\"\n",
              "       width=\"24px\">\n",
              "    <path d=\"M0 0h24v24H0V0z\" fill=\"none\"/>\n",
              "    <path d=\"M18.56 5.44l.94 2.06.94-2.06 2.06-.94-2.06-.94-.94-2.06-.94 2.06-2.06.94zm-11 1L8.5 8.5l.94-2.06 2.06-.94-2.06-.94L8.5 2.5l-.94 2.06-2.06.94zm10 10l.94 2.06.94-2.06 2.06-.94-2.06-.94-.94-2.06-.94 2.06-2.06.94z\"/><path d=\"M17.41 7.96l-1.37-1.37c-.4-.4-.92-.59-1.43-.59-.52 0-1.04.2-1.43.59L10.3 9.45l-7.72 7.72c-.78.78-.78 2.05 0 2.83L4 21.41c.39.39.9.59 1.41.59.51 0 1.02-.2 1.41-.59l7.78-7.78 2.81-2.81c.8-.78.8-2.07 0-2.86zM5.41 20L4 18.59l7.72-7.72 1.47 1.35L5.41 20z\"/>\n",
              "  </svg>\n",
              "      </button>\n",
              "      \n",
              "  <style>\n",
              "    .colab-df-container {\n",
              "      display:flex;\n",
              "      flex-wrap:wrap;\n",
              "      gap: 12px;\n",
              "    }\n",
              "\n",
              "    .colab-df-convert {\n",
              "      background-color: #E8F0FE;\n",
              "      border: none;\n",
              "      border-radius: 50%;\n",
              "      cursor: pointer;\n",
              "      display: none;\n",
              "      fill: #1967D2;\n",
              "      height: 32px;\n",
              "      padding: 0 0 0 0;\n",
              "      width: 32px;\n",
              "    }\n",
              "\n",
              "    .colab-df-convert:hover {\n",
              "      background-color: #E2EBFA;\n",
              "      box-shadow: 0px 1px 2px rgba(60, 64, 67, 0.3), 0px 1px 3px 1px rgba(60, 64, 67, 0.15);\n",
              "      fill: #174EA6;\n",
              "    }\n",
              "\n",
              "    [theme=dark] .colab-df-convert {\n",
              "      background-color: #3B4455;\n",
              "      fill: #D2E3FC;\n",
              "    }\n",
              "\n",
              "    [theme=dark] .colab-df-convert:hover {\n",
              "      background-color: #434B5C;\n",
              "      box-shadow: 0px 1px 3px 1px rgba(0, 0, 0, 0.15);\n",
              "      filter: drop-shadow(0px 1px 2px rgba(0, 0, 0, 0.3));\n",
              "      fill: #FFFFFF;\n",
              "    }\n",
              "  </style>\n",
              "\n",
              "      <script>\n",
              "        const buttonEl =\n",
              "          document.querySelector('#df-33962fd6-c513-41f9-84e3-6628e078f916 button.colab-df-convert');\n",
              "        buttonEl.style.display =\n",
              "          google.colab.kernel.accessAllowed ? 'block' : 'none';\n",
              "\n",
              "        async function convertToInteractive(key) {\n",
              "          const element = document.querySelector('#df-33962fd6-c513-41f9-84e3-6628e078f916');\n",
              "          const dataTable =\n",
              "            await google.colab.kernel.invokeFunction('convertToInteractive',\n",
              "                                                     [key], {});\n",
              "          if (!dataTable) return;\n",
              "\n",
              "          const docLinkHtml = 'Like what you see? Visit the ' +\n",
              "            '<a target=\"_blank\" href=https://colab.research.google.com/notebooks/data_table.ipynb>data table notebook</a>'\n",
              "            + ' to learn more about interactive tables.';\n",
              "          element.innerHTML = '';\n",
              "          dataTable['output_type'] = 'display_data';\n",
              "          await google.colab.output.renderOutput(dataTable, element);\n",
              "          const docLink = document.createElement('div');\n",
              "          docLink.innerHTML = docLinkHtml;\n",
              "          element.appendChild(docLink);\n",
              "        }\n",
              "      </script>\n",
              "    </div>\n",
              "  </div>\n",
              "  "
            ]
          },
          "metadata": {},
          "execution_count": 11
        }
      ]
    },
    {
      "cell_type": "markdown",
      "source": [
        "### 230대 성별"
      ],
      "metadata": {
        "id": "7082Q-e7w-bC"
      }
    },
    {
      "cell_type": "code",
      "source": [
        "sex_counts = df1_23['성별'].value_counts()\n",
        "sex_counts"
      ],
      "metadata": {
        "colab": {
          "base_uri": "https://localhost:8080/"
        },
        "id": "1YUYo0IJDyLt",
        "outputId": "3cb531f0-699f-4742-daab-4ef89b614bbb"
      },
      "execution_count": null,
      "outputs": [
        {
          "output_type": "execute_result",
          "data": {
            "text/plain": [
              "F    4265\n",
              "M    3603\n",
              "Name: 성별, dtype: int64"
            ]
          },
          "metadata": {},
          "execution_count": 12
        }
      ]
    },
    {
      "cell_type": "code",
      "source": [
        "round(sex_counts.loc['F'] / sex_counts.sum() * 100 , 1),\\\n",
        "round(sex_counts.loc['M'] / sex_counts.sum() * 100 , 1)"
      ],
      "metadata": {
        "colab": {
          "base_uri": "https://localhost:8080/"
        },
        "id": "mmykcmq4rbk_",
        "outputId": "2f3ecb63-2828-4bca-8769-901802b4919c"
      },
      "execution_count": null,
      "outputs": [
        {
          "output_type": "execute_result",
          "data": {
            "text/plain": [
              "(54.2, 45.8)"
            ]
          },
          "metadata": {},
          "execution_count": 13
        }
      ]
    },
    {
      "cell_type": "markdown",
      "source": [
        "### 230대 직업"
      ],
      "metadata": {
        "id": "1Kzp-toTr7_x"
      }
    },
    {
      "cell_type": "code",
      "source": [
        "df1_23['직업'].notnull().sum(), df1_23['소득'].notnull().sum()"
      ],
      "metadata": {
        "colab": {
          "base_uri": "https://localhost:8080/"
        },
        "id": "kGwbriHbCdTb",
        "outputId": "b78d4af5-a227-4c27-f6d9-83db02e56380"
      },
      "execution_count": null,
      "outputs": [
        {
          "output_type": "execute_result",
          "data": {
            "text/plain": [
              "(6271, 6269)"
            ]
          },
          "metadata": {},
          "execution_count": 14
        }
      ]
    },
    {
      "cell_type": "code",
      "source": [
        "job_counts = df1_23['직업'].value_counts()\n",
        "job_counts"
      ],
      "metadata": {
        "colab": {
          "base_uri": "https://localhost:8080/"
        },
        "id": "QsaUaF-7s3ac",
        "outputId": "b07b5839-e66e-45f1-eaec-e36730d7324f"
      },
      "execution_count": null,
      "outputs": [
        {
          "output_type": "execute_result",
          "data": {
            "text/plain": [
              "사무직 (일반사무직, 공무원, 직업군인)             2509\n",
              "학생 (초중고학생, 대학생, 대학원생)               986\n",
              "주부 (전업주부, 파트타임 근무 주부)               736\n",
              "전문직 (의사, 판검사, 예술가, 종교인)             464\n",
              "무직                                  406\n",
              "교직 (교사, 유치원교사, 학원강사)                264\n",
              "서비스직 (요식업, 숙박업, 미용실종업원)             186\n",
              "자영업 (도소매업, 숙박업, 미용업)                164\n",
              "기타                                  149\n",
              "생산/노무직 (생산감독, 경비원, 공장근로자)           144\n",
              "기능직 (자동차정비, 운전기사, 안경사, 택시기사)        100\n",
              "판매직 (상점점원, 보험설계사, 노점상)               77\n",
              "관리직 (사장, 간부, 고위공무원)                  63\n",
              "퇴직/연금생활자                             15\n",
              "농/축/광/수산업 (축산, 낙농업, 수산, 임업, 광업)       8\n",
              "Name: 직업, dtype: int64"
            ]
          },
          "metadata": {},
          "execution_count": 15
        }
      ]
    },
    {
      "cell_type": "code",
      "source": [
        "drop_jobs = job_counts[job_counts.index.str.contains('학생|퇴직|주부')]\n",
        "drop_jobs"
      ],
      "metadata": {
        "colab": {
          "base_uri": "https://localhost:8080/"
        },
        "id": "AgH1qBUSs7EH",
        "outputId": "df376c86-3338-4522-9acd-3d88a29991fb"
      },
      "execution_count": null,
      "outputs": [
        {
          "output_type": "execute_result",
          "data": {
            "text/plain": [
              "학생 (초중고학생, 대학생, 대학원생)    986\n",
              "주부 (전업주부, 파트타임 근무 주부)    736\n",
              "퇴직/연금생활자                  15\n",
              "Name: 직업, dtype: int64"
            ]
          },
          "metadata": {},
          "execution_count": 16
        }
      ]
    },
    {
      "cell_type": "code",
      "source": [
        "round((job_counts.sum() - drop_jobs.sum() - job_counts['무직']) / len(df1_23) * 100, 1),\\\n",
        "job_counts.sum() - drop_jobs.sum() - job_counts['무직']"
      ],
      "metadata": {
        "colab": {
          "base_uri": "https://localhost:8080/"
        },
        "id": "91JWewIptKJj",
        "outputId": "3fd943b0-4aca-4ed2-d53d-901762c11672"
      },
      "execution_count": null,
      "outputs": [
        {
          "output_type": "execute_result",
          "data": {
            "text/plain": [
              "(52.5, 4128)"
            ]
          },
          "metadata": {},
          "execution_count": 17
        }
      ]
    },
    {
      "cell_type": "code",
      "source": [
        "job2_counts = df1_2['직업'].value_counts()\n",
        "job3_counts = df1_3['직업'].value_counts()"
      ],
      "metadata": {
        "id": "kxQnZbBuujHJ"
      },
      "execution_count": null,
      "outputs": []
    },
    {
      "cell_type": "code",
      "source": [
        "drop2_jobs = job2_counts[job2_counts.index.str.contains('학생|퇴직|주부')]\n",
        "drop3_jobs = job3_counts[job3_counts.index.str.contains('학생|퇴직|주부')]\n",
        "drop3_jobs"
      ],
      "metadata": {
        "colab": {
          "base_uri": "https://localhost:8080/"
        },
        "id": "OAiHSAVGtKGF",
        "outputId": "50b74dd4-0857-47ed-b943-59db78c85c13"
      },
      "execution_count": null,
      "outputs": [
        {
          "output_type": "execute_result",
          "data": {
            "text/plain": [
              "주부 (전업주부, 파트타임 근무 주부)    708\n",
              "학생 (초중고학생, 대학생, 대학원생)     63\n",
              "퇴직/연금생활자                  10\n",
              "Name: 직업, dtype: int64"
            ]
          },
          "metadata": {},
          "execution_count": 19
        }
      ]
    },
    {
      "cell_type": "code",
      "source": [
        "round((job2_counts.sum() - drop2_jobs.sum() - job2_counts['무직']) / len(df1_23) * 100, 1),\\\n",
        "job2_counts.sum() - drop2_jobs.sum() - job2_counts['무직'],\\\n",
        "round((job3_counts.sum() - drop3_jobs.sum() - job3_counts['무직']) / len(df1_23) * 100, 1),\\\n",
        "job3_counts.sum() - drop3_jobs.sum() - job3_counts['무직']"
      ],
      "metadata": {
        "colab": {
          "base_uri": "https://localhost:8080/"
        },
        "id": "wptWgYKhu_La",
        "outputId": "96753100-a768-4ea7-b115-646f4aed277a"
      },
      "execution_count": null,
      "outputs": [
        {
          "output_type": "execute_result",
          "data": {
            "text/plain": [
              "(10.5, 827, 42.0, 3301)"
            ]
          },
          "metadata": {},
          "execution_count": 20
        }
      ]
    },
    {
      "cell_type": "markdown",
      "source": [
        "### 230대 자동차"
      ],
      "metadata": {
        "id": "FUPfNghvvwH1"
      }
    },
    {
      "cell_type": "code",
      "source": [
        "car_counts = df1_23['자동차'].value_counts()\n",
        "car_counts"
      ],
      "metadata": {
        "colab": {
          "base_uri": "https://localhost:8080/"
        },
        "id": "sE3CR3rnu_Hl",
        "outputId": "0aaccb69-9625-454b-de8d-3e2048394f32"
      },
      "execution_count": null,
      "outputs": [
        {
          "output_type": "execute_result",
          "data": {
            "text/plain": [
              "준중형차 (아반떼, K3, 크루즈, 제타급 등)          765\n",
              "중형차 (쏘나타, K5, 말리부, 골프급 등)           639\n",
              "경차 (모닝, 스파크 등)                      487\n",
              "중형SUV (싼타페, 쏘렌토, 캡티바, BMW X3급 등)    226\n",
              "준중형SUV (투싼, 스포티지, QM5, 티구안급 등)      223\n",
              "준대형차 (그랜저, K7, 알페온, 캠리급, 파사트급 등)    220\n",
              "소형SUV/CUV (티볼리, QM3 등)              110\n",
              "소형차 (액센트, 프라이드, 아베오, 피아트급 등)         94\n",
              "MPV (카니발, 올란도, 피카소급, 오딧세이 등)         93\n",
              "대형SUV (베라크루즈, 모하비, 투아렉급 등)           75\n",
              "대형차 (제너시스, BMW5급 등)                  75\n",
              "준중형파생 (벨로스터, I30 등)                  27\n",
              "스포츠 (제네시스 쿠페, BMW M, 벤츠 AMG 등)       26\n",
              "기타 (승합차/트럭/화물차/기타 차량 등)              24\n",
              "프리미엄 (에쿠스, BMW7급 등)                   8\n",
              "중형파생 (I40 등)                          1\n",
              "Name: 자동차, dtype: int64"
            ]
          },
          "metadata": {},
          "execution_count": 21
        }
      ]
    },
    {
      "cell_type": "code",
      "source": [
        "round(car_counts.sum() / len(df1_23) * 100, 1),\\\n",
        "car_counts.sum()"
      ],
      "metadata": {
        "colab": {
          "base_uri": "https://localhost:8080/"
        },
        "id": "BAhsMFO1u_DM",
        "outputId": "fc7923da-6daa-4ec6-d7d3-f6ad5a9f55cd"
      },
      "execution_count": null,
      "outputs": [
        {
          "output_type": "execute_result",
          "data": {
            "text/plain": [
              "(39.3, 3093)"
            ]
          },
          "metadata": {},
          "execution_count": 22
        }
      ]
    },
    {
      "cell_type": "code",
      "source": [
        "car2_counts = df1_2['자동차'].value_counts()\n",
        "car3_counts = df1_3['자동차'].value_counts()\n",
        "\n",
        "round(car2_counts.sum() / len(df1_23) * 100, 1),\\\n",
        "car2_counts.sum(),\\\n",
        "round(car3_counts.sum() / len(df1_23) * 100, 1),\\\n",
        "car3_counts.sum()"
      ],
      "metadata": {
        "colab": {
          "base_uri": "https://localhost:8080/"
        },
        "id": "ZNbPkbaPwL2c",
        "outputId": "550aa249-1c2e-4b18-932f-a080ade7efb2"
      },
      "execution_count": null,
      "outputs": [
        {
          "output_type": "execute_result",
          "data": {
            "text/plain": [
              "(7.2, 570, 32.1, 2523)"
            ]
          },
          "metadata": {},
          "execution_count": 23
        }
      ]
    },
    {
      "cell_type": "markdown",
      "source": [
        "### 230대 거주지"
      ],
      "metadata": {
        "id": "AcjjTKbDwLyR"
      }
    },
    {
      "cell_type": "code",
      "source": [
        "df1_23['시도'].value_counts()[:5],\\\n",
        "df1_2['시도'].value_counts()[:5],\\\n",
        "df1_3['시도'].value_counts()[:5]"
      ],
      "metadata": {
        "colab": {
          "base_uri": "https://localhost:8080/"
        },
        "id": "_tqKqb6exF-H",
        "outputId": "4e3f4788-6cbc-4261-cb4f-2b99423a6800"
      },
      "execution_count": null,
      "outputs": [
        {
          "output_type": "execute_result",
          "data": {
            "text/plain": [
              "(서울    2441\n",
              " 경기    1918\n",
              " 부산     696\n",
              " 인천     481\n",
              " 대구     329\n",
              " Name: 시도, dtype: int64,\n",
              " 서울    874\n",
              " 경기    646\n",
              " 부산    244\n",
              " 인천    158\n",
              " 대구    136\n",
              " Name: 시도, dtype: int64,\n",
              " 서울    1567\n",
              " 경기    1272\n",
              " 부산     452\n",
              " 인천     323\n",
              " 충남     231\n",
              " Name: 시도, dtype: int64)"
            ]
          },
          "metadata": {},
          "execution_count": 24
        }
      ]
    },
    {
      "cell_type": "code",
      "source": [
        "df1_23[df1_23['시도'] == \"서울\"]['재해'].value_counts()[:6],\\\n",
        "df1_2[df1_2['시도'] == \"서울\"]['재해'].value_counts()[:6],\\\n",
        "df1_3[df1_3['시도'] == \"서울\"]['재해'].value_counts()[:6]"
      ],
      "metadata": {
        "colab": {
          "base_uri": "https://localhost:8080/"
        },
        "id": "e8FcTHQvxjIh",
        "outputId": "8a959bb2-a6b3-4d54-95ba-6fbde135737c"
      },
      "execution_count": null,
      "outputs": [
        {
          "output_type": "execute_result",
          "data": {
            "text/plain": [
              "(산불      1305\n",
              " 산사태      419\n",
              " 산림재해     384\n",
              " 병해충      332\n",
              " 재선충        1\n",
              " Name: 재해, dtype: int64,\n",
              " 산불      399\n",
              " 산림재해    172\n",
              " 산사태     164\n",
              " 병해충     139\n",
              " Name: 재해, dtype: int64,\n",
              " 산불      906\n",
              " 산사태     255\n",
              " 산림재해    212\n",
              " 병해충     193\n",
              " 재선충       1\n",
              " Name: 재해, dtype: int64)"
            ]
          },
          "metadata": {},
          "execution_count": 25
        }
      ]
    },
    {
      "cell_type": "code",
      "source": [
        "df1_1456['시도'].value_counts()[:5],\\\n",
        "df1_1456[df1_1456['시도'] == \"서울\"]['재해'].value_counts()[:6]"
      ],
      "metadata": {
        "colab": {
          "base_uri": "https://localhost:8080/"
        },
        "id": "W6esjYOwxzSb",
        "outputId": "bbee5767-a186-4bb6-980d-2727f485243a"
      },
      "execution_count": null,
      "outputs": [
        {
          "output_type": "execute_result",
          "data": {
            "text/plain": [
              "(서울    2464\n",
              " 경기    1818\n",
              " 부산     461\n",
              " 인천     346\n",
              " 대구     313\n",
              " Name: 시도, dtype: int64,\n",
              " 산불      1396\n",
              " 산사태      409\n",
              " 산림재해     337\n",
              " 병해충      316\n",
              " 재선충        6\n",
              " Name: 재해, dtype: int64)"
            ]
          },
          "metadata": {},
          "execution_count": 26
        }
      ]
    },
    {
      "cell_type": "markdown",
      "source": [
        "# df2 : 산림대피소 관심인구 정보 (Total : 2,302)"
      ],
      "metadata": {
        "id": "4oWbjXgyxjFt"
      }
    },
    {
      "cell_type": "code",
      "source": [
        "len(df2)"
      ],
      "metadata": {
        "colab": {
          "base_uri": "https://localhost:8080/"
        },
        "id": "wFtfAYc4QUqi",
        "outputId": "c8494274-571f-485d-d448-0aea5e15730c"
      },
      "execution_count": null,
      "outputs": [
        {
          "output_type": "execute_result",
          "data": {
            "text/plain": [
              "2302"
            ]
          },
          "metadata": {},
          "execution_count": 27
        }
      ]
    },
    {
      "cell_type": "code",
      "source": [
        "df2.head()"
      ],
      "metadata": {
        "colab": {
          "base_uri": "https://localhost:8080/",
          "height": 354
        },
        "id": "iXbkYWF7zheN",
        "outputId": "9e123035-7b0e-4851-fa5e-65a88bbe418b"
      },
      "execution_count": null,
      "outputs": [
        {
          "output_type": "execute_result",
          "data": {
            "text/plain": [
              "        대피소                                              사이트제목 성별  연령  \\\n",
              "0   덕유산 향적봉                           무주 덕유산국립공원의 1박2일과 향적봉대피소  M   4   \n",
              "1  한라산 진달래밭              #성판악 #속대밭대피소 #사라오름 #진달래밭대피소 #한라산 #백록담  M   3   \n",
              "2   지리산 노고단  #오스프리 #AURA #xCREW #기어리뷰어 지리산 노고단 대피소 1박 2일 _2...  M   4   \n",
              "3   한라산 삼각봉    제주도 한라산 5 산우물 4월 산행 한라산 삼각봉 대피소 개미등 탐라계곡 육교 관음사  M   5   \n",
              "4   덕유산 향적봉           덕유산 ( 德裕山 ) 야생화 트레킹 3 ( 설천봉 ~ 향적봉 대피소 )   M   4   \n",
              "\n",
              "                             직업         소득      결혼          자녀         주거  시도  \\\n",
              "0                           NaN        NaN                            NaN  서울   \n",
              "1                           NaN        NaN                            NaN  경북   \n",
              "2                           NaN        NaN                            NaN  광주   \n",
              "3           관리직 (사장, 간부, 고위공무원)  800~899만원   예          자녀 있음   아파트/ 주상복합  서울   \n",
              "4  기능직 (자동차정비, 운전기사, 안경사, 택시기사)  200~299만원   예          자녀 없음   아파트/ 주상복합  인천   \n",
              "\n",
              "     구      동                         자동차  \n",
              "0  성동구  금호동3가                         NaN  \n",
              "1  영주시    풍기읍                         NaN  \n",
              "2   북구   두암1동                         NaN  \n",
              "3  관악구    봉천동   중형차 (쏘나타, K5, 말리부, 골프급 등)  \n",
              "4  부평구   부평1동  대형SUV (베라크루즈, 모하비, 투아렉급 등)  "
            ],
            "text/html": [
              "\n",
              "  <div id=\"df-59575dc8-5b45-40f2-82ce-cdb091150702\">\n",
              "    <div class=\"colab-df-container\">\n",
              "      <div>\n",
              "<style scoped>\n",
              "    .dataframe tbody tr th:only-of-type {\n",
              "        vertical-align: middle;\n",
              "    }\n",
              "\n",
              "    .dataframe tbody tr th {\n",
              "        vertical-align: top;\n",
              "    }\n",
              "\n",
              "    .dataframe thead th {\n",
              "        text-align: right;\n",
              "    }\n",
              "</style>\n",
              "<table border=\"1\" class=\"dataframe\">\n",
              "  <thead>\n",
              "    <tr style=\"text-align: right;\">\n",
              "      <th></th>\n",
              "      <th>대피소</th>\n",
              "      <th>사이트제목</th>\n",
              "      <th>성별</th>\n",
              "      <th>연령</th>\n",
              "      <th>직업</th>\n",
              "      <th>소득</th>\n",
              "      <th>결혼</th>\n",
              "      <th>자녀</th>\n",
              "      <th>주거</th>\n",
              "      <th>시도</th>\n",
              "      <th>구</th>\n",
              "      <th>동</th>\n",
              "      <th>자동차</th>\n",
              "    </tr>\n",
              "  </thead>\n",
              "  <tbody>\n",
              "    <tr>\n",
              "      <th>0</th>\n",
              "      <td>덕유산 향적봉</td>\n",
              "      <td>무주 덕유산국립공원의 1박2일과 향적봉대피소</td>\n",
              "      <td>M</td>\n",
              "      <td>4</td>\n",
              "      <td>NaN</td>\n",
              "      <td>NaN</td>\n",
              "      <td></td>\n",
              "      <td></td>\n",
              "      <td>NaN</td>\n",
              "      <td>서울</td>\n",
              "      <td>성동구</td>\n",
              "      <td>금호동3가</td>\n",
              "      <td>NaN</td>\n",
              "    </tr>\n",
              "    <tr>\n",
              "      <th>1</th>\n",
              "      <td>한라산 진달래밭</td>\n",
              "      <td>#성판악 #속대밭대피소 #사라오름 #진달래밭대피소 #한라산 #백록담</td>\n",
              "      <td>M</td>\n",
              "      <td>3</td>\n",
              "      <td>NaN</td>\n",
              "      <td>NaN</td>\n",
              "      <td></td>\n",
              "      <td></td>\n",
              "      <td>NaN</td>\n",
              "      <td>경북</td>\n",
              "      <td>영주시</td>\n",
              "      <td>풍기읍</td>\n",
              "      <td>NaN</td>\n",
              "    </tr>\n",
              "    <tr>\n",
              "      <th>2</th>\n",
              "      <td>지리산 노고단</td>\n",
              "      <td>#오스프리 #AURA #xCREW #기어리뷰어 지리산 노고단 대피소 1박 2일 _2...</td>\n",
              "      <td>M</td>\n",
              "      <td>4</td>\n",
              "      <td>NaN</td>\n",
              "      <td>NaN</td>\n",
              "      <td></td>\n",
              "      <td></td>\n",
              "      <td>NaN</td>\n",
              "      <td>광주</td>\n",
              "      <td>북구</td>\n",
              "      <td>두암1동</td>\n",
              "      <td>NaN</td>\n",
              "    </tr>\n",
              "    <tr>\n",
              "      <th>3</th>\n",
              "      <td>한라산 삼각봉</td>\n",
              "      <td>제주도 한라산 5 산우물 4월 산행 한라산 삼각봉 대피소 개미등 탐라계곡 육교 관음사</td>\n",
              "      <td>M</td>\n",
              "      <td>5</td>\n",
              "      <td>관리직 (사장, 간부, 고위공무원)</td>\n",
              "      <td>800~899만원</td>\n",
              "      <td>예</td>\n",
              "      <td>자녀 있음</td>\n",
              "      <td>아파트/ 주상복합</td>\n",
              "      <td>서울</td>\n",
              "      <td>관악구</td>\n",
              "      <td>봉천동</td>\n",
              "      <td>중형차 (쏘나타, K5, 말리부, 골프급 등)</td>\n",
              "    </tr>\n",
              "    <tr>\n",
              "      <th>4</th>\n",
              "      <td>덕유산 향적봉</td>\n",
              "      <td>덕유산 ( 德裕山 ) 야생화 트레킹 3 ( 설천봉 ~ 향적봉 대피소 )</td>\n",
              "      <td>M</td>\n",
              "      <td>4</td>\n",
              "      <td>기능직 (자동차정비, 운전기사, 안경사, 택시기사)</td>\n",
              "      <td>200~299만원</td>\n",
              "      <td>예</td>\n",
              "      <td>자녀 없음</td>\n",
              "      <td>아파트/ 주상복합</td>\n",
              "      <td>인천</td>\n",
              "      <td>부평구</td>\n",
              "      <td>부평1동</td>\n",
              "      <td>대형SUV (베라크루즈, 모하비, 투아렉급 등)</td>\n",
              "    </tr>\n",
              "  </tbody>\n",
              "</table>\n",
              "</div>\n",
              "      <button class=\"colab-df-convert\" onclick=\"convertToInteractive('df-59575dc8-5b45-40f2-82ce-cdb091150702')\"\n",
              "              title=\"Convert this dataframe to an interactive table.\"\n",
              "              style=\"display:none;\">\n",
              "        \n",
              "  <svg xmlns=\"http://www.w3.org/2000/svg\" height=\"24px\"viewBox=\"0 0 24 24\"\n",
              "       width=\"24px\">\n",
              "    <path d=\"M0 0h24v24H0V0z\" fill=\"none\"/>\n",
              "    <path d=\"M18.56 5.44l.94 2.06.94-2.06 2.06-.94-2.06-.94-.94-2.06-.94 2.06-2.06.94zm-11 1L8.5 8.5l.94-2.06 2.06-.94-2.06-.94L8.5 2.5l-.94 2.06-2.06.94zm10 10l.94 2.06.94-2.06 2.06-.94-2.06-.94-.94-2.06-.94 2.06-2.06.94z\"/><path d=\"M17.41 7.96l-1.37-1.37c-.4-.4-.92-.59-1.43-.59-.52 0-1.04.2-1.43.59L10.3 9.45l-7.72 7.72c-.78.78-.78 2.05 0 2.83L4 21.41c.39.39.9.59 1.41.59.51 0 1.02-.2 1.41-.59l7.78-7.78 2.81-2.81c.8-.78.8-2.07 0-2.86zM5.41 20L4 18.59l7.72-7.72 1.47 1.35L5.41 20z\"/>\n",
              "  </svg>\n",
              "      </button>\n",
              "      \n",
              "  <style>\n",
              "    .colab-df-container {\n",
              "      display:flex;\n",
              "      flex-wrap:wrap;\n",
              "      gap: 12px;\n",
              "    }\n",
              "\n",
              "    .colab-df-convert {\n",
              "      background-color: #E8F0FE;\n",
              "      border: none;\n",
              "      border-radius: 50%;\n",
              "      cursor: pointer;\n",
              "      display: none;\n",
              "      fill: #1967D2;\n",
              "      height: 32px;\n",
              "      padding: 0 0 0 0;\n",
              "      width: 32px;\n",
              "    }\n",
              "\n",
              "    .colab-df-convert:hover {\n",
              "      background-color: #E2EBFA;\n",
              "      box-shadow: 0px 1px 2px rgba(60, 64, 67, 0.3), 0px 1px 3px 1px rgba(60, 64, 67, 0.15);\n",
              "      fill: #174EA6;\n",
              "    }\n",
              "\n",
              "    [theme=dark] .colab-df-convert {\n",
              "      background-color: #3B4455;\n",
              "      fill: #D2E3FC;\n",
              "    }\n",
              "\n",
              "    [theme=dark] .colab-df-convert:hover {\n",
              "      background-color: #434B5C;\n",
              "      box-shadow: 0px 1px 3px 1px rgba(0, 0, 0, 0.15);\n",
              "      filter: drop-shadow(0px 1px 2px rgba(0, 0, 0, 0.3));\n",
              "      fill: #FFFFFF;\n",
              "    }\n",
              "  </style>\n",
              "\n",
              "      <script>\n",
              "        const buttonEl =\n",
              "          document.querySelector('#df-59575dc8-5b45-40f2-82ce-cdb091150702 button.colab-df-convert');\n",
              "        buttonEl.style.display =\n",
              "          google.colab.kernel.accessAllowed ? 'block' : 'none';\n",
              "\n",
              "        async function convertToInteractive(key) {\n",
              "          const element = document.querySelector('#df-59575dc8-5b45-40f2-82ce-cdb091150702');\n",
              "          const dataTable =\n",
              "            await google.colab.kernel.invokeFunction('convertToInteractive',\n",
              "                                                     [key], {});\n",
              "          if (!dataTable) return;\n",
              "\n",
              "          const docLinkHtml = 'Like what you see? Visit the ' +\n",
              "            '<a target=\"_blank\" href=https://colab.research.google.com/notebooks/data_table.ipynb>data table notebook</a>'\n",
              "            + ' to learn more about interactive tables.';\n",
              "          element.innerHTML = '';\n",
              "          dataTable['output_type'] = 'display_data';\n",
              "          await google.colab.output.renderOutput(dataTable, element);\n",
              "          const docLink = document.createElement('div');\n",
              "          docLink.innerHTML = docLinkHtml;\n",
              "          element.appendChild(docLink);\n",
              "        }\n",
              "      </script>\n",
              "    </div>\n",
              "  </div>\n",
              "  "
            ]
          },
          "metadata": {},
          "execution_count": 28
        }
      ]
    },
    {
      "cell_type": "markdown",
      "source": [
        "### 연령"
      ],
      "metadata": {
        "id": "9hpLucPw0yP4"
      }
    },
    {
      "cell_type": "code",
      "source": [
        "age_counts = df2['연령'].value_counts()\n",
        "age_counts"
      ],
      "metadata": {
        "colab": {
          "base_uri": "https://localhost:8080/"
        },
        "id": "jG6UYrVnzjH6",
        "outputId": "f0aa50cc-7eef-4dda-b49a-5648b6ecef5e"
      },
      "execution_count": null,
      "outputs": [
        {
          "output_type": "execute_result",
          "data": {
            "text/plain": [
              "4    690\n",
              "3    643\n",
              "2    554\n",
              "5    415\n",
              "Name: 연령, dtype: int64"
            ]
          },
          "metadata": {},
          "execution_count": 29
        }
      ]
    },
    {
      "cell_type": "code",
      "source": [
        "age_counts.loc[[2,3]].sum(), round(age_counts.loc[[2,3]].sum() / age_counts.sum() * 100, 1),\\\n",
        "age_counts.loc[2], round(age_counts.loc[2] / age_counts.sum() * 100, 1),\\\n",
        "age_counts.loc[3], round(age_counts.loc[3] / age_counts.sum() * 100, 1),\\\n",
        "age_counts.drop([2,3]).sum(), round(age_counts.drop([2,3]).sum() / age_counts.sum() * 100, 1)"
      ],
      "metadata": {
        "colab": {
          "base_uri": "https://localhost:8080/"
        },
        "id": "BpOwyZVKzrvy",
        "outputId": "b6dc917c-b97c-481b-a518-e49134eb46d2"
      },
      "execution_count": null,
      "outputs": [
        {
          "output_type": "execute_result",
          "data": {
            "text/plain": [
              "(1197, 52.0, 554, 24.1, 643, 27.9, 1105, 48.0)"
            ]
          },
          "metadata": {},
          "execution_count": 30
        }
      ]
    },
    {
      "cell_type": "code",
      "source": [
        "df2_23 = df2[df2['연령'].isin([2, 3])]\n",
        "df2_2 = df2[(df2['연령'] == 2)]\n",
        "df2_3 = df2[(df2['연령'] == 3)]\n",
        "df2_1456 = df2[df2['연령'].isin([1, 4, 5, 6])]"
      ],
      "metadata": {
        "id": "OzeUIX2h1Rcf"
      },
      "execution_count": null,
      "outputs": []
    },
    {
      "cell_type": "markdown",
      "source": [
        "### 230대 성별"
      ],
      "metadata": {
        "id": "7b5NtDyRz9Tg"
      }
    },
    {
      "cell_type": "code",
      "source": [
        "sex_counts = df2_23['성별'].value_counts()\n",
        "sex_counts"
      ],
      "metadata": {
        "id": "ZnGEh4PN0xaH",
        "colab": {
          "base_uri": "https://localhost:8080/"
        },
        "outputId": "a75badc2-30cd-49ea-9e25-f69ef21c5256"
      },
      "execution_count": null,
      "outputs": [
        {
          "output_type": "execute_result",
          "data": {
            "text/plain": [
              "M    803\n",
              "F    394\n",
              "Name: 성별, dtype: int64"
            ]
          },
          "metadata": {},
          "execution_count": 32
        }
      ]
    },
    {
      "cell_type": "code",
      "source": [
        "round(sex_counts.loc['F'] / sex_counts.sum() * 100 , 1),\\\n",
        "round(sex_counts.loc['M'] / sex_counts.sum() * 100 , 1)"
      ],
      "metadata": {
        "colab": {
          "base_uri": "https://localhost:8080/"
        },
        "id": "4Ao8T5s21lJC",
        "outputId": "11610243-2b4e-428b-fa95-0815fcbc7c7c"
      },
      "execution_count": null,
      "outputs": [
        {
          "output_type": "execute_result",
          "data": {
            "text/plain": [
              "(32.9, 67.1)"
            ]
          },
          "metadata": {},
          "execution_count": 33
        }
      ]
    },
    {
      "cell_type": "markdown",
      "source": [
        "### 230대 직업"
      ],
      "metadata": {
        "id": "yoN8Y1y61rED"
      }
    },
    {
      "cell_type": "code",
      "source": [
        "job_counts = df2_23['직업'].value_counts()\n",
        "job_counts"
      ],
      "metadata": {
        "colab": {
          "base_uri": "https://localhost:8080/"
        },
        "id": "YEiiUZIe1xaW",
        "outputId": "fbe40143-0e27-4988-99fd-ce00293ebcb3"
      },
      "execution_count": null,
      "outputs": [
        {
          "output_type": "execute_result",
          "data": {
            "text/plain": [
              "사무직 (일반사무직, 공무원, 직업군인)             214\n",
              "학생 (초중고학생, 대학생, 대학원생)              123\n",
              "무직                                  39\n",
              "주부 (전업주부, 파트타임 근무 주부)               39\n",
              "전문직 (의사, 판검사, 예술가, 종교인)             38\n",
              "서비스직 (요식업, 숙박업, 미용실종업원)             36\n",
              "생산/노무직 (생산감독, 경비원, 공장근로자)           27\n",
              "기타                                  24\n",
              "자영업 (도소매업, 숙박업, 미용업)                22\n",
              "교직 (교사, 유치원교사, 학원강사)                22\n",
              "기능직 (자동차정비, 운전기사, 안경사, 택시기사)        15\n",
              "판매직 (상점점원, 보험설계사, 노점상)              13\n",
              "관리직 (사장, 간부, 고위공무원)                  5\n",
              "농/축/광/수산업 (축산, 낙농업, 수산, 임업, 광업)      4\n",
              "퇴직/연금생활자                             2\n",
              "Name: 직업, dtype: int64"
            ]
          },
          "metadata": {},
          "execution_count": 34
        }
      ]
    },
    {
      "cell_type": "code",
      "source": [
        "drop_jobs = job_counts[job_counts.index.str.contains('학생|퇴직|주부')]\n",
        "drop_jobs"
      ],
      "metadata": {
        "colab": {
          "base_uri": "https://localhost:8080/"
        },
        "id": "C6kMzItB11lG",
        "outputId": "5c2afc99-003a-4d91-b512-05f2d5a41f0a"
      },
      "execution_count": null,
      "outputs": [
        {
          "output_type": "execute_result",
          "data": {
            "text/plain": [
              "학생 (초중고학생, 대학생, 대학원생)    123\n",
              "주부 (전업주부, 파트타임 근무 주부)     39\n",
              "퇴직/연금생활자                   2\n",
              "Name: 직업, dtype: int64"
            ]
          },
          "metadata": {},
          "execution_count": 35
        }
      ]
    },
    {
      "cell_type": "code",
      "source": [
        "round((job_counts.sum() - drop_jobs.sum() - job_counts['무직']) / len(df2_23) * 100, 1),\\\n",
        "job_counts.sum() - drop_jobs.sum() - job_counts['무직']"
      ],
      "metadata": {
        "colab": {
          "base_uri": "https://localhost:8080/"
        },
        "id": "-TXHYHFd19qK",
        "outputId": "081de533-2e1c-43bb-95bc-d82ea565613f"
      },
      "execution_count": null,
      "outputs": [
        {
          "output_type": "execute_result",
          "data": {
            "text/plain": [
              "(35.1, 420)"
            ]
          },
          "metadata": {},
          "execution_count": 36
        }
      ]
    },
    {
      "cell_type": "code",
      "source": [
        "job2_counts = df2_2['직업'].value_counts()\n",
        "job3_counts = df2_3['직업'].value_counts()"
      ],
      "metadata": {
        "id": "F4zxy4jA2K7Q"
      },
      "execution_count": null,
      "outputs": []
    },
    {
      "cell_type": "code",
      "source": [
        "drop2_jobs = job2_counts[job2_counts.index.str.contains('학생|퇴직|주부')]\n",
        "drop3_jobs = job3_counts[job3_counts.index.str.contains('학생|퇴직|주부')]"
      ],
      "metadata": {
        "id": "hp4Y3zuC2Q5a"
      },
      "execution_count": null,
      "outputs": []
    },
    {
      "cell_type": "code",
      "source": [
        "round((job2_counts.sum() - drop2_jobs.sum() - job2_counts['무직']) / len(df2_23) * 100, 1),\\\n",
        "job2_counts.sum() - drop2_jobs.sum() - job2_counts['무직'],\\\n",
        "round((job3_counts.sum() - drop3_jobs.sum() - job3_counts['무직']) / len(df2_23) * 100, 1),\\\n",
        "job3_counts.sum() - drop3_jobs.sum() - job3_counts['무직']"
      ],
      "metadata": {
        "colab": {
          "base_uri": "https://localhost:8080/"
        },
        "id": "DREn5w822XMD",
        "outputId": "65c3c7a5-2965-44c7-f32f-dbdc54e893c3"
      },
      "execution_count": null,
      "outputs": [
        {
          "output_type": "execute_result",
          "data": {
            "text/plain": [
              "(9.0, 108, 26.1, 312)"
            ]
          },
          "metadata": {},
          "execution_count": 39
        }
      ]
    },
    {
      "cell_type": "markdown",
      "source": [
        "### 230대 자동차"
      ],
      "metadata": {
        "id": "jubiPu_l2g25"
      }
    },
    {
      "cell_type": "code",
      "source": [
        "car_counts = df2_23['자동차'].value_counts()\n",
        "car_counts"
      ],
      "metadata": {
        "colab": {
          "base_uri": "https://localhost:8080/"
        },
        "id": "oSOYfvW-2k3Y",
        "outputId": "65cec78d-c87d-4f28-e427-77f23fef7e10"
      },
      "execution_count": null,
      "outputs": [
        {
          "output_type": "execute_result",
          "data": {
            "text/plain": [
              "중형차 (쏘나타, K5, 말리부, 골프급 등)           81\n",
              "준중형차 (아반떼, K3, 크루즈, 제타급 등)          69\n",
              "경차 (모닝, 스파크 등)                      43\n",
              "준중형SUV (투싼, 스포티지, QM5, 티구안급 등)      33\n",
              "중형SUV (싼타페, 쏘렌토, 캡티바, BMW X3급 등)    20\n",
              "소형차 (액센트, 프라이드, 아베오, 피아트급 등)        16\n",
              "준대형차 (그랜저, K7, 알페온, 캠리급, 파사트급 등)    10\n",
              "소형SUV/CUV (티볼리, QM3 등)               9\n",
              "기타 (승합차/트럭/화물차/기타 차량 등)              8\n",
              "대형SUV (베라크루즈, 모하비, 투아렉급 등)           7\n",
              "대형차 (제너시스, BMW5급 등)                  5\n",
              "MPV (카니발, 올란도, 피카소급, 오딧세이 등)         4\n",
              "프리미엄 (에쿠스, BMW7급 등)                  4\n",
              "준중형파생 (벨로스터, I30 등)                  2\n",
              "Name: 자동차, dtype: int64"
            ]
          },
          "metadata": {},
          "execution_count": 40
        }
      ]
    },
    {
      "cell_type": "code",
      "source": [
        "round(car_counts.sum() / len(df2_23) * 100, 1),\\\n",
        "car_counts.sum()"
      ],
      "metadata": {
        "colab": {
          "base_uri": "https://localhost:8080/"
        },
        "id": "uv-ZA8Wi2nIY",
        "outputId": "80cfb95d-cc6f-4fce-e3c1-6de185c8becb"
      },
      "execution_count": null,
      "outputs": [
        {
          "output_type": "execute_result",
          "data": {
            "text/plain": [
              "(26.0, 311)"
            ]
          },
          "metadata": {},
          "execution_count": 41
        }
      ]
    },
    {
      "cell_type": "code",
      "source": [
        "car2_counts = df2_2['자동차'].value_counts()\n",
        "car3_counts = df2_3['자동차'].value_counts()\n",
        "\n",
        "round(car2_counts.sum() / len(df2_23) * 100, 1),\\\n",
        "car2_counts.sum(),\\\n",
        "round(car3_counts.sum() / len(df2_23) * 100, 1),\\\n",
        "car3_counts.sum()"
      ],
      "metadata": {
        "colab": {
          "base_uri": "https://localhost:8080/"
        },
        "id": "390t_GT52s71",
        "outputId": "7c63100a-1030-4971-a48a-0ba8c70c0797"
      },
      "execution_count": null,
      "outputs": [
        {
          "output_type": "execute_result",
          "data": {
            "text/plain": [
              "(5.6, 67, 20.4, 244)"
            ]
          },
          "metadata": {},
          "execution_count": 42
        }
      ]
    },
    {
      "cell_type": "markdown",
      "source": [
        "### 230대 거주지"
      ],
      "metadata": {
        "id": "Ah3Dg3R03AAB"
      }
    },
    {
      "cell_type": "code",
      "source": [
        "df2_23['시도'].value_counts()[:5],\\\n",
        "df2_2['시도'].value_counts()[:5],\\\n",
        "df2_3['시도'].value_counts()[:5]"
      ],
      "metadata": {
        "colab": {
          "base_uri": "https://localhost:8080/"
        },
        "id": "chuS7Ucy3Ekn",
        "outputId": "b15a176c-5131-45d4-b0ed-549a0b61f71b"
      },
      "execution_count": null,
      "outputs": [
        {
          "output_type": "execute_result",
          "data": {
            "text/plain": [
              "(서울    405\n",
              " 경기    305\n",
              " 인천     81\n",
              " 부산     71\n",
              " 대구     58\n",
              " Name: 시도, dtype: int64,\n",
              " 서울    179\n",
              " 경기    136\n",
              " 인천     40\n",
              " 부산     34\n",
              " 대구     21\n",
              " Name: 시도, dtype: int64,\n",
              " 서울    226\n",
              " 경기    169\n",
              " 인천     41\n",
              " 부산     37\n",
              " 대구     37\n",
              " Name: 시도, dtype: int64)"
            ]
          },
          "metadata": {},
          "execution_count": 43
        }
      ]
    },
    {
      "cell_type": "code",
      "source": [
        "df2_23[df2_23['시도'] == \"서울\"]['대피소'].value_counts()[:5],\\\n",
        "df2_2[df2_2['시도'] == \"서울\"]['대피소'].value_counts()[:5],\\\n",
        "df2_3[df2_3['시도'] == \"서울\"]['대피소'].value_counts()[:5]"
      ],
      "metadata": {
        "colab": {
          "base_uri": "https://localhost:8080/"
        },
        "id": "2iU2e4sR3GVP",
        "outputId": "fbecedc6-c24c-42fe-ae73-97411d221fe2"
      },
      "execution_count": null,
      "outputs": [
        {
          "output_type": "execute_result",
          "data": {
            "text/plain": [
              "(소백산 연화봉     48\n",
              " 한라산 진달래밭    46\n",
              " 설악산 중청      35\n",
              " 덕유산 향적봉     32\n",
              " 북한산 대피소     32\n",
              " Name: 대피소, dtype: int64,\n",
              " 한라산 진달래밭    25\n",
              " 소백산 연화봉     23\n",
              " 덕유산 향적봉     17\n",
              " 북한산 대피소     13\n",
              " 설악산 중청      13\n",
              " Name: 대피소, dtype: int64,\n",
              " 소백산 연화봉     25\n",
              " 설악산 중청      22\n",
              " 한라산 진달래밭    21\n",
              " 설악산 소청      19\n",
              " 북한산 대피소     19\n",
              " Name: 대피소, dtype: int64)"
            ]
          },
          "metadata": {},
          "execution_count": 44
        }
      ]
    },
    {
      "cell_type": "code",
      "source": [
        "df2_1456['시도'].value_counts()[:5],\\\n",
        "df2_1456[df2_1456['시도'] == \"서울\"]['대피소'].value_counts()[:5]"
      ],
      "metadata": {
        "colab": {
          "base_uri": "https://localhost:8080/"
        },
        "id": "ppKS6iN33QO9",
        "outputId": "e2b64abd-7504-4740-9566-45c3b7447d9f"
      },
      "execution_count": null,
      "outputs": [
        {
          "output_type": "execute_result",
          "data": {
            "text/plain": [
              "(서울    355\n",
              " 경기    319\n",
              " 인천     70\n",
              " 부산     69\n",
              " 경남     48\n",
              " Name: 시도, dtype: int64,\n",
              " 한라산 진달래밭    46\n",
              " 소백산 연화봉     39\n",
              " 북한산 대피소     38\n",
              " 설악산 중청      29\n",
              " 지리산 장터목     28\n",
              " Name: 대피소, dtype: int64)"
            ]
          },
          "metadata": {},
          "execution_count": 45
        }
      ]
    },
    {
      "cell_type": "markdown",
      "source": [
        "# df3 : 산림재해 관심인구 관심지역 검색정보 (Total : 7,706)"
      ],
      "metadata": {
        "id": "2A1sBO6Z3VAc"
      }
    },
    {
      "cell_type": "code",
      "source": [
        "len(df3)"
      ],
      "metadata": {
        "colab": {
          "base_uri": "https://localhost:8080/"
        },
        "id": "-2zq_1cXQQrz",
        "outputId": "50fc67fb-5234-4191-8b0f-ee6cec8bdfa0"
      },
      "execution_count": null,
      "outputs": [
        {
          "output_type": "execute_result",
          "data": {
            "text/plain": [
              "7706"
            ]
          },
          "metadata": {},
          "execution_count": 46
        }
      ]
    },
    {
      "cell_type": "code",
      "source": [
        "df3.head()"
      ],
      "metadata": {
        "colab": {
          "base_uri": "https://localhost:8080/",
          "height": 354
        },
        "id": "Nb0vj2Oo8F0-",
        "outputId": "c465d207-f945-406a-8286-a4cfddb0d89f"
      },
      "execution_count": null,
      "outputs": [
        {
          "output_type": "execute_result",
          "data": {
            "text/plain": [
              "     재해                                              사이트제목 성별  연령  \\\n",
              "0   산사태                              의령수도사산사태로매몰위험노출/뉴스렙기사  M   4   \n",
              "1   병해충  달성군산림병해충방제::재선충예방을위한예방나무주사를주는방제현장에다녀왔습니다!-달성군블...  M   4   \n",
              "2   병해충  달성군산림병해충방제::재선충예방을위한예방나무주사를주는방제현장에다녀왔습니다!-달성군블...  M   4   \n",
              "3  산림재해                  산림재해예방을위한하늘의눈,강릉산림항공관리소드론산불예방훈련실시  F   3   \n",
              "4   산사태                                      청도태양광산사태/조선일보  F   2   \n",
              "\n",
              "                       직업         소득      결혼          자녀             주거  시도  \\\n",
              "0                     NaN        NaN                                NaN  서울   \n",
              "1                     NaN        NaN                                NaN  서울   \n",
              "2                     NaN        NaN                                NaN  서울   \n",
              "3  사무직 (일반사무직, 공무원, 직업군인)  300~399만원   예          자녀 없음   연립주택/ 다세대/ 빌라  서울   \n",
              "4   주부 (전업주부, 파트타임 근무 주부)  400~499만원   예          자녀 있음       아파트/ 주상복합  전남   \n",
              "\n",
              "     구     동  자동차  \n",
              "0  관악구   청림동  NaN  \n",
              "1  종로구   연건동  NaN  \n",
              "2  종로구   연건동  NaN  \n",
              "3  동작구  상도4동  NaN  \n",
              "4  목포시   옥암동  NaN  "
            ],
            "text/html": [
              "\n",
              "  <div id=\"df-91f17627-0cc6-4d65-939b-c45af8006623\">\n",
              "    <div class=\"colab-df-container\">\n",
              "      <div>\n",
              "<style scoped>\n",
              "    .dataframe tbody tr th:only-of-type {\n",
              "        vertical-align: middle;\n",
              "    }\n",
              "\n",
              "    .dataframe tbody tr th {\n",
              "        vertical-align: top;\n",
              "    }\n",
              "\n",
              "    .dataframe thead th {\n",
              "        text-align: right;\n",
              "    }\n",
              "</style>\n",
              "<table border=\"1\" class=\"dataframe\">\n",
              "  <thead>\n",
              "    <tr style=\"text-align: right;\">\n",
              "      <th></th>\n",
              "      <th>재해</th>\n",
              "      <th>사이트제목</th>\n",
              "      <th>성별</th>\n",
              "      <th>연령</th>\n",
              "      <th>직업</th>\n",
              "      <th>소득</th>\n",
              "      <th>결혼</th>\n",
              "      <th>자녀</th>\n",
              "      <th>주거</th>\n",
              "      <th>시도</th>\n",
              "      <th>구</th>\n",
              "      <th>동</th>\n",
              "      <th>자동차</th>\n",
              "    </tr>\n",
              "  </thead>\n",
              "  <tbody>\n",
              "    <tr>\n",
              "      <th>0</th>\n",
              "      <td>산사태</td>\n",
              "      <td>의령수도사산사태로매몰위험노출/뉴스렙기사</td>\n",
              "      <td>M</td>\n",
              "      <td>4</td>\n",
              "      <td>NaN</td>\n",
              "      <td>NaN</td>\n",
              "      <td></td>\n",
              "      <td></td>\n",
              "      <td>NaN</td>\n",
              "      <td>서울</td>\n",
              "      <td>관악구</td>\n",
              "      <td>청림동</td>\n",
              "      <td>NaN</td>\n",
              "    </tr>\n",
              "    <tr>\n",
              "      <th>1</th>\n",
              "      <td>병해충</td>\n",
              "      <td>달성군산림병해충방제::재선충예방을위한예방나무주사를주는방제현장에다녀왔습니다!-달성군블...</td>\n",
              "      <td>M</td>\n",
              "      <td>4</td>\n",
              "      <td>NaN</td>\n",
              "      <td>NaN</td>\n",
              "      <td></td>\n",
              "      <td></td>\n",
              "      <td>NaN</td>\n",
              "      <td>서울</td>\n",
              "      <td>종로구</td>\n",
              "      <td>연건동</td>\n",
              "      <td>NaN</td>\n",
              "    </tr>\n",
              "    <tr>\n",
              "      <th>2</th>\n",
              "      <td>병해충</td>\n",
              "      <td>달성군산림병해충방제::재선충예방을위한예방나무주사를주는방제현장에다녀왔습니다!-달성군블...</td>\n",
              "      <td>M</td>\n",
              "      <td>4</td>\n",
              "      <td>NaN</td>\n",
              "      <td>NaN</td>\n",
              "      <td></td>\n",
              "      <td></td>\n",
              "      <td>NaN</td>\n",
              "      <td>서울</td>\n",
              "      <td>종로구</td>\n",
              "      <td>연건동</td>\n",
              "      <td>NaN</td>\n",
              "    </tr>\n",
              "    <tr>\n",
              "      <th>3</th>\n",
              "      <td>산림재해</td>\n",
              "      <td>산림재해예방을위한하늘의눈,강릉산림항공관리소드론산불예방훈련실시</td>\n",
              "      <td>F</td>\n",
              "      <td>3</td>\n",
              "      <td>사무직 (일반사무직, 공무원, 직업군인)</td>\n",
              "      <td>300~399만원</td>\n",
              "      <td>예</td>\n",
              "      <td>자녀 없음</td>\n",
              "      <td>연립주택/ 다세대/ 빌라</td>\n",
              "      <td>서울</td>\n",
              "      <td>동작구</td>\n",
              "      <td>상도4동</td>\n",
              "      <td>NaN</td>\n",
              "    </tr>\n",
              "    <tr>\n",
              "      <th>4</th>\n",
              "      <td>산사태</td>\n",
              "      <td>청도태양광산사태/조선일보</td>\n",
              "      <td>F</td>\n",
              "      <td>2</td>\n",
              "      <td>주부 (전업주부, 파트타임 근무 주부)</td>\n",
              "      <td>400~499만원</td>\n",
              "      <td>예</td>\n",
              "      <td>자녀 있음</td>\n",
              "      <td>아파트/ 주상복합</td>\n",
              "      <td>전남</td>\n",
              "      <td>목포시</td>\n",
              "      <td>옥암동</td>\n",
              "      <td>NaN</td>\n",
              "    </tr>\n",
              "  </tbody>\n",
              "</table>\n",
              "</div>\n",
              "      <button class=\"colab-df-convert\" onclick=\"convertToInteractive('df-91f17627-0cc6-4d65-939b-c45af8006623')\"\n",
              "              title=\"Convert this dataframe to an interactive table.\"\n",
              "              style=\"display:none;\">\n",
              "        \n",
              "  <svg xmlns=\"http://www.w3.org/2000/svg\" height=\"24px\"viewBox=\"0 0 24 24\"\n",
              "       width=\"24px\">\n",
              "    <path d=\"M0 0h24v24H0V0z\" fill=\"none\"/>\n",
              "    <path d=\"M18.56 5.44l.94 2.06.94-2.06 2.06-.94-2.06-.94-.94-2.06-.94 2.06-2.06.94zm-11 1L8.5 8.5l.94-2.06 2.06-.94-2.06-.94L8.5 2.5l-.94 2.06-2.06.94zm10 10l.94 2.06.94-2.06 2.06-.94-2.06-.94-.94-2.06-.94 2.06-2.06.94z\"/><path d=\"M17.41 7.96l-1.37-1.37c-.4-.4-.92-.59-1.43-.59-.52 0-1.04.2-1.43.59L10.3 9.45l-7.72 7.72c-.78.78-.78 2.05 0 2.83L4 21.41c.39.39.9.59 1.41.59.51 0 1.02-.2 1.41-.59l7.78-7.78 2.81-2.81c.8-.78.8-2.07 0-2.86zM5.41 20L4 18.59l7.72-7.72 1.47 1.35L5.41 20z\"/>\n",
              "  </svg>\n",
              "      </button>\n",
              "      \n",
              "  <style>\n",
              "    .colab-df-container {\n",
              "      display:flex;\n",
              "      flex-wrap:wrap;\n",
              "      gap: 12px;\n",
              "    }\n",
              "\n",
              "    .colab-df-convert {\n",
              "      background-color: #E8F0FE;\n",
              "      border: none;\n",
              "      border-radius: 50%;\n",
              "      cursor: pointer;\n",
              "      display: none;\n",
              "      fill: #1967D2;\n",
              "      height: 32px;\n",
              "      padding: 0 0 0 0;\n",
              "      width: 32px;\n",
              "    }\n",
              "\n",
              "    .colab-df-convert:hover {\n",
              "      background-color: #E2EBFA;\n",
              "      box-shadow: 0px 1px 2px rgba(60, 64, 67, 0.3), 0px 1px 3px 1px rgba(60, 64, 67, 0.15);\n",
              "      fill: #174EA6;\n",
              "    }\n",
              "\n",
              "    [theme=dark] .colab-df-convert {\n",
              "      background-color: #3B4455;\n",
              "      fill: #D2E3FC;\n",
              "    }\n",
              "\n",
              "    [theme=dark] .colab-df-convert:hover {\n",
              "      background-color: #434B5C;\n",
              "      box-shadow: 0px 1px 3px 1px rgba(0, 0, 0, 0.15);\n",
              "      filter: drop-shadow(0px 1px 2px rgba(0, 0, 0, 0.3));\n",
              "      fill: #FFFFFF;\n",
              "    }\n",
              "  </style>\n",
              "\n",
              "      <script>\n",
              "        const buttonEl =\n",
              "          document.querySelector('#df-91f17627-0cc6-4d65-939b-c45af8006623 button.colab-df-convert');\n",
              "        buttonEl.style.display =\n",
              "          google.colab.kernel.accessAllowed ? 'block' : 'none';\n",
              "\n",
              "        async function convertToInteractive(key) {\n",
              "          const element = document.querySelector('#df-91f17627-0cc6-4d65-939b-c45af8006623');\n",
              "          const dataTable =\n",
              "            await google.colab.kernel.invokeFunction('convertToInteractive',\n",
              "                                                     [key], {});\n",
              "          if (!dataTable) return;\n",
              "\n",
              "          const docLinkHtml = 'Like what you see? Visit the ' +\n",
              "            '<a target=\"_blank\" href=https://colab.research.google.com/notebooks/data_table.ipynb>data table notebook</a>'\n",
              "            + ' to learn more about interactive tables.';\n",
              "          element.innerHTML = '';\n",
              "          dataTable['output_type'] = 'display_data';\n",
              "          await google.colab.output.renderOutput(dataTable, element);\n",
              "          const docLink = document.createElement('div');\n",
              "          docLink.innerHTML = docLinkHtml;\n",
              "          element.appendChild(docLink);\n",
              "        }\n",
              "      </script>\n",
              "    </div>\n",
              "  </div>\n",
              "  "
            ]
          },
          "metadata": {},
          "execution_count": 47
        }
      ]
    },
    {
      "cell_type": "markdown",
      "source": [
        "### AGE"
      ],
      "metadata": {
        "id": "Tsw1w3Ws8Y5g"
      }
    },
    {
      "cell_type": "code",
      "source": [
        "age_counts = df3['연령'].value_counts()\n",
        "age_counts"
      ],
      "metadata": {
        "colab": {
          "base_uri": "https://localhost:8080/"
        },
        "id": "T_2_2GQr8Gu-",
        "outputId": "a8d668c3-2b29-4613-844b-29f611bad916"
      },
      "execution_count": null,
      "outputs": [
        {
          "output_type": "execute_result",
          "data": {
            "text/plain": [
              "3    2749\n",
              "4    2667\n",
              "2    1415\n",
              "5     850\n",
              "1      14\n",
              "6      11\n",
              "Name: 연령, dtype: int64"
            ]
          },
          "metadata": {},
          "execution_count": 48
        }
      ]
    },
    {
      "cell_type": "code",
      "source": [
        "age_counts.loc[[2,3]].sum(), round(age_counts.loc[[2,3]].sum() / age_counts.sum() * 100, 1),\\\n",
        "age_counts.loc[2], round(age_counts.loc[2] / age_counts.sum() * 100, 1),\\\n",
        "age_counts.loc[3], round(age_counts.loc[3] / age_counts.sum() * 100, 1),\\\n",
        "age_counts.drop([2,3]).sum(), round(age_counts.drop([2,3]).sum() / age_counts.sum() * 100, 1)"
      ],
      "metadata": {
        "colab": {
          "base_uri": "https://localhost:8080/"
        },
        "id": "ecIreZ8u8SjK",
        "outputId": "fc33cbd1-1391-4dab-8c18-70b234417244"
      },
      "execution_count": null,
      "outputs": [
        {
          "output_type": "execute_result",
          "data": {
            "text/plain": [
              "(4164, 54.0, 1415, 18.4, 2749, 35.7, 3542, 46.0)"
            ]
          },
          "metadata": {},
          "execution_count": 49
        }
      ]
    },
    {
      "cell_type": "code",
      "source": [
        "df3_23 = df3[df3['연령'].isin([2, 3])]\n",
        "df3_2 = df3[(df3['연령'] == 2)]\n",
        "df3_3 = df3[(df3['연령'] == 3)]\n",
        "df3_1456 = df3[df3['연령'].isin([1, 4, 5, 6])]"
      ],
      "metadata": {
        "id": "YGU3sHhK8piF"
      },
      "execution_count": null,
      "outputs": []
    },
    {
      "cell_type": "markdown",
      "source": [
        "### 230대 성별"
      ],
      "metadata": {
        "id": "mNVjrnGs83Af"
      }
    },
    {
      "cell_type": "code",
      "source": [
        "sex_counts = df3_23['성별'].value_counts()\n",
        "sex_counts"
      ],
      "metadata": {
        "colab": {
          "base_uri": "https://localhost:8080/"
        },
        "id": "Al86Lb0b853P",
        "outputId": "e435d273-6085-46da-ed94-9ffcf6ef58d5"
      },
      "execution_count": null,
      "outputs": [
        {
          "output_type": "execute_result",
          "data": {
            "text/plain": [
              "F    2475\n",
              "M    1689\n",
              "Name: 성별, dtype: int64"
            ]
          },
          "metadata": {},
          "execution_count": 51
        }
      ]
    },
    {
      "cell_type": "code",
      "source": [
        "round(sex_counts.loc['F'] / sex_counts.sum() * 100 , 1),\\\n",
        "round(sex_counts.loc['M'] / sex_counts.sum() * 100 , 1)"
      ],
      "metadata": {
        "colab": {
          "base_uri": "https://localhost:8080/"
        },
        "id": "NqbEdoyu87i2",
        "outputId": "2805c97c-8066-4193-9692-33440b7a06e9"
      },
      "execution_count": null,
      "outputs": [
        {
          "output_type": "execute_result",
          "data": {
            "text/plain": [
              "(59.4, 40.6)"
            ]
          },
          "metadata": {},
          "execution_count": 52
        }
      ]
    },
    {
      "cell_type": "markdown",
      "source": [
        "### 230대 직업"
      ],
      "metadata": {
        "id": "oON0Vlfe89Lr"
      }
    },
    {
      "cell_type": "code",
      "source": [
        "job_counts = df3_23['직업'].value_counts()\n",
        "job_counts"
      ],
      "metadata": {
        "colab": {
          "base_uri": "https://localhost:8080/"
        },
        "id": "5iqR_c7Q9BRq",
        "outputId": "7672985a-e348-4454-e5c5-5402c06bf023"
      },
      "execution_count": null,
      "outputs": [
        {
          "output_type": "execute_result",
          "data": {
            "text/plain": [
              "사무직 (일반사무직, 공무원, 직업군인)             1416\n",
              "학생 (초중고학생, 대학생, 대학원생)               533\n",
              "주부 (전업주부, 파트타임 근무 주부)               486\n",
              "무직                                  256\n",
              "전문직 (의사, 판검사, 예술가, 종교인)             250\n",
              "교직 (교사, 유치원교사, 학원강사)                133\n",
              "자영업 (도소매업, 숙박업, 미용업)                 95\n",
              "서비스직 (요식업, 숙박업, 미용실종업원)              78\n",
              "생산/노무직 (생산감독, 경비원, 공장근로자)            71\n",
              "기타                                   64\n",
              "기능직 (자동차정비, 운전기사, 안경사, 택시기사)         58\n",
              "관리직 (사장, 간부, 고위공무원)                  39\n",
              "판매직 (상점점원, 보험설계사, 노점상)               29\n",
              "농/축/광/수산업 (축산, 낙농업, 수산, 임업, 광업)       6\n",
              "퇴직/연금생활자                              4\n",
              "Name: 직업, dtype: int64"
            ]
          },
          "metadata": {},
          "execution_count": 53
        }
      ]
    },
    {
      "cell_type": "code",
      "source": [
        "drop_jobs = job_counts[job_counts.index.str.contains('학생|퇴직|주부')]\n",
        "drop_jobs"
      ],
      "metadata": {
        "colab": {
          "base_uri": "https://localhost:8080/"
        },
        "id": "r_i991st9Cjk",
        "outputId": "1c4c52ee-31af-43be-ff98-557da85710f3"
      },
      "execution_count": null,
      "outputs": [
        {
          "output_type": "execute_result",
          "data": {
            "text/plain": [
              "학생 (초중고학생, 대학생, 대학원생)    533\n",
              "주부 (전업주부, 파트타임 근무 주부)    486\n",
              "퇴직/연금생활자                   4\n",
              "Name: 직업, dtype: int64"
            ]
          },
          "metadata": {},
          "execution_count": 54
        }
      ]
    },
    {
      "cell_type": "code",
      "source": [
        "round((job_counts.sum() - drop_jobs.sum() - job_counts['무직']) / len(df3_23) * 100, 1),\\\n",
        "job_counts.sum() - drop_jobs.sum() - job_counts['무직']"
      ],
      "metadata": {
        "colab": {
          "base_uri": "https://localhost:8080/"
        },
        "id": "uRplHcRs9IX0",
        "outputId": "d156291f-39c2-4d44-f0a2-2b1acc92bea7"
      },
      "execution_count": null,
      "outputs": [
        {
          "output_type": "execute_result",
          "data": {
            "text/plain": [
              "(53.8, 2239)"
            ]
          },
          "metadata": {},
          "execution_count": 55
        }
      ]
    },
    {
      "cell_type": "code",
      "source": [
        "job2_counts = df3_2['직업'].value_counts()\n",
        "job3_counts = df3_3['직업'].value_counts()"
      ],
      "metadata": {
        "id": "xTYR06YF9QzG"
      },
      "execution_count": null,
      "outputs": []
    },
    {
      "cell_type": "code",
      "source": [
        "drop2_jobs = job2_counts[job2_counts.index.str.contains('학생|퇴직|주부')]\n",
        "drop3_jobs = job3_counts[job3_counts.index.str.contains('학생|퇴직|주부')]"
      ],
      "metadata": {
        "id": "qGJ161Ge9Wuk"
      },
      "execution_count": null,
      "outputs": []
    },
    {
      "cell_type": "code",
      "source": [
        "round((job2_counts.sum() - drop2_jobs.sum() - job2_counts['무직']) / len(df3_23) * 100, 1),\\\n",
        "job2_counts.sum() - drop2_jobs.sum() - job2_counts['무직'],\\\n",
        "round((job3_counts.sum() - drop3_jobs.sum() - job3_counts['무직']) / len(df3_23) * 100, 1),\\\n",
        "job3_counts.sum() - drop3_jobs.sum() - job3_counts['무직']"
      ],
      "metadata": {
        "colab": {
          "base_uri": "https://localhost:8080/"
        },
        "id": "N-ezykcI9cze",
        "outputId": "a914b572-6f6e-4af2-ac54-11f07c408cf2"
      },
      "execution_count": null,
      "outputs": [
        {
          "output_type": "execute_result",
          "data": {
            "text/plain": [
              "(9.2, 383, 44.6, 1856)"
            ]
          },
          "metadata": {},
          "execution_count": 58
        }
      ]
    },
    {
      "cell_type": "markdown",
      "source": [
        "### 230대 자동차"
      ],
      "metadata": {
        "id": "DUwEPxhE9k5V"
      }
    },
    {
      "cell_type": "code",
      "source": [
        "car_counts = df3_23['자동차'].value_counts()\n",
        "car_counts"
      ],
      "metadata": {
        "colab": {
          "base_uri": "https://localhost:8080/"
        },
        "id": "LyG0FIdx9ob0",
        "outputId": "4082e6f3-c1f7-43c9-9212-b9c0815c8579"
      },
      "execution_count": null,
      "outputs": [
        {
          "output_type": "execute_result",
          "data": {
            "text/plain": [
              "준중형차 (아반떼, K3, 크루즈, 제타급 등)          418\n",
              "중형차 (쏘나타, K5, 말리부, 골프급 등)           369\n",
              "경차 (모닝, 스파크 등)                      300\n",
              "중형SUV (싼타페, 쏘렌토, 캡티바, BMW X3급 등)    138\n",
              "준중형SUV (투싼, 스포티지, QM5, 티구안급 등)       96\n",
              "준대형차 (그랜저, K7, 알페온, 캠리급, 파사트급 등)     95\n",
              "소형SUV/CUV (티볼리, QM3 등)               85\n",
              "소형차 (액센트, 프라이드, 아베오, 피아트급 등)         63\n",
              "MPV (카니발, 올란도, 피카소급, 오딧세이 등)         60\n",
              "대형차 (제너시스, BMW5급 등)                  38\n",
              "대형SUV (베라크루즈, 모하비, 투아렉급 등)           34\n",
              "기타 (승합차/트럭/화물차/기타 차량 등)              17\n",
              "준중형파생 (벨로스터, I30 등)                  13\n",
              "스포츠 (제네시스 쿠페, BMW M, 벤츠 AMG 등)        5\n",
              "프리미엄 (에쿠스, BMW7급 등)                   2\n",
              "중형파생 (I40 등)                          1\n",
              "Name: 자동차, dtype: int64"
            ]
          },
          "metadata": {},
          "execution_count": 59
        }
      ]
    },
    {
      "cell_type": "code",
      "source": [
        "round(car_counts.sum() / len(df3_23) * 100, 1),\\\n",
        "car_counts.sum()"
      ],
      "metadata": {
        "colab": {
          "base_uri": "https://localhost:8080/"
        },
        "id": "7Tv2uGsg9p5y",
        "outputId": "3e14d6fb-20e2-4b3a-9525-16807b0408c6"
      },
      "execution_count": null,
      "outputs": [
        {
          "output_type": "execute_result",
          "data": {
            "text/plain": [
              "(41.6, 1734)"
            ]
          },
          "metadata": {},
          "execution_count": 60
        }
      ]
    },
    {
      "cell_type": "code",
      "source": [
        "car2_counts = df3_2['자동차'].value_counts()\n",
        "car3_counts = df3_3['자동차'].value_counts()\n",
        "\n",
        "round(car2_counts.sum() / len(df3_23) * 100, 1),\\\n",
        "car2_counts.sum(),\\\n",
        "round(car3_counts.sum() / len(df3_23) * 100, 1),\\\n",
        "car3_counts.sum()"
      ],
      "metadata": {
        "colab": {
          "base_uri": "https://localhost:8080/"
        },
        "id": "Gkhve_iH9tAW",
        "outputId": "27254289-4178-4f2e-ca79-ea7c787da4c0"
      },
      "execution_count": null,
      "outputs": [
        {
          "output_type": "execute_result",
          "data": {
            "text/plain": [
              "(7.9, 331, 33.7, 1403)"
            ]
          },
          "metadata": {},
          "execution_count": 61
        }
      ]
    },
    {
      "cell_type": "markdown",
      "source": [
        "### 230대 거주지"
      ],
      "metadata": {
        "id": "hmxw6FnS9yZi"
      }
    },
    {
      "cell_type": "code",
      "source": [
        "df3_23['시도'].value_counts()[:5],\\\n",
        "df3_2['시도'].value_counts()[:5],\\\n",
        "df3_3['시도'].value_counts()[:5]"
      ],
      "metadata": {
        "colab": {
          "base_uri": "https://localhost:8080/"
        },
        "id": "LBxq384C90Gf",
        "outputId": "251516db-1965-43a6-8d71-7c13b2dc851c"
      },
      "execution_count": null,
      "outputs": [
        {
          "output_type": "execute_result",
          "data": {
            "text/plain": [
              "(서울    1270\n",
              " 경기    1080\n",
              " 부산     289\n",
              " 인천     258\n",
              " 충남     203\n",
              " Name: 시도, dtype: int64,\n",
              " 서울    490\n",
              " 경기    327\n",
              " 부산     70\n",
              " 인천     68\n",
              " 충북     65\n",
              " Name: 시도, dtype: int64,\n",
              " 서울    780\n",
              " 경기    753\n",
              " 부산    219\n",
              " 인천    190\n",
              " 충남    177\n",
              " Name: 시도, dtype: int64)"
            ]
          },
          "metadata": {},
          "execution_count": 62
        }
      ]
    },
    {
      "cell_type": "code",
      "source": [
        "df3_23[df3_23['시도'] == \"서울\"]['재해'].value_counts()[:5],\\\n",
        "df3_2[df3_2['시도'] == \"경기\"]['재해'].value_counts()[:5],\\\n",
        "df3_3[df3_3['시도'] == \"서울\"]['재해'].value_counts()[:5]"
      ],
      "metadata": {
        "colab": {
          "base_uri": "https://localhost:8080/"
        },
        "id": "llrovvhC93YT",
        "outputId": "696ae7ee-54ef-4f29-a246-5deaa125ff10"
      },
      "execution_count": null,
      "outputs": [
        {
          "output_type": "execute_result",
          "data": {
            "text/plain": [
              "(산불      848\n",
              " 산사태     208\n",
              " 산림재해    179\n",
              " 병해충      34\n",
              " 재선충       1\n",
              " Name: 재해, dtype: int64,\n",
              " 산불      168\n",
              " 산사태      90\n",
              " 산림재해     55\n",
              " 병해충      14\n",
              " Name: 재해, dtype: int64,\n",
              " 산불      554\n",
              " 산림재해    105\n",
              " 산사태     100\n",
              " 병해충      20\n",
              " 재선충       1\n",
              " Name: 재해, dtype: int64)"
            ]
          },
          "metadata": {},
          "execution_count": 63
        }
      ]
    },
    {
      "cell_type": "code",
      "source": [
        "df3_1456['시도'].value_counts()[:5],\\\n",
        "df3_1456[df3_1456['시도'] == \"서울\"]['재해'].value_counts()[:5]"
      ],
      "metadata": {
        "colab": {
          "base_uri": "https://localhost:8080/"
        },
        "id": "1yRAIcxa96ht",
        "outputId": "ca7fcd49-314c-4f60-9f3f-d04b609e72b6"
      },
      "execution_count": null,
      "outputs": [
        {
          "output_type": "execute_result",
          "data": {
            "text/plain": [
              "(서울    1279\n",
              " 경기     855\n",
              " 부산     235\n",
              " 충남     179\n",
              " 인천     170\n",
              " Name: 시도, dtype: int64,\n",
              " 산불      881\n",
              " 산사태     196\n",
              " 산림재해    161\n",
              " 병해충      36\n",
              " 재선충       5\n",
              " Name: 재해, dtype: int64)"
            ]
          },
          "metadata": {},
          "execution_count": 64
        }
      ]
    },
    {
      "cell_type": "code",
      "source": [],
      "metadata": {
        "id": "MmHeiPp4MnKH"
      },
      "execution_count": null,
      "outputs": []
    },
    {
      "cell_type": "markdown",
      "source": [
        "# df4 : 산림재해 연관 검색 키워드를 검색한 관심인구 정보 정보 (Total : 340)"
      ],
      "metadata": {
        "id": "nj9yT_QkBAd9"
      }
    },
    {
      "cell_type": "code",
      "source": [
        "len(df4)"
      ],
      "metadata": {
        "colab": {
          "base_uri": "https://localhost:8080/"
        },
        "id": "vr9m7UPhQND4",
        "outputId": "47ffc7e2-1d6d-4751-ccfc-14e23ce6e525"
      },
      "execution_count": null,
      "outputs": [
        {
          "output_type": "execute_result",
          "data": {
            "text/plain": [
              "340"
            ]
          },
          "metadata": {},
          "execution_count": 65
        }
      ]
    },
    {
      "cell_type": "code",
      "source": [
        "df4.head()"
      ],
      "metadata": {
        "colab": {
          "base_uri": "https://localhost:8080/",
          "height": 354
        },
        "outputId": "48ab5294-c35e-4a69-967b-d6c2eab16f34",
        "id": "w1oWx2qeNBVj"
      },
      "execution_count": null,
      "outputs": [
        {
          "output_type": "execute_result",
          "data": {
            "text/plain": [
              "     재해                                 사이트제목 성별  연령                      직업  \\\n",
              "0   산사태        제18호태풍미탁,부산사하구에산사태일으켜…4명매몰돼구조중  M   5                     NaN   \n",
              "1   산사태         폭염,호우,수난사고,산사태,추락사고,화학물사고중점관리  M   3                     NaN   \n",
              "2   산사태         폭염,호우,수난사고,산사태,추락사고,화학물사고중점관리  M   2                     NaN   \n",
              "3  산림재해                파주시,해빙기산림재해우려지역안전점검실시!  M   4  사무직 (일반사무직, 공무원, 직업군인)   \n",
              "4    산불  [날씨] 건조경보에 태풍급 강풍 분다..산불 초비상 | 다음 뉴스  F   5   주부 (전업주부, 파트타임 근무 주부)   \n",
              "\n",
              "          소득      결혼          자녀         주거  시도        구       동  \\\n",
              "0        NaN                            NaN  광주       남구    봉선2동   \n",
              "1        NaN                            NaN  서울      강서구    등촌3동   \n",
              "2        NaN                            NaN  서울      노원구  공릉1.3동   \n",
              "3  700~799만원   예          자녀 있음   아파트/ 주상복합  서울      관악구     봉천동   \n",
              "4  500~599만원   예          자녀 있음   아파트/ 주상복합  경기  안양시 동안구     부흥동   \n",
              "\n",
              "                         자동차  \n",
              "0                        NaN  \n",
              "1                        NaN  \n",
              "2                        NaN  \n",
              "3  중형차 (쏘나타, K5, 말리부, 골프급 등)  \n",
              "4             경차 (모닝, 스파크 등)  "
            ],
            "text/html": [
              "\n",
              "  <div id=\"df-d95f9c46-4d0e-4374-8aec-1f1184329eb6\">\n",
              "    <div class=\"colab-df-container\">\n",
              "      <div>\n",
              "<style scoped>\n",
              "    .dataframe tbody tr th:only-of-type {\n",
              "        vertical-align: middle;\n",
              "    }\n",
              "\n",
              "    .dataframe tbody tr th {\n",
              "        vertical-align: top;\n",
              "    }\n",
              "\n",
              "    .dataframe thead th {\n",
              "        text-align: right;\n",
              "    }\n",
              "</style>\n",
              "<table border=\"1\" class=\"dataframe\">\n",
              "  <thead>\n",
              "    <tr style=\"text-align: right;\">\n",
              "      <th></th>\n",
              "      <th>재해</th>\n",
              "      <th>사이트제목</th>\n",
              "      <th>성별</th>\n",
              "      <th>연령</th>\n",
              "      <th>직업</th>\n",
              "      <th>소득</th>\n",
              "      <th>결혼</th>\n",
              "      <th>자녀</th>\n",
              "      <th>주거</th>\n",
              "      <th>시도</th>\n",
              "      <th>구</th>\n",
              "      <th>동</th>\n",
              "      <th>자동차</th>\n",
              "    </tr>\n",
              "  </thead>\n",
              "  <tbody>\n",
              "    <tr>\n",
              "      <th>0</th>\n",
              "      <td>산사태</td>\n",
              "      <td>제18호태풍미탁,부산사하구에산사태일으켜…4명매몰돼구조중</td>\n",
              "      <td>M</td>\n",
              "      <td>5</td>\n",
              "      <td>NaN</td>\n",
              "      <td>NaN</td>\n",
              "      <td></td>\n",
              "      <td></td>\n",
              "      <td>NaN</td>\n",
              "      <td>광주</td>\n",
              "      <td>남구</td>\n",
              "      <td>봉선2동</td>\n",
              "      <td>NaN</td>\n",
              "    </tr>\n",
              "    <tr>\n",
              "      <th>1</th>\n",
              "      <td>산사태</td>\n",
              "      <td>폭염,호우,수난사고,산사태,추락사고,화학물사고중점관리</td>\n",
              "      <td>M</td>\n",
              "      <td>3</td>\n",
              "      <td>NaN</td>\n",
              "      <td>NaN</td>\n",
              "      <td></td>\n",
              "      <td></td>\n",
              "      <td>NaN</td>\n",
              "      <td>서울</td>\n",
              "      <td>강서구</td>\n",
              "      <td>등촌3동</td>\n",
              "      <td>NaN</td>\n",
              "    </tr>\n",
              "    <tr>\n",
              "      <th>2</th>\n",
              "      <td>산사태</td>\n",
              "      <td>폭염,호우,수난사고,산사태,추락사고,화학물사고중점관리</td>\n",
              "      <td>M</td>\n",
              "      <td>2</td>\n",
              "      <td>NaN</td>\n",
              "      <td>NaN</td>\n",
              "      <td></td>\n",
              "      <td></td>\n",
              "      <td>NaN</td>\n",
              "      <td>서울</td>\n",
              "      <td>노원구</td>\n",
              "      <td>공릉1.3동</td>\n",
              "      <td>NaN</td>\n",
              "    </tr>\n",
              "    <tr>\n",
              "      <th>3</th>\n",
              "      <td>산림재해</td>\n",
              "      <td>파주시,해빙기산림재해우려지역안전점검실시!</td>\n",
              "      <td>M</td>\n",
              "      <td>4</td>\n",
              "      <td>사무직 (일반사무직, 공무원, 직업군인)</td>\n",
              "      <td>700~799만원</td>\n",
              "      <td>예</td>\n",
              "      <td>자녀 있음</td>\n",
              "      <td>아파트/ 주상복합</td>\n",
              "      <td>서울</td>\n",
              "      <td>관악구</td>\n",
              "      <td>봉천동</td>\n",
              "      <td>중형차 (쏘나타, K5, 말리부, 골프급 등)</td>\n",
              "    </tr>\n",
              "    <tr>\n",
              "      <th>4</th>\n",
              "      <td>산불</td>\n",
              "      <td>[날씨] 건조경보에 태풍급 강풍 분다..산불 초비상 | 다음 뉴스</td>\n",
              "      <td>F</td>\n",
              "      <td>5</td>\n",
              "      <td>주부 (전업주부, 파트타임 근무 주부)</td>\n",
              "      <td>500~599만원</td>\n",
              "      <td>예</td>\n",
              "      <td>자녀 있음</td>\n",
              "      <td>아파트/ 주상복합</td>\n",
              "      <td>경기</td>\n",
              "      <td>안양시 동안구</td>\n",
              "      <td>부흥동</td>\n",
              "      <td>경차 (모닝, 스파크 등)</td>\n",
              "    </tr>\n",
              "  </tbody>\n",
              "</table>\n",
              "</div>\n",
              "      <button class=\"colab-df-convert\" onclick=\"convertToInteractive('df-d95f9c46-4d0e-4374-8aec-1f1184329eb6')\"\n",
              "              title=\"Convert this dataframe to an interactive table.\"\n",
              "              style=\"display:none;\">\n",
              "        \n",
              "  <svg xmlns=\"http://www.w3.org/2000/svg\" height=\"24px\"viewBox=\"0 0 24 24\"\n",
              "       width=\"24px\">\n",
              "    <path d=\"M0 0h24v24H0V0z\" fill=\"none\"/>\n",
              "    <path d=\"M18.56 5.44l.94 2.06.94-2.06 2.06-.94-2.06-.94-.94-2.06-.94 2.06-2.06.94zm-11 1L8.5 8.5l.94-2.06 2.06-.94-2.06-.94L8.5 2.5l-.94 2.06-2.06.94zm10 10l.94 2.06.94-2.06 2.06-.94-2.06-.94-.94-2.06-.94 2.06-2.06.94z\"/><path d=\"M17.41 7.96l-1.37-1.37c-.4-.4-.92-.59-1.43-.59-.52 0-1.04.2-1.43.59L10.3 9.45l-7.72 7.72c-.78.78-.78 2.05 0 2.83L4 21.41c.39.39.9.59 1.41.59.51 0 1.02-.2 1.41-.59l7.78-7.78 2.81-2.81c.8-.78.8-2.07 0-2.86zM5.41 20L4 18.59l7.72-7.72 1.47 1.35L5.41 20z\"/>\n",
              "  </svg>\n",
              "      </button>\n",
              "      \n",
              "  <style>\n",
              "    .colab-df-container {\n",
              "      display:flex;\n",
              "      flex-wrap:wrap;\n",
              "      gap: 12px;\n",
              "    }\n",
              "\n",
              "    .colab-df-convert {\n",
              "      background-color: #E8F0FE;\n",
              "      border: none;\n",
              "      border-radius: 50%;\n",
              "      cursor: pointer;\n",
              "      display: none;\n",
              "      fill: #1967D2;\n",
              "      height: 32px;\n",
              "      padding: 0 0 0 0;\n",
              "      width: 32px;\n",
              "    }\n",
              "\n",
              "    .colab-df-convert:hover {\n",
              "      background-color: #E2EBFA;\n",
              "      box-shadow: 0px 1px 2px rgba(60, 64, 67, 0.3), 0px 1px 3px 1px rgba(60, 64, 67, 0.15);\n",
              "      fill: #174EA6;\n",
              "    }\n",
              "\n",
              "    [theme=dark] .colab-df-convert {\n",
              "      background-color: #3B4455;\n",
              "      fill: #D2E3FC;\n",
              "    }\n",
              "\n",
              "    [theme=dark] .colab-df-convert:hover {\n",
              "      background-color: #434B5C;\n",
              "      box-shadow: 0px 1px 3px 1px rgba(0, 0, 0, 0.15);\n",
              "      filter: drop-shadow(0px 1px 2px rgba(0, 0, 0, 0.3));\n",
              "      fill: #FFFFFF;\n",
              "    }\n",
              "  </style>\n",
              "\n",
              "      <script>\n",
              "        const buttonEl =\n",
              "          document.querySelector('#df-d95f9c46-4d0e-4374-8aec-1f1184329eb6 button.colab-df-convert');\n",
              "        buttonEl.style.display =\n",
              "          google.colab.kernel.accessAllowed ? 'block' : 'none';\n",
              "\n",
              "        async function convertToInteractive(key) {\n",
              "          const element = document.querySelector('#df-d95f9c46-4d0e-4374-8aec-1f1184329eb6');\n",
              "          const dataTable =\n",
              "            await google.colab.kernel.invokeFunction('convertToInteractive',\n",
              "                                                     [key], {});\n",
              "          if (!dataTable) return;\n",
              "\n",
              "          const docLinkHtml = 'Like what you see? Visit the ' +\n",
              "            '<a target=\"_blank\" href=https://colab.research.google.com/notebooks/data_table.ipynb>data table notebook</a>'\n",
              "            + ' to learn more about interactive tables.';\n",
              "          element.innerHTML = '';\n",
              "          dataTable['output_type'] = 'display_data';\n",
              "          await google.colab.output.renderOutput(dataTable, element);\n",
              "          const docLink = document.createElement('div');\n",
              "          docLink.innerHTML = docLinkHtml;\n",
              "          element.appendChild(docLink);\n",
              "        }\n",
              "      </script>\n",
              "    </div>\n",
              "  </div>\n",
              "  "
            ]
          },
          "metadata": {},
          "execution_count": 66
        }
      ]
    },
    {
      "cell_type": "code",
      "source": [
        "age_counts = df4['연령'].value_counts()\n",
        "age_counts"
      ],
      "metadata": {
        "colab": {
          "base_uri": "https://localhost:8080/"
        },
        "outputId": "52170c90-446b-420a-df91-42a5205e1e1a",
        "id": "TASLNlxWNBVj"
      },
      "execution_count": null,
      "outputs": [
        {
          "output_type": "execute_result",
          "data": {
            "text/plain": [
              "4    125\n",
              "3    114\n",
              "2     64\n",
              "5     37\n",
              "Name: 연령, dtype: int64"
            ]
          },
          "metadata": {},
          "execution_count": 67
        }
      ]
    },
    {
      "cell_type": "code",
      "source": [
        "age_counts.loc[[2,3]].sum(), round(age_counts.loc[[2,3]].sum() / age_counts.sum() * 100, 1),\\\n",
        "round(age_counts.loc[2] / age_counts.sum() * 100, 1),\\\n",
        "round(age_counts.loc[3] / age_counts.sum() * 100, 1),\\\n",
        "round(age_counts.drop([2,3]).sum() / age_counts.sum() * 100, 1)"
      ],
      "metadata": {
        "colab": {
          "base_uri": "https://localhost:8080/"
        },
        "outputId": "5145da34-7de5-40ce-d061-841780428418",
        "id": "cOcxlrJhNBVj"
      },
      "execution_count": null,
      "outputs": [
        {
          "output_type": "execute_result",
          "data": {
            "text/plain": [
              "(178, 52.4, 18.8, 33.5, 47.6)"
            ]
          },
          "metadata": {},
          "execution_count": 68
        }
      ]
    },
    {
      "cell_type": "code",
      "source": [
        "df4_23 = df4[df4['연령'].isin([2, 3])]\n",
        "df4_2 = df4[(df4['연령'] == 2)]\n",
        "df4_3 = df4[(df4['연령'] == 3)]\n",
        "df4_45 = df4[df4['연령'].isin([4, 5])]"
      ],
      "metadata": {
        "id": "POhObRF-NBVj"
      },
      "execution_count": null,
      "outputs": []
    },
    {
      "cell_type": "code",
      "source": [
        "df4_23.head()"
      ],
      "metadata": {
        "colab": {
          "base_uri": "https://localhost:8080/",
          "height": 354
        },
        "outputId": "6a368262-a207-4d03-cfec-25a22eca7fa7",
        "id": "TeLTYltONBVk"
      },
      "execution_count": null,
      "outputs": [
        {
          "output_type": "execute_result",
          "data": {
            "text/plain": [
              "     재해                                 사이트제목 성별  연령                      직업  \\\n",
              "1   산사태         폭염,호우,수난사고,산사태,추락사고,화학물사고중점관리  M   3                     NaN   \n",
              "2   산사태         폭염,호우,수난사고,산사태,추락사고,화학물사고중점관리  M   2                     NaN   \n",
              "6   산사태        제18호태풍미탁,부산사하구에산사태일으켜…4명매몰돼구조중  M   3                     NaN   \n",
              "9    산불  [날씨] 건조경보에 태풍급 강풍 분다..산불 초비상 | 다음 뉴스  M   3  사무직 (일반사무직, 공무원, 직업군인)   \n",
              "10   산불                태풍급 강풍과 건... :: 네이버 뉴스  M   3  사무직 (일반사무직, 공무원, 직업군인)   \n",
              "\n",
              "           소득      결혼          자녀             주거  시도        구       동  \\\n",
              "1         NaN                                NaN  서울      강서구    등촌3동   \n",
              "2         NaN                                NaN  서울      노원구  공릉1.3동   \n",
              "6         NaN                                NaN  인천      연수구    연수3동   \n",
              "9   400~499만원   예          자녀 있음       아파트/ 주상복합  서울      마포구     성산동   \n",
              "10  400~499만원     아니오              연립주택/ 다세대/ 빌라  경기  수원시 영통구    영통2동   \n",
              "\n",
              "                                 자동차  \n",
              "1                                NaN  \n",
              "2                                NaN  \n",
              "6                                NaN  \n",
              "9     준중형SUV (투싼, 스포티지, QM5, 티구안급 등)  \n",
              "10  준대형차 (그랜저, K7, 알페온, 캠리급, 파사트급 등)  "
            ],
            "text/html": [
              "\n",
              "  <div id=\"df-40cdde4c-fdca-4f4a-9c5f-46406f40829a\">\n",
              "    <div class=\"colab-df-container\">\n",
              "      <div>\n",
              "<style scoped>\n",
              "    .dataframe tbody tr th:only-of-type {\n",
              "        vertical-align: middle;\n",
              "    }\n",
              "\n",
              "    .dataframe tbody tr th {\n",
              "        vertical-align: top;\n",
              "    }\n",
              "\n",
              "    .dataframe thead th {\n",
              "        text-align: right;\n",
              "    }\n",
              "</style>\n",
              "<table border=\"1\" class=\"dataframe\">\n",
              "  <thead>\n",
              "    <tr style=\"text-align: right;\">\n",
              "      <th></th>\n",
              "      <th>재해</th>\n",
              "      <th>사이트제목</th>\n",
              "      <th>성별</th>\n",
              "      <th>연령</th>\n",
              "      <th>직업</th>\n",
              "      <th>소득</th>\n",
              "      <th>결혼</th>\n",
              "      <th>자녀</th>\n",
              "      <th>주거</th>\n",
              "      <th>시도</th>\n",
              "      <th>구</th>\n",
              "      <th>동</th>\n",
              "      <th>자동차</th>\n",
              "    </tr>\n",
              "  </thead>\n",
              "  <tbody>\n",
              "    <tr>\n",
              "      <th>1</th>\n",
              "      <td>산사태</td>\n",
              "      <td>폭염,호우,수난사고,산사태,추락사고,화학물사고중점관리</td>\n",
              "      <td>M</td>\n",
              "      <td>3</td>\n",
              "      <td>NaN</td>\n",
              "      <td>NaN</td>\n",
              "      <td></td>\n",
              "      <td></td>\n",
              "      <td>NaN</td>\n",
              "      <td>서울</td>\n",
              "      <td>강서구</td>\n",
              "      <td>등촌3동</td>\n",
              "      <td>NaN</td>\n",
              "    </tr>\n",
              "    <tr>\n",
              "      <th>2</th>\n",
              "      <td>산사태</td>\n",
              "      <td>폭염,호우,수난사고,산사태,추락사고,화학물사고중점관리</td>\n",
              "      <td>M</td>\n",
              "      <td>2</td>\n",
              "      <td>NaN</td>\n",
              "      <td>NaN</td>\n",
              "      <td></td>\n",
              "      <td></td>\n",
              "      <td>NaN</td>\n",
              "      <td>서울</td>\n",
              "      <td>노원구</td>\n",
              "      <td>공릉1.3동</td>\n",
              "      <td>NaN</td>\n",
              "    </tr>\n",
              "    <tr>\n",
              "      <th>6</th>\n",
              "      <td>산사태</td>\n",
              "      <td>제18호태풍미탁,부산사하구에산사태일으켜…4명매몰돼구조중</td>\n",
              "      <td>M</td>\n",
              "      <td>3</td>\n",
              "      <td>NaN</td>\n",
              "      <td>NaN</td>\n",
              "      <td></td>\n",
              "      <td></td>\n",
              "      <td>NaN</td>\n",
              "      <td>인천</td>\n",
              "      <td>연수구</td>\n",
              "      <td>연수3동</td>\n",
              "      <td>NaN</td>\n",
              "    </tr>\n",
              "    <tr>\n",
              "      <th>9</th>\n",
              "      <td>산불</td>\n",
              "      <td>[날씨] 건조경보에 태풍급 강풍 분다..산불 초비상 | 다음 뉴스</td>\n",
              "      <td>M</td>\n",
              "      <td>3</td>\n",
              "      <td>사무직 (일반사무직, 공무원, 직업군인)</td>\n",
              "      <td>400~499만원</td>\n",
              "      <td>예</td>\n",
              "      <td>자녀 있음</td>\n",
              "      <td>아파트/ 주상복합</td>\n",
              "      <td>서울</td>\n",
              "      <td>마포구</td>\n",
              "      <td>성산동</td>\n",
              "      <td>준중형SUV (투싼, 스포티지, QM5, 티구안급 등)</td>\n",
              "    </tr>\n",
              "    <tr>\n",
              "      <th>10</th>\n",
              "      <td>산불</td>\n",
              "      <td>태풍급 강풍과 건... :: 네이버 뉴스</td>\n",
              "      <td>M</td>\n",
              "      <td>3</td>\n",
              "      <td>사무직 (일반사무직, 공무원, 직업군인)</td>\n",
              "      <td>400~499만원</td>\n",
              "      <td>아니오</td>\n",
              "      <td></td>\n",
              "      <td>연립주택/ 다세대/ 빌라</td>\n",
              "      <td>경기</td>\n",
              "      <td>수원시 영통구</td>\n",
              "      <td>영통2동</td>\n",
              "      <td>준대형차 (그랜저, K7, 알페온, 캠리급, 파사트급 등)</td>\n",
              "    </tr>\n",
              "  </tbody>\n",
              "</table>\n",
              "</div>\n",
              "      <button class=\"colab-df-convert\" onclick=\"convertToInteractive('df-40cdde4c-fdca-4f4a-9c5f-46406f40829a')\"\n",
              "              title=\"Convert this dataframe to an interactive table.\"\n",
              "              style=\"display:none;\">\n",
              "        \n",
              "  <svg xmlns=\"http://www.w3.org/2000/svg\" height=\"24px\"viewBox=\"0 0 24 24\"\n",
              "       width=\"24px\">\n",
              "    <path d=\"M0 0h24v24H0V0z\" fill=\"none\"/>\n",
              "    <path d=\"M18.56 5.44l.94 2.06.94-2.06 2.06-.94-2.06-.94-.94-2.06-.94 2.06-2.06.94zm-11 1L8.5 8.5l.94-2.06 2.06-.94-2.06-.94L8.5 2.5l-.94 2.06-2.06.94zm10 10l.94 2.06.94-2.06 2.06-.94-2.06-.94-.94-2.06-.94 2.06-2.06.94z\"/><path d=\"M17.41 7.96l-1.37-1.37c-.4-.4-.92-.59-1.43-.59-.52 0-1.04.2-1.43.59L10.3 9.45l-7.72 7.72c-.78.78-.78 2.05 0 2.83L4 21.41c.39.39.9.59 1.41.59.51 0 1.02-.2 1.41-.59l7.78-7.78 2.81-2.81c.8-.78.8-2.07 0-2.86zM5.41 20L4 18.59l7.72-7.72 1.47 1.35L5.41 20z\"/>\n",
              "  </svg>\n",
              "      </button>\n",
              "      \n",
              "  <style>\n",
              "    .colab-df-container {\n",
              "      display:flex;\n",
              "      flex-wrap:wrap;\n",
              "      gap: 12px;\n",
              "    }\n",
              "\n",
              "    .colab-df-convert {\n",
              "      background-color: #E8F0FE;\n",
              "      border: none;\n",
              "      border-radius: 50%;\n",
              "      cursor: pointer;\n",
              "      display: none;\n",
              "      fill: #1967D2;\n",
              "      height: 32px;\n",
              "      padding: 0 0 0 0;\n",
              "      width: 32px;\n",
              "    }\n",
              "\n",
              "    .colab-df-convert:hover {\n",
              "      background-color: #E2EBFA;\n",
              "      box-shadow: 0px 1px 2px rgba(60, 64, 67, 0.3), 0px 1px 3px 1px rgba(60, 64, 67, 0.15);\n",
              "      fill: #174EA6;\n",
              "    }\n",
              "\n",
              "    [theme=dark] .colab-df-convert {\n",
              "      background-color: #3B4455;\n",
              "      fill: #D2E3FC;\n",
              "    }\n",
              "\n",
              "    [theme=dark] .colab-df-convert:hover {\n",
              "      background-color: #434B5C;\n",
              "      box-shadow: 0px 1px 3px 1px rgba(0, 0, 0, 0.15);\n",
              "      filter: drop-shadow(0px 1px 2px rgba(0, 0, 0, 0.3));\n",
              "      fill: #FFFFFF;\n",
              "    }\n",
              "  </style>\n",
              "\n",
              "      <script>\n",
              "        const buttonEl =\n",
              "          document.querySelector('#df-40cdde4c-fdca-4f4a-9c5f-46406f40829a button.colab-df-convert');\n",
              "        buttonEl.style.display =\n",
              "          google.colab.kernel.accessAllowed ? 'block' : 'none';\n",
              "\n",
              "        async function convertToInteractive(key) {\n",
              "          const element = document.querySelector('#df-40cdde4c-fdca-4f4a-9c5f-46406f40829a');\n",
              "          const dataTable =\n",
              "            await google.colab.kernel.invokeFunction('convertToInteractive',\n",
              "                                                     [key], {});\n",
              "          if (!dataTable) return;\n",
              "\n",
              "          const docLinkHtml = 'Like what you see? Visit the ' +\n",
              "            '<a target=\"_blank\" href=https://colab.research.google.com/notebooks/data_table.ipynb>data table notebook</a>'\n",
              "            + ' to learn more about interactive tables.';\n",
              "          element.innerHTML = '';\n",
              "          dataTable['output_type'] = 'display_data';\n",
              "          await google.colab.output.renderOutput(dataTable, element);\n",
              "          const docLink = document.createElement('div');\n",
              "          docLink.innerHTML = docLinkHtml;\n",
              "          element.appendChild(docLink);\n",
              "        }\n",
              "      </script>\n",
              "    </div>\n",
              "  </div>\n",
              "  "
            ]
          },
          "metadata": {},
          "execution_count": 70
        }
      ]
    },
    {
      "cell_type": "markdown",
      "source": [
        "### 230대 성별"
      ],
      "metadata": {
        "id": "F9YuqGlKNBVk"
      }
    },
    {
      "cell_type": "code",
      "source": [
        "sex_counts = df4_23['성별'].value_counts()\n",
        "sex_counts"
      ],
      "metadata": {
        "colab": {
          "base_uri": "https://localhost:8080/"
        },
        "outputId": "7736249b-50d0-403f-c126-283f7c1e4595",
        "id": "-9V0ZdUaNBVk"
      },
      "execution_count": null,
      "outputs": [
        {
          "output_type": "execute_result",
          "data": {
            "text/plain": [
              "M    96\n",
              "F    82\n",
              "Name: 성별, dtype: int64"
            ]
          },
          "metadata": {},
          "execution_count": 71
        }
      ]
    },
    {
      "cell_type": "code",
      "source": [
        "round(sex_counts.loc['F'] / sex_counts.sum() * 100 , 1),\\\n",
        "round(sex_counts.loc['M'] / sex_counts.sum() * 100 , 1)"
      ],
      "metadata": {
        "colab": {
          "base_uri": "https://localhost:8080/"
        },
        "outputId": "0d7d990a-bacd-47b1-97f0-de26617232d2",
        "id": "9H5-SY0XNBVk"
      },
      "execution_count": null,
      "outputs": [
        {
          "output_type": "execute_result",
          "data": {
            "text/plain": [
              "(46.1, 53.9)"
            ]
          },
          "metadata": {},
          "execution_count": 72
        }
      ]
    },
    {
      "cell_type": "markdown",
      "source": [
        "### 230대 직업"
      ],
      "metadata": {
        "id": "TE1nbLizNBVk"
      }
    },
    {
      "cell_type": "code",
      "source": [
        "df4_23['직업'].notnull().sum(), df4_23['소득'].notnull().sum()"
      ],
      "metadata": {
        "colab": {
          "base_uri": "https://localhost:8080/"
        },
        "outputId": "40d32fa2-4891-42b1-ab8e-f0d965a64271",
        "id": "BevhHyHyNBVk"
      },
      "execution_count": null,
      "outputs": [
        {
          "output_type": "execute_result",
          "data": {
            "text/plain": [
              "(141, 141)"
            ]
          },
          "metadata": {},
          "execution_count": 73
        }
      ]
    },
    {
      "cell_type": "code",
      "source": [
        "job_counts = df4_23['직업'].value_counts()\n",
        "job_counts"
      ],
      "metadata": {
        "colab": {
          "base_uri": "https://localhost:8080/"
        },
        "outputId": "239d6502-1db5-4421-89a9-70912b7ab249",
        "id": "or8g2zbENBVk"
      },
      "execution_count": null,
      "outputs": [
        {
          "output_type": "execute_result",
          "data": {
            "text/plain": [
              "사무직 (일반사무직, 공무원, 직업군인)             64\n",
              "학생 (초중고학생, 대학생, 대학원생)              18\n",
              "전문직 (의사, 판검사, 예술가, 종교인)            17\n",
              "주부 (전업주부, 파트타임 근무 주부)              11\n",
              "무직                                 10\n",
              "판매직 (상점점원, 보험설계사, 노점상)              4\n",
              "생산/노무직 (생산감독, 경비원, 공장근로자)           4\n",
              "교직 (교사, 유치원교사, 학원강사)                4\n",
              "자영업 (도소매업, 숙박업, 미용업)                3\n",
              "서비스직 (요식업, 숙박업, 미용실종업원)             2\n",
              "관리직 (사장, 간부, 고위공무원)                 2\n",
              "기타                                  1\n",
              "농/축/광/수산업 (축산, 낙농업, 수산, 임업, 광업)     1\n",
              "Name: 직업, dtype: int64"
            ]
          },
          "metadata": {},
          "execution_count": 74
        }
      ]
    },
    {
      "cell_type": "code",
      "source": [
        "drop_jobs = job_counts[job_counts.index.str.contains('학생|퇴직|주부')]\n",
        "drop_jobs"
      ],
      "metadata": {
        "colab": {
          "base_uri": "https://localhost:8080/"
        },
        "outputId": "7af38d3b-6c0c-482d-a7cd-eab79b0cb564",
        "id": "_lxVdK7tNBVk"
      },
      "execution_count": null,
      "outputs": [
        {
          "output_type": "execute_result",
          "data": {
            "text/plain": [
              "학생 (초중고학생, 대학생, 대학원생)    18\n",
              "주부 (전업주부, 파트타임 근무 주부)    11\n",
              "Name: 직업, dtype: int64"
            ]
          },
          "metadata": {},
          "execution_count": 75
        }
      ]
    },
    {
      "cell_type": "code",
      "source": [
        "round((job_counts.sum() - drop_jobs.sum() - job_counts['무직']) / len(df4_23) * 100, 1),\\\n",
        "job_counts.sum() - drop_jobs.sum() - job_counts['무직']"
      ],
      "metadata": {
        "colab": {
          "base_uri": "https://localhost:8080/"
        },
        "outputId": "fe5ef4ef-abc4-4330-be81-d539e1df3d05",
        "id": "ZQ6QyBkENBVk"
      },
      "execution_count": null,
      "outputs": [
        {
          "output_type": "execute_result",
          "data": {
            "text/plain": [
              "(57.3, 102)"
            ]
          },
          "metadata": {},
          "execution_count": 76
        }
      ]
    },
    {
      "cell_type": "code",
      "source": [
        "job2_counts = df4_2['직업'].value_counts()\n",
        "job3_counts = df4_3['직업'].value_counts()"
      ],
      "metadata": {
        "id": "XGk6lq8qNBVk"
      },
      "execution_count": null,
      "outputs": []
    },
    {
      "cell_type": "code",
      "source": [
        "drop2_jobs = job2_counts[job2_counts.index.str.contains('학생|퇴직|주부')]\n",
        "drop3_jobs = job3_counts[job3_counts.index.str.contains('학생|퇴직|주부')]\n",
        "drop3_jobs"
      ],
      "metadata": {
        "colab": {
          "base_uri": "https://localhost:8080/"
        },
        "outputId": "c595df7e-2b86-4d15-f2ff-169198bb9b16",
        "id": "mvEJv1BjNBVk"
      },
      "execution_count": null,
      "outputs": [
        {
          "output_type": "execute_result",
          "data": {
            "text/plain": [
              "주부 (전업주부, 파트타임 근무 주부)    9\n",
              "학생 (초중고학생, 대학생, 대학원생)    1\n",
              "Name: 직업, dtype: int64"
            ]
          },
          "metadata": {},
          "execution_count": 78
        }
      ]
    },
    {
      "cell_type": "code",
      "source": [
        "round((job2_counts.sum() - drop2_jobs.sum() - job2_counts['무직']) / len(df4_23) * 100, 1),\\\n",
        "job2_counts.sum() - drop2_jobs.sum() - job2_counts['무직'],\\\n",
        "round((job3_counts.sum() - drop3_jobs.sum() - job3_counts['무직']) / len(df4_23) * 100, 1),\\\n",
        "job3_counts.sum() - drop3_jobs.sum() - job3_counts['무직']"
      ],
      "metadata": {
        "colab": {
          "base_uri": "https://localhost:8080/"
        },
        "outputId": "37715b11-d4c4-4d55-cae2-9d01f3574765",
        "id": "fIxNygjiNBVk"
      },
      "execution_count": null,
      "outputs": [
        {
          "output_type": "execute_result",
          "data": {
            "text/plain": [
              "(11.8, 21, 45.5, 81)"
            ]
          },
          "metadata": {},
          "execution_count": 79
        }
      ]
    },
    {
      "cell_type": "markdown",
      "source": [
        "### 230대 자동차"
      ],
      "metadata": {
        "id": "Et02x0p5NBVk"
      }
    },
    {
      "cell_type": "code",
      "source": [
        "car_counts = df4_23['자동차'].value_counts()\n",
        "car_counts"
      ],
      "metadata": {
        "colab": {
          "base_uri": "https://localhost:8080/"
        },
        "outputId": "baca5a59-63e9-4790-cba2-85e9c4175908",
        "id": "0SxBKGccNBVk"
      },
      "execution_count": null,
      "outputs": [
        {
          "output_type": "execute_result",
          "data": {
            "text/plain": [
              "준중형차 (아반떼, K3, 크루즈, 제타급 등)          16\n",
              "중형차 (쏘나타, K5, 말리부, 골프급 등)           15\n",
              "준대형차 (그랜저, K7, 알페온, 캠리급, 파사트급 등)     7\n",
              "경차 (모닝, 스파크 등)                       5\n",
              "소형SUV/CUV (티볼리, QM3 등)               4\n",
              "소형차 (액센트, 프라이드, 아베오, 피아트급 등)         4\n",
              "중형SUV (싼타페, 쏘렌토, 캡티바, BMW X3급 등)     4\n",
              "준중형SUV (투싼, 스포티지, QM5, 티구안급 등)       3\n",
              "기타 (승합차/트럭/화물차/기타 차량 등)              2\n",
              "MPV (카니발, 올란도, 피카소급, 오딧세이 등)         1\n",
              "준중형파생 (벨로스터, I30 등)                  1\n",
              "대형SUV (베라크루즈, 모하비, 투아렉급 등)           1\n",
              "스포츠 (제네시스 쿠페, BMW M, 벤츠 AMG 등)       1\n",
              "대형차 (제너시스, BMW5급 등)                  1\n",
              "Name: 자동차, dtype: int64"
            ]
          },
          "metadata": {},
          "execution_count": 80
        }
      ]
    },
    {
      "cell_type": "code",
      "source": [
        "round(car_counts.sum() / len(df4_23) * 100, 1),\\\n",
        "car_counts.sum()"
      ],
      "metadata": {
        "colab": {
          "base_uri": "https://localhost:8080/"
        },
        "outputId": "0ee47a5e-38d7-4c6f-c868-19e75bcd0e5b",
        "id": "HVuq6Ar9NBVk"
      },
      "execution_count": null,
      "outputs": [
        {
          "output_type": "execute_result",
          "data": {
            "text/plain": [
              "(36.5, 65)"
            ]
          },
          "metadata": {},
          "execution_count": 81
        }
      ]
    },
    {
      "cell_type": "code",
      "source": [
        "car2_counts = df4_2['자동차'].value_counts()\n",
        "car3_counts = df4_3['자동차'].value_counts()\n",
        "\n",
        "round(car2_counts.sum() / len(df4_23) * 100, 1),\\\n",
        "car2_counts.sum(),\\\n",
        "round(car3_counts.sum() / len(df4_23) * 100, 1),\\\n",
        "car3_counts.sum()"
      ],
      "metadata": {
        "colab": {
          "base_uri": "https://localhost:8080/"
        },
        "outputId": "a45f23e6-4cfa-4c9c-cfaa-a19eeccce7cd",
        "id": "LgXu8FPKNBVk"
      },
      "execution_count": null,
      "outputs": [
        {
          "output_type": "execute_result",
          "data": {
            "text/plain": [
              "(10.7, 19, 25.8, 46)"
            ]
          },
          "metadata": {},
          "execution_count": 82
        }
      ]
    },
    {
      "cell_type": "markdown",
      "source": [
        "### 230대 거주지"
      ],
      "metadata": {
        "id": "RG7dxLEzNBVk"
      }
    },
    {
      "cell_type": "code",
      "source": [
        "df4_23['시도'].value_counts()[:5],\\\n",
        "df4_2['시도'].value_counts()[:5],\\\n",
        "df4_3['시도'].value_counts()[:5]"
      ],
      "metadata": {
        "colab": {
          "base_uri": "https://localhost:8080/"
        },
        "outputId": "82cedc67-9591-47b5-aaec-4be145ee3765",
        "id": "pceYijuZNBVk"
      },
      "execution_count": null,
      "outputs": [
        {
          "output_type": "execute_result",
          "data": {
            "text/plain": [
              "(서울    57\n",
              " 경기    36\n",
              " 인천    18\n",
              " 부산    18\n",
              " 충남    13\n",
              " Name: 시도, dtype: int64,\n",
              " 서울    24\n",
              " 경기    14\n",
              " 부산     5\n",
              " 충북     5\n",
              " 인천     4\n",
              " Name: 시도, dtype: int64,\n",
              " 서울    33\n",
              " 경기    22\n",
              " 인천    14\n",
              " 부산    13\n",
              " 충남    12\n",
              " Name: 시도, dtype: int64)"
            ]
          },
          "metadata": {},
          "execution_count": 83
        }
      ]
    },
    {
      "cell_type": "code",
      "source": [
        "df4_23[df4_23['시도'] == \"서울\"]['재해'].value_counts()[:5],\\\n",
        "df4_2[df4_2['시도'] == \"서울\"]['재해'].value_counts()[:5],\\\n",
        "df4_3[df4_3['시도'] == \"서울\"]['재해'].value_counts()[:5]"
      ],
      "metadata": {
        "colab": {
          "base_uri": "https://localhost:8080/"
        },
        "outputId": "8c4b94a9-8f42-492a-9942-fa5605971832",
        "id": "S7xvfqO9NBVl"
      },
      "execution_count": null,
      "outputs": [
        {
          "output_type": "execute_result",
          "data": {
            "text/plain": [
              "(산사태     29\n",
              " 산불      23\n",
              " 산림재해     5\n",
              " Name: 재해, dtype: int64,\n",
              " 산사태     12\n",
              " 산불      10\n",
              " 산림재해     2\n",
              " Name: 재해, dtype: int64,\n",
              " 산사태     17\n",
              " 산불      13\n",
              " 산림재해     3\n",
              " Name: 재해, dtype: int64)"
            ]
          },
          "metadata": {},
          "execution_count": 84
        }
      ]
    },
    {
      "cell_type": "code",
      "source": [
        "df4_45['시도'].value_counts()[:5],\\\n",
        "df4_45[df4_45['시도'] == \"서울\"]['재해'].value_counts()[:5]"
      ],
      "metadata": {
        "colab": {
          "base_uri": "https://localhost:8080/"
        },
        "outputId": "211b4d50-6a58-46c2-e5a7-9ef3d85a968d",
        "id": "O0Z_zyvENBVl"
      },
      "execution_count": null,
      "outputs": [
        {
          "output_type": "execute_result",
          "data": {
            "text/plain": [
              "(서울    53\n",
              " 경기    31\n",
              " 부산    18\n",
              " 대구     9\n",
              " 대전     7\n",
              " Name: 시도, dtype: int64,\n",
              " 산사태     33\n",
              " 산림재해    10\n",
              " 산불      10\n",
              " Name: 재해, dtype: int64)"
            ]
          },
          "metadata": {},
          "execution_count": 85
        }
      ]
    },
    {
      "cell_type": "code",
      "source": [],
      "metadata": {
        "id": "I_tLVwnDNDKq"
      },
      "execution_count": null,
      "outputs": []
    }
  ]
}