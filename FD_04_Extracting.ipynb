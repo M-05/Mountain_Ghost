{
  "nbformat": 4,
  "nbformat_minor": 0,
  "metadata": {
    "colab": {
      "provenance": []
    },
    "kernelspec": {
      "name": "python3",
      "display_name": "Python 3"
    },
    "language_info": {
      "name": "python"
    }
  },
  "cells": [
    {
      "cell_type": "code",
      "execution_count": null,
      "metadata": {
        "id": "0y-ZuXZts9Lu"
      },
      "outputs": [],
      "source": [
        "import pandas as pd\n",
        "import os\n",
        "from google.colab import drive"
      ]
    },
    {
      "cell_type": "code",
      "source": [
        "pd.set_option('display.max_columns', None)\n",
        "# display.[max_categories, max_columns, max_colwidth, max_dir_items,\n",
        "#   max_info_columns, max_info_rows, max_rows, max_seq_items, memory_usage,\n",
        "#   min_rows, multi_sparse, notebook_repr_html, pprint_nest_depth, precision,\n",
        "#   show_dimensions]"
      ],
      "metadata": {
        "id": "KxiaNFK4tCuG"
      },
      "execution_count": null,
      "outputs": []
    },
    {
      "cell_type": "code",
      "source": [
        "# 나의 구글 드라이브 연결\n",
        "drive.mount(\"/content/drive\")"
      ],
      "metadata": {
        "colab": {
          "base_uri": "https://localhost:8080/"
        },
        "id": "4pDBp2F6uv5C",
        "outputId": "39c1d0e3-9515-496c-f791-5f22241ebeb5"
      },
      "execution_count": null,
      "outputs": [
        {
          "output_type": "stream",
          "name": "stdout",
          "text": [
            "Mounted at /content/drive\n"
          ]
        }
      ]
    },
    {
      "cell_type": "code",
      "source": [
        "path = './drive/MyDrive/Colab Notebooks/'"
      ],
      "metadata": {
        "id": "tSvDFn2Xlcof"
      },
      "execution_count": null,
      "outputs": []
    },
    {
      "cell_type": "markdown",
      "source": [
        "# 데이터 불러오기"
      ],
      "metadata": {
        "id": "xAKWS_Av06pS"
      }
    },
    {
      "cell_type": "code",
      "source": [
        "# 산림체험 관심인구 정보\n",
        "df1 = pd.read_csv(path + \"FPL060101.csv\")\n",
        "# 산림체험 관심인구 선호 산림체험장소 검색 정보\n",
        "df2 = pd.read_csv(path + \"FPL060201.csv\")\n",
        "# 산림체험 관심인구 선호 산림체험 프로그램 검색 정보\n",
        "df3 = pd.read_csv(path + \"FPL060301.csv\")\n",
        "\n",
        "# 산림치유 관심인구 라이프스타일 (온라인쇼핑몰 검색/구매 카테고리) 정보\n",
        "df4 = pd.read_csv(path + \"FPL060501.csv\")\n",
        "\n",
        "# 귀산촌 관심인구 정보\n",
        "df5 = pd.read_csv(path + \"FPL070101.csv\")\n",
        "\n",
        "# 산림재해 관심인구 정보\n",
        "df19 = pd.read_csv(path + \"FPL080101.csv\")\n",
        "# 산림대피소 관심인구 정보\n",
        "df20 = pd.read_csv(path + \"FPL080201.csv\")\n",
        "# 산림재해 관심인구 관심지역 검색정보\n",
        "df21 = pd.read_csv(path + \"FPL080301.csv\")\n",
        "# 산림재해 연관 검색 키워드를 검색한 관심인구 정보\n",
        "df22 = pd.read_csv(path + \"FPL080401.csv\")\n",
        "\n",
        "# 전국 국립공원 등산로 이용자 분류(성/연령)별 평균 칼로리 소모량 정보\n",
        "df23 = pd.read_csv(path + \"PARK_KCAL.csv\")"
      ],
      "metadata": {
        "id": "900CO4-stGEi"
      },
      "execution_count": null,
      "outputs": []
    },
    {
      "cell_type": "code",
      "source": [],
      "metadata": {
        "id": "pCEAzBhIvfuN"
      },
      "execution_count": null,
      "outputs": []
    },
    {
      "cell_type": "markdown",
      "source": [
        "# 산림체험\n",
        "\n",
        "### df1 : 산림체험 관심인구 정보 (Total : 9,966)\n",
        "\n",
        "|순위| 1 | 2 | 3 | 4 | 5 |\n",
        "|--|--|--|--|--|--|\n",
        "|거주지 230 | 서울 | 경기 | 인천 | 부산 | 대구\n",
        "|체험 | 숲체험 | 산림복합체험 | 산림체험 |  |\n",
        "|거주지 20 | 서울 | 경기 | 대구 | 인천 | 부산\n",
        "|체험 | 숲체험 | 산림복합체험 | 산림체험 |  |\n",
        "|거주지 30 | 서울 | 경기 | 인천 | 부산 | 대구\n",
        "|체험 | 숲체험 | 산림복합체험 | 산림체험 |  |\n",
        "|||||||\n",
        "|거주지 450 | 서울 | 경기 | 인천 | 부산 | 대구\n",
        "|체험 | 숲체험 | 산림복합체험 | 산림체험 |  |\n",
        "\n",
        "`[2-30] 여 : 5,141(86.3%), 남 : 815(13.7%)`\n",
        "\n",
        "|Age|관심인구|Car|job|\n",
        "|--|--|--|--|\n",
        "|2-30|5,956(59.8%)|1,634(27.4%)|2,461(41.3%)\n",
        "|20|1,278(12.8%)|128(2.1%)|288(4.8%)\n",
        "|30|4,678(46.9%)|1,506(25.3%)|2,173(36.5%)\n",
        "\n",
        "---\n",
        "\n",
        "### df2 : 산림체험 관심인구 선호 산림체험장소 검색 정보 (Total : 4,142)\n",
        "\n",
        "|순위| 1 | 2 | 3 | 4 | 5 |\n",
        "|--|--|--|--|--|--|\n",
        "|거주지 230 | 서울 | 경기 | 부산 | 인천 | 경남\n",
        "|체험 | 숲체험장 | 숲체험원 | 산림복합체험원 | 산림체험원 |\n",
        "|거주지 20 | 서울 | 경기 | 인천 | 경남 | 부산\n",
        "|체험 | 숲체험장 | 숲체험원 | 산림복합체험원 | 산림체험원 |\n",
        "|거주지 30 | 서울 | 경기 | 부산 | 인천 | 대구\n",
        "|체험 | 숲체험장 | 숲체험원 | 산림체험원 | 산림복합체험원 |\n",
        "|||||||\n",
        "|거주지 450 | 서울 | 경기 | 인천 | 부산 | 대구\n",
        "|체험 | 숲체험장 | 숲체험원 | 산림복합체험원 | 산림체험원 |\n",
        "\n",
        "`[2-30] 여 : 2,138(86.3%), 남 : 338(13.7%)`\n",
        "\n",
        "|Age|관심인구|Car|job|\n",
        "|--|--|--|--|\n",
        "|2-30|2,476(59.8%)|705(28.5%)|1031(41.6%)\n",
        "|20|533(12.9%)|49(2.0%) | 102(4.1%)\n",
        "|30|1,943(46.9%)|656(26.5%)|929(37.5%)\n",
        "\n",
        "---\n",
        "\n",
        "### df3 : 산림체험 관심인구 선호 산림체험 프로그램 검색 정보 (Total : 2,507)\n",
        "\n",
        "|순위| 1 | 2 | 3 | 4 | 5 |\n",
        "|--|--|--|--|--|--|\n",
        "|거주지 230 | 서울 | 경기 | 부산 | 인천 | 대구\n",
        "|체험 | 숲체험프로그램 | 숲체험교육확동 | 산림복합체험프로그램 | 산림체험프로그램 |\n",
        "|거주지 20 | 경기 | 서울 | 경남 | 대구 | 부산\n",
        "|체험 | 숲체험프로그램 | 숲체험교육확동 | 산림복합체험프로그램 | 산림체험프로그램 |\n",
        "|거주지 30 | 서울 | 경기 | 부산 | 인천 | 대구\n",
        "|체험 | 숲체험프로그램 | 숲체험교육확동 | 산림복합체험프로그램 | 산림체험프로그램 |\n",
        "|||||||\n",
        "|거주지 450 | 서울 | 경기 | 인천 | 부산 | 대구\n",
        "|체험 | 숲체험프로그램 | 숲체험교육확동 | 산림체험프로그램 | 산림복합체험프로그램 |\n",
        "\n",
        "`[2-30] 여 : 1,288(86.3%), 남 : 205(13.7%)`\n",
        "\n",
        "|Age|관심인구|Car|job|\n",
        "|--|--|--|--|\n",
        "|2-30|1,493(59.6%)|402(26.9%)|608(40.7%)\n",
        "|20|328(13.1%)|35(2.3%) | 79(5.3%)\n",
        "|30|1,165(46.5%)|367(24.6%)|529(35.4%)\n",
        "\n",
        "---\n",
        "\n",
        "### df4 : 산림치유 관심인구 라이프스타일 (온라인쇼핑몰 검색/구매 카테고리) 정보 (Total : 42,430)\n",
        "\n",
        "|순위| 1 | 2 | 3 | 4 | 5 |\n",
        "|--|--|--|--|--|--|\n",
        "|거주지 230 | 서울 | 경기 | 부산 | 인천 | 대구\n",
        "|카테고리 | 식품/건강 | 패션의류 | 생활/주방 | 뷰티 | 디지털/가전\n",
        "|거주지 20 | 서울 | 부산 | 경기 | 인천 | 경남\n",
        "|카테고리 | 식품/건강 | 패션의류 | 디지털/가전 | 뷰티 | 생활/주방\n",
        "|거주지 30 | 서울 | 경기 | 부산 | 인천 | 대구\n",
        "|카테고리 | 식품/건강 | 패션의류 | 생활/주방 | 뷰티 | 패션잡화\n",
        "|||||||\n",
        "|거주지 14560 | 서울 | 경기 | 인천 | 부산 | 대구\n",
        "|카테고리 | 식품/건강 | 패션의류 | 뷰티 | 생활/주방 | 디지털/가전\n",
        "\n",
        "`[2-30] 여 : 23,059(88.7%), 남 : 2,941(11.3%)`\n",
        "\n",
        "|Age|관심인구|Car|job|\n",
        "|--|--|--|--|\n",
        "|2-30|26,000(61.3%)|8,680(33.4%)|11,018(42.4%)\n",
        "|20|5,458(12.9%)|438(1.7%) | 1952(7.5%)\n",
        "|30|20,542(48.4%)|8,242(31.7%)|9,066(34.9%)\n",
        "\n",
        "---\n",
        "\n",
        "### df5 : 귀산촌 관심인구 정보 (Total : 13,011)\n",
        "\n",
        "|순위| 1 | 2 | 3 | 4 | 5 |\n",
        "|--|--|--|--|--|--|\n",
        "|거주지 230 | 서울 | 경기 | 인천 | 부산 | 대구\n",
        "|귀산촌 | 귀산촌 |  |  |  |\n",
        "|거주지 20 | 서울 | 경기 | 인천 | 부산 | 경남\n",
        "|귀산촌 | 귀산촌 |  |  |  |\n",
        "|거주지 30 | 서울 | 경기 | 인천 | 부산 | 대구\n",
        "|귀산촌 | 귀산촌 |  |  |  |\n",
        "|||||||\n",
        "|거주지 450 | 서울 | 경기 | 인천 | 부산 | 대구\n",
        "|귀산촌 | 귀산촌 |  |  |  |\n",
        "\n",
        "`[2-30] 여 : 429(25.6%), 남 : 1,247(74.4%)`\n",
        "\n",
        "|Age|관심인구|Car|job|\n",
        "|--|--|--|--|\n",
        "|2-30|1,676(12.9%)|393(23.4%)|590(35.2%)\n",
        "|20|741(5.7%)|57(3.4%) | 121(7.2%)\n",
        "|30|935(7.2%)|336(20.0%)|469(28.0%)"
      ],
      "metadata": {
        "id": "om6m2vDtvcAD"
      }
    },
    {
      "cell_type": "markdown",
      "source": [
        "귀산 -> 남자  \n",
        "산림 체험 및 산림 치유 -> 여자"
      ],
      "metadata": {
        "id": "_r4mWxdmwswF"
      }
    },
    {
      "cell_type": "markdown",
      "source": [
        "---\n",
        "---\n",
        "# df1 : 산림체험 관심인구 정보 (Total : 9,966)"
      ],
      "metadata": {
        "id": "UiL9NghznLts"
      }
    },
    {
      "cell_type": "code",
      "source": [
        "len(df1)"
      ],
      "metadata": {
        "colab": {
          "base_uri": "https://localhost:8080/"
        },
        "id": "4uupFVAIQYZQ",
        "outputId": "4946a6c5-a0dd-4965-b896-0f140fdfcd95"
      },
      "execution_count": null,
      "outputs": [
        {
          "output_type": "execute_result",
          "data": {
            "text/plain": [
              "9966"
            ]
          },
          "metadata": {},
          "execution_count": 6
        }
      ]
    },
    {
      "cell_type": "code",
      "source": [
        "df1.head()"
      ],
      "metadata": {
        "colab": {
          "base_uri": "https://localhost:8080/",
          "height": 354
        },
        "id": "popY0YyWm57k",
        "outputId": "d2b61385-09dc-4316-b9db-a3a644960604"
      },
      "execution_count": null,
      "outputs": [
        {
          "output_type": "execute_result",
          "data": {
            "text/plain": [
              "       체험                              사이트제목 성별  연령                      직업  \\\n",
              "0  산림복합체험                       유명산 산림복합체험센터  F   3  사무직 (일반사무직, 공무원, 직업군인)   \n",
              "1     숲체험                    <지리산 자연휴양림> 숲체험  F   4                     NaN   \n",
              "2  산림복합체험                       유명산 산림복합체험센터  F   3  사무직 (일반사무직, 공무원, 직업군인)   \n",
              "3    산림체험  카니발 타고 산림 체험 기아차, 산림청과 교통약자 여행 지원  F   3                     NaN   \n",
              "4     숲체험          봄날에 딱 숲체험,체험놀이<숲속곰디 체험학교>  F   4   주부 (전업주부, 파트타임 근무 주부)   \n",
              "\n",
              "          소득      결혼          자녀         주거  시도     구     동  \\\n",
              "0  800~899만원   예          자녀 있음   아파트/ 주상복합  서울   송파구  문정1동   \n",
              "1        NaN                            NaN  대전   대덕구   비래동   \n",
              "2  900~999만원   예          자녀 있음   아파트/ 주상복합  서울  영등포구  여의도동   \n",
              "3        NaN                            NaN  서울   은평구   응암동   \n",
              "4  500~599만원   예          자녀 있음   아파트/ 주상복합  서울   강동구   천호동   \n",
              "\n",
              "                         자동차  \n",
              "0        대형차 (제너시스, BMW5급 등)  \n",
              "1                        NaN  \n",
              "2  중형차 (쏘나타, K5, 말리부, 골프급 등)  \n",
              "3                        NaN  \n",
              "4             경차 (모닝, 스파크 등)  "
            ],
            "text/html": [
              "\n",
              "  <div id=\"df-6e9708d3-a433-4772-8e55-3adea7f6f597\">\n",
              "    <div class=\"colab-df-container\">\n",
              "      <div>\n",
              "<style scoped>\n",
              "    .dataframe tbody tr th:only-of-type {\n",
              "        vertical-align: middle;\n",
              "    }\n",
              "\n",
              "    .dataframe tbody tr th {\n",
              "        vertical-align: top;\n",
              "    }\n",
              "\n",
              "    .dataframe thead th {\n",
              "        text-align: right;\n",
              "    }\n",
              "</style>\n",
              "<table border=\"1\" class=\"dataframe\">\n",
              "  <thead>\n",
              "    <tr style=\"text-align: right;\">\n",
              "      <th></th>\n",
              "      <th>체험</th>\n",
              "      <th>사이트제목</th>\n",
              "      <th>성별</th>\n",
              "      <th>연령</th>\n",
              "      <th>직업</th>\n",
              "      <th>소득</th>\n",
              "      <th>결혼</th>\n",
              "      <th>자녀</th>\n",
              "      <th>주거</th>\n",
              "      <th>시도</th>\n",
              "      <th>구</th>\n",
              "      <th>동</th>\n",
              "      <th>자동차</th>\n",
              "    </tr>\n",
              "  </thead>\n",
              "  <tbody>\n",
              "    <tr>\n",
              "      <th>0</th>\n",
              "      <td>산림복합체험</td>\n",
              "      <td>유명산 산림복합체험센터</td>\n",
              "      <td>F</td>\n",
              "      <td>3</td>\n",
              "      <td>사무직 (일반사무직, 공무원, 직업군인)</td>\n",
              "      <td>800~899만원</td>\n",
              "      <td>예</td>\n",
              "      <td>자녀 있음</td>\n",
              "      <td>아파트/ 주상복합</td>\n",
              "      <td>서울</td>\n",
              "      <td>송파구</td>\n",
              "      <td>문정1동</td>\n",
              "      <td>대형차 (제너시스, BMW5급 등)</td>\n",
              "    </tr>\n",
              "    <tr>\n",
              "      <th>1</th>\n",
              "      <td>숲체험</td>\n",
              "      <td>&lt;지리산 자연휴양림&gt; 숲체험</td>\n",
              "      <td>F</td>\n",
              "      <td>4</td>\n",
              "      <td>NaN</td>\n",
              "      <td>NaN</td>\n",
              "      <td></td>\n",
              "      <td></td>\n",
              "      <td>NaN</td>\n",
              "      <td>대전</td>\n",
              "      <td>대덕구</td>\n",
              "      <td>비래동</td>\n",
              "      <td>NaN</td>\n",
              "    </tr>\n",
              "    <tr>\n",
              "      <th>2</th>\n",
              "      <td>산림복합체험</td>\n",
              "      <td>유명산 산림복합체험센터</td>\n",
              "      <td>F</td>\n",
              "      <td>3</td>\n",
              "      <td>사무직 (일반사무직, 공무원, 직업군인)</td>\n",
              "      <td>900~999만원</td>\n",
              "      <td>예</td>\n",
              "      <td>자녀 있음</td>\n",
              "      <td>아파트/ 주상복합</td>\n",
              "      <td>서울</td>\n",
              "      <td>영등포구</td>\n",
              "      <td>여의도동</td>\n",
              "      <td>중형차 (쏘나타, K5, 말리부, 골프급 등)</td>\n",
              "    </tr>\n",
              "    <tr>\n",
              "      <th>3</th>\n",
              "      <td>산림체험</td>\n",
              "      <td>카니발 타고 산림 체험 기아차, 산림청과 교통약자 여행 지원</td>\n",
              "      <td>F</td>\n",
              "      <td>3</td>\n",
              "      <td>NaN</td>\n",
              "      <td>NaN</td>\n",
              "      <td></td>\n",
              "      <td></td>\n",
              "      <td>NaN</td>\n",
              "      <td>서울</td>\n",
              "      <td>은평구</td>\n",
              "      <td>응암동</td>\n",
              "      <td>NaN</td>\n",
              "    </tr>\n",
              "    <tr>\n",
              "      <th>4</th>\n",
              "      <td>숲체험</td>\n",
              "      <td>봄날에 딱 숲체험,체험놀이&lt;숲속곰디 체험학교&gt;</td>\n",
              "      <td>F</td>\n",
              "      <td>4</td>\n",
              "      <td>주부 (전업주부, 파트타임 근무 주부)</td>\n",
              "      <td>500~599만원</td>\n",
              "      <td>예</td>\n",
              "      <td>자녀 있음</td>\n",
              "      <td>아파트/ 주상복합</td>\n",
              "      <td>서울</td>\n",
              "      <td>강동구</td>\n",
              "      <td>천호동</td>\n",
              "      <td>경차 (모닝, 스파크 등)</td>\n",
              "    </tr>\n",
              "  </tbody>\n",
              "</table>\n",
              "</div>\n",
              "      <button class=\"colab-df-convert\" onclick=\"convertToInteractive('df-6e9708d3-a433-4772-8e55-3adea7f6f597')\"\n",
              "              title=\"Convert this dataframe to an interactive table.\"\n",
              "              style=\"display:none;\">\n",
              "        \n",
              "  <svg xmlns=\"http://www.w3.org/2000/svg\" height=\"24px\"viewBox=\"0 0 24 24\"\n",
              "       width=\"24px\">\n",
              "    <path d=\"M0 0h24v24H0V0z\" fill=\"none\"/>\n",
              "    <path d=\"M18.56 5.44l.94 2.06.94-2.06 2.06-.94-2.06-.94-.94-2.06-.94 2.06-2.06.94zm-11 1L8.5 8.5l.94-2.06 2.06-.94-2.06-.94L8.5 2.5l-.94 2.06-2.06.94zm10 10l.94 2.06.94-2.06 2.06-.94-2.06-.94-.94-2.06-.94 2.06-2.06.94z\"/><path d=\"M17.41 7.96l-1.37-1.37c-.4-.4-.92-.59-1.43-.59-.52 0-1.04.2-1.43.59L10.3 9.45l-7.72 7.72c-.78.78-.78 2.05 0 2.83L4 21.41c.39.39.9.59 1.41.59.51 0 1.02-.2 1.41-.59l7.78-7.78 2.81-2.81c.8-.78.8-2.07 0-2.86zM5.41 20L4 18.59l7.72-7.72 1.47 1.35L5.41 20z\"/>\n",
              "  </svg>\n",
              "      </button>\n",
              "      \n",
              "  <style>\n",
              "    .colab-df-container {\n",
              "      display:flex;\n",
              "      flex-wrap:wrap;\n",
              "      gap: 12px;\n",
              "    }\n",
              "\n",
              "    .colab-df-convert {\n",
              "      background-color: #E8F0FE;\n",
              "      border: none;\n",
              "      border-radius: 50%;\n",
              "      cursor: pointer;\n",
              "      display: none;\n",
              "      fill: #1967D2;\n",
              "      height: 32px;\n",
              "      padding: 0 0 0 0;\n",
              "      width: 32px;\n",
              "    }\n",
              "\n",
              "    .colab-df-convert:hover {\n",
              "      background-color: #E2EBFA;\n",
              "      box-shadow: 0px 1px 2px rgba(60, 64, 67, 0.3), 0px 1px 3px 1px rgba(60, 64, 67, 0.15);\n",
              "      fill: #174EA6;\n",
              "    }\n",
              "\n",
              "    [theme=dark] .colab-df-convert {\n",
              "      background-color: #3B4455;\n",
              "      fill: #D2E3FC;\n",
              "    }\n",
              "\n",
              "    [theme=dark] .colab-df-convert:hover {\n",
              "      background-color: #434B5C;\n",
              "      box-shadow: 0px 1px 3px 1px rgba(0, 0, 0, 0.15);\n",
              "      filter: drop-shadow(0px 1px 2px rgba(0, 0, 0, 0.3));\n",
              "      fill: #FFFFFF;\n",
              "    }\n",
              "  </style>\n",
              "\n",
              "      <script>\n",
              "        const buttonEl =\n",
              "          document.querySelector('#df-6e9708d3-a433-4772-8e55-3adea7f6f597 button.colab-df-convert');\n",
              "        buttonEl.style.display =\n",
              "          google.colab.kernel.accessAllowed ? 'block' : 'none';\n",
              "\n",
              "        async function convertToInteractive(key) {\n",
              "          const element = document.querySelector('#df-6e9708d3-a433-4772-8e55-3adea7f6f597');\n",
              "          const dataTable =\n",
              "            await google.colab.kernel.invokeFunction('convertToInteractive',\n",
              "                                                     [key], {});\n",
              "          if (!dataTable) return;\n",
              "\n",
              "          const docLinkHtml = 'Like what you see? Visit the ' +\n",
              "            '<a target=\"_blank\" href=https://colab.research.google.com/notebooks/data_table.ipynb>data table notebook</a>'\n",
              "            + ' to learn more about interactive tables.';\n",
              "          element.innerHTML = '';\n",
              "          dataTable['output_type'] = 'display_data';\n",
              "          await google.colab.output.renderOutput(dataTable, element);\n",
              "          const docLink = document.createElement('div');\n",
              "          docLink.innerHTML = docLinkHtml;\n",
              "          element.appendChild(docLink);\n",
              "        }\n",
              "      </script>\n",
              "    </div>\n",
              "  </div>\n",
              "  "
            ]
          },
          "metadata": {},
          "execution_count": 7
        }
      ]
    },
    {
      "cell_type": "code",
      "source": [
        "age_counts = df1['연령'].value_counts()\n",
        "age_counts"
      ],
      "metadata": {
        "colab": {
          "base_uri": "https://localhost:8080/"
        },
        "id": "nFXIYcxvm-Zx",
        "outputId": "b1fb40cc-fb1f-4877-9f17-9ce58814f09c"
      },
      "execution_count": null,
      "outputs": [
        {
          "output_type": "execute_result",
          "data": {
            "text/plain": [
              "3    4678\n",
              "4    3051\n",
              "2    1278\n",
              "5     959\n",
              "Name: 연령, dtype: int64"
            ]
          },
          "metadata": {},
          "execution_count": 8
        }
      ]
    },
    {
      "cell_type": "code",
      "source": [
        "age_counts.loc[[2,3]].sum(), round(age_counts.loc[[2,3]].sum() / age_counts.sum() * 100, 1),\\\n",
        "round(age_counts.loc[2] / age_counts.sum() * 100, 1),\\\n",
        "round(age_counts.loc[3] / age_counts.sum() * 100, 1),\\\n",
        "round(age_counts.drop([2,3]).sum() / age_counts.sum() * 100, 1)"
      ],
      "metadata": {
        "colab": {
          "base_uri": "https://localhost:8080/"
        },
        "id": "CHtJU2W5ntqv",
        "outputId": "85006ac9-7bb4-4519-c3da-8b2be429479b"
      },
      "execution_count": null,
      "outputs": [
        {
          "output_type": "execute_result",
          "data": {
            "text/plain": [
              "(5956, 59.8, 12.8, 46.9, 40.2)"
            ]
          },
          "metadata": {},
          "execution_count": 9
        }
      ]
    },
    {
      "cell_type": "code",
      "source": [
        "df1_23 = df1[df1['연령'].isin([2, 3])]\n",
        "df1_2 = df1[(df1['연령'] == 2)]\n",
        "df1_3 = df1[(df1['연령'] == 3)]\n",
        "df1_1456 = df1[df1['연령'].isin([1, 4, 5, 6])]"
      ],
      "metadata": {
        "id": "UV31QRX1t8nC"
      },
      "execution_count": null,
      "outputs": []
    },
    {
      "cell_type": "code",
      "source": [
        "df1_23.head()"
      ],
      "metadata": {
        "colab": {
          "base_uri": "https://localhost:8080/",
          "height": 354
        },
        "id": "yZHpHcnkCKoA",
        "outputId": "6cd7b5ec-d3de-4bbd-eb6d-a2b9acfa4e1c"
      },
      "execution_count": null,
      "outputs": [
        {
          "output_type": "execute_result",
          "data": {
            "text/plain": [
              "       체험                              사이트제목 성별  연령                      직업  \\\n",
              "0  산림복합체험                       유명산 산림복합체험센터  F   3  사무직 (일반사무직, 공무원, 직업군인)   \n",
              "2  산림복합체험                       유명산 산림복합체험센터  F   3  사무직 (일반사무직, 공무원, 직업군인)   \n",
              "3    산림체험  카니발 타고 산림 체험 기아차, 산림청과 교통약자 여행 지원  F   3                     NaN   \n",
              "5     숲체험                          서울대공원 숲체험  F   2                     NaN   \n",
              "6     숲체험          봄날에 딱 숲체험,체험놀이<숲속곰디 체험학교>  F   3  사무직 (일반사무직, 공무원, 직업군인)   \n",
              "\n",
              "           소득      결혼          자녀         주거  시도        구     동  \\\n",
              "0   800~899만원   예          자녀 있음   아파트/ 주상복합  서울      송파구  문정1동   \n",
              "2   900~999만원   예          자녀 있음   아파트/ 주상복합  서울     영등포구  여의도동   \n",
              "3         NaN                            NaN  서울      은평구   응암동   \n",
              "5         NaN                            NaN  경기  부천시 원미구    상동   \n",
              "6  1,000만원 이상     아니오              아파트/ 주상복합  경기  용인시 수지구  죽전1동   \n",
              "\n",
              "                         자동차  \n",
              "0        대형차 (제너시스, BMW5급 등)  \n",
              "2  중형차 (쏘나타, K5, 말리부, 골프급 등)  \n",
              "3                        NaN  \n",
              "5                        NaN  \n",
              "6  중형차 (쏘나타, K5, 말리부, 골프급 등)  "
            ],
            "text/html": [
              "\n",
              "  <div id=\"df-c90d1b80-9cb4-440c-b766-1abb356cef62\">\n",
              "    <div class=\"colab-df-container\">\n",
              "      <div>\n",
              "<style scoped>\n",
              "    .dataframe tbody tr th:only-of-type {\n",
              "        vertical-align: middle;\n",
              "    }\n",
              "\n",
              "    .dataframe tbody tr th {\n",
              "        vertical-align: top;\n",
              "    }\n",
              "\n",
              "    .dataframe thead th {\n",
              "        text-align: right;\n",
              "    }\n",
              "</style>\n",
              "<table border=\"1\" class=\"dataframe\">\n",
              "  <thead>\n",
              "    <tr style=\"text-align: right;\">\n",
              "      <th></th>\n",
              "      <th>체험</th>\n",
              "      <th>사이트제목</th>\n",
              "      <th>성별</th>\n",
              "      <th>연령</th>\n",
              "      <th>직업</th>\n",
              "      <th>소득</th>\n",
              "      <th>결혼</th>\n",
              "      <th>자녀</th>\n",
              "      <th>주거</th>\n",
              "      <th>시도</th>\n",
              "      <th>구</th>\n",
              "      <th>동</th>\n",
              "      <th>자동차</th>\n",
              "    </tr>\n",
              "  </thead>\n",
              "  <tbody>\n",
              "    <tr>\n",
              "      <th>0</th>\n",
              "      <td>산림복합체험</td>\n",
              "      <td>유명산 산림복합체험센터</td>\n",
              "      <td>F</td>\n",
              "      <td>3</td>\n",
              "      <td>사무직 (일반사무직, 공무원, 직업군인)</td>\n",
              "      <td>800~899만원</td>\n",
              "      <td>예</td>\n",
              "      <td>자녀 있음</td>\n",
              "      <td>아파트/ 주상복합</td>\n",
              "      <td>서울</td>\n",
              "      <td>송파구</td>\n",
              "      <td>문정1동</td>\n",
              "      <td>대형차 (제너시스, BMW5급 등)</td>\n",
              "    </tr>\n",
              "    <tr>\n",
              "      <th>2</th>\n",
              "      <td>산림복합체험</td>\n",
              "      <td>유명산 산림복합체험센터</td>\n",
              "      <td>F</td>\n",
              "      <td>3</td>\n",
              "      <td>사무직 (일반사무직, 공무원, 직업군인)</td>\n",
              "      <td>900~999만원</td>\n",
              "      <td>예</td>\n",
              "      <td>자녀 있음</td>\n",
              "      <td>아파트/ 주상복합</td>\n",
              "      <td>서울</td>\n",
              "      <td>영등포구</td>\n",
              "      <td>여의도동</td>\n",
              "      <td>중형차 (쏘나타, K5, 말리부, 골프급 등)</td>\n",
              "    </tr>\n",
              "    <tr>\n",
              "      <th>3</th>\n",
              "      <td>산림체험</td>\n",
              "      <td>카니발 타고 산림 체험 기아차, 산림청과 교통약자 여행 지원</td>\n",
              "      <td>F</td>\n",
              "      <td>3</td>\n",
              "      <td>NaN</td>\n",
              "      <td>NaN</td>\n",
              "      <td></td>\n",
              "      <td></td>\n",
              "      <td>NaN</td>\n",
              "      <td>서울</td>\n",
              "      <td>은평구</td>\n",
              "      <td>응암동</td>\n",
              "      <td>NaN</td>\n",
              "    </tr>\n",
              "    <tr>\n",
              "      <th>5</th>\n",
              "      <td>숲체험</td>\n",
              "      <td>서울대공원 숲체험</td>\n",
              "      <td>F</td>\n",
              "      <td>2</td>\n",
              "      <td>NaN</td>\n",
              "      <td>NaN</td>\n",
              "      <td></td>\n",
              "      <td></td>\n",
              "      <td>NaN</td>\n",
              "      <td>경기</td>\n",
              "      <td>부천시 원미구</td>\n",
              "      <td>상동</td>\n",
              "      <td>NaN</td>\n",
              "    </tr>\n",
              "    <tr>\n",
              "      <th>6</th>\n",
              "      <td>숲체험</td>\n",
              "      <td>봄날에 딱 숲체험,체험놀이&lt;숲속곰디 체험학교&gt;</td>\n",
              "      <td>F</td>\n",
              "      <td>3</td>\n",
              "      <td>사무직 (일반사무직, 공무원, 직업군인)</td>\n",
              "      <td>1,000만원 이상</td>\n",
              "      <td>아니오</td>\n",
              "      <td></td>\n",
              "      <td>아파트/ 주상복합</td>\n",
              "      <td>경기</td>\n",
              "      <td>용인시 수지구</td>\n",
              "      <td>죽전1동</td>\n",
              "      <td>중형차 (쏘나타, K5, 말리부, 골프급 등)</td>\n",
              "    </tr>\n",
              "  </tbody>\n",
              "</table>\n",
              "</div>\n",
              "      <button class=\"colab-df-convert\" onclick=\"convertToInteractive('df-c90d1b80-9cb4-440c-b766-1abb356cef62')\"\n",
              "              title=\"Convert this dataframe to an interactive table.\"\n",
              "              style=\"display:none;\">\n",
              "        \n",
              "  <svg xmlns=\"http://www.w3.org/2000/svg\" height=\"24px\"viewBox=\"0 0 24 24\"\n",
              "       width=\"24px\">\n",
              "    <path d=\"M0 0h24v24H0V0z\" fill=\"none\"/>\n",
              "    <path d=\"M18.56 5.44l.94 2.06.94-2.06 2.06-.94-2.06-.94-.94-2.06-.94 2.06-2.06.94zm-11 1L8.5 8.5l.94-2.06 2.06-.94-2.06-.94L8.5 2.5l-.94 2.06-2.06.94zm10 10l.94 2.06.94-2.06 2.06-.94-2.06-.94-.94-2.06-.94 2.06-2.06.94z\"/><path d=\"M17.41 7.96l-1.37-1.37c-.4-.4-.92-.59-1.43-.59-.52 0-1.04.2-1.43.59L10.3 9.45l-7.72 7.72c-.78.78-.78 2.05 0 2.83L4 21.41c.39.39.9.59 1.41.59.51 0 1.02-.2 1.41-.59l7.78-7.78 2.81-2.81c.8-.78.8-2.07 0-2.86zM5.41 20L4 18.59l7.72-7.72 1.47 1.35L5.41 20z\"/>\n",
              "  </svg>\n",
              "      </button>\n",
              "      \n",
              "  <style>\n",
              "    .colab-df-container {\n",
              "      display:flex;\n",
              "      flex-wrap:wrap;\n",
              "      gap: 12px;\n",
              "    }\n",
              "\n",
              "    .colab-df-convert {\n",
              "      background-color: #E8F0FE;\n",
              "      border: none;\n",
              "      border-radius: 50%;\n",
              "      cursor: pointer;\n",
              "      display: none;\n",
              "      fill: #1967D2;\n",
              "      height: 32px;\n",
              "      padding: 0 0 0 0;\n",
              "      width: 32px;\n",
              "    }\n",
              "\n",
              "    .colab-df-convert:hover {\n",
              "      background-color: #E2EBFA;\n",
              "      box-shadow: 0px 1px 2px rgba(60, 64, 67, 0.3), 0px 1px 3px 1px rgba(60, 64, 67, 0.15);\n",
              "      fill: #174EA6;\n",
              "    }\n",
              "\n",
              "    [theme=dark] .colab-df-convert {\n",
              "      background-color: #3B4455;\n",
              "      fill: #D2E3FC;\n",
              "    }\n",
              "\n",
              "    [theme=dark] .colab-df-convert:hover {\n",
              "      background-color: #434B5C;\n",
              "      box-shadow: 0px 1px 3px 1px rgba(0, 0, 0, 0.15);\n",
              "      filter: drop-shadow(0px 1px 2px rgba(0, 0, 0, 0.3));\n",
              "      fill: #FFFFFF;\n",
              "    }\n",
              "  </style>\n",
              "\n",
              "      <script>\n",
              "        const buttonEl =\n",
              "          document.querySelector('#df-c90d1b80-9cb4-440c-b766-1abb356cef62 button.colab-df-convert');\n",
              "        buttonEl.style.display =\n",
              "          google.colab.kernel.accessAllowed ? 'block' : 'none';\n",
              "\n",
              "        async function convertToInteractive(key) {\n",
              "          const element = document.querySelector('#df-c90d1b80-9cb4-440c-b766-1abb356cef62');\n",
              "          const dataTable =\n",
              "            await google.colab.kernel.invokeFunction('convertToInteractive',\n",
              "                                                     [key], {});\n",
              "          if (!dataTable) return;\n",
              "\n",
              "          const docLinkHtml = 'Like what you see? Visit the ' +\n",
              "            '<a target=\"_blank\" href=https://colab.research.google.com/notebooks/data_table.ipynb>data table notebook</a>'\n",
              "            + ' to learn more about interactive tables.';\n",
              "          element.innerHTML = '';\n",
              "          dataTable['output_type'] = 'display_data';\n",
              "          await google.colab.output.renderOutput(dataTable, element);\n",
              "          const docLink = document.createElement('div');\n",
              "          docLink.innerHTML = docLinkHtml;\n",
              "          element.appendChild(docLink);\n",
              "        }\n",
              "      </script>\n",
              "    </div>\n",
              "  </div>\n",
              "  "
            ]
          },
          "metadata": {},
          "execution_count": 11
        }
      ]
    },
    {
      "cell_type": "markdown",
      "source": [
        "### 230대 성별"
      ],
      "metadata": {
        "id": "7082Q-e7w-bC"
      }
    },
    {
      "cell_type": "code",
      "source": [
        "sex_counts = df1_23['성별'].value_counts()\n",
        "sex_counts"
      ],
      "metadata": {
        "colab": {
          "base_uri": "https://localhost:8080/"
        },
        "id": "1YUYo0IJDyLt",
        "outputId": "7a81cba9-853e-4161-ce7b-168da93d270b"
      },
      "execution_count": null,
      "outputs": [
        {
          "output_type": "execute_result",
          "data": {
            "text/plain": [
              "F    5141\n",
              "M     815\n",
              "Name: 성별, dtype: int64"
            ]
          },
          "metadata": {},
          "execution_count": 12
        }
      ]
    },
    {
      "cell_type": "code",
      "source": [
        "round(sex_counts.loc['F'] / sex_counts.sum() * 100 , 1),\\\n",
        "round(sex_counts.loc['M'] / sex_counts.sum() * 100 , 1)"
      ],
      "metadata": {
        "colab": {
          "base_uri": "https://localhost:8080/"
        },
        "id": "mmykcmq4rbk_",
        "outputId": "0a672a79-74ef-4117-9783-73665d2c1397"
      },
      "execution_count": null,
      "outputs": [
        {
          "output_type": "execute_result",
          "data": {
            "text/plain": [
              "(86.3, 13.7)"
            ]
          },
          "metadata": {},
          "execution_count": 13
        }
      ]
    },
    {
      "cell_type": "markdown",
      "source": [
        "### 230대 직업"
      ],
      "metadata": {
        "id": "1Kzp-toTr7_x"
      }
    },
    {
      "cell_type": "code",
      "source": [
        "df1_23['직업'].notnull().sum(), df1_23['소득'].notnull().sum()"
      ],
      "metadata": {
        "colab": {
          "base_uri": "https://localhost:8080/"
        },
        "id": "kGwbriHbCdTb",
        "outputId": "f7b0c134-2f02-43b1-d09e-f1f614ba3a98"
      },
      "execution_count": null,
      "outputs": [
        {
          "output_type": "execute_result",
          "data": {
            "text/plain": [
              "(3846, 3842)"
            ]
          },
          "metadata": {},
          "execution_count": 14
        }
      ]
    },
    {
      "cell_type": "code",
      "source": [
        "job_counts = df1_23['직업'].value_counts()\n",
        "job_counts"
      ],
      "metadata": {
        "colab": {
          "base_uri": "https://localhost:8080/"
        },
        "id": "QsaUaF-7s3ac",
        "outputId": "a2edb554-6c66-4647-e62a-d08b8a96d60f"
      },
      "execution_count": null,
      "outputs": [
        {
          "output_type": "execute_result",
          "data": {
            "text/plain": [
              "사무직 (일반사무직, 공무원, 직업군인)             1303\n",
              "주부 (전업주부, 파트타임 근무 주부)               878\n",
              "전문직 (의사, 판검사, 예술가, 종교인)             365\n",
              "학생 (초중고학생, 대학생, 대학원생)               292\n",
              "교직 (교사, 유치원교사, 학원강사)                257\n",
              "무직                                  205\n",
              "서비스직 (요식업, 숙박업, 미용실종업원)             145\n",
              "기타                                  130\n",
              "자영업 (도소매업, 숙박업, 미용업)                 87\n",
              "판매직 (상점점원, 보험설계사, 노점상)               72\n",
              "생산/노무직 (생산감독, 경비원, 공장근로자)            53\n",
              "기능직 (자동차정비, 운전기사, 안경사, 택시기사)         28\n",
              "관리직 (사장, 간부, 고위공무원)                  18\n",
              "퇴직/연금생활자                             10\n",
              "농/축/광/수산업 (축산, 낙농업, 수산, 임업, 광업)       3\n",
              "Name: 직업, dtype: int64"
            ]
          },
          "metadata": {},
          "execution_count": 15
        }
      ]
    },
    {
      "cell_type": "code",
      "source": [
        "drop_jobs = job_counts[job_counts.index.str.contains('학생|퇴직|주부')]\n",
        "drop_jobs"
      ],
      "metadata": {
        "colab": {
          "base_uri": "https://localhost:8080/"
        },
        "id": "AgH1qBUSs7EH",
        "outputId": "3e1868fd-893a-4814-a05a-7b59033466d4"
      },
      "execution_count": null,
      "outputs": [
        {
          "output_type": "execute_result",
          "data": {
            "text/plain": [
              "주부 (전업주부, 파트타임 근무 주부)    878\n",
              "학생 (초중고학생, 대학생, 대학원생)    292\n",
              "퇴직/연금생활자                  10\n",
              "Name: 직업, dtype: int64"
            ]
          },
          "metadata": {},
          "execution_count": 16
        }
      ]
    },
    {
      "cell_type": "code",
      "source": [
        "round((job_counts.sum() - drop_jobs.sum() - job_counts['무직']) / len(df1_23) * 100, 1),\\\n",
        "job_counts.sum() - drop_jobs.sum() - job_counts['무직']"
      ],
      "metadata": {
        "colab": {
          "base_uri": "https://localhost:8080/"
        },
        "id": "91JWewIptKJj",
        "outputId": "0bec95e8-7e6e-431e-d275-edfdd393cc5c"
      },
      "execution_count": null,
      "outputs": [
        {
          "output_type": "execute_result",
          "data": {
            "text/plain": [
              "(41.3, 2461)"
            ]
          },
          "metadata": {},
          "execution_count": 17
        }
      ]
    },
    {
      "cell_type": "code",
      "source": [
        "job2_counts = df1_2['직업'].value_counts()\n",
        "job3_counts = df1_3['직업'].value_counts()"
      ],
      "metadata": {
        "id": "kxQnZbBuujHJ"
      },
      "execution_count": null,
      "outputs": []
    },
    {
      "cell_type": "code",
      "source": [
        "drop2_jobs = job2_counts[job2_counts.index.str.contains('학생|퇴직|주부')]\n",
        "drop3_jobs = job3_counts[job3_counts.index.str.contains('학생|퇴직|주부')]\n",
        "drop3_jobs"
      ],
      "metadata": {
        "colab": {
          "base_uri": "https://localhost:8080/"
        },
        "id": "OAiHSAVGtKGF",
        "outputId": "038d4d67-05fb-4579-8d07-fc6883683f30"
      },
      "execution_count": null,
      "outputs": [
        {
          "output_type": "execute_result",
          "data": {
            "text/plain": [
              "주부 (전업주부, 파트타임 근무 주부)    845\n",
              "학생 (초중고학생, 대학생, 대학원생)     31\n",
              "퇴직/연금생활자                   6\n",
              "Name: 직업, dtype: int64"
            ]
          },
          "metadata": {},
          "execution_count": 19
        }
      ]
    },
    {
      "cell_type": "code",
      "source": [
        "round((job2_counts.sum() - drop2_jobs.sum() - job2_counts['무직']) / len(df1_23) * 100, 1),\\\n",
        "job2_counts.sum() - drop2_jobs.sum() - job2_counts['무직'],\\\n",
        "round((job3_counts.sum() - drop3_jobs.sum() - job3_counts['무직']) / len(df1_23) * 100, 1),\\\n",
        "job3_counts.sum() - drop3_jobs.sum() - job3_counts['무직']"
      ],
      "metadata": {
        "colab": {
          "base_uri": "https://localhost:8080/"
        },
        "id": "wptWgYKhu_La",
        "outputId": "f91a176c-ae12-4658-c966-8db749340c33"
      },
      "execution_count": null,
      "outputs": [
        {
          "output_type": "execute_result",
          "data": {
            "text/plain": [
              "(4.8, 288, 36.5, 2173)"
            ]
          },
          "metadata": {},
          "execution_count": 20
        }
      ]
    },
    {
      "cell_type": "markdown",
      "source": [
        "### 230대 자동차"
      ],
      "metadata": {
        "id": "FUPfNghvvwH1"
      }
    },
    {
      "cell_type": "code",
      "source": [
        "car_counts = df1_23['자동차'].value_counts()\n",
        "car_counts"
      ],
      "metadata": {
        "colab": {
          "base_uri": "https://localhost:8080/"
        },
        "id": "sE3CR3rnu_Hl",
        "outputId": "fdf6ec60-80da-4688-b640-f2070c40545b"
      },
      "execution_count": null,
      "outputs": [
        {
          "output_type": "execute_result",
          "data": {
            "text/plain": [
              "준중형차 (아반떼, K3, 크루즈, 제타급 등)          420\n",
              "경차 (모닝, 스파크 등)                      314\n",
              "중형차 (쏘나타, K5, 말리부, 골프급 등)           282\n",
              "중형SUV (싼타페, 쏘렌토, 캡티바, BMW X3급 등)    144\n",
              "준중형SUV (투싼, 스포티지, QM5, 티구안급 등)      112\n",
              "준대형차 (그랜저, K7, 알페온, 캠리급, 파사트급 등)    102\n",
              "소형차 (액센트, 프라이드, 아베오, 피아트급 등)        102\n",
              "대형차 (제너시스, BMW5급 등)                  40\n",
              "소형SUV/CUV (티볼리, QM3 등)               40\n",
              "MPV (카니발, 올란도, 피카소급, 오딧세이 등)         29\n",
              "대형SUV (베라크루즈, 모하비, 투아렉급 등)           27\n",
              "기타 (승합차/트럭/화물차/기타 차량 등)               9\n",
              "준중형파생 (벨로스터, I30 등)                   7\n",
              "스포츠 (제네시스 쿠페, BMW M, 벤츠 AMG 등)        4\n",
              "프리미엄 (에쿠스, BMW7급 등)                   2\n",
              "Name: 자동차, dtype: int64"
            ]
          },
          "metadata": {},
          "execution_count": 21
        }
      ]
    },
    {
      "cell_type": "code",
      "source": [
        "round(car_counts.sum() / len(df1_23) * 100, 1),\\\n",
        "car_counts.sum()"
      ],
      "metadata": {
        "colab": {
          "base_uri": "https://localhost:8080/"
        },
        "id": "BAhsMFO1u_DM",
        "outputId": "b3dbe4d3-799e-41aa-8bcd-80b721e7f863"
      },
      "execution_count": null,
      "outputs": [
        {
          "output_type": "execute_result",
          "data": {
            "text/plain": [
              "(27.4, 1634)"
            ]
          },
          "metadata": {},
          "execution_count": 22
        }
      ]
    },
    {
      "cell_type": "code",
      "source": [
        "car2_counts = df1_2['자동차'].value_counts()\n",
        "car3_counts = df1_3['자동차'].value_counts()\n",
        "\n",
        "round(car2_counts.sum() / len(df1_23) * 100, 1),\\\n",
        "car2_counts.sum(),\\\n",
        "round(car3_counts.sum() / len(df1_23) * 100, 1),\\\n",
        "car3_counts.sum()"
      ],
      "metadata": {
        "colab": {
          "base_uri": "https://localhost:8080/"
        },
        "id": "ZNbPkbaPwL2c",
        "outputId": "6aba1592-35e3-47e6-f181-d6a98cfab9cc"
      },
      "execution_count": null,
      "outputs": [
        {
          "output_type": "execute_result",
          "data": {
            "text/plain": [
              "(2.1, 128, 25.3, 1506)"
            ]
          },
          "metadata": {},
          "execution_count": 23
        }
      ]
    },
    {
      "cell_type": "code",
      "source": [],
      "metadata": {
        "id": "AcjjTKbDwLyR"
      },
      "execution_count": null,
      "outputs": []
    },
    {
      "cell_type": "code",
      "source": [
        "df1_23['시도'].value_counts()[:5],\\\n",
        "df1_2['시도'].value_counts()[:5],\\\n",
        "df1_3['시도'].value_counts()[:5]"
      ],
      "metadata": {
        "colab": {
          "base_uri": "https://localhost:8080/"
        },
        "id": "_tqKqb6exF-H",
        "outputId": "e1eb1654-d383-4f74-c41f-1a8f1e3dea19"
      },
      "execution_count": null,
      "outputs": [
        {
          "output_type": "execute_result",
          "data": {
            "text/plain": [
              "(서울    2089\n",
              " 경기    1534\n",
              " 인천     346\n",
              " 부산     326\n",
              " 대구     268\n",
              " Name: 시도, dtype: int64,\n",
              " 서울    391\n",
              " 경기    328\n",
              " 대구     70\n",
              " 인천     69\n",
              " 부산     65\n",
              " Name: 시도, dtype: int64,\n",
              " 서울    1698\n",
              " 경기    1206\n",
              " 인천     277\n",
              " 부산     261\n",
              " 대구     198\n",
              " Name: 시도, dtype: int64)"
            ]
          },
          "metadata": {},
          "execution_count": 24
        }
      ]
    },
    {
      "cell_type": "code",
      "source": [
        "df1_23[df1_23['시도'] == \"서울\"]['체험'].value_counts()[:6],\\\n",
        "df1_2[df1_2['시도'] == \"서울\"]['체험'].value_counts()[:6],\\\n",
        "df1_3[df1_3['시도'] == \"서울\"]['체험'].value_counts()[:6]"
      ],
      "metadata": {
        "colab": {
          "base_uri": "https://localhost:8080/"
        },
        "id": "e8FcTHQvxjIh",
        "outputId": "faa6cf46-0d1e-4b53-c67b-9391ef9436ea"
      },
      "execution_count": null,
      "outputs": [
        {
          "output_type": "execute_result",
          "data": {
            "text/plain": [
              "(숲체험       1035\n",
              " 산림복합체험     547\n",
              " 산림체험       507\n",
              " Name: 체험, dtype: int64,\n",
              " 숲체험       193\n",
              " 산림복합체험    102\n",
              " 산림체험       96\n",
              " Name: 체험, dtype: int64,\n",
              " 숲체험       842\n",
              " 산림복합체험    445\n",
              " 산림체험      411\n",
              " Name: 체험, dtype: int64)"
            ]
          },
          "metadata": {},
          "execution_count": 101
        }
      ]
    },
    {
      "cell_type": "code",
      "source": [
        "df1_1456['시도'].value_counts()[:5],\\\n",
        "df1_1456[df1_1456['시도'] == \"서울\"]['체험'].value_counts()[:6]"
      ],
      "metadata": {
        "colab": {
          "base_uri": "https://localhost:8080/"
        },
        "id": "W6esjYOwxzSb",
        "outputId": "2b2fab66-27f3-416d-ffd2-e88eae014b5e"
      },
      "execution_count": null,
      "outputs": [
        {
          "output_type": "execute_result",
          "data": {
            "text/plain": [
              "(서울    1344\n",
              " 경기    1069\n",
              " 인천     247\n",
              " 부산     223\n",
              " 대구     160\n",
              " Name: 시도, dtype: int64,\n",
              " 숲체험       644\n",
              " 산림복합체험    355\n",
              " 산림체험      345\n",
              " Name: 체험, dtype: int64)"
            ]
          },
          "metadata": {},
          "execution_count": 102
        }
      ]
    },
    {
      "cell_type": "markdown",
      "source": [
        "# df2 : 산림체험 관심인구 선호 산림체험장소 검색 정보 (Total : 4,142)"
      ],
      "metadata": {
        "id": "4oWbjXgyxjFt"
      }
    },
    {
      "cell_type": "code",
      "source": [
        "len(df2)"
      ],
      "metadata": {
        "colab": {
          "base_uri": "https://localhost:8080/"
        },
        "id": "wFtfAYc4QUqi",
        "outputId": "c71215d3-3bdf-48bf-998c-b2d2da9788ab"
      },
      "execution_count": null,
      "outputs": [
        {
          "output_type": "execute_result",
          "data": {
            "text/plain": [
              "4142"
            ]
          },
          "metadata": {},
          "execution_count": 103
        }
      ]
    },
    {
      "cell_type": "code",
      "source": [
        "df2.head()"
      ],
      "metadata": {
        "colab": {
          "base_uri": "https://localhost:8080/",
          "height": 354
        },
        "id": "iXbkYWF7zheN",
        "outputId": "067aeda6-e72b-40ae-c040-514bc2501382"
      },
      "execution_count": null,
      "outputs": [
        {
          "output_type": "execute_result",
          "data": {
            "text/plain": [
              "     체험                                              사이트제목 성별  연령  \\\n",
              "0  숲체험원  김포시 유아 숲체험원/아이와 주말에 하는 체험학습-유아숲지도사와 5월의 가족숲체험!...  F   3   \n",
              "1  숲체험장                                        베짱이 유아 숲체험장  F   3   \n",
              "2  숲체험장                                [시흥시]조남숲체험장과 유아숲체험장  F   3   \n",
              "3  숲체험원  김포시 유아 숲체험원/아이와 주말에 하는 체험학습-유아숲지도사와 5월의 가족숲체험!...  F   3   \n",
              "4  숲체험장                       일상_ 1박2일 명상여행(feat 강원 숲 체험장)  F   3   \n",
              "\n",
              "                       직업         소득      결혼          자녀         주거  시도    구  \\\n",
              "0                     NaN        NaN                            NaN  서울  용산구   \n",
              "1  사무직 (일반사무직, 공무원, 직업군인)  600~699만원     아니오              아파트/ 주상복합  인천  부평구   \n",
              "2   주부 (전업주부, 파트타임 근무 주부)  500~599만원   예          자녀 있음   아파트/ 주상복합  경기  김포시   \n",
              "3  사무직 (일반사무직, 공무원, 직업군인)  200~299만원   예          자녀 있음   아파트/ 주상복합  부산   북구   \n",
              "4  사무직 (일반사무직, 공무원, 직업군인)  200~299만원   예          자녀 없음   아파트/ 주상복합  서울  성북구   \n",
              "\n",
              "      동             자동차  \n",
              "0   한남동             NaN  \n",
              "1  산곡4동             NaN  \n",
              "2   장기동             NaN  \n",
              "3   금곡동  경차 (모닝, 스파크 등)  \n",
              "4   길음동             NaN  "
            ],
            "text/html": [
              "\n",
              "  <div id=\"df-66169f4f-04eb-47ef-a695-d090ff7a992e\">\n",
              "    <div class=\"colab-df-container\">\n",
              "      <div>\n",
              "<style scoped>\n",
              "    .dataframe tbody tr th:only-of-type {\n",
              "        vertical-align: middle;\n",
              "    }\n",
              "\n",
              "    .dataframe tbody tr th {\n",
              "        vertical-align: top;\n",
              "    }\n",
              "\n",
              "    .dataframe thead th {\n",
              "        text-align: right;\n",
              "    }\n",
              "</style>\n",
              "<table border=\"1\" class=\"dataframe\">\n",
              "  <thead>\n",
              "    <tr style=\"text-align: right;\">\n",
              "      <th></th>\n",
              "      <th>체험</th>\n",
              "      <th>사이트제목</th>\n",
              "      <th>성별</th>\n",
              "      <th>연령</th>\n",
              "      <th>직업</th>\n",
              "      <th>소득</th>\n",
              "      <th>결혼</th>\n",
              "      <th>자녀</th>\n",
              "      <th>주거</th>\n",
              "      <th>시도</th>\n",
              "      <th>구</th>\n",
              "      <th>동</th>\n",
              "      <th>자동차</th>\n",
              "    </tr>\n",
              "  </thead>\n",
              "  <tbody>\n",
              "    <tr>\n",
              "      <th>0</th>\n",
              "      <td>숲체험원</td>\n",
              "      <td>김포시 유아 숲체험원/아이와 주말에 하는 체험학습-유아숲지도사와 5월의 가족숲체험!...</td>\n",
              "      <td>F</td>\n",
              "      <td>3</td>\n",
              "      <td>NaN</td>\n",
              "      <td>NaN</td>\n",
              "      <td></td>\n",
              "      <td></td>\n",
              "      <td>NaN</td>\n",
              "      <td>서울</td>\n",
              "      <td>용산구</td>\n",
              "      <td>한남동</td>\n",
              "      <td>NaN</td>\n",
              "    </tr>\n",
              "    <tr>\n",
              "      <th>1</th>\n",
              "      <td>숲체험장</td>\n",
              "      <td>베짱이 유아 숲체험장</td>\n",
              "      <td>F</td>\n",
              "      <td>3</td>\n",
              "      <td>사무직 (일반사무직, 공무원, 직업군인)</td>\n",
              "      <td>600~699만원</td>\n",
              "      <td>아니오</td>\n",
              "      <td></td>\n",
              "      <td>아파트/ 주상복합</td>\n",
              "      <td>인천</td>\n",
              "      <td>부평구</td>\n",
              "      <td>산곡4동</td>\n",
              "      <td>NaN</td>\n",
              "    </tr>\n",
              "    <tr>\n",
              "      <th>2</th>\n",
              "      <td>숲체험장</td>\n",
              "      <td>[시흥시]조남숲체험장과 유아숲체험장</td>\n",
              "      <td>F</td>\n",
              "      <td>3</td>\n",
              "      <td>주부 (전업주부, 파트타임 근무 주부)</td>\n",
              "      <td>500~599만원</td>\n",
              "      <td>예</td>\n",
              "      <td>자녀 있음</td>\n",
              "      <td>아파트/ 주상복합</td>\n",
              "      <td>경기</td>\n",
              "      <td>김포시</td>\n",
              "      <td>장기동</td>\n",
              "      <td>NaN</td>\n",
              "    </tr>\n",
              "    <tr>\n",
              "      <th>3</th>\n",
              "      <td>숲체험원</td>\n",
              "      <td>김포시 유아 숲체험원/아이와 주말에 하는 체험학습-유아숲지도사와 5월의 가족숲체험!...</td>\n",
              "      <td>F</td>\n",
              "      <td>3</td>\n",
              "      <td>사무직 (일반사무직, 공무원, 직업군인)</td>\n",
              "      <td>200~299만원</td>\n",
              "      <td>예</td>\n",
              "      <td>자녀 있음</td>\n",
              "      <td>아파트/ 주상복합</td>\n",
              "      <td>부산</td>\n",
              "      <td>북구</td>\n",
              "      <td>금곡동</td>\n",
              "      <td>경차 (모닝, 스파크 등)</td>\n",
              "    </tr>\n",
              "    <tr>\n",
              "      <th>4</th>\n",
              "      <td>숲체험장</td>\n",
              "      <td>일상_ 1박2일 명상여행(feat 강원 숲 체험장)</td>\n",
              "      <td>F</td>\n",
              "      <td>3</td>\n",
              "      <td>사무직 (일반사무직, 공무원, 직업군인)</td>\n",
              "      <td>200~299만원</td>\n",
              "      <td>예</td>\n",
              "      <td>자녀 없음</td>\n",
              "      <td>아파트/ 주상복합</td>\n",
              "      <td>서울</td>\n",
              "      <td>성북구</td>\n",
              "      <td>길음동</td>\n",
              "      <td>NaN</td>\n",
              "    </tr>\n",
              "  </tbody>\n",
              "</table>\n",
              "</div>\n",
              "      <button class=\"colab-df-convert\" onclick=\"convertToInteractive('df-66169f4f-04eb-47ef-a695-d090ff7a992e')\"\n",
              "              title=\"Convert this dataframe to an interactive table.\"\n",
              "              style=\"display:none;\">\n",
              "        \n",
              "  <svg xmlns=\"http://www.w3.org/2000/svg\" height=\"24px\"viewBox=\"0 0 24 24\"\n",
              "       width=\"24px\">\n",
              "    <path d=\"M0 0h24v24H0V0z\" fill=\"none\"/>\n",
              "    <path d=\"M18.56 5.44l.94 2.06.94-2.06 2.06-.94-2.06-.94-.94-2.06-.94 2.06-2.06.94zm-11 1L8.5 8.5l.94-2.06 2.06-.94-2.06-.94L8.5 2.5l-.94 2.06-2.06.94zm10 10l.94 2.06.94-2.06 2.06-.94-2.06-.94-.94-2.06-.94 2.06-2.06.94z\"/><path d=\"M17.41 7.96l-1.37-1.37c-.4-.4-.92-.59-1.43-.59-.52 0-1.04.2-1.43.59L10.3 9.45l-7.72 7.72c-.78.78-.78 2.05 0 2.83L4 21.41c.39.39.9.59 1.41.59.51 0 1.02-.2 1.41-.59l7.78-7.78 2.81-2.81c.8-.78.8-2.07 0-2.86zM5.41 20L4 18.59l7.72-7.72 1.47 1.35L5.41 20z\"/>\n",
              "  </svg>\n",
              "      </button>\n",
              "      \n",
              "  <style>\n",
              "    .colab-df-container {\n",
              "      display:flex;\n",
              "      flex-wrap:wrap;\n",
              "      gap: 12px;\n",
              "    }\n",
              "\n",
              "    .colab-df-convert {\n",
              "      background-color: #E8F0FE;\n",
              "      border: none;\n",
              "      border-radius: 50%;\n",
              "      cursor: pointer;\n",
              "      display: none;\n",
              "      fill: #1967D2;\n",
              "      height: 32px;\n",
              "      padding: 0 0 0 0;\n",
              "      width: 32px;\n",
              "    }\n",
              "\n",
              "    .colab-df-convert:hover {\n",
              "      background-color: #E2EBFA;\n",
              "      box-shadow: 0px 1px 2px rgba(60, 64, 67, 0.3), 0px 1px 3px 1px rgba(60, 64, 67, 0.15);\n",
              "      fill: #174EA6;\n",
              "    }\n",
              "\n",
              "    [theme=dark] .colab-df-convert {\n",
              "      background-color: #3B4455;\n",
              "      fill: #D2E3FC;\n",
              "    }\n",
              "\n",
              "    [theme=dark] .colab-df-convert:hover {\n",
              "      background-color: #434B5C;\n",
              "      box-shadow: 0px 1px 3px 1px rgba(0, 0, 0, 0.15);\n",
              "      filter: drop-shadow(0px 1px 2px rgba(0, 0, 0, 0.3));\n",
              "      fill: #FFFFFF;\n",
              "    }\n",
              "  </style>\n",
              "\n",
              "      <script>\n",
              "        const buttonEl =\n",
              "          document.querySelector('#df-66169f4f-04eb-47ef-a695-d090ff7a992e button.colab-df-convert');\n",
              "        buttonEl.style.display =\n",
              "          google.colab.kernel.accessAllowed ? 'block' : 'none';\n",
              "\n",
              "        async function convertToInteractive(key) {\n",
              "          const element = document.querySelector('#df-66169f4f-04eb-47ef-a695-d090ff7a992e');\n",
              "          const dataTable =\n",
              "            await google.colab.kernel.invokeFunction('convertToInteractive',\n",
              "                                                     [key], {});\n",
              "          if (!dataTable) return;\n",
              "\n",
              "          const docLinkHtml = 'Like what you see? Visit the ' +\n",
              "            '<a target=\"_blank\" href=https://colab.research.google.com/notebooks/data_table.ipynb>data table notebook</a>'\n",
              "            + ' to learn more about interactive tables.';\n",
              "          element.innerHTML = '';\n",
              "          dataTable['output_type'] = 'display_data';\n",
              "          await google.colab.output.renderOutput(dataTable, element);\n",
              "          const docLink = document.createElement('div');\n",
              "          docLink.innerHTML = docLinkHtml;\n",
              "          element.appendChild(docLink);\n",
              "        }\n",
              "      </script>\n",
              "    </div>\n",
              "  </div>\n",
              "  "
            ]
          },
          "metadata": {},
          "execution_count": 104
        }
      ]
    },
    {
      "cell_type": "markdown",
      "source": [
        "### 연령"
      ],
      "metadata": {
        "id": "9hpLucPw0yP4"
      }
    },
    {
      "cell_type": "code",
      "source": [
        "age_counts = df2['연령'].value_counts()\n",
        "age_counts"
      ],
      "metadata": {
        "colab": {
          "base_uri": "https://localhost:8080/"
        },
        "id": "jG6UYrVnzjH6",
        "outputId": "63cffa25-acc0-4a9a-8e67-85edecf469b6"
      },
      "execution_count": null,
      "outputs": [
        {
          "output_type": "execute_result",
          "data": {
            "text/plain": [
              "3    1943\n",
              "4    1266\n",
              "2     533\n",
              "5     400\n",
              "Name: 연령, dtype: int64"
            ]
          },
          "metadata": {},
          "execution_count": 26
        }
      ]
    },
    {
      "cell_type": "code",
      "source": [
        "age_counts.loc[[2,3]].sum(), round(age_counts.loc[[2,3]].sum() / age_counts.sum() * 100, 1),\\\n",
        "age_counts.loc[2], round(age_counts.loc[2] / age_counts.sum() * 100, 1),\\\n",
        "age_counts.loc[3], round(age_counts.loc[3] / age_counts.sum() * 100, 1),\\\n",
        "age_counts.drop([2,3]).sum(), round(age_counts.drop([2,3]).sum() / age_counts.sum() * 100, 1)"
      ],
      "metadata": {
        "colab": {
          "base_uri": "https://localhost:8080/"
        },
        "id": "BpOwyZVKzrvy",
        "outputId": "93d01f9a-82cf-470c-808b-c2923ae67b18"
      },
      "execution_count": null,
      "outputs": [
        {
          "output_type": "execute_result",
          "data": {
            "text/plain": [
              "(2476, 59.8, 533, 12.9, 1943, 46.9, 1666, 40.2)"
            ]
          },
          "metadata": {},
          "execution_count": 27
        }
      ]
    },
    {
      "cell_type": "code",
      "source": [
        "df2_23 = df2[df2['연령'].isin([2, 3])]\n",
        "df2_2 = df2[(df2['연령'] == 2)]\n",
        "df2_3 = df2[(df2['연령'] == 3)]\n",
        "df2_1456 = df2[df2['연령'].isin([1, 4, 5, 6])]"
      ],
      "metadata": {
        "id": "OzeUIX2h1Rcf"
      },
      "execution_count": null,
      "outputs": []
    },
    {
      "cell_type": "markdown",
      "source": [
        "### 230대 성별"
      ],
      "metadata": {
        "id": "7b5NtDyRz9Tg"
      }
    },
    {
      "cell_type": "code",
      "source": [
        "sex_counts = df2_23['성별'].value_counts()\n",
        "sex_counts"
      ],
      "metadata": {
        "id": "ZnGEh4PN0xaH",
        "colab": {
          "base_uri": "https://localhost:8080/"
        },
        "outputId": "a9c9c94c-bb98-4fc1-c44c-22a45922ab46"
      },
      "execution_count": null,
      "outputs": [
        {
          "output_type": "execute_result",
          "data": {
            "text/plain": [
              "F    2138\n",
              "M     338\n",
              "Name: 성별, dtype: int64"
            ]
          },
          "metadata": {},
          "execution_count": 29
        }
      ]
    },
    {
      "cell_type": "code",
      "source": [
        "round(sex_counts.loc['F'] / sex_counts.sum() * 100 , 1),\\\n",
        "round(sex_counts.loc['M'] / sex_counts.sum() * 100 , 1)"
      ],
      "metadata": {
        "colab": {
          "base_uri": "https://localhost:8080/"
        },
        "id": "4Ao8T5s21lJC",
        "outputId": "f14b3117-f3fa-4d83-8b90-88fe67b5fb9f"
      },
      "execution_count": null,
      "outputs": [
        {
          "output_type": "execute_result",
          "data": {
            "text/plain": [
              "(86.3, 13.7)"
            ]
          },
          "metadata": {},
          "execution_count": 30
        }
      ]
    },
    {
      "cell_type": "markdown",
      "source": [
        "### 230대 직업"
      ],
      "metadata": {
        "id": "yoN8Y1y61rED"
      }
    },
    {
      "cell_type": "code",
      "source": [
        "job_counts = df2_23['직업'].value_counts()\n",
        "job_counts"
      ],
      "metadata": {
        "colab": {
          "base_uri": "https://localhost:8080/"
        },
        "id": "YEiiUZIe1xaW",
        "outputId": "91263c18-5280-4047-a583-57c6e7bbe09c"
      },
      "execution_count": null,
      "outputs": [
        {
          "output_type": "execute_result",
          "data": {
            "text/plain": [
              "사무직 (일반사무직, 공무원, 직업군인)             553\n",
              "주부 (전업주부, 파트타임 근무 주부)              355\n",
              "전문직 (의사, 판검사, 예술가, 종교인)            166\n",
              "학생 (초중고학생, 대학생, 대학원생)              116\n",
              "교직 (교사, 유치원교사, 학원강사)                94\n",
              "무직                                  80\n",
              "서비스직 (요식업, 숙박업, 미용실종업원)             58\n",
              "기타                                  52\n",
              "자영업 (도소매업, 숙박업, 미용업)                35\n",
              "판매직 (상점점원, 보험설계사, 노점상)              35\n",
              "생산/노무직 (생산감독, 경비원, 공장근로자)           16\n",
              "기능직 (자동차정비, 운전기사, 안경사, 택시기사)        11\n",
              "관리직 (사장, 간부, 고위공무원)                 10\n",
              "퇴직/연금생활자                             8\n",
              "농/축/광/수산업 (축산, 낙농업, 수산, 임업, 광업)      1\n",
              "Name: 직업, dtype: int64"
            ]
          },
          "metadata": {},
          "execution_count": 31
        }
      ]
    },
    {
      "cell_type": "code",
      "source": [
        "drop_jobs = job_counts[job_counts.index.str.contains('학생|퇴직|주부')]\n",
        "drop_jobs"
      ],
      "metadata": {
        "colab": {
          "base_uri": "https://localhost:8080/"
        },
        "id": "C6kMzItB11lG",
        "outputId": "f228b1c8-be8f-4401-b2b7-b47fd38fa7fb"
      },
      "execution_count": null,
      "outputs": [
        {
          "output_type": "execute_result",
          "data": {
            "text/plain": [
              "주부 (전업주부, 파트타임 근무 주부)    355\n",
              "학생 (초중고학생, 대학생, 대학원생)    116\n",
              "퇴직/연금생활자                   8\n",
              "Name: 직업, dtype: int64"
            ]
          },
          "metadata": {},
          "execution_count": 32
        }
      ]
    },
    {
      "cell_type": "code",
      "source": [
        "round((job_counts.sum() - drop_jobs.sum() - job_counts['무직']) / len(df2_23) * 100, 1),\\\n",
        "job_counts.sum() - drop_jobs.sum() - job_counts['무직']"
      ],
      "metadata": {
        "colab": {
          "base_uri": "https://localhost:8080/"
        },
        "id": "-TXHYHFd19qK",
        "outputId": "c77fa923-07d9-41ae-b4d5-9921b03cc762"
      },
      "execution_count": null,
      "outputs": [
        {
          "output_type": "execute_result",
          "data": {
            "text/plain": [
              "(41.6, 1031)"
            ]
          },
          "metadata": {},
          "execution_count": 33
        }
      ]
    },
    {
      "cell_type": "code",
      "source": [
        "job2_counts = df2_2['직업'].value_counts()\n",
        "job3_counts = df2_3['직업'].value_counts()"
      ],
      "metadata": {
        "id": "F4zxy4jA2K7Q"
      },
      "execution_count": null,
      "outputs": []
    },
    {
      "cell_type": "code",
      "source": [
        "drop2_jobs = job2_counts[job2_counts.index.str.contains('학생|퇴직|주부')]\n",
        "drop3_jobs = job3_counts[job3_counts.index.str.contains('학생|퇴직|주부')]"
      ],
      "metadata": {
        "id": "hp4Y3zuC2Q5a"
      },
      "execution_count": null,
      "outputs": []
    },
    {
      "cell_type": "code",
      "source": [
        "round((job2_counts.sum() - drop2_jobs.sum() - job2_counts['무직']) / len(df2_23) * 100, 1),\\\n",
        "job2_counts.sum() - drop2_jobs.sum() - job2_counts['무직'],\\\n",
        "round((job3_counts.sum() - drop3_jobs.sum() - job3_counts['무직']) / len(df2_23) * 100, 1),\\\n",
        "job3_counts.sum() - drop3_jobs.sum() - job3_counts['무직']"
      ],
      "metadata": {
        "colab": {
          "base_uri": "https://localhost:8080/"
        },
        "id": "DREn5w822XMD",
        "outputId": "fb43560d-9072-42b8-aa48-f0fd9fc6534f"
      },
      "execution_count": null,
      "outputs": [
        {
          "output_type": "execute_result",
          "data": {
            "text/plain": [
              "(4.1, 102, 37.5, 929)"
            ]
          },
          "metadata": {},
          "execution_count": 36
        }
      ]
    },
    {
      "cell_type": "markdown",
      "source": [
        "### 230대 자동차"
      ],
      "metadata": {
        "id": "jubiPu_l2g25"
      }
    },
    {
      "cell_type": "code",
      "source": [
        "car_counts = df2_23['자동차'].value_counts()\n",
        "car_counts"
      ],
      "metadata": {
        "colab": {
          "base_uri": "https://localhost:8080/"
        },
        "id": "oSOYfvW-2k3Y",
        "outputId": "39756b47-efc5-4744-b300-db25eac60a79"
      },
      "execution_count": null,
      "outputs": [
        {
          "output_type": "execute_result",
          "data": {
            "text/plain": [
              "준중형차 (아반떼, K3, 크루즈, 제타급 등)          182\n",
              "경차 (모닝, 스파크 등)                      133\n",
              "중형차 (쏘나타, K5, 말리부, 골프급 등)           125\n",
              "중형SUV (싼타페, 쏘렌토, 캡티바, BMW X3급 등)     62\n",
              "준대형차 (그랜저, K7, 알페온, 캠리급, 파사트급 등)     49\n",
              "준중형SUV (투싼, 스포티지, QM5, 티구안급 등)       46\n",
              "소형차 (액센트, 프라이드, 아베오, 피아트급 등)         45\n",
              "MPV (카니발, 올란도, 피카소급, 오딧세이 등)         19\n",
              "소형SUV/CUV (티볼리, QM3 등)               12\n",
              "대형SUV (베라크루즈, 모하비, 투아렉급 등)           11\n",
              "대형차 (제너시스, BMW5급 등)                   9\n",
              "기타 (승합차/트럭/화물차/기타 차량 등)               7\n",
              "프리미엄 (에쿠스, BMW7급 등)                   2\n",
              "스포츠 (제네시스 쿠페, BMW M, 벤츠 AMG 등)        2\n",
              "준중형파생 (벨로스터, I30 등)                   1\n",
              "Name: 자동차, dtype: int64"
            ]
          },
          "metadata": {},
          "execution_count": 37
        }
      ]
    },
    {
      "cell_type": "code",
      "source": [
        "round(car_counts.sum() / len(df2_23) * 100, 1),\\\n",
        "car_counts.sum()"
      ],
      "metadata": {
        "colab": {
          "base_uri": "https://localhost:8080/"
        },
        "id": "uv-ZA8Wi2nIY",
        "outputId": "eabbdf59-0f91-4ff3-cee5-45837c58355d"
      },
      "execution_count": null,
      "outputs": [
        {
          "output_type": "execute_result",
          "data": {
            "text/plain": [
              "(28.5, 705)"
            ]
          },
          "metadata": {},
          "execution_count": 38
        }
      ]
    },
    {
      "cell_type": "code",
      "source": [
        "car2_counts = df2_2['자동차'].value_counts()\n",
        "car3_counts = df2_3['자동차'].value_counts()\n",
        "\n",
        "round(car2_counts.sum() / len(df2_23) * 100, 1),\\\n",
        "car2_counts.sum(),\\\n",
        "round(car3_counts.sum() / len(df2_23) * 100, 1),\\\n",
        "car3_counts.sum()"
      ],
      "metadata": {
        "colab": {
          "base_uri": "https://localhost:8080/"
        },
        "id": "390t_GT52s71",
        "outputId": "6b817e74-fe37-4f67-d810-4a561e6e82f7"
      },
      "execution_count": null,
      "outputs": [
        {
          "output_type": "execute_result",
          "data": {
            "text/plain": [
              "(2.0, 49, 26.5, 656)"
            ]
          },
          "metadata": {},
          "execution_count": 39
        }
      ]
    },
    {
      "cell_type": "markdown",
      "source": [
        "### 230대 거주지"
      ],
      "metadata": {
        "id": "Ah3Dg3R03AAB"
      }
    },
    {
      "cell_type": "code",
      "source": [
        "df2_23['시도'].value_counts()[:5],\\\n",
        "df2_2['시도'].value_counts()[:5],\\\n",
        "df2_3['시도'].value_counts()[:5]"
      ],
      "metadata": {
        "colab": {
          "base_uri": "https://localhost:8080/"
        },
        "id": "chuS7Ucy3Ekn",
        "outputId": "42086e5c-6813-41c9-b91d-d3c878945c22"
      },
      "execution_count": null,
      "outputs": [
        {
          "output_type": "execute_result",
          "data": {
            "text/plain": [
              "(서울    882\n",
              " 경기    623\n",
              " 부산    156\n",
              " 인천    145\n",
              " 경남     93\n",
              " Name: 시도, dtype: int64,\n",
              " 서울    166\n",
              " 경기    132\n",
              " 인천     39\n",
              " 경남     38\n",
              " 부산     33\n",
              " Name: 시도, dtype: int64,\n",
              " 서울    716\n",
              " 경기    491\n",
              " 부산    123\n",
              " 인천    106\n",
              " 대구     71\n",
              " Name: 시도, dtype: int64)"
            ]
          },
          "metadata": {},
          "execution_count": 40
        }
      ]
    },
    {
      "cell_type": "code",
      "source": [
        "df2_23[df2_23['시도'] == \"서울\"]['체험'].value_counts()[:5],\\\n",
        "df2_2[df2_2['시도'] == \"서울\"]['체험'].value_counts()[:5],\\\n",
        "df2_3[df2_3['시도'] == \"서울\"]['체험'].value_counts()[:5]"
      ],
      "metadata": {
        "colab": {
          "base_uri": "https://localhost:8080/"
        },
        "id": "2iU2e4sR3GVP",
        "outputId": "ef1d9044-9551-44d6-992c-70c98815b0e0"
      },
      "execution_count": null,
      "outputs": [
        {
          "output_type": "execute_result",
          "data": {
            "text/plain": [
              "(숲체험장       448\n",
              " 숲체험원       282\n",
              " 산림복합체험원     79\n",
              " 산림체험원       73\n",
              " Name: 체험, dtype: int64,\n",
              " 숲체험장       85\n",
              " 숲체험원       46\n",
              " 산림복합체험원    23\n",
              " 산림체험원      12\n",
              " Name: 체험, dtype: int64,\n",
              " 숲체험장       363\n",
              " 숲체험원       236\n",
              " 산림체험원       61\n",
              " 산림복합체험원     56\n",
              " Name: 체험, dtype: int64)"
            ]
          },
          "metadata": {},
          "execution_count": 109
        }
      ]
    },
    {
      "cell_type": "code",
      "source": [
        "df2_1456['시도'].value_counts()[:5],\\\n",
        "df2_1456[df2_1456['시도'] == \"서울\"]['체험'].value_counts()[:5]"
      ],
      "metadata": {
        "colab": {
          "base_uri": "https://localhost:8080/"
        },
        "id": "ppKS6iN33QO9",
        "outputId": "628e435f-275f-49b8-88bb-eabaea0bd85c"
      },
      "execution_count": null,
      "outputs": [
        {
          "output_type": "execute_result",
          "data": {
            "text/plain": [
              "(서울    590\n",
              " 경기    449\n",
              " 인천     93\n",
              " 부산     84\n",
              " 대구     58\n",
              " Name: 시도, dtype: int64,\n",
              " 숲체험장       298\n",
              " 숲체험원       171\n",
              " 산림복합체험원     62\n",
              " 산림체험원       59\n",
              " Name: 체험, dtype: int64)"
            ]
          },
          "metadata": {},
          "execution_count": 110
        }
      ]
    },
    {
      "cell_type": "markdown",
      "source": [
        "# df3 : 산림체험 관심인구 선호 산림체험 프로그램 검색 정보 (Total : 2507)"
      ],
      "metadata": {
        "id": "2A1sBO6Z3VAc"
      }
    },
    {
      "cell_type": "code",
      "source": [
        "len(df3)"
      ],
      "metadata": {
        "colab": {
          "base_uri": "https://localhost:8080/"
        },
        "id": "-2zq_1cXQQrz",
        "outputId": "6ac05690-3050-4c6c-d2b5-d1ecc7e556c2"
      },
      "execution_count": null,
      "outputs": [
        {
          "output_type": "execute_result",
          "data": {
            "text/plain": [
              "2507"
            ]
          },
          "metadata": {},
          "execution_count": 111
        }
      ]
    },
    {
      "cell_type": "code",
      "source": [
        "df3.head()"
      ],
      "metadata": {
        "colab": {
          "base_uri": "https://localhost:8080/",
          "height": 354
        },
        "id": "Nb0vj2Oo8F0-",
        "outputId": "0b1fd674-faae-411a-bfdf-c44f68d22de5"
      },
      "execution_count": null,
      "outputs": [
        {
          "output_type": "execute_result",
          "data": {
            "text/plain": [
              "         체험                                              사이트제목 성별  연령  \\\n",
              "0  산림체험프로그램                         장령산자연휴양림치유의숲산림치유염색체험프로그램안내  F   3   \n",
              "1   숲체험프로그램                                       함허동천,숲체험프로그램  F   4   \n",
              "2   숲체험프로그램                              초등딸1학기트레킹숲체험프로그램을마쳤어요  F   3   \n",
              "3   숲체험교육확동                                  작은손마켓놀이숲체험유치원즐거워요  F   4   \n",
              "4   숲체험교육확동  [봉화]힐빙스테이4기/봉화가족체험프로그램/봉화춘양목숲힐빙프로그램/봉화가족캠프/춘양목...  M   3   \n",
              "\n",
              "                       직업         소득      결혼          자녀         주거  시도    구  \\\n",
              "0   주부 (전업주부, 파트타임 근무 주부)  500~599만원   예          자녀 있음   아파트/ 주상복합  경기  김포시   \n",
              "1                     NaN        NaN                            NaN  서울  은평구   \n",
              "2                     NaN        NaN                            NaN  서울  강서구   \n",
              "3  사무직 (일반사무직, 공무원, 직업군인)  300~399만원     아니오              아파트/ 주상복합  서울  송파구   \n",
              "4                     NaN        NaN                            NaN  광주  광산구   \n",
              "\n",
              "      동  자동차  \n",
              "0   장기동  NaN  \n",
              "1   응암동  NaN  \n",
              "2  가양1동  NaN  \n",
              "3  문정2동  NaN  \n",
              "4   신가동  NaN  "
            ],
            "text/html": [
              "\n",
              "  <div id=\"df-632e3dd3-05e8-436b-9f4d-78371849082c\">\n",
              "    <div class=\"colab-df-container\">\n",
              "      <div>\n",
              "<style scoped>\n",
              "    .dataframe tbody tr th:only-of-type {\n",
              "        vertical-align: middle;\n",
              "    }\n",
              "\n",
              "    .dataframe tbody tr th {\n",
              "        vertical-align: top;\n",
              "    }\n",
              "\n",
              "    .dataframe thead th {\n",
              "        text-align: right;\n",
              "    }\n",
              "</style>\n",
              "<table border=\"1\" class=\"dataframe\">\n",
              "  <thead>\n",
              "    <tr style=\"text-align: right;\">\n",
              "      <th></th>\n",
              "      <th>체험</th>\n",
              "      <th>사이트제목</th>\n",
              "      <th>성별</th>\n",
              "      <th>연령</th>\n",
              "      <th>직업</th>\n",
              "      <th>소득</th>\n",
              "      <th>결혼</th>\n",
              "      <th>자녀</th>\n",
              "      <th>주거</th>\n",
              "      <th>시도</th>\n",
              "      <th>구</th>\n",
              "      <th>동</th>\n",
              "      <th>자동차</th>\n",
              "    </tr>\n",
              "  </thead>\n",
              "  <tbody>\n",
              "    <tr>\n",
              "      <th>0</th>\n",
              "      <td>산림체험프로그램</td>\n",
              "      <td>장령산자연휴양림치유의숲산림치유염색체험프로그램안내</td>\n",
              "      <td>F</td>\n",
              "      <td>3</td>\n",
              "      <td>주부 (전업주부, 파트타임 근무 주부)</td>\n",
              "      <td>500~599만원</td>\n",
              "      <td>예</td>\n",
              "      <td>자녀 있음</td>\n",
              "      <td>아파트/ 주상복합</td>\n",
              "      <td>경기</td>\n",
              "      <td>김포시</td>\n",
              "      <td>장기동</td>\n",
              "      <td>NaN</td>\n",
              "    </tr>\n",
              "    <tr>\n",
              "      <th>1</th>\n",
              "      <td>숲체험프로그램</td>\n",
              "      <td>함허동천,숲체험프로그램</td>\n",
              "      <td>F</td>\n",
              "      <td>4</td>\n",
              "      <td>NaN</td>\n",
              "      <td>NaN</td>\n",
              "      <td></td>\n",
              "      <td></td>\n",
              "      <td>NaN</td>\n",
              "      <td>서울</td>\n",
              "      <td>은평구</td>\n",
              "      <td>응암동</td>\n",
              "      <td>NaN</td>\n",
              "    </tr>\n",
              "    <tr>\n",
              "      <th>2</th>\n",
              "      <td>숲체험프로그램</td>\n",
              "      <td>초등딸1학기트레킹숲체험프로그램을마쳤어요</td>\n",
              "      <td>F</td>\n",
              "      <td>3</td>\n",
              "      <td>NaN</td>\n",
              "      <td>NaN</td>\n",
              "      <td></td>\n",
              "      <td></td>\n",
              "      <td>NaN</td>\n",
              "      <td>서울</td>\n",
              "      <td>강서구</td>\n",
              "      <td>가양1동</td>\n",
              "      <td>NaN</td>\n",
              "    </tr>\n",
              "    <tr>\n",
              "      <th>3</th>\n",
              "      <td>숲체험교육확동</td>\n",
              "      <td>작은손마켓놀이숲체험유치원즐거워요</td>\n",
              "      <td>F</td>\n",
              "      <td>4</td>\n",
              "      <td>사무직 (일반사무직, 공무원, 직업군인)</td>\n",
              "      <td>300~399만원</td>\n",
              "      <td>아니오</td>\n",
              "      <td></td>\n",
              "      <td>아파트/ 주상복합</td>\n",
              "      <td>서울</td>\n",
              "      <td>송파구</td>\n",
              "      <td>문정2동</td>\n",
              "      <td>NaN</td>\n",
              "    </tr>\n",
              "    <tr>\n",
              "      <th>4</th>\n",
              "      <td>숲체험교육확동</td>\n",
              "      <td>[봉화]힐빙스테이4기/봉화가족체험프로그램/봉화춘양목숲힐빙프로그램/봉화가족캠프/춘양목...</td>\n",
              "      <td>M</td>\n",
              "      <td>3</td>\n",
              "      <td>NaN</td>\n",
              "      <td>NaN</td>\n",
              "      <td></td>\n",
              "      <td></td>\n",
              "      <td>NaN</td>\n",
              "      <td>광주</td>\n",
              "      <td>광산구</td>\n",
              "      <td>신가동</td>\n",
              "      <td>NaN</td>\n",
              "    </tr>\n",
              "  </tbody>\n",
              "</table>\n",
              "</div>\n",
              "      <button class=\"colab-df-convert\" onclick=\"convertToInteractive('df-632e3dd3-05e8-436b-9f4d-78371849082c')\"\n",
              "              title=\"Convert this dataframe to an interactive table.\"\n",
              "              style=\"display:none;\">\n",
              "        \n",
              "  <svg xmlns=\"http://www.w3.org/2000/svg\" height=\"24px\"viewBox=\"0 0 24 24\"\n",
              "       width=\"24px\">\n",
              "    <path d=\"M0 0h24v24H0V0z\" fill=\"none\"/>\n",
              "    <path d=\"M18.56 5.44l.94 2.06.94-2.06 2.06-.94-2.06-.94-.94-2.06-.94 2.06-2.06.94zm-11 1L8.5 8.5l.94-2.06 2.06-.94-2.06-.94L8.5 2.5l-.94 2.06-2.06.94zm10 10l.94 2.06.94-2.06 2.06-.94-2.06-.94-.94-2.06-.94 2.06-2.06.94z\"/><path d=\"M17.41 7.96l-1.37-1.37c-.4-.4-.92-.59-1.43-.59-.52 0-1.04.2-1.43.59L10.3 9.45l-7.72 7.72c-.78.78-.78 2.05 0 2.83L4 21.41c.39.39.9.59 1.41.59.51 0 1.02-.2 1.41-.59l7.78-7.78 2.81-2.81c.8-.78.8-2.07 0-2.86zM5.41 20L4 18.59l7.72-7.72 1.47 1.35L5.41 20z\"/>\n",
              "  </svg>\n",
              "      </button>\n",
              "      \n",
              "  <style>\n",
              "    .colab-df-container {\n",
              "      display:flex;\n",
              "      flex-wrap:wrap;\n",
              "      gap: 12px;\n",
              "    }\n",
              "\n",
              "    .colab-df-convert {\n",
              "      background-color: #E8F0FE;\n",
              "      border: none;\n",
              "      border-radius: 50%;\n",
              "      cursor: pointer;\n",
              "      display: none;\n",
              "      fill: #1967D2;\n",
              "      height: 32px;\n",
              "      padding: 0 0 0 0;\n",
              "      width: 32px;\n",
              "    }\n",
              "\n",
              "    .colab-df-convert:hover {\n",
              "      background-color: #E2EBFA;\n",
              "      box-shadow: 0px 1px 2px rgba(60, 64, 67, 0.3), 0px 1px 3px 1px rgba(60, 64, 67, 0.15);\n",
              "      fill: #174EA6;\n",
              "    }\n",
              "\n",
              "    [theme=dark] .colab-df-convert {\n",
              "      background-color: #3B4455;\n",
              "      fill: #D2E3FC;\n",
              "    }\n",
              "\n",
              "    [theme=dark] .colab-df-convert:hover {\n",
              "      background-color: #434B5C;\n",
              "      box-shadow: 0px 1px 3px 1px rgba(0, 0, 0, 0.15);\n",
              "      filter: drop-shadow(0px 1px 2px rgba(0, 0, 0, 0.3));\n",
              "      fill: #FFFFFF;\n",
              "    }\n",
              "  </style>\n",
              "\n",
              "      <script>\n",
              "        const buttonEl =\n",
              "          document.querySelector('#df-632e3dd3-05e8-436b-9f4d-78371849082c button.colab-df-convert');\n",
              "        buttonEl.style.display =\n",
              "          google.colab.kernel.accessAllowed ? 'block' : 'none';\n",
              "\n",
              "        async function convertToInteractive(key) {\n",
              "          const element = document.querySelector('#df-632e3dd3-05e8-436b-9f4d-78371849082c');\n",
              "          const dataTable =\n",
              "            await google.colab.kernel.invokeFunction('convertToInteractive',\n",
              "                                                     [key], {});\n",
              "          if (!dataTable) return;\n",
              "\n",
              "          const docLinkHtml = 'Like what you see? Visit the ' +\n",
              "            '<a target=\"_blank\" href=https://colab.research.google.com/notebooks/data_table.ipynb>data table notebook</a>'\n",
              "            + ' to learn more about interactive tables.';\n",
              "          element.innerHTML = '';\n",
              "          dataTable['output_type'] = 'display_data';\n",
              "          await google.colab.output.renderOutput(dataTable, element);\n",
              "          const docLink = document.createElement('div');\n",
              "          docLink.innerHTML = docLinkHtml;\n",
              "          element.appendChild(docLink);\n",
              "        }\n",
              "      </script>\n",
              "    </div>\n",
              "  </div>\n",
              "  "
            ]
          },
          "metadata": {},
          "execution_count": 43
        }
      ]
    },
    {
      "cell_type": "markdown",
      "source": [
        "### AGE"
      ],
      "metadata": {
        "id": "Tsw1w3Ws8Y5g"
      }
    },
    {
      "cell_type": "code",
      "source": [
        "age_counts = df3['연령'].value_counts()\n",
        "age_counts"
      ],
      "metadata": {
        "colab": {
          "base_uri": "https://localhost:8080/"
        },
        "id": "T_2_2GQr8Gu-",
        "outputId": "e8419c55-62bb-42b0-aecd-5d7477d36008"
      },
      "execution_count": null,
      "outputs": [
        {
          "output_type": "execute_result",
          "data": {
            "text/plain": [
              "3    1165\n",
              "4     770\n",
              "2     328\n",
              "5     244\n",
              "Name: 연령, dtype: int64"
            ]
          },
          "metadata": {},
          "execution_count": 44
        }
      ]
    },
    {
      "cell_type": "code",
      "source": [
        "age_counts.loc[[2,3]].sum(), round(age_counts.loc[[2,3]].sum() / age_counts.sum() * 100, 1),\\\n",
        "age_counts.loc[2], round(age_counts.loc[2] / age_counts.sum() * 100, 1),\\\n",
        "age_counts.loc[3], round(age_counts.loc[3] / age_counts.sum() * 100, 1),\\\n",
        "age_counts.drop([2,3]).sum(), round(age_counts.drop([2,3]).sum() / age_counts.sum() * 100, 1)"
      ],
      "metadata": {
        "colab": {
          "base_uri": "https://localhost:8080/"
        },
        "id": "ecIreZ8u8SjK",
        "outputId": "9bad8868-2b2d-4008-db5b-0ec4c8e54b75"
      },
      "execution_count": null,
      "outputs": [
        {
          "output_type": "execute_result",
          "data": {
            "text/plain": [
              "(1493, 59.6, 328, 13.1, 1165, 46.5, 1014, 40.4)"
            ]
          },
          "metadata": {},
          "execution_count": 45
        }
      ]
    },
    {
      "cell_type": "code",
      "source": [
        "df3_23 = df3[df3['연령'].isin([2, 3])]\n",
        "df3_2 = df3[(df3['연령'] == 2)]\n",
        "df3_3 = df3[(df3['연령'] == 3)]\n",
        "df3_1456 = df3[df3['연령'].isin([1, 4, 5, 6])]"
      ],
      "metadata": {
        "id": "YGU3sHhK8piF"
      },
      "execution_count": null,
      "outputs": []
    },
    {
      "cell_type": "markdown",
      "source": [
        "### 230대 성별"
      ],
      "metadata": {
        "id": "mNVjrnGs83Af"
      }
    },
    {
      "cell_type": "code",
      "source": [
        "sex_counts = df3_23['성별'].value_counts()\n",
        "sex_counts"
      ],
      "metadata": {
        "colab": {
          "base_uri": "https://localhost:8080/"
        },
        "id": "Al86Lb0b853P",
        "outputId": "7dea9745-b28d-4001-e5b7-839c96556753"
      },
      "execution_count": null,
      "outputs": [
        {
          "output_type": "execute_result",
          "data": {
            "text/plain": [
              "F    1288\n",
              "M     205\n",
              "Name: 성별, dtype: int64"
            ]
          },
          "metadata": {},
          "execution_count": 47
        }
      ]
    },
    {
      "cell_type": "code",
      "source": [
        "round(sex_counts.loc['F'] / sex_counts.sum() * 100 , 1),\\\n",
        "round(sex_counts.loc['M'] / sex_counts.sum() * 100 , 1)"
      ],
      "metadata": {
        "colab": {
          "base_uri": "https://localhost:8080/"
        },
        "id": "NqbEdoyu87i2",
        "outputId": "cb3ed3e8-d4a5-46e7-ad1a-c7ab07acbc55"
      },
      "execution_count": null,
      "outputs": [
        {
          "output_type": "execute_result",
          "data": {
            "text/plain": [
              "(86.3, 13.7)"
            ]
          },
          "metadata": {},
          "execution_count": 48
        }
      ]
    },
    {
      "cell_type": "markdown",
      "source": [
        "### 230대 직업"
      ],
      "metadata": {
        "id": "oON0Vlfe89Lr"
      }
    },
    {
      "cell_type": "code",
      "source": [
        "job_counts = df3_23['직업'].value_counts()\n",
        "job_counts"
      ],
      "metadata": {
        "colab": {
          "base_uri": "https://localhost:8080/"
        },
        "id": "5iqR_c7Q9BRq",
        "outputId": "a0d2dc70-ab04-4e40-aa5e-f4e209df9ee3"
      },
      "execution_count": null,
      "outputs": [
        {
          "output_type": "execute_result",
          "data": {
            "text/plain": [
              "사무직 (일반사무직, 공무원, 직업군인)             331\n",
              "주부 (전업주부, 파트타임 근무 주부)              217\n",
              "전문직 (의사, 판검사, 예술가, 종교인)             92\n",
              "학생 (초중고학생, 대학생, 대학원생)               70\n",
              "교직 (교사, 유치원교사, 학원강사)                62\n",
              "무직                                  44\n",
              "서비스직 (요식업, 숙박업, 미용실종업원)             35\n",
              "기타                                  32\n",
              "판매직 (상점점원, 보험설계사, 노점상)              14\n",
              "자영업 (도소매업, 숙박업, 미용업)                12\n",
              "생산/노무직 (생산감독, 경비원, 공장근로자)           11\n",
              "관리직 (사장, 간부, 고위공무원)                  9\n",
              "기능직 (자동차정비, 운전기사, 안경사, 택시기사)         6\n",
              "농/축/광/수산업 (축산, 낙농업, 수산, 임업, 광업)      4\n",
              "퇴직/연금생활자                             3\n",
              "Name: 직업, dtype: int64"
            ]
          },
          "metadata": {},
          "execution_count": 49
        }
      ]
    },
    {
      "cell_type": "code",
      "source": [
        "drop_jobs = job_counts[job_counts.index.str.contains('학생|퇴직|주부')]\n",
        "drop_jobs"
      ],
      "metadata": {
        "colab": {
          "base_uri": "https://localhost:8080/"
        },
        "id": "r_i991st9Cjk",
        "outputId": "2511bcd8-fd9b-4c0d-c00c-d1d0553be9a9"
      },
      "execution_count": null,
      "outputs": [
        {
          "output_type": "execute_result",
          "data": {
            "text/plain": [
              "주부 (전업주부, 파트타임 근무 주부)    217\n",
              "학생 (초중고학생, 대학생, 대학원생)     70\n",
              "퇴직/연금생활자                   3\n",
              "Name: 직업, dtype: int64"
            ]
          },
          "metadata": {},
          "execution_count": 50
        }
      ]
    },
    {
      "cell_type": "code",
      "source": [
        "round((job_counts.sum() - drop_jobs.sum() - job_counts['무직']) / len(df3_23) * 100, 1),\\\n",
        "job_counts.sum() - drop_jobs.sum() - job_counts['무직']"
      ],
      "metadata": {
        "colab": {
          "base_uri": "https://localhost:8080/"
        },
        "id": "uRplHcRs9IX0",
        "outputId": "5edeac94-e245-4554-87e3-1a76175cc0a1"
      },
      "execution_count": null,
      "outputs": [
        {
          "output_type": "execute_result",
          "data": {
            "text/plain": [
              "(40.7, 608)"
            ]
          },
          "metadata": {},
          "execution_count": 51
        }
      ]
    },
    {
      "cell_type": "code",
      "source": [
        "job2_counts = df3_2['직업'].value_counts()\n",
        "job3_counts = df3_3['직업'].value_counts()"
      ],
      "metadata": {
        "id": "xTYR06YF9QzG"
      },
      "execution_count": null,
      "outputs": []
    },
    {
      "cell_type": "code",
      "source": [
        "drop2_jobs = job2_counts[job2_counts.index.str.contains('학생|퇴직|주부')]\n",
        "drop3_jobs = job3_counts[job3_counts.index.str.contains('학생|퇴직|주부')]"
      ],
      "metadata": {
        "id": "qGJ161Ge9Wuk"
      },
      "execution_count": null,
      "outputs": []
    },
    {
      "cell_type": "code",
      "source": [
        "round((job2_counts.sum() - drop2_jobs.sum() - job2_counts['무직']) / len(df3_23) * 100, 1),\\\n",
        "job2_counts.sum() - drop2_jobs.sum() - job2_counts['무직'],\\\n",
        "round((job3_counts.sum() - drop3_jobs.sum() - job3_counts['무직']) / len(df3_23) * 100, 1),\\\n",
        "job3_counts.sum() - drop3_jobs.sum() - job3_counts['무직']"
      ],
      "metadata": {
        "colab": {
          "base_uri": "https://localhost:8080/"
        },
        "id": "N-ezykcI9cze",
        "outputId": "8ea55adc-3ffa-4cd8-8abc-81358ecef3d0"
      },
      "execution_count": null,
      "outputs": [
        {
          "output_type": "execute_result",
          "data": {
            "text/plain": [
              "(5.3, 79, 35.4, 529)"
            ]
          },
          "metadata": {},
          "execution_count": 54
        }
      ]
    },
    {
      "cell_type": "markdown",
      "source": [
        "### 230대 자동차"
      ],
      "metadata": {
        "id": "DUwEPxhE9k5V"
      }
    },
    {
      "cell_type": "code",
      "source": [
        "car_counts = df3_23['자동차'].value_counts()\n",
        "car_counts"
      ],
      "metadata": {
        "colab": {
          "base_uri": "https://localhost:8080/"
        },
        "id": "LyG0FIdx9ob0",
        "outputId": "c5f8d5c4-c24e-48c0-b607-62feae60f78e"
      },
      "execution_count": null,
      "outputs": [
        {
          "output_type": "execute_result",
          "data": {
            "text/plain": [
              "준중형차 (아반떼, K3, 크루즈, 제타급 등)          114\n",
              "경차 (모닝, 스파크 등)                       80\n",
              "중형차 (쏘나타, K5, 말리부, 골프급 등)            71\n",
              "중형SUV (싼타페, 쏘렌토, 캡티바, BMW X3급 등)     40\n",
              "준중형SUV (투싼, 스포티지, QM5, 티구안급 등)       27\n",
              "소형차 (액센트, 프라이드, 아베오, 피아트급 등)         24\n",
              "준대형차 (그랜저, K7, 알페온, 캠리급, 파사트급 등)     18\n",
              "대형차 (제너시스, BMW5급 등)                  10\n",
              "MPV (카니발, 올란도, 피카소급, 오딧세이 등)          4\n",
              "기타 (승합차/트럭/화물차/기타 차량 등)               4\n",
              "소형SUV/CUV (티볼리, QM3 등)                4\n",
              "대형SUV (베라크루즈, 모하비, 투아렉급 등)            4\n",
              "준중형파생 (벨로스터, I30 등)                   1\n",
              "스포츠 (제네시스 쿠페, BMW M, 벤츠 AMG 등)        1\n",
              "Name: 자동차, dtype: int64"
            ]
          },
          "metadata": {},
          "execution_count": 55
        }
      ]
    },
    {
      "cell_type": "code",
      "source": [
        "round(car_counts.sum() / len(df3_23) * 100, 1),\\\n",
        "car_counts.sum()"
      ],
      "metadata": {
        "colab": {
          "base_uri": "https://localhost:8080/"
        },
        "id": "7Tv2uGsg9p5y",
        "outputId": "a12f06b9-32bc-4e78-bf03-2d1f7496d515"
      },
      "execution_count": null,
      "outputs": [
        {
          "output_type": "execute_result",
          "data": {
            "text/plain": [
              "(26.9, 402)"
            ]
          },
          "metadata": {},
          "execution_count": 56
        }
      ]
    },
    {
      "cell_type": "code",
      "source": [
        "car2_counts = df3_2['자동차'].value_counts()\n",
        "car3_counts = df3_3['자동차'].value_counts()\n",
        "\n",
        "round(car2_counts.sum() / len(df3_23) * 100, 1),\\\n",
        "car2_counts.sum(),\\\n",
        "round(car3_counts.sum() / len(df3_23) * 100, 1),\\\n",
        "car3_counts.sum()"
      ],
      "metadata": {
        "colab": {
          "base_uri": "https://localhost:8080/"
        },
        "id": "Gkhve_iH9tAW",
        "outputId": "0b371c0b-9813-4082-875e-310ba19669b9"
      },
      "execution_count": null,
      "outputs": [
        {
          "output_type": "execute_result",
          "data": {
            "text/plain": [
              "(2.3, 35, 24.6, 367)"
            ]
          },
          "metadata": {},
          "execution_count": 57
        }
      ]
    },
    {
      "cell_type": "markdown",
      "source": [
        "### 230대 거주지"
      ],
      "metadata": {
        "id": "hmxw6FnS9yZi"
      }
    },
    {
      "cell_type": "code",
      "source": [
        "df3_23['시도'].value_counts()[:5],\\\n",
        "df3_2['시도'].value_counts()[:5],\\\n",
        "df3_3['시도'].value_counts()[:5]"
      ],
      "metadata": {
        "colab": {
          "base_uri": "https://localhost:8080/"
        },
        "id": "LBxq384C90Gf",
        "outputId": "e6a4537c-dbe5-496c-e46d-9b2619b0beb0"
      },
      "execution_count": null,
      "outputs": [
        {
          "output_type": "execute_result",
          "data": {
            "text/plain": [
              "(서울    512\n",
              " 경기    400\n",
              " 부산     72\n",
              " 인천     68\n",
              " 대구     67\n",
              " Name: 시도, dtype: int64,\n",
              " 경기    97\n",
              " 서울    92\n",
              " 경남    18\n",
              " 대구    16\n",
              " 부산    14\n",
              " Name: 시도, dtype: int64,\n",
              " 서울    420\n",
              " 경기    303\n",
              " 부산     58\n",
              " 인천     57\n",
              " 대구     51\n",
              " Name: 시도, dtype: int64)"
            ]
          },
          "metadata": {},
          "execution_count": 58
        }
      ]
    },
    {
      "cell_type": "code",
      "source": [
        "df3_23[df3_23['시도'] == \"서울\"]['체험'].value_counts()[:5],\\\n",
        "df3_2[df3_2['시도'] == \"경기\"]['체험'].value_counts()[:5],\\\n",
        "df3_3[df3_3['시도'] == \"서울\"]['체험'].value_counts()[:5]"
      ],
      "metadata": {
        "colab": {
          "base_uri": "https://localhost:8080/"
        },
        "id": "llrovvhC93YT",
        "outputId": "349f0d2c-736d-4633-a4ac-f64664fd1b49"
      },
      "execution_count": null,
      "outputs": [
        {
          "output_type": "execute_result",
          "data": {
            "text/plain": [
              "(숲체험프로그램       210\n",
              " 숲체험교육확동       194\n",
              " 산림복합체험프로그램     58\n",
              " 산림체험프로그램       50\n",
              " Name: 체험, dtype: int64,\n",
              " 숲체험프로그램       46\n",
              " 숲체험교육확동       34\n",
              " 산림복합체험프로그램    10\n",
              " 산림체험프로그램       7\n",
              " Name: 체험, dtype: int64,\n",
              " 숲체험프로그램       168\n",
              " 숲체험교육확동       161\n",
              " 산림복합체험프로그램     49\n",
              " 산림체험프로그램       42\n",
              " Name: 체험, dtype: int64)"
            ]
          },
          "metadata": {},
          "execution_count": 105
        }
      ]
    },
    {
      "cell_type": "code",
      "source": [
        "df3_1456['시도'].value_counts()[:5],\\\n",
        "df3_1456[df3_1456['시도'] == \"서울\"]['체험'].value_counts()[:5]"
      ],
      "metadata": {
        "colab": {
          "base_uri": "https://localhost:8080/"
        },
        "id": "1yRAIcxa96ht",
        "outputId": "b23d5403-1559-4109-b0ae-48c1ff92f17e"
      },
      "execution_count": null,
      "outputs": [
        {
          "output_type": "execute_result",
          "data": {
            "text/plain": [
              "(서울    363\n",
              " 경기    257\n",
              " 인천     54\n",
              " 부산     53\n",
              " 대구     46\n",
              " Name: 시도, dtype: int64,\n",
              " 숲체험프로그램       162\n",
              " 숲체험교육확동       132\n",
              " 산림체험프로그램       40\n",
              " 산림복합체험프로그램     29\n",
              " Name: 체험, dtype: int64)"
            ]
          },
          "metadata": {},
          "execution_count": 106
        }
      ]
    },
    {
      "cell_type": "code",
      "source": [],
      "metadata": {
        "id": "MmHeiPp4MnKH"
      },
      "execution_count": null,
      "outputs": []
    },
    {
      "cell_type": "markdown",
      "source": [
        "# df4 : 산림치유 관심인구 라이프스타일 (온라인쇼핑몰 검색/구매 카테고리) 정보 (Total : 42,430)"
      ],
      "metadata": {
        "id": "nj9yT_QkBAd9"
      }
    },
    {
      "cell_type": "code",
      "source": [
        "len(df4)"
      ],
      "metadata": {
        "colab": {
          "base_uri": "https://localhost:8080/"
        },
        "id": "vr9m7UPhQND4",
        "outputId": "0c4855a9-36b4-4264-98a3-c4578d89a643"
      },
      "execution_count": null,
      "outputs": [
        {
          "output_type": "execute_result",
          "data": {
            "text/plain": [
              "42430"
            ]
          },
          "metadata": {},
          "execution_count": 60
        }
      ]
    },
    {
      "cell_type": "code",
      "source": [
        "df4.head()"
      ],
      "metadata": {
        "colab": {
          "base_uri": "https://localhost:8080/",
          "height": 206
        },
        "outputId": "27beceb8-eedd-4193-a2bb-f719d7c1ec8d",
        "id": "w1oWx2qeNBVj"
      },
      "execution_count": null,
      "outputs": [
        {
          "output_type": "execute_result",
          "data": {
            "text/plain": [
              "    카테고리 성별  연령                      직업         소득      결혼          자녀  \\\n",
              "0   패션잡화  F   4                     NaN        NaN                       \n",
              "1   패션잡화  F   4                     NaN        NaN                       \n",
              "2     뷰티  F   3  사무직 (일반사무직, 공무원, 직업군인)  200~299만원   예          자녀 없음    \n",
              "3  식품/건강  F   3   주부 (전업주부, 파트타임 근무 주부)  200~299만원   예          자녀 있음    \n",
              "4   패션의류  F   3                     NaN        NaN                       \n",
              "\n",
              "          주거  시도     구     동                           자동차  \n",
              "0        NaN  서울   은평구   응암동                           NaN  \n",
              "1        NaN  서울   은평구   응암동                           NaN  \n",
              "2  아파트/ 주상복합  서울   성북구   길음동                           NaN  \n",
              "3       단독주택  부산  해운대구  재송1동  소형차 (액센트, 프라이드, 아베오, 피아트급 등)  \n",
              "4        NaN  대구    북구   검단동                           NaN  "
            ],
            "text/html": [
              "\n",
              "  <div id=\"df-148ffda3-9c12-4d97-baf1-a6a5477bf03a\">\n",
              "    <div class=\"colab-df-container\">\n",
              "      <div>\n",
              "<style scoped>\n",
              "    .dataframe tbody tr th:only-of-type {\n",
              "        vertical-align: middle;\n",
              "    }\n",
              "\n",
              "    .dataframe tbody tr th {\n",
              "        vertical-align: top;\n",
              "    }\n",
              "\n",
              "    .dataframe thead th {\n",
              "        text-align: right;\n",
              "    }\n",
              "</style>\n",
              "<table border=\"1\" class=\"dataframe\">\n",
              "  <thead>\n",
              "    <tr style=\"text-align: right;\">\n",
              "      <th></th>\n",
              "      <th>카테고리</th>\n",
              "      <th>성별</th>\n",
              "      <th>연령</th>\n",
              "      <th>직업</th>\n",
              "      <th>소득</th>\n",
              "      <th>결혼</th>\n",
              "      <th>자녀</th>\n",
              "      <th>주거</th>\n",
              "      <th>시도</th>\n",
              "      <th>구</th>\n",
              "      <th>동</th>\n",
              "      <th>자동차</th>\n",
              "    </tr>\n",
              "  </thead>\n",
              "  <tbody>\n",
              "    <tr>\n",
              "      <th>0</th>\n",
              "      <td>패션잡화</td>\n",
              "      <td>F</td>\n",
              "      <td>4</td>\n",
              "      <td>NaN</td>\n",
              "      <td>NaN</td>\n",
              "      <td></td>\n",
              "      <td></td>\n",
              "      <td>NaN</td>\n",
              "      <td>서울</td>\n",
              "      <td>은평구</td>\n",
              "      <td>응암동</td>\n",
              "      <td>NaN</td>\n",
              "    </tr>\n",
              "    <tr>\n",
              "      <th>1</th>\n",
              "      <td>패션잡화</td>\n",
              "      <td>F</td>\n",
              "      <td>4</td>\n",
              "      <td>NaN</td>\n",
              "      <td>NaN</td>\n",
              "      <td></td>\n",
              "      <td></td>\n",
              "      <td>NaN</td>\n",
              "      <td>서울</td>\n",
              "      <td>은평구</td>\n",
              "      <td>응암동</td>\n",
              "      <td>NaN</td>\n",
              "    </tr>\n",
              "    <tr>\n",
              "      <th>2</th>\n",
              "      <td>뷰티</td>\n",
              "      <td>F</td>\n",
              "      <td>3</td>\n",
              "      <td>사무직 (일반사무직, 공무원, 직업군인)</td>\n",
              "      <td>200~299만원</td>\n",
              "      <td>예</td>\n",
              "      <td>자녀 없음</td>\n",
              "      <td>아파트/ 주상복합</td>\n",
              "      <td>서울</td>\n",
              "      <td>성북구</td>\n",
              "      <td>길음동</td>\n",
              "      <td>NaN</td>\n",
              "    </tr>\n",
              "    <tr>\n",
              "      <th>3</th>\n",
              "      <td>식품/건강</td>\n",
              "      <td>F</td>\n",
              "      <td>3</td>\n",
              "      <td>주부 (전업주부, 파트타임 근무 주부)</td>\n",
              "      <td>200~299만원</td>\n",
              "      <td>예</td>\n",
              "      <td>자녀 있음</td>\n",
              "      <td>단독주택</td>\n",
              "      <td>부산</td>\n",
              "      <td>해운대구</td>\n",
              "      <td>재송1동</td>\n",
              "      <td>소형차 (액센트, 프라이드, 아베오, 피아트급 등)</td>\n",
              "    </tr>\n",
              "    <tr>\n",
              "      <th>4</th>\n",
              "      <td>패션의류</td>\n",
              "      <td>F</td>\n",
              "      <td>3</td>\n",
              "      <td>NaN</td>\n",
              "      <td>NaN</td>\n",
              "      <td></td>\n",
              "      <td></td>\n",
              "      <td>NaN</td>\n",
              "      <td>대구</td>\n",
              "      <td>북구</td>\n",
              "      <td>검단동</td>\n",
              "      <td>NaN</td>\n",
              "    </tr>\n",
              "  </tbody>\n",
              "</table>\n",
              "</div>\n",
              "      <button class=\"colab-df-convert\" onclick=\"convertToInteractive('df-148ffda3-9c12-4d97-baf1-a6a5477bf03a')\"\n",
              "              title=\"Convert this dataframe to an interactive table.\"\n",
              "              style=\"display:none;\">\n",
              "        \n",
              "  <svg xmlns=\"http://www.w3.org/2000/svg\" height=\"24px\"viewBox=\"0 0 24 24\"\n",
              "       width=\"24px\">\n",
              "    <path d=\"M0 0h24v24H0V0z\" fill=\"none\"/>\n",
              "    <path d=\"M18.56 5.44l.94 2.06.94-2.06 2.06-.94-2.06-.94-.94-2.06-.94 2.06-2.06.94zm-11 1L8.5 8.5l.94-2.06 2.06-.94-2.06-.94L8.5 2.5l-.94 2.06-2.06.94zm10 10l.94 2.06.94-2.06 2.06-.94-2.06-.94-.94-2.06-.94 2.06-2.06.94z\"/><path d=\"M17.41 7.96l-1.37-1.37c-.4-.4-.92-.59-1.43-.59-.52 0-1.04.2-1.43.59L10.3 9.45l-7.72 7.72c-.78.78-.78 2.05 0 2.83L4 21.41c.39.39.9.59 1.41.59.51 0 1.02-.2 1.41-.59l7.78-7.78 2.81-2.81c.8-.78.8-2.07 0-2.86zM5.41 20L4 18.59l7.72-7.72 1.47 1.35L5.41 20z\"/>\n",
              "  </svg>\n",
              "      </button>\n",
              "      \n",
              "  <style>\n",
              "    .colab-df-container {\n",
              "      display:flex;\n",
              "      flex-wrap:wrap;\n",
              "      gap: 12px;\n",
              "    }\n",
              "\n",
              "    .colab-df-convert {\n",
              "      background-color: #E8F0FE;\n",
              "      border: none;\n",
              "      border-radius: 50%;\n",
              "      cursor: pointer;\n",
              "      display: none;\n",
              "      fill: #1967D2;\n",
              "      height: 32px;\n",
              "      padding: 0 0 0 0;\n",
              "      width: 32px;\n",
              "    }\n",
              "\n",
              "    .colab-df-convert:hover {\n",
              "      background-color: #E2EBFA;\n",
              "      box-shadow: 0px 1px 2px rgba(60, 64, 67, 0.3), 0px 1px 3px 1px rgba(60, 64, 67, 0.15);\n",
              "      fill: #174EA6;\n",
              "    }\n",
              "\n",
              "    [theme=dark] .colab-df-convert {\n",
              "      background-color: #3B4455;\n",
              "      fill: #D2E3FC;\n",
              "    }\n",
              "\n",
              "    [theme=dark] .colab-df-convert:hover {\n",
              "      background-color: #434B5C;\n",
              "      box-shadow: 0px 1px 3px 1px rgba(0, 0, 0, 0.15);\n",
              "      filter: drop-shadow(0px 1px 2px rgba(0, 0, 0, 0.3));\n",
              "      fill: #FFFFFF;\n",
              "    }\n",
              "  </style>\n",
              "\n",
              "      <script>\n",
              "        const buttonEl =\n",
              "          document.querySelector('#df-148ffda3-9c12-4d97-baf1-a6a5477bf03a button.colab-df-convert');\n",
              "        buttonEl.style.display =\n",
              "          google.colab.kernel.accessAllowed ? 'block' : 'none';\n",
              "\n",
              "        async function convertToInteractive(key) {\n",
              "          const element = document.querySelector('#df-148ffda3-9c12-4d97-baf1-a6a5477bf03a');\n",
              "          const dataTable =\n",
              "            await google.colab.kernel.invokeFunction('convertToInteractive',\n",
              "                                                     [key], {});\n",
              "          if (!dataTable) return;\n",
              "\n",
              "          const docLinkHtml = 'Like what you see? Visit the ' +\n",
              "            '<a target=\"_blank\" href=https://colab.research.google.com/notebooks/data_table.ipynb>data table notebook</a>'\n",
              "            + ' to learn more about interactive tables.';\n",
              "          element.innerHTML = '';\n",
              "          dataTable['output_type'] = 'display_data';\n",
              "          await google.colab.output.renderOutput(dataTable, element);\n",
              "          const docLink = document.createElement('div');\n",
              "          docLink.innerHTML = docLinkHtml;\n",
              "          element.appendChild(docLink);\n",
              "        }\n",
              "      </script>\n",
              "    </div>\n",
              "  </div>\n",
              "  "
            ]
          },
          "metadata": {},
          "execution_count": 61
        }
      ]
    },
    {
      "cell_type": "code",
      "source": [
        "age_counts = df4['연령'].value_counts()\n",
        "age_counts"
      ],
      "metadata": {
        "colab": {
          "base_uri": "https://localhost:8080/"
        },
        "outputId": "804dabcb-97a4-47c8-fe3f-b323c82a75c4",
        "id": "TASLNlxWNBVj"
      },
      "execution_count": null,
      "outputs": [
        {
          "output_type": "execute_result",
          "data": {
            "text/plain": [
              "3    20542\n",
              "4    12242\n",
              "2     5458\n",
              "5     4188\n",
              "Name: 연령, dtype: int64"
            ]
          },
          "metadata": {},
          "execution_count": 62
        }
      ]
    },
    {
      "cell_type": "code",
      "source": [
        "age_counts.loc[[2,3]].sum(), round(age_counts.loc[[2,3]].sum() / age_counts.sum() * 100, 1),\\\n",
        "round(age_counts.loc[2] / age_counts.sum() * 100, 1),\\\n",
        "round(age_counts.loc[3] / age_counts.sum() * 100, 1),\\\n",
        "round(age_counts.drop([2,3]).sum() / age_counts.sum() * 100, 1)"
      ],
      "metadata": {
        "colab": {
          "base_uri": "https://localhost:8080/"
        },
        "outputId": "ddce669c-f02c-43ee-ea09-f1cb48425b05",
        "id": "cOcxlrJhNBVj"
      },
      "execution_count": null,
      "outputs": [
        {
          "output_type": "execute_result",
          "data": {
            "text/plain": [
              "(26000, 61.3, 12.9, 48.4, 38.7)"
            ]
          },
          "metadata": {},
          "execution_count": 63
        }
      ]
    },
    {
      "cell_type": "code",
      "source": [
        "df4_23 = df4[df4['연령'].isin([2, 3])]\n",
        "df4_2 = df4[(df4['연령'] == 2)]\n",
        "df4_3 = df4[(df4['연령'] == 3)]\n",
        "df4_45 = df4[df4['연령'].isin([4, 5])]"
      ],
      "metadata": {
        "id": "POhObRF-NBVj"
      },
      "execution_count": null,
      "outputs": []
    },
    {
      "cell_type": "code",
      "source": [
        "df4_23.head()"
      ],
      "metadata": {
        "colab": {
          "base_uri": "https://localhost:8080/",
          "height": 206
        },
        "outputId": "9c6b6c74-5055-4a3f-9534-28840023608a",
        "id": "TeLTYltONBVk"
      },
      "execution_count": null,
      "outputs": [
        {
          "output_type": "execute_result",
          "data": {
            "text/plain": [
              "     카테고리 성별  연령                      직업         소득      결혼          자녀  \\\n",
              "2      뷰티  F   3  사무직 (일반사무직, 공무원, 직업군인)  200~299만원   예          자녀 없음    \n",
              "3   식품/건강  F   3   주부 (전업주부, 파트타임 근무 주부)  200~299만원   예          자녀 있음    \n",
              "4    패션의류  F   3                     NaN        NaN                       \n",
              "5    패션의류  F   3                     NaN        NaN                       \n",
              "8  디지털/가전  F   2                     NaN        NaN                       \n",
              "\n",
              "          주거  시도     구      동                           자동차  \n",
              "2  아파트/ 주상복합  서울   성북구    길음동                           NaN  \n",
              "3       단독주택  부산  해운대구   재송1동  소형차 (액센트, 프라이드, 아베오, 피아트급 등)  \n",
              "4        NaN  대구    북구    검단동                           NaN  \n",
              "5        NaN  대구    북구    검단동                           NaN  \n",
              "8        NaN  서울  서대문구  충정로3가                           NaN  "
            ],
            "text/html": [
              "\n",
              "  <div id=\"df-aba2a89b-8400-432c-9610-72e5658d3d7b\">\n",
              "    <div class=\"colab-df-container\">\n",
              "      <div>\n",
              "<style scoped>\n",
              "    .dataframe tbody tr th:only-of-type {\n",
              "        vertical-align: middle;\n",
              "    }\n",
              "\n",
              "    .dataframe tbody tr th {\n",
              "        vertical-align: top;\n",
              "    }\n",
              "\n",
              "    .dataframe thead th {\n",
              "        text-align: right;\n",
              "    }\n",
              "</style>\n",
              "<table border=\"1\" class=\"dataframe\">\n",
              "  <thead>\n",
              "    <tr style=\"text-align: right;\">\n",
              "      <th></th>\n",
              "      <th>카테고리</th>\n",
              "      <th>성별</th>\n",
              "      <th>연령</th>\n",
              "      <th>직업</th>\n",
              "      <th>소득</th>\n",
              "      <th>결혼</th>\n",
              "      <th>자녀</th>\n",
              "      <th>주거</th>\n",
              "      <th>시도</th>\n",
              "      <th>구</th>\n",
              "      <th>동</th>\n",
              "      <th>자동차</th>\n",
              "    </tr>\n",
              "  </thead>\n",
              "  <tbody>\n",
              "    <tr>\n",
              "      <th>2</th>\n",
              "      <td>뷰티</td>\n",
              "      <td>F</td>\n",
              "      <td>3</td>\n",
              "      <td>사무직 (일반사무직, 공무원, 직업군인)</td>\n",
              "      <td>200~299만원</td>\n",
              "      <td>예</td>\n",
              "      <td>자녀 없음</td>\n",
              "      <td>아파트/ 주상복합</td>\n",
              "      <td>서울</td>\n",
              "      <td>성북구</td>\n",
              "      <td>길음동</td>\n",
              "      <td>NaN</td>\n",
              "    </tr>\n",
              "    <tr>\n",
              "      <th>3</th>\n",
              "      <td>식품/건강</td>\n",
              "      <td>F</td>\n",
              "      <td>3</td>\n",
              "      <td>주부 (전업주부, 파트타임 근무 주부)</td>\n",
              "      <td>200~299만원</td>\n",
              "      <td>예</td>\n",
              "      <td>자녀 있음</td>\n",
              "      <td>단독주택</td>\n",
              "      <td>부산</td>\n",
              "      <td>해운대구</td>\n",
              "      <td>재송1동</td>\n",
              "      <td>소형차 (액센트, 프라이드, 아베오, 피아트급 등)</td>\n",
              "    </tr>\n",
              "    <tr>\n",
              "      <th>4</th>\n",
              "      <td>패션의류</td>\n",
              "      <td>F</td>\n",
              "      <td>3</td>\n",
              "      <td>NaN</td>\n",
              "      <td>NaN</td>\n",
              "      <td></td>\n",
              "      <td></td>\n",
              "      <td>NaN</td>\n",
              "      <td>대구</td>\n",
              "      <td>북구</td>\n",
              "      <td>검단동</td>\n",
              "      <td>NaN</td>\n",
              "    </tr>\n",
              "    <tr>\n",
              "      <th>5</th>\n",
              "      <td>패션의류</td>\n",
              "      <td>F</td>\n",
              "      <td>3</td>\n",
              "      <td>NaN</td>\n",
              "      <td>NaN</td>\n",
              "      <td></td>\n",
              "      <td></td>\n",
              "      <td>NaN</td>\n",
              "      <td>대구</td>\n",
              "      <td>북구</td>\n",
              "      <td>검단동</td>\n",
              "      <td>NaN</td>\n",
              "    </tr>\n",
              "    <tr>\n",
              "      <th>8</th>\n",
              "      <td>디지털/가전</td>\n",
              "      <td>F</td>\n",
              "      <td>2</td>\n",
              "      <td>NaN</td>\n",
              "      <td>NaN</td>\n",
              "      <td></td>\n",
              "      <td></td>\n",
              "      <td>NaN</td>\n",
              "      <td>서울</td>\n",
              "      <td>서대문구</td>\n",
              "      <td>충정로3가</td>\n",
              "      <td>NaN</td>\n",
              "    </tr>\n",
              "  </tbody>\n",
              "</table>\n",
              "</div>\n",
              "      <button class=\"colab-df-convert\" onclick=\"convertToInteractive('df-aba2a89b-8400-432c-9610-72e5658d3d7b')\"\n",
              "              title=\"Convert this dataframe to an interactive table.\"\n",
              "              style=\"display:none;\">\n",
              "        \n",
              "  <svg xmlns=\"http://www.w3.org/2000/svg\" height=\"24px\"viewBox=\"0 0 24 24\"\n",
              "       width=\"24px\">\n",
              "    <path d=\"M0 0h24v24H0V0z\" fill=\"none\"/>\n",
              "    <path d=\"M18.56 5.44l.94 2.06.94-2.06 2.06-.94-2.06-.94-.94-2.06-.94 2.06-2.06.94zm-11 1L8.5 8.5l.94-2.06 2.06-.94-2.06-.94L8.5 2.5l-.94 2.06-2.06.94zm10 10l.94 2.06.94-2.06 2.06-.94-2.06-.94-.94-2.06-.94 2.06-2.06.94z\"/><path d=\"M17.41 7.96l-1.37-1.37c-.4-.4-.92-.59-1.43-.59-.52 0-1.04.2-1.43.59L10.3 9.45l-7.72 7.72c-.78.78-.78 2.05 0 2.83L4 21.41c.39.39.9.59 1.41.59.51 0 1.02-.2 1.41-.59l7.78-7.78 2.81-2.81c.8-.78.8-2.07 0-2.86zM5.41 20L4 18.59l7.72-7.72 1.47 1.35L5.41 20z\"/>\n",
              "  </svg>\n",
              "      </button>\n",
              "      \n",
              "  <style>\n",
              "    .colab-df-container {\n",
              "      display:flex;\n",
              "      flex-wrap:wrap;\n",
              "      gap: 12px;\n",
              "    }\n",
              "\n",
              "    .colab-df-convert {\n",
              "      background-color: #E8F0FE;\n",
              "      border: none;\n",
              "      border-radius: 50%;\n",
              "      cursor: pointer;\n",
              "      display: none;\n",
              "      fill: #1967D2;\n",
              "      height: 32px;\n",
              "      padding: 0 0 0 0;\n",
              "      width: 32px;\n",
              "    }\n",
              "\n",
              "    .colab-df-convert:hover {\n",
              "      background-color: #E2EBFA;\n",
              "      box-shadow: 0px 1px 2px rgba(60, 64, 67, 0.3), 0px 1px 3px 1px rgba(60, 64, 67, 0.15);\n",
              "      fill: #174EA6;\n",
              "    }\n",
              "\n",
              "    [theme=dark] .colab-df-convert {\n",
              "      background-color: #3B4455;\n",
              "      fill: #D2E3FC;\n",
              "    }\n",
              "\n",
              "    [theme=dark] .colab-df-convert:hover {\n",
              "      background-color: #434B5C;\n",
              "      box-shadow: 0px 1px 3px 1px rgba(0, 0, 0, 0.15);\n",
              "      filter: drop-shadow(0px 1px 2px rgba(0, 0, 0, 0.3));\n",
              "      fill: #FFFFFF;\n",
              "    }\n",
              "  </style>\n",
              "\n",
              "      <script>\n",
              "        const buttonEl =\n",
              "          document.querySelector('#df-aba2a89b-8400-432c-9610-72e5658d3d7b button.colab-df-convert');\n",
              "        buttonEl.style.display =\n",
              "          google.colab.kernel.accessAllowed ? 'block' : 'none';\n",
              "\n",
              "        async function convertToInteractive(key) {\n",
              "          const element = document.querySelector('#df-aba2a89b-8400-432c-9610-72e5658d3d7b');\n",
              "          const dataTable =\n",
              "            await google.colab.kernel.invokeFunction('convertToInteractive',\n",
              "                                                     [key], {});\n",
              "          if (!dataTable) return;\n",
              "\n",
              "          const docLinkHtml = 'Like what you see? Visit the ' +\n",
              "            '<a target=\"_blank\" href=https://colab.research.google.com/notebooks/data_table.ipynb>data table notebook</a>'\n",
              "            + ' to learn more about interactive tables.';\n",
              "          element.innerHTML = '';\n",
              "          dataTable['output_type'] = 'display_data';\n",
              "          await google.colab.output.renderOutput(dataTable, element);\n",
              "          const docLink = document.createElement('div');\n",
              "          docLink.innerHTML = docLinkHtml;\n",
              "          element.appendChild(docLink);\n",
              "        }\n",
              "      </script>\n",
              "    </div>\n",
              "  </div>\n",
              "  "
            ]
          },
          "metadata": {},
          "execution_count": 65
        }
      ]
    },
    {
      "cell_type": "markdown",
      "source": [
        "### 230대 성별"
      ],
      "metadata": {
        "id": "F9YuqGlKNBVk"
      }
    },
    {
      "cell_type": "code",
      "source": [
        "sex_counts = df4_23['성별'].value_counts()\n",
        "sex_counts"
      ],
      "metadata": {
        "colab": {
          "base_uri": "https://localhost:8080/"
        },
        "outputId": "f55c5788-f783-4550-8d78-ab696ce752db",
        "id": "-9V0ZdUaNBVk"
      },
      "execution_count": null,
      "outputs": [
        {
          "output_type": "execute_result",
          "data": {
            "text/plain": [
              "F    23059\n",
              "M     2941\n",
              "Name: 성별, dtype: int64"
            ]
          },
          "metadata": {},
          "execution_count": 66
        }
      ]
    },
    {
      "cell_type": "code",
      "source": [
        "round(sex_counts.loc['F'] / sex_counts.sum() * 100 , 1),\\\n",
        "round(sex_counts.loc['M'] / sex_counts.sum() * 100 , 1)"
      ],
      "metadata": {
        "colab": {
          "base_uri": "https://localhost:8080/"
        },
        "outputId": "10aa4e5a-d51c-4709-c4b0-c6c94f05366e",
        "id": "9H5-SY0XNBVk"
      },
      "execution_count": null,
      "outputs": [
        {
          "output_type": "execute_result",
          "data": {
            "text/plain": [
              "(88.7, 11.3)"
            ]
          },
          "metadata": {},
          "execution_count": 67
        }
      ]
    },
    {
      "cell_type": "markdown",
      "source": [
        "### 230대 직업"
      ],
      "metadata": {
        "id": "TE1nbLizNBVk"
      }
    },
    {
      "cell_type": "code",
      "source": [
        "df4_23['직업'].notnull().sum(), df4_23['소득'].notnull().sum()"
      ],
      "metadata": {
        "colab": {
          "base_uri": "https://localhost:8080/"
        },
        "outputId": "537659fe-7000-437f-fa49-92967fb2a769",
        "id": "BevhHyHyNBVk"
      },
      "execution_count": null,
      "outputs": [
        {
          "output_type": "execute_result",
          "data": {
            "text/plain": [
              "(18712, 18701)"
            ]
          },
          "metadata": {},
          "execution_count": 68
        }
      ]
    },
    {
      "cell_type": "code",
      "source": [
        "job_counts = df4_23['직업'].value_counts()\n",
        "job_counts"
      ],
      "metadata": {
        "colab": {
          "base_uri": "https://localhost:8080/"
        },
        "outputId": "05218134-2eb2-4f3f-e3ba-0ee1d4b3e623",
        "id": "or8g2zbENBVk"
      },
      "execution_count": null,
      "outputs": [
        {
          "output_type": "execute_result",
          "data": {
            "text/plain": [
              "사무직 (일반사무직, 공무원, 직업군인)             6332\n",
              "주부 (전업주부, 파트타임 근무 주부)              5613\n",
              "전문직 (의사, 판검사, 예술가, 종교인)            1313\n",
              "교직 (교사, 유치원교사, 학원강사)               1077\n",
              "무직                                 1029\n",
              "학생 (초중고학생, 대학생, 대학원생)              1011\n",
              "서비스직 (요식업, 숙박업, 미용실종업원)             534\n",
              "판매직 (상점점원, 보험설계사, 노점상)              532\n",
              "기타                                  462\n",
              "자영업 (도소매업, 숙박업, 미용업)                292\n",
              "생산/노무직 (생산감독, 경비원, 공장근로자)           194\n",
              "기능직 (자동차정비, 운전기사, 안경사, 택시기사)        182\n",
              "관리직 (사장, 간부, 고위공무원)                  85\n",
              "퇴직/연금생활자                             41\n",
              "농/축/광/수산업 (축산, 낙농업, 수산, 임업, 광업)      15\n",
              "Name: 직업, dtype: int64"
            ]
          },
          "metadata": {},
          "execution_count": 69
        }
      ]
    },
    {
      "cell_type": "code",
      "source": [
        "drop_jobs = job_counts[job_counts.index.str.contains('학생|퇴직|주부')]\n",
        "drop_jobs"
      ],
      "metadata": {
        "colab": {
          "base_uri": "https://localhost:8080/"
        },
        "outputId": "e68196e3-7586-4e5b-ac74-965c763b3c60",
        "id": "_lxVdK7tNBVk"
      },
      "execution_count": null,
      "outputs": [
        {
          "output_type": "execute_result",
          "data": {
            "text/plain": [
              "주부 (전업주부, 파트타임 근무 주부)    5613\n",
              "학생 (초중고학생, 대학생, 대학원생)    1011\n",
              "퇴직/연금생활자                   41\n",
              "Name: 직업, dtype: int64"
            ]
          },
          "metadata": {},
          "execution_count": 70
        }
      ]
    },
    {
      "cell_type": "code",
      "source": [
        "round((job_counts.sum() - drop_jobs.sum() - job_counts['무직']) / len(df4_23) * 100, 1),\\\n",
        "job_counts.sum() - drop_jobs.sum() - job_counts['무직']"
      ],
      "metadata": {
        "colab": {
          "base_uri": "https://localhost:8080/"
        },
        "outputId": "c3505462-ed1d-482a-b0ed-9b561234abce",
        "id": "ZQ6QyBkENBVk"
      },
      "execution_count": null,
      "outputs": [
        {
          "output_type": "execute_result",
          "data": {
            "text/plain": [
              "(42.4, 11018)"
            ]
          },
          "metadata": {},
          "execution_count": 71
        }
      ]
    },
    {
      "cell_type": "code",
      "source": [
        "job2_counts = df4_2['직업'].value_counts()\n",
        "job3_counts = df4_3['직업'].value_counts()"
      ],
      "metadata": {
        "id": "XGk6lq8qNBVk"
      },
      "execution_count": null,
      "outputs": []
    },
    {
      "cell_type": "code",
      "source": [
        "drop2_jobs = job2_counts[job2_counts.index.str.contains('학생|퇴직|주부')]\n",
        "drop3_jobs = job3_counts[job3_counts.index.str.contains('학생|퇴직|주부')]\n",
        "drop3_jobs"
      ],
      "metadata": {
        "colab": {
          "base_uri": "https://localhost:8080/"
        },
        "outputId": "6a9e6075-5366-4ed6-f3fc-a22a792b8c10",
        "id": "mvEJv1BjNBVk"
      },
      "execution_count": null,
      "outputs": [
        {
          "output_type": "execute_result",
          "data": {
            "text/plain": [
              "주부 (전업주부, 파트타임 근무 주부)    5517\n",
              "학생 (초중고학생, 대학생, 대학원생)     117\n",
              "퇴직/연금생활자                   24\n",
              "Name: 직업, dtype: int64"
            ]
          },
          "metadata": {},
          "execution_count": 73
        }
      ]
    },
    {
      "cell_type": "code",
      "source": [
        "round((job2_counts.sum() - drop2_jobs.sum() - job2_counts['무직']) / len(df4_23) * 100, 1),\\\n",
        "job2_counts.sum() - drop2_jobs.sum() - job2_counts['무직'],\\\n",
        "round((job3_counts.sum() - drop3_jobs.sum() - job3_counts['무직']) / len(df4_23) * 100, 1),\\\n",
        "job3_counts.sum() - drop3_jobs.sum() - job3_counts['무직']"
      ],
      "metadata": {
        "colab": {
          "base_uri": "https://localhost:8080/"
        },
        "outputId": "3eae2087-44ae-4209-90a4-4cdd78740578",
        "id": "fIxNygjiNBVk"
      },
      "execution_count": null,
      "outputs": [
        {
          "output_type": "execute_result",
          "data": {
            "text/plain": [
              "(7.5, 1952, 34.9, 9066)"
            ]
          },
          "metadata": {},
          "execution_count": 74
        }
      ]
    },
    {
      "cell_type": "markdown",
      "source": [
        "### 230대 자동차"
      ],
      "metadata": {
        "id": "Et02x0p5NBVk"
      }
    },
    {
      "cell_type": "code",
      "source": [
        "car_counts = df4_23['자동차'].value_counts()\n",
        "car_counts"
      ],
      "metadata": {
        "colab": {
          "base_uri": "https://localhost:8080/"
        },
        "outputId": "69b05927-0c22-4bc9-a3ca-2d7eae9815c0",
        "id": "0SxBKGccNBVk"
      },
      "execution_count": null,
      "outputs": [
        {
          "output_type": "execute_result",
          "data": {
            "text/plain": [
              "준중형차 (아반떼, K3, 크루즈, 제타급 등)          1840\n",
              "경차 (모닝, 스파크 등)                      1483\n",
              "소형SUV/CUV (티볼리, QM3 등)              1363\n",
              "중형차 (쏘나타, K5, 말리부, 골프급 등)           1084\n",
              "준대형차 (그랜저, K7, 알페온, 캠리급, 파사트급 등)     686\n",
              "중형SUV (싼타페, 쏘렌토, 캡티바, BMW X3급 등)     550\n",
              "MPV (카니발, 올란도, 피카소급, 오딧세이 등)         533\n",
              "준중형SUV (투싼, 스포티지, QM5, 티구안급 등)       521\n",
              "소형차 (액센트, 프라이드, 아베오, 피아트급 등)         311\n",
              "대형차 (제너시스, BMW5급 등)                  145\n",
              "대형SUV (베라크루즈, 모하비, 투아렉급 등)            76\n",
              "준중형파생 (벨로스터, I30 등)                   29\n",
              "기타 (승합차/트럭/화물차/기타 차량 등)               23\n",
              "스포츠 (제네시스 쿠페, BMW M, 벤츠 AMG 등)        22\n",
              "프리미엄 (에쿠스, BMW7급 등)                   14\n",
              "Name: 자동차, dtype: int64"
            ]
          },
          "metadata": {},
          "execution_count": 75
        }
      ]
    },
    {
      "cell_type": "code",
      "source": [
        "round(car_counts.sum() / len(df4_23) * 100, 1),\\\n",
        "car_counts.sum()"
      ],
      "metadata": {
        "colab": {
          "base_uri": "https://localhost:8080/"
        },
        "outputId": "db84829a-1d51-4540-c525-5c9fe2dee3aa",
        "id": "HVuq6Ar9NBVk"
      },
      "execution_count": null,
      "outputs": [
        {
          "output_type": "execute_result",
          "data": {
            "text/plain": [
              "(33.4, 8680)"
            ]
          },
          "metadata": {},
          "execution_count": 76
        }
      ]
    },
    {
      "cell_type": "code",
      "source": [
        "car2_counts = df4_2['자동차'].value_counts()\n",
        "car3_counts = df4_3['자동차'].value_counts()\n",
        "\n",
        "round(car2_counts.sum() / len(df4_23) * 100, 1),\\\n",
        "car2_counts.sum(),\\\n",
        "round(car3_counts.sum() / len(df4_23) * 100, 1),\\\n",
        "car3_counts.sum()"
      ],
      "metadata": {
        "colab": {
          "base_uri": "https://localhost:8080/"
        },
        "outputId": "08bdd95b-4921-4024-8cc9-e697234a9caa",
        "id": "LgXu8FPKNBVk"
      },
      "execution_count": null,
      "outputs": [
        {
          "output_type": "execute_result",
          "data": {
            "text/plain": [
              "(1.7, 438, 31.7, 8242)"
            ]
          },
          "metadata": {},
          "execution_count": 77
        }
      ]
    },
    {
      "cell_type": "code",
      "source": [],
      "metadata": {
        "id": "RG7dxLEzNBVk"
      },
      "execution_count": null,
      "outputs": []
    },
    {
      "cell_type": "code",
      "source": [
        "df4_23['시도'].value_counts()[:5],\\\n",
        "df4_2['시도'].value_counts()[:5],\\\n",
        "df4_3['시도'].value_counts()[:5]"
      ],
      "metadata": {
        "colab": {
          "base_uri": "https://localhost:8080/"
        },
        "outputId": "6b5170e0-fb89-487e-d68a-f7d8bdaa7062",
        "id": "pceYijuZNBVk"
      },
      "execution_count": null,
      "outputs": [
        {
          "output_type": "execute_result",
          "data": {
            "text/plain": [
              "(서울    8704\n",
              " 경기    6091\n",
              " 부산    2720\n",
              " 인천    1546\n",
              " 대구    1426\n",
              " Name: 시도, dtype: int64,\n",
              " 서울    1399\n",
              " 부산    1192\n",
              " 경기    1144\n",
              " 인천     253\n",
              " 경남     225\n",
              " Name: 시도, dtype: int64,\n",
              " 서울    7305\n",
              " 경기    4947\n",
              " 부산    1528\n",
              " 인천    1293\n",
              " 대구    1205\n",
              " Name: 시도, dtype: int64)"
            ]
          },
          "metadata": {},
          "execution_count": 78
        }
      ]
    },
    {
      "cell_type": "code",
      "source": [
        "df4_23[df4_23['시도'] == \"서울\"]['카테고리'].value_counts()[:5],\\\n",
        "df4_2[df4_2['시도'] == \"서울\"]['카테고리'].value_counts()[:5],\\\n",
        "df4_3[df4_3['시도'] == \"서울\"]['카테고리'].value_counts()[:5]"
      ],
      "metadata": {
        "colab": {
          "base_uri": "https://localhost:8080/"
        },
        "outputId": "fae6f54e-4a46-4382-9d8c-f30b6e9b6546",
        "id": "S7xvfqO9NBVl"
      },
      "execution_count": null,
      "outputs": [
        {
          "output_type": "execute_result",
          "data": {
            "text/plain": [
              "(식품/건강     3581\n",
              " 패션의류      1121\n",
              " 생활/주방     1015\n",
              " 뷰티         951\n",
              " 디지털/가전     829\n",
              " Name: 카테고리, dtype: int64,\n",
              " 식품/건강     488\n",
              " 패션의류      239\n",
              " 디지털/가전    187\n",
              " 뷰티        162\n",
              " 생활/주방     159\n",
              " Name: 카테고리, dtype: int64,\n",
              " 식품/건강    3093\n",
              " 패션의류      882\n",
              " 생활/주방     856\n",
              " 뷰티        789\n",
              " 패션잡화      736\n",
              " Name: 카테고리, dtype: int64)"
            ]
          },
          "metadata": {},
          "execution_count": 79
        }
      ]
    },
    {
      "cell_type": "code",
      "source": [
        "df4_45['시도'].value_counts()[:5],\\\n",
        "df4_45[df4_45['시도'] == \"서울\"]['카테고리'].value_counts()[:5]"
      ],
      "metadata": {
        "colab": {
          "base_uri": "https://localhost:8080/"
        },
        "outputId": "2150920b-4cf7-40fd-c572-dcc4415c27ed",
        "id": "O0Z_zyvENBVl"
      },
      "execution_count": null,
      "outputs": [
        {
          "output_type": "execute_result",
          "data": {
            "text/plain": [
              "(서울    5489\n",
              " 경기    5416\n",
              " 인천     967\n",
              " 부산     757\n",
              " 대구     559\n",
              " Name: 시도, dtype: int64,\n",
              " 식품/건강     1961\n",
              " 패션의류      1331\n",
              " 뷰티         667\n",
              " 생활/주방      603\n",
              " 디지털/가전     449\n",
              " Name: 카테고리, dtype: int64)"
            ]
          },
          "metadata": {},
          "execution_count": 80
        }
      ]
    },
    {
      "cell_type": "code",
      "source": [],
      "metadata": {
        "id": "I_tLVwnDNDKq"
      },
      "execution_count": null,
      "outputs": []
    },
    {
      "cell_type": "markdown",
      "source": [
        "# df5 : 귀산촌 관심인구 정보 (Total : 13011)"
      ],
      "metadata": {
        "id": "sawXk2zwNDSM"
      }
    },
    {
      "cell_type": "code",
      "source": [
        "len(df5)"
      ],
      "metadata": {
        "colab": {
          "base_uri": "https://localhost:8080/"
        },
        "id": "pyRvxfnuQIsS",
        "outputId": "de69279a-97a1-4b2e-e8e9-6ff74fcde8e4"
      },
      "execution_count": null,
      "outputs": [
        {
          "output_type": "execute_result",
          "data": {
            "text/plain": [
              "13011"
            ]
          },
          "metadata": {},
          "execution_count": 112
        }
      ]
    },
    {
      "cell_type": "code",
      "source": [
        "df5.head()"
      ],
      "metadata": {
        "colab": {
          "base_uri": "https://localhost:8080/",
          "height": 354
        },
        "outputId": "d34eafad-5f5f-445a-ac5c-61f2c5ea3b04",
        "id": "TICbJRWWNDb-"
      },
      "execution_count": null,
      "outputs": [
        {
          "output_type": "execute_result",
          "data": {
            "text/plain": [
              "   귀산촌                             사이트제목 성별  연령                     직업  \\\n",
              "0  귀산촌   청년 일자리, 귀농귀산촌 마을공동체에서 길을 찾다 토론회  M   5                    NaN   \n",
              "1  귀산촌               버섯 재배기술로 성공적인 귀산촌~~  M   2                    NaN   \n",
              "2  귀산촌      [충북뉴스] 괴산군, 장기체류형 귀산촌 핵심지역육성  F   5                    NaN   \n",
              "3  귀산촌      [충북뉴스] 괴산군, 장기체류형 귀산촌 핵심지역육성  M   5                    NaN   \n",
              "4  귀산촌  귀농ㆍ귀산촌시 중요한 소득작물 선택_지리산의 품격 들꽃다물  F   4  주부 (전업주부, 파트타임 근무 주부)   \n",
              "\n",
              "          소득      결혼          자녀         주거  시도        구    동             자동차  \n",
              "0        NaN                            NaN  경기  안산시 상록구  사1동             NaN  \n",
              "1        NaN                            NaN  충남      논산시   내동             NaN  \n",
              "2        NaN                            NaN  강원      원주시  단계동             NaN  \n",
              "3        NaN                            NaN  서울      강동구   길동             NaN  \n",
              "4  300~399만원   예          자녀 있음   아파트/ 주상복합  전남      나주시  송월동  경차 (모닝, 스파크 등)  "
            ],
            "text/html": [
              "\n",
              "  <div id=\"df-65ca4e99-3af7-4580-8b82-a26212ad11c2\">\n",
              "    <div class=\"colab-df-container\">\n",
              "      <div>\n",
              "<style scoped>\n",
              "    .dataframe tbody tr th:only-of-type {\n",
              "        vertical-align: middle;\n",
              "    }\n",
              "\n",
              "    .dataframe tbody tr th {\n",
              "        vertical-align: top;\n",
              "    }\n",
              "\n",
              "    .dataframe thead th {\n",
              "        text-align: right;\n",
              "    }\n",
              "</style>\n",
              "<table border=\"1\" class=\"dataframe\">\n",
              "  <thead>\n",
              "    <tr style=\"text-align: right;\">\n",
              "      <th></th>\n",
              "      <th>귀산촌</th>\n",
              "      <th>사이트제목</th>\n",
              "      <th>성별</th>\n",
              "      <th>연령</th>\n",
              "      <th>직업</th>\n",
              "      <th>소득</th>\n",
              "      <th>결혼</th>\n",
              "      <th>자녀</th>\n",
              "      <th>주거</th>\n",
              "      <th>시도</th>\n",
              "      <th>구</th>\n",
              "      <th>동</th>\n",
              "      <th>자동차</th>\n",
              "    </tr>\n",
              "  </thead>\n",
              "  <tbody>\n",
              "    <tr>\n",
              "      <th>0</th>\n",
              "      <td>귀산촌</td>\n",
              "      <td>청년 일자리, 귀농귀산촌 마을공동체에서 길을 찾다 토론회</td>\n",
              "      <td>M</td>\n",
              "      <td>5</td>\n",
              "      <td>NaN</td>\n",
              "      <td>NaN</td>\n",
              "      <td></td>\n",
              "      <td></td>\n",
              "      <td>NaN</td>\n",
              "      <td>경기</td>\n",
              "      <td>안산시 상록구</td>\n",
              "      <td>사1동</td>\n",
              "      <td>NaN</td>\n",
              "    </tr>\n",
              "    <tr>\n",
              "      <th>1</th>\n",
              "      <td>귀산촌</td>\n",
              "      <td>버섯 재배기술로 성공적인 귀산촌~~</td>\n",
              "      <td>M</td>\n",
              "      <td>2</td>\n",
              "      <td>NaN</td>\n",
              "      <td>NaN</td>\n",
              "      <td></td>\n",
              "      <td></td>\n",
              "      <td>NaN</td>\n",
              "      <td>충남</td>\n",
              "      <td>논산시</td>\n",
              "      <td>내동</td>\n",
              "      <td>NaN</td>\n",
              "    </tr>\n",
              "    <tr>\n",
              "      <th>2</th>\n",
              "      <td>귀산촌</td>\n",
              "      <td>[충북뉴스] 괴산군, 장기체류형 귀산촌 핵심지역육성</td>\n",
              "      <td>F</td>\n",
              "      <td>5</td>\n",
              "      <td>NaN</td>\n",
              "      <td>NaN</td>\n",
              "      <td></td>\n",
              "      <td></td>\n",
              "      <td>NaN</td>\n",
              "      <td>강원</td>\n",
              "      <td>원주시</td>\n",
              "      <td>단계동</td>\n",
              "      <td>NaN</td>\n",
              "    </tr>\n",
              "    <tr>\n",
              "      <th>3</th>\n",
              "      <td>귀산촌</td>\n",
              "      <td>[충북뉴스] 괴산군, 장기체류형 귀산촌 핵심지역육성</td>\n",
              "      <td>M</td>\n",
              "      <td>5</td>\n",
              "      <td>NaN</td>\n",
              "      <td>NaN</td>\n",
              "      <td></td>\n",
              "      <td></td>\n",
              "      <td>NaN</td>\n",
              "      <td>서울</td>\n",
              "      <td>강동구</td>\n",
              "      <td>길동</td>\n",
              "      <td>NaN</td>\n",
              "    </tr>\n",
              "    <tr>\n",
              "      <th>4</th>\n",
              "      <td>귀산촌</td>\n",
              "      <td>귀농ㆍ귀산촌시 중요한 소득작물 선택_지리산의 품격 들꽃다물</td>\n",
              "      <td>F</td>\n",
              "      <td>4</td>\n",
              "      <td>주부 (전업주부, 파트타임 근무 주부)</td>\n",
              "      <td>300~399만원</td>\n",
              "      <td>예</td>\n",
              "      <td>자녀 있음</td>\n",
              "      <td>아파트/ 주상복합</td>\n",
              "      <td>전남</td>\n",
              "      <td>나주시</td>\n",
              "      <td>송월동</td>\n",
              "      <td>경차 (모닝, 스파크 등)</td>\n",
              "    </tr>\n",
              "  </tbody>\n",
              "</table>\n",
              "</div>\n",
              "      <button class=\"colab-df-convert\" onclick=\"convertToInteractive('df-65ca4e99-3af7-4580-8b82-a26212ad11c2')\"\n",
              "              title=\"Convert this dataframe to an interactive table.\"\n",
              "              style=\"display:none;\">\n",
              "        \n",
              "  <svg xmlns=\"http://www.w3.org/2000/svg\" height=\"24px\"viewBox=\"0 0 24 24\"\n",
              "       width=\"24px\">\n",
              "    <path d=\"M0 0h24v24H0V0z\" fill=\"none\"/>\n",
              "    <path d=\"M18.56 5.44l.94 2.06.94-2.06 2.06-.94-2.06-.94-.94-2.06-.94 2.06-2.06.94zm-11 1L8.5 8.5l.94-2.06 2.06-.94-2.06-.94L8.5 2.5l-.94 2.06-2.06.94zm10 10l.94 2.06.94-2.06 2.06-.94-2.06-.94-.94-2.06-.94 2.06-2.06.94z\"/><path d=\"M17.41 7.96l-1.37-1.37c-.4-.4-.92-.59-1.43-.59-.52 0-1.04.2-1.43.59L10.3 9.45l-7.72 7.72c-.78.78-.78 2.05 0 2.83L4 21.41c.39.39.9.59 1.41.59.51 0 1.02-.2 1.41-.59l7.78-7.78 2.81-2.81c.8-.78.8-2.07 0-2.86zM5.41 20L4 18.59l7.72-7.72 1.47 1.35L5.41 20z\"/>\n",
              "  </svg>\n",
              "      </button>\n",
              "      \n",
              "  <style>\n",
              "    .colab-df-container {\n",
              "      display:flex;\n",
              "      flex-wrap:wrap;\n",
              "      gap: 12px;\n",
              "    }\n",
              "\n",
              "    .colab-df-convert {\n",
              "      background-color: #E8F0FE;\n",
              "      border: none;\n",
              "      border-radius: 50%;\n",
              "      cursor: pointer;\n",
              "      display: none;\n",
              "      fill: #1967D2;\n",
              "      height: 32px;\n",
              "      padding: 0 0 0 0;\n",
              "      width: 32px;\n",
              "    }\n",
              "\n",
              "    .colab-df-convert:hover {\n",
              "      background-color: #E2EBFA;\n",
              "      box-shadow: 0px 1px 2px rgba(60, 64, 67, 0.3), 0px 1px 3px 1px rgba(60, 64, 67, 0.15);\n",
              "      fill: #174EA6;\n",
              "    }\n",
              "\n",
              "    [theme=dark] .colab-df-convert {\n",
              "      background-color: #3B4455;\n",
              "      fill: #D2E3FC;\n",
              "    }\n",
              "\n",
              "    [theme=dark] .colab-df-convert:hover {\n",
              "      background-color: #434B5C;\n",
              "      box-shadow: 0px 1px 3px 1px rgba(0, 0, 0, 0.15);\n",
              "      filter: drop-shadow(0px 1px 2px rgba(0, 0, 0, 0.3));\n",
              "      fill: #FFFFFF;\n",
              "    }\n",
              "  </style>\n",
              "\n",
              "      <script>\n",
              "        const buttonEl =\n",
              "          document.querySelector('#df-65ca4e99-3af7-4580-8b82-a26212ad11c2 button.colab-df-convert');\n",
              "        buttonEl.style.display =\n",
              "          google.colab.kernel.accessAllowed ? 'block' : 'none';\n",
              "\n",
              "        async function convertToInteractive(key) {\n",
              "          const element = document.querySelector('#df-65ca4e99-3af7-4580-8b82-a26212ad11c2');\n",
              "          const dataTable =\n",
              "            await google.colab.kernel.invokeFunction('convertToInteractive',\n",
              "                                                     [key], {});\n",
              "          if (!dataTable) return;\n",
              "\n",
              "          const docLinkHtml = 'Like what you see? Visit the ' +\n",
              "            '<a target=\"_blank\" href=https://colab.research.google.com/notebooks/data_table.ipynb>data table notebook</a>'\n",
              "            + ' to learn more about interactive tables.';\n",
              "          element.innerHTML = '';\n",
              "          dataTable['output_type'] = 'display_data';\n",
              "          await google.colab.output.renderOutput(dataTable, element);\n",
              "          const docLink = document.createElement('div');\n",
              "          docLink.innerHTML = docLinkHtml;\n",
              "          element.appendChild(docLink);\n",
              "        }\n",
              "      </script>\n",
              "    </div>\n",
              "  </div>\n",
              "  "
            ]
          },
          "metadata": {},
          "execution_count": 82
        }
      ]
    },
    {
      "cell_type": "code",
      "source": [
        "age_counts = df5['연령'].value_counts()\n",
        "age_counts"
      ],
      "metadata": {
        "colab": {
          "base_uri": "https://localhost:8080/"
        },
        "outputId": "f0654401-b0fb-41b8-cd4e-a43990e05801",
        "id": "tCbhWZn4NDb_"
      },
      "execution_count": null,
      "outputs": [
        {
          "output_type": "execute_result",
          "data": {
            "text/plain": [
              "5    8162\n",
              "4    3173\n",
              "3     935\n",
              "2     741\n",
              "Name: 연령, dtype: int64"
            ]
          },
          "metadata": {},
          "execution_count": 83
        }
      ]
    },
    {
      "cell_type": "code",
      "source": [
        "age_counts.loc[[2,3]].sum(), round(age_counts.loc[[2,3]].sum() / age_counts.sum() * 100, 1),\\\n",
        "round(age_counts.loc[2] / age_counts.sum() * 100, 1),\\\n",
        "round(age_counts.loc[3] / age_counts.sum() * 100, 1),\\\n",
        "round(age_counts.drop([2,3]).sum() / age_counts.sum() * 100, 1)"
      ],
      "metadata": {
        "colab": {
          "base_uri": "https://localhost:8080/"
        },
        "outputId": "65f6733e-422a-4547-c913-3c49e8effbab",
        "id": "Kzq0aw17NDb_"
      },
      "execution_count": null,
      "outputs": [
        {
          "output_type": "execute_result",
          "data": {
            "text/plain": [
              "(1676, 12.9, 5.7, 7.2, 87.1)"
            ]
          },
          "metadata": {},
          "execution_count": 84
        }
      ]
    },
    {
      "cell_type": "code",
      "source": [
        "df5_23 = df5[df5['연령'].isin([2, 3])]\n",
        "df5_2 = df5[(df5['연령'] == 2)]\n",
        "df5_3 = df5[(df5['연령'] == 3)]\n",
        "df5_45 = df5[df5['연령'].isin([4, 5])]"
      ],
      "metadata": {
        "id": "bO_Kl0mhNDb_"
      },
      "execution_count": null,
      "outputs": []
    },
    {
      "cell_type": "code",
      "source": [
        "df5_23.head()"
      ],
      "metadata": {
        "colab": {
          "base_uri": "https://localhost:8080/",
          "height": 206
        },
        "outputId": "b7b699bc-8d30-4e8b-f295-4b965c7f1d11",
        "id": "U8Qfuu1tNDb_"
      },
      "execution_count": null,
      "outputs": [
        {
          "output_type": "execute_result",
          "data": {
            "text/plain": [
              "    귀산촌                                             사이트제목 성별  연령   직업   소득  \\\n",
              "1   귀산촌                               버섯 재배기술로 성공적인 귀산촌~~  M   2  NaN  NaN   \n",
              "12  귀산촌                 밀양 임야 태양광부지or귀산촌 추천2,790평 (평당2만원)  M   2  NaN  NaN   \n",
              "17  귀산촌                   정선임야 귀산촌 산림경영 산림경영관리사 산채재배 농가주택  M   3  NaN  NaN   \n",
              "27  귀산촌  폐업대추농장에서 사과대추나무 반값에 판매해요! 귀농이나 귀산촌 하시는분들께 추천합니다.  M   3  NaN  NaN   \n",
              "35  귀산촌                             임야에 산더덕 재배방법/귀산촌 자연농법  M   3  NaN  NaN   \n",
              "\n",
              "        결혼          자녀   주거  시도    구      동  자동차  \n",
              "1                       NaN  충남  논산시     내동  NaN  \n",
              "12                      NaN  부산   북구    구포동  NaN  \n",
              "17                      NaN  인천   남구   학익1동  NaN  \n",
              "27                      NaN  서울  용산구  청파동3가  NaN  \n",
              "35                      NaN  인천   중구   항동7가  NaN  "
            ],
            "text/html": [
              "\n",
              "  <div id=\"df-55405db9-de7c-491b-b32c-d477d3473fab\">\n",
              "    <div class=\"colab-df-container\">\n",
              "      <div>\n",
              "<style scoped>\n",
              "    .dataframe tbody tr th:only-of-type {\n",
              "        vertical-align: middle;\n",
              "    }\n",
              "\n",
              "    .dataframe tbody tr th {\n",
              "        vertical-align: top;\n",
              "    }\n",
              "\n",
              "    .dataframe thead th {\n",
              "        text-align: right;\n",
              "    }\n",
              "</style>\n",
              "<table border=\"1\" class=\"dataframe\">\n",
              "  <thead>\n",
              "    <tr style=\"text-align: right;\">\n",
              "      <th></th>\n",
              "      <th>귀산촌</th>\n",
              "      <th>사이트제목</th>\n",
              "      <th>성별</th>\n",
              "      <th>연령</th>\n",
              "      <th>직업</th>\n",
              "      <th>소득</th>\n",
              "      <th>결혼</th>\n",
              "      <th>자녀</th>\n",
              "      <th>주거</th>\n",
              "      <th>시도</th>\n",
              "      <th>구</th>\n",
              "      <th>동</th>\n",
              "      <th>자동차</th>\n",
              "    </tr>\n",
              "  </thead>\n",
              "  <tbody>\n",
              "    <tr>\n",
              "      <th>1</th>\n",
              "      <td>귀산촌</td>\n",
              "      <td>버섯 재배기술로 성공적인 귀산촌~~</td>\n",
              "      <td>M</td>\n",
              "      <td>2</td>\n",
              "      <td>NaN</td>\n",
              "      <td>NaN</td>\n",
              "      <td></td>\n",
              "      <td></td>\n",
              "      <td>NaN</td>\n",
              "      <td>충남</td>\n",
              "      <td>논산시</td>\n",
              "      <td>내동</td>\n",
              "      <td>NaN</td>\n",
              "    </tr>\n",
              "    <tr>\n",
              "      <th>12</th>\n",
              "      <td>귀산촌</td>\n",
              "      <td>밀양 임야 태양광부지or귀산촌 추천2,790평 (평당2만원)</td>\n",
              "      <td>M</td>\n",
              "      <td>2</td>\n",
              "      <td>NaN</td>\n",
              "      <td>NaN</td>\n",
              "      <td></td>\n",
              "      <td></td>\n",
              "      <td>NaN</td>\n",
              "      <td>부산</td>\n",
              "      <td>북구</td>\n",
              "      <td>구포동</td>\n",
              "      <td>NaN</td>\n",
              "    </tr>\n",
              "    <tr>\n",
              "      <th>17</th>\n",
              "      <td>귀산촌</td>\n",
              "      <td>정선임야 귀산촌 산림경영 산림경영관리사 산채재배 농가주택</td>\n",
              "      <td>M</td>\n",
              "      <td>3</td>\n",
              "      <td>NaN</td>\n",
              "      <td>NaN</td>\n",
              "      <td></td>\n",
              "      <td></td>\n",
              "      <td>NaN</td>\n",
              "      <td>인천</td>\n",
              "      <td>남구</td>\n",
              "      <td>학익1동</td>\n",
              "      <td>NaN</td>\n",
              "    </tr>\n",
              "    <tr>\n",
              "      <th>27</th>\n",
              "      <td>귀산촌</td>\n",
              "      <td>폐업대추농장에서 사과대추나무 반값에 판매해요! 귀농이나 귀산촌 하시는분들께 추천합니다.</td>\n",
              "      <td>M</td>\n",
              "      <td>3</td>\n",
              "      <td>NaN</td>\n",
              "      <td>NaN</td>\n",
              "      <td></td>\n",
              "      <td></td>\n",
              "      <td>NaN</td>\n",
              "      <td>서울</td>\n",
              "      <td>용산구</td>\n",
              "      <td>청파동3가</td>\n",
              "      <td>NaN</td>\n",
              "    </tr>\n",
              "    <tr>\n",
              "      <th>35</th>\n",
              "      <td>귀산촌</td>\n",
              "      <td>임야에 산더덕 재배방법/귀산촌 자연농법</td>\n",
              "      <td>M</td>\n",
              "      <td>3</td>\n",
              "      <td>NaN</td>\n",
              "      <td>NaN</td>\n",
              "      <td></td>\n",
              "      <td></td>\n",
              "      <td>NaN</td>\n",
              "      <td>인천</td>\n",
              "      <td>중구</td>\n",
              "      <td>항동7가</td>\n",
              "      <td>NaN</td>\n",
              "    </tr>\n",
              "  </tbody>\n",
              "</table>\n",
              "</div>\n",
              "      <button class=\"colab-df-convert\" onclick=\"convertToInteractive('df-55405db9-de7c-491b-b32c-d477d3473fab')\"\n",
              "              title=\"Convert this dataframe to an interactive table.\"\n",
              "              style=\"display:none;\">\n",
              "        \n",
              "  <svg xmlns=\"http://www.w3.org/2000/svg\" height=\"24px\"viewBox=\"0 0 24 24\"\n",
              "       width=\"24px\">\n",
              "    <path d=\"M0 0h24v24H0V0z\" fill=\"none\"/>\n",
              "    <path d=\"M18.56 5.44l.94 2.06.94-2.06 2.06-.94-2.06-.94-.94-2.06-.94 2.06-2.06.94zm-11 1L8.5 8.5l.94-2.06 2.06-.94-2.06-.94L8.5 2.5l-.94 2.06-2.06.94zm10 10l.94 2.06.94-2.06 2.06-.94-2.06-.94-.94-2.06-.94 2.06-2.06.94z\"/><path d=\"M17.41 7.96l-1.37-1.37c-.4-.4-.92-.59-1.43-.59-.52 0-1.04.2-1.43.59L10.3 9.45l-7.72 7.72c-.78.78-.78 2.05 0 2.83L4 21.41c.39.39.9.59 1.41.59.51 0 1.02-.2 1.41-.59l7.78-7.78 2.81-2.81c.8-.78.8-2.07 0-2.86zM5.41 20L4 18.59l7.72-7.72 1.47 1.35L5.41 20z\"/>\n",
              "  </svg>\n",
              "      </button>\n",
              "      \n",
              "  <style>\n",
              "    .colab-df-container {\n",
              "      display:flex;\n",
              "      flex-wrap:wrap;\n",
              "      gap: 12px;\n",
              "    }\n",
              "\n",
              "    .colab-df-convert {\n",
              "      background-color: #E8F0FE;\n",
              "      border: none;\n",
              "      border-radius: 50%;\n",
              "      cursor: pointer;\n",
              "      display: none;\n",
              "      fill: #1967D2;\n",
              "      height: 32px;\n",
              "      padding: 0 0 0 0;\n",
              "      width: 32px;\n",
              "    }\n",
              "\n",
              "    .colab-df-convert:hover {\n",
              "      background-color: #E2EBFA;\n",
              "      box-shadow: 0px 1px 2px rgba(60, 64, 67, 0.3), 0px 1px 3px 1px rgba(60, 64, 67, 0.15);\n",
              "      fill: #174EA6;\n",
              "    }\n",
              "\n",
              "    [theme=dark] .colab-df-convert {\n",
              "      background-color: #3B4455;\n",
              "      fill: #D2E3FC;\n",
              "    }\n",
              "\n",
              "    [theme=dark] .colab-df-convert:hover {\n",
              "      background-color: #434B5C;\n",
              "      box-shadow: 0px 1px 3px 1px rgba(0, 0, 0, 0.15);\n",
              "      filter: drop-shadow(0px 1px 2px rgba(0, 0, 0, 0.3));\n",
              "      fill: #FFFFFF;\n",
              "    }\n",
              "  </style>\n",
              "\n",
              "      <script>\n",
              "        const buttonEl =\n",
              "          document.querySelector('#df-55405db9-de7c-491b-b32c-d477d3473fab button.colab-df-convert');\n",
              "        buttonEl.style.display =\n",
              "          google.colab.kernel.accessAllowed ? 'block' : 'none';\n",
              "\n",
              "        async function convertToInteractive(key) {\n",
              "          const element = document.querySelector('#df-55405db9-de7c-491b-b32c-d477d3473fab');\n",
              "          const dataTable =\n",
              "            await google.colab.kernel.invokeFunction('convertToInteractive',\n",
              "                                                     [key], {});\n",
              "          if (!dataTable) return;\n",
              "\n",
              "          const docLinkHtml = 'Like what you see? Visit the ' +\n",
              "            '<a target=\"_blank\" href=https://colab.research.google.com/notebooks/data_table.ipynb>data table notebook</a>'\n",
              "            + ' to learn more about interactive tables.';\n",
              "          element.innerHTML = '';\n",
              "          dataTable['output_type'] = 'display_data';\n",
              "          await google.colab.output.renderOutput(dataTable, element);\n",
              "          const docLink = document.createElement('div');\n",
              "          docLink.innerHTML = docLinkHtml;\n",
              "          element.appendChild(docLink);\n",
              "        }\n",
              "      </script>\n",
              "    </div>\n",
              "  </div>\n",
              "  "
            ]
          },
          "metadata": {},
          "execution_count": 86
        }
      ]
    },
    {
      "cell_type": "markdown",
      "source": [
        "### 230대 성별"
      ],
      "metadata": {
        "id": "BhceFGRXNDb_"
      }
    },
    {
      "cell_type": "code",
      "source": [
        "sex_counts = df5_23['성별'].value_counts()\n",
        "sex_counts"
      ],
      "metadata": {
        "colab": {
          "base_uri": "https://localhost:8080/"
        },
        "outputId": "0f8e6910-1fa2-4ecf-8dea-1ef7c5637cde",
        "id": "YVcPzJeeNDb_"
      },
      "execution_count": null,
      "outputs": [
        {
          "output_type": "execute_result",
          "data": {
            "text/plain": [
              "M    1247\n",
              "F     429\n",
              "Name: 성별, dtype: int64"
            ]
          },
          "metadata": {},
          "execution_count": 87
        }
      ]
    },
    {
      "cell_type": "code",
      "source": [
        "round(sex_counts.loc['F'] / sex_counts.sum() * 100 , 1),\\\n",
        "round(sex_counts.loc['M'] / sex_counts.sum() * 100 , 1)"
      ],
      "metadata": {
        "colab": {
          "base_uri": "https://localhost:8080/"
        },
        "outputId": "c6066002-d538-4208-88e5-d91582017f13",
        "id": "BbywphGLNDb_"
      },
      "execution_count": null,
      "outputs": [
        {
          "output_type": "execute_result",
          "data": {
            "text/plain": [
              "(25.6, 74.4)"
            ]
          },
          "metadata": {},
          "execution_count": 88
        }
      ]
    },
    {
      "cell_type": "markdown",
      "source": [
        "### 230대 직업"
      ],
      "metadata": {
        "id": "d2Nz9q0QNDb_"
      }
    },
    {
      "cell_type": "code",
      "source": [
        "df5_23['직업'].notnull().sum(), df5_23['소득'].notnull().sum()"
      ],
      "metadata": {
        "colab": {
          "base_uri": "https://localhost:8080/"
        },
        "outputId": "16cb3225-a24f-4d74-dedf-c776ab3f74f7",
        "id": "naNQV5TUNDb_"
      },
      "execution_count": null,
      "outputs": [
        {
          "output_type": "execute_result",
          "data": {
            "text/plain": [
              "(876, 875)"
            ]
          },
          "metadata": {},
          "execution_count": 89
        }
      ]
    },
    {
      "cell_type": "code",
      "source": [
        "job_counts = df5_23['직업'].value_counts()\n",
        "job_counts"
      ],
      "metadata": {
        "colab": {
          "base_uri": "https://localhost:8080/"
        },
        "outputId": "0a0e33e4-b893-47c7-8878-1f2ed4fbe47f",
        "id": "NfKlZUBpNDb_"
      },
      "execution_count": null,
      "outputs": [
        {
          "output_type": "execute_result",
          "data": {
            "text/plain": [
              "사무직 (일반사무직, 공무원, 직업군인)             279\n",
              "학생 (초중고학생, 대학생, 대학원생)              164\n",
              "전문직 (의사, 판검사, 예술가, 종교인)             83\n",
              "무직                                  76\n",
              "주부 (전업주부, 파트타임 근무 주부)               45\n",
              "생산/노무직 (생산감독, 경비원, 공장근로자)           43\n",
              "기타                                  41\n",
              "서비스직 (요식업, 숙박업, 미용실종업원)             39\n",
              "교직 (교사, 유치원교사, 학원강사)                29\n",
              "자영업 (도소매업, 숙박업, 미용업)                25\n",
              "기능직 (자동차정비, 운전기사, 안경사, 택시기사)        19\n",
              "판매직 (상점점원, 보험설계사, 노점상)              16\n",
              "관리직 (사장, 간부, 고위공무원)                  9\n",
              "농/축/광/수산업 (축산, 낙농업, 수산, 임업, 광업)      7\n",
              "퇴직/연금생활자                             1\n",
              "Name: 직업, dtype: int64"
            ]
          },
          "metadata": {},
          "execution_count": 90
        }
      ]
    },
    {
      "cell_type": "code",
      "source": [
        "drop_jobs = job_counts[job_counts.index.str.contains('학생|퇴직|주부')]\n",
        "drop_jobs"
      ],
      "metadata": {
        "colab": {
          "base_uri": "https://localhost:8080/"
        },
        "outputId": "955aaac5-2681-4b62-9a10-17a76c49efa9",
        "id": "AdeGr-RGNDb_"
      },
      "execution_count": null,
      "outputs": [
        {
          "output_type": "execute_result",
          "data": {
            "text/plain": [
              "학생 (초중고학생, 대학생, 대학원생)    164\n",
              "주부 (전업주부, 파트타임 근무 주부)     45\n",
              "퇴직/연금생활자                   1\n",
              "Name: 직업, dtype: int64"
            ]
          },
          "metadata": {},
          "execution_count": 91
        }
      ]
    },
    {
      "cell_type": "code",
      "source": [
        "round((job_counts.sum() - drop_jobs.sum() - job_counts['무직']) / len(df5_23) * 100, 1),\\\n",
        "job_counts.sum() - drop_jobs.sum() - job_counts['무직']"
      ],
      "metadata": {
        "colab": {
          "base_uri": "https://localhost:8080/"
        },
        "outputId": "eabb92ff-8ecd-4f9c-b90e-ea85ccf6f50e",
        "id": "wrxI7bjhNDb_"
      },
      "execution_count": null,
      "outputs": [
        {
          "output_type": "execute_result",
          "data": {
            "text/plain": [
              "(35.2, 590)"
            ]
          },
          "metadata": {},
          "execution_count": 92
        }
      ]
    },
    {
      "cell_type": "code",
      "source": [
        "job2_counts = df5_2['직업'].value_counts()\n",
        "job3_counts = df5_3['직업'].value_counts()"
      ],
      "metadata": {
        "id": "3mKx_tSfNDb_"
      },
      "execution_count": null,
      "outputs": []
    },
    {
      "cell_type": "code",
      "source": [
        "drop2_jobs = job2_counts[job2_counts.index.str.contains('학생|퇴직|주부')]\n",
        "drop3_jobs = job3_counts[job3_counts.index.str.contains('학생|퇴직|주부')]\n",
        "drop3_jobs"
      ],
      "metadata": {
        "colab": {
          "base_uri": "https://localhost:8080/"
        },
        "outputId": "8a8f61a7-3c92-48f9-a9b5-6f6a98ba5d35",
        "id": "19LPQJb9NDb_"
      },
      "execution_count": null,
      "outputs": [
        {
          "output_type": "execute_result",
          "data": {
            "text/plain": [
              "주부 (전업주부, 파트타임 근무 주부)    43\n",
              "학생 (초중고학생, 대학생, 대학원생)    14\n",
              "Name: 직업, dtype: int64"
            ]
          },
          "metadata": {},
          "execution_count": 94
        }
      ]
    },
    {
      "cell_type": "code",
      "source": [
        "round((job2_counts.sum() - drop2_jobs.sum() - job2_counts['무직']) / len(df5_23) * 100, 1),\\\n",
        "job2_counts.sum() - drop2_jobs.sum() - job2_counts['무직'],\\\n",
        "round((job3_counts.sum() - drop3_jobs.sum() - job3_counts['무직']) / len(df5_23) * 100, 1),\\\n",
        "job3_counts.sum() - drop3_jobs.sum() - job3_counts['무직']"
      ],
      "metadata": {
        "colab": {
          "base_uri": "https://localhost:8080/"
        },
        "outputId": "d75f1eb2-4ed8-4c6f-a904-9fbc57bb6c33",
        "id": "lFV1fG1xNDb_"
      },
      "execution_count": null,
      "outputs": [
        {
          "output_type": "execute_result",
          "data": {
            "text/plain": [
              "(7.2, 121, 28.0, 469)"
            ]
          },
          "metadata": {},
          "execution_count": 95
        }
      ]
    },
    {
      "cell_type": "markdown",
      "source": [
        "### 230대 자동차"
      ],
      "metadata": {
        "id": "dSgDmOTUNDcA"
      }
    },
    {
      "cell_type": "code",
      "source": [
        "car_counts = df5_23['자동차'].value_counts()\n",
        "car_counts"
      ],
      "metadata": {
        "colab": {
          "base_uri": "https://localhost:8080/"
        },
        "outputId": "2347cb11-e722-4932-9e7d-ad937f8cb3ce",
        "id": "RhttArrpNDcA"
      },
      "execution_count": null,
      "outputs": [
        {
          "output_type": "execute_result",
          "data": {
            "text/plain": [
              "준중형차 (아반떼, K3, 크루즈, 제타급 등)          119\n",
              "중형차 (쏘나타, K5, 말리부, 골프급 등)            77\n",
              "준중형SUV (투싼, 스포티지, QM5, 티구안급 등)       42\n",
              "경차 (모닝, 스파크 등)                       38\n",
              "소형차 (액센트, 프라이드, 아베오, 피아트급 등)         31\n",
              "준대형차 (그랜저, K7, 알페온, 캠리급, 파사트급 등)     27\n",
              "중형SUV (싼타페, 쏘렌토, 캡티바, BMW X3급 등)     22\n",
              "소형SUV/CUV (티볼리, QM3 등)               10\n",
              "대형차 (제너시스, BMW5급 등)                   9\n",
              "기타 (승합차/트럭/화물차/기타 차량 등)               6\n",
              "MPV (카니발, 올란도, 피카소급, 오딧세이 등)          5\n",
              "대형SUV (베라크루즈, 모하비, 투아렉급 등)            3\n",
              "준중형파생 (벨로스터, I30 등)                   3\n",
              "프리미엄 (에쿠스, BMW7급 등)                   1\n",
              "Name: 자동차, dtype: int64"
            ]
          },
          "metadata": {},
          "execution_count": 96
        }
      ]
    },
    {
      "cell_type": "code",
      "source": [
        "round(car_counts.sum() / len(df5_23) * 100, 1),\\\n",
        "car_counts.sum()"
      ],
      "metadata": {
        "colab": {
          "base_uri": "https://localhost:8080/"
        },
        "outputId": "dfcfc9dd-f978-4011-ca1c-efed6fd8d83e",
        "id": "FHlmBm5pNDcA"
      },
      "execution_count": null,
      "outputs": [
        {
          "output_type": "execute_result",
          "data": {
            "text/plain": [
              "(23.4, 393)"
            ]
          },
          "metadata": {},
          "execution_count": 97
        }
      ]
    },
    {
      "cell_type": "code",
      "source": [
        "car2_counts = df5_2['자동차'].value_counts()\n",
        "car3_counts = df5_3['자동차'].value_counts()\n",
        "\n",
        "round(car2_counts.sum() / len(df5_23) * 100, 1),\\\n",
        "car2_counts.sum(),\\\n",
        "round(car3_counts.sum() / len(df5_23) * 100, 1),\\\n",
        "car3_counts.sum()"
      ],
      "metadata": {
        "colab": {
          "base_uri": "https://localhost:8080/"
        },
        "outputId": "ea52e295-4078-40ed-f068-eb99a8e51e2b",
        "id": "JMCdT_R0NDcA"
      },
      "execution_count": null,
      "outputs": [
        {
          "output_type": "execute_result",
          "data": {
            "text/plain": [
              "(3.4, 57, 20.0, 336)"
            ]
          },
          "metadata": {},
          "execution_count": 98
        }
      ]
    },
    {
      "cell_type": "code",
      "source": [],
      "metadata": {
        "id": "A-PWfRyhNDcA"
      },
      "execution_count": null,
      "outputs": []
    },
    {
      "cell_type": "code",
      "source": [
        "df5_23['시도'].value_counts()[:5],\\\n",
        "df5_2['시도'].value_counts()[:5],\\\n",
        "df5_3['시도'].value_counts()[:5]"
      ],
      "metadata": {
        "colab": {
          "base_uri": "https://localhost:8080/"
        },
        "outputId": "ff25b5a6-ddef-4265-bf3f-57d2749789eb",
        "id": "mtgdCCAINDcA"
      },
      "execution_count": null,
      "outputs": [
        {
          "output_type": "execute_result",
          "data": {
            "text/plain": [
              "(서울    561\n",
              " 경기    419\n",
              " 인천    106\n",
              " 부산     87\n",
              " 대구     73\n",
              " Name: 시도, dtype: int64,\n",
              " 서울    238\n",
              " 경기    176\n",
              " 인천     50\n",
              " 부산     41\n",
              " 경남     29\n",
              " Name: 시도, dtype: int64,\n",
              " 서울    323\n",
              " 경기    243\n",
              " 인천     56\n",
              " 부산     46\n",
              " 대구     45\n",
              " Name: 시도, dtype: int64)"
            ]
          },
          "metadata": {},
          "execution_count": 99
        }
      ]
    },
    {
      "cell_type": "code",
      "source": [
        "df5_23[df5_23['시도'] == \"서울\"]['귀산촌'].value_counts()[:5],\\\n",
        "df5_2[df5_2['시도'] == \"경기\"]['귀산촌'].value_counts()[:5],\\\n",
        "df5_3[df5_3['시도'] == \"서울\"]['귀산촌'].value_counts()[:5]"
      ],
      "metadata": {
        "colab": {
          "base_uri": "https://localhost:8080/"
        },
        "outputId": "9000b811-0d94-4755-ca00-bfd1d40826bb",
        "id": "SBu3byoyNDcA"
      },
      "execution_count": null,
      "outputs": [
        {
          "output_type": "execute_result",
          "data": {
            "text/plain": [
              "(귀산촌    561\n",
              " Name: 귀산촌, dtype: int64,\n",
              " 귀산촌    176\n",
              " Name: 귀산촌, dtype: int64,\n",
              " 귀산촌    323\n",
              " Name: 귀산촌, dtype: int64)"
            ]
          },
          "metadata": {},
          "execution_count": 108
        }
      ]
    },
    {
      "cell_type": "code",
      "source": [
        "df5_45['시도'].value_counts()[:5],\\\n",
        "df5_45[df5_45['시도'] == \"서울\"]['귀산촌'].value_counts()[:5]"
      ],
      "metadata": {
        "colab": {
          "base_uri": "https://localhost:8080/"
        },
        "outputId": "07b4e2df-e339-4303-f244-b9038fa3b71c",
        "id": "-ExvpAgaNDcA"
      },
      "execution_count": null,
      "outputs": [
        {
          "output_type": "execute_result",
          "data": {
            "text/plain": [
              "(서울    3743\n",
              " 경기    3197\n",
              " 인천     746\n",
              " 부산     622\n",
              " 대구     419\n",
              " Name: 시도, dtype: int64,\n",
              " 귀산촌    3743\n",
              " Name: 귀산촌, dtype: int64)"
            ]
          },
          "metadata": {},
          "execution_count": 107
        }
      ]
    },
    {
      "cell_type": "code",
      "source": [],
      "metadata": {
        "id": "XjR5YPlpP6rB"
      },
      "execution_count": null,
      "outputs": []
    }
  ]
}