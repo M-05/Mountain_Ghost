{
  "nbformat": 4,
  "nbformat_minor": 0,
  "metadata": {
    "colab": {
      "provenance": []
    },
    "kernelspec": {
      "name": "python3",
      "display_name": "Python 3"
    },
    "language_info": {
      "name": "python"
    }
  },
  "cells": [
    {
      "cell_type": "code",
      "execution_count": 4,
      "metadata": {
        "id": "o5D3Lna8lUF1"
      },
      "outputs": [],
      "source": [
        "import pandas as pd\n",
        "import os"
      ]
    },
    {
      "cell_type": "code",
      "source": [
        "pd.set_option('display.max_columns', None)"
      ],
      "metadata": {
        "id": "2GPqT1qeX-aZ"
      },
      "execution_count": 3,
      "outputs": []
    },
    {
      "cell_type": "markdown",
      "source": [
        "# csv 불러오기"
      ],
      "metadata": {
        "id": "5cNKTm2PKpCU"
      }
    },
    {
      "cell_type": "code",
      "source": [
        "path = './drive/MyDrive/Colab Notebooks/'\n",
        "# os.listdir(path)\n",
        "# os.path.join()"
      ],
      "metadata": {
        "id": "u6wzeUVycRti"
      },
      "execution_count": 6,
      "outputs": []
    },
    {
      "cell_type": "code",
      "source": [
        "# 둘레길 관심\n",
        "df1 = pd.read_csv(path + \"FPL010101.csv\", encoding='cp949')\n",
        "# 등산로 관심인구 정보\n",
        "df2 = pd.read_csv(path + \"FPL020101.csv\", encoding='cp949')\n",
        "# 등산로 관심인구 관심사/관심분야 (포털 검색 분야) 정보\n",
        "df3 = pd.read_csv(path + \"FPL020801.csv\", encoding='cp949')\n",
        "# 국립공원 관심인구 정보\n",
        "df4 = pd.read_csv(path + \"FPL030101.csv\", encoding='cp949')\n",
        "# 국립공원 관심인구 라이프스타일 (온라인쇼핑몰 이용 카테고리 정보)\n",
        "df5 = pd.read_csv(path + \"FPL030701.csv\", encoding='cp949')\n",
        "# 자전거코스/자전거길 관심인구 정보\n",
        "df6 = pd.read_csv(path + \"FPL040101.csv\", encoding='cp949')\n",
        "# 자전거코스/자전거길 관심인구 자전거용품 검색 정보\n",
        "df7 = pd.read_csv(path + \"FPL040401.csv\", encoding='cp949')\n",
        "# 산림치유원 관심인구 선호 산림치유원 검색 정보\n",
        "df8 = pd.read_csv(path + \"FPL050201.csv\", encoding='cp949')\n",
        "# 산림체험 관심인구 정보\n",
        "df9 = pd.read_csv(path + \"FPL060101.csv\", encoding='cp949')\n",
        "# 산림체험 관심인구 선호 산림체험장소 검색 정보\n",
        "df10 = pd.read_csv(path + \"FPL060201.csv\", encoding='cp949')\n",
        "# 산림체험 관심인구 선호 산림체험 프로그램 검색 정보\n",
        "df11 = pd.read_csv(path + \"FPL060301.csv\", encoding='cp949')\n",
        "# 산림치유 관심인구 라이프스타일 (온라인쇼핑몰 검색/구매 카테고리) 정보\n",
        "df12 = pd.read_csv(path + \"FPL060501.csv\", encoding='cp949')\n",
        "# 귀산촌 관심인구 정보\n",
        "df13 = pd.read_csv(path + \"FPL070101.csv\", encoding='cp949')\n",
        "# 산림재해 관심인구 정보\n",
        "df14 = pd.read_csv(path + \"FPL080101.csv\", encoding='cp949')\n",
        "# 산림대피소 관심인구 정보\n",
        "df15 = pd.read_csv(path + \"FPL080201.csv\", encoding='cp949')\n",
        "# 산림재해 관심인구 관심지역 검색정보\n",
        "df16 = pd.read_csv(path + \"FPL080301.csv\", encoding='cp949')\n",
        "# 산림재해 연관 검색 키워드를 검색한 관심인구 정보\n",
        "df17 = pd.read_csv(path + \"FPL080401.csv\", encoding='cp949')\n",
        "# 전국 국립공원 등산로 이용자 분류(성/연령)별 평균 칼로리 소모량 정보\n",
        "df18 = pd.read_csv(path + \"PARK_KCALcsv.csv\", encoding='cp949')"
      ],
      "metadata": {
        "id": "UVrS34Cxlca6"
      },
      "execution_count": 143,
      "outputs": []
    },
    {
      "cell_type": "code",
      "source": [
        "# 둘레길 주변관광 이용자 정보\n",
        "df19 = pd.read_csv(path + \"FPL010401.csv\", encoding='cp949')\n",
        "# 둘레길 선호 관광 장소\n",
        "df20 = pd.read_csv(path + \"FPL010501.csv\", encoding='cp949')\n",
        "# 둘레길 관심인구 관심사/관심분야 (포털 검색 분야) 정보\n",
        "df21 = pd.read_csv(path + \"FPL010801.csv\", encoding='cp949')\n",
        "# 둘레길 관심인구 라이프스타일 (온라인쇼핑몰 이용 카테고리 정보)\n",
        "df22 = pd.read_csv(path + \"FPL010901.csv\", encoding='cp949')"
      ],
      "metadata": {
        "id": "2kGiZ6PPNspH"
      },
      "execution_count": 225,
      "outputs": []
    },
    {
      "cell_type": "code",
      "source": [
        "# 등산로 선호 관광 장소\n",
        "df23 = pd.read_csv(path + \"FPL020501.csv\", encoding='cp949')"
      ],
      "metadata": {
        "id": "hKJ-kn0VW86r"
      },
      "execution_count": 261,
      "outputs": []
    },
    {
      "cell_type": "markdown",
      "source": [
        "# csv 가공"
      ],
      "metadata": {
        "id": "VEh88mzvKkWa"
      }
    },
    {
      "cell_type": "code",
      "source": [
        "columns1 = [\"extrc_word_nm\"\n",
        "            , \"info_obtn_site_subjc_nm\"\n",
        "            , \"auser_sxdst_cd\"\n",
        "            , \"age_group_cd\"\n",
        "            , \"auser_occpn_nm\"\n",
        "            , \"hshld_incm_group_nm\"\n",
        "            , \"mrrg_yn_nm\"\n",
        "            , \"chdrn_yn_nm\"\n",
        "            , \"rsid_fom_nm\"\n",
        "            , \"auser_ara_ctprv_nm\"\n",
        "            , \"auser_ara_gu_nm\"\n",
        "            , \"auser_ara_dong_nm\"\n",
        "            , \"car_group_nm\"]"
      ],
      "metadata": {
        "id": "OkhAcadEfI0k"
      },
      "execution_count": 148,
      "outputs": []
    },
    {
      "cell_type": "code",
      "source": [
        "# 둘레길 관심인구 정보 2019\n",
        "df1 = df1[columns1]\n",
        "df1.columns = [\"길\", \"사이트제목\", \"성별\", \"연령\", \"직업\", \"소득\", \"결혼\", \"자녀\", \"주거\", \"시도\", \"구\", \"동\", \"자동차\"]"
      ],
      "metadata": {
        "id": "A2DlEG3weGBx"
      },
      "execution_count": 149,
      "outputs": []
    },
    {
      "cell_type": "code",
      "source": [
        "# 등산로 관심인구 정보 2019\n",
        "df2 = df2[columns1]\n",
        "df2.columns = [\"산\", \"사이트제목\", \"성별\", \"연령\", \"직업\", \"소득\", \"결혼\", \"자녀\", \"주거\", \"시도\", \"구\", \"동\", \"자동차\"]"
      ],
      "metadata": {
        "id": "kjTr3st1hxyr"
      },
      "execution_count": 151,
      "outputs": []
    },
    {
      "cell_type": "code",
      "source": [],
      "metadata": {
        "id": "iNeQKxUJALsW"
      },
      "execution_count": null,
      "outputs": []
    },
    {
      "cell_type": "code",
      "source": [
        "columns2 = [\"main_ntrs_cd\"\n",
        "            , \"info_obtn_site_subjc_nm\"\n",
        "            , \"auser_sxdst_cd\"\n",
        "            , \"age_group_cd\"\n",
        "            , \"auser_occpn_nm\"\n",
        "            , \"hshld_incm_group_nm\"\n",
        "            , \"mrrg_yn_nm\"\n",
        "            , \"chdrn_yn_nm\"\n",
        "            , \"rsid_fom_nm\"\n",
        "            , \"auser_ara_ctprv_nm\"\n",
        "            , \"auser_ara_gu_nm\"\n",
        "            , \"auser_ara_dong_nm\"\n",
        "            , \"car_group_nm\"]"
      ],
      "metadata": {
        "id": "XCJei2THktJB"
      },
      "execution_count": 154,
      "outputs": []
    },
    {
      "cell_type": "code",
      "source": [
        "# 등산로 관심인구 관심사/관심분야 (포털 검색 분야) 정보\n",
        "# (검색/블로그/뉴스기사등) 2019\n",
        "df3 = df3[columns2]\n",
        "df3.columns = [\"주요관심\", \"사이트제목\", \"성별\", \"연령\", \"직업\", \"소득\", \"결혼\", \"자녀\", \"주거\", \"시도\", \"구\", \"동\", \"자동차\"]"
      ],
      "metadata": {
        "id": "Z-w4Jrr_lcQW"
      },
      "execution_count": 155,
      "outputs": []
    },
    {
      "cell_type": "code",
      "source": [],
      "metadata": {
        "id": "8_D98thAqtkZ"
      },
      "execution_count": null,
      "outputs": []
    },
    {
      "cell_type": "code",
      "source": [
        "columns3 = [\"extrc_word_nm\"\n",
        "            , \"info_obtn_site_subjc_nm\"\n",
        "            , \"auser_sxdst_cd\"\n",
        "            , \"age_group_cd\"\n",
        "            , \"occpn_nm\"\n",
        "            , \"hshld_incm_group_nm\"\n",
        "            , \"mrrg_yn_nm\"\n",
        "            , \"chdrn_yn_nm\"\n",
        "            , \"rsid_fom_nm\"\n",
        "            , \"auser_ara_ctprv_nm\"\n",
        "            , \"auser_ara_gu_nm\"\n",
        "            , \"auser_ara_dong_nm\"\n",
        "            , \"car_group_nm\"]"
      ],
      "metadata": {
        "id": "xYVJLgoOn97_"
      },
      "execution_count": 157,
      "outputs": []
    },
    {
      "cell_type": "code",
      "source": [
        "# 국립공원 관심인구 정보 2019\n",
        "df4 = df4[columns3]\n",
        "df4.columns = [\"국립공원\", \"사이트제목\", \"성별\", \"연령\", \"직업\", \"소득\", \"결혼\", \"자녀\", \"주거\", \"시도\", \"구\", \"동\", \"자동차\"]"
      ],
      "metadata": {
        "id": "gNeLAoXWmJn7"
      },
      "execution_count": 159,
      "outputs": []
    },
    {
      "cell_type": "code",
      "source": [],
      "metadata": {
        "id": "Xrx_uOn_BU3Z"
      },
      "execution_count": null,
      "outputs": []
    },
    {
      "cell_type": "code",
      "source": [
        "# frnt_ntds_prfn_cont : 가구인테리어선호도내용 dgtl_hmpl_prfn_cont : 디지털가전제품선호도내용 lsur_car_prfn_cont : 레저자동차선호도내용 bty_prfn_cont : 뷰티선호도내용 lilhd_kchn_prfn_cont : 생활주방선호도내용 sprt_fshn_prfn_cont : 운동패션선호도내용 grcs_helth_prfn_cont : 식품건강선호도내용 jrny_prfn_cont : 여행선호도내용 fshn_wear_prfn_cont : 패션의류선호도내용 auser_fshn_stff_prfn_cont : 이용자패션잡화선호도내용\n",
        "columns4 = [\"lfst_cd\"\n",
        "            , \"auser_sxdst_cd\"\n",
        "            , \"age_group_cd\"\n",
        "            , \"occpn_nm\"\n",
        "            , \"hshld_incm_group_nm\"\n",
        "            , \"mrrg_yn_nm\"\n",
        "            , \"chdrn_yn_nm\"\n",
        "            , \"rsid_fom_nm\"\n",
        "            , \"auser_ara_ctprv_nm\"\n",
        "            , \"auser_ara_gu_nm\"\n",
        "            , \"auser_ara_dong_nm\"\n",
        "            , \"car_group_nm\"]"
      ],
      "metadata": {
        "id": "W4QWzF1MmJsz"
      },
      "execution_count": 164,
      "outputs": []
    },
    {
      "cell_type": "code",
      "source": [
        "# 국립공원 관심인구 라이프스타일 (온라인쇼핑몰 이용 카테고리 정보) 2019\n",
        "df5 = df5[columns4]\n",
        "df5.columns = [\"카테고리\", \"성별\", \"연령\", \"직업\", \"소득\", \"결혼\", \"자녀\", \"주거\", \"시도\", \"구\", \"동\", \"자동차\"]"
      ],
      "metadata": {
        "id": "cNSHJLq0mJuo"
      },
      "execution_count": 165,
      "outputs": []
    },
    {
      "cell_type": "code",
      "source": [],
      "metadata": {
        "id": "0o-gmGcqp1-S"
      },
      "execution_count": null,
      "outputs": []
    },
    {
      "cell_type": "code",
      "source": [
        "# 자전거코스/자전거길 관심인구 정보\n",
        "df6 = df6[columns3]\n",
        "df6.columns = [\"자전거길\", \"사이트제목\", \"성별\", \"연령\", \"직업\", \"소득\", \"결혼\", \"자녀\", \"주거\", \"시도\", \"구\", \"동\", \"자동차\"]"
      ],
      "metadata": {
        "id": "ZZMrkkx7q-Y5"
      },
      "execution_count": 167,
      "outputs": []
    },
    {
      "cell_type": "code",
      "source": [],
      "metadata": {
        "id": "EAIo9oK2Bvh3"
      },
      "execution_count": null,
      "outputs": []
    },
    {
      "cell_type": "code",
      "source": [
        "columns5 = [\"prduc_ctgry_smcls_nm\"\n",
        "            , \"otdr_prduc_nm\"\n",
        "            , \"auser_sxdst_cd\"\n",
        "            , \"age_group_cd\"\n",
        "            , \"occpn_nm\"\n",
        "            , \"hshld_incm_group_nm\"\n",
        "            , \"mrrg_yn_nm\"\n",
        "            , \"chdrn_yn_nm\"\n",
        "            , \"rsid_fom_nm\"\n",
        "            , \"auser_ara_ctprv_nm\"\n",
        "            , \"auser_ara_gu_nm\"\n",
        "            , \"auser_ara_dong_nm\"\n",
        "            , \"car_group_nm\"]"
      ],
      "metadata": {
        "id": "AY9CHnywth0a"
      },
      "execution_count": 170,
      "outputs": []
    },
    {
      "cell_type": "code",
      "source": [
        "# 자전거코스/자전거길 관심인구 자전거용품 검색 정보\n",
        "df7 = df7[columns5]\n",
        "df7.columns = [\"카테고리\", \"상품내용\", \"성별\", \"연령\", \"직업\", \"소득\", \"결혼\", \"자녀\", \"주거\", \"시도\", \"구\", \"동\", \"자동차\"]"
      ],
      "metadata": {
        "id": "hG0uZrzJth3C"
      },
      "execution_count": 171,
      "outputs": []
    },
    {
      "cell_type": "code",
      "source": [],
      "metadata": {
        "id": "n91W5PmMB5u9"
      },
      "execution_count": null,
      "outputs": []
    },
    {
      "cell_type": "code",
      "source": [
        "# 산림치유원 관심인구 선호 산림치유원 검색 정보\n",
        "df8 = df8[columns3]\n",
        "df8.columns = [\"치유원\", \"사이트제목\", \"성별\", \"연령\", \"직업\", \"소득\", \"결혼\", \"자녀\", \"주거\", \"시도\", \"구\", \"동\", \"자동차\"]"
      ],
      "metadata": {
        "id": "oa8zTb6Kth-2"
      },
      "execution_count": 174,
      "outputs": []
    },
    {
      "cell_type": "code",
      "source": [],
      "metadata": {
        "id": "bHeQP74s2ovh"
      },
      "execution_count": null,
      "outputs": []
    },
    {
      "cell_type": "code",
      "source": [
        "# 산림체험 관심인구 정보 2019\n",
        "df9 = df9[columns3]\n",
        "df9.columns = [\"체험\", \"사이트제목\", \"성별\", \"연령\", \"직업\", \"소득\", \"결혼\", \"자녀\", \"주거\", \"시도\", \"구\", \"동\", \"자동차\"]"
      ],
      "metadata": {
        "id": "tkY32d4b2oxj"
      },
      "execution_count": 173,
      "outputs": []
    },
    {
      "cell_type": "code",
      "source": [],
      "metadata": {
        "id": "xzbg1nQ8CuFS"
      },
      "execution_count": null,
      "outputs": []
    },
    {
      "cell_type": "code",
      "source": [
        "# 산림체험 관심인구 선호 산림체험장소 검색 정보\n",
        "df10 = df10[columns3]\n",
        "df10.columns = [\"체험\", \"사이트제목\", \"성별\", \"연령\", \"직업\", \"소득\", \"결혼\", \"자녀\", \"주거\", \"시도\", \"구\", \"동\", \"자동차\"]"
      ],
      "metadata": {
        "id": "thBQ03JCCihh"
      },
      "execution_count": 181,
      "outputs": []
    },
    {
      "cell_type": "code",
      "source": [],
      "metadata": {
        "id": "6OYWHTIaCxfs"
      },
      "execution_count": null,
      "outputs": []
    },
    {
      "cell_type": "code",
      "source": [
        "# 산림체험 관심인구 선호 산림체험 프로그램 검색 정보\n",
        "df11 = df11[columns3]\n",
        "df11.columns = [\"체험\", \"사이트제목\", \"성별\", \"연령\", \"직업\", \"소득\", \"결혼\", \"자녀\", \"주거\", \"시도\", \"구\", \"동\", \"자동차\"]"
      ],
      "metadata": {
        "id": "pZOuzsCuCxay"
      },
      "execution_count": 184,
      "outputs": []
    },
    {
      "cell_type": "code",
      "source": [],
      "metadata": {
        "id": "WomJxSvT5Rug"
      },
      "execution_count": null,
      "outputs": []
    },
    {
      "cell_type": "code",
      "source": [
        "# 산림치유 관심인구 라이프스타일 (온라인쇼핑몰 검색/구매 카테고리) 정보\n",
        "df12 = df12[columns4]\n",
        "df12.columns = [\"카테고리\", \"성별\", \"연령\", \"직업\", \"소득\", \"결혼\", \"자녀\", \"주거\", \"시도\", \"구\", \"동\", \"자동차\"]"
      ],
      "metadata": {
        "id": "RaqfDsp45Rw2"
      },
      "execution_count": 187,
      "outputs": []
    },
    {
      "cell_type": "code",
      "source": [],
      "metadata": {
        "id": "hGHhLCjF5RzD"
      },
      "execution_count": null,
      "outputs": []
    },
    {
      "cell_type": "code",
      "source": [
        "# 귀산촌 관심인구 정보\n",
        "df13 = df13[columns3]\n",
        "df13.columns = [\"귀산촌\", \"사이트제목\", \"성별\", \"연령\", \"직업\", \"소득\", \"결혼\", \"자녀\", \"주거\", \"시도\", \"구\", \"동\", \"자동차\"]"
      ],
      "metadata": {
        "id": "rFo5UPCgDdll"
      },
      "execution_count": 192,
      "outputs": []
    },
    {
      "cell_type": "code",
      "source": [],
      "metadata": {
        "id": "0ZGlesmHDd5k"
      },
      "execution_count": null,
      "outputs": []
    },
    {
      "cell_type": "code",
      "source": [
        "# 산림재해 관심인구 정보\n",
        "df14 = df14[columns3]\n",
        "df14.columns = [\"재해\", \"사이트제목\", \"성별\", \"연령\", \"직업\", \"소득\", \"결혼\", \"자녀\", \"주거\", \"시도\", \"구\", \"동\", \"자동차\"]"
      ],
      "metadata": {
        "id": "iG-l6it3EBgp"
      },
      "execution_count": 195,
      "outputs": []
    },
    {
      "cell_type": "code",
      "source": [],
      "metadata": {
        "id": "UkTefKFpEByZ"
      },
      "execution_count": null,
      "outputs": []
    },
    {
      "cell_type": "code",
      "source": [
        "# 산림대피소 관심인구 정보\n",
        "df15 = df15[columns3]\n",
        "df15.columns = [\"대피소\", \"사이트제목\", \"성별\", \"연령\", \"직업\", \"소득\", \"결혼\", \"자녀\", \"주거\", \"시도\", \"구\", \"동\", \"자동차\"]"
      ],
      "metadata": {
        "id": "xywzwnwCEWMC"
      },
      "execution_count": 198,
      "outputs": []
    },
    {
      "cell_type": "code",
      "source": [],
      "metadata": {
        "id": "9t2bJdtWEWft"
      },
      "execution_count": null,
      "outputs": []
    },
    {
      "cell_type": "code",
      "source": [
        "# 산림재해 관심인구 관심지역 검색정보\n",
        "df16 = df16[columns3]\n",
        "df16.columns = [\"재해\", \"사이트제목\", \"성별\", \"연령\", \"직업\", \"소득\", \"결혼\", \"자녀\", \"주거\", \"시도\", \"구\", \"동\", \"자동차\"]"
      ],
      "metadata": {
        "id": "XXKdboZWEm94"
      },
      "execution_count": 200,
      "outputs": []
    },
    {
      "cell_type": "code",
      "source": [],
      "metadata": {
        "id": "LtieMw22EnAC"
      },
      "execution_count": null,
      "outputs": []
    },
    {
      "cell_type": "code",
      "source": [
        "# 산림재해 연관 검색 키워드를 검색한 관심인구 정보\n",
        "df17 = df17[columns3]\n",
        "df17.columns = [\"재해\", \"사이트제목\", \"성별\", \"연령\", \"직업\", \"소득\", \"결혼\", \"자녀\", \"주거\", \"시도\", \"구\", \"동\", \"자동차\"]"
      ],
      "metadata": {
        "id": "OCag3zOwEzZy"
      },
      "execution_count": 202,
      "outputs": []
    },
    {
      "cell_type": "code",
      "source": [],
      "metadata": {
        "id": "xv-nqkb3Ezzc"
      },
      "execution_count": null,
      "outputs": []
    },
    {
      "cell_type": "code",
      "source": [
        "columns6 = [\"ntnl_park_nm\"\n",
        "        ,\t\"trk_nm\"\n",
        "        ,\t\"sxdst_cd\"\n",
        "        ,\t\"aggrp_sctin_val\"\n",
        "        ,\t\"trk_lngth\"\n",
        "        ,\t\"trk_rqrmn_tm\"\n",
        "        ,\t\"trk_avrg_kcal_cnsmp_qntt\"]"
      ],
      "metadata": {
        "id": "us8wju-AFqDJ"
      },
      "execution_count": 214,
      "outputs": []
    },
    {
      "cell_type": "code",
      "source": [
        "# 전국 국립공원 등산로 이용자 분류(성/연령)별 평균 칼로리 소모량 정보\n",
        "df18 = df18[columns6]\n",
        "df18.columns = ['등산로', '트랙명', '성별', '연령', '길이m', '시간m', '칼로리']"
      ],
      "metadata": {
        "id": "2T6U3c_iE95g"
      },
      "execution_count": 219,
      "outputs": []
    },
    {
      "cell_type": "code",
      "source": [],
      "metadata": {
        "id": "tUOeq7DvPuN9"
      },
      "execution_count": null,
      "outputs": []
    },
    {
      "cell_type": "code",
      "source": [
        "# 둘레길 주변관광 이용자 정보\n",
        "df19 = df19[columns1]\n",
        "df19.columns = [\"주변관광\", \"사이트제목\", \"성별\", \"연령\", \"직업\", \"소득\", \"결혼\", \"자녀\", \"주거\", \"시도\", \"구\", \"동\", \"자동차\"]"
      ],
      "metadata": {
        "id": "TtTnH5cpPzNz"
      },
      "execution_count": 235,
      "outputs": []
    },
    {
      "cell_type": "code",
      "source": [],
      "metadata": {
        "id": "aqrGS5t4QbMJ"
      },
      "execution_count": null,
      "outputs": []
    },
    {
      "cell_type": "code",
      "source": [
        "# 둘레길 선호 관광 장소\n",
        "df20 = df20[columns1]\n",
        "df20.columns = [\"선호관광\", \"사이트제목\", \"성별\", \"연령\", \"직업\", \"소득\", \"결혼\", \"자녀\", \"주거\", \"시도\", \"구\", \"동\", \"자동차\"]"
      ],
      "metadata": {
        "id": "SZNqS7lRQbEp"
      },
      "execution_count": 238,
      "outputs": []
    },
    {
      "cell_type": "code",
      "source": [],
      "metadata": {
        "id": "xgb4kkqkQ5Nw"
      },
      "execution_count": null,
      "outputs": []
    },
    {
      "cell_type": "code",
      "source": [
        "# 둘레길 관심인구 관심사/관심분야 (포털 검색 분야) 정보\n",
        "df21 = df21[columns2]\n",
        "df21.columns = [\"주요관심\", \"사이트제목\", \"성별\", \"연령\", \"직업\", \"소득\", \"결혼\", \"자녀\", \"주거\", \"시도\", \"구\", \"동\", \"자동차\"]"
      ],
      "metadata": {
        "id": "CID05jrQQpfx"
      },
      "execution_count": 245,
      "outputs": []
    },
    {
      "cell_type": "code",
      "source": [],
      "metadata": {
        "id": "9T6MwfZpREk_"
      },
      "execution_count": null,
      "outputs": []
    },
    {
      "cell_type": "code",
      "source": [
        "columns7 = ['lfst_cd',\n",
        "            'auser_sxdst_cd',\n",
        "            'age_group_cd',\n",
        "            'auser_occpn_nm',\n",
        "            'hshld_incm_group_nm',\n",
        "            'mrrg_yn_nm',\n",
        "            'chdrn_yn_nm',\n",
        "            'rsid_fom_nm',\n",
        "            'auser_ara_ctprv_nm',\n",
        "            'auser_ara_gu_nm',\n",
        "            'auser_ara_dong_nm',\n",
        "            'car_group_nm']"
      ],
      "metadata": {
        "id": "yH8m1kaIRZme"
      },
      "execution_count": 256,
      "outputs": []
    },
    {
      "cell_type": "code",
      "source": [
        "# 둘레길 관심인구 라이프스타일 (온라인쇼핑몰 이용 카테고리 정보)\n",
        "df22 = df22[columns7]\n",
        "df22.columns = [\"카테고리\", \"성별\", \"연령\", \"직업\", \"소득\", \"결혼\", \"자녀\", \"주거\", \"시도\", \"구\", \"동\", \"자동차\"]"
      ],
      "metadata": {
        "id": "i-XtgdXjPuKL"
      },
      "execution_count": 257,
      "outputs": []
    },
    {
      "cell_type": "code",
      "source": [],
      "metadata": {
        "id": "MMvrmfzIXJLy"
      },
      "execution_count": null,
      "outputs": []
    },
    {
      "cell_type": "code",
      "source": [
        "# 등산로 선호 관광 장소\n",
        "df23 = df23[columns1]\n",
        "df23.columns = [\"선호관광\", \"사이트제목\", \"성별\", \"연령\", \"직업\", \"소득\", \"결혼\", \"자녀\", \"주거\", \"시도\", \"구\", \"동\", \"자동차\"]"
      ],
      "metadata": {
        "id": "9qxM2lg9IeJn"
      },
      "execution_count": 265,
      "outputs": []
    },
    {
      "cell_type": "markdown",
      "source": [
        "# 가공된 csv 저장하기"
      ],
      "metadata": {
        "id": "HvX7y0-lI3WG"
      }
    },
    {
      "cell_type": "code",
      "source": [
        "# 둘레길 관심\n",
        "df1.to_csv(path + \"FPL010101.csv\", index=False)\n",
        "# 등산로 관심인구 정보\n",
        "df2.to_csv(path + \"FPL020101.csv\", index=False)\n",
        "# 등산로 관심인구 관심사/관심분야 (포털 검색 분야) 정보\n",
        "df3.to_csv(path + \"FPL020801.csv\", index=False)\n",
        "# 국립공원 관심인구 정보\n",
        "df4.to_csv(path + \"FPL030101.csv\", index=False)\n",
        "# 국립공원 관심인구 라이프스타일 (온라인쇼핑몰 이용 카테고리 정보)\n",
        "df5.to_csv(path + \"FPL030701.csv\", index=False)\n",
        "# 자전거코스/자전거길 관심인구 정보\n",
        "df6.to_csv(path + \"FPL040101.csv\", index=False)\n",
        "# 자전거코스/자전거길 관심인구 자전거용품 검색 정보\n",
        "df7.to_csv(path + \"FPL040401.csv\", index=False)\n",
        "# 산림치유원 관심인구 선호 산림치유원 검색 정보\n",
        "df8.to_csv(path + \"FPL050201.csv\", index=False)\n",
        "# 산림체험 관심인구 정보\n",
        "df9.to_csv(path + \"FPL060101.csv\", index=False)\n",
        "# 산림체험 관심인구 선호 산림체험장소 검색 정보\n",
        "df10.to_csv(path + \"FPL060201.csv\", index=False)\n",
        "# 산림체험 관심인구 선호 산림체험 프로그램 검색 정보\n",
        "df11.to_csv(path + \"FPL060301.csv\", index=False)\n",
        "# 산림치유 관심인구 라이프스타일 (온라인쇼핑몰 검색/구매 카테고리) 정보\n",
        "df12.to_csv(path + \"FPL060501.csv\", index=False)\n",
        "# 귀산촌 관심인구 정보\n",
        "df13.to_csv(path + \"FPL070101.csv\", index=False)\n",
        "# 산림재해 관심인구 정보\n",
        "df14.to_csv(path + \"FPL080101.csv\", index=False)\n",
        "# 산림대피소 관심인구 정보\n",
        "df15.to_csv(path + \"FPL080201.csv\", index=False)\n",
        "# 산림재해 관심인구 관심지역 검색정보\n",
        "df16.to_csv(path + \"FPL080301.csv\", index=False)\n",
        "# 산림재해 연관 검색 키워드를 검색한 관심인구 정보\n",
        "df17.to_csv(path + \"FPL080401.csv\", index=False)\n",
        "# 전국 국립공원 등산로 이용자 분류(성/연령)별 평균 칼로리 소모량 정보\n",
        "df18.to_csv(path + \"PARK_KCAL.csv\", index=False)\n",
        "# 둘레길 주변관광 이용자 정보\n",
        "df19.to_csv(path + \"FPL010401.csv\", index=False)\n",
        "# 둘레길 선호 관광 장소\n",
        "df20.to_csv(path + \"FPL010501.csv\", index=False)\n",
        "# 둘레길 관심인구 관심사/관심분야 (포털 검색 분야) 정보\n",
        "df21.to_csv(path + \"FPL010801.csv\", index=False)\n",
        "# 둘레길 관심인구 라이프스타일 (온라인쇼핑몰 이용 카테고리 정보)\n",
        "df22.to_csv(path + \"FPL010901.csv\", index=False)"
      ],
      "metadata": {
        "id": "gZgIr-CrIziQ"
      },
      "execution_count": 258,
      "outputs": []
    },
    {
      "cell_type": "code",
      "source": [
        "# 등산로 선호 관광 장소\n",
        "df23.to_csv(path + \"FPL020501.csv\", index=False)"
      ],
      "metadata": {
        "id": "D_xHHUpwXh7i"
      },
      "execution_count": 266,
      "outputs": []
    },
    {
      "cell_type": "markdown",
      "source": [
        "# 확인"
      ],
      "metadata": {
        "id": "_qCujtsrSB_E"
      }
    },
    {
      "cell_type": "code",
      "source": [
        "pd.read_csv(path + \"FPL020501.csv\")"
      ],
      "metadata": {
        "colab": {
          "base_uri": "https://localhost:8080/",
          "height": 659
        },
        "id": "4zn9Rbu4XpIM",
        "outputId": "0e521cdc-8615-4a51-bdb0-df8bc8008bdc"
      },
      "execution_count": 267,
      "outputs": [
        {
          "output_type": "execute_result",
          "data": {
            "text/plain": [
              "      선호관광                                  사이트제목 성별  연령  \\\n",
              "0       남원   [남원 -전북] 시골집 - 수제돈가스국수 전문점 : 네이버 블로그  F   3   \n",
              "1       남원                       남원 맛집 : 네이버 통합검색  F   3   \n",
              "2       남원                 남원 맛집 근사한 한끼 : 네이버 블로그  F   3   \n",
              "3       남원          제주 남원 맛집 며칠 내내 폭식쓰~ : 네이버 블로그  F   3   \n",
              "4       남원               전북남원 맛집 : 네이버 플레이스 검색 결과  F   3   \n",
              "...    ...                                    ... ..  ..   \n",
              "15303  해운대         해운대 간장게장 기왓집엄마밥상 맛있네 : 네이버 블로그  F   2   \n",
              "15304  해운대  [해랑] 나만아는 해운대 가을 명소 좌동 부흥공원 : 네이버 블로그  F   2   \n",
              "15305  해운대  [해랑] 나만아는 해운대 가을 명소 좌동 부흥공원 : 네이버 블로그  F   2   \n",
              "15306  해운대                     해운대 빛축제 : 네이버 통합검색  F   2   \n",
              "15307  해운대                     해운대 빛축제 : 네이버 통합검색  F   2   \n",
              "\n",
              "                           직업         소득     결혼          자녀    주거  시도    구  \\\n",
              "0      판매직 (상점점원, 보험설계사, 노점상)  200~299만원  예          자녀 있음   단독주택  전북  장수군   \n",
              "1      판매직 (상점점원, 보험설계사, 노점상)  200~299만원  예          자녀 있음   단독주택  전북  장수군   \n",
              "2      판매직 (상점점원, 보험설계사, 노점상)  200~299만원  예          자녀 있음   단독주택  전북  장수군   \n",
              "3      판매직 (상점점원, 보험설계사, 노점상)  200~299만원  예          자녀 있음   단독주택  전북  장수군   \n",
              "4      판매직 (상점점원, 보험설계사, 노점상)  200~299만원  예          자녀 있음   단독주택  전북  장수군   \n",
              "...                       ...        ...    ...         ...   ...  ..  ...   \n",
              "15303   주부 (전업주부, 파트타임 근무 주부)  100~199만원    아니오              단독주택  부산  동래구   \n",
              "15304   주부 (전업주부, 파트타임 근무 주부)  100~199만원    아니오              단독주택  부산  동래구   \n",
              "15305   주부 (전업주부, 파트타임 근무 주부)  100~199만원    아니오              단독주택  부산  동래구   \n",
              "15306   주부 (전업주부, 파트타임 근무 주부)  100~199만원    아니오              단독주택  부산  동래구   \n",
              "15307   주부 (전업주부, 파트타임 근무 주부)  100~199만원    아니오              단독주택  부산  동래구   \n",
              "\n",
              "         동  자동차  \n",
              "0      천천면  NaN  \n",
              "1      천천면  NaN  \n",
              "2      천천면  NaN  \n",
              "3      천천면  NaN  \n",
              "4      천천면  NaN  \n",
              "...    ...  ...  \n",
              "15303  칠산동  NaN  \n",
              "15304  칠산동  NaN  \n",
              "15305  칠산동  NaN  \n",
              "15306  칠산동  NaN  \n",
              "15307  칠산동  NaN  \n",
              "\n",
              "[15308 rows x 13 columns]"
            ],
            "text/html": [
              "\n",
              "  <div id=\"df-7940f91b-0f8d-4e7c-9099-9e537514e780\">\n",
              "    <div class=\"colab-df-container\">\n",
              "      <div>\n",
              "<style scoped>\n",
              "    .dataframe tbody tr th:only-of-type {\n",
              "        vertical-align: middle;\n",
              "    }\n",
              "\n",
              "    .dataframe tbody tr th {\n",
              "        vertical-align: top;\n",
              "    }\n",
              "\n",
              "    .dataframe thead th {\n",
              "        text-align: right;\n",
              "    }\n",
              "</style>\n",
              "<table border=\"1\" class=\"dataframe\">\n",
              "  <thead>\n",
              "    <tr style=\"text-align: right;\">\n",
              "      <th></th>\n",
              "      <th>선호관광</th>\n",
              "      <th>사이트제목</th>\n",
              "      <th>성별</th>\n",
              "      <th>연령</th>\n",
              "      <th>직업</th>\n",
              "      <th>소득</th>\n",
              "      <th>결혼</th>\n",
              "      <th>자녀</th>\n",
              "      <th>주거</th>\n",
              "      <th>시도</th>\n",
              "      <th>구</th>\n",
              "      <th>동</th>\n",
              "      <th>자동차</th>\n",
              "    </tr>\n",
              "  </thead>\n",
              "  <tbody>\n",
              "    <tr>\n",
              "      <th>0</th>\n",
              "      <td>남원</td>\n",
              "      <td>[남원 -전북] 시골집 - 수제돈가스국수 전문점 : 네이버 블로그</td>\n",
              "      <td>F</td>\n",
              "      <td>3</td>\n",
              "      <td>판매직 (상점점원, 보험설계사, 노점상)</td>\n",
              "      <td>200~299만원</td>\n",
              "      <td>예</td>\n",
              "      <td>자녀 있음</td>\n",
              "      <td>단독주택</td>\n",
              "      <td>전북</td>\n",
              "      <td>장수군</td>\n",
              "      <td>천천면</td>\n",
              "      <td>NaN</td>\n",
              "    </tr>\n",
              "    <tr>\n",
              "      <th>1</th>\n",
              "      <td>남원</td>\n",
              "      <td>남원 맛집 : 네이버 통합검색</td>\n",
              "      <td>F</td>\n",
              "      <td>3</td>\n",
              "      <td>판매직 (상점점원, 보험설계사, 노점상)</td>\n",
              "      <td>200~299만원</td>\n",
              "      <td>예</td>\n",
              "      <td>자녀 있음</td>\n",
              "      <td>단독주택</td>\n",
              "      <td>전북</td>\n",
              "      <td>장수군</td>\n",
              "      <td>천천면</td>\n",
              "      <td>NaN</td>\n",
              "    </tr>\n",
              "    <tr>\n",
              "      <th>2</th>\n",
              "      <td>남원</td>\n",
              "      <td>남원 맛집 근사한 한끼 : 네이버 블로그</td>\n",
              "      <td>F</td>\n",
              "      <td>3</td>\n",
              "      <td>판매직 (상점점원, 보험설계사, 노점상)</td>\n",
              "      <td>200~299만원</td>\n",
              "      <td>예</td>\n",
              "      <td>자녀 있음</td>\n",
              "      <td>단독주택</td>\n",
              "      <td>전북</td>\n",
              "      <td>장수군</td>\n",
              "      <td>천천면</td>\n",
              "      <td>NaN</td>\n",
              "    </tr>\n",
              "    <tr>\n",
              "      <th>3</th>\n",
              "      <td>남원</td>\n",
              "      <td>제주 남원 맛집 며칠 내내 폭식쓰~ : 네이버 블로그</td>\n",
              "      <td>F</td>\n",
              "      <td>3</td>\n",
              "      <td>판매직 (상점점원, 보험설계사, 노점상)</td>\n",
              "      <td>200~299만원</td>\n",
              "      <td>예</td>\n",
              "      <td>자녀 있음</td>\n",
              "      <td>단독주택</td>\n",
              "      <td>전북</td>\n",
              "      <td>장수군</td>\n",
              "      <td>천천면</td>\n",
              "      <td>NaN</td>\n",
              "    </tr>\n",
              "    <tr>\n",
              "      <th>4</th>\n",
              "      <td>남원</td>\n",
              "      <td>전북남원 맛집 : 네이버 플레이스 검색 결과</td>\n",
              "      <td>F</td>\n",
              "      <td>3</td>\n",
              "      <td>판매직 (상점점원, 보험설계사, 노점상)</td>\n",
              "      <td>200~299만원</td>\n",
              "      <td>예</td>\n",
              "      <td>자녀 있음</td>\n",
              "      <td>단독주택</td>\n",
              "      <td>전북</td>\n",
              "      <td>장수군</td>\n",
              "      <td>천천면</td>\n",
              "      <td>NaN</td>\n",
              "    </tr>\n",
              "    <tr>\n",
              "      <th>...</th>\n",
              "      <td>...</td>\n",
              "      <td>...</td>\n",
              "      <td>...</td>\n",
              "      <td>...</td>\n",
              "      <td>...</td>\n",
              "      <td>...</td>\n",
              "      <td>...</td>\n",
              "      <td>...</td>\n",
              "      <td>...</td>\n",
              "      <td>...</td>\n",
              "      <td>...</td>\n",
              "      <td>...</td>\n",
              "      <td>...</td>\n",
              "    </tr>\n",
              "    <tr>\n",
              "      <th>15303</th>\n",
              "      <td>해운대</td>\n",
              "      <td>해운대 간장게장 기왓집엄마밥상 맛있네 : 네이버 블로그</td>\n",
              "      <td>F</td>\n",
              "      <td>2</td>\n",
              "      <td>주부 (전업주부, 파트타임 근무 주부)</td>\n",
              "      <td>100~199만원</td>\n",
              "      <td>아니오</td>\n",
              "      <td></td>\n",
              "      <td>단독주택</td>\n",
              "      <td>부산</td>\n",
              "      <td>동래구</td>\n",
              "      <td>칠산동</td>\n",
              "      <td>NaN</td>\n",
              "    </tr>\n",
              "    <tr>\n",
              "      <th>15304</th>\n",
              "      <td>해운대</td>\n",
              "      <td>[해랑] 나만아는 해운대 가을 명소 좌동 부흥공원 : 네이버 블로그</td>\n",
              "      <td>F</td>\n",
              "      <td>2</td>\n",
              "      <td>주부 (전업주부, 파트타임 근무 주부)</td>\n",
              "      <td>100~199만원</td>\n",
              "      <td>아니오</td>\n",
              "      <td></td>\n",
              "      <td>단독주택</td>\n",
              "      <td>부산</td>\n",
              "      <td>동래구</td>\n",
              "      <td>칠산동</td>\n",
              "      <td>NaN</td>\n",
              "    </tr>\n",
              "    <tr>\n",
              "      <th>15305</th>\n",
              "      <td>해운대</td>\n",
              "      <td>[해랑] 나만아는 해운대 가을 명소 좌동 부흥공원 : 네이버 블로그</td>\n",
              "      <td>F</td>\n",
              "      <td>2</td>\n",
              "      <td>주부 (전업주부, 파트타임 근무 주부)</td>\n",
              "      <td>100~199만원</td>\n",
              "      <td>아니오</td>\n",
              "      <td></td>\n",
              "      <td>단독주택</td>\n",
              "      <td>부산</td>\n",
              "      <td>동래구</td>\n",
              "      <td>칠산동</td>\n",
              "      <td>NaN</td>\n",
              "    </tr>\n",
              "    <tr>\n",
              "      <th>15306</th>\n",
              "      <td>해운대</td>\n",
              "      <td>해운대 빛축제 : 네이버 통합검색</td>\n",
              "      <td>F</td>\n",
              "      <td>2</td>\n",
              "      <td>주부 (전업주부, 파트타임 근무 주부)</td>\n",
              "      <td>100~199만원</td>\n",
              "      <td>아니오</td>\n",
              "      <td></td>\n",
              "      <td>단독주택</td>\n",
              "      <td>부산</td>\n",
              "      <td>동래구</td>\n",
              "      <td>칠산동</td>\n",
              "      <td>NaN</td>\n",
              "    </tr>\n",
              "    <tr>\n",
              "      <th>15307</th>\n",
              "      <td>해운대</td>\n",
              "      <td>해운대 빛축제 : 네이버 통합검색</td>\n",
              "      <td>F</td>\n",
              "      <td>2</td>\n",
              "      <td>주부 (전업주부, 파트타임 근무 주부)</td>\n",
              "      <td>100~199만원</td>\n",
              "      <td>아니오</td>\n",
              "      <td></td>\n",
              "      <td>단독주택</td>\n",
              "      <td>부산</td>\n",
              "      <td>동래구</td>\n",
              "      <td>칠산동</td>\n",
              "      <td>NaN</td>\n",
              "    </tr>\n",
              "  </tbody>\n",
              "</table>\n",
              "<p>15308 rows × 13 columns</p>\n",
              "</div>\n",
              "      <button class=\"colab-df-convert\" onclick=\"convertToInteractive('df-7940f91b-0f8d-4e7c-9099-9e537514e780')\"\n",
              "              title=\"Convert this dataframe to an interactive table.\"\n",
              "              style=\"display:none;\">\n",
              "        \n",
              "  <svg xmlns=\"http://www.w3.org/2000/svg\" height=\"24px\"viewBox=\"0 0 24 24\"\n",
              "       width=\"24px\">\n",
              "    <path d=\"M0 0h24v24H0V0z\" fill=\"none\"/>\n",
              "    <path d=\"M18.56 5.44l.94 2.06.94-2.06 2.06-.94-2.06-.94-.94-2.06-.94 2.06-2.06.94zm-11 1L8.5 8.5l.94-2.06 2.06-.94-2.06-.94L8.5 2.5l-.94 2.06-2.06.94zm10 10l.94 2.06.94-2.06 2.06-.94-2.06-.94-.94-2.06-.94 2.06-2.06.94z\"/><path d=\"M17.41 7.96l-1.37-1.37c-.4-.4-.92-.59-1.43-.59-.52 0-1.04.2-1.43.59L10.3 9.45l-7.72 7.72c-.78.78-.78 2.05 0 2.83L4 21.41c.39.39.9.59 1.41.59.51 0 1.02-.2 1.41-.59l7.78-7.78 2.81-2.81c.8-.78.8-2.07 0-2.86zM5.41 20L4 18.59l7.72-7.72 1.47 1.35L5.41 20z\"/>\n",
              "  </svg>\n",
              "      </button>\n",
              "      \n",
              "  <style>\n",
              "    .colab-df-container {\n",
              "      display:flex;\n",
              "      flex-wrap:wrap;\n",
              "      gap: 12px;\n",
              "    }\n",
              "\n",
              "    .colab-df-convert {\n",
              "      background-color: #E8F0FE;\n",
              "      border: none;\n",
              "      border-radius: 50%;\n",
              "      cursor: pointer;\n",
              "      display: none;\n",
              "      fill: #1967D2;\n",
              "      height: 32px;\n",
              "      padding: 0 0 0 0;\n",
              "      width: 32px;\n",
              "    }\n",
              "\n",
              "    .colab-df-convert:hover {\n",
              "      background-color: #E2EBFA;\n",
              "      box-shadow: 0px 1px 2px rgba(60, 64, 67, 0.3), 0px 1px 3px 1px rgba(60, 64, 67, 0.15);\n",
              "      fill: #174EA6;\n",
              "    }\n",
              "\n",
              "    [theme=dark] .colab-df-convert {\n",
              "      background-color: #3B4455;\n",
              "      fill: #D2E3FC;\n",
              "    }\n",
              "\n",
              "    [theme=dark] .colab-df-convert:hover {\n",
              "      background-color: #434B5C;\n",
              "      box-shadow: 0px 1px 3px 1px rgba(0, 0, 0, 0.15);\n",
              "      filter: drop-shadow(0px 1px 2px rgba(0, 0, 0, 0.3));\n",
              "      fill: #FFFFFF;\n",
              "    }\n",
              "  </style>\n",
              "\n",
              "      <script>\n",
              "        const buttonEl =\n",
              "          document.querySelector('#df-7940f91b-0f8d-4e7c-9099-9e537514e780 button.colab-df-convert');\n",
              "        buttonEl.style.display =\n",
              "          google.colab.kernel.accessAllowed ? 'block' : 'none';\n",
              "\n",
              "        async function convertToInteractive(key) {\n",
              "          const element = document.querySelector('#df-7940f91b-0f8d-4e7c-9099-9e537514e780');\n",
              "          const dataTable =\n",
              "            await google.colab.kernel.invokeFunction('convertToInteractive',\n",
              "                                                     [key], {});\n",
              "          if (!dataTable) return;\n",
              "\n",
              "          const docLinkHtml = 'Like what you see? Visit the ' +\n",
              "            '<a target=\"_blank\" href=https://colab.research.google.com/notebooks/data_table.ipynb>data table notebook</a>'\n",
              "            + ' to learn more about interactive tables.';\n",
              "          element.innerHTML = '';\n",
              "          dataTable['output_type'] = 'display_data';\n",
              "          await google.colab.output.renderOutput(dataTable, element);\n",
              "          const docLink = document.createElement('div');\n",
              "          docLink.innerHTML = docLinkHtml;\n",
              "          element.appendChild(docLink);\n",
              "        }\n",
              "      </script>\n",
              "    </div>\n",
              "  </div>\n",
              "  "
            ]
          },
          "metadata": {},
          "execution_count": 267
        }
      ]
    },
    {
      "cell_type": "code",
      "source": [
        "pd.read_csv(path + \"FPL020801.csv\")"
      ],
      "metadata": {
        "colab": {
          "base_uri": "https://localhost:8080/",
          "height": 659
        },
        "id": "yqUiU7_OSUf2",
        "outputId": "cda9163d-46fd-46b9-999a-bb48f409cf42"
      },
      "execution_count": 260,
      "outputs": [
        {
          "output_type": "execute_result",
          "data": {
            "text/plain": [
              "        주요관심                                              사이트제목 성별  연령  \\\n",
              "0       TV연예    배우 윤주빈 알고보니 윤봉길 의사 종손…3.1절 기념식 편지낭독 :: 네이버 TV연예  F   4   \n",
              "1       TV연예               [단독]정인선 조보아 이어 골목식당 새 MC :: 네이버 TV연예  F   4   \n",
              "2       TV연예  윤주빈 3.1절 편지 낭독→윤봉길 종손 화제→꽃길 응원 봇물[스타이슈] :: 네이버...  F   4   \n",
              "3       TV연예  ‘해투4’ 박유나 “김보라 ‘왜 또 나가냐’고”→전현무 “지금 정신없을 때” :: ...  F   4   \n",
              "4       TV연예  박유천 전 연인 황하나 의미심장 글…“남자 하나 잘못 만나 별일 다 겪네” :: 네...  F   4   \n",
              "...      ...                                                ... ..  ..   \n",
              "873016   스포츠   “코치님 감사합니다” SK 투수 깜짝 선물 끈끈하게 끝난 캔버라 캠프 :: 네이버스포츠  M   2   \n",
              "873017   스포츠    승격 경험 있는 부산 조덕제 “올해는 다르다” [GOAL LIVE] :: 네이버스포츠  M   2   \n",
              "873018   스포츠      [인터뷰] 말하지 못했던 비밀들... 울프 이재완의 마지막 인사 :: 네이버스포츠  M   2   \n",
              "873019   스포츠                                       야구 : 네이버 스포츠  M   2   \n",
              "873020   스포츠                                       축구 : 네이버 스포츠  M   2   \n",
              "\n",
              "                                  직업         소득     결혼          자녀         주거  \\\n",
              "0              주부 (전업주부, 파트타임 근무 주부)  300~399만원  예          자녀 있음   아파트/ 주상복합   \n",
              "1              주부 (전업주부, 파트타임 근무 주부)  300~399만원  예          자녀 있음   아파트/ 주상복합   \n",
              "2              주부 (전업주부, 파트타임 근무 주부)  300~399만원  예          자녀 있음   아파트/ 주상복합   \n",
              "3              주부 (전업주부, 파트타임 근무 주부)  300~399만원  예          자녀 있음   아파트/ 주상복합   \n",
              "4              주부 (전업주부, 파트타임 근무 주부)  300~399만원  예          자녀 있음   아파트/ 주상복합   \n",
              "...                              ...        ...    ...         ...        ...   \n",
              "873016  기능직 (자동차정비, 운전기사, 안경사, 택시기사)  300~399만원    아니오                   단독주택   \n",
              "873017  기능직 (자동차정비, 운전기사, 안경사, 택시기사)  300~399만원    아니오                   단독주택   \n",
              "873018  기능직 (자동차정비, 운전기사, 안경사, 택시기사)  300~399만원    아니오                   단독주택   \n",
              "873019  기능직 (자동차정비, 운전기사, 안경사, 택시기사)  300~399만원    아니오                   단독주택   \n",
              "873020  기능직 (자동차정비, 운전기사, 안경사, 택시기사)  300~399만원    아니오                   단독주택   \n",
              "\n",
              "        시도     구     동                         자동차  \n",
              "0       경기  의정부시  호원1동                         NaN  \n",
              "1       경기  의정부시  호원1동                         NaN  \n",
              "2       경기  의정부시  호원1동                         NaN  \n",
              "3       경기  의정부시  호원1동                         NaN  \n",
              "4       경기  의정부시  호원1동                         NaN  \n",
              "...     ..   ...   ...                         ...  \n",
              "873016  인천    남구  주안2동  준중형차 (아반떼, K3, 크루즈, 제타급 등)  \n",
              "873017  인천    남구  주안2동  준중형차 (아반떼, K3, 크루즈, 제타급 등)  \n",
              "873018  인천    남구  주안2동  준중형차 (아반떼, K3, 크루즈, 제타급 등)  \n",
              "873019  인천    남구  주안2동  준중형차 (아반떼, K3, 크루즈, 제타급 등)  \n",
              "873020  인천    남구  주안2동  준중형차 (아반떼, K3, 크루즈, 제타급 등)  \n",
              "\n",
              "[873021 rows x 13 columns]"
            ],
            "text/html": [
              "\n",
              "  <div id=\"df-db3166d4-e62e-4436-aeeb-041b7f11c92b\">\n",
              "    <div class=\"colab-df-container\">\n",
              "      <div>\n",
              "<style scoped>\n",
              "    .dataframe tbody tr th:only-of-type {\n",
              "        vertical-align: middle;\n",
              "    }\n",
              "\n",
              "    .dataframe tbody tr th {\n",
              "        vertical-align: top;\n",
              "    }\n",
              "\n",
              "    .dataframe thead th {\n",
              "        text-align: right;\n",
              "    }\n",
              "</style>\n",
              "<table border=\"1\" class=\"dataframe\">\n",
              "  <thead>\n",
              "    <tr style=\"text-align: right;\">\n",
              "      <th></th>\n",
              "      <th>주요관심</th>\n",
              "      <th>사이트제목</th>\n",
              "      <th>성별</th>\n",
              "      <th>연령</th>\n",
              "      <th>직업</th>\n",
              "      <th>소득</th>\n",
              "      <th>결혼</th>\n",
              "      <th>자녀</th>\n",
              "      <th>주거</th>\n",
              "      <th>시도</th>\n",
              "      <th>구</th>\n",
              "      <th>동</th>\n",
              "      <th>자동차</th>\n",
              "    </tr>\n",
              "  </thead>\n",
              "  <tbody>\n",
              "    <tr>\n",
              "      <th>0</th>\n",
              "      <td>TV연예</td>\n",
              "      <td>배우 윤주빈 알고보니 윤봉길 의사 종손…3.1절 기념식 편지낭독 :: 네이버 TV연예</td>\n",
              "      <td>F</td>\n",
              "      <td>4</td>\n",
              "      <td>주부 (전업주부, 파트타임 근무 주부)</td>\n",
              "      <td>300~399만원</td>\n",
              "      <td>예</td>\n",
              "      <td>자녀 있음</td>\n",
              "      <td>아파트/ 주상복합</td>\n",
              "      <td>경기</td>\n",
              "      <td>의정부시</td>\n",
              "      <td>호원1동</td>\n",
              "      <td>NaN</td>\n",
              "    </tr>\n",
              "    <tr>\n",
              "      <th>1</th>\n",
              "      <td>TV연예</td>\n",
              "      <td>[단독]정인선 조보아 이어 골목식당 새 MC :: 네이버 TV연예</td>\n",
              "      <td>F</td>\n",
              "      <td>4</td>\n",
              "      <td>주부 (전업주부, 파트타임 근무 주부)</td>\n",
              "      <td>300~399만원</td>\n",
              "      <td>예</td>\n",
              "      <td>자녀 있음</td>\n",
              "      <td>아파트/ 주상복합</td>\n",
              "      <td>경기</td>\n",
              "      <td>의정부시</td>\n",
              "      <td>호원1동</td>\n",
              "      <td>NaN</td>\n",
              "    </tr>\n",
              "    <tr>\n",
              "      <th>2</th>\n",
              "      <td>TV연예</td>\n",
              "      <td>윤주빈 3.1절 편지 낭독→윤봉길 종손 화제→꽃길 응원 봇물[스타이슈] :: 네이버...</td>\n",
              "      <td>F</td>\n",
              "      <td>4</td>\n",
              "      <td>주부 (전업주부, 파트타임 근무 주부)</td>\n",
              "      <td>300~399만원</td>\n",
              "      <td>예</td>\n",
              "      <td>자녀 있음</td>\n",
              "      <td>아파트/ 주상복합</td>\n",
              "      <td>경기</td>\n",
              "      <td>의정부시</td>\n",
              "      <td>호원1동</td>\n",
              "      <td>NaN</td>\n",
              "    </tr>\n",
              "    <tr>\n",
              "      <th>3</th>\n",
              "      <td>TV연예</td>\n",
              "      <td>‘해투4’ 박유나 “김보라 ‘왜 또 나가냐’고”→전현무 “지금 정신없을 때” :: ...</td>\n",
              "      <td>F</td>\n",
              "      <td>4</td>\n",
              "      <td>주부 (전업주부, 파트타임 근무 주부)</td>\n",
              "      <td>300~399만원</td>\n",
              "      <td>예</td>\n",
              "      <td>자녀 있음</td>\n",
              "      <td>아파트/ 주상복합</td>\n",
              "      <td>경기</td>\n",
              "      <td>의정부시</td>\n",
              "      <td>호원1동</td>\n",
              "      <td>NaN</td>\n",
              "    </tr>\n",
              "    <tr>\n",
              "      <th>4</th>\n",
              "      <td>TV연예</td>\n",
              "      <td>박유천 전 연인 황하나 의미심장 글…“남자 하나 잘못 만나 별일 다 겪네” :: 네...</td>\n",
              "      <td>F</td>\n",
              "      <td>4</td>\n",
              "      <td>주부 (전업주부, 파트타임 근무 주부)</td>\n",
              "      <td>300~399만원</td>\n",
              "      <td>예</td>\n",
              "      <td>자녀 있음</td>\n",
              "      <td>아파트/ 주상복합</td>\n",
              "      <td>경기</td>\n",
              "      <td>의정부시</td>\n",
              "      <td>호원1동</td>\n",
              "      <td>NaN</td>\n",
              "    </tr>\n",
              "    <tr>\n",
              "      <th>...</th>\n",
              "      <td>...</td>\n",
              "      <td>...</td>\n",
              "      <td>...</td>\n",
              "      <td>...</td>\n",
              "      <td>...</td>\n",
              "      <td>...</td>\n",
              "      <td>...</td>\n",
              "      <td>...</td>\n",
              "      <td>...</td>\n",
              "      <td>...</td>\n",
              "      <td>...</td>\n",
              "      <td>...</td>\n",
              "      <td>...</td>\n",
              "    </tr>\n",
              "    <tr>\n",
              "      <th>873016</th>\n",
              "      <td>스포츠</td>\n",
              "      <td>“코치님 감사합니다” SK 투수 깜짝 선물 끈끈하게 끝난 캔버라 캠프 :: 네이버스포츠</td>\n",
              "      <td>M</td>\n",
              "      <td>2</td>\n",
              "      <td>기능직 (자동차정비, 운전기사, 안경사, 택시기사)</td>\n",
              "      <td>300~399만원</td>\n",
              "      <td>아니오</td>\n",
              "      <td></td>\n",
              "      <td>단독주택</td>\n",
              "      <td>인천</td>\n",
              "      <td>남구</td>\n",
              "      <td>주안2동</td>\n",
              "      <td>준중형차 (아반떼, K3, 크루즈, 제타급 등)</td>\n",
              "    </tr>\n",
              "    <tr>\n",
              "      <th>873017</th>\n",
              "      <td>스포츠</td>\n",
              "      <td>승격 경험 있는 부산 조덕제 “올해는 다르다” [GOAL LIVE] :: 네이버스포츠</td>\n",
              "      <td>M</td>\n",
              "      <td>2</td>\n",
              "      <td>기능직 (자동차정비, 운전기사, 안경사, 택시기사)</td>\n",
              "      <td>300~399만원</td>\n",
              "      <td>아니오</td>\n",
              "      <td></td>\n",
              "      <td>단독주택</td>\n",
              "      <td>인천</td>\n",
              "      <td>남구</td>\n",
              "      <td>주안2동</td>\n",
              "      <td>준중형차 (아반떼, K3, 크루즈, 제타급 등)</td>\n",
              "    </tr>\n",
              "    <tr>\n",
              "      <th>873018</th>\n",
              "      <td>스포츠</td>\n",
              "      <td>[인터뷰] 말하지 못했던 비밀들... 울프 이재완의 마지막 인사 :: 네이버스포츠</td>\n",
              "      <td>M</td>\n",
              "      <td>2</td>\n",
              "      <td>기능직 (자동차정비, 운전기사, 안경사, 택시기사)</td>\n",
              "      <td>300~399만원</td>\n",
              "      <td>아니오</td>\n",
              "      <td></td>\n",
              "      <td>단독주택</td>\n",
              "      <td>인천</td>\n",
              "      <td>남구</td>\n",
              "      <td>주안2동</td>\n",
              "      <td>준중형차 (아반떼, K3, 크루즈, 제타급 등)</td>\n",
              "    </tr>\n",
              "    <tr>\n",
              "      <th>873019</th>\n",
              "      <td>스포츠</td>\n",
              "      <td>야구 : 네이버 스포츠</td>\n",
              "      <td>M</td>\n",
              "      <td>2</td>\n",
              "      <td>기능직 (자동차정비, 운전기사, 안경사, 택시기사)</td>\n",
              "      <td>300~399만원</td>\n",
              "      <td>아니오</td>\n",
              "      <td></td>\n",
              "      <td>단독주택</td>\n",
              "      <td>인천</td>\n",
              "      <td>남구</td>\n",
              "      <td>주안2동</td>\n",
              "      <td>준중형차 (아반떼, K3, 크루즈, 제타급 등)</td>\n",
              "    </tr>\n",
              "    <tr>\n",
              "      <th>873020</th>\n",
              "      <td>스포츠</td>\n",
              "      <td>축구 : 네이버 스포츠</td>\n",
              "      <td>M</td>\n",
              "      <td>2</td>\n",
              "      <td>기능직 (자동차정비, 운전기사, 안경사, 택시기사)</td>\n",
              "      <td>300~399만원</td>\n",
              "      <td>아니오</td>\n",
              "      <td></td>\n",
              "      <td>단독주택</td>\n",
              "      <td>인천</td>\n",
              "      <td>남구</td>\n",
              "      <td>주안2동</td>\n",
              "      <td>준중형차 (아반떼, K3, 크루즈, 제타급 등)</td>\n",
              "    </tr>\n",
              "  </tbody>\n",
              "</table>\n",
              "<p>873021 rows × 13 columns</p>\n",
              "</div>\n",
              "      <button class=\"colab-df-convert\" onclick=\"convertToInteractive('df-db3166d4-e62e-4436-aeeb-041b7f11c92b')\"\n",
              "              title=\"Convert this dataframe to an interactive table.\"\n",
              "              style=\"display:none;\">\n",
              "        \n",
              "  <svg xmlns=\"http://www.w3.org/2000/svg\" height=\"24px\"viewBox=\"0 0 24 24\"\n",
              "       width=\"24px\">\n",
              "    <path d=\"M0 0h24v24H0V0z\" fill=\"none\"/>\n",
              "    <path d=\"M18.56 5.44l.94 2.06.94-2.06 2.06-.94-2.06-.94-.94-2.06-.94 2.06-2.06.94zm-11 1L8.5 8.5l.94-2.06 2.06-.94-2.06-.94L8.5 2.5l-.94 2.06-2.06.94zm10 10l.94 2.06.94-2.06 2.06-.94-2.06-.94-.94-2.06-.94 2.06-2.06.94z\"/><path d=\"M17.41 7.96l-1.37-1.37c-.4-.4-.92-.59-1.43-.59-.52 0-1.04.2-1.43.59L10.3 9.45l-7.72 7.72c-.78.78-.78 2.05 0 2.83L4 21.41c.39.39.9.59 1.41.59.51 0 1.02-.2 1.41-.59l7.78-7.78 2.81-2.81c.8-.78.8-2.07 0-2.86zM5.41 20L4 18.59l7.72-7.72 1.47 1.35L5.41 20z\"/>\n",
              "  </svg>\n",
              "      </button>\n",
              "      \n",
              "  <style>\n",
              "    .colab-df-container {\n",
              "      display:flex;\n",
              "      flex-wrap:wrap;\n",
              "      gap: 12px;\n",
              "    }\n",
              "\n",
              "    .colab-df-convert {\n",
              "      background-color: #E8F0FE;\n",
              "      border: none;\n",
              "      border-radius: 50%;\n",
              "      cursor: pointer;\n",
              "      display: none;\n",
              "      fill: #1967D2;\n",
              "      height: 32px;\n",
              "      padding: 0 0 0 0;\n",
              "      width: 32px;\n",
              "    }\n",
              "\n",
              "    .colab-df-convert:hover {\n",
              "      background-color: #E2EBFA;\n",
              "      box-shadow: 0px 1px 2px rgba(60, 64, 67, 0.3), 0px 1px 3px 1px rgba(60, 64, 67, 0.15);\n",
              "      fill: #174EA6;\n",
              "    }\n",
              "\n",
              "    [theme=dark] .colab-df-convert {\n",
              "      background-color: #3B4455;\n",
              "      fill: #D2E3FC;\n",
              "    }\n",
              "\n",
              "    [theme=dark] .colab-df-convert:hover {\n",
              "      background-color: #434B5C;\n",
              "      box-shadow: 0px 1px 3px 1px rgba(0, 0, 0, 0.15);\n",
              "      filter: drop-shadow(0px 1px 2px rgba(0, 0, 0, 0.3));\n",
              "      fill: #FFFFFF;\n",
              "    }\n",
              "  </style>\n",
              "\n",
              "      <script>\n",
              "        const buttonEl =\n",
              "          document.querySelector('#df-db3166d4-e62e-4436-aeeb-041b7f11c92b button.colab-df-convert');\n",
              "        buttonEl.style.display =\n",
              "          google.colab.kernel.accessAllowed ? 'block' : 'none';\n",
              "\n",
              "        async function convertToInteractive(key) {\n",
              "          const element = document.querySelector('#df-db3166d4-e62e-4436-aeeb-041b7f11c92b');\n",
              "          const dataTable =\n",
              "            await google.colab.kernel.invokeFunction('convertToInteractive',\n",
              "                                                     [key], {});\n",
              "          if (!dataTable) return;\n",
              "\n",
              "          const docLinkHtml = 'Like what you see? Visit the ' +\n",
              "            '<a target=\"_blank\" href=https://colab.research.google.com/notebooks/data_table.ipynb>data table notebook</a>'\n",
              "            + ' to learn more about interactive tables.';\n",
              "          element.innerHTML = '';\n",
              "          dataTable['output_type'] = 'display_data';\n",
              "          await google.colab.output.renderOutput(dataTable, element);\n",
              "          const docLink = document.createElement('div');\n",
              "          docLink.innerHTML = docLinkHtml;\n",
              "          element.appendChild(docLink);\n",
              "        }\n",
              "      </script>\n",
              "    </div>\n",
              "  </div>\n",
              "  "
            ]
          },
          "metadata": {},
          "execution_count": 260
        }
      ]
    },
    {
      "cell_type": "code",
      "source": [],
      "metadata": {
        "id": "bFZMtvFbSYFJ"
      },
      "execution_count": null,
      "outputs": []
    }
  ]
}