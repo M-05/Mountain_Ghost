{
  "nbformat": 4,
  "nbformat_minor": 0,
  "metadata": {
    "colab": {
      "provenance": []
    },
    "kernelspec": {
      "name": "python3",
      "display_name": "Python 3"
    },
    "language_info": {
      "name": "python"
    }
  },
  "cells": [
    {
      "cell_type": "code",
      "execution_count": 135,
      "metadata": {
        "id": "0y-ZuXZts9Lu"
      },
      "outputs": [],
      "source": [
        "import pandas as pd\n",
        "import os\n",
        "from google.colab import drive"
      ]
    },
    {
      "cell_type": "code",
      "source": [
        "pd.set_option('display.max_columns', None)\n",
        "# display.[max_categories, max_columns, max_colwidth, max_dir_items,\n",
        "#   max_info_columns, max_info_rows, max_rows, max_seq_items, memory_usage,\n",
        "#   min_rows, multi_sparse, notebook_repr_html, pprint_nest_depth, precision,\n",
        "#   show_dimensions]"
      ],
      "metadata": {
        "id": "KxiaNFK4tCuG"
      },
      "execution_count": 136,
      "outputs": []
    },
    {
      "cell_type": "code",
      "source": [
        "path = './drive/MyDrive/Colab Notebooks/'"
      ],
      "metadata": {
        "id": "3XRKqf9gtEYO"
      },
      "execution_count": null,
      "outputs": []
    },
    {
      "cell_type": "code",
      "source": [
        "# 나의 구글 드라이브 연결\n",
        "drive.mount(\"/content/drive\")"
      ],
      "metadata": {
        "colab": {
          "base_uri": "https://localhost:8080/"
        },
        "id": "4pDBp2F6uv5C",
        "outputId": "bf0e0690-3900-41a5-9fe4-e5b4d698cea3"
      },
      "execution_count": null,
      "outputs": [
        {
          "output_type": "stream",
          "name": "stdout",
          "text": [
            "Mounted at /content/drive\n"
          ]
        }
      ]
    },
    {
      "cell_type": "markdown",
      "source": [
        "# 데이터 불러오기"
      ],
      "metadata": {
        "id": "xAKWS_Av06pS"
      }
    },
    {
      "cell_type": "code",
      "source": [
        "# 둘레길 관심인구 정보\n",
        "df1 = pd.read_csv(path + \"FPL010101.csv\")\n",
        "# 둘레길 주변관광 이용자 정보\n",
        "df2 = pd.read_csv(path + \"FPL010401.csv\")\n",
        "# 둘레길 선호 관광 장소\n",
        "df3 = pd.read_csv(path + \"FPL010501.csv\")\n",
        "# 둘레길 관심인구 관심사/관심분야 (포털 검색 분야) 정보\n",
        "df4 = pd.read_csv(path + \"FPL010801.csv\")\n",
        "# 둘레길 관심인구 라이프스타일 (온라인쇼핑몰 이용 카테고리 정보)\n",
        "df5 = pd.read_csv(path + \"FPL010901.csv\")\n",
        "\n",
        "# 등산로 관심인구 정보\n",
        "df6 = pd.read_csv(path + \"FPL020101.csv\")\n",
        "# 등산로 선호 관광 장소\n",
        "df7 = pd.read_csv(path + \"FPL020501.csv\")\n",
        "# 등산로 관심인구 관심사/관심분야 (포털 검색 분야) 정보\n",
        "df8 = pd.read_csv(path + \"FPL020801.csv\")\n",
        "\n",
        "# 국립공원 관심인구 정보\n",
        "df9 = pd.read_csv(path + \"FPL030101.csv\")\n",
        "# 국립공원 관심인구 라이프스타일 (온라인쇼핑몰 이용 카테고리 정보)\n",
        "df10 = pd.read_csv(path + \"FPL030701.csv\")\n",
        "\n",
        "# 자전거코스/자전거길 관심인구 정보\n",
        "df11 = pd.read_csv(path + \"FPL040101.csv\")\n",
        "# 자전거코스/자전거길 관심인구 자전거용품 검색 정보\n",
        "df12 = pd.read_csv(path + \"FPL040401.csv\")\n",
        "\n",
        "# 산림치유원 관심인구 선호 산림치유원 검색 정보\n",
        "df13 = pd.read_csv(path + \"FPL050201.csv\")\n",
        "# 산림체험 관심인구 정보\n",
        "df14 = pd.read_csv(path + \"FPL060101.csv\")\n",
        "# 산림체험 관심인구 선호 산림체험장소 검색 정보\n",
        "df15 = pd.read_csv(path + \"FPL060201.csv\")\n",
        "# 산림체험 관심인구 선호 산림체험 프로그램 검색 정보\n",
        "df16 = pd.read_csv(path + \"FPL060301.csv\")\n",
        "\n",
        "# 산림치유 관심인구 라이프스타일 (온라인쇼핑몰 검색/구매 카테고리) 정보\n",
        "df17 = pd.read_csv(path + \"FPL060501.csv\")\n",
        "\n",
        "# 귀산촌 관심인구 정보\n",
        "df18 = pd.read_csv(path + \"FPL070101.csv\")\n",
        "\n",
        "# 산림재해 관심인구 정보\n",
        "df19 = pd.read_csv(path + \"FPL080101.csv\")\n",
        "# 산림대피소 관심인구 정보\n",
        "df20 = pd.read_csv(path + \"FPL080201.csv\")\n",
        "# 산림재해 관심인구 관심지역 검색정보\n",
        "df21 = pd.read_csv(path + \"FPL080301.csv\")\n",
        "# 산림재해 연관 검색 키워드를 검색한 관심인구 정보\n",
        "df22 = pd.read_csv(path + \"FPL080401.csv\")\n",
        "\n",
        "# 전국 국립공원 등산로 이용자 분류(성/연령)별 평균 칼로리 소모량 정보\n",
        "df23 = pd.read_csv(path + \"PARK_KCAL.csv\")"
      ],
      "metadata": {
        "id": "900CO4-stGEi"
      },
      "execution_count": null,
      "outputs": []
    },
    {
      "cell_type": "markdown",
      "source": [
        "# 둘레길[circumference trekking way]\n",
        "> 거주 지역, 명소 따위의 주변에 난 길을 말한다.산책을 위한 길이 일반적이다.\n",
        "\n",
        "### df1 : 둘레길 관심인구 정보 (Total : 44,373)\n",
        "\n",
        "|순위| 1 | 2 | 3 | 4 | 5 |\n",
        "|--|--|--|--|--|--|\n",
        "|둘레길 | 서울 둘레길 | 영남 알프스 | 지리산 둘레길 | 북한산 둘레길 | 영덕 블루로드 |\n",
        "|거주지23| 서울 | 경기 | 부산 | 인천 | 대구 |\n",
        "|거주지456| 서울 | 경기 | 인천 | 부산 | 대구 |\n",
        "\n",
        "\n",
        "|Age|관심인구|Car|job|\n",
        "|--|--|--|--|\n",
        "|2-30|17,936(40.4%)|5,143(28.7%)|7,390(41.2%)|\n",
        "|20|5,417(12.2%)|554(3.1%)|1,172(6.5%)|\n",
        "|30|12,499(28.2%)|4,589(25.6%)|6,218(34.7%)|\n",
        "\n",
        "---\n",
        "\n",
        "### df2 : 둘레길 주변관광 이용자 정보 (Total : 9,468)\n",
        "### df3 : 둘레길 선호 관광 장소\n",
        "\n",
        "|순위| 1 | 2 | 3 | 4 | 5 |\n",
        "|--|--|--|--|--|--|\n",
        "|거주지 23| 서울 | 경기 | 부산 | 인천 | 대구 |\n",
        "|주변관광 23 | 울릉도 | 해운대 | 남원 | 안면도 | 죽도 |\n",
        "|주변관광 2 | 울릉도 | 해운대 | 죽도 | 남원 | 한탄강 |\n",
        "|주변관광 3 | 해운대 | 울릉도 | 남원 | 안면도 | 태종대 |\n",
        "||||||\n",
        "|거주지 45| 서울 | 경기 | 인천 | 부산 | 대구 |\n",
        "|주변관광 45 | 해운대 | 울릉도 | 남원 | 안면도 | 한탄강 |\n",
        "\n",
        "`[2-30] 여 : 2,381(58.3%), 남 : 1,705(41.7%)`\n",
        "\n",
        "\n",
        "|Age|이용인구|Car|job|\n",
        "|--|--|--|--|\n",
        "|2-30|4,086(43.2%)|1,275(31.2%)|943(23.1%)|\n",
        "|20|1,204(12.7%)|130(3.2%)|397(9.7%)|\n",
        "|30|2,882(30.4%)|1,145(28.0%)|546(13.4%)|\n",
        "\n",
        "---\n",
        "\n",
        "### df4 : 둘레길 관심인구 관심사/관심분야 (포털 검색 분야) 정보 (Total : 156,516)\n",
        "\n",
        "|순위| 1 | 2 | 3 | 4 | 5 |\n",
        "|--|--|--|--|--|--|\n",
        "|거주지 23| 서울 | 경기 | 인천 | 경남 | 대구 |\n",
        "|주요 관심 23(서울) | TV연예 | 사회 | 스포츠 | 경제 | 정치 |\n",
        "|거주지 2| 경기 | 서울 | 부산 | 인천 | 경북 |\n",
        "|주요 관심 2(경기) | 사회 | 정치 | TV연예 | 스포츠 | 정치 |\n",
        "|거주지 3| 서울 | 경기 | 인천 | 경남 | 대구 |\n",
        "|주요 관심 3(서울) | TV연예 | 사회 | 스포츠 | 경제 | 정치 |\n",
        "\n",
        "`[2-30] 여 : 38,858(59.8%), 남 : 26,154(40.2%)`\n",
        "\n",
        "|Age|관심인구|Car|job|\n",
        "|--|--|--|--|\n",
        "|2-30|65,012(41.5%)|25,614(39.4%)|33,350(51.3%)|\n",
        "|20|14,883(9.5%)|3,167(4.9%)|4,039(6.2%)|\n",
        "|30|50,129(32.0%)|22,447(34.5%)|27,469(42.3%)|\n",
        "\n",
        "---\n",
        "\n",
        "### df5 : 둘레길 관심인구 라이프스타일 (온라인쇼핑몰 이용 카테고리 정보) (Total : 68,606)\n",
        "\n",
        "|순위| 1 | 2 | 3 | 4 | 5 |\n",
        "|--|--|--|--|--|--|\n",
        "|거주지 23| 서울 | 경기 | 부산 | 대구 | 인천 |\n",
        "|관심 카데고리 23(서울) | 식품/건강 | 패션의류 | 생활/주방 | 뷰티 | 패션잡화 |\n",
        "|거주지 2| 부산 | 서울 | 경기 | 인천 | 대구 |\n",
        "|관심 카데고리 2(부산) | 패션의류 | 패션잡화 | 식품/건강 | 뷰티 | 디지털/가전 |\n",
        "|거주지 3| 서울 | 경기 | 대구 | 인천 | 부산 |\n",
        "|관심 카데고리 3(서울) | 식품/건강 | 패션의류 | 생활/주방 | 뷰티 |\n",
        "\n",
        "`[2-30] 여 : 21,268(65.9%), 남 : 1102(34.1%)`\n",
        "\n",
        "|Age|관심인구|Car|job|\n",
        "|--|--|--|--|\n",
        "|2-30|32,292(47.1%)|10,957(33.9%)|16,129(49.9%)|\n",
        "|20|8,887(13.0%)|647(2.0%)|3,851(11.9%)|\n",
        "|30|23,405(34.1%)|10,310(31.9%)|12,278(38.0%)|"
      ],
      "metadata": {
        "id": "om6m2vDtvcAD"
      }
    },
    {
      "cell_type": "markdown",
      "source": [
        "1. 부모랑 같이 살아서  \n",
        "2. 부모랑 같이 가서  \n",
        "3. 자동차 외에는 교통수단 제외(오토바이)\n",
        "4. 해외가 부담이여서"
      ],
      "metadata": {
        "id": "eiRxhrynYlf9"
      }
    },
    {
      "cell_type": "markdown",
      "source": [
        "---\n",
        "---\n",
        "# 둘레길 관심인구"
      ],
      "metadata": {
        "id": "UiL9NghznLts"
      }
    },
    {
      "cell_type": "code",
      "source": [
        "# Total : 44,373\n",
        "# df1[(df1['연령'] == 2) | (df1['연령'] ==  3)]\n",
        "df1_23 = df1[df1['연령'].isin([2, 3])]     # 17,916, 40.4%\n",
        "df1_2 = df1[(df1['연령'] == 2)]            #  5,417, 12.2%\n",
        "df1_3 = df1[(df1['연령'] == 3)]            # 12,499, 28.2%\n",
        "df1_456 = df1[df1['연령'].isin([4, 5, 6])] # 26,457, 59.6%"
      ],
      "metadata": {
        "id": "UV31QRX1t8nC"
      },
      "execution_count": null,
      "outputs": []
    },
    {
      "cell_type": "code",
      "source": [
        "df1_23.head()"
      ],
      "metadata": {
        "colab": {
          "base_uri": "https://localhost:8080/",
          "height": 354
        },
        "id": "yZHpHcnkCKoA",
        "outputId": "55305ae4-4eb6-4c53-8f89-c6a88d0e9765"
      },
      "execution_count": null,
      "outputs": [
        {
          "output_type": "execute_result",
          "data": {
            "text/plain": [
              "         길                                        사이트제목 성별  연령  \\\n",
              "6    영남알프스           영남알프스 간월재 쉽게 가는법 사진찍기좋은곳 : 네이버 블로그  M   2   \n",
              "7    영남알프스      울산 억새 간월재 영남알프스 옷차림 가는방법 후기까지 : 네이버 블로그  F   2   \n",
              "9   금오도비렁길  여수 금오도 여행. 금오도 비렁길 3코스.1박2일. 펜션숙박 : 네이버 블로그  F   3   \n",
              "14     다산길                        파주시 연다산길 62 - Daum 검색  F   2   \n",
              "15     둘레길                         태안 학암포 둘레길 - Daum 검색  F   3   \n",
              "\n",
              "                        직업         소득      결혼          자녀   주거  시도     구  \\\n",
              "6                      NaN        NaN                      NaN  서울   송파구   \n",
              "7                      NaN        NaN                      NaN  서울  동대문구   \n",
              "9                      NaN        NaN                      NaN  경기  의정부시   \n",
              "14  사무직 (일반사무직, 공무원, 직업군인)  100~199만원     아니오              기타   충남   논산시   \n",
              "15                     NaN        NaN                      NaN  인천    중구   \n",
              "\n",
              "       동             자동차  \n",
              "6    문정동             NaN  \n",
              "7   전농2동             NaN  \n",
              "9    낙양동             NaN  \n",
              "14    내동  경차 (모닝, 스파크 등)  \n",
              "15   운서동             NaN  "
            ],
            "text/html": [
              "\n",
              "  <div id=\"df-b511d845-47f9-4292-a303-cf168370890b\">\n",
              "    <div class=\"colab-df-container\">\n",
              "      <div>\n",
              "<style scoped>\n",
              "    .dataframe tbody tr th:only-of-type {\n",
              "        vertical-align: middle;\n",
              "    }\n",
              "\n",
              "    .dataframe tbody tr th {\n",
              "        vertical-align: top;\n",
              "    }\n",
              "\n",
              "    .dataframe thead th {\n",
              "        text-align: right;\n",
              "    }\n",
              "</style>\n",
              "<table border=\"1\" class=\"dataframe\">\n",
              "  <thead>\n",
              "    <tr style=\"text-align: right;\">\n",
              "      <th></th>\n",
              "      <th>길</th>\n",
              "      <th>사이트제목</th>\n",
              "      <th>성별</th>\n",
              "      <th>연령</th>\n",
              "      <th>직업</th>\n",
              "      <th>소득</th>\n",
              "      <th>결혼</th>\n",
              "      <th>자녀</th>\n",
              "      <th>주거</th>\n",
              "      <th>시도</th>\n",
              "      <th>구</th>\n",
              "      <th>동</th>\n",
              "      <th>자동차</th>\n",
              "    </tr>\n",
              "  </thead>\n",
              "  <tbody>\n",
              "    <tr>\n",
              "      <th>6</th>\n",
              "      <td>영남알프스</td>\n",
              "      <td>영남알프스 간월재 쉽게 가는법 사진찍기좋은곳 : 네이버 블로그</td>\n",
              "      <td>M</td>\n",
              "      <td>2</td>\n",
              "      <td>NaN</td>\n",
              "      <td>NaN</td>\n",
              "      <td></td>\n",
              "      <td></td>\n",
              "      <td>NaN</td>\n",
              "      <td>서울</td>\n",
              "      <td>송파구</td>\n",
              "      <td>문정동</td>\n",
              "      <td>NaN</td>\n",
              "    </tr>\n",
              "    <tr>\n",
              "      <th>7</th>\n",
              "      <td>영남알프스</td>\n",
              "      <td>울산 억새 간월재 영남알프스 옷차림 가는방법 후기까지 : 네이버 블로그</td>\n",
              "      <td>F</td>\n",
              "      <td>2</td>\n",
              "      <td>NaN</td>\n",
              "      <td>NaN</td>\n",
              "      <td></td>\n",
              "      <td></td>\n",
              "      <td>NaN</td>\n",
              "      <td>서울</td>\n",
              "      <td>동대문구</td>\n",
              "      <td>전농2동</td>\n",
              "      <td>NaN</td>\n",
              "    </tr>\n",
              "    <tr>\n",
              "      <th>9</th>\n",
              "      <td>금오도비렁길</td>\n",
              "      <td>여수 금오도 여행. 금오도 비렁길 3코스.1박2일. 펜션숙박 : 네이버 블로그</td>\n",
              "      <td>F</td>\n",
              "      <td>3</td>\n",
              "      <td>NaN</td>\n",
              "      <td>NaN</td>\n",
              "      <td></td>\n",
              "      <td></td>\n",
              "      <td>NaN</td>\n",
              "      <td>경기</td>\n",
              "      <td>의정부시</td>\n",
              "      <td>낙양동</td>\n",
              "      <td>NaN</td>\n",
              "    </tr>\n",
              "    <tr>\n",
              "      <th>14</th>\n",
              "      <td>다산길</td>\n",
              "      <td>파주시 연다산길 62 - Daum 검색</td>\n",
              "      <td>F</td>\n",
              "      <td>2</td>\n",
              "      <td>사무직 (일반사무직, 공무원, 직업군인)</td>\n",
              "      <td>100~199만원</td>\n",
              "      <td>아니오</td>\n",
              "      <td></td>\n",
              "      <td>기타</td>\n",
              "      <td>충남</td>\n",
              "      <td>논산시</td>\n",
              "      <td>내동</td>\n",
              "      <td>경차 (모닝, 스파크 등)</td>\n",
              "    </tr>\n",
              "    <tr>\n",
              "      <th>15</th>\n",
              "      <td>둘레길</td>\n",
              "      <td>태안 학암포 둘레길 - Daum 검색</td>\n",
              "      <td>F</td>\n",
              "      <td>3</td>\n",
              "      <td>NaN</td>\n",
              "      <td>NaN</td>\n",
              "      <td></td>\n",
              "      <td></td>\n",
              "      <td>NaN</td>\n",
              "      <td>인천</td>\n",
              "      <td>중구</td>\n",
              "      <td>운서동</td>\n",
              "      <td>NaN</td>\n",
              "    </tr>\n",
              "  </tbody>\n",
              "</table>\n",
              "</div>\n",
              "      <button class=\"colab-df-convert\" onclick=\"convertToInteractive('df-b511d845-47f9-4292-a303-cf168370890b')\"\n",
              "              title=\"Convert this dataframe to an interactive table.\"\n",
              "              style=\"display:none;\">\n",
              "        \n",
              "  <svg xmlns=\"http://www.w3.org/2000/svg\" height=\"24px\"viewBox=\"0 0 24 24\"\n",
              "       width=\"24px\">\n",
              "    <path d=\"M0 0h24v24H0V0z\" fill=\"none\"/>\n",
              "    <path d=\"M18.56 5.44l.94 2.06.94-2.06 2.06-.94-2.06-.94-.94-2.06-.94 2.06-2.06.94zm-11 1L8.5 8.5l.94-2.06 2.06-.94-2.06-.94L8.5 2.5l-.94 2.06-2.06.94zm10 10l.94 2.06.94-2.06 2.06-.94-2.06-.94-.94-2.06-.94 2.06-2.06.94z\"/><path d=\"M17.41 7.96l-1.37-1.37c-.4-.4-.92-.59-1.43-.59-.52 0-1.04.2-1.43.59L10.3 9.45l-7.72 7.72c-.78.78-.78 2.05 0 2.83L4 21.41c.39.39.9.59 1.41.59.51 0 1.02-.2 1.41-.59l7.78-7.78 2.81-2.81c.8-.78.8-2.07 0-2.86zM5.41 20L4 18.59l7.72-7.72 1.47 1.35L5.41 20z\"/>\n",
              "  </svg>\n",
              "      </button>\n",
              "      \n",
              "  <style>\n",
              "    .colab-df-container {\n",
              "      display:flex;\n",
              "      flex-wrap:wrap;\n",
              "      gap: 12px;\n",
              "    }\n",
              "\n",
              "    .colab-df-convert {\n",
              "      background-color: #E8F0FE;\n",
              "      border: none;\n",
              "      border-radius: 50%;\n",
              "      cursor: pointer;\n",
              "      display: none;\n",
              "      fill: #1967D2;\n",
              "      height: 32px;\n",
              "      padding: 0 0 0 0;\n",
              "      width: 32px;\n",
              "    }\n",
              "\n",
              "    .colab-df-convert:hover {\n",
              "      background-color: #E2EBFA;\n",
              "      box-shadow: 0px 1px 2px rgba(60, 64, 67, 0.3), 0px 1px 3px 1px rgba(60, 64, 67, 0.15);\n",
              "      fill: #174EA6;\n",
              "    }\n",
              "\n",
              "    [theme=dark] .colab-df-convert {\n",
              "      background-color: #3B4455;\n",
              "      fill: #D2E3FC;\n",
              "    }\n",
              "\n",
              "    [theme=dark] .colab-df-convert:hover {\n",
              "      background-color: #434B5C;\n",
              "      box-shadow: 0px 1px 3px 1px rgba(0, 0, 0, 0.15);\n",
              "      filter: drop-shadow(0px 1px 2px rgba(0, 0, 0, 0.3));\n",
              "      fill: #FFFFFF;\n",
              "    }\n",
              "  </style>\n",
              "\n",
              "      <script>\n",
              "        const buttonEl =\n",
              "          document.querySelector('#df-b511d845-47f9-4292-a303-cf168370890b button.colab-df-convert');\n",
              "        buttonEl.style.display =\n",
              "          google.colab.kernel.accessAllowed ? 'block' : 'none';\n",
              "\n",
              "        async function convertToInteractive(key) {\n",
              "          const element = document.querySelector('#df-b511d845-47f9-4292-a303-cf168370890b');\n",
              "          const dataTable =\n",
              "            await google.colab.kernel.invokeFunction('convertToInteractive',\n",
              "                                                     [key], {});\n",
              "          if (!dataTable) return;\n",
              "\n",
              "          const docLinkHtml = 'Like what you see? Visit the ' +\n",
              "            '<a target=\"_blank\" href=https://colab.research.google.com/notebooks/data_table.ipynb>data table notebook</a>'\n",
              "            + ' to learn more about interactive tables.';\n",
              "          element.innerHTML = '';\n",
              "          dataTable['output_type'] = 'display_data';\n",
              "          await google.colab.output.renderOutput(dataTable, element);\n",
              "          const docLink = document.createElement('div');\n",
              "          docLink.innerHTML = docLinkHtml;\n",
              "          element.appendChild(docLink);\n",
              "        }\n",
              "      </script>\n",
              "    </div>\n",
              "  </div>\n",
              "  "
            ]
          },
          "metadata": {},
          "execution_count": 109
        }
      ]
    },
    {
      "cell_type": "code",
      "source": [
        "df1_23['성별'].value_counts() # 0.3% 차이"
      ],
      "metadata": {
        "colab": {
          "base_uri": "https://localhost:8080/"
        },
        "id": "1YUYo0IJDyLt",
        "outputId": "f27780d0-bfd8-4cf4-e249-d9f4bc3d4c44"
      },
      "execution_count": null,
      "outputs": [
        {
          "output_type": "execute_result",
          "data": {
            "text/plain": [
              "F    9092\n",
              "M    8824\n",
              "Name: 성별, dtype: int64"
            ]
          },
          "metadata": {},
          "execution_count": 127
        }
      ]
    },
    {
      "cell_type": "code",
      "source": [
        "df1_23['직업'].notnull().sum(), df1_23['소득'].notnull().sum()"
      ],
      "metadata": {
        "colab": {
          "base_uri": "https://localhost:8080/"
        },
        "id": "kGwbriHbCdTb",
        "outputId": "44d291d0-623f-4b86-d7c4-fff6a083474a"
      },
      "execution_count": null,
      "outputs": [
        {
          "output_type": "execute_result",
          "data": {
            "text/plain": [
              "(10492, 10480)"
            ]
          },
          "metadata": {},
          "execution_count": 125
        }
      ]
    },
    {
      "cell_type": "code",
      "source": [
        "df1_23['직업'].value_counts() # 무직, 학생, 퇴직/연금생활자, 주부"
      ],
      "metadata": {
        "colab": {
          "base_uri": "https://localhost:8080/"
        },
        "id": "6pzr_dAWc1Mr",
        "outputId": "ea538df5-0318-486b-e89a-1445570a2cc6"
      },
      "execution_count": 217,
      "outputs": [
        {
          "output_type": "execute_result",
          "data": {
            "text/plain": [
              "사무직 (일반사무직, 공무원, 직업군인)             3761\n",
              "주부 (전업주부, 파트타임 근무 주부)              1239\n",
              "학생 (초중고학생, 대학생, 대학원생)              1179\n",
              "전문직 (의사, 판검사, 예술가, 종교인)             913\n",
              "무직                                  671\n",
              "교직 (교사, 유치원교사, 학원강사)                589\n",
              "서비스직 (요식업, 숙박업, 미용실종업원)             497\n",
              "생산/노무직 (생산감독, 경비원, 공장근로자)           415\n",
              "기타                                  343\n",
              "자영업 (도소매업, 숙박업, 미용업)                295\n",
              "기능직 (자동차정비, 운전기사, 안경사, 택시기사)        224\n",
              "판매직 (상점점원, 보험설계사, 노점상)              217\n",
              "관리직 (사장, 간부, 고위공무원)                 108\n",
              "농/축/광/수산업 (축산, 낙농업, 수산, 임업, 광업)      28\n",
              "퇴직/연금생활자                             13\n",
              "Name: 직업, dtype: int64"
            ]
          },
          "metadata": {},
          "execution_count": 217
        }
      ]
    },
    {
      "cell_type": "code",
      "source": [
        "df1_23['길'].value_counts()[:10]"
      ],
      "metadata": {
        "colab": {
          "base_uri": "https://localhost:8080/"
        },
        "id": "OoHzAkUK5Q6O",
        "outputId": "bcf099b9-0464-44fe-ab02-ba637f95fb8c"
      },
      "execution_count": null,
      "outputs": [
        {
          "output_type": "execute_result",
          "data": {
            "text/plain": [
              "둘레길       7663\n",
              "서울둘레길     1541\n",
              "영남알프스     1163\n",
              "지리산둘레길     948\n",
              "북한산둘레길     706\n",
              "영덕블루로드     486\n",
              "횡성호수길      423\n",
              "대부해솔길      380\n",
              "남해바래길      357\n",
              "제주올레길      317\n",
              "Name: 길, dtype: int64"
            ]
          },
          "metadata": {},
          "execution_count": 77
        }
      ]
    },
    {
      "cell_type": "code",
      "source": [
        "df1_2['자동차'].value_counts().sum(), round(df1_2['자동차'].value_counts().sum() / len(df1_23) * 100, 1)"
      ],
      "metadata": {
        "colab": {
          "base_uri": "https://localhost:8080/"
        },
        "id": "2HOgoydpCED1",
        "outputId": "b82bdabc-e0f3-47e8-d677-99c08a2f6032"
      },
      "execution_count": 225,
      "outputs": [
        {
          "output_type": "execute_result",
          "data": {
            "text/plain": [
              "(554, 3.1)"
            ]
          },
          "metadata": {},
          "execution_count": 225
        }
      ]
    },
    {
      "cell_type": "code",
      "source": [
        "len(df1_23), df1_23['시도'].value_counts().sum() # 0.76% -> 기입을 안했다."
      ],
      "metadata": {
        "colab": {
          "base_uri": "https://localhost:8080/"
        },
        "id": "ciiW_DRwKecw",
        "outputId": "87ce78fd-8aed-459a-f4e7-d2c134d12625"
      },
      "execution_count": 149,
      "outputs": [
        {
          "output_type": "execute_result",
          "data": {
            "text/plain": [
              "(17916, 17780)"
            ]
          },
          "metadata": {},
          "execution_count": 149
        }
      ]
    },
    {
      "cell_type": "code",
      "source": [
        "df1_23['시도'].value_counts()"
      ],
      "metadata": {
        "colab": {
          "base_uri": "https://localhost:8080/"
        },
        "id": "SI0uhGFEKjJQ",
        "outputId": "553401ff-3556-41b1-aae0-c55008f4358a"
      },
      "execution_count": 145,
      "outputs": [
        {
          "output_type": "execute_result",
          "data": {
            "text/plain": [
              "서울    6137\n",
              "경기    4404\n",
              "부산    1097\n",
              "인천    1068\n",
              "대구     775\n",
              "경남     678\n",
              "대전     596\n",
              "경북     501\n",
              "광주     442\n",
              "충남     425\n",
              "충북     401\n",
              "전북     350\n",
              "울산     306\n",
              "강원     286\n",
              "전남     239\n",
              "제주      75\n",
              "Name: 시도, dtype: int64"
            ]
          },
          "metadata": {},
          "execution_count": 145
        }
      ]
    },
    {
      "cell_type": "code",
      "source": [
        "df1_23[~df1_23['결혼'].str.contains(\"예|아니오\")]"
      ],
      "metadata": {
        "colab": {
          "base_uri": "https://localhost:8080/",
          "height": 424
        },
        "id": "Yx1n2E0c9PtW",
        "outputId": "e29466f1-fbbc-4596-80a1-233b8c75f36b"
      },
      "execution_count": null,
      "outputs": [
        {
          "output_type": "execute_result",
          "data": {
            "text/plain": [
              "            길                                              사이트제목 성별  연령   직업  \\\n",
              "6       영남알프스                 영남알프스 간월재 쉽게 가는법 사진찍기좋은곳 : 네이버 블로그  M   2  NaN   \n",
              "7       영남알프스            울산 억새 간월재 영남알프스 옷차림 가는방법 후기까지 : 네이버 블로그  F   2  NaN   \n",
              "9      금오도비렁길        여수 금오도 여행. 금오도 비렁길 3코스.1박2일. 펜션숙박 : 네이버 블로그  F   3  NaN   \n",
              "15        둘레길                               태안 학암포 둘레길 - Daum 검색  F   3  NaN   \n",
              "17      영남알프스    울산 울주군 반석촌 토종닭백숙 계곡 울산백숙 울산계곡백숙 영남알프스 : 네이버 블로그  F   2  NaN   \n",
              "...       ...                                                ... ..  ..  ...   \n",
              "44326  지리산둘레길                                   지리산 둘레길 소소게스트하우스  M   2  NaN   \n",
              "44327     둘레길                               자유게시판 글쓰기 | 마검포둘레길펜션  M   3  NaN   \n",
              "44330     둘레길                               북한산우이역둘레길 : 네이버 통합검색  M   2  NaN   \n",
              "44337     둘레길                        이천 산수유 축제와 둘레길 걷기 : 네이버 블로그  M   2  NaN   \n",
              "44349  지리산둘레길  '스페인 하숙' 차배진 지리산 둘레길서 산책...마늘 안까니까 손이 근질근질해 ::...  F   2  NaN   \n",
              "\n",
              "        소득      결혼          자녀   주거  시도        구     동  자동차  \n",
              "6      NaN                      NaN  서울      송파구   문정동  NaN  \n",
              "7      NaN                      NaN  서울     동대문구  전농2동  NaN  \n",
              "9      NaN                      NaN  경기     의정부시   낙양동  NaN  \n",
              "15     NaN                      NaN  인천       중구   운서동  NaN  \n",
              "17     NaN                      NaN  경기      김포시   사우동  NaN  \n",
              "...    ...     ...         ...  ...  ..      ...   ...  ...  \n",
              "44326  NaN                      NaN  서울      강남구  개포1동  NaN  \n",
              "44327  NaN                      NaN  충북  청주시 상당구  용암1동  NaN  \n",
              "44330  NaN                      NaN  경기      광명시   철산동  NaN  \n",
              "44337  NaN                      NaN  경남      거제시   아주동  NaN  \n",
              "44349  NaN                      NaN  전북      군산시   해망동  NaN  \n",
              "\n",
              "[7433 rows x 13 columns]"
            ],
            "text/html": [
              "\n",
              "  <div id=\"df-c6c1d34a-6f59-430a-94de-f3b263a29406\">\n",
              "    <div class=\"colab-df-container\">\n",
              "      <div>\n",
              "<style scoped>\n",
              "    .dataframe tbody tr th:only-of-type {\n",
              "        vertical-align: middle;\n",
              "    }\n",
              "\n",
              "    .dataframe tbody tr th {\n",
              "        vertical-align: top;\n",
              "    }\n",
              "\n",
              "    .dataframe thead th {\n",
              "        text-align: right;\n",
              "    }\n",
              "</style>\n",
              "<table border=\"1\" class=\"dataframe\">\n",
              "  <thead>\n",
              "    <tr style=\"text-align: right;\">\n",
              "      <th></th>\n",
              "      <th>길</th>\n",
              "      <th>사이트제목</th>\n",
              "      <th>성별</th>\n",
              "      <th>연령</th>\n",
              "      <th>직업</th>\n",
              "      <th>소득</th>\n",
              "      <th>결혼</th>\n",
              "      <th>자녀</th>\n",
              "      <th>주거</th>\n",
              "      <th>시도</th>\n",
              "      <th>구</th>\n",
              "      <th>동</th>\n",
              "      <th>자동차</th>\n",
              "    </tr>\n",
              "  </thead>\n",
              "  <tbody>\n",
              "    <tr>\n",
              "      <th>6</th>\n",
              "      <td>영남알프스</td>\n",
              "      <td>영남알프스 간월재 쉽게 가는법 사진찍기좋은곳 : 네이버 블로그</td>\n",
              "      <td>M</td>\n",
              "      <td>2</td>\n",
              "      <td>NaN</td>\n",
              "      <td>NaN</td>\n",
              "      <td></td>\n",
              "      <td></td>\n",
              "      <td>NaN</td>\n",
              "      <td>서울</td>\n",
              "      <td>송파구</td>\n",
              "      <td>문정동</td>\n",
              "      <td>NaN</td>\n",
              "    </tr>\n",
              "    <tr>\n",
              "      <th>7</th>\n",
              "      <td>영남알프스</td>\n",
              "      <td>울산 억새 간월재 영남알프스 옷차림 가는방법 후기까지 : 네이버 블로그</td>\n",
              "      <td>F</td>\n",
              "      <td>2</td>\n",
              "      <td>NaN</td>\n",
              "      <td>NaN</td>\n",
              "      <td></td>\n",
              "      <td></td>\n",
              "      <td>NaN</td>\n",
              "      <td>서울</td>\n",
              "      <td>동대문구</td>\n",
              "      <td>전농2동</td>\n",
              "      <td>NaN</td>\n",
              "    </tr>\n",
              "    <tr>\n",
              "      <th>9</th>\n",
              "      <td>금오도비렁길</td>\n",
              "      <td>여수 금오도 여행. 금오도 비렁길 3코스.1박2일. 펜션숙박 : 네이버 블로그</td>\n",
              "      <td>F</td>\n",
              "      <td>3</td>\n",
              "      <td>NaN</td>\n",
              "      <td>NaN</td>\n",
              "      <td></td>\n",
              "      <td></td>\n",
              "      <td>NaN</td>\n",
              "      <td>경기</td>\n",
              "      <td>의정부시</td>\n",
              "      <td>낙양동</td>\n",
              "      <td>NaN</td>\n",
              "    </tr>\n",
              "    <tr>\n",
              "      <th>15</th>\n",
              "      <td>둘레길</td>\n",
              "      <td>태안 학암포 둘레길 - Daum 검색</td>\n",
              "      <td>F</td>\n",
              "      <td>3</td>\n",
              "      <td>NaN</td>\n",
              "      <td>NaN</td>\n",
              "      <td></td>\n",
              "      <td></td>\n",
              "      <td>NaN</td>\n",
              "      <td>인천</td>\n",
              "      <td>중구</td>\n",
              "      <td>운서동</td>\n",
              "      <td>NaN</td>\n",
              "    </tr>\n",
              "    <tr>\n",
              "      <th>17</th>\n",
              "      <td>영남알프스</td>\n",
              "      <td>울산 울주군 반석촌 토종닭백숙 계곡 울산백숙 울산계곡백숙 영남알프스 : 네이버 블로그</td>\n",
              "      <td>F</td>\n",
              "      <td>2</td>\n",
              "      <td>NaN</td>\n",
              "      <td>NaN</td>\n",
              "      <td></td>\n",
              "      <td></td>\n",
              "      <td>NaN</td>\n",
              "      <td>경기</td>\n",
              "      <td>김포시</td>\n",
              "      <td>사우동</td>\n",
              "      <td>NaN</td>\n",
              "    </tr>\n",
              "    <tr>\n",
              "      <th>...</th>\n",
              "      <td>...</td>\n",
              "      <td>...</td>\n",
              "      <td>...</td>\n",
              "      <td>...</td>\n",
              "      <td>...</td>\n",
              "      <td>...</td>\n",
              "      <td>...</td>\n",
              "      <td>...</td>\n",
              "      <td>...</td>\n",
              "      <td>...</td>\n",
              "      <td>...</td>\n",
              "      <td>...</td>\n",
              "      <td>...</td>\n",
              "    </tr>\n",
              "    <tr>\n",
              "      <th>44326</th>\n",
              "      <td>지리산둘레길</td>\n",
              "      <td>지리산 둘레길 소소게스트하우스</td>\n",
              "      <td>M</td>\n",
              "      <td>2</td>\n",
              "      <td>NaN</td>\n",
              "      <td>NaN</td>\n",
              "      <td></td>\n",
              "      <td></td>\n",
              "      <td>NaN</td>\n",
              "      <td>서울</td>\n",
              "      <td>강남구</td>\n",
              "      <td>개포1동</td>\n",
              "      <td>NaN</td>\n",
              "    </tr>\n",
              "    <tr>\n",
              "      <th>44327</th>\n",
              "      <td>둘레길</td>\n",
              "      <td>자유게시판 글쓰기 | 마검포둘레길펜션</td>\n",
              "      <td>M</td>\n",
              "      <td>3</td>\n",
              "      <td>NaN</td>\n",
              "      <td>NaN</td>\n",
              "      <td></td>\n",
              "      <td></td>\n",
              "      <td>NaN</td>\n",
              "      <td>충북</td>\n",
              "      <td>청주시 상당구</td>\n",
              "      <td>용암1동</td>\n",
              "      <td>NaN</td>\n",
              "    </tr>\n",
              "    <tr>\n",
              "      <th>44330</th>\n",
              "      <td>둘레길</td>\n",
              "      <td>북한산우이역둘레길 : 네이버 통합검색</td>\n",
              "      <td>M</td>\n",
              "      <td>2</td>\n",
              "      <td>NaN</td>\n",
              "      <td>NaN</td>\n",
              "      <td></td>\n",
              "      <td></td>\n",
              "      <td>NaN</td>\n",
              "      <td>경기</td>\n",
              "      <td>광명시</td>\n",
              "      <td>철산동</td>\n",
              "      <td>NaN</td>\n",
              "    </tr>\n",
              "    <tr>\n",
              "      <th>44337</th>\n",
              "      <td>둘레길</td>\n",
              "      <td>이천 산수유 축제와 둘레길 걷기 : 네이버 블로그</td>\n",
              "      <td>M</td>\n",
              "      <td>2</td>\n",
              "      <td>NaN</td>\n",
              "      <td>NaN</td>\n",
              "      <td></td>\n",
              "      <td></td>\n",
              "      <td>NaN</td>\n",
              "      <td>경남</td>\n",
              "      <td>거제시</td>\n",
              "      <td>아주동</td>\n",
              "      <td>NaN</td>\n",
              "    </tr>\n",
              "    <tr>\n",
              "      <th>44349</th>\n",
              "      <td>지리산둘레길</td>\n",
              "      <td>'스페인 하숙' 차배진 지리산 둘레길서 산책...마늘 안까니까 손이 근질근질해 ::...</td>\n",
              "      <td>F</td>\n",
              "      <td>2</td>\n",
              "      <td>NaN</td>\n",
              "      <td>NaN</td>\n",
              "      <td></td>\n",
              "      <td></td>\n",
              "      <td>NaN</td>\n",
              "      <td>전북</td>\n",
              "      <td>군산시</td>\n",
              "      <td>해망동</td>\n",
              "      <td>NaN</td>\n",
              "    </tr>\n",
              "  </tbody>\n",
              "</table>\n",
              "<p>7433 rows × 13 columns</p>\n",
              "</div>\n",
              "      <button class=\"colab-df-convert\" onclick=\"convertToInteractive('df-c6c1d34a-6f59-430a-94de-f3b263a29406')\"\n",
              "              title=\"Convert this dataframe to an interactive table.\"\n",
              "              style=\"display:none;\">\n",
              "        \n",
              "  <svg xmlns=\"http://www.w3.org/2000/svg\" height=\"24px\"viewBox=\"0 0 24 24\"\n",
              "       width=\"24px\">\n",
              "    <path d=\"M0 0h24v24H0V0z\" fill=\"none\"/>\n",
              "    <path d=\"M18.56 5.44l.94 2.06.94-2.06 2.06-.94-2.06-.94-.94-2.06-.94 2.06-2.06.94zm-11 1L8.5 8.5l.94-2.06 2.06-.94-2.06-.94L8.5 2.5l-.94 2.06-2.06.94zm10 10l.94 2.06.94-2.06 2.06-.94-2.06-.94-.94-2.06-.94 2.06-2.06.94z\"/><path d=\"M17.41 7.96l-1.37-1.37c-.4-.4-.92-.59-1.43-.59-.52 0-1.04.2-1.43.59L10.3 9.45l-7.72 7.72c-.78.78-.78 2.05 0 2.83L4 21.41c.39.39.9.59 1.41.59.51 0 1.02-.2 1.41-.59l7.78-7.78 2.81-2.81c.8-.78.8-2.07 0-2.86zM5.41 20L4 18.59l7.72-7.72 1.47 1.35L5.41 20z\"/>\n",
              "  </svg>\n",
              "      </button>\n",
              "      \n",
              "  <style>\n",
              "    .colab-df-container {\n",
              "      display:flex;\n",
              "      flex-wrap:wrap;\n",
              "      gap: 12px;\n",
              "    }\n",
              "\n",
              "    .colab-df-convert {\n",
              "      background-color: #E8F0FE;\n",
              "      border: none;\n",
              "      border-radius: 50%;\n",
              "      cursor: pointer;\n",
              "      display: none;\n",
              "      fill: #1967D2;\n",
              "      height: 32px;\n",
              "      padding: 0 0 0 0;\n",
              "      width: 32px;\n",
              "    }\n",
              "\n",
              "    .colab-df-convert:hover {\n",
              "      background-color: #E2EBFA;\n",
              "      box-shadow: 0px 1px 2px rgba(60, 64, 67, 0.3), 0px 1px 3px 1px rgba(60, 64, 67, 0.15);\n",
              "      fill: #174EA6;\n",
              "    }\n",
              "\n",
              "    [theme=dark] .colab-df-convert {\n",
              "      background-color: #3B4455;\n",
              "      fill: #D2E3FC;\n",
              "    }\n",
              "\n",
              "    [theme=dark] .colab-df-convert:hover {\n",
              "      background-color: #434B5C;\n",
              "      box-shadow: 0px 1px 3px 1px rgba(0, 0, 0, 0.15);\n",
              "      filter: drop-shadow(0px 1px 2px rgba(0, 0, 0, 0.3));\n",
              "      fill: #FFFFFF;\n",
              "    }\n",
              "  </style>\n",
              "\n",
              "      <script>\n",
              "        const buttonEl =\n",
              "          document.querySelector('#df-c6c1d34a-6f59-430a-94de-f3b263a29406 button.colab-df-convert');\n",
              "        buttonEl.style.display =\n",
              "          google.colab.kernel.accessAllowed ? 'block' : 'none';\n",
              "\n",
              "        async function convertToInteractive(key) {\n",
              "          const element = document.querySelector('#df-c6c1d34a-6f59-430a-94de-f3b263a29406');\n",
              "          const dataTable =\n",
              "            await google.colab.kernel.invokeFunction('convertToInteractive',\n",
              "                                                     [key], {});\n",
              "          if (!dataTable) return;\n",
              "\n",
              "          const docLinkHtml = 'Like what you see? Visit the ' +\n",
              "            '<a target=\"_blank\" href=https://colab.research.google.com/notebooks/data_table.ipynb>data table notebook</a>'\n",
              "            + ' to learn more about interactive tables.';\n",
              "          element.innerHTML = '';\n",
              "          dataTable['output_type'] = 'display_data';\n",
              "          await google.colab.output.renderOutput(dataTable, element);\n",
              "          const docLink = document.createElement('div');\n",
              "          docLink.innerHTML = docLinkHtml;\n",
              "          element.appendChild(docLink);\n",
              "        }\n",
              "      </script>\n",
              "    </div>\n",
              "  </div>\n",
              "  "
            ]
          },
          "metadata": {},
          "execution_count": 94
        }
      ]
    },
    {
      "cell_type": "markdown",
      "source": [
        "---\n",
        "---\n",
        "# 둘레길 주변관광 이용자 정보"
      ],
      "metadata": {
        "id": "Ltm-jv9bwwZw"
      }
    },
    {
      "cell_type": "code",
      "source": [
        "df2.head()"
      ],
      "metadata": {
        "colab": {
          "base_uri": "https://localhost:8080/",
          "height": 206
        },
        "id": "4sWnLOnMPhps",
        "outputId": "428c479f-3abb-4b86-b45d-6a973cfcf7da"
      },
      "execution_count": 238,
      "outputs": [
        {
          "output_type": "execute_result",
          "data": {
            "text/plain": [
              "      주변관광                                        사이트제목 성별  연령   직업   소득  \\\n",
              "0     왜목마을           당진당일치기 3 왜목마을 해수욕장 산책 잠깐 들리기 좋은 코스  F   2  NaN  NaN   \n",
              "1      모악산                           100대명산  모악산  84130  M   4  NaN  NaN   \n",
              "2      보덕사                                       보덕사 예산  M   4  NaN  NaN   \n",
              "3      한탄강  포천 나들이 비둘기낭폭포 / 한탄강하늘다리 / 계류리예술창고 : 네이버 블로그  F   2  NaN  NaN   \n",
              "4  증평에듀팜특구      SNS기자단 기고 해외 관광객도 즐길 충북의 명소 증평 에듀팜 관광특구  M   3  NaN  NaN   \n",
              "\n",
              "       결혼          자녀   주거  시도    구       동  자동차  \n",
              "0                      NaN  서울  강동구    명일2동  NaN  \n",
              "1                      NaN  전남  화순군     화순읍  NaN  \n",
              "2                      NaN  경기  파주시     야동동  NaN  \n",
              "3                      NaN  전북  익산시     어양동  NaN  \n",
              "4                      NaN  서울  노원구  중계2.3동  NaN  "
            ],
            "text/html": [
              "\n",
              "  <div id=\"df-d7dc0ccd-b2da-4312-82d5-ec3575d3925c\">\n",
              "    <div class=\"colab-df-container\">\n",
              "      <div>\n",
              "<style scoped>\n",
              "    .dataframe tbody tr th:only-of-type {\n",
              "        vertical-align: middle;\n",
              "    }\n",
              "\n",
              "    .dataframe tbody tr th {\n",
              "        vertical-align: top;\n",
              "    }\n",
              "\n",
              "    .dataframe thead th {\n",
              "        text-align: right;\n",
              "    }\n",
              "</style>\n",
              "<table border=\"1\" class=\"dataframe\">\n",
              "  <thead>\n",
              "    <tr style=\"text-align: right;\">\n",
              "      <th></th>\n",
              "      <th>주변관광</th>\n",
              "      <th>사이트제목</th>\n",
              "      <th>성별</th>\n",
              "      <th>연령</th>\n",
              "      <th>직업</th>\n",
              "      <th>소득</th>\n",
              "      <th>결혼</th>\n",
              "      <th>자녀</th>\n",
              "      <th>주거</th>\n",
              "      <th>시도</th>\n",
              "      <th>구</th>\n",
              "      <th>동</th>\n",
              "      <th>자동차</th>\n",
              "    </tr>\n",
              "  </thead>\n",
              "  <tbody>\n",
              "    <tr>\n",
              "      <th>0</th>\n",
              "      <td>왜목마을</td>\n",
              "      <td>당진당일치기 3 왜목마을 해수욕장 산책 잠깐 들리기 좋은 코스</td>\n",
              "      <td>F</td>\n",
              "      <td>2</td>\n",
              "      <td>NaN</td>\n",
              "      <td>NaN</td>\n",
              "      <td></td>\n",
              "      <td></td>\n",
              "      <td>NaN</td>\n",
              "      <td>서울</td>\n",
              "      <td>강동구</td>\n",
              "      <td>명일2동</td>\n",
              "      <td>NaN</td>\n",
              "    </tr>\n",
              "    <tr>\n",
              "      <th>1</th>\n",
              "      <td>모악산</td>\n",
              "      <td>100대명산  모악산  84130</td>\n",
              "      <td>M</td>\n",
              "      <td>4</td>\n",
              "      <td>NaN</td>\n",
              "      <td>NaN</td>\n",
              "      <td></td>\n",
              "      <td></td>\n",
              "      <td>NaN</td>\n",
              "      <td>전남</td>\n",
              "      <td>화순군</td>\n",
              "      <td>화순읍</td>\n",
              "      <td>NaN</td>\n",
              "    </tr>\n",
              "    <tr>\n",
              "      <th>2</th>\n",
              "      <td>보덕사</td>\n",
              "      <td>보덕사 예산</td>\n",
              "      <td>M</td>\n",
              "      <td>4</td>\n",
              "      <td>NaN</td>\n",
              "      <td>NaN</td>\n",
              "      <td></td>\n",
              "      <td></td>\n",
              "      <td>NaN</td>\n",
              "      <td>경기</td>\n",
              "      <td>파주시</td>\n",
              "      <td>야동동</td>\n",
              "      <td>NaN</td>\n",
              "    </tr>\n",
              "    <tr>\n",
              "      <th>3</th>\n",
              "      <td>한탄강</td>\n",
              "      <td>포천 나들이 비둘기낭폭포 / 한탄강하늘다리 / 계류리예술창고 : 네이버 블로그</td>\n",
              "      <td>F</td>\n",
              "      <td>2</td>\n",
              "      <td>NaN</td>\n",
              "      <td>NaN</td>\n",
              "      <td></td>\n",
              "      <td></td>\n",
              "      <td>NaN</td>\n",
              "      <td>전북</td>\n",
              "      <td>익산시</td>\n",
              "      <td>어양동</td>\n",
              "      <td>NaN</td>\n",
              "    </tr>\n",
              "    <tr>\n",
              "      <th>4</th>\n",
              "      <td>증평에듀팜특구</td>\n",
              "      <td>SNS기자단 기고 해외 관광객도 즐길 충북의 명소 증평 에듀팜 관광특구</td>\n",
              "      <td>M</td>\n",
              "      <td>3</td>\n",
              "      <td>NaN</td>\n",
              "      <td>NaN</td>\n",
              "      <td></td>\n",
              "      <td></td>\n",
              "      <td>NaN</td>\n",
              "      <td>서울</td>\n",
              "      <td>노원구</td>\n",
              "      <td>중계2.3동</td>\n",
              "      <td>NaN</td>\n",
              "    </tr>\n",
              "  </tbody>\n",
              "</table>\n",
              "</div>\n",
              "      <button class=\"colab-df-convert\" onclick=\"convertToInteractive('df-d7dc0ccd-b2da-4312-82d5-ec3575d3925c')\"\n",
              "              title=\"Convert this dataframe to an interactive table.\"\n",
              "              style=\"display:none;\">\n",
              "        \n",
              "  <svg xmlns=\"http://www.w3.org/2000/svg\" height=\"24px\"viewBox=\"0 0 24 24\"\n",
              "       width=\"24px\">\n",
              "    <path d=\"M0 0h24v24H0V0z\" fill=\"none\"/>\n",
              "    <path d=\"M18.56 5.44l.94 2.06.94-2.06 2.06-.94-2.06-.94-.94-2.06-.94 2.06-2.06.94zm-11 1L8.5 8.5l.94-2.06 2.06-.94-2.06-.94L8.5 2.5l-.94 2.06-2.06.94zm10 10l.94 2.06.94-2.06 2.06-.94-2.06-.94-.94-2.06-.94 2.06-2.06.94z\"/><path d=\"M17.41 7.96l-1.37-1.37c-.4-.4-.92-.59-1.43-.59-.52 0-1.04.2-1.43.59L10.3 9.45l-7.72 7.72c-.78.78-.78 2.05 0 2.83L4 21.41c.39.39.9.59 1.41.59.51 0 1.02-.2 1.41-.59l7.78-7.78 2.81-2.81c.8-.78.8-2.07 0-2.86zM5.41 20L4 18.59l7.72-7.72 1.47 1.35L5.41 20z\"/>\n",
              "  </svg>\n",
              "      </button>\n",
              "      \n",
              "  <style>\n",
              "    .colab-df-container {\n",
              "      display:flex;\n",
              "      flex-wrap:wrap;\n",
              "      gap: 12px;\n",
              "    }\n",
              "\n",
              "    .colab-df-convert {\n",
              "      background-color: #E8F0FE;\n",
              "      border: none;\n",
              "      border-radius: 50%;\n",
              "      cursor: pointer;\n",
              "      display: none;\n",
              "      fill: #1967D2;\n",
              "      height: 32px;\n",
              "      padding: 0 0 0 0;\n",
              "      width: 32px;\n",
              "    }\n",
              "\n",
              "    .colab-df-convert:hover {\n",
              "      background-color: #E2EBFA;\n",
              "      box-shadow: 0px 1px 2px rgba(60, 64, 67, 0.3), 0px 1px 3px 1px rgba(60, 64, 67, 0.15);\n",
              "      fill: #174EA6;\n",
              "    }\n",
              "\n",
              "    [theme=dark] .colab-df-convert {\n",
              "      background-color: #3B4455;\n",
              "      fill: #D2E3FC;\n",
              "    }\n",
              "\n",
              "    [theme=dark] .colab-df-convert:hover {\n",
              "      background-color: #434B5C;\n",
              "      box-shadow: 0px 1px 3px 1px rgba(0, 0, 0, 0.15);\n",
              "      filter: drop-shadow(0px 1px 2px rgba(0, 0, 0, 0.3));\n",
              "      fill: #FFFFFF;\n",
              "    }\n",
              "  </style>\n",
              "\n",
              "      <script>\n",
              "        const buttonEl =\n",
              "          document.querySelector('#df-d7dc0ccd-b2da-4312-82d5-ec3575d3925c button.colab-df-convert');\n",
              "        buttonEl.style.display =\n",
              "          google.colab.kernel.accessAllowed ? 'block' : 'none';\n",
              "\n",
              "        async function convertToInteractive(key) {\n",
              "          const element = document.querySelector('#df-d7dc0ccd-b2da-4312-82d5-ec3575d3925c');\n",
              "          const dataTable =\n",
              "            await google.colab.kernel.invokeFunction('convertToInteractive',\n",
              "                                                     [key], {});\n",
              "          if (!dataTable) return;\n",
              "\n",
              "          const docLinkHtml = 'Like what you see? Visit the ' +\n",
              "            '<a target=\"_blank\" href=https://colab.research.google.com/notebooks/data_table.ipynb>data table notebook</a>'\n",
              "            + ' to learn more about interactive tables.';\n",
              "          element.innerHTML = '';\n",
              "          dataTable['output_type'] = 'display_data';\n",
              "          await google.colab.output.renderOutput(dataTable, element);\n",
              "          const docLink = document.createElement('div');\n",
              "          docLink.innerHTML = docLinkHtml;\n",
              "          element.appendChild(docLink);\n",
              "        }\n",
              "      </script>\n",
              "    </div>\n",
              "  </div>\n",
              "  "
            ]
          },
          "metadata": {},
          "execution_count": 238
        }
      ]
    },
    {
      "cell_type": "code",
      "source": [
        "# Total : 9,468\n",
        "df2_23 = df2[df2['연령'].isin([2, 3])]     # 4,086, 43.2%\n",
        "df2_2 = df2[(df2['연령'] == 2)]            # 1,204, 12.7%\n",
        "df2_3 = df2[(df2['연령'] == 3)]            # 2,882, 30.4%\n",
        "df2_45 = df2[df2['연령'].isin([4, 5])]     # 5,382, 56.8%"
      ],
      "metadata": {
        "id": "6o9hCdfOPiMF"
      },
      "execution_count": 157,
      "outputs": []
    },
    {
      "cell_type": "code",
      "source": [
        "df2_23[df2_23['시도'] == \"서울\"]['주변관광'].value_counts()[:5]"
      ],
      "metadata": {
        "colab": {
          "base_uri": "https://localhost:8080/"
        },
        "id": "bso1raD_XlVu",
        "outputId": "f9f96479-3719-41b4-b293-c4da7fc50f01"
      },
      "execution_count": 180,
      "outputs": [
        {
          "output_type": "execute_result",
          "data": {
            "text/plain": [
              "해운대    56\n",
              "울릉도    47\n",
              "안면도    43\n",
              "한탄강    34\n",
              "곽지     21\n",
              "Name: 주변관광, dtype: int64"
            ]
          },
          "metadata": {},
          "execution_count": 180
        }
      ]
    },
    {
      "cell_type": "code",
      "source": [
        "df2_23['성별'].value_counts() # 16.5% 차이"
      ],
      "metadata": {
        "colab": {
          "base_uri": "https://localhost:8080/"
        },
        "id": "YPtf2G5mYz59",
        "outputId": "0e421d48-aced-4a1f-a568-fd71e40089d7"
      },
      "execution_count": 187,
      "outputs": [
        {
          "output_type": "execute_result",
          "data": {
            "text/plain": [
              "F    2381\n",
              "M    1705\n",
              "Name: 성별, dtype: int64"
            ]
          },
          "metadata": {},
          "execution_count": 187
        }
      ]
    },
    {
      "cell_type": "code",
      "source": [
        "2381 / len(df2_23['성별']) * 100 - 1705 / len(df2_23['성별']) * 100"
      ],
      "metadata": {
        "colab": {
          "base_uri": "https://localhost:8080/"
        },
        "id": "iUjO5U_cY4-g",
        "outputId": "60edc886-4e2d-4dec-e9f4-2aed05255945"
      },
      "execution_count": 189,
      "outputs": [
        {
          "output_type": "execute_result",
          "data": {
            "text/plain": [
              "16.544297601566328"
            ]
          },
          "metadata": {},
          "execution_count": 189
        }
      ]
    },
    {
      "cell_type": "code",
      "source": [
        "df2_23['직업'].notnull().sum(), df2_23['소득'].notnull().sum()"
      ],
      "metadata": {
        "colab": {
          "base_uri": "https://localhost:8080/"
        },
        "id": "b44NGtomZK2B",
        "outputId": "2e26f4db-5523-4f0a-962b-26f217c5d221"
      },
      "execution_count": 191,
      "outputs": [
        {
          "output_type": "execute_result",
          "data": {
            "text/plain": [
              "(2756, 2753)"
            ]
          },
          "metadata": {},
          "execution_count": 191
        }
      ]
    },
    {
      "cell_type": "code",
      "source": [
        "df2_23['직업'].value_counts() # 무직, 학생, 주부"
      ],
      "metadata": {
        "colab": {
          "base_uri": "https://localhost:8080/"
        },
        "id": "rezO26XqZnrk",
        "outputId": "ad69addd-c14f-45db-da74-03163b708177"
      },
      "execution_count": 194,
      "outputs": [
        {
          "output_type": "execute_result",
          "data": {
            "text/plain": [
              "사무직 (일반사무직, 공무원, 직업군인)             873\n",
              "주부 (전업주부, 파트타임 근무 주부)              428\n",
              "무직                                 292\n",
              "전문직 (의사, 판검사, 예술가, 종교인)            240\n",
              "학생 (초중고학생, 대학생, 대학원생)              223\n",
              "교직 (교사, 유치원교사, 학원강사)               188\n",
              "자영업 (도소매업, 숙박업, 미용업)               128\n",
              "서비스직 (요식업, 숙박업, 미용실종업원)            108\n",
              "판매직 (상점점원, 보험설계사, 노점상)              74\n",
              "생산/노무직 (생산감독, 경비원, 공장근로자)           74\n",
              "기타                                  61\n",
              "기능직 (자동차정비, 운전기사, 안경사, 택시기사)        42\n",
              "관리직 (사장, 간부, 고위공무원)                 19\n",
              "농/축/광/수산업 (축산, 낙농업, 수산, 임업, 광업)      6\n",
              "Name: 직업, dtype: int64"
            ]
          },
          "metadata": {},
          "execution_count": 194
        }
      ]
    },
    {
      "cell_type": "code",
      "source": [
        "df2_23['자동차'].value_counts().sum(), round(df2_23['자동차'].value_counts().sum() / len(df2_23) * 100, 1)"
      ],
      "metadata": {
        "colab": {
          "base_uri": "https://localhost:8080/"
        },
        "id": "ncbol-9XddW2",
        "outputId": "e13d3f9b-af78-4c09-e67a-289e4c05a06c"
      },
      "execution_count": 222,
      "outputs": [
        {
          "output_type": "execute_result",
          "data": {
            "text/plain": [
              "(1275, 31.2)"
            ]
          },
          "metadata": {},
          "execution_count": 222
        }
      ]
    },
    {
      "cell_type": "markdown",
      "source": [
        "---\n",
        "---\n",
        "# 둘레길 선호 관광 장소"
      ],
      "metadata": {
        "id": "R7QKTqAlllv0"
      }
    },
    {
      "cell_type": "code",
      "source": [
        "df3.head()"
      ],
      "metadata": {
        "colab": {
          "base_uri": "https://localhost:8080/",
          "height": 354
        },
        "id": "KRdryWEOll0f",
        "outputId": "a018c1b1-1646-4379-ad80-35b91fd1b53d"
      },
      "execution_count": 227,
      "outputs": [
        {
          "output_type": "execute_result",
          "data": {
            "text/plain": [
              "   선호관광                             사이트제목 성별  연령                     직업  \\\n",
              "0  구곡폭포                         구곡 폭포 나들이  F   4                    NaN   \n",
              "1   불갑사  불갑사 상사화 개화초기 풍경불갑사상사화축제 날에는 만개할듯  M   5                    NaN   \n",
              "2   신화랑          청도 가볼만한곳 신화랑풍류마을 생각보다 알차  M   3                    NaN   \n",
              "3   태조산               천안 태조산421m  흑성산519m  F   5                    NaN   \n",
              "4   복전암                        토요산행   보문산  F   3  주부 (전업주부, 파트타임 근무 주부)   \n",
              "\n",
              "          소득      결혼          자녀         주거  시도        구     동  \\\n",
              "0        NaN                            NaN  서울      도봉구   쌍문동   \n",
              "1        NaN                            NaN  경북      영천시   야사동   \n",
              "2        NaN                            NaN  부산     부산진구  전포1동   \n",
              "3        NaN                            NaN  경기  성남시 분당구  수내3동   \n",
              "4  900~999만원   예          자녀 있음   아파트/ 주상복합  충남      홍성군   홍성읍   \n",
              "\n",
              "                                자동차  \n",
              "0                               NaN  \n",
              "1                               NaN  \n",
              "2                               NaN  \n",
              "3                               NaN  \n",
              "4  준대형차 (그랜저, K7, 알페온, 캠리급, 파사트급 등)  "
            ],
            "text/html": [
              "\n",
              "  <div id=\"df-5ce05e6b-e920-47b8-9a5b-2a129d4286c6\">\n",
              "    <div class=\"colab-df-container\">\n",
              "      <div>\n",
              "<style scoped>\n",
              "    .dataframe tbody tr th:only-of-type {\n",
              "        vertical-align: middle;\n",
              "    }\n",
              "\n",
              "    .dataframe tbody tr th {\n",
              "        vertical-align: top;\n",
              "    }\n",
              "\n",
              "    .dataframe thead th {\n",
              "        text-align: right;\n",
              "    }\n",
              "</style>\n",
              "<table border=\"1\" class=\"dataframe\">\n",
              "  <thead>\n",
              "    <tr style=\"text-align: right;\">\n",
              "      <th></th>\n",
              "      <th>선호관광</th>\n",
              "      <th>사이트제목</th>\n",
              "      <th>성별</th>\n",
              "      <th>연령</th>\n",
              "      <th>직업</th>\n",
              "      <th>소득</th>\n",
              "      <th>결혼</th>\n",
              "      <th>자녀</th>\n",
              "      <th>주거</th>\n",
              "      <th>시도</th>\n",
              "      <th>구</th>\n",
              "      <th>동</th>\n",
              "      <th>자동차</th>\n",
              "    </tr>\n",
              "  </thead>\n",
              "  <tbody>\n",
              "    <tr>\n",
              "      <th>0</th>\n",
              "      <td>구곡폭포</td>\n",
              "      <td>구곡 폭포 나들이</td>\n",
              "      <td>F</td>\n",
              "      <td>4</td>\n",
              "      <td>NaN</td>\n",
              "      <td>NaN</td>\n",
              "      <td></td>\n",
              "      <td></td>\n",
              "      <td>NaN</td>\n",
              "      <td>서울</td>\n",
              "      <td>도봉구</td>\n",
              "      <td>쌍문동</td>\n",
              "      <td>NaN</td>\n",
              "    </tr>\n",
              "    <tr>\n",
              "      <th>1</th>\n",
              "      <td>불갑사</td>\n",
              "      <td>불갑사 상사화 개화초기 풍경불갑사상사화축제 날에는 만개할듯</td>\n",
              "      <td>M</td>\n",
              "      <td>5</td>\n",
              "      <td>NaN</td>\n",
              "      <td>NaN</td>\n",
              "      <td></td>\n",
              "      <td></td>\n",
              "      <td>NaN</td>\n",
              "      <td>경북</td>\n",
              "      <td>영천시</td>\n",
              "      <td>야사동</td>\n",
              "      <td>NaN</td>\n",
              "    </tr>\n",
              "    <tr>\n",
              "      <th>2</th>\n",
              "      <td>신화랑</td>\n",
              "      <td>청도 가볼만한곳 신화랑풍류마을 생각보다 알차</td>\n",
              "      <td>M</td>\n",
              "      <td>3</td>\n",
              "      <td>NaN</td>\n",
              "      <td>NaN</td>\n",
              "      <td></td>\n",
              "      <td></td>\n",
              "      <td>NaN</td>\n",
              "      <td>부산</td>\n",
              "      <td>부산진구</td>\n",
              "      <td>전포1동</td>\n",
              "      <td>NaN</td>\n",
              "    </tr>\n",
              "    <tr>\n",
              "      <th>3</th>\n",
              "      <td>태조산</td>\n",
              "      <td>천안 태조산421m  흑성산519m</td>\n",
              "      <td>F</td>\n",
              "      <td>5</td>\n",
              "      <td>NaN</td>\n",
              "      <td>NaN</td>\n",
              "      <td></td>\n",
              "      <td></td>\n",
              "      <td>NaN</td>\n",
              "      <td>경기</td>\n",
              "      <td>성남시 분당구</td>\n",
              "      <td>수내3동</td>\n",
              "      <td>NaN</td>\n",
              "    </tr>\n",
              "    <tr>\n",
              "      <th>4</th>\n",
              "      <td>복전암</td>\n",
              "      <td>토요산행   보문산</td>\n",
              "      <td>F</td>\n",
              "      <td>3</td>\n",
              "      <td>주부 (전업주부, 파트타임 근무 주부)</td>\n",
              "      <td>900~999만원</td>\n",
              "      <td>예</td>\n",
              "      <td>자녀 있음</td>\n",
              "      <td>아파트/ 주상복합</td>\n",
              "      <td>충남</td>\n",
              "      <td>홍성군</td>\n",
              "      <td>홍성읍</td>\n",
              "      <td>준대형차 (그랜저, K7, 알페온, 캠리급, 파사트급 등)</td>\n",
              "    </tr>\n",
              "  </tbody>\n",
              "</table>\n",
              "</div>\n",
              "      <button class=\"colab-df-convert\" onclick=\"convertToInteractive('df-5ce05e6b-e920-47b8-9a5b-2a129d4286c6')\"\n",
              "              title=\"Convert this dataframe to an interactive table.\"\n",
              "              style=\"display:none;\">\n",
              "        \n",
              "  <svg xmlns=\"http://www.w3.org/2000/svg\" height=\"24px\"viewBox=\"0 0 24 24\"\n",
              "       width=\"24px\">\n",
              "    <path d=\"M0 0h24v24H0V0z\" fill=\"none\"/>\n",
              "    <path d=\"M18.56 5.44l.94 2.06.94-2.06 2.06-.94-2.06-.94-.94-2.06-.94 2.06-2.06.94zm-11 1L8.5 8.5l.94-2.06 2.06-.94-2.06-.94L8.5 2.5l-.94 2.06-2.06.94zm10 10l.94 2.06.94-2.06 2.06-.94-2.06-.94-.94-2.06-.94 2.06-2.06.94z\"/><path d=\"M17.41 7.96l-1.37-1.37c-.4-.4-.92-.59-1.43-.59-.52 0-1.04.2-1.43.59L10.3 9.45l-7.72 7.72c-.78.78-.78 2.05 0 2.83L4 21.41c.39.39.9.59 1.41.59.51 0 1.02-.2 1.41-.59l7.78-7.78 2.81-2.81c.8-.78.8-2.07 0-2.86zM5.41 20L4 18.59l7.72-7.72 1.47 1.35L5.41 20z\"/>\n",
              "  </svg>\n",
              "      </button>\n",
              "      \n",
              "  <style>\n",
              "    .colab-df-container {\n",
              "      display:flex;\n",
              "      flex-wrap:wrap;\n",
              "      gap: 12px;\n",
              "    }\n",
              "\n",
              "    .colab-df-convert {\n",
              "      background-color: #E8F0FE;\n",
              "      border: none;\n",
              "      border-radius: 50%;\n",
              "      cursor: pointer;\n",
              "      display: none;\n",
              "      fill: #1967D2;\n",
              "      height: 32px;\n",
              "      padding: 0 0 0 0;\n",
              "      width: 32px;\n",
              "    }\n",
              "\n",
              "    .colab-df-convert:hover {\n",
              "      background-color: #E2EBFA;\n",
              "      box-shadow: 0px 1px 2px rgba(60, 64, 67, 0.3), 0px 1px 3px 1px rgba(60, 64, 67, 0.15);\n",
              "      fill: #174EA6;\n",
              "    }\n",
              "\n",
              "    [theme=dark] .colab-df-convert {\n",
              "      background-color: #3B4455;\n",
              "      fill: #D2E3FC;\n",
              "    }\n",
              "\n",
              "    [theme=dark] .colab-df-convert:hover {\n",
              "      background-color: #434B5C;\n",
              "      box-shadow: 0px 1px 3px 1px rgba(0, 0, 0, 0.15);\n",
              "      filter: drop-shadow(0px 1px 2px rgba(0, 0, 0, 0.3));\n",
              "      fill: #FFFFFF;\n",
              "    }\n",
              "  </style>\n",
              "\n",
              "      <script>\n",
              "        const buttonEl =\n",
              "          document.querySelector('#df-5ce05e6b-e920-47b8-9a5b-2a129d4286c6 button.colab-df-convert');\n",
              "        buttonEl.style.display =\n",
              "          google.colab.kernel.accessAllowed ? 'block' : 'none';\n",
              "\n",
              "        async function convertToInteractive(key) {\n",
              "          const element = document.querySelector('#df-5ce05e6b-e920-47b8-9a5b-2a129d4286c6');\n",
              "          const dataTable =\n",
              "            await google.colab.kernel.invokeFunction('convertToInteractive',\n",
              "                                                     [key], {});\n",
              "          if (!dataTable) return;\n",
              "\n",
              "          const docLinkHtml = 'Like what you see? Visit the ' +\n",
              "            '<a target=\"_blank\" href=https://colab.research.google.com/notebooks/data_table.ipynb>data table notebook</a>'\n",
              "            + ' to learn more about interactive tables.';\n",
              "          element.innerHTML = '';\n",
              "          dataTable['output_type'] = 'display_data';\n",
              "          await google.colab.output.renderOutput(dataTable, element);\n",
              "          const docLink = document.createElement('div');\n",
              "          docLink.innerHTML = docLinkHtml;\n",
              "          element.appendChild(docLink);\n",
              "        }\n",
              "      </script>\n",
              "    </div>\n",
              "  </div>\n",
              "  "
            ]
          },
          "metadata": {},
          "execution_count": 227
        }
      ]
    },
    {
      "cell_type": "code",
      "source": [
        "# Total : 9,468 # df2랑 같네요\n",
        "df3_23 = df3[df3['연령'].isin([2, 3])]     # 4,086, 43.2%\n",
        "df3_2 = df3[(df3['연령'] == 2)]            # 1,204, 12.7%\n",
        "df3_3 = df3[(df3['연령'] == 3)]            # 2,882, 30.4%\n",
        "df3_45 = df3[df3['연령'].isin([4, 5])]     # 5,382, 56.8%"
      ],
      "metadata": {
        "id": "1UeW61JLll2w"
      },
      "execution_count": 229,
      "outputs": []
    },
    {
      "cell_type": "code",
      "source": [
        "df3_23['자동차'].value_counts().sum(), round(df3_23['자동차'].value_counts().sum() / len(df3_23) * 100, 1)"
      ],
      "metadata": {
        "colab": {
          "base_uri": "https://localhost:8080/"
        },
        "id": "9thmJJd1ll4m",
        "outputId": "d68251bb-617a-48e3-a673-c47db2b46278"
      },
      "execution_count": 231,
      "outputs": [
        {
          "output_type": "execute_result",
          "data": {
            "text/plain": [
              "(1275, 31.2)"
            ]
          },
          "metadata": {},
          "execution_count": 231
        }
      ]
    },
    {
      "cell_type": "code",
      "source": [
        "df3_23['직업'].value_counts() # 무직, 학생, 주부"
      ],
      "metadata": {
        "colab": {
          "base_uri": "https://localhost:8080/"
        },
        "id": "dzf2gEtMll68",
        "outputId": "1ad3d14a-b098-4c60-ad80-890aa075a2fd"
      },
      "execution_count": 232,
      "outputs": [
        {
          "output_type": "execute_result",
          "data": {
            "text/plain": [
              "사무직 (일반사무직, 공무원, 직업군인)             873\n",
              "주부 (전업주부, 파트타임 근무 주부)              428\n",
              "무직                                 292\n",
              "전문직 (의사, 판검사, 예술가, 종교인)            240\n",
              "학생 (초중고학생, 대학생, 대학원생)              223\n",
              "교직 (교사, 유치원교사, 학원강사)               188\n",
              "자영업 (도소매업, 숙박업, 미용업)               128\n",
              "서비스직 (요식업, 숙박업, 미용실종업원)            108\n",
              "생산/노무직 (생산감독, 경비원, 공장근로자)           74\n",
              "판매직 (상점점원, 보험설계사, 노점상)              74\n",
              "기타                                  61\n",
              "기능직 (자동차정비, 운전기사, 안경사, 택시기사)        42\n",
              "관리직 (사장, 간부, 고위공무원)                 19\n",
              "농/축/광/수산업 (축산, 낙농업, 수산, 임업, 광업)      6\n",
              "Name: 직업, dtype: int64"
            ]
          },
          "metadata": {},
          "execution_count": 232
        }
      ]
    },
    {
      "cell_type": "code",
      "source": [
        "df3_23['성별'].value_counts() # 16.5% 차이"
      ],
      "metadata": {
        "colab": {
          "base_uri": "https://localhost:8080/"
        },
        "id": "bRfjcWYymNSr",
        "outputId": "bdb29952-f6c2-4bf3-e82a-5bceae0324ae"
      },
      "execution_count": 233,
      "outputs": [
        {
          "output_type": "execute_result",
          "data": {
            "text/plain": [
              "F    2381\n",
              "M    1705\n",
              "Name: 성별, dtype: int64"
            ]
          },
          "metadata": {},
          "execution_count": 233
        }
      ]
    },
    {
      "cell_type": "code",
      "source": [
        "df3_23['선호관광'].value_counts()[:5]"
      ],
      "metadata": {
        "colab": {
          "base_uri": "https://localhost:8080/"
        },
        "id": "aj9kQNCvmdl7",
        "outputId": "2e7420a5-53f3-40d4-8845-1d7238405d89"
      },
      "execution_count": 235,
      "outputs": [
        {
          "output_type": "execute_result",
          "data": {
            "text/plain": [
              "울릉도    268\n",
              "해운대    213\n",
              "남원     112\n",
              "안면도     84\n",
              "죽도      77\n",
              "Name: 선호관광, dtype: int64"
            ]
          },
          "metadata": {},
          "execution_count": 235
        }
      ]
    },
    {
      "cell_type": "markdown",
      "source": [
        "---\n",
        "---\n",
        "# 둘레길 관심인구 관심사/관심분야 (포털 검색 분야) 정보"
      ],
      "metadata": {
        "id": "CfJesB_Tm377"
      }
    },
    {
      "cell_type": "code",
      "source": [
        "df4.head()"
      ],
      "metadata": {
        "colab": {
          "base_uri": "https://localhost:8080/",
          "height": 206
        },
        "id": "Y0actFgAnlcW",
        "outputId": "fe062d48-0b27-4e33-98a4-81d20ca8aad0"
      },
      "execution_count": 240,
      "outputs": [
        {
          "output_type": "execute_result",
          "data": {
            "text/plain": [
              "   주요관심                     사이트제목 성별  연령                            직업  \\\n",
              "0    사회   `내기 골프 논란`... :: 네이버 뉴스  M   4                           NaN   \n",
              "1    사회            해외야구 : 네이버 스포츠  F   5                           NaN   \n",
              "2  TV연예  [단독] “VIP가 ... :: 네이버 뉴스  M   5  기능직 (자동차정비, 운전기사, 안경사, 택시기사)   \n",
              "3    경제                    네이버 뉴스  M   3        사무직 (일반사무직, 공무원, 직업군인)   \n",
              "4    사회    [단독] 음주운전... :: 네이버 뉴스  M   3                           NaN   \n",
              "\n",
              "          소득      결혼          자녀             주거  시도     구      동  자동차  \n",
              "0        NaN                                NaN  서울  영등포구  문래동3가  NaN  \n",
              "1        NaN                                NaN  경기  의정부시   신곡1동  NaN  \n",
              "2  300~399만원     아니오              연립주택/ 다세대/ 빌라  서울   종로구   창신2동  NaN  \n",
              "3  300~399만원     아니오                  아파트/ 주상복합  서울   구로구   고척2동  NaN  \n",
              "4        NaN                                NaN  경남   김해시    진영읍  NaN  "
            ],
            "text/html": [
              "\n",
              "  <div id=\"df-d1bcbae0-086f-4f03-857c-ecc1af236d4a\">\n",
              "    <div class=\"colab-df-container\">\n",
              "      <div>\n",
              "<style scoped>\n",
              "    .dataframe tbody tr th:only-of-type {\n",
              "        vertical-align: middle;\n",
              "    }\n",
              "\n",
              "    .dataframe tbody tr th {\n",
              "        vertical-align: top;\n",
              "    }\n",
              "\n",
              "    .dataframe thead th {\n",
              "        text-align: right;\n",
              "    }\n",
              "</style>\n",
              "<table border=\"1\" class=\"dataframe\">\n",
              "  <thead>\n",
              "    <tr style=\"text-align: right;\">\n",
              "      <th></th>\n",
              "      <th>주요관심</th>\n",
              "      <th>사이트제목</th>\n",
              "      <th>성별</th>\n",
              "      <th>연령</th>\n",
              "      <th>직업</th>\n",
              "      <th>소득</th>\n",
              "      <th>결혼</th>\n",
              "      <th>자녀</th>\n",
              "      <th>주거</th>\n",
              "      <th>시도</th>\n",
              "      <th>구</th>\n",
              "      <th>동</th>\n",
              "      <th>자동차</th>\n",
              "    </tr>\n",
              "  </thead>\n",
              "  <tbody>\n",
              "    <tr>\n",
              "      <th>0</th>\n",
              "      <td>사회</td>\n",
              "      <td>`내기 골프 논란`... :: 네이버 뉴스</td>\n",
              "      <td>M</td>\n",
              "      <td>4</td>\n",
              "      <td>NaN</td>\n",
              "      <td>NaN</td>\n",
              "      <td></td>\n",
              "      <td></td>\n",
              "      <td>NaN</td>\n",
              "      <td>서울</td>\n",
              "      <td>영등포구</td>\n",
              "      <td>문래동3가</td>\n",
              "      <td>NaN</td>\n",
              "    </tr>\n",
              "    <tr>\n",
              "      <th>1</th>\n",
              "      <td>사회</td>\n",
              "      <td>해외야구 : 네이버 스포츠</td>\n",
              "      <td>F</td>\n",
              "      <td>5</td>\n",
              "      <td>NaN</td>\n",
              "      <td>NaN</td>\n",
              "      <td></td>\n",
              "      <td></td>\n",
              "      <td>NaN</td>\n",
              "      <td>경기</td>\n",
              "      <td>의정부시</td>\n",
              "      <td>신곡1동</td>\n",
              "      <td>NaN</td>\n",
              "    </tr>\n",
              "    <tr>\n",
              "      <th>2</th>\n",
              "      <td>TV연예</td>\n",
              "      <td>[단독] “VIP가 ... :: 네이버 뉴스</td>\n",
              "      <td>M</td>\n",
              "      <td>5</td>\n",
              "      <td>기능직 (자동차정비, 운전기사, 안경사, 택시기사)</td>\n",
              "      <td>300~399만원</td>\n",
              "      <td>아니오</td>\n",
              "      <td></td>\n",
              "      <td>연립주택/ 다세대/ 빌라</td>\n",
              "      <td>서울</td>\n",
              "      <td>종로구</td>\n",
              "      <td>창신2동</td>\n",
              "      <td>NaN</td>\n",
              "    </tr>\n",
              "    <tr>\n",
              "      <th>3</th>\n",
              "      <td>경제</td>\n",
              "      <td>네이버 뉴스</td>\n",
              "      <td>M</td>\n",
              "      <td>3</td>\n",
              "      <td>사무직 (일반사무직, 공무원, 직업군인)</td>\n",
              "      <td>300~399만원</td>\n",
              "      <td>아니오</td>\n",
              "      <td></td>\n",
              "      <td>아파트/ 주상복합</td>\n",
              "      <td>서울</td>\n",
              "      <td>구로구</td>\n",
              "      <td>고척2동</td>\n",
              "      <td>NaN</td>\n",
              "    </tr>\n",
              "    <tr>\n",
              "      <th>4</th>\n",
              "      <td>사회</td>\n",
              "      <td>[단독] 음주운전... :: 네이버 뉴스</td>\n",
              "      <td>M</td>\n",
              "      <td>3</td>\n",
              "      <td>NaN</td>\n",
              "      <td>NaN</td>\n",
              "      <td></td>\n",
              "      <td></td>\n",
              "      <td>NaN</td>\n",
              "      <td>경남</td>\n",
              "      <td>김해시</td>\n",
              "      <td>진영읍</td>\n",
              "      <td>NaN</td>\n",
              "    </tr>\n",
              "  </tbody>\n",
              "</table>\n",
              "</div>\n",
              "      <button class=\"colab-df-convert\" onclick=\"convertToInteractive('df-d1bcbae0-086f-4f03-857c-ecc1af236d4a')\"\n",
              "              title=\"Convert this dataframe to an interactive table.\"\n",
              "              style=\"display:none;\">\n",
              "        \n",
              "  <svg xmlns=\"http://www.w3.org/2000/svg\" height=\"24px\"viewBox=\"0 0 24 24\"\n",
              "       width=\"24px\">\n",
              "    <path d=\"M0 0h24v24H0V0z\" fill=\"none\"/>\n",
              "    <path d=\"M18.56 5.44l.94 2.06.94-2.06 2.06-.94-2.06-.94-.94-2.06-.94 2.06-2.06.94zm-11 1L8.5 8.5l.94-2.06 2.06-.94-2.06-.94L8.5 2.5l-.94 2.06-2.06.94zm10 10l.94 2.06.94-2.06 2.06-.94-2.06-.94-.94-2.06-.94 2.06-2.06.94z\"/><path d=\"M17.41 7.96l-1.37-1.37c-.4-.4-.92-.59-1.43-.59-.52 0-1.04.2-1.43.59L10.3 9.45l-7.72 7.72c-.78.78-.78 2.05 0 2.83L4 21.41c.39.39.9.59 1.41.59.51 0 1.02-.2 1.41-.59l7.78-7.78 2.81-2.81c.8-.78.8-2.07 0-2.86zM5.41 20L4 18.59l7.72-7.72 1.47 1.35L5.41 20z\"/>\n",
              "  </svg>\n",
              "      </button>\n",
              "      \n",
              "  <style>\n",
              "    .colab-df-container {\n",
              "      display:flex;\n",
              "      flex-wrap:wrap;\n",
              "      gap: 12px;\n",
              "    }\n",
              "\n",
              "    .colab-df-convert {\n",
              "      background-color: #E8F0FE;\n",
              "      border: none;\n",
              "      border-radius: 50%;\n",
              "      cursor: pointer;\n",
              "      display: none;\n",
              "      fill: #1967D2;\n",
              "      height: 32px;\n",
              "      padding: 0 0 0 0;\n",
              "      width: 32px;\n",
              "    }\n",
              "\n",
              "    .colab-df-convert:hover {\n",
              "      background-color: #E2EBFA;\n",
              "      box-shadow: 0px 1px 2px rgba(60, 64, 67, 0.3), 0px 1px 3px 1px rgba(60, 64, 67, 0.15);\n",
              "      fill: #174EA6;\n",
              "    }\n",
              "\n",
              "    [theme=dark] .colab-df-convert {\n",
              "      background-color: #3B4455;\n",
              "      fill: #D2E3FC;\n",
              "    }\n",
              "\n",
              "    [theme=dark] .colab-df-convert:hover {\n",
              "      background-color: #434B5C;\n",
              "      box-shadow: 0px 1px 3px 1px rgba(0, 0, 0, 0.15);\n",
              "      filter: drop-shadow(0px 1px 2px rgba(0, 0, 0, 0.3));\n",
              "      fill: #FFFFFF;\n",
              "    }\n",
              "  </style>\n",
              "\n",
              "      <script>\n",
              "        const buttonEl =\n",
              "          document.querySelector('#df-d1bcbae0-086f-4f03-857c-ecc1af236d4a button.colab-df-convert');\n",
              "        buttonEl.style.display =\n",
              "          google.colab.kernel.accessAllowed ? 'block' : 'none';\n",
              "\n",
              "        async function convertToInteractive(key) {\n",
              "          const element = document.querySelector('#df-d1bcbae0-086f-4f03-857c-ecc1af236d4a');\n",
              "          const dataTable =\n",
              "            await google.colab.kernel.invokeFunction('convertToInteractive',\n",
              "                                                     [key], {});\n",
              "          if (!dataTable) return;\n",
              "\n",
              "          const docLinkHtml = 'Like what you see? Visit the ' +\n",
              "            '<a target=\"_blank\" href=https://colab.research.google.com/notebooks/data_table.ipynb>data table notebook</a>'\n",
              "            + ' to learn more about interactive tables.';\n",
              "          element.innerHTML = '';\n",
              "          dataTable['output_type'] = 'display_data';\n",
              "          await google.colab.output.renderOutput(dataTable, element);\n",
              "          const docLink = document.createElement('div');\n",
              "          docLink.innerHTML = docLinkHtml;\n",
              "          element.appendChild(docLink);\n",
              "        }\n",
              "      </script>\n",
              "    </div>\n",
              "  </div>\n",
              "  "
            ]
          },
          "metadata": {},
          "execution_count": 240
        }
      ]
    },
    {
      "cell_type": "code",
      "source": [
        "df4['연령'].value_counts().sum() - 14883 - 50129"
      ],
      "metadata": {
        "colab": {
          "base_uri": "https://localhost:8080/"
        },
        "id": "fzFwac2xnucr",
        "outputId": "9b7f0ac8-bb5f-41bb-af75-3a583d9e93be"
      },
      "execution_count": 244,
      "outputs": [
        {
          "output_type": "execute_result",
          "data": {
            "text/plain": [
              "91504"
            ]
          },
          "metadata": {},
          "execution_count": 244
        }
      ]
    },
    {
      "cell_type": "code",
      "source": [
        "# Total : 156,516\n",
        "df4_23 = df4[df4['연령'].isin([2, 3])]     # 65,012, 41.5%\n",
        "df4_2 = df4[(df4['연령'] == 2)]            # 14,883, 9.5%\n",
        "df4_3 = df4[(df4['연령'] == 3)]            # 50,129, 32.0%\n",
        "df4_456 = df4[df4['연령'].isin([4, 5, 6])] # 91,504, 58.5%"
      ],
      "metadata": {
        "id": "8XxdVozfnmjd"
      },
      "execution_count": 242,
      "outputs": []
    },
    {
      "cell_type": "code",
      "source": [
        "df4_23['성별'].value_counts()"
      ],
      "metadata": {
        "colab": {
          "base_uri": "https://localhost:8080/"
        },
        "id": "jg6jkivO0yq5",
        "outputId": "e5acd49c-4fd6-4993-c72d-72dabcc58c3c"
      },
      "execution_count": 287,
      "outputs": [
        {
          "output_type": "execute_result",
          "data": {
            "text/plain": [
              "F    38858\n",
              "M    26154\n",
              "Name: 성별, dtype: int64"
            ]
          },
          "metadata": {},
          "execution_count": 287
        }
      ]
    },
    {
      "cell_type": "code",
      "source": [
        "df4_23['시도'].value_counts()[:5]"
      ],
      "metadata": {
        "colab": {
          "base_uri": "https://localhost:8080/"
        },
        "id": "AaZ1NxT4pQ--",
        "outputId": "a795d048-e5ec-4a5a-f977-31aba3548ce5"
      },
      "execution_count": 253,
      "outputs": [
        {
          "output_type": "execute_result",
          "data": {
            "text/plain": [
              "서울    22181\n",
              "경기    16580\n",
              "인천     4836\n",
              "경남     3778\n",
              "대구     3476\n",
              "Name: 시도, dtype: int64"
            ]
          },
          "metadata": {},
          "execution_count": 253
        }
      ]
    },
    {
      "cell_type": "code",
      "source": [
        "df4_23[df4_23['시도'] == \"서울\"]['주요관심'].value_counts()[:5]"
      ],
      "metadata": {
        "colab": {
          "base_uri": "https://localhost:8080/"
        },
        "id": "YrNzTLJDpIz5",
        "outputId": "18eceb03-ad0e-4ab4-82be-079c2695dafb"
      },
      "execution_count": 251,
      "outputs": [
        {
          "output_type": "execute_result",
          "data": {
            "text/plain": [
              "TV연예    7768\n",
              "사회      6825\n",
              "스포츠     4745\n",
              "경제      1593\n",
              "정치       573\n",
              "Name: 주요관심, dtype: int64"
            ]
          },
          "metadata": {},
          "execution_count": 251
        }
      ]
    },
    {
      "cell_type": "code",
      "source": [
        "df4_2[df4_2['시도'] == \"경기\"]['주요관심'].value_counts()[:5]"
      ],
      "metadata": {
        "colab": {
          "base_uri": "https://localhost:8080/"
        },
        "id": "LhptBwB57AzA",
        "outputId": "7bbf6463-708d-4b4a-fba5-7fa248e1c79f"
      },
      "execution_count": 312,
      "outputs": [
        {
          "output_type": "execute_result",
          "data": {
            "text/plain": [
              "사회      2141\n",
              "정치       933\n",
              "TV연예     752\n",
              "스포츠      460\n",
              "경제       205\n",
              "Name: 주요관심, dtype: int64"
            ]
          },
          "metadata": {},
          "execution_count": 312
        }
      ]
    },
    {
      "cell_type": "code",
      "source": [
        "df4_23['자동차'].value_counts().sum(), round(df4_23['자동차'].value_counts().sum() / len(df4_23) * 100, 1)"
      ],
      "metadata": {
        "colab": {
          "base_uri": "https://localhost:8080/"
        },
        "id": "MUkfM-lHrhpF",
        "outputId": "56dd4fae-95f4-4151-a4a5-241d933e82a7"
      },
      "execution_count": 259,
      "outputs": [
        {
          "output_type": "execute_result",
          "data": {
            "text/plain": [
              "(25614, 39.4)"
            ]
          },
          "metadata": {},
          "execution_count": 259
        }
      ]
    },
    {
      "cell_type": "code",
      "source": [
        "df4_23['자동차'].value_counts()"
      ],
      "metadata": {
        "colab": {
          "base_uri": "https://localhost:8080/"
        },
        "id": "bvfx1dHyrhrH",
        "outputId": "cc92517f-19b6-4332-f59a-25433bcf5346"
      },
      "execution_count": 260,
      "outputs": [
        {
          "output_type": "execute_result",
          "data": {
            "text/plain": [
              "준중형차 (아반떼, K3, 크루즈, 제타급 등)          7078\n",
              "중형차 (쏘나타, K5, 말리부, 골프급 등)           5635\n",
              "준대형차 (그랜저, K7, 알페온, 캠리급, 파사트급 등)    3526\n",
              "경차 (모닝, 스파크 등)                      3419\n",
              "준중형SUV (투싼, 스포티지, QM5, 티구안급 등)      1585\n",
              "중형SUV (싼타페, 쏘렌토, 캡티바, BMW X3급 등)    1165\n",
              "소형차 (액센트, 프라이드, 아베오, 피아트급 등)         717\n",
              "소형SUV/CUV (티볼리, QM3 등)               634\n",
              "MPV (카니발, 올란도, 피카소급, 오딧세이 등)         507\n",
              "대형SUV (베라크루즈, 모하비, 투아렉급 등)           483\n",
              "대형차 (제너시스, BMW5급 등)                  310\n",
              "기타 (승합차/트럭/화물차/기타 차량 등)              232\n",
              "준중형파생 (벨로스터, I30 등)                  220\n",
              "프리미엄 (에쿠스, BMW7급 등)                   46\n",
              "스포츠 (제네시스 쿠페, BMW M, 벤츠 AMG 등)        35\n",
              "중형파생 (I40 등)                          22\n",
              "Name: 자동차, dtype: int64"
            ]
          },
          "metadata": {},
          "execution_count": 260
        }
      ]
    },
    {
      "cell_type": "code",
      "source": [
        "df4_23['직업'].value_counts() # 무직, 주부, 퇴직/연금생활자, 학생"
      ],
      "metadata": {
        "colab": {
          "base_uri": "https://localhost:8080/"
        },
        "id": "AWPVmzd5svCC",
        "outputId": "5e7bb6eb-1b06-4ce1-d52c-022685640f73"
      },
      "execution_count": 266,
      "outputs": [
        {
          "output_type": "execute_result",
          "data": {
            "text/plain": [
              "사무직 (일반사무직, 공무원, 직업군인)             16766\n",
              "주부 (전업주부, 파트타임 근무 주부)               8105\n",
              "학생 (초중고학생, 대학생, 대학원생)               5290\n",
              "자영업 (도소매업, 숙박업, 미용업)                4282\n",
              "전문직 (의사, 판검사, 예술가, 종교인)             3774\n",
              "교직 (교사, 유치원교사, 학원강사)                3302\n",
              "무직                                  2783\n",
              "생산/노무직 (생산감독, 경비원, 공장근로자)           1505\n",
              "서비스직 (요식업, 숙박업, 미용실종업원)             1225\n",
              "기타                                   799\n",
              "판매직 (상점점원, 보험설계사, 노점상)               762\n",
              "기능직 (자동차정비, 운전기사, 안경사, 택시기사)         697\n",
              "관리직 (사장, 간부, 고위공무원)                  186\n",
              "농/축/광/수산업 (축산, 낙농업, 수산, 임업, 광업)       52\n",
              "퇴직/연금생활자                              34\n",
              "Name: 직업, dtype: int64"
            ]
          },
          "metadata": {},
          "execution_count": 266
        }
      ]
    },
    {
      "cell_type": "markdown",
      "source": [
        "# 둘레길 관심인구 라이프스타일 (온라인쇼핑몰 이용 카테고리 정보)"
      ],
      "metadata": {
        "id": "0PZdDGqQxbPN"
      }
    },
    {
      "cell_type": "code",
      "source": [
        "df5.head()"
      ],
      "metadata": {
        "colab": {
          "base_uri": "https://localhost:8080/",
          "height": 206
        },
        "id": "XOwxEGzixbQ7",
        "outputId": "76c9c906-1a30-4306-c75b-9e5f619a125f"
      },
      "execution_count": 275,
      "outputs": [
        {
          "output_type": "execute_result",
          "data": {
            "text/plain": [
              "     카테고리 성별  연령                       직업         소득      결혼          자녀  \\\n",
              "0  레저/자동차  F   4  서비스직 (요식업, 숙박업, 미용실종업원)  700~799만원     아니오               \n",
              "1  레저/자동차  F   4  서비스직 (요식업, 숙박업, 미용실종업원)  700~799만원     아니오               \n",
              "2  레저/자동차  F   4  서비스직 (요식업, 숙박업, 미용실종업원)  700~799만원     아니오               \n",
              "3    패션의류  F   2                      NaN        NaN                       \n",
              "4    패션의류  F   2                      NaN        NaN                       \n",
              "\n",
              "     주거  시도     구      동  자동차  \n",
              "0  단독주택  서울   도봉구   쌍문1동  NaN  \n",
              "1  단독주택  서울   도봉구   쌍문1동  NaN  \n",
              "2  단독주택  서울   도봉구   쌍문1동  NaN  \n",
              "3   NaN  경기  의정부시  의정부1동  NaN  \n",
              "4   NaN  경기  의정부시  의정부1동  NaN  "
            ],
            "text/html": [
              "\n",
              "  <div id=\"df-2603be1b-82da-42cc-9065-a862dfb85b82\">\n",
              "    <div class=\"colab-df-container\">\n",
              "      <div>\n",
              "<style scoped>\n",
              "    .dataframe tbody tr th:only-of-type {\n",
              "        vertical-align: middle;\n",
              "    }\n",
              "\n",
              "    .dataframe tbody tr th {\n",
              "        vertical-align: top;\n",
              "    }\n",
              "\n",
              "    .dataframe thead th {\n",
              "        text-align: right;\n",
              "    }\n",
              "</style>\n",
              "<table border=\"1\" class=\"dataframe\">\n",
              "  <thead>\n",
              "    <tr style=\"text-align: right;\">\n",
              "      <th></th>\n",
              "      <th>카테고리</th>\n",
              "      <th>성별</th>\n",
              "      <th>연령</th>\n",
              "      <th>직업</th>\n",
              "      <th>소득</th>\n",
              "      <th>결혼</th>\n",
              "      <th>자녀</th>\n",
              "      <th>주거</th>\n",
              "      <th>시도</th>\n",
              "      <th>구</th>\n",
              "      <th>동</th>\n",
              "      <th>자동차</th>\n",
              "    </tr>\n",
              "  </thead>\n",
              "  <tbody>\n",
              "    <tr>\n",
              "      <th>0</th>\n",
              "      <td>레저/자동차</td>\n",
              "      <td>F</td>\n",
              "      <td>4</td>\n",
              "      <td>서비스직 (요식업, 숙박업, 미용실종업원)</td>\n",
              "      <td>700~799만원</td>\n",
              "      <td>아니오</td>\n",
              "      <td></td>\n",
              "      <td>단독주택</td>\n",
              "      <td>서울</td>\n",
              "      <td>도봉구</td>\n",
              "      <td>쌍문1동</td>\n",
              "      <td>NaN</td>\n",
              "    </tr>\n",
              "    <tr>\n",
              "      <th>1</th>\n",
              "      <td>레저/자동차</td>\n",
              "      <td>F</td>\n",
              "      <td>4</td>\n",
              "      <td>서비스직 (요식업, 숙박업, 미용실종업원)</td>\n",
              "      <td>700~799만원</td>\n",
              "      <td>아니오</td>\n",
              "      <td></td>\n",
              "      <td>단독주택</td>\n",
              "      <td>서울</td>\n",
              "      <td>도봉구</td>\n",
              "      <td>쌍문1동</td>\n",
              "      <td>NaN</td>\n",
              "    </tr>\n",
              "    <tr>\n",
              "      <th>2</th>\n",
              "      <td>레저/자동차</td>\n",
              "      <td>F</td>\n",
              "      <td>4</td>\n",
              "      <td>서비스직 (요식업, 숙박업, 미용실종업원)</td>\n",
              "      <td>700~799만원</td>\n",
              "      <td>아니오</td>\n",
              "      <td></td>\n",
              "      <td>단독주택</td>\n",
              "      <td>서울</td>\n",
              "      <td>도봉구</td>\n",
              "      <td>쌍문1동</td>\n",
              "      <td>NaN</td>\n",
              "    </tr>\n",
              "    <tr>\n",
              "      <th>3</th>\n",
              "      <td>패션의류</td>\n",
              "      <td>F</td>\n",
              "      <td>2</td>\n",
              "      <td>NaN</td>\n",
              "      <td>NaN</td>\n",
              "      <td></td>\n",
              "      <td></td>\n",
              "      <td>NaN</td>\n",
              "      <td>경기</td>\n",
              "      <td>의정부시</td>\n",
              "      <td>의정부1동</td>\n",
              "      <td>NaN</td>\n",
              "    </tr>\n",
              "    <tr>\n",
              "      <th>4</th>\n",
              "      <td>패션의류</td>\n",
              "      <td>F</td>\n",
              "      <td>2</td>\n",
              "      <td>NaN</td>\n",
              "      <td>NaN</td>\n",
              "      <td></td>\n",
              "      <td></td>\n",
              "      <td>NaN</td>\n",
              "      <td>경기</td>\n",
              "      <td>의정부시</td>\n",
              "      <td>의정부1동</td>\n",
              "      <td>NaN</td>\n",
              "    </tr>\n",
              "  </tbody>\n",
              "</table>\n",
              "</div>\n",
              "      <button class=\"colab-df-convert\" onclick=\"convertToInteractive('df-2603be1b-82da-42cc-9065-a862dfb85b82')\"\n",
              "              title=\"Convert this dataframe to an interactive table.\"\n",
              "              style=\"display:none;\">\n",
              "        \n",
              "  <svg xmlns=\"http://www.w3.org/2000/svg\" height=\"24px\"viewBox=\"0 0 24 24\"\n",
              "       width=\"24px\">\n",
              "    <path d=\"M0 0h24v24H0V0z\" fill=\"none\"/>\n",
              "    <path d=\"M18.56 5.44l.94 2.06.94-2.06 2.06-.94-2.06-.94-.94-2.06-.94 2.06-2.06.94zm-11 1L8.5 8.5l.94-2.06 2.06-.94-2.06-.94L8.5 2.5l-.94 2.06-2.06.94zm10 10l.94 2.06.94-2.06 2.06-.94-2.06-.94-.94-2.06-.94 2.06-2.06.94z\"/><path d=\"M17.41 7.96l-1.37-1.37c-.4-.4-.92-.59-1.43-.59-.52 0-1.04.2-1.43.59L10.3 9.45l-7.72 7.72c-.78.78-.78 2.05 0 2.83L4 21.41c.39.39.9.59 1.41.59.51 0 1.02-.2 1.41-.59l7.78-7.78 2.81-2.81c.8-.78.8-2.07 0-2.86zM5.41 20L4 18.59l7.72-7.72 1.47 1.35L5.41 20z\"/>\n",
              "  </svg>\n",
              "      </button>\n",
              "      \n",
              "  <style>\n",
              "    .colab-df-container {\n",
              "      display:flex;\n",
              "      flex-wrap:wrap;\n",
              "      gap: 12px;\n",
              "    }\n",
              "\n",
              "    .colab-df-convert {\n",
              "      background-color: #E8F0FE;\n",
              "      border: none;\n",
              "      border-radius: 50%;\n",
              "      cursor: pointer;\n",
              "      display: none;\n",
              "      fill: #1967D2;\n",
              "      height: 32px;\n",
              "      padding: 0 0 0 0;\n",
              "      width: 32px;\n",
              "    }\n",
              "\n",
              "    .colab-df-convert:hover {\n",
              "      background-color: #E2EBFA;\n",
              "      box-shadow: 0px 1px 2px rgba(60, 64, 67, 0.3), 0px 1px 3px 1px rgba(60, 64, 67, 0.15);\n",
              "      fill: #174EA6;\n",
              "    }\n",
              "\n",
              "    [theme=dark] .colab-df-convert {\n",
              "      background-color: #3B4455;\n",
              "      fill: #D2E3FC;\n",
              "    }\n",
              "\n",
              "    [theme=dark] .colab-df-convert:hover {\n",
              "      background-color: #434B5C;\n",
              "      box-shadow: 0px 1px 3px 1px rgba(0, 0, 0, 0.15);\n",
              "      filter: drop-shadow(0px 1px 2px rgba(0, 0, 0, 0.3));\n",
              "      fill: #FFFFFF;\n",
              "    }\n",
              "  </style>\n",
              "\n",
              "      <script>\n",
              "        const buttonEl =\n",
              "          document.querySelector('#df-2603be1b-82da-42cc-9065-a862dfb85b82 button.colab-df-convert');\n",
              "        buttonEl.style.display =\n",
              "          google.colab.kernel.accessAllowed ? 'block' : 'none';\n",
              "\n",
              "        async function convertToInteractive(key) {\n",
              "          const element = document.querySelector('#df-2603be1b-82da-42cc-9065-a862dfb85b82');\n",
              "          const dataTable =\n",
              "            await google.colab.kernel.invokeFunction('convertToInteractive',\n",
              "                                                     [key], {});\n",
              "          if (!dataTable) return;\n",
              "\n",
              "          const docLinkHtml = 'Like what you see? Visit the ' +\n",
              "            '<a target=\"_blank\" href=https://colab.research.google.com/notebooks/data_table.ipynb>data table notebook</a>'\n",
              "            + ' to learn more about interactive tables.';\n",
              "          element.innerHTML = '';\n",
              "          dataTable['output_type'] = 'display_data';\n",
              "          await google.colab.output.renderOutput(dataTable, element);\n",
              "          const docLink = document.createElement('div');\n",
              "          docLink.innerHTML = docLinkHtml;\n",
              "          element.appendChild(docLink);\n",
              "        }\n",
              "      </script>\n",
              "    </div>\n",
              "  </div>\n",
              "  "
            ]
          },
          "metadata": {},
          "execution_count": 275
        }
      ]
    },
    {
      "cell_type": "code",
      "source": [
        "# Total : 68,606\n",
        "df5_23 = df5[df5['연령'].isin([2, 3])]     # 32,292, 47.1%\n",
        "df5_2 = df5[(df5['연령'] == 2)]            # 8,887, 13.0%\n",
        "df5_3 = df5[(df5['연령'] == 3)]            # 23,405, 34.1%\n",
        "df5_45 = df5[df5['연령'].isin([4, 5])]     # 36,314, 52.9%"
      ],
      "metadata": {
        "id": "H_ZZDaoExbS4"
      },
      "execution_count": 278,
      "outputs": []
    },
    {
      "cell_type": "code",
      "source": [
        "df5_23['성별'].value_counts()"
      ],
      "metadata": {
        "colab": {
          "base_uri": "https://localhost:8080/"
        },
        "id": "wUutuSK90VJD",
        "outputId": "aeeb5ed0-c0ea-4f05-a99f-f7a703a3cd12"
      },
      "execution_count": 286,
      "outputs": [
        {
          "output_type": "execute_result",
          "data": {
            "text/plain": [
              "F    21268\n",
              "M    11024\n",
              "Name: 성별, dtype: int64"
            ]
          },
          "metadata": {},
          "execution_count": 286
        }
      ]
    },
    {
      "cell_type": "code",
      "source": [
        "df5_23['직업'].value_counts() # 학생, 주부, 무직, 퇴직/연금생활자"
      ],
      "metadata": {
        "colab": {
          "base_uri": "https://localhost:8080/"
        },
        "id": "vYHDCQ7p0VO6",
        "outputId": "37b31f48-b17a-44ee-ee02-e37c76d7190c"
      },
      "execution_count": 292,
      "outputs": [
        {
          "output_type": "execute_result",
          "data": {
            "text/plain": [
              "사무직 (일반사무직, 공무원, 직업군인)             9768\n",
              "주부 (전업주부, 파트타임 근무 주부)              4534\n",
              "학생 (초중고학생, 대학생, 대학원생)              1573\n",
              "교직 (교사, 유치원교사, 학원강사)               1544\n",
              "전문직 (의사, 판검사, 예술가, 종교인)            1461\n",
              "무직                                 1208\n",
              "서비스직 (요식업, 숙박업, 미용실종업원)             824\n",
              "생산/노무직 (생산감독, 경비원, 공장근로자)           627\n",
              "판매직 (상점점원, 보험설계사, 노점상)              606\n",
              "기타                                  446\n",
              "자영업 (도소매업, 숙박업, 미용업)                419\n",
              "기능직 (자동차정비, 운전기사, 안경사, 택시기사)        271\n",
              "관리직 (사장, 간부, 고위공무원)                 131\n",
              "농/축/광/수산업 (축산, 낙농업, 수산, 임업, 광업)      32\n",
              "퇴직/연금생활자                             12\n",
              "Name: 직업, dtype: int64"
            ]
          },
          "metadata": {},
          "execution_count": 292
        }
      ]
    },
    {
      "cell_type": "code",
      "source": [
        "round(16129/len(df5_23) * 100, 1),\\\n",
        "round(3851/len(df5_23) * 100, 1),\\\n",
        "round(12278/len(df5_23) * 100, 1)"
      ],
      "metadata": {
        "colab": {
          "base_uri": "https://localhost:8080/"
        },
        "id": "k2qUagnK29H6",
        "outputId": "3f6b1eb0-866e-434e-b6ab-e030d7ef2c40"
      },
      "execution_count": 302,
      "outputs": [
        {
          "output_type": "execute_result",
          "data": {
            "text/plain": [
              "(49.9, 11.9, 38.0)"
            ]
          },
          "metadata": {},
          "execution_count": 302
        }
      ]
    },
    {
      "cell_type": "code",
      "source": [
        "df5_23['직업'].value_counts().sum() -4534 -1573 - 1208 -12"
      ],
      "metadata": {
        "colab": {
          "base_uri": "https://localhost:8080/"
        },
        "id": "AbpcRj4d0VQ_",
        "outputId": "157755c6-ed87-429a-990d-7c3671d89cd5"
      },
      "execution_count": 295,
      "outputs": [
        {
          "output_type": "execute_result",
          "data": {
            "text/plain": [
              "16129"
            ]
          },
          "metadata": {},
          "execution_count": 295
        }
      ]
    },
    {
      "cell_type": "code",
      "source": [
        "df5_23['자동차'].value_counts().sum(), round(df5_23['자동차'].value_counts().sum()/len(df5_23) * 100, 1),\\\n",
        "df5_2['자동차'].value_counts().sum(), round(df5_2['자동차'].value_counts().sum()/len(df5_23) * 100, 1),\\\n",
        "df5_3['자동차'].value_counts().sum(), round(df5_3['자동차'].value_counts().sum()/len(df5_23) * 100, 1),"
      ],
      "metadata": {
        "colab": {
          "base_uri": "https://localhost:8080/"
        },
        "id": "d-OGLJjl3bIb",
        "outputId": "80c0bdd0-c89a-4d8b-bdde-9d3d2dcf2005"
      },
      "execution_count": 306,
      "outputs": [
        {
          "output_type": "execute_result",
          "data": {
            "text/plain": [
              "(10957, 33.9, 647, 2.0, 10310, 31.9)"
            ]
          },
          "metadata": {},
          "execution_count": 306
        }
      ]
    },
    {
      "cell_type": "code",
      "source": [
        "df5_23['시도'].value_counts()[:5],\\\n",
        "df5_2['시도'].value_counts()[:5],\\\n",
        "df5_3['시도'].value_counts()[:5]"
      ],
      "metadata": {
        "colab": {
          "base_uri": "https://localhost:8080/"
        },
        "id": "zxTiWFAz5iJ4",
        "outputId": "d0d2f5e2-d85a-4c6d-d2c9-4e6b24eaccc7"
      },
      "execution_count": 309,
      "outputs": [
        {
          "output_type": "execute_result",
          "data": {
            "text/plain": [
              "(서울    9733\n",
              " 경기    7757\n",
              " 부산    4069\n",
              " 대구    2277\n",
              " 인천    1800\n",
              " Name: 시도, dtype: int64,\n",
              " 부산    2832\n",
              " 서울    2009\n",
              " 경기    1528\n",
              " 인천     392\n",
              " 대구     282\n",
              " Name: 시도, dtype: int64,\n",
              " 서울    7724\n",
              " 경기    6229\n",
              " 대구    1995\n",
              " 인천    1408\n",
              " 부산    1237\n",
              " Name: 시도, dtype: int64)"
            ]
          },
          "metadata": {},
          "execution_count": 309
        }
      ]
    },
    {
      "cell_type": "code",
      "source": [
        "df5_23[df5_23['시도'] == \"서울\"]['카테고리'].value_counts()[:5],\\\n",
        "df5_2[df5_2['시도'] == \"부산\"]['카테고리'].value_counts()[:5],\\\n",
        "df5_3[df5_3['시도'] == \"서울\"]['카테고리'].value_counts()[:5]"
      ],
      "metadata": {
        "colab": {
          "base_uri": "https://localhost:8080/"
        },
        "id": "cT4uitdE5g1E",
        "outputId": "01ddfc39-e8df-4ba2-8987-38a00c36572c"
      },
      "execution_count": 311,
      "outputs": [
        {
          "output_type": "execute_result",
          "data": {
            "text/plain": [
              "(식품/건강    2920\n",
              " 패션의류     1910\n",
              " 생활/주방    1174\n",
              " 뷰티       1039\n",
              " 패션잡화      999\n",
              " Name: 카테고리, dtype: int64,\n",
              " 패션의류      2272\n",
              " 패션잡화       307\n",
              " 식품/건강       90\n",
              " 뷰티          68\n",
              " 디지털/가전      49\n",
              " Name: 카테고리, dtype: int64,\n",
              " 식품/건강    2530\n",
              " 패션의류     1512\n",
              " 생활/주방     864\n",
              " 뷰티        814\n",
              " 패션잡화      791\n",
              " Name: 카테고리, dtype: int64)"
            ]
          },
          "metadata": {},
          "execution_count": 311
        }
      ]
    }
  ]
}