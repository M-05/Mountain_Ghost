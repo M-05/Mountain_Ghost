{
  "nbformat": 4,
  "nbformat_minor": 0,
  "metadata": {
    "colab": {
      "provenance": []
    },
    "kernelspec": {
      "name": "python3",
      "display_name": "Python 3"
    },
    "language_info": {
      "name": "python"
    }
  },
  "cells": [
    {
      "cell_type": "code",
      "execution_count": null,
      "metadata": {
        "id": "0y-ZuXZts9Lu"
      },
      "outputs": [],
      "source": [
        "import pandas as pd\n",
        "import os\n",
        "from google.colab import drive"
      ]
    },
    {
      "cell_type": "code",
      "source": [
        "pd.set_option('display.max_columns', None)\n",
        "# display.[max_categories, max_columns, max_colwidth, max_dir_items,\n",
        "#   max_info_columns, max_info_rows, max_rows, max_seq_items, memory_usage,\n",
        "#   min_rows, multi_sparse, notebook_repr_html, pprint_nest_depth, precision,\n",
        "#   show_dimensions]"
      ],
      "metadata": {
        "id": "KxiaNFK4tCuG"
      },
      "execution_count": null,
      "outputs": []
    },
    {
      "cell_type": "code",
      "source": [
        "# 나의 구글 드라이브 연결\n",
        "drive.mount(\"/content/drive\")"
      ],
      "metadata": {
        "colab": {
          "base_uri": "https://localhost:8080/"
        },
        "id": "4pDBp2F6uv5C",
        "outputId": "6a162611-f9b3-482a-ee80-d021742d1c54"
      },
      "execution_count": null,
      "outputs": [
        {
          "output_type": "stream",
          "name": "stdout",
          "text": [
            "Mounted at /content/drive\n"
          ]
        }
      ]
    },
    {
      "cell_type": "code",
      "source": [
        "path = './drive/MyDrive/Colab Notebooks/'"
      ],
      "metadata": {
        "id": "tSvDFn2Xlcof"
      },
      "execution_count": null,
      "outputs": []
    },
    {
      "cell_type": "markdown",
      "source": [
        "# 데이터 불러오기"
      ],
      "metadata": {
        "id": "xAKWS_Av06pS"
      }
    },
    {
      "cell_type": "code",
      "source": [
        "# 등산로 관심인구 정보\n",
        "df1 = pd.read_csv(path + \"FPL020101.csv\")\n",
        "# 등산로 선호 관광 장소\n",
        "df2 = pd.read_csv(path + \"FPL020501.csv\")\n",
        "# 등산로 관심인구 관심사/관심분야 (포털 검색 분야) 정보\n",
        "df3 = pd.read_csv(path + \"FPL020801.csv\")\n",
        "\n",
        "# 국립공원 관심인구 정보\n",
        "df4 = pd.read_csv(path + \"FPL030101.csv\")\n",
        "# 국립공원 관심인구 라이프스타일 (온라인쇼핑몰 이용 카테고리 정보)\n",
        "df5 = pd.read_csv(path + \"FPL030701.csv\")\n",
        "\n",
        "# 자전거코스/자전거길 관심인구 정보\n",
        "df6 = pd.read_csv(path + \"FPL040101.csv\")\n",
        "# 자전거코스/자전거길 관심인구 자전거용품 검색 정보\n",
        "df7 = pd.read_csv(path + \"FPL040401.csv\")\n",
        "\n",
        "# 산림치유원 관심인구 선호 산림치유원 검색 정보\n",
        "df8 = pd.read_csv(path + \"FPL050201.csv\")\n",
        "\n",
        "# 산림체험 관심인구 정보\n",
        "df14 = pd.read_csv(path + \"FPL060101.csv\")\n",
        "# 산림체험 관심인구 선호 산림체험장소 검색 정보\n",
        "df15 = pd.read_csv(path + \"FPL060201.csv\")\n",
        "# 산림체험 관심인구 선호 산림체험 프로그램 검색 정보\n",
        "df16 = pd.read_csv(path + \"FPL060301.csv\")\n",
        "\n",
        "# 산림치유 관심인구 라이프스타일 (온라인쇼핑몰 검색/구매 카테고리) 정보\n",
        "df17 = pd.read_csv(path + \"FPL060501.csv\")\n",
        "\n",
        "# 귀산촌 관심인구 정보\n",
        "df18 = pd.read_csv(path + \"FPL070101.csv\")\n",
        "\n",
        "# 산림재해 관심인구 정보\n",
        "df19 = pd.read_csv(path + \"FPL080101.csv\")\n",
        "# 산림대피소 관심인구 정보\n",
        "df20 = pd.read_csv(path + \"FPL080201.csv\")\n",
        "# 산림재해 관심인구 관심지역 검색정보\n",
        "df21 = pd.read_csv(path + \"FPL080301.csv\")\n",
        "# 산림재해 연관 검색 키워드를 검색한 관심인구 정보\n",
        "df22 = pd.read_csv(path + \"FPL080401.csv\")\n",
        "\n",
        "# 전국 국립공원 등산로 이용자 분류(성/연령)별 평균 칼로리 소모량 정보\n",
        "df23 = pd.read_csv(path + \"PARK_KCAL.csv\")"
      ],
      "metadata": {
        "id": "900CO4-stGEi"
      },
      "execution_count": null,
      "outputs": []
    },
    {
      "cell_type": "markdown",
      "source": [
        "# 등산로[hiking trail]\n",
        "> 등산 할 수 있도록 나 있는 길.\n",
        "\n",
        "### df1 : 등산로 관심인구 정보 (Total : 30,692)\n",
        "\n",
        "|순위| 1 | 2 | 3 | 4 | 5 |\n",
        "|--|--|--|--|--|--|\n",
        "|거주지 230 | 서울 | 경기 | 부산 | 대구 | 인천 |\n",
        "|등산로 | 금강산 | 금계산 | 백두산 | 우장산 | 수락산 |\n",
        "|거주지 20 | 서울 | 경기 | 부산 | 경북 | 충북 |\n",
        "|등산로 | 우장산 | 고성산 | 금계산 | 마이산 | 아차산 |\n",
        "|거주지 30 | 서울 | 경기 | 경남 | 대구 | 인천 |\n",
        "|등산로 | 금강산 | 수락산 | 도덕산 | 금계산 | 백두산 |\n",
        "|||||||\n",
        "|거주지 14560 | 서울 | 경기 | 부산 | 인천 | 광주 |\n",
        "|등산로 | 금강산 | 우장산 | 백두산 | 금계산 | 설악산 |\n",
        "\n",
        "`[2-30] 여 : 13,523(80.2%), 남 : 3,341(19.8%)`\n",
        "\n",
        "|Age|관심인구|Car|job|\n",
        "|--|--|--|--|\n",
        "|2-30|16,864(54.9%)|8,316(49.3%)|11,059(65.6%)|\n",
        "|20|3,556(11.6%)|1,279(7.6%)|1,960(11.6%)|\n",
        "|30|13,308(43.4%)|7,037(41.7%)|9,099(54.0%)|\n",
        "\n",
        "---\n",
        "\n",
        "### df2 : 등산로 선호 관광 장소 (Total : 15,308)\n",
        "\n",
        "|순위| 1 | 2 | 3 | 4 | 5 |\n",
        "|--|--|--|--|--|--|\n",
        "|거주지 230 | 서울 | 경기 | 부산 | 인천 | 강원 |\n",
        "|선호관광 | 해운대 | 공릉 | 장흥 | 주문진 | 수승대 |\n",
        "|거주지 20 | 경기 | 부산 | 서울 | 강원 | 인천 |\n",
        "|선호관광 (경기) | 해운대 | 대천해수욕장 | 남원 | 예당 | 공릉 |\n",
        "|거주지 30 | 서울 | 경기 | 부산 | 인천 | 충남 |\n",
        "|선호관광 | 해운대 | 공릉 | 장흥 | 수승대 | 주문진 |\n",
        "|||||||\n",
        "|거주지 14560 | 서울 | 경기 | 부산 | 전북 | 광주 |\n",
        "|선호관광 | 해운대 | 봉은사 | 공릉 | 울릉도 | 주문진 |\n",
        "\n",
        "`[2-30] 여 : 7,936(85.1%), 남 : 1,393(14.9%)`\n",
        "\n",
        "|Age|관심인구|Car|job|\n",
        "|--|--|--|--|\n",
        "|2-30|9,329(60.9%)|4,161(44.6%)|5,241(56.2%)|\n",
        "|20|1,923(12.6%)|713(7.6%)|917(9.8%)|\n",
        "|30|7,406(48.4%)|3,448(37.0%)|4,324(46.4%)|\n",
        "\n",
        "\n",
        "---\n",
        "\n",
        "### df3 : 등산로 관심인구 관심사/관심분야 (포털 검색 분야) 정보(포털 검색 분야) 정보 (Total : 873,021)\n",
        "\n",
        "|순위| 1 | 2 | 3 | 4 | 5 |\n",
        "|--|--|--|--|--|--|\n",
        "|거주지 230 | 서울 | 경기 | 부산 | 인천 | 대구 |\n",
        "|주요관심 | 스포츠 | TV연예 | 사회 | 경제 | 정치 |\n",
        "|거주지 20 | 서울 | 경기 | 인천 | 대구 | 충북 |\n",
        "|주요관심 | 스포츠 | TV연예 | 경제 | 사회 | 정치 |\n",
        "|거주지 30 | 서울 | 경기 | 부산 | 인천 | 충남 |\n",
        "|주요관심 | 스포츠 | TV연예 | 사회 | 정치 | 경제 |\n",
        "|||||||\n",
        "|거주지 14560 | 서울 | 경기 | 인천 | 대전 | 대구 |\n",
        "|주요관심 | 스포츠 | 사회 | TV연예 | 경제 | 정치 |\n",
        "\n",
        "`[2-30] 여 : 217,248(45.7%), 남 : 257,833(54.3%)`\n",
        "\n",
        "|Age|관심인구|Car|job|\n",
        "|--|--|--|--|\n",
        "|2-30|475,081(54.4%)|243,532(51.3%)|318,786(67.1%)|\n",
        "|20|124,283(14.2%)|40,125(8.4%)|60,574(12.8%)|\n",
        "|30|350,798(40.2%)|203,407(42.8%)|258,212(54.4%)|"
      ],
      "metadata": {
        "id": "om6m2vDtvcAD"
      }
    },
    {
      "cell_type": "markdown",
      "source": [
        "10대는 부모의 영향"
      ],
      "metadata": {
        "id": "_r4mWxdmwswF"
      }
    },
    {
      "cell_type": "markdown",
      "source": [
        "---\n",
        "---\n",
        "# 등산로 관심인구 정보"
      ],
      "metadata": {
        "id": "UiL9NghznLts"
      }
    },
    {
      "cell_type": "code",
      "source": [
        "df1.head()"
      ],
      "metadata": {
        "colab": {
          "base_uri": "https://localhost:8080/",
          "height": 615
        },
        "id": "popY0YyWm57k",
        "outputId": "a75bc735-401b-42d1-cf60-593a6fedf8ce"
      },
      "execution_count": null,
      "outputs": [
        {
          "output_type": "execute_result",
          "data": {
            "text/plain": [
              "     산                                사이트제목 성별  연령                       직업  \\\n",
              "0  지리산                                  지리산  M   3   사무직 (일반사무직, 공무원, 직업군인)   \n",
              "1  지리산                       지리산 : 네이버 통합검색  M   3   사무직 (일반사무직, 공무원, 직업군인)   \n",
              "2  서운산                  서운산자연휴양림 : 네이버 통합검색  M   4  전문직 (의사, 판검사, 예술가, 종교인)   \n",
              "3  서운산   출장길에 만난 깔끔한 서운산자연휴양림(안산) : 네이버 블로그  M   4  전문직 (의사, 판검사, 예술가, 종교인)   \n",
              "4  서운산  #36. 서운산 자연휴양림 오토캠핑장 2박3일 : 네이버 블로그  M   4  전문직 (의사, 판검사, 예술가, 종교인)   \n",
              "\n",
              "          소득     결혼          자녀             주거  시도     구       동  \\\n",
              "0  600~699만원    아니오              연립주택/ 다세대/ 빌라  서울  동대문구   답십리2동   \n",
              "1  600~699만원    아니오              연립주택/ 다세대/ 빌라  서울  동대문구   답십리2동   \n",
              "2  900~999만원  예          자녀 있음       아파트/ 주상복합  서울   노원구  상계6.7동   \n",
              "3  900~999만원  예          자녀 있음       아파트/ 주상복합  서울   노원구  상계6.7동   \n",
              "4  900~999만원  예          자녀 있음       아파트/ 주상복합  서울   노원구  상계6.7동   \n",
              "\n",
              "                                자동차  \n",
              "0                    경차 (모닝, 스파크 등)  \n",
              "1                    경차 (모닝, 스파크 등)  \n",
              "2  준대형차 (그랜저, K7, 알페온, 캠리급, 파사트급 등)  \n",
              "3  준대형차 (그랜저, K7, 알페온, 캠리급, 파사트급 등)  \n",
              "4  준대형차 (그랜저, K7, 알페온, 캠리급, 파사트급 등)  "
            ],
            "text/html": [
              "\n",
              "  <div id=\"df-640988b7-dd8b-4146-bcda-a1574d1686dd\">\n",
              "    <div class=\"colab-df-container\">\n",
              "      <div>\n",
              "<style scoped>\n",
              "    .dataframe tbody tr th:only-of-type {\n",
              "        vertical-align: middle;\n",
              "    }\n",
              "\n",
              "    .dataframe tbody tr th {\n",
              "        vertical-align: top;\n",
              "    }\n",
              "\n",
              "    .dataframe thead th {\n",
              "        text-align: right;\n",
              "    }\n",
              "</style>\n",
              "<table border=\"1\" class=\"dataframe\">\n",
              "  <thead>\n",
              "    <tr style=\"text-align: right;\">\n",
              "      <th></th>\n",
              "      <th>산</th>\n",
              "      <th>사이트제목</th>\n",
              "      <th>성별</th>\n",
              "      <th>연령</th>\n",
              "      <th>직업</th>\n",
              "      <th>소득</th>\n",
              "      <th>결혼</th>\n",
              "      <th>자녀</th>\n",
              "      <th>주거</th>\n",
              "      <th>시도</th>\n",
              "      <th>구</th>\n",
              "      <th>동</th>\n",
              "      <th>자동차</th>\n",
              "    </tr>\n",
              "  </thead>\n",
              "  <tbody>\n",
              "    <tr>\n",
              "      <th>0</th>\n",
              "      <td>지리산</td>\n",
              "      <td>지리산</td>\n",
              "      <td>M</td>\n",
              "      <td>3</td>\n",
              "      <td>사무직 (일반사무직, 공무원, 직업군인)</td>\n",
              "      <td>600~699만원</td>\n",
              "      <td>아니오</td>\n",
              "      <td></td>\n",
              "      <td>연립주택/ 다세대/ 빌라</td>\n",
              "      <td>서울</td>\n",
              "      <td>동대문구</td>\n",
              "      <td>답십리2동</td>\n",
              "      <td>경차 (모닝, 스파크 등)</td>\n",
              "    </tr>\n",
              "    <tr>\n",
              "      <th>1</th>\n",
              "      <td>지리산</td>\n",
              "      <td>지리산 : 네이버 통합검색</td>\n",
              "      <td>M</td>\n",
              "      <td>3</td>\n",
              "      <td>사무직 (일반사무직, 공무원, 직업군인)</td>\n",
              "      <td>600~699만원</td>\n",
              "      <td>아니오</td>\n",
              "      <td></td>\n",
              "      <td>연립주택/ 다세대/ 빌라</td>\n",
              "      <td>서울</td>\n",
              "      <td>동대문구</td>\n",
              "      <td>답십리2동</td>\n",
              "      <td>경차 (모닝, 스파크 등)</td>\n",
              "    </tr>\n",
              "    <tr>\n",
              "      <th>2</th>\n",
              "      <td>서운산</td>\n",
              "      <td>서운산자연휴양림 : 네이버 통합검색</td>\n",
              "      <td>M</td>\n",
              "      <td>4</td>\n",
              "      <td>전문직 (의사, 판검사, 예술가, 종교인)</td>\n",
              "      <td>900~999만원</td>\n",
              "      <td>예</td>\n",
              "      <td>자녀 있음</td>\n",
              "      <td>아파트/ 주상복합</td>\n",
              "      <td>서울</td>\n",
              "      <td>노원구</td>\n",
              "      <td>상계6.7동</td>\n",
              "      <td>준대형차 (그랜저, K7, 알페온, 캠리급, 파사트급 등)</td>\n",
              "    </tr>\n",
              "    <tr>\n",
              "      <th>3</th>\n",
              "      <td>서운산</td>\n",
              "      <td>출장길에 만난 깔끔한 서운산자연휴양림(안산) : 네이버 블로그</td>\n",
              "      <td>M</td>\n",
              "      <td>4</td>\n",
              "      <td>전문직 (의사, 판검사, 예술가, 종교인)</td>\n",
              "      <td>900~999만원</td>\n",
              "      <td>예</td>\n",
              "      <td>자녀 있음</td>\n",
              "      <td>아파트/ 주상복합</td>\n",
              "      <td>서울</td>\n",
              "      <td>노원구</td>\n",
              "      <td>상계6.7동</td>\n",
              "      <td>준대형차 (그랜저, K7, 알페온, 캠리급, 파사트급 등)</td>\n",
              "    </tr>\n",
              "    <tr>\n",
              "      <th>4</th>\n",
              "      <td>서운산</td>\n",
              "      <td>#36. 서운산 자연휴양림 오토캠핑장 2박3일 : 네이버 블로그</td>\n",
              "      <td>M</td>\n",
              "      <td>4</td>\n",
              "      <td>전문직 (의사, 판검사, 예술가, 종교인)</td>\n",
              "      <td>900~999만원</td>\n",
              "      <td>예</td>\n",
              "      <td>자녀 있음</td>\n",
              "      <td>아파트/ 주상복합</td>\n",
              "      <td>서울</td>\n",
              "      <td>노원구</td>\n",
              "      <td>상계6.7동</td>\n",
              "      <td>준대형차 (그랜저, K7, 알페온, 캠리급, 파사트급 등)</td>\n",
              "    </tr>\n",
              "  </tbody>\n",
              "</table>\n",
              "</div>\n",
              "      <button class=\"colab-df-convert\" onclick=\"convertToInteractive('df-640988b7-dd8b-4146-bcda-a1574d1686dd')\"\n",
              "              title=\"Convert this dataframe to an interactive table.\"\n",
              "              style=\"display:none;\">\n",
              "        \n",
              "  <svg xmlns=\"http://www.w3.org/2000/svg\" height=\"24px\"viewBox=\"0 0 24 24\"\n",
              "       width=\"24px\">\n",
              "    <path d=\"M0 0h24v24H0V0z\" fill=\"none\"/>\n",
              "    <path d=\"M18.56 5.44l.94 2.06.94-2.06 2.06-.94-2.06-.94-.94-2.06-.94 2.06-2.06.94zm-11 1L8.5 8.5l.94-2.06 2.06-.94-2.06-.94L8.5 2.5l-.94 2.06-2.06.94zm10 10l.94 2.06.94-2.06 2.06-.94-2.06-.94-.94-2.06-.94 2.06-2.06.94z\"/><path d=\"M17.41 7.96l-1.37-1.37c-.4-.4-.92-.59-1.43-.59-.52 0-1.04.2-1.43.59L10.3 9.45l-7.72 7.72c-.78.78-.78 2.05 0 2.83L4 21.41c.39.39.9.59 1.41.59.51 0 1.02-.2 1.41-.59l7.78-7.78 2.81-2.81c.8-.78.8-2.07 0-2.86zM5.41 20L4 18.59l7.72-7.72 1.47 1.35L5.41 20z\"/>\n",
              "  </svg>\n",
              "      </button>\n",
              "      \n",
              "  <style>\n",
              "    .colab-df-container {\n",
              "      display:flex;\n",
              "      flex-wrap:wrap;\n",
              "      gap: 12px;\n",
              "    }\n",
              "\n",
              "    .colab-df-convert {\n",
              "      background-color: #E8F0FE;\n",
              "      border: none;\n",
              "      border-radius: 50%;\n",
              "      cursor: pointer;\n",
              "      display: none;\n",
              "      fill: #1967D2;\n",
              "      height: 32px;\n",
              "      padding: 0 0 0 0;\n",
              "      width: 32px;\n",
              "    }\n",
              "\n",
              "    .colab-df-convert:hover {\n",
              "      background-color: #E2EBFA;\n",
              "      box-shadow: 0px 1px 2px rgba(60, 64, 67, 0.3), 0px 1px 3px 1px rgba(60, 64, 67, 0.15);\n",
              "      fill: #174EA6;\n",
              "    }\n",
              "\n",
              "    [theme=dark] .colab-df-convert {\n",
              "      background-color: #3B4455;\n",
              "      fill: #D2E3FC;\n",
              "    }\n",
              "\n",
              "    [theme=dark] .colab-df-convert:hover {\n",
              "      background-color: #434B5C;\n",
              "      box-shadow: 0px 1px 3px 1px rgba(0, 0, 0, 0.15);\n",
              "      filter: drop-shadow(0px 1px 2px rgba(0, 0, 0, 0.3));\n",
              "      fill: #FFFFFF;\n",
              "    }\n",
              "  </style>\n",
              "\n",
              "      <script>\n",
              "        const buttonEl =\n",
              "          document.querySelector('#df-640988b7-dd8b-4146-bcda-a1574d1686dd button.colab-df-convert');\n",
              "        buttonEl.style.display =\n",
              "          google.colab.kernel.accessAllowed ? 'block' : 'none';\n",
              "\n",
              "        async function convertToInteractive(key) {\n",
              "          const element = document.querySelector('#df-640988b7-dd8b-4146-bcda-a1574d1686dd');\n",
              "          const dataTable =\n",
              "            await google.colab.kernel.invokeFunction('convertToInteractive',\n",
              "                                                     [key], {});\n",
              "          if (!dataTable) return;\n",
              "\n",
              "          const docLinkHtml = 'Like what you see? Visit the ' +\n",
              "            '<a target=\"_blank\" href=https://colab.research.google.com/notebooks/data_table.ipynb>data table notebook</a>'\n",
              "            + ' to learn more about interactive tables.';\n",
              "          element.innerHTML = '';\n",
              "          dataTable['output_type'] = 'display_data';\n",
              "          await google.colab.output.renderOutput(dataTable, element);\n",
              "          const docLink = document.createElement('div');\n",
              "          docLink.innerHTML = docLinkHtml;\n",
              "          element.appendChild(docLink);\n",
              "        }\n",
              "      </script>\n",
              "    </div>\n",
              "  </div>\n",
              "  "
            ]
          },
          "metadata": {},
          "execution_count": 6
        }
      ]
    },
    {
      "cell_type": "code",
      "source": [
        "counts = df1['연령'].value_counts()\n",
        "counts"
      ],
      "metadata": {
        "colab": {
          "base_uri": "https://localhost:8080/"
        },
        "id": "nFXIYcxvm-Zx",
        "outputId": "2727b29a-88a5-4d05-ab18-54b1a5b70927"
      },
      "execution_count": null,
      "outputs": [
        {
          "output_type": "execute_result",
          "data": {
            "text/plain": [
              "3    13308\n",
              "4     9442\n",
              "5     4316\n",
              "2     3556\n",
              "6       42\n",
              "1       28\n",
              "Name: 연령, dtype: int64"
            ]
          },
          "metadata": {},
          "execution_count": 30
        }
      ]
    },
    {
      "cell_type": "code",
      "source": [
        "round(counts.loc[[2,3]].sum() / counts.sum() * 100, 1),\\\n",
        "round(counts.loc[2] / counts.sum() * 100, 1),\\\n",
        "round(counts.loc[3] / counts.sum() * 100, 1),\\\n",
        "round(counts.drop([2,3]).sum() / counts.sum() * 100, 1)"
      ],
      "metadata": {
        "colab": {
          "base_uri": "https://localhost:8080/"
        },
        "id": "CHtJU2W5ntqv",
        "outputId": "c9c03618-a5d3-40b6-c78c-bd7181bbdfa2"
      },
      "execution_count": null,
      "outputs": [
        {
          "output_type": "execute_result",
          "data": {
            "text/plain": [
              "(54.9, 11.6, 43.4, 45.1)"
            ]
          },
          "metadata": {},
          "execution_count": 33
        }
      ]
    },
    {
      "cell_type": "code",
      "source": [
        "# Total : 30,692\n",
        "df1_23 = df1[df1['연령'].isin([2, 3])]     # 16,864, 54.9%\n",
        "df1_2 = df1[(df1['연령'] == 2)]            #  3,556, 11.6%\n",
        "df1_3 = df1[(df1['연령'] == 3)]            # 13,308, 43.4%\n",
        "df1_1456 = df1[df1['연령'].isin([1, 4, 5, 6])] # 13,828, 45.1%"
      ],
      "metadata": {
        "id": "UV31QRX1t8nC"
      },
      "execution_count": null,
      "outputs": []
    },
    {
      "cell_type": "code",
      "source": [
        "df1_23.head()"
      ],
      "metadata": {
        "colab": {
          "base_uri": "https://localhost:8080/",
          "height": 632
        },
        "id": "yZHpHcnkCKoA",
        "outputId": "cc5aaa4a-3457-4005-9e97-cc6ffb9209a2"
      },
      "execution_count": null,
      "outputs": [
        {
          "output_type": "execute_result",
          "data": {
            "text/plain": [
              "      산                                    사이트제목 성별  연령  \\\n",
              "0   지리산                                      지리산  M   3   \n",
              "1   지리산                           지리산 : 네이버 통합검색  M   3   \n",
              "21  한라산              한라산이 사라졌다…청정의 섬 제주도 온종일 회색빛  F   3   \n",
              "29  무등산             광주 럭셔리하우스 무등산 시그니에 : 네이버 블로그  F   3   \n",
              "30  무등산  산수동 무등산 시그니에 시그니처 단독 주택 타운하우스 : 네이버 블로그  F   3   \n",
              "\n",
              "                        직업         소득   결혼          자녀             주거  시도  \\\n",
              "0   사무직 (일반사무직, 공무원, 직업군인)  600~699만원  아니오              연립주택/ 다세대/ 빌라  서울   \n",
              "1   사무직 (일반사무직, 공무원, 직업군인)  600~699만원  아니오              연립주택/ 다세대/ 빌라  서울   \n",
              "21  사무직 (일반사무직, 공무원, 직업군인)  100~199만원  아니오              연립주택/ 다세대/ 빌라  경기   \n",
              "29  사무직 (일반사무직, 공무원, 직업군인)  300~399만원  아니오                  아파트/ 주상복합  광주   \n",
              "30  사무직 (일반사무직, 공무원, 직업군인)  300~399만원  아니오                  아파트/ 주상복합  광주   \n",
              "\n",
              "          구      동             자동차  \n",
              "0      동대문구  답십리2동  경차 (모닝, 스파크 등)  \n",
              "1      동대문구  답십리2동  경차 (모닝, 스파크 등)  \n",
              "21  수원시 권선구    권선동             NaN  \n",
              "29       북구   두암3동             NaN  \n",
              "30       북구   두암3동             NaN  "
            ],
            "text/html": [
              "\n",
              "  <div id=\"df-e65cea0d-cfef-416a-8227-586cc98d0789\">\n",
              "    <div class=\"colab-df-container\">\n",
              "      <div>\n",
              "<style scoped>\n",
              "    .dataframe tbody tr th:only-of-type {\n",
              "        vertical-align: middle;\n",
              "    }\n",
              "\n",
              "    .dataframe tbody tr th {\n",
              "        vertical-align: top;\n",
              "    }\n",
              "\n",
              "    .dataframe thead th {\n",
              "        text-align: right;\n",
              "    }\n",
              "</style>\n",
              "<table border=\"1\" class=\"dataframe\">\n",
              "  <thead>\n",
              "    <tr style=\"text-align: right;\">\n",
              "      <th></th>\n",
              "      <th>산</th>\n",
              "      <th>사이트제목</th>\n",
              "      <th>성별</th>\n",
              "      <th>연령</th>\n",
              "      <th>직업</th>\n",
              "      <th>소득</th>\n",
              "      <th>결혼</th>\n",
              "      <th>자녀</th>\n",
              "      <th>주거</th>\n",
              "      <th>시도</th>\n",
              "      <th>구</th>\n",
              "      <th>동</th>\n",
              "      <th>자동차</th>\n",
              "    </tr>\n",
              "  </thead>\n",
              "  <tbody>\n",
              "    <tr>\n",
              "      <th>0</th>\n",
              "      <td>지리산</td>\n",
              "      <td>지리산</td>\n",
              "      <td>M</td>\n",
              "      <td>3</td>\n",
              "      <td>사무직 (일반사무직, 공무원, 직업군인)</td>\n",
              "      <td>600~699만원</td>\n",
              "      <td>아니오</td>\n",
              "      <td></td>\n",
              "      <td>연립주택/ 다세대/ 빌라</td>\n",
              "      <td>서울</td>\n",
              "      <td>동대문구</td>\n",
              "      <td>답십리2동</td>\n",
              "      <td>경차 (모닝, 스파크 등)</td>\n",
              "    </tr>\n",
              "    <tr>\n",
              "      <th>1</th>\n",
              "      <td>지리산</td>\n",
              "      <td>지리산 : 네이버 통합검색</td>\n",
              "      <td>M</td>\n",
              "      <td>3</td>\n",
              "      <td>사무직 (일반사무직, 공무원, 직업군인)</td>\n",
              "      <td>600~699만원</td>\n",
              "      <td>아니오</td>\n",
              "      <td></td>\n",
              "      <td>연립주택/ 다세대/ 빌라</td>\n",
              "      <td>서울</td>\n",
              "      <td>동대문구</td>\n",
              "      <td>답십리2동</td>\n",
              "      <td>경차 (모닝, 스파크 등)</td>\n",
              "    </tr>\n",
              "    <tr>\n",
              "      <th>21</th>\n",
              "      <td>한라산</td>\n",
              "      <td>한라산이 사라졌다…청정의 섬 제주도 온종일 회색빛</td>\n",
              "      <td>F</td>\n",
              "      <td>3</td>\n",
              "      <td>사무직 (일반사무직, 공무원, 직업군인)</td>\n",
              "      <td>100~199만원</td>\n",
              "      <td>아니오</td>\n",
              "      <td></td>\n",
              "      <td>연립주택/ 다세대/ 빌라</td>\n",
              "      <td>경기</td>\n",
              "      <td>수원시 권선구</td>\n",
              "      <td>권선동</td>\n",
              "      <td>NaN</td>\n",
              "    </tr>\n",
              "    <tr>\n",
              "      <th>29</th>\n",
              "      <td>무등산</td>\n",
              "      <td>광주 럭셔리하우스 무등산 시그니에 : 네이버 블로그</td>\n",
              "      <td>F</td>\n",
              "      <td>3</td>\n",
              "      <td>사무직 (일반사무직, 공무원, 직업군인)</td>\n",
              "      <td>300~399만원</td>\n",
              "      <td>아니오</td>\n",
              "      <td></td>\n",
              "      <td>아파트/ 주상복합</td>\n",
              "      <td>광주</td>\n",
              "      <td>북구</td>\n",
              "      <td>두암3동</td>\n",
              "      <td>NaN</td>\n",
              "    </tr>\n",
              "    <tr>\n",
              "      <th>30</th>\n",
              "      <td>무등산</td>\n",
              "      <td>산수동 무등산 시그니에 시그니처 단독 주택 타운하우스 : 네이버 블로그</td>\n",
              "      <td>F</td>\n",
              "      <td>3</td>\n",
              "      <td>사무직 (일반사무직, 공무원, 직업군인)</td>\n",
              "      <td>300~399만원</td>\n",
              "      <td>아니오</td>\n",
              "      <td></td>\n",
              "      <td>아파트/ 주상복합</td>\n",
              "      <td>광주</td>\n",
              "      <td>북구</td>\n",
              "      <td>두암3동</td>\n",
              "      <td>NaN</td>\n",
              "    </tr>\n",
              "  </tbody>\n",
              "</table>\n",
              "</div>\n",
              "      <button class=\"colab-df-convert\" onclick=\"convertToInteractive('df-e65cea0d-cfef-416a-8227-586cc98d0789')\"\n",
              "              title=\"Convert this dataframe to an interactive table.\"\n",
              "              style=\"display:none;\">\n",
              "        \n",
              "  <svg xmlns=\"http://www.w3.org/2000/svg\" height=\"24px\"viewBox=\"0 0 24 24\"\n",
              "       width=\"24px\">\n",
              "    <path d=\"M0 0h24v24H0V0z\" fill=\"none\"/>\n",
              "    <path d=\"M18.56 5.44l.94 2.06.94-2.06 2.06-.94-2.06-.94-.94-2.06-.94 2.06-2.06.94zm-11 1L8.5 8.5l.94-2.06 2.06-.94-2.06-.94L8.5 2.5l-.94 2.06-2.06.94zm10 10l.94 2.06.94-2.06 2.06-.94-2.06-.94-.94-2.06-.94 2.06-2.06.94z\"/><path d=\"M17.41 7.96l-1.37-1.37c-.4-.4-.92-.59-1.43-.59-.52 0-1.04.2-1.43.59L10.3 9.45l-7.72 7.72c-.78.78-.78 2.05 0 2.83L4 21.41c.39.39.9.59 1.41.59.51 0 1.02-.2 1.41-.59l7.78-7.78 2.81-2.81c.8-.78.8-2.07 0-2.86zM5.41 20L4 18.59l7.72-7.72 1.47 1.35L5.41 20z\"/>\n",
              "  </svg>\n",
              "      </button>\n",
              "      \n",
              "  <style>\n",
              "    .colab-df-container {\n",
              "      display:flex;\n",
              "      flex-wrap:wrap;\n",
              "      gap: 12px;\n",
              "    }\n",
              "\n",
              "    .colab-df-convert {\n",
              "      background-color: #E8F0FE;\n",
              "      border: none;\n",
              "      border-radius: 50%;\n",
              "      cursor: pointer;\n",
              "      display: none;\n",
              "      fill: #1967D2;\n",
              "      height: 32px;\n",
              "      padding: 0 0 0 0;\n",
              "      width: 32px;\n",
              "    }\n",
              "\n",
              "    .colab-df-convert:hover {\n",
              "      background-color: #E2EBFA;\n",
              "      box-shadow: 0px 1px 2px rgba(60, 64, 67, 0.3), 0px 1px 3px 1px rgba(60, 64, 67, 0.15);\n",
              "      fill: #174EA6;\n",
              "    }\n",
              "\n",
              "    [theme=dark] .colab-df-convert {\n",
              "      background-color: #3B4455;\n",
              "      fill: #D2E3FC;\n",
              "    }\n",
              "\n",
              "    [theme=dark] .colab-df-convert:hover {\n",
              "      background-color: #434B5C;\n",
              "      box-shadow: 0px 1px 3px 1px rgba(0, 0, 0, 0.15);\n",
              "      filter: drop-shadow(0px 1px 2px rgba(0, 0, 0, 0.3));\n",
              "      fill: #FFFFFF;\n",
              "    }\n",
              "  </style>\n",
              "\n",
              "      <script>\n",
              "        const buttonEl =\n",
              "          document.querySelector('#df-e65cea0d-cfef-416a-8227-586cc98d0789 button.colab-df-convert');\n",
              "        buttonEl.style.display =\n",
              "          google.colab.kernel.accessAllowed ? 'block' : 'none';\n",
              "\n",
              "        async function convertToInteractive(key) {\n",
              "          const element = document.querySelector('#df-e65cea0d-cfef-416a-8227-586cc98d0789');\n",
              "          const dataTable =\n",
              "            await google.colab.kernel.invokeFunction('convertToInteractive',\n",
              "                                                     [key], {});\n",
              "          if (!dataTable) return;\n",
              "\n",
              "          const docLinkHtml = 'Like what you see? Visit the ' +\n",
              "            '<a target=\"_blank\" href=https://colab.research.google.com/notebooks/data_table.ipynb>data table notebook</a>'\n",
              "            + ' to learn more about interactive tables.';\n",
              "          element.innerHTML = '';\n",
              "          dataTable['output_type'] = 'display_data';\n",
              "          await google.colab.output.renderOutput(dataTable, element);\n",
              "          const docLink = document.createElement('div');\n",
              "          docLink.innerHTML = docLinkHtml;\n",
              "          element.appendChild(docLink);\n",
              "        }\n",
              "      </script>\n",
              "    </div>\n",
              "  </div>\n",
              "  "
            ]
          },
          "metadata": {},
          "execution_count": 34
        }
      ]
    },
    {
      "cell_type": "markdown",
      "source": [
        "### 230대 성별"
      ],
      "metadata": {
        "id": "7082Q-e7w-bC"
      }
    },
    {
      "cell_type": "code",
      "source": [
        "sex_counts = df1_23['성별'].value_counts()\n",
        "sex_counts"
      ],
      "metadata": {
        "colab": {
          "base_uri": "https://localhost:8080/"
        },
        "id": "1YUYo0IJDyLt",
        "outputId": "b2e50396-53db-4e55-b2ea-e2139d68a844"
      },
      "execution_count": null,
      "outputs": [
        {
          "output_type": "execute_result",
          "data": {
            "text/plain": [
              "F    13523\n",
              "M     3341\n",
              "Name: 성별, dtype: int64"
            ]
          },
          "metadata": {},
          "execution_count": 36
        }
      ]
    },
    {
      "cell_type": "code",
      "source": [
        "round(sex_counts.loc['F'] / sex_counts.sum() * 100 , 1),\\\n",
        "round(sex_counts.loc['M'] / sex_counts.sum() * 100 , 1)"
      ],
      "metadata": {
        "colab": {
          "base_uri": "https://localhost:8080/"
        },
        "id": "mmykcmq4rbk_",
        "outputId": "01d57eb3-ee10-42cf-f805-9016c6786969"
      },
      "execution_count": null,
      "outputs": [
        {
          "output_type": "execute_result",
          "data": {
            "text/plain": [
              "(80.2, 19.8)"
            ]
          },
          "metadata": {},
          "execution_count": 39
        }
      ]
    },
    {
      "cell_type": "markdown",
      "source": [
        "### 230대 직업"
      ],
      "metadata": {
        "id": "1Kzp-toTr7_x"
      }
    },
    {
      "cell_type": "code",
      "source": [
        "df1_23['직업'].notnull().sum(), df1_23['소득'].notnull().sum()"
      ],
      "metadata": {
        "colab": {
          "base_uri": "https://localhost:8080/"
        },
        "id": "kGwbriHbCdTb",
        "outputId": "803680c7-281c-4ec6-9c15-98635a3c2921"
      },
      "execution_count": null,
      "outputs": [
        {
          "output_type": "execute_result",
          "data": {
            "text/plain": [
              "(16847, 16847)"
            ]
          },
          "metadata": {},
          "execution_count": 49
        }
      ]
    },
    {
      "cell_type": "code",
      "source": [
        "job_counts = df1_23['직업'].value_counts()\n",
        "job_counts"
      ],
      "metadata": {
        "colab": {
          "base_uri": "https://localhost:8080/"
        },
        "id": "QsaUaF-7s3ac",
        "outputId": "07f05be1-06c2-4086-a22a-b15742e6c369"
      },
      "execution_count": null,
      "outputs": [
        {
          "output_type": "execute_result",
          "data": {
            "text/plain": [
              "사무직 (일반사무직, 공무원, 직업군인)             6314\n",
              "주부 (전업주부, 파트타임 근무 주부)              3882\n",
              "전문직 (의사, 판검사, 예술가, 종교인)            1290\n",
              "학생 (초중고학생, 대학생, 대학원생)              1229\n",
              "교직 (교사, 유치원교사, 학원강사)               1173\n",
              "서비스직 (요식업, 숙박업, 미용실종업원)             701\n",
              "무직                                  646\n",
              "자영업 (도소매업, 숙박업, 미용업)                537\n",
              "관리직 (사장, 간부, 고위공무원)                 353\n",
              "기능직 (자동차정비, 운전기사, 안경사, 택시기사)        274\n",
              "기타                                  169\n",
              "생산/노무직 (생산감독, 경비원, 공장근로자)           159\n",
              "판매직 (상점점원, 보험설계사, 노점상)               86\n",
              "퇴직/연금생활자                             31\n",
              "농/축/광/수산업 (축산, 낙농업, 수산, 임업, 광업)       3\n",
              "Name: 직업, dtype: int64"
            ]
          },
          "metadata": {},
          "execution_count": 47
        }
      ]
    },
    {
      "cell_type": "code",
      "source": [
        "drop_jobs = job_counts[job_counts.index.str.contains('학생|퇴직|주부')]\n",
        "drop_jobs"
      ],
      "metadata": {
        "colab": {
          "base_uri": "https://localhost:8080/"
        },
        "id": "AgH1qBUSs7EH",
        "outputId": "3423ebb0-a1bd-4af1-89ab-51f24a08a37c"
      },
      "execution_count": null,
      "outputs": [
        {
          "output_type": "execute_result",
          "data": {
            "text/plain": [
              "주부 (전업주부, 파트타임 근무 주부)    3882\n",
              "학생 (초중고학생, 대학생, 대학원생)    1229\n",
              "퇴직/연금생활자                   31\n",
              "Name: 직업, dtype: int64"
            ]
          },
          "metadata": {},
          "execution_count": 53
        }
      ]
    },
    {
      "cell_type": "code",
      "source": [
        "round((job_counts.sum() - drop_jobs.sum() - 646) / len(df1_23) * 100, 1),\\\n",
        "job_counts.sum() - drop_jobs.sum() - 646"
      ],
      "metadata": {
        "colab": {
          "base_uri": "https://localhost:8080/"
        },
        "id": "91JWewIptKJj",
        "outputId": "9b84645c-6df4-4094-80cf-e597db32b1b5"
      },
      "execution_count": null,
      "outputs": [
        {
          "output_type": "execute_result",
          "data": {
            "text/plain": [
              "(65.6, 11059)"
            ]
          },
          "metadata": {},
          "execution_count": 57
        }
      ]
    },
    {
      "cell_type": "code",
      "source": [
        "job2_counts = df1_2['직업'].value_counts() # 310 무직\n",
        "job3_counts = df1_3['직업'].value_counts() # 336 무직"
      ],
      "metadata": {
        "colab": {
          "base_uri": "https://localhost:8080/"
        },
        "id": "kxQnZbBuujHJ",
        "outputId": "defa8884-5934-4509-b9c9-30730a7c9e5a"
      },
      "execution_count": null,
      "outputs": [
        {
          "output_type": "execute_result",
          "data": {
            "text/plain": [
              "학생 (초중고학생, 대학생, 대학원생)           1098\n",
              "사무직 (일반사무직, 공무원, 직업군인)           951\n",
              "무직                               310\n",
              "관리직 (사장, 간부, 고위공무원)              288\n",
              "자영업 (도소매업, 숙박업, 미용업)             175\n",
              "주부 (전업주부, 파트타임 근무 주부)            164\n",
              "전문직 (의사, 판검사, 예술가, 종교인)          155\n",
              "생산/노무직 (생산감독, 경비원, 공장근로자)        100\n",
              "기능직 (자동차정비, 운전기사, 안경사, 택시기사)      82\n",
              "기타                                69\n",
              "교직 (교사, 유치원교사, 학원강사)              61\n",
              "서비스직 (요식업, 숙박업, 미용실종업원)           51\n",
              "판매직 (상점점원, 보험설계사, 노점상)            28\n",
              "퇴직/연금생활자                          18\n",
              "Name: 직업, dtype: int64"
            ]
          },
          "metadata": {},
          "execution_count": 60
        }
      ]
    },
    {
      "cell_type": "code",
      "source": [
        "drop2_jobs = job2_counts[job2_counts.index.str.contains('학생|퇴직|주부')]\n",
        "drop3_jobs = job3_counts[job3_counts.index.str.contains('학생|퇴직|주부')]\n",
        "drop3_jobs"
      ],
      "metadata": {
        "colab": {
          "base_uri": "https://localhost:8080/"
        },
        "id": "OAiHSAVGtKGF",
        "outputId": "1594bca8-37f4-4f7b-defc-ef1b81ad6b4b"
      },
      "execution_count": null,
      "outputs": [
        {
          "output_type": "execute_result",
          "data": {
            "text/plain": [
              "주부 (전업주부, 파트타임 근무 주부)    3718\n",
              "학생 (초중고학생, 대학생, 대학원생)     131\n",
              "퇴직/연금생활자                   13\n",
              "Name: 직업, dtype: int64"
            ]
          },
          "metadata": {},
          "execution_count": 64
        }
      ]
    },
    {
      "cell_type": "code",
      "source": [
        "round((job2_counts.sum() - drop2_jobs.sum() - 310) / len(df1_23) * 100, 1),\\\n",
        "job2_counts.sum() - drop2_jobs.sum() - 310,\\\n",
        "round((job3_counts.sum() - drop3_jobs.sum() - 336) / len(df1_23) * 100, 1),\\\n",
        "job3_counts.sum() - drop3_jobs.sum() - 336"
      ],
      "metadata": {
        "colab": {
          "base_uri": "https://localhost:8080/"
        },
        "id": "wptWgYKhu_La",
        "outputId": "99e12687-9ea4-4685-d785-98a20d6c1a8d"
      },
      "execution_count": null,
      "outputs": [
        {
          "output_type": "execute_result",
          "data": {
            "text/plain": [
              "(11.6, 1960, 54.0, 9099)"
            ]
          },
          "metadata": {},
          "execution_count": 63
        }
      ]
    },
    {
      "cell_type": "markdown",
      "source": [
        "### 230대 자동차"
      ],
      "metadata": {
        "id": "FUPfNghvvwH1"
      }
    },
    {
      "cell_type": "code",
      "source": [
        "car_counts = df1_23['자동차'].value_counts()\n",
        "car_counts"
      ],
      "metadata": {
        "colab": {
          "base_uri": "https://localhost:8080/"
        },
        "id": "sE3CR3rnu_Hl",
        "outputId": "f30cc71b-3caa-4331-d964-d01ded5be5fe"
      },
      "execution_count": null,
      "outputs": [
        {
          "output_type": "execute_result",
          "data": {
            "text/plain": [
              "준중형차 (아반떼, K3, 크루즈, 제타급 등)          2684\n",
              "경차 (모닝, 스파크 등)                      1296\n",
              "중형차 (쏘나타, K5, 말리부, 골프급 등)           1161\n",
              "준중형SUV (투싼, 스포티지, QM5, 티구안급 등)       566\n",
              "준대형차 (그랜저, K7, 알페온, 캠리급, 파사트급 등)     523\n",
              "소형SUV/CUV (티볼리, QM3 등)               474\n",
              "MPV (카니발, 올란도, 피카소급, 오딧세이 등)         448\n",
              "중형SUV (싼타페, 쏘렌토, 캡티바, BMW X3급 등)     423\n",
              "대형차 (제너시스, BMW5급 등)                  275\n",
              "소형차 (액센트, 프라이드, 아베오, 피아트급 등)         207\n",
              "대형SUV (베라크루즈, 모하비, 투아렉급 등)           116\n",
              "준중형파생 (벨로스터, I30 등)                  107\n",
              "기타 (승합차/트럭/화물차/기타 차량 등)               18\n",
              "스포츠 (제네시스 쿠페, BMW M, 벤츠 AMG 등)        16\n",
              "프리미엄 (에쿠스, BMW7급 등)                    2\n",
              "Name: 자동차, dtype: int64"
            ]
          },
          "metadata": {},
          "execution_count": 70
        }
      ]
    },
    {
      "cell_type": "code",
      "source": [
        "round(car_counts.sum() / len(df1_23) * 100, 1),\\\n",
        "car_counts.sum()"
      ],
      "metadata": {
        "colab": {
          "base_uri": "https://localhost:8080/"
        },
        "id": "BAhsMFO1u_DM",
        "outputId": "2d0a14db-2652-464a-88f9-4509ea2eb9cd"
      },
      "execution_count": null,
      "outputs": [
        {
          "output_type": "execute_result",
          "data": {
            "text/plain": [
              "(49.3, 8316)"
            ]
          },
          "metadata": {},
          "execution_count": 71
        }
      ]
    },
    {
      "cell_type": "code",
      "source": [
        "car2_counts = df1_2['자동차'].value_counts()\n",
        "car3_counts = df1_3['자동차'].value_counts()\n",
        "\n",
        "round(car2_counts.sum() / len(df1_23) * 100, 1),\\\n",
        "car2_counts.sum(),\\\n",
        "round(car3_counts.sum() / len(df1_23) * 100, 1),\\\n",
        "car3_counts.sum()"
      ],
      "metadata": {
        "colab": {
          "base_uri": "https://localhost:8080/"
        },
        "id": "ZNbPkbaPwL2c",
        "outputId": "33be447f-5b7b-44c0-9d68-d6241c81f0d1"
      },
      "execution_count": null,
      "outputs": [
        {
          "output_type": "execute_result",
          "data": {
            "text/plain": [
              "(7.6, 1279, 41.7, 7037)"
            ]
          },
          "metadata": {},
          "execution_count": 72
        }
      ]
    },
    {
      "cell_type": "code",
      "source": [],
      "metadata": {
        "id": "AcjjTKbDwLyR"
      },
      "execution_count": null,
      "outputs": []
    },
    {
      "cell_type": "code",
      "source": [
        "df1_23['시도'].value_counts()[:5],\\\n",
        "df1_2['시도'].value_counts()[:5],\\\n",
        "df1_3['시도'].value_counts()[:5]"
      ],
      "metadata": {
        "colab": {
          "base_uri": "https://localhost:8080/"
        },
        "id": "_tqKqb6exF-H",
        "outputId": "af213b77-9426-493a-ea73-fb8331b6d87e"
      },
      "execution_count": null,
      "outputs": [
        {
          "output_type": "execute_result",
          "data": {
            "text/plain": [
              "(서울    5248\n",
              " 경기    3549\n",
              " 부산    1165\n",
              " 대구     923\n",
              " 인천     921\n",
              " Name: 시도, dtype: int64,\n",
              " 서울    991\n",
              " 경기    720\n",
              " 부산    545\n",
              " 경북    308\n",
              " 충북    154\n",
              " Name: 시도, dtype: int64,\n",
              " 서울    4257\n",
              " 경기    2829\n",
              " 경남     851\n",
              " 대구     822\n",
              " 인천     778\n",
              " Name: 시도, dtype: int64)"
            ]
          },
          "metadata": {},
          "execution_count": 74
        }
      ]
    },
    {
      "cell_type": "code",
      "source": [
        "df1_23[df1_23['시도'] == \"서울\"]['산'].value_counts()[:5],\\\n",
        "df1_2[df1_2['시도'] == \"서울\"]['산'].value_counts()[:5],\\\n",
        "df1_3[df1_3['시도'] == \"서울\"]['산'].value_counts()[:5]"
      ],
      "metadata": {
        "colab": {
          "base_uri": "https://localhost:8080/"
        },
        "id": "e8FcTHQvxjIh",
        "outputId": "c692ecb5-6a11-41b3-c4c4-8d5e7807eb2d"
      },
      "execution_count": null,
      "outputs": [
        {
          "output_type": "execute_result",
          "data": {
            "text/plain": [
              "(금강산    234\n",
              " 금계산    205\n",
              " 백두산    189\n",
              " 우장산    175\n",
              " 수락산    172\n",
              " Name: 산, dtype: int64,\n",
              " 우장산    129\n",
              " 고성산     63\n",
              " 금계산     56\n",
              " 마이산     43\n",
              " 아차산     41\n",
              " Name: 산, dtype: int64,\n",
              " 금강산    203\n",
              " 수락산    165\n",
              " 도덕산    158\n",
              " 금계산    149\n",
              " 백두산    149\n",
              " Name: 산, dtype: int64)"
            ]
          },
          "metadata": {},
          "execution_count": 75
        }
      ]
    },
    {
      "cell_type": "code",
      "source": [
        "df1_1456['시도'].value_counts()[:5],\\\n",
        "df1_1456[df1_1456['시도'] == \"서울\"]['산'].value_counts()[:5]"
      ],
      "metadata": {
        "colab": {
          "base_uri": "https://localhost:8080/"
        },
        "id": "W6esjYOwxzSb",
        "outputId": "e8456f97-fbbf-4236-fdf1-ab889ad97e8f"
      },
      "execution_count": null,
      "outputs": [
        {
          "output_type": "execute_result",
          "data": {
            "text/plain": [
              "(서울    5857\n",
              " 경기    3585\n",
              " 부산     672\n",
              " 인천     648\n",
              " 광주     579\n",
              " Name: 시도, dtype: int64,\n",
              " 금강산    246\n",
              " 우장산    242\n",
              " 백두산    217\n",
              " 금계산    207\n",
              " 설악산    204\n",
              " Name: 산, dtype: int64)"
            ]
          },
          "metadata": {},
          "execution_count": 76
        }
      ]
    },
    {
      "cell_type": "markdown",
      "source": [
        "# df2 : 등산로 선호 관광 장소 (Total : 15,308)"
      ],
      "metadata": {
        "id": "4oWbjXgyxjFt"
      }
    },
    {
      "cell_type": "code",
      "source": [
        "df2.head()"
      ],
      "metadata": {
        "colab": {
          "base_uri": "https://localhost:8080/",
          "height": 563
        },
        "id": "iXbkYWF7zheN",
        "outputId": "ed462e25-f362-48b5-c793-e1dcedde57f7"
      },
      "execution_count": null,
      "outputs": [
        {
          "output_type": "execute_result",
          "data": {
            "text/plain": [
              "  선호관광                                 사이트제목 성별  연령                      직업  \\\n",
              "0   남원  [남원 -전북] 시골집 - 수제돈가스국수 전문점 : 네이버 블로그  F   3  판매직 (상점점원, 보험설계사, 노점상)   \n",
              "1   남원                      남원 맛집 : 네이버 통합검색  F   3  판매직 (상점점원, 보험설계사, 노점상)   \n",
              "2   남원                남원 맛집 근사한 한끼 : 네이버 블로그  F   3  판매직 (상점점원, 보험설계사, 노점상)   \n",
              "3   남원         제주 남원 맛집 며칠 내내 폭식쓰~ : 네이버 블로그  F   3  판매직 (상점점원, 보험설계사, 노점상)   \n",
              "4   남원              전북남원 맛집 : 네이버 플레이스 검색 결과  F   3  판매직 (상점점원, 보험설계사, 노점상)   \n",
              "\n",
              "          소득     결혼      자녀    주거  시도    구    동  자동차  \n",
              "0  200~299만원  예      자녀 있음   단독주택  전북  장수군  천천면  NaN  \n",
              "1  200~299만원  예      자녀 있음   단독주택  전북  장수군  천천면  NaN  \n",
              "2  200~299만원  예      자녀 있음   단독주택  전북  장수군  천천면  NaN  \n",
              "3  200~299만원  예      자녀 있음   단독주택  전북  장수군  천천면  NaN  \n",
              "4  200~299만원  예      자녀 있음   단독주택  전북  장수군  천천면  NaN  "
            ],
            "text/html": [
              "\n",
              "  <div id=\"df-284e6e08-45d3-441e-b3bf-6beb2cf1f2d9\">\n",
              "    <div class=\"colab-df-container\">\n",
              "      <div>\n",
              "<style scoped>\n",
              "    .dataframe tbody tr th:only-of-type {\n",
              "        vertical-align: middle;\n",
              "    }\n",
              "\n",
              "    .dataframe tbody tr th {\n",
              "        vertical-align: top;\n",
              "    }\n",
              "\n",
              "    .dataframe thead th {\n",
              "        text-align: right;\n",
              "    }\n",
              "</style>\n",
              "<table border=\"1\" class=\"dataframe\">\n",
              "  <thead>\n",
              "    <tr style=\"text-align: right;\">\n",
              "      <th></th>\n",
              "      <th>선호관광</th>\n",
              "      <th>사이트제목</th>\n",
              "      <th>성별</th>\n",
              "      <th>연령</th>\n",
              "      <th>직업</th>\n",
              "      <th>소득</th>\n",
              "      <th>결혼</th>\n",
              "      <th>자녀</th>\n",
              "      <th>주거</th>\n",
              "      <th>시도</th>\n",
              "      <th>구</th>\n",
              "      <th>동</th>\n",
              "      <th>자동차</th>\n",
              "    </tr>\n",
              "  </thead>\n",
              "  <tbody>\n",
              "    <tr>\n",
              "      <th>0</th>\n",
              "      <td>남원</td>\n",
              "      <td>[남원 -전북] 시골집 - 수제돈가스국수 전문점 : 네이버 블로그</td>\n",
              "      <td>F</td>\n",
              "      <td>3</td>\n",
              "      <td>판매직 (상점점원, 보험설계사, 노점상)</td>\n",
              "      <td>200~299만원</td>\n",
              "      <td>예</td>\n",
              "      <td>자녀 있음</td>\n",
              "      <td>단독주택</td>\n",
              "      <td>전북</td>\n",
              "      <td>장수군</td>\n",
              "      <td>천천면</td>\n",
              "      <td>NaN</td>\n",
              "    </tr>\n",
              "    <tr>\n",
              "      <th>1</th>\n",
              "      <td>남원</td>\n",
              "      <td>남원 맛집 : 네이버 통합검색</td>\n",
              "      <td>F</td>\n",
              "      <td>3</td>\n",
              "      <td>판매직 (상점점원, 보험설계사, 노점상)</td>\n",
              "      <td>200~299만원</td>\n",
              "      <td>예</td>\n",
              "      <td>자녀 있음</td>\n",
              "      <td>단독주택</td>\n",
              "      <td>전북</td>\n",
              "      <td>장수군</td>\n",
              "      <td>천천면</td>\n",
              "      <td>NaN</td>\n",
              "    </tr>\n",
              "    <tr>\n",
              "      <th>2</th>\n",
              "      <td>남원</td>\n",
              "      <td>남원 맛집 근사한 한끼 : 네이버 블로그</td>\n",
              "      <td>F</td>\n",
              "      <td>3</td>\n",
              "      <td>판매직 (상점점원, 보험설계사, 노점상)</td>\n",
              "      <td>200~299만원</td>\n",
              "      <td>예</td>\n",
              "      <td>자녀 있음</td>\n",
              "      <td>단독주택</td>\n",
              "      <td>전북</td>\n",
              "      <td>장수군</td>\n",
              "      <td>천천면</td>\n",
              "      <td>NaN</td>\n",
              "    </tr>\n",
              "    <tr>\n",
              "      <th>3</th>\n",
              "      <td>남원</td>\n",
              "      <td>제주 남원 맛집 며칠 내내 폭식쓰~ : 네이버 블로그</td>\n",
              "      <td>F</td>\n",
              "      <td>3</td>\n",
              "      <td>판매직 (상점점원, 보험설계사, 노점상)</td>\n",
              "      <td>200~299만원</td>\n",
              "      <td>예</td>\n",
              "      <td>자녀 있음</td>\n",
              "      <td>단독주택</td>\n",
              "      <td>전북</td>\n",
              "      <td>장수군</td>\n",
              "      <td>천천면</td>\n",
              "      <td>NaN</td>\n",
              "    </tr>\n",
              "    <tr>\n",
              "      <th>4</th>\n",
              "      <td>남원</td>\n",
              "      <td>전북남원 맛집 : 네이버 플레이스 검색 결과</td>\n",
              "      <td>F</td>\n",
              "      <td>3</td>\n",
              "      <td>판매직 (상점점원, 보험설계사, 노점상)</td>\n",
              "      <td>200~299만원</td>\n",
              "      <td>예</td>\n",
              "      <td>자녀 있음</td>\n",
              "      <td>단독주택</td>\n",
              "      <td>전북</td>\n",
              "      <td>장수군</td>\n",
              "      <td>천천면</td>\n",
              "      <td>NaN</td>\n",
              "    </tr>\n",
              "  </tbody>\n",
              "</table>\n",
              "</div>\n",
              "      <button class=\"colab-df-convert\" onclick=\"convertToInteractive('df-284e6e08-45d3-441e-b3bf-6beb2cf1f2d9')\"\n",
              "              title=\"Convert this dataframe to an interactive table.\"\n",
              "              style=\"display:none;\">\n",
              "        \n",
              "  <svg xmlns=\"http://www.w3.org/2000/svg\" height=\"24px\"viewBox=\"0 0 24 24\"\n",
              "       width=\"24px\">\n",
              "    <path d=\"M0 0h24v24H0V0z\" fill=\"none\"/>\n",
              "    <path d=\"M18.56 5.44l.94 2.06.94-2.06 2.06-.94-2.06-.94-.94-2.06-.94 2.06-2.06.94zm-11 1L8.5 8.5l.94-2.06 2.06-.94-2.06-.94L8.5 2.5l-.94 2.06-2.06.94zm10 10l.94 2.06.94-2.06 2.06-.94-2.06-.94-.94-2.06-.94 2.06-2.06.94z\"/><path d=\"M17.41 7.96l-1.37-1.37c-.4-.4-.92-.59-1.43-.59-.52 0-1.04.2-1.43.59L10.3 9.45l-7.72 7.72c-.78.78-.78 2.05 0 2.83L4 21.41c.39.39.9.59 1.41.59.51 0 1.02-.2 1.41-.59l7.78-7.78 2.81-2.81c.8-.78.8-2.07 0-2.86zM5.41 20L4 18.59l7.72-7.72 1.47 1.35L5.41 20z\"/>\n",
              "  </svg>\n",
              "      </button>\n",
              "      \n",
              "  <style>\n",
              "    .colab-df-container {\n",
              "      display:flex;\n",
              "      flex-wrap:wrap;\n",
              "      gap: 12px;\n",
              "    }\n",
              "\n",
              "    .colab-df-convert {\n",
              "      background-color: #E8F0FE;\n",
              "      border: none;\n",
              "      border-radius: 50%;\n",
              "      cursor: pointer;\n",
              "      display: none;\n",
              "      fill: #1967D2;\n",
              "      height: 32px;\n",
              "      padding: 0 0 0 0;\n",
              "      width: 32px;\n",
              "    }\n",
              "\n",
              "    .colab-df-convert:hover {\n",
              "      background-color: #E2EBFA;\n",
              "      box-shadow: 0px 1px 2px rgba(60, 64, 67, 0.3), 0px 1px 3px 1px rgba(60, 64, 67, 0.15);\n",
              "      fill: #174EA6;\n",
              "    }\n",
              "\n",
              "    [theme=dark] .colab-df-convert {\n",
              "      background-color: #3B4455;\n",
              "      fill: #D2E3FC;\n",
              "    }\n",
              "\n",
              "    [theme=dark] .colab-df-convert:hover {\n",
              "      background-color: #434B5C;\n",
              "      box-shadow: 0px 1px 3px 1px rgba(0, 0, 0, 0.15);\n",
              "      filter: drop-shadow(0px 1px 2px rgba(0, 0, 0, 0.3));\n",
              "      fill: #FFFFFF;\n",
              "    }\n",
              "  </style>\n",
              "\n",
              "      <script>\n",
              "        const buttonEl =\n",
              "          document.querySelector('#df-284e6e08-45d3-441e-b3bf-6beb2cf1f2d9 button.colab-df-convert');\n",
              "        buttonEl.style.display =\n",
              "          google.colab.kernel.accessAllowed ? 'block' : 'none';\n",
              "\n",
              "        async function convertToInteractive(key) {\n",
              "          const element = document.querySelector('#df-284e6e08-45d3-441e-b3bf-6beb2cf1f2d9');\n",
              "          const dataTable =\n",
              "            await google.colab.kernel.invokeFunction('convertToInteractive',\n",
              "                                                     [key], {});\n",
              "          if (!dataTable) return;\n",
              "\n",
              "          const docLinkHtml = 'Like what you see? Visit the ' +\n",
              "            '<a target=\"_blank\" href=https://colab.research.google.com/notebooks/data_table.ipynb>data table notebook</a>'\n",
              "            + ' to learn more about interactive tables.';\n",
              "          element.innerHTML = '';\n",
              "          dataTable['output_type'] = 'display_data';\n",
              "          await google.colab.output.renderOutput(dataTable, element);\n",
              "          const docLink = document.createElement('div');\n",
              "          docLink.innerHTML = docLinkHtml;\n",
              "          element.appendChild(docLink);\n",
              "        }\n",
              "      </script>\n",
              "    </div>\n",
              "  </div>\n",
              "  "
            ]
          },
          "metadata": {},
          "execution_count": 78
        }
      ]
    },
    {
      "cell_type": "markdown",
      "source": [
        "### 연령"
      ],
      "metadata": {
        "id": "9hpLucPw0yP4"
      }
    },
    {
      "cell_type": "code",
      "source": [
        "age_counts = df2['연령'].value_counts()\n",
        "age_counts"
      ],
      "metadata": {
        "colab": {
          "base_uri": "https://localhost:8080/"
        },
        "id": "jG6UYrVnzjH6",
        "outputId": "e4fbdc87-f404-4064-b7c2-5fe60b1b5822"
      },
      "execution_count": null,
      "outputs": [
        {
          "output_type": "execute_result",
          "data": {
            "text/plain": [
              "3    7406\n",
              "4    4499\n",
              "2    1923\n",
              "5    1408\n",
              "1      44\n",
              "6      28\n",
              "Name: 연령, dtype: int64"
            ]
          },
          "metadata": {},
          "execution_count": 79
        }
      ]
    },
    {
      "cell_type": "code",
      "source": [
        "age_counts.loc[[2,3]].sum(), round(age_counts.loc[[2,3]].sum() / age_counts.sum() * 100, 1),\\\n",
        "age_counts.loc[2], round(age_counts.loc[2] / age_counts.sum() * 100, 1),\\\n",
        "age_counts.loc[3], round(age_counts.loc[3] / age_counts.sum() * 100, 1),\\\n",
        "age_counts.drop([2,3]).sum(), round(age_counts.drop([2,3]).sum() / age_counts.sum() * 100, 1)"
      ],
      "metadata": {
        "colab": {
          "base_uri": "https://localhost:8080/"
        },
        "id": "BpOwyZVKzrvy",
        "outputId": "c2cf8038-f967-43e2-fb13-c64e20f04c49"
      },
      "execution_count": null,
      "outputs": [
        {
          "output_type": "execute_result",
          "data": {
            "text/plain": [
              "(9329, 60.9, 1923, 12.6, 7406, 48.4, 5979, 39.1)"
            ]
          },
          "metadata": {},
          "execution_count": 80
        }
      ]
    },
    {
      "cell_type": "code",
      "source": [
        "df2_23 = df2[df2['연령'].isin([2, 3])]\n",
        "df2_2 = df2[(df2['연령'] == 2)]\n",
        "df2_3 = df2[(df2['연령'] == 3)]\n",
        "df2_1456 = df2[df2['연령'].isin([1, 4, 5, 6])]"
      ],
      "metadata": {
        "id": "OzeUIX2h1Rcf"
      },
      "execution_count": null,
      "outputs": []
    },
    {
      "cell_type": "markdown",
      "source": [
        "### 230대 성별"
      ],
      "metadata": {
        "id": "7b5NtDyRz9Tg"
      }
    },
    {
      "cell_type": "code",
      "source": [
        "sex_counts = df2_23['성별'].value_counts()\n",
        "sex_counts"
      ],
      "metadata": {
        "id": "ZnGEh4PN0xaH",
        "colab": {
          "base_uri": "https://localhost:8080/"
        },
        "outputId": "ece64aec-e280-4056-fb85-7fbd8b0f9a2d"
      },
      "execution_count": null,
      "outputs": [
        {
          "output_type": "execute_result",
          "data": {
            "text/plain": [
              "F    7936\n",
              "M    1393\n",
              "Name: 성별, dtype: int64"
            ]
          },
          "metadata": {},
          "execution_count": 87
        }
      ]
    },
    {
      "cell_type": "code",
      "source": [
        "round(sex_counts.loc['F'] / sex_counts.sum() * 100 , 1),\\\n",
        "round(sex_counts.loc['M'] / sex_counts.sum() * 100 , 1)"
      ],
      "metadata": {
        "colab": {
          "base_uri": "https://localhost:8080/"
        },
        "id": "4Ao8T5s21lJC",
        "outputId": "075ff508-f248-42ad-ff8b-f630ec4889f3"
      },
      "execution_count": null,
      "outputs": [
        {
          "output_type": "execute_result",
          "data": {
            "text/plain": [
              "(85.1, 14.9)"
            ]
          },
          "metadata": {},
          "execution_count": 88
        }
      ]
    },
    {
      "cell_type": "markdown",
      "source": [
        "### 230대 직업"
      ],
      "metadata": {
        "id": "yoN8Y1y61rED"
      }
    },
    {
      "cell_type": "code",
      "source": [
        "job_counts = df2_23['직업'].value_counts()\n",
        "job_counts"
      ],
      "metadata": {
        "colab": {
          "base_uri": "https://localhost:8080/"
        },
        "id": "YEiiUZIe1xaW",
        "outputId": "c1ff106f-5274-4276-d1c4-503273785b34"
      },
      "execution_count": null,
      "outputs": [
        {
          "output_type": "execute_result",
          "data": {
            "text/plain": [
              "주부 (전업주부, 파트타임 근무 주부)              3156\n",
              "사무직 (일반사무직, 공무원, 직업군인)             2887\n",
              "교직 (교사, 유치원교사, 학원강사)                632\n",
              "전문직 (의사, 판검사, 예술가, 종교인)             572\n",
              "학생 (초중고학생, 대학생, 대학원생)               524\n",
              "자영업 (도소매업, 숙박업, 미용업)                403\n",
              "무직                                  392\n",
              "서비스직 (요식업, 숙박업, 미용실종업원)             298\n",
              "기능직 (자동차정비, 운전기사, 안경사, 택시기사)        144\n",
              "생산/노무직 (생산감독, 경비원, 공장근로자)            98\n",
              "기타                                   86\n",
              "판매직 (상점점원, 보험설계사, 노점상)               58\n",
              "관리직 (사장, 간부, 고위공무원)                  51\n",
              "농/축/광/수산업 (축산, 낙농업, 수산, 임업, 광업)      12\n",
              "퇴직/연금생활자                             11\n",
              "Name: 직업, dtype: int64"
            ]
          },
          "metadata": {},
          "execution_count": 89
        }
      ]
    },
    {
      "cell_type": "code",
      "source": [
        "drop_jobs = job_counts[job_counts.index.str.contains('학생|퇴직|주부')]\n",
        "drop_jobs"
      ],
      "metadata": {
        "colab": {
          "base_uri": "https://localhost:8080/"
        },
        "id": "C6kMzItB11lG",
        "outputId": "dc4c50d3-645b-403d-d78b-9fda521cae63"
      },
      "execution_count": null,
      "outputs": [
        {
          "output_type": "execute_result",
          "data": {
            "text/plain": [
              "주부 (전업주부, 파트타임 근무 주부)    3156\n",
              "학생 (초중고학생, 대학생, 대학원생)     524\n",
              "퇴직/연금생활자                   11\n",
              "Name: 직업, dtype: int64"
            ]
          },
          "metadata": {},
          "execution_count": 90
        }
      ]
    },
    {
      "cell_type": "code",
      "source": [
        "round((job_counts.sum() - drop_jobs.sum() - 392) / len(df2_23) * 100, 1),\\\n",
        "job_counts.sum() - drop_jobs.sum() - 392"
      ],
      "metadata": {
        "colab": {
          "base_uri": "https://localhost:8080/"
        },
        "id": "-TXHYHFd19qK",
        "outputId": "e26dc0d9-e1db-4906-c8d1-9da18adf8012"
      },
      "execution_count": null,
      "outputs": [
        {
          "output_type": "execute_result",
          "data": {
            "text/plain": [
              "(56.2, 5241)"
            ]
          },
          "metadata": {},
          "execution_count": 91
        }
      ]
    },
    {
      "cell_type": "code",
      "source": [
        "job2_counts = df2_2['직업'].value_counts() # 215 무직\n",
        "job3_counts = df2_3['직업'].value_counts() # 177 무직"
      ],
      "metadata": {
        "id": "F4zxy4jA2K7Q"
      },
      "execution_count": null,
      "outputs": []
    },
    {
      "cell_type": "code",
      "source": [
        "drop2_jobs = job2_counts[job2_counts.index.str.contains('학생|퇴직|주부')]\n",
        "drop3_jobs = job3_counts[job3_counts.index.str.contains('학생|퇴직|주부')]"
      ],
      "metadata": {
        "id": "hp4Y3zuC2Q5a"
      },
      "execution_count": null,
      "outputs": []
    },
    {
      "cell_type": "code",
      "source": [
        "round((job2_counts.sum() - drop2_jobs.sum() - 215) / len(df2_23) * 100, 1),\\\n",
        "job2_counts.sum() - drop2_jobs.sum() - 215,\\\n",
        "round((job3_counts.sum() - drop3_jobs.sum() - 177) / len(df2_23) * 100, 1),\\\n",
        "job3_counts.sum() - drop3_jobs.sum() - 177"
      ],
      "metadata": {
        "colab": {
          "base_uri": "https://localhost:8080/"
        },
        "id": "DREn5w822XMD",
        "outputId": "f62c09d8-a688-4390-a08a-60b8e154aa40"
      },
      "execution_count": null,
      "outputs": [
        {
          "output_type": "execute_result",
          "data": {
            "text/plain": [
              "(9.8, 917, 46.4, 4324)"
            ]
          },
          "metadata": {},
          "execution_count": 96
        }
      ]
    },
    {
      "cell_type": "markdown",
      "source": [
        "### 230대 자동차"
      ],
      "metadata": {
        "id": "jubiPu_l2g25"
      }
    },
    {
      "cell_type": "code",
      "source": [
        "car_counts = df2_23['자동차'].value_counts()\n",
        "car_counts"
      ],
      "metadata": {
        "colab": {
          "base_uri": "https://localhost:8080/"
        },
        "id": "oSOYfvW-2k3Y",
        "outputId": "107d67c8-d16d-4574-854c-f06e4e969671"
      },
      "execution_count": null,
      "outputs": [
        {
          "output_type": "execute_result",
          "data": {
            "text/plain": [
              "준중형차 (아반떼, K3, 크루즈, 제타급 등)          1034\n",
              "경차 (모닝, 스파크 등)                       698\n",
              "중형차 (쏘나타, K5, 말리부, 골프급 등)            604\n",
              "준대형차 (그랜저, K7, 알페온, 캠리급, 파사트급 등)     427\n",
              "준중형SUV (투싼, 스포티지, QM5, 티구안급 등)       393\n",
              "소형SUV/CUV (티볼리, QM3 등)               280\n",
              "소형차 (액센트, 프라이드, 아베오, 피아트급 등)         156\n",
              "중형SUV (싼타페, 쏘렌토, 캡티바, BMW X3급 등)     152\n",
              "MPV (카니발, 올란도, 피카소급, 오딧세이 등)         127\n",
              "대형차 (제너시스, BMW5급 등)                   95\n",
              "준중형파생 (벨로스터, I30 등)                   86\n",
              "대형SUV (베라크루즈, 모하비, 투아렉급 등)            67\n",
              "스포츠 (제네시스 쿠페, BMW M, 벤츠 AMG 등)        35\n",
              "기타 (승합차/트럭/화물차/기타 차량 등)                7\n",
              "Name: 자동차, dtype: int64"
            ]
          },
          "metadata": {},
          "execution_count": 97
        }
      ]
    },
    {
      "cell_type": "code",
      "source": [
        "round(car_counts.sum() / len(df2_23) * 100, 1),\\\n",
        "car_counts.sum()"
      ],
      "metadata": {
        "colab": {
          "base_uri": "https://localhost:8080/"
        },
        "id": "uv-ZA8Wi2nIY",
        "outputId": "db47564b-2818-4fbd-e4e6-9966586da724"
      },
      "execution_count": null,
      "outputs": [
        {
          "output_type": "execute_result",
          "data": {
            "text/plain": [
              "(44.6, 4161)"
            ]
          },
          "metadata": {},
          "execution_count": 98
        }
      ]
    },
    {
      "cell_type": "code",
      "source": [
        "car2_counts = df2_2['자동차'].value_counts()\n",
        "car3_counts = df2_3['자동차'].value_counts()\n",
        "\n",
        "round(car2_counts.sum() / len(df2_23) * 100, 1),\\\n",
        "car2_counts.sum(),\\\n",
        "round(car3_counts.sum() / len(df2_23) * 100, 1),\\\n",
        "car3_counts.sum()"
      ],
      "metadata": {
        "colab": {
          "base_uri": "https://localhost:8080/"
        },
        "id": "390t_GT52s71",
        "outputId": "b7a7b0bc-14d6-4855-c687-a411f492a61d"
      },
      "execution_count": null,
      "outputs": [
        {
          "output_type": "execute_result",
          "data": {
            "text/plain": [
              "(7.6, 713, 37.0, 3448)"
            ]
          },
          "metadata": {},
          "execution_count": 99
        }
      ]
    },
    {
      "cell_type": "markdown",
      "source": [
        "### 230대 거주지"
      ],
      "metadata": {
        "id": "Ah3Dg3R03AAB"
      }
    },
    {
      "cell_type": "code",
      "source": [
        "df2_23['시도'].value_counts()[:5],\\\n",
        "df2_2['시도'].value_counts()[:5],\\\n",
        "df2_3['시도'].value_counts()[:5]"
      ],
      "metadata": {
        "colab": {
          "base_uri": "https://localhost:8080/"
        },
        "id": "chuS7Ucy3Ekn",
        "outputId": "291c3aa7-6687-495f-dd81-4c7389bc7784"
      },
      "execution_count": null,
      "outputs": [
        {
          "output_type": "execute_result",
          "data": {
            "text/plain": [
              "(서울    2910\n",
              " 경기    1945\n",
              " 부산    1177\n",
              " 인천     513\n",
              " 강원     462\n",
              " Name: 시도, dtype: int64,\n",
              " 경기    436\n",
              " 부산    378\n",
              " 서울    271\n",
              " 강원    250\n",
              " 인천    100\n",
              " Name: 시도, dtype: int64,\n",
              " 서울    2639\n",
              " 경기    1509\n",
              " 부산     799\n",
              " 인천     413\n",
              " 충남     411\n",
              " Name: 시도, dtype: int64)"
            ]
          },
          "metadata": {},
          "execution_count": 100
        }
      ]
    },
    {
      "cell_type": "code",
      "source": [
        "df2_23[df2_23['시도'] == \"서울\"]['선호관광'].value_counts()[:5],\\\n",
        "df2_2[df2_2['시도'] == \"경기\"]['선호관광'].value_counts()[:5],\\\n",
        "df2_3[df2_3['시도'] == \"서울\"]['선호관광'].value_counts()[:5]"
      ],
      "metadata": {
        "colab": {
          "base_uri": "https://localhost:8080/"
        },
        "id": "2iU2e4sR3GVP",
        "outputId": "2c2ce24f-a939-4062-f1ae-1843a5c34e99"
      },
      "execution_count": null,
      "outputs": [
        {
          "output_type": "execute_result",
          "data": {
            "text/plain": [
              "(해운대    514\n",
              " 공릉     385\n",
              " 장흥     149\n",
              " 주문진     76\n",
              " 수승대     71\n",
              " Name: 선호관광, dtype: int64,\n",
              " 해운대       50\n",
              " 대천해수욕장    44\n",
              " 남원        39\n",
              " 예당        26\n",
              " 공릉        17\n",
              " Name: 선호관광, dtype: int64,\n",
              " 해운대    492\n",
              " 공릉     363\n",
              " 장흥     143\n",
              " 수승대     71\n",
              " 주문진     70\n",
              " Name: 선호관광, dtype: int64)"
            ]
          },
          "metadata": {},
          "execution_count": 101
        }
      ]
    },
    {
      "cell_type": "code",
      "source": [
        "df2_1456['시도'].value_counts()[:5],\\\n",
        "df2_1456[df2_1456['시도'] == \"서울\"]['선호관광'].value_counts()[:5]"
      ],
      "metadata": {
        "colab": {
          "base_uri": "https://localhost:8080/"
        },
        "id": "ppKS6iN33QO9",
        "outputId": "3f38f726-18b5-43dd-c1af-d80f3af73c56"
      },
      "execution_count": null,
      "outputs": [
        {
          "output_type": "execute_result",
          "data": {
            "text/plain": [
              "(서울    2478\n",
              " 경기    1329\n",
              " 부산     417\n",
              " 전북     247\n",
              " 광주     245\n",
              " Name: 시도, dtype: int64,\n",
              " 해운대    204\n",
              " 봉은사    101\n",
              " 공릉     100\n",
              " 울릉도     84\n",
              " 주문진     81\n",
              " Name: 선호관광, dtype: int64)"
            ]
          },
          "metadata": {},
          "execution_count": 103
        }
      ]
    },
    {
      "cell_type": "markdown",
      "source": [
        "# df3 : 등산로 관심인구 관심사/관심분야 (포털 검색 분야) 정보(포털 검색 분야) 정보 (Total : 873,021)"
      ],
      "metadata": {
        "id": "2A1sBO6Z3VAc"
      }
    },
    {
      "cell_type": "code",
      "source": [
        "df3.head()"
      ],
      "metadata": {
        "colab": {
          "base_uri": "https://localhost:8080/",
          "height": 649
        },
        "id": "Nb0vj2Oo8F0-",
        "outputId": "887e8ece-60aa-4a34-b58e-29f349c6e037"
      },
      "execution_count": null,
      "outputs": [
        {
          "output_type": "execute_result",
          "data": {
            "text/plain": [
              "   주요관심                                              사이트제목 성별  연령  \\\n",
              "0  TV연예    배우 윤주빈 알고보니 윤봉길 의사 종손…3.1절 기념식 편지낭독 :: 네이버 TV연예  F   4   \n",
              "1  TV연예               [단독]정인선 조보아 이어 골목식당 새 MC :: 네이버 TV연예  F   4   \n",
              "2  TV연예  윤주빈 3.1절 편지 낭독→윤봉길 종손 화제→꽃길 응원 봇물[스타이슈] :: 네이버...  F   4   \n",
              "3  TV연예  ‘해투4’ 박유나 “김보라 ‘왜 또 나가냐’고”→전현무 “지금 정신없을 때” :: ...  F   4   \n",
              "4  TV연예  박유천 전 연인 황하나 의미심장 글…“남자 하나 잘못 만나 별일 다 겪네” :: 네...  F   4   \n",
              "\n",
              "                      직업         소득     결혼      자녀         주거  시도     구     동  \\\n",
              "0  주부 (전업주부, 파트타임 근무 주부)  300~399만원  예      자녀 있음   아파트/ 주상복합  경기  의정부시  호원1동   \n",
              "1  주부 (전업주부, 파트타임 근무 주부)  300~399만원  예      자녀 있음   아파트/ 주상복합  경기  의정부시  호원1동   \n",
              "2  주부 (전업주부, 파트타임 근무 주부)  300~399만원  예      자녀 있음   아파트/ 주상복합  경기  의정부시  호원1동   \n",
              "3  주부 (전업주부, 파트타임 근무 주부)  300~399만원  예      자녀 있음   아파트/ 주상복합  경기  의정부시  호원1동   \n",
              "4  주부 (전업주부, 파트타임 근무 주부)  300~399만원  예      자녀 있음   아파트/ 주상복합  경기  의정부시  호원1동   \n",
              "\n",
              "   자동차  \n",
              "0  NaN  \n",
              "1  NaN  \n",
              "2  NaN  \n",
              "3  NaN  \n",
              "4  NaN  "
            ],
            "text/html": [
              "\n",
              "  <div id=\"df-5cc89d9b-48b7-4613-928d-400fc1d1d120\">\n",
              "    <div class=\"colab-df-container\">\n",
              "      <div>\n",
              "<style scoped>\n",
              "    .dataframe tbody tr th:only-of-type {\n",
              "        vertical-align: middle;\n",
              "    }\n",
              "\n",
              "    .dataframe tbody tr th {\n",
              "        vertical-align: top;\n",
              "    }\n",
              "\n",
              "    .dataframe thead th {\n",
              "        text-align: right;\n",
              "    }\n",
              "</style>\n",
              "<table border=\"1\" class=\"dataframe\">\n",
              "  <thead>\n",
              "    <tr style=\"text-align: right;\">\n",
              "      <th></th>\n",
              "      <th>주요관심</th>\n",
              "      <th>사이트제목</th>\n",
              "      <th>성별</th>\n",
              "      <th>연령</th>\n",
              "      <th>직업</th>\n",
              "      <th>소득</th>\n",
              "      <th>결혼</th>\n",
              "      <th>자녀</th>\n",
              "      <th>주거</th>\n",
              "      <th>시도</th>\n",
              "      <th>구</th>\n",
              "      <th>동</th>\n",
              "      <th>자동차</th>\n",
              "    </tr>\n",
              "  </thead>\n",
              "  <tbody>\n",
              "    <tr>\n",
              "      <th>0</th>\n",
              "      <td>TV연예</td>\n",
              "      <td>배우 윤주빈 알고보니 윤봉길 의사 종손…3.1절 기념식 편지낭독 :: 네이버 TV연예</td>\n",
              "      <td>F</td>\n",
              "      <td>4</td>\n",
              "      <td>주부 (전업주부, 파트타임 근무 주부)</td>\n",
              "      <td>300~399만원</td>\n",
              "      <td>예</td>\n",
              "      <td>자녀 있음</td>\n",
              "      <td>아파트/ 주상복합</td>\n",
              "      <td>경기</td>\n",
              "      <td>의정부시</td>\n",
              "      <td>호원1동</td>\n",
              "      <td>NaN</td>\n",
              "    </tr>\n",
              "    <tr>\n",
              "      <th>1</th>\n",
              "      <td>TV연예</td>\n",
              "      <td>[단독]정인선 조보아 이어 골목식당 새 MC :: 네이버 TV연예</td>\n",
              "      <td>F</td>\n",
              "      <td>4</td>\n",
              "      <td>주부 (전업주부, 파트타임 근무 주부)</td>\n",
              "      <td>300~399만원</td>\n",
              "      <td>예</td>\n",
              "      <td>자녀 있음</td>\n",
              "      <td>아파트/ 주상복합</td>\n",
              "      <td>경기</td>\n",
              "      <td>의정부시</td>\n",
              "      <td>호원1동</td>\n",
              "      <td>NaN</td>\n",
              "    </tr>\n",
              "    <tr>\n",
              "      <th>2</th>\n",
              "      <td>TV연예</td>\n",
              "      <td>윤주빈 3.1절 편지 낭독→윤봉길 종손 화제→꽃길 응원 봇물[스타이슈] :: 네이버...</td>\n",
              "      <td>F</td>\n",
              "      <td>4</td>\n",
              "      <td>주부 (전업주부, 파트타임 근무 주부)</td>\n",
              "      <td>300~399만원</td>\n",
              "      <td>예</td>\n",
              "      <td>자녀 있음</td>\n",
              "      <td>아파트/ 주상복합</td>\n",
              "      <td>경기</td>\n",
              "      <td>의정부시</td>\n",
              "      <td>호원1동</td>\n",
              "      <td>NaN</td>\n",
              "    </tr>\n",
              "    <tr>\n",
              "      <th>3</th>\n",
              "      <td>TV연예</td>\n",
              "      <td>‘해투4’ 박유나 “김보라 ‘왜 또 나가냐’고”→전현무 “지금 정신없을 때” :: ...</td>\n",
              "      <td>F</td>\n",
              "      <td>4</td>\n",
              "      <td>주부 (전업주부, 파트타임 근무 주부)</td>\n",
              "      <td>300~399만원</td>\n",
              "      <td>예</td>\n",
              "      <td>자녀 있음</td>\n",
              "      <td>아파트/ 주상복합</td>\n",
              "      <td>경기</td>\n",
              "      <td>의정부시</td>\n",
              "      <td>호원1동</td>\n",
              "      <td>NaN</td>\n",
              "    </tr>\n",
              "    <tr>\n",
              "      <th>4</th>\n",
              "      <td>TV연예</td>\n",
              "      <td>박유천 전 연인 황하나 의미심장 글…“남자 하나 잘못 만나 별일 다 겪네” :: 네...</td>\n",
              "      <td>F</td>\n",
              "      <td>4</td>\n",
              "      <td>주부 (전업주부, 파트타임 근무 주부)</td>\n",
              "      <td>300~399만원</td>\n",
              "      <td>예</td>\n",
              "      <td>자녀 있음</td>\n",
              "      <td>아파트/ 주상복합</td>\n",
              "      <td>경기</td>\n",
              "      <td>의정부시</td>\n",
              "      <td>호원1동</td>\n",
              "      <td>NaN</td>\n",
              "    </tr>\n",
              "  </tbody>\n",
              "</table>\n",
              "</div>\n",
              "      <button class=\"colab-df-convert\" onclick=\"convertToInteractive('df-5cc89d9b-48b7-4613-928d-400fc1d1d120')\"\n",
              "              title=\"Convert this dataframe to an interactive table.\"\n",
              "              style=\"display:none;\">\n",
              "        \n",
              "  <svg xmlns=\"http://www.w3.org/2000/svg\" height=\"24px\"viewBox=\"0 0 24 24\"\n",
              "       width=\"24px\">\n",
              "    <path d=\"M0 0h24v24H0V0z\" fill=\"none\"/>\n",
              "    <path d=\"M18.56 5.44l.94 2.06.94-2.06 2.06-.94-2.06-.94-.94-2.06-.94 2.06-2.06.94zm-11 1L8.5 8.5l.94-2.06 2.06-.94-2.06-.94L8.5 2.5l-.94 2.06-2.06.94zm10 10l.94 2.06.94-2.06 2.06-.94-2.06-.94-.94-2.06-.94 2.06-2.06.94z\"/><path d=\"M17.41 7.96l-1.37-1.37c-.4-.4-.92-.59-1.43-.59-.52 0-1.04.2-1.43.59L10.3 9.45l-7.72 7.72c-.78.78-.78 2.05 0 2.83L4 21.41c.39.39.9.59 1.41.59.51 0 1.02-.2 1.41-.59l7.78-7.78 2.81-2.81c.8-.78.8-2.07 0-2.86zM5.41 20L4 18.59l7.72-7.72 1.47 1.35L5.41 20z\"/>\n",
              "  </svg>\n",
              "      </button>\n",
              "      \n",
              "  <style>\n",
              "    .colab-df-container {\n",
              "      display:flex;\n",
              "      flex-wrap:wrap;\n",
              "      gap: 12px;\n",
              "    }\n",
              "\n",
              "    .colab-df-convert {\n",
              "      background-color: #E8F0FE;\n",
              "      border: none;\n",
              "      border-radius: 50%;\n",
              "      cursor: pointer;\n",
              "      display: none;\n",
              "      fill: #1967D2;\n",
              "      height: 32px;\n",
              "      padding: 0 0 0 0;\n",
              "      width: 32px;\n",
              "    }\n",
              "\n",
              "    .colab-df-convert:hover {\n",
              "      background-color: #E2EBFA;\n",
              "      box-shadow: 0px 1px 2px rgba(60, 64, 67, 0.3), 0px 1px 3px 1px rgba(60, 64, 67, 0.15);\n",
              "      fill: #174EA6;\n",
              "    }\n",
              "\n",
              "    [theme=dark] .colab-df-convert {\n",
              "      background-color: #3B4455;\n",
              "      fill: #D2E3FC;\n",
              "    }\n",
              "\n",
              "    [theme=dark] .colab-df-convert:hover {\n",
              "      background-color: #434B5C;\n",
              "      box-shadow: 0px 1px 3px 1px rgba(0, 0, 0, 0.15);\n",
              "      filter: drop-shadow(0px 1px 2px rgba(0, 0, 0, 0.3));\n",
              "      fill: #FFFFFF;\n",
              "    }\n",
              "  </style>\n",
              "\n",
              "      <script>\n",
              "        const buttonEl =\n",
              "          document.querySelector('#df-5cc89d9b-48b7-4613-928d-400fc1d1d120 button.colab-df-convert');\n",
              "        buttonEl.style.display =\n",
              "          google.colab.kernel.accessAllowed ? 'block' : 'none';\n",
              "\n",
              "        async function convertToInteractive(key) {\n",
              "          const element = document.querySelector('#df-5cc89d9b-48b7-4613-928d-400fc1d1d120');\n",
              "          const dataTable =\n",
              "            await google.colab.kernel.invokeFunction('convertToInteractive',\n",
              "                                                     [key], {});\n",
              "          if (!dataTable) return;\n",
              "\n",
              "          const docLinkHtml = 'Like what you see? Visit the ' +\n",
              "            '<a target=\"_blank\" href=https://colab.research.google.com/notebooks/data_table.ipynb>data table notebook</a>'\n",
              "            + ' to learn more about interactive tables.';\n",
              "          element.innerHTML = '';\n",
              "          dataTable['output_type'] = 'display_data';\n",
              "          await google.colab.output.renderOutput(dataTable, element);\n",
              "          const docLink = document.createElement('div');\n",
              "          docLink.innerHTML = docLinkHtml;\n",
              "          element.appendChild(docLink);\n",
              "        }\n",
              "      </script>\n",
              "    </div>\n",
              "  </div>\n",
              "  "
            ]
          },
          "metadata": {},
          "execution_count": 106
        }
      ]
    },
    {
      "cell_type": "markdown",
      "source": [
        "### AGE"
      ],
      "metadata": {
        "id": "Tsw1w3Ws8Y5g"
      }
    },
    {
      "cell_type": "code",
      "source": [
        "age_counts = df3['연령'].value_counts()\n",
        "age_counts"
      ],
      "metadata": {
        "colab": {
          "base_uri": "https://localhost:8080/"
        },
        "id": "T_2_2GQr8Gu-",
        "outputId": "744e2b0d-ce12-4d89-91a5-226019bd5a52"
      },
      "execution_count": null,
      "outputs": [
        {
          "output_type": "execute_result",
          "data": {
            "text/plain": [
              "3    350798\n",
              "4    277820\n",
              "2    124283\n",
              "5    115338\n",
              "1      2783\n",
              "6      1999\n",
              "Name: 연령, dtype: int64"
            ]
          },
          "metadata": {},
          "execution_count": 108
        }
      ]
    },
    {
      "cell_type": "code",
      "source": [
        "age_counts.loc[[2,3]].sum(), round(age_counts.loc[[2,3]].sum() / age_counts.sum() * 100, 1),\\\n",
        "age_counts.loc[2], round(age_counts.loc[2] / age_counts.sum() * 100, 1),\\\n",
        "age_counts.loc[3], round(age_counts.loc[3] / age_counts.sum() * 100, 1),\\\n",
        "age_counts.drop([2,3]).sum(), round(age_counts.drop([2,3]).sum() / age_counts.sum() * 100, 1)"
      ],
      "metadata": {
        "colab": {
          "base_uri": "https://localhost:8080/"
        },
        "id": "ecIreZ8u8SjK",
        "outputId": "66e72c20-ce38-4e15-ea3c-7df696b0a300"
      },
      "execution_count": null,
      "outputs": [
        {
          "output_type": "execute_result",
          "data": {
            "text/plain": [
              "(475081, 54.4, 124283, 14.2, 350798, 40.2, 397940, 45.6)"
            ]
          },
          "metadata": {},
          "execution_count": 109
        }
      ]
    },
    {
      "cell_type": "code",
      "source": [
        "df3_23 = df3[df3['연령'].isin([2, 3])]\n",
        "df3_2 = df3[(df3['연령'] == 2)]\n",
        "df3_3 = df3[(df3['연령'] == 3)]\n",
        "df3_1456 = df3[df3['연령'].isin([1, 4, 5, 6])]"
      ],
      "metadata": {
        "id": "YGU3sHhK8piF"
      },
      "execution_count": null,
      "outputs": []
    },
    {
      "cell_type": "markdown",
      "source": [
        "### 230대 성별"
      ],
      "metadata": {
        "id": "mNVjrnGs83Af"
      }
    },
    {
      "cell_type": "code",
      "source": [
        "sex_counts = df3_23['성별'].value_counts()\n",
        "sex_counts"
      ],
      "metadata": {
        "colab": {
          "base_uri": "https://localhost:8080/"
        },
        "id": "Al86Lb0b853P",
        "outputId": "46b2696b-0c30-42ee-b9b2-1c17079c19d2"
      },
      "execution_count": null,
      "outputs": [
        {
          "output_type": "execute_result",
          "data": {
            "text/plain": [
              "M    257833\n",
              "F    217248\n",
              "Name: 성별, dtype: int64"
            ]
          },
          "metadata": {},
          "execution_count": 112
        }
      ]
    },
    {
      "cell_type": "code",
      "source": [
        "round(sex_counts.loc['F'] / sex_counts.sum() * 100 , 1),\\\n",
        "round(sex_counts.loc['M'] / sex_counts.sum() * 100 , 1)"
      ],
      "metadata": {
        "colab": {
          "base_uri": "https://localhost:8080/"
        },
        "id": "NqbEdoyu87i2",
        "outputId": "02f51a70-7bd5-4646-9f87-86fb3480fa7e"
      },
      "execution_count": null,
      "outputs": [
        {
          "output_type": "execute_result",
          "data": {
            "text/plain": [
              "(45.7, 54.3)"
            ]
          },
          "metadata": {},
          "execution_count": 113
        }
      ]
    },
    {
      "cell_type": "markdown",
      "source": [
        "### 230대 직업"
      ],
      "metadata": {
        "id": "oON0Vlfe89Lr"
      }
    },
    {
      "cell_type": "code",
      "source": [
        "job_counts = df3_23['직업'].value_counts()\n",
        "job_counts"
      ],
      "metadata": {
        "colab": {
          "base_uri": "https://localhost:8080/"
        },
        "id": "5iqR_c7Q9BRq",
        "outputId": "aec6698e-44da-43c3-fe16-d7631efccf44"
      },
      "execution_count": null,
      "outputs": [
        {
          "output_type": "execute_result",
          "data": {
            "text/plain": [
              "사무직 (일반사무직, 공무원, 직업군인)             165935\n",
              "학생 (초중고학생, 대학생, 대학원생)               73464\n",
              "주부 (전업주부, 파트타임 근무 주부)               50836\n",
              "전문직 (의사, 판검사, 예술가, 종교인)             35699\n",
              "기능직 (자동차정비, 운전기사, 안경사, 택시기사)        30363\n",
              "무직                                  28486\n",
              "자영업 (도소매업, 숙박업, 미용업)                22341\n",
              "교직 (교사, 유치원교사, 학원강사)                20937\n",
              "생산/노무직 (생산감독, 경비원, 공장근로자)           14491\n",
              "기타                                  12217\n",
              "관리직 (사장, 간부, 고위공무원)                  9418\n",
              "서비스직 (요식업, 숙박업, 미용실종업원)              5767\n",
              "퇴직/연금생활자                             3176\n",
              "판매직 (상점점원, 보험설계사, 노점상)               1378\n",
              "농/축/광/수산업 (축산, 낙농업, 수산, 임업, 광업)       240\n",
              "Name: 직업, dtype: int64"
            ]
          },
          "metadata": {},
          "execution_count": 114
        }
      ]
    },
    {
      "cell_type": "code",
      "source": [
        "drop_jobs = job_counts[job_counts.index.str.contains('학생|퇴직|주부')]\n",
        "drop_jobs # 28486 무직"
      ],
      "metadata": {
        "colab": {
          "base_uri": "https://localhost:8080/"
        },
        "id": "r_i991st9Cjk",
        "outputId": "be60818d-8094-405a-df9f-432c647bf127"
      },
      "execution_count": null,
      "outputs": [
        {
          "output_type": "execute_result",
          "data": {
            "text/plain": [
              "학생 (초중고학생, 대학생, 대학원생)    73464\n",
              "주부 (전업주부, 파트타임 근무 주부)    50836\n",
              "퇴직/연금생활자                  3176\n",
              "Name: 직업, dtype: int64"
            ]
          },
          "metadata": {},
          "execution_count": 115
        }
      ]
    },
    {
      "cell_type": "code",
      "source": [
        "round((job_counts.sum() - drop_jobs.sum() - 28486) / len(df3_23) * 100, 1),\\\n",
        "job_counts.sum() - drop_jobs.sum() - 28486"
      ],
      "metadata": {
        "colab": {
          "base_uri": "https://localhost:8080/"
        },
        "id": "uRplHcRs9IX0",
        "outputId": "d53ad7be-7367-40c2-b23c-9e0c02393dfc"
      },
      "execution_count": null,
      "outputs": [
        {
          "output_type": "execute_result",
          "data": {
            "text/plain": [
              "(67.1, 318786)"
            ]
          },
          "metadata": {},
          "execution_count": 116
        }
      ]
    },
    {
      "cell_type": "code",
      "source": [
        "job2_counts = df3_2['직업'].value_counts() # 6011 무직\n",
        "job3_counts = df3_3['직업'].value_counts() # 22475 무직"
      ],
      "metadata": {
        "id": "xTYR06YF9QzG"
      },
      "execution_count": null,
      "outputs": []
    },
    {
      "cell_type": "code",
      "source": [
        "drop2_jobs = job2_counts[job2_counts.index.str.contains('학생|퇴직|주부')]\n",
        "drop3_jobs = job3_counts[job3_counts.index.str.contains('학생|퇴직|주부')]"
      ],
      "metadata": {
        "id": "qGJ161Ge9Wuk"
      },
      "execution_count": null,
      "outputs": []
    },
    {
      "cell_type": "code",
      "source": [
        "round((job2_counts.sum() - drop2_jobs.sum() - 6011) / len(df3_23) * 100, 1),\\\n",
        "job2_counts.sum() - drop2_jobs.sum() - 6011,\\\n",
        "round((job3_counts.sum() - drop3_jobs.sum() - 22475) / len(df3_23) * 100, 1),\\\n",
        "job3_counts.sum() - drop3_jobs.sum() - 22475"
      ],
      "metadata": {
        "colab": {
          "base_uri": "https://localhost:8080/"
        },
        "id": "N-ezykcI9cze",
        "outputId": "12d6780d-ed4f-4d49-9d8b-ce71b2f83614"
      },
      "execution_count": null,
      "outputs": [
        {
          "output_type": "execute_result",
          "data": {
            "text/plain": [
              "(12.8, 60574, 54.4, 258212)"
            ]
          },
          "metadata": {},
          "execution_count": 121
        }
      ]
    },
    {
      "cell_type": "markdown",
      "source": [
        "### 230대 자동차"
      ],
      "metadata": {
        "id": "DUwEPxhE9k5V"
      }
    },
    {
      "cell_type": "code",
      "source": [
        "car_counts = df3_23['자동차'].value_counts()\n",
        "car_counts"
      ],
      "metadata": {
        "colab": {
          "base_uri": "https://localhost:8080/"
        },
        "id": "LyG0FIdx9ob0",
        "outputId": "27526986-df47-45ee-e6c3-dbdebdcdb661"
      },
      "execution_count": null,
      "outputs": [
        {
          "output_type": "execute_result",
          "data": {
            "text/plain": [
              "중형차 (쏘나타, K5, 말리부, 골프급 등)           63086\n",
              "준중형차 (아반떼, K3, 크루즈, 제타급 등)          49419\n",
              "준중형SUV (투싼, 스포티지, QM5, 티구안급 등)      40899\n",
              "경차 (모닝, 스파크 등)                      27160\n",
              "준대형차 (그랜저, K7, 알페온, 캠리급, 파사트급 등)    20486\n",
              "대형SUV (베라크루즈, 모하비, 투아렉급 등)          11185\n",
              "중형SUV (싼타페, 쏘렌토, 캡티바, BMW X3급 등)    11171\n",
              "소형SUV/CUV (티볼리, QM3 등)               7242\n",
              "소형차 (액센트, 프라이드, 아베오, 피아트급 등)         4985\n",
              "MPV (카니발, 올란도, 피카소급, 오딧세이 등)         2727\n",
              "대형차 (제너시스, BMW5급 등)                  2574\n",
              "기타 (승합차/트럭/화물차/기타 차량 등)              1441\n",
              "스포츠 (제네시스 쿠페, BMW M, 벤츠 AMG 등)        856\n",
              "준중형파생 (벨로스터, I30 등)                   257\n",
              "프리미엄 (에쿠스, BMW7급 등)                    44\n",
              "Name: 자동차, dtype: int64"
            ]
          },
          "metadata": {},
          "execution_count": 122
        }
      ]
    },
    {
      "cell_type": "code",
      "source": [
        "round(car_counts.sum() / len(df3_23) * 100, 1),\\\n",
        "car_counts.sum()"
      ],
      "metadata": {
        "colab": {
          "base_uri": "https://localhost:8080/"
        },
        "id": "7Tv2uGsg9p5y",
        "outputId": "b30ecabc-3769-46c4-e5ad-185cdac446e5"
      },
      "execution_count": null,
      "outputs": [
        {
          "output_type": "execute_result",
          "data": {
            "text/plain": [
              "(51.3, 243532)"
            ]
          },
          "metadata": {},
          "execution_count": 123
        }
      ]
    },
    {
      "cell_type": "code",
      "source": [
        "car2_counts = df3_2['자동차'].value_counts()\n",
        "car3_counts = df3_3['자동차'].value_counts()\n",
        "\n",
        "round(car2_counts.sum() / len(df3_23) * 100, 1),\\\n",
        "car2_counts.sum(),\\\n",
        "round(car3_counts.sum() / len(df3_23) * 100, 1),\\\n",
        "car3_counts.sum()"
      ],
      "metadata": {
        "colab": {
          "base_uri": "https://localhost:8080/"
        },
        "id": "Gkhve_iH9tAW",
        "outputId": "3365c81f-f914-46d4-8370-af6d3d1b607f"
      },
      "execution_count": null,
      "outputs": [
        {
          "output_type": "execute_result",
          "data": {
            "text/plain": [
              "(8.4, 40125, 42.8, 203407)"
            ]
          },
          "metadata": {},
          "execution_count": 124
        }
      ]
    },
    {
      "cell_type": "markdown",
      "source": [
        "### 230대 거주지"
      ],
      "metadata": {
        "id": "hmxw6FnS9yZi"
      }
    },
    {
      "cell_type": "code",
      "source": [
        "df3_23['시도'].value_counts()[:5],\\\n",
        "df3_2['시도'].value_counts()[:5],\\\n",
        "df3_3['시도'].value_counts()[:5]\n",
        "# 주요관심"
      ],
      "metadata": {
        "colab": {
          "base_uri": "https://localhost:8080/"
        },
        "id": "LBxq384C90Gf",
        "outputId": "cb2f76a3-1f19-45a3-fbce-f70675a7097e"
      },
      "execution_count": null,
      "outputs": [
        {
          "output_type": "execute_result",
          "data": {
            "text/plain": [
              "(서울    171643\n",
              " 경기    131357\n",
              " 부산     37246\n",
              " 인천     35748\n",
              " 대구     20058\n",
              " Name: 시도, dtype: int64,\n",
              " 서울    27521\n",
              " 경기    26540\n",
              " 인천    14691\n",
              " 대구    11611\n",
              " 충북    10877\n",
              " Name: 시도, dtype: int64,\n",
              " 서울    144122\n",
              " 경기    104817\n",
              " 부산     27045\n",
              " 인천     21057\n",
              " 충남     12356\n",
              " Name: 시도, dtype: int64)"
            ]
          },
          "metadata": {},
          "execution_count": 125
        }
      ]
    },
    {
      "cell_type": "code",
      "source": [
        "df3_23[df3_23['시도'] == \"서울\"]['주요관심'].value_counts()[:5],\\\n",
        "df3_2[df3_2['시도'] == \"서울\"]['주요관심'].value_counts()[:5],\\\n",
        "df3_3[df3_3['시도'] == \"서울\"]['주요관심'].value_counts()[:5]"
      ],
      "metadata": {
        "colab": {
          "base_uri": "https://localhost:8080/"
        },
        "id": "llrovvhC93YT",
        "outputId": "4cb6f852-bee6-4a15-e4a1-28e931efff3e"
      },
      "execution_count": null,
      "outputs": [
        {
          "output_type": "execute_result",
          "data": {
            "text/plain": [
              "(스포츠     80067\n",
              " TV연예    41600\n",
              " 사회      30069\n",
              " 경제      10029\n",
              " 정치       9326\n",
              " Name: 주요관심, dtype: int64,\n",
              " 스포츠     10127\n",
              " TV연예     8505\n",
              " 경제       4251\n",
              " 사회       4167\n",
              " 정치        332\n",
              " Name: 주요관심, dtype: int64,\n",
              " 스포츠     69940\n",
              " TV연예    33095\n",
              " 사회      25902\n",
              " 정치       8994\n",
              " 경제       5778\n",
              " Name: 주요관심, dtype: int64)"
            ]
          },
          "metadata": {},
          "execution_count": 128
        }
      ]
    },
    {
      "cell_type": "code",
      "source": [
        "df3_1456['시도'].value_counts()[:5],\\\n",
        "df3_1456[df3_1456['시도'] == \"서울\"]['주요관심'].value_counts()[:5]"
      ],
      "metadata": {
        "colab": {
          "base_uri": "https://localhost:8080/"
        },
        "id": "1yRAIcxa96ht",
        "outputId": "92d0e789-99ad-4734-aed1-b7c45e4cbf22"
      },
      "execution_count": null,
      "outputs": [
        {
          "output_type": "execute_result",
          "data": {
            "text/plain": [
              "(서울    174087\n",
              " 경기     88596\n",
              " 인천     24956\n",
              " 대전     22590\n",
              " 대구     16750\n",
              " Name: 시도, dtype: int64,\n",
              " 스포츠     74998\n",
              " 사회      60391\n",
              " TV연예    25122\n",
              " 경제       7848\n",
              " 정치       4710\n",
              " Name: 주요관심, dtype: int64)"
            ]
          },
          "metadata": {},
          "execution_count": 130
        }
      ]
    },
    {
      "cell_type": "code",
      "source": [
        "df3_23[(df3_23['시도'] == \"서울\") & (df3_23['자동차'].notnull())]"
      ],
      "metadata": {
        "colab": {
          "base_uri": "https://localhost:8080/",
          "height": 659
        },
        "id": "5kxEV5SHBXaN",
        "outputId": "2ad7d440-28f0-475d-e67a-ecdd02127d95"
      },
      "execution_count": 139,
      "outputs": [
        {
          "output_type": "execute_result",
          "data": {
            "text/plain": [
              "        주요관심                                              사이트제목 성별  연령  \\\n",
              "12      TV연예       왜그래 풍상씨 유준상 NG 없는 완벽 연기…반박불가 인생캐 :: 네이버 TV연예  F   3   \n",
              "13      TV연예  박유천 前 여친 황하나 다 폭로할 것→돌연 삭제…이틀째 실검장악 [종합] :: 네이...  F   3   \n",
              "14      TV연예       김정훈 가장 큰 죄는 거짓말…변명 불가한 실수 [MK체크] :: 네이버 TV연예  F   3   \n",
              "23       스포츠            사바하 유지태 미스터리한 존재감으로 강렬한 눈도장 :: 네이버 TV연예  M   3   \n",
              "24       스포츠            사바하 유지태 미스터리한 존재감으로 강렬한 눈도장 :: 네이버 TV연예  M   3   \n",
              "...      ...                                                ... ..  ..   \n",
              "872694   스포츠          뛰고 싶은 자이언-쓰고 싶은 NOP 그래도 조심 또 조심 :: 네이버스포츠  M   3   \n",
              "872695   스포츠                 행복 농구 하워드 벤치에서 나오는 게 즐겁다 :: 네이버스포츠  M   3   \n",
              "872696   스포츠               고향 배신했다 분노한 팬들…불에 탄 즐라탄 동상 :: 네이버스포츠  M   3   \n",
              "872697   스포츠                                       농구 : 네이버 스포츠  M   3   \n",
              "872777   스포츠               세세뇽 손흥민 백업으로? 무리뉴 그는 왼쪽 윙어 :: 네이버스포츠  M   3   \n",
              "\n",
              "                                  직업         소득   결혼          자녀  \\\n",
              "12            사무직 (일반사무직, 공무원, 직업군인)  800~899만원  아니오               \n",
              "13            사무직 (일반사무직, 공무원, 직업군인)  800~899만원  아니오               \n",
              "14            사무직 (일반사무직, 공무원, 직업군인)  800~899만원  아니오               \n",
              "23            사무직 (일반사무직, 공무원, 직업군인)  600~699만원  아니오               \n",
              "24            사무직 (일반사무직, 공무원, 직업군인)  600~699만원  아니오               \n",
              "...                              ...        ...  ...         ...   \n",
              "872694  기능직 (자동차정비, 운전기사, 안경사, 택시기사)  600~699만원  아니오               \n",
              "872695  기능직 (자동차정비, 운전기사, 안경사, 택시기사)  600~699만원  아니오               \n",
              "872696  기능직 (자동차정비, 운전기사, 안경사, 택시기사)  600~699만원  아니오               \n",
              "872697  기능직 (자동차정비, 운전기사, 안경사, 택시기사)  600~699만원  아니오               \n",
              "872777          자영업 (도소매업, 숙박업, 미용업)  700~799만원  아니오               \n",
              "\n",
              "                   주거  시도     구      동                        자동차  \n",
              "12          아파트/ 주상복합  서울  동대문구   장안1동  중형차 (쏘나타, K5, 말리부, 골프급 등)  \n",
              "13          아파트/ 주상복합  서울  동대문구   장안1동  중형차 (쏘나타, K5, 말리부, 골프급 등)  \n",
              "14          아파트/ 주상복합  서울  동대문구   장안1동  중형차 (쏘나타, K5, 말리부, 골프급 등)  \n",
              "23      연립주택/ 다세대/ 빌라  서울  동대문구  답십리2동             경차 (모닝, 스파크 등)  \n",
              "24      연립주택/ 다세대/ 빌라  서울  동대문구  답십리2동             경차 (모닝, 스파크 등)  \n",
              "...               ...  ..   ...    ...                        ...  \n",
              "872694  연립주택/ 다세대/ 빌라  서울   양천구   신월3동  중형차 (쏘나타, K5, 말리부, 골프급 등)  \n",
              "872695  연립주택/ 다세대/ 빌라  서울   양천구   신월3동  중형차 (쏘나타, K5, 말리부, 골프급 등)  \n",
              "872696  연립주택/ 다세대/ 빌라  서울   양천구   신월3동  중형차 (쏘나타, K5, 말리부, 골프급 등)  \n",
              "872697  연립주택/ 다세대/ 빌라  서울   양천구   신월3동  중형차 (쏘나타, K5, 말리부, 골프급 등)  \n",
              "872777      아파트/ 주상복합  서울   강남구   논현1동        대형차 (제너시스, BMW5급 등)  \n",
              "\n",
              "[103188 rows x 13 columns]"
            ],
            "text/html": [
              "\n",
              "  <div id=\"df-56894689-caa1-4cab-b70c-0b28d5d96848\">\n",
              "    <div class=\"colab-df-container\">\n",
              "      <div>\n",
              "<style scoped>\n",
              "    .dataframe tbody tr th:only-of-type {\n",
              "        vertical-align: middle;\n",
              "    }\n",
              "\n",
              "    .dataframe tbody tr th {\n",
              "        vertical-align: top;\n",
              "    }\n",
              "\n",
              "    .dataframe thead th {\n",
              "        text-align: right;\n",
              "    }\n",
              "</style>\n",
              "<table border=\"1\" class=\"dataframe\">\n",
              "  <thead>\n",
              "    <tr style=\"text-align: right;\">\n",
              "      <th></th>\n",
              "      <th>주요관심</th>\n",
              "      <th>사이트제목</th>\n",
              "      <th>성별</th>\n",
              "      <th>연령</th>\n",
              "      <th>직업</th>\n",
              "      <th>소득</th>\n",
              "      <th>결혼</th>\n",
              "      <th>자녀</th>\n",
              "      <th>주거</th>\n",
              "      <th>시도</th>\n",
              "      <th>구</th>\n",
              "      <th>동</th>\n",
              "      <th>자동차</th>\n",
              "    </tr>\n",
              "  </thead>\n",
              "  <tbody>\n",
              "    <tr>\n",
              "      <th>12</th>\n",
              "      <td>TV연예</td>\n",
              "      <td>왜그래 풍상씨 유준상 NG 없는 완벽 연기…반박불가 인생캐 :: 네이버 TV연예</td>\n",
              "      <td>F</td>\n",
              "      <td>3</td>\n",
              "      <td>사무직 (일반사무직, 공무원, 직업군인)</td>\n",
              "      <td>800~899만원</td>\n",
              "      <td>아니오</td>\n",
              "      <td></td>\n",
              "      <td>아파트/ 주상복합</td>\n",
              "      <td>서울</td>\n",
              "      <td>동대문구</td>\n",
              "      <td>장안1동</td>\n",
              "      <td>중형차 (쏘나타, K5, 말리부, 골프급 등)</td>\n",
              "    </tr>\n",
              "    <tr>\n",
              "      <th>13</th>\n",
              "      <td>TV연예</td>\n",
              "      <td>박유천 前 여친 황하나 다 폭로할 것→돌연 삭제…이틀째 실검장악 [종합] :: 네이...</td>\n",
              "      <td>F</td>\n",
              "      <td>3</td>\n",
              "      <td>사무직 (일반사무직, 공무원, 직업군인)</td>\n",
              "      <td>800~899만원</td>\n",
              "      <td>아니오</td>\n",
              "      <td></td>\n",
              "      <td>아파트/ 주상복합</td>\n",
              "      <td>서울</td>\n",
              "      <td>동대문구</td>\n",
              "      <td>장안1동</td>\n",
              "      <td>중형차 (쏘나타, K5, 말리부, 골프급 등)</td>\n",
              "    </tr>\n",
              "    <tr>\n",
              "      <th>14</th>\n",
              "      <td>TV연예</td>\n",
              "      <td>김정훈 가장 큰 죄는 거짓말…변명 불가한 실수 [MK체크] :: 네이버 TV연예</td>\n",
              "      <td>F</td>\n",
              "      <td>3</td>\n",
              "      <td>사무직 (일반사무직, 공무원, 직업군인)</td>\n",
              "      <td>800~899만원</td>\n",
              "      <td>아니오</td>\n",
              "      <td></td>\n",
              "      <td>아파트/ 주상복합</td>\n",
              "      <td>서울</td>\n",
              "      <td>동대문구</td>\n",
              "      <td>장안1동</td>\n",
              "      <td>중형차 (쏘나타, K5, 말리부, 골프급 등)</td>\n",
              "    </tr>\n",
              "    <tr>\n",
              "      <th>23</th>\n",
              "      <td>스포츠</td>\n",
              "      <td>사바하 유지태 미스터리한 존재감으로 강렬한 눈도장 :: 네이버 TV연예</td>\n",
              "      <td>M</td>\n",
              "      <td>3</td>\n",
              "      <td>사무직 (일반사무직, 공무원, 직업군인)</td>\n",
              "      <td>600~699만원</td>\n",
              "      <td>아니오</td>\n",
              "      <td></td>\n",
              "      <td>연립주택/ 다세대/ 빌라</td>\n",
              "      <td>서울</td>\n",
              "      <td>동대문구</td>\n",
              "      <td>답십리2동</td>\n",
              "      <td>경차 (모닝, 스파크 등)</td>\n",
              "    </tr>\n",
              "    <tr>\n",
              "      <th>24</th>\n",
              "      <td>스포츠</td>\n",
              "      <td>사바하 유지태 미스터리한 존재감으로 강렬한 눈도장 :: 네이버 TV연예</td>\n",
              "      <td>M</td>\n",
              "      <td>3</td>\n",
              "      <td>사무직 (일반사무직, 공무원, 직업군인)</td>\n",
              "      <td>600~699만원</td>\n",
              "      <td>아니오</td>\n",
              "      <td></td>\n",
              "      <td>연립주택/ 다세대/ 빌라</td>\n",
              "      <td>서울</td>\n",
              "      <td>동대문구</td>\n",
              "      <td>답십리2동</td>\n",
              "      <td>경차 (모닝, 스파크 등)</td>\n",
              "    </tr>\n",
              "    <tr>\n",
              "      <th>...</th>\n",
              "      <td>...</td>\n",
              "      <td>...</td>\n",
              "      <td>...</td>\n",
              "      <td>...</td>\n",
              "      <td>...</td>\n",
              "      <td>...</td>\n",
              "      <td>...</td>\n",
              "      <td>...</td>\n",
              "      <td>...</td>\n",
              "      <td>...</td>\n",
              "      <td>...</td>\n",
              "      <td>...</td>\n",
              "      <td>...</td>\n",
              "    </tr>\n",
              "    <tr>\n",
              "      <th>872694</th>\n",
              "      <td>스포츠</td>\n",
              "      <td>뛰고 싶은 자이언-쓰고 싶은 NOP 그래도 조심 또 조심 :: 네이버스포츠</td>\n",
              "      <td>M</td>\n",
              "      <td>3</td>\n",
              "      <td>기능직 (자동차정비, 운전기사, 안경사, 택시기사)</td>\n",
              "      <td>600~699만원</td>\n",
              "      <td>아니오</td>\n",
              "      <td></td>\n",
              "      <td>연립주택/ 다세대/ 빌라</td>\n",
              "      <td>서울</td>\n",
              "      <td>양천구</td>\n",
              "      <td>신월3동</td>\n",
              "      <td>중형차 (쏘나타, K5, 말리부, 골프급 등)</td>\n",
              "    </tr>\n",
              "    <tr>\n",
              "      <th>872695</th>\n",
              "      <td>스포츠</td>\n",
              "      <td>행복 농구 하워드 벤치에서 나오는 게 즐겁다 :: 네이버스포츠</td>\n",
              "      <td>M</td>\n",
              "      <td>3</td>\n",
              "      <td>기능직 (자동차정비, 운전기사, 안경사, 택시기사)</td>\n",
              "      <td>600~699만원</td>\n",
              "      <td>아니오</td>\n",
              "      <td></td>\n",
              "      <td>연립주택/ 다세대/ 빌라</td>\n",
              "      <td>서울</td>\n",
              "      <td>양천구</td>\n",
              "      <td>신월3동</td>\n",
              "      <td>중형차 (쏘나타, K5, 말리부, 골프급 등)</td>\n",
              "    </tr>\n",
              "    <tr>\n",
              "      <th>872696</th>\n",
              "      <td>스포츠</td>\n",
              "      <td>고향 배신했다 분노한 팬들…불에 탄 즐라탄 동상 :: 네이버스포츠</td>\n",
              "      <td>M</td>\n",
              "      <td>3</td>\n",
              "      <td>기능직 (자동차정비, 운전기사, 안경사, 택시기사)</td>\n",
              "      <td>600~699만원</td>\n",
              "      <td>아니오</td>\n",
              "      <td></td>\n",
              "      <td>연립주택/ 다세대/ 빌라</td>\n",
              "      <td>서울</td>\n",
              "      <td>양천구</td>\n",
              "      <td>신월3동</td>\n",
              "      <td>중형차 (쏘나타, K5, 말리부, 골프급 등)</td>\n",
              "    </tr>\n",
              "    <tr>\n",
              "      <th>872697</th>\n",
              "      <td>스포츠</td>\n",
              "      <td>농구 : 네이버 스포츠</td>\n",
              "      <td>M</td>\n",
              "      <td>3</td>\n",
              "      <td>기능직 (자동차정비, 운전기사, 안경사, 택시기사)</td>\n",
              "      <td>600~699만원</td>\n",
              "      <td>아니오</td>\n",
              "      <td></td>\n",
              "      <td>연립주택/ 다세대/ 빌라</td>\n",
              "      <td>서울</td>\n",
              "      <td>양천구</td>\n",
              "      <td>신월3동</td>\n",
              "      <td>중형차 (쏘나타, K5, 말리부, 골프급 등)</td>\n",
              "    </tr>\n",
              "    <tr>\n",
              "      <th>872777</th>\n",
              "      <td>스포츠</td>\n",
              "      <td>세세뇽 손흥민 백업으로? 무리뉴 그는 왼쪽 윙어 :: 네이버스포츠</td>\n",
              "      <td>M</td>\n",
              "      <td>3</td>\n",
              "      <td>자영업 (도소매업, 숙박업, 미용업)</td>\n",
              "      <td>700~799만원</td>\n",
              "      <td>아니오</td>\n",
              "      <td></td>\n",
              "      <td>아파트/ 주상복합</td>\n",
              "      <td>서울</td>\n",
              "      <td>강남구</td>\n",
              "      <td>논현1동</td>\n",
              "      <td>대형차 (제너시스, BMW5급 등)</td>\n",
              "    </tr>\n",
              "  </tbody>\n",
              "</table>\n",
              "<p>103188 rows × 13 columns</p>\n",
              "</div>\n",
              "      <button class=\"colab-df-convert\" onclick=\"convertToInteractive('df-56894689-caa1-4cab-b70c-0b28d5d96848')\"\n",
              "              title=\"Convert this dataframe to an interactive table.\"\n",
              "              style=\"display:none;\">\n",
              "        \n",
              "  <svg xmlns=\"http://www.w3.org/2000/svg\" height=\"24px\"viewBox=\"0 0 24 24\"\n",
              "       width=\"24px\">\n",
              "    <path d=\"M0 0h24v24H0V0z\" fill=\"none\"/>\n",
              "    <path d=\"M18.56 5.44l.94 2.06.94-2.06 2.06-.94-2.06-.94-.94-2.06-.94 2.06-2.06.94zm-11 1L8.5 8.5l.94-2.06 2.06-.94-2.06-.94L8.5 2.5l-.94 2.06-2.06.94zm10 10l.94 2.06.94-2.06 2.06-.94-2.06-.94-.94-2.06-.94 2.06-2.06.94z\"/><path d=\"M17.41 7.96l-1.37-1.37c-.4-.4-.92-.59-1.43-.59-.52 0-1.04.2-1.43.59L10.3 9.45l-7.72 7.72c-.78.78-.78 2.05 0 2.83L4 21.41c.39.39.9.59 1.41.59.51 0 1.02-.2 1.41-.59l7.78-7.78 2.81-2.81c.8-.78.8-2.07 0-2.86zM5.41 20L4 18.59l7.72-7.72 1.47 1.35L5.41 20z\"/>\n",
              "  </svg>\n",
              "      </button>\n",
              "      \n",
              "  <style>\n",
              "    .colab-df-container {\n",
              "      display:flex;\n",
              "      flex-wrap:wrap;\n",
              "      gap: 12px;\n",
              "    }\n",
              "\n",
              "    .colab-df-convert {\n",
              "      background-color: #E8F0FE;\n",
              "      border: none;\n",
              "      border-radius: 50%;\n",
              "      cursor: pointer;\n",
              "      display: none;\n",
              "      fill: #1967D2;\n",
              "      height: 32px;\n",
              "      padding: 0 0 0 0;\n",
              "      width: 32px;\n",
              "    }\n",
              "\n",
              "    .colab-df-convert:hover {\n",
              "      background-color: #E2EBFA;\n",
              "      box-shadow: 0px 1px 2px rgba(60, 64, 67, 0.3), 0px 1px 3px 1px rgba(60, 64, 67, 0.15);\n",
              "      fill: #174EA6;\n",
              "    }\n",
              "\n",
              "    [theme=dark] .colab-df-convert {\n",
              "      background-color: #3B4455;\n",
              "      fill: #D2E3FC;\n",
              "    }\n",
              "\n",
              "    [theme=dark] .colab-df-convert:hover {\n",
              "      background-color: #434B5C;\n",
              "      box-shadow: 0px 1px 3px 1px rgba(0, 0, 0, 0.15);\n",
              "      filter: drop-shadow(0px 1px 2px rgba(0, 0, 0, 0.3));\n",
              "      fill: #FFFFFF;\n",
              "    }\n",
              "  </style>\n",
              "\n",
              "      <script>\n",
              "        const buttonEl =\n",
              "          document.querySelector('#df-56894689-caa1-4cab-b70c-0b28d5d96848 button.colab-df-convert');\n",
              "        buttonEl.style.display =\n",
              "          google.colab.kernel.accessAllowed ? 'block' : 'none';\n",
              "\n",
              "        async function convertToInteractive(key) {\n",
              "          const element = document.querySelector('#df-56894689-caa1-4cab-b70c-0b28d5d96848');\n",
              "          const dataTable =\n",
              "            await google.colab.kernel.invokeFunction('convertToInteractive',\n",
              "                                                     [key], {});\n",
              "          if (!dataTable) return;\n",
              "\n",
              "          const docLinkHtml = 'Like what you see? Visit the ' +\n",
              "            '<a target=\"_blank\" href=https://colab.research.google.com/notebooks/data_table.ipynb>data table notebook</a>'\n",
              "            + ' to learn more about interactive tables.';\n",
              "          element.innerHTML = '';\n",
              "          dataTable['output_type'] = 'display_data';\n",
              "          await google.colab.output.renderOutput(dataTable, element);\n",
              "          const docLink = document.createElement('div');\n",
              "          docLink.innerHTML = docLinkHtml;\n",
              "          element.appendChild(docLink);\n",
              "        }\n",
              "      </script>\n",
              "    </div>\n",
              "  </div>\n",
              "  "
            ]
          },
          "metadata": {},
          "execution_count": 139
        }
      ]
    },
    {
      "cell_type": "code",
      "source": [
        "df3_23[(df3_23['시도'] == \"서울\") & (df3_23['자동차'].notnull())]['구'].value_counts()[:5]"
      ],
      "metadata": {
        "colab": {
          "base_uri": "https://localhost:8080/"
        },
        "id": "S0P8ijWBCAg5",
        "outputId": "23d81155-9fab-4204-9f23-3959f38f727e"
      },
      "execution_count": 145,
      "outputs": [
        {
          "output_type": "execute_result",
          "data": {
            "text/plain": [
              "광진구     11176\n",
              "양천구     10081\n",
              "송파구      9660\n",
              "서대문구     8907\n",
              "관악구      8336\n",
              "Name: 구, dtype: int64"
            ]
          },
          "metadata": {},
          "execution_count": 145
        }
      ]
    },
    {
      "cell_type": "code",
      "source": [
        "df3_2[(df3_2['시도'] == \"서울\") & (df3_2['자동차'].notnull())]['구'].value_counts()[:5]"
      ],
      "metadata": {
        "colab": {
          "base_uri": "https://localhost:8080/"
        },
        "id": "9YQxHfWEBAKJ",
        "outputId": "301b4479-cd50-429b-ae2b-d74549b04cf6"
      },
      "execution_count": 146,
      "outputs": [
        {
          "output_type": "execute_result",
          "data": {
            "text/plain": [
              "송파구     3477\n",
              "광진구     2066\n",
              "종로구     1478\n",
              "서대문구     800\n",
              "은평구      508\n",
              "Name: 구, dtype: int64"
            ]
          },
          "metadata": {},
          "execution_count": 146
        }
      ]
    },
    {
      "cell_type": "code",
      "source": [],
      "metadata": {
        "id": "nj9yT_QkBAd9"
      },
      "execution_count": null,
      "outputs": []
    }
  ]
}