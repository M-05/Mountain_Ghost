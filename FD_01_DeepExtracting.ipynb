{
  "nbformat": 4,
  "nbformat_minor": 0,
  "metadata": {
    "colab": {
      "provenance": []
    },
    "kernelspec": {
      "name": "python3",
      "display_name": "Python 3"
    },
    "language_info": {
      "name": "python"
    }
  },
  "cells": [
    {
      "cell_type": "code",
      "execution_count": null,
      "metadata": {
        "id": "0y-ZuXZts9Lu"
      },
      "outputs": [],
      "source": [
        "import pandas as pd\n",
        "import os\n",
        "from google.colab import drive"
      ]
    },
    {
      "cell_type": "code",
      "source": [
        "pd.set_option('display.max_columns', None)\n",
        "# display.[max_categories, max_columns, max_colwidth, max_dir_items,\n",
        "#   max_info_columns, max_info_rows, max_rows, max_seq_items, memory_usage,\n",
        "#   min_rows, multi_sparse, notebook_repr_html, pprint_nest_depth, precision,\n",
        "#   show_dimensions]"
      ],
      "metadata": {
        "id": "KxiaNFK4tCuG"
      },
      "execution_count": null,
      "outputs": []
    },
    {
      "cell_type": "code",
      "source": [
        "path = './drive/MyDrive/Colab Notebooks/'"
      ],
      "metadata": {
        "id": "3XRKqf9gtEYO"
      },
      "execution_count": null,
      "outputs": []
    },
    {
      "cell_type": "code",
      "source": [
        "# 나의 구글 드라이브 연결\n",
        "drive.mount(\"/content/drive\")"
      ],
      "metadata": {
        "colab": {
          "base_uri": "https://localhost:8080/"
        },
        "id": "4pDBp2F6uv5C",
        "outputId": "91b566ab-e578-4ac4-931e-8e58b34833c7"
      },
      "execution_count": null,
      "outputs": [
        {
          "output_type": "stream",
          "name": "stdout",
          "text": [
            "Mounted at /content/drive\n"
          ]
        }
      ]
    },
    {
      "cell_type": "markdown",
      "source": [
        "# 데이터 불러오기"
      ],
      "metadata": {
        "id": "xAKWS_Av06pS"
      }
    },
    {
      "cell_type": "code",
      "source": [
        "# 둘레길 관심인구 정보\n",
        "df1 = pd.read_csv(path + \"FPL010101.csv\")\n",
        "# 둘레길 주변관광 이용자 정보\n",
        "df2 = pd.read_csv(path + \"FPL010401.csv\")\n",
        "# 둘레길 선호 관광 장소\n",
        "df3 = pd.read_csv(path + \"FPL010501.csv\")\n",
        "# 둘레길 관심인구 관심사/관심분야 (포털 검색 분야) 정보\n",
        "df4 = pd.read_csv(path + \"FPL010801.csv\")\n",
        "# 둘레길 관심인구 라이프스타일 (온라인쇼핑몰 이용 카테고리 정보)\n",
        "df5 = pd.read_csv(path + \"FPL010901.csv\")"
      ],
      "metadata": {
        "id": "900CO4-stGEi"
      },
      "execution_count": null,
      "outputs": []
    },
    {
      "cell_type": "markdown",
      "source": [
        "# 둘레길[circumference trekking way]\n",
        "> 거주 지역, 명소 따위의 주변에 난 길을 말한다.산책을 위한 길이 일반적이다.\n",
        "\n",
        "### df1 : 둘레길 관심인구 정보 (Total : 44,373)\n",
        "\n",
        "|순위| 1 | 2 | 3 | 4 | 5 |\n",
        "|--|--|--|--|--|--|\n",
        "|거주지 230 | 서울 | 경기 | 부산 | 인천 | 대구\n",
        "|둘레길 | 서울 둘레길 | 영남 알프스 | 지리산 둘레길 | 북한산 둘레길 | 횡성호수길 |\n",
        "|거주지 20 | 서울 | 경기 | 부산 | 인천 | 대구\n",
        "|둘레길 | 서울 둘레길 | 영남 알프스 | 지리산 둘레길 | 북한산 둘레길 | 대부해솔길 |\n",
        "|거주지 30 | 서울 | 경기 | 부산 | 인천 | 대구\n",
        "|둘레길 | 서울 둘레길 | 영남 알프스 | 지리산 둘레길 | 북한산 둘레길 | 횡성호수길 |\n",
        "|거주지 4560 | 서울 | 경기 | 인천 | 부산 | 대구\n",
        "|둘레길 | 서울 둘레길 | 영남 알프스 | 지리산 둘레길 | 북한산 둘레길 | 영덕 블루로드 |\n",
        "\n",
        "`[2-30] 여 : 9,092(50.3%), 남 : 8,824(49.7%)`\n",
        "\n",
        "|Age|관심인구|Car|job|\n",
        "|--|--|--|--|\n",
        "|2-30|17,936(40.4%)|5,143(28.7%)|7,390(41.2%)|\n",
        "|20|5,417(12.2%)|554(3.1%)|1,172(6.5%)|\n",
        "|30|12,499(28.2%)|4,589(25.6%)|6,218(34.7%)|\n",
        "\n",
        "---\n",
        "\n",
        "### df2 : 둘레길 주변관광 이용자 정보 (Total : 9,468)\n",
        "### df3 : 둘레길 선호 관광 장소\n",
        "\n",
        "|순위| 1 | 2 | 3 | 4 | 5 |\n",
        "|--|--|--|--|--|--|\n",
        "|거주지 230| 서울 | 경기 | 부산 | 인천 | 대구 |\n",
        "|주변관광 230 | 울릉도 | 해운대 | 남원 | 안면도 | 죽도 |\n",
        "|주변관광 20 | 울릉도 | 해운대 | 죽도 | 남원 | 한탄강 |\n",
        "|주변관광 30 | 해운대 | 울릉도 | 남원 | 안면도 | 태종대 |\n",
        "||||||\n",
        "|거주지 450 | 서울 | 경기 | 인천 | 부산 | 대구 |\n",
        "|주변관광 450 | 해운대 | 울릉도 | 남원 | 안면도 | 한탄강 |\n",
        "\n",
        "`[2-30] 여 : 2,381(58.3%), 남 : 1,705(41.7%)`\n",
        "\n",
        "\n",
        "|Age|이용인구|Car|job|\n",
        "|--|--|--|--|\n",
        "|2-30|4,086(43.2%)|1,275(31.2%)|943(23.1%)|\n",
        "|20|1,204(12.7%)|130(3.2%)|397(9.7%)|\n",
        "|30|2,882(30.4%)|1,145(28.0%)|546(13.4%)|\n",
        "\n",
        "---\n",
        "\n",
        "### df4 : 둘레길 관심인구 관심사/관심분야 (포털 검색 분야) 정보 (Total : 156,516)\n",
        "\n",
        "|순위| 1 | 2 | 3 | 4 | 5 |\n",
        "|--|--|--|--|--|--|\n",
        "|거주지 23| 서울 | 경기 | 인천 | 경남 | 대구 |\n",
        "|주요 관심 23(서울) | TV연예 | 사회 | 스포츠 | 경제 | 정치 |\n",
        "|거주지 2| 경기 | 서울 | 부산 | 인천 | 경북 |\n",
        "|주요 관심 2(경기) | 사회 | 정치 | TV연예 | 스포츠 | 정치 |\n",
        "|거주지 3| 서울 | 경기 | 인천 | 경남 | 대구 |\n",
        "|주요 관심 3(서울) | TV연예 | 사회 | 스포츠 | 경제 | 정치 |\n",
        "\n",
        "`[2-30] 여 : 38,858(59.8%), 남 : 26,154(40.2%)`\n",
        "\n",
        "|Age|관심인구|Car|job|\n",
        "|--|--|--|--|\n",
        "|2-30|65,012(41.5%)|25,614(39.4%)|33,350(51.3%)|\n",
        "|20|14,883(9.5%)|3,167(4.9%)|4,039(6.2%)|\n",
        "|30|50,129(32.0%)|22,447(34.5%)|27,469(42.3%)|\n",
        "\n",
        "---\n",
        "\n",
        "### df5 : 둘레길 관심인구 라이프스타일 (온라인쇼핑몰 이용 카테고리 정보) (Total : 68,606)\n",
        "\n",
        "|순위| 1 | 2 | 3 | 4 | 5 |\n",
        "|--|--|--|--|--|--|\n",
        "|거주지 23| 서울 | 경기 | 부산 | 대구 | 인천 |\n",
        "|카데고리 23 (서울) | 식품/건강 | 패션의류 | 생활/주방 | 뷰티 | 패션잡화 |\n",
        "|거주지 2| 부산 | 서울 | 경기 | 인천 | 대구 |\n",
        "|카데고리 2 (부산) | 패션의류 | 패션잡화 | 식품/건강 | 뷰티 | 디지털/가전 |\n",
        "|거주지 3| 서울 | 경기 | 대구 | 인천 | 부산 |\n",
        "|카데고리 3 (서울) | 식품/건강 | 패션의류 | 생활/주방 | 뷰티 | 패션잡화 |\n",
        "\n",
        "\n",
        "\n",
        "`[2-30] 여 : 21,268(65.9%), 남 : 1102(34.1%)`\n",
        "\n",
        "|Age|관심인구|Car|job|\n",
        "|--|--|--|--|\n",
        "|2-30|32,292(47.1%)|10,957(33.9%)|16,129(49.9%)|\n",
        "|20|8,887(13.0%)|647(2.0%)|3,851(11.9%)|\n",
        "|30|23,405(34.1%)|10,310(31.9%)|12,278(38.0%)|"
      ],
      "metadata": {
        "id": "om6m2vDtvcAD"
      }
    },
    {
      "cell_type": "markdown",
      "source": [
        "1. 부모랑 같이 살아서  \n",
        "2. 부모랑 같이 가서  \n",
        "3. 자동차 외에는 교통수단 제외(오토바이)\n",
        "4. 해외가 부담이여서"
      ],
      "metadata": {
        "id": "eiRxhrynYlf9"
      }
    },
    {
      "cell_type": "markdown",
      "source": [
        "# [서울 둘레길](https://gil.seoul.go.kr/walk/sub/introduce.jsp#none)\n",
        "> 서울을 한 바퀴 휘감는 총 연장 156.5km의 서울둘레길은 8개 코스\n"
      ],
      "metadata": {
        "id": "jIpTpTTBCY2s"
      }
    },
    {
      "cell_type": "markdown",
      "source": [
        "# [영남 알프스](https://ynalps.co.kr)\n",
        "> 울주군 상북면 · 삼남면 · 언양읍 · 두서면 산언 저리에 조성된 둘레길"
      ],
      "metadata": {
        "id": "bW31WdUcE3Z1"
      }
    },
    {
      "cell_type": "markdown",
      "source": [
        "# [지리산 둘레길](http://jirisantrail.kr)\n",
        "> 지리산 둘레를 잇는 길에서 만나는, 자연과 마을, 역사와 문화의 의미를 다시 찾아내 잇고 보듬는 길입니다.\n"
      ],
      "metadata": {
        "id": "wYs-w3prF98b"
      }
    },
    {
      "cell_type": "markdown",
      "source": [
        "# [북한산 둘레길](https://www.knps.or.kr/portal/dulegil/bukhansan/index.do)\n",
        "> 기존의 샛길을 연결하고 다듬어서 북한산 자락을 완만하게 걸을 수 있도록 조성한 저지대 수평 산책로입니다."
      ],
      "metadata": {
        "id": "C8IwFAY4E3Uu"
      }
    },
    {
      "cell_type": "markdown",
      "source": [
        "# [횡성호수길](https://www.hsg.go.kr/tour/contents.do?key=1361)\n",
        "> 그림같은 산세와 잔잔한 호수가 어우러져 한폭의 수묵화 같은 풍경을 자아내는 곳이다"
      ],
      "metadata": {
        "id": "3fXwIR7qJh9y"
      }
    },
    {
      "cell_type": "markdown",
      "source": [
        "# [대부해솔길](https://www.ansan.go.kr/tourinfo/common/cntnts/selectContents.do?cntnts_id=C0001983)\n",
        "> 해안선을 따라 대부도를 한 바퀴 둘러볼 수 있는 산책길로 91km에 이르는 총 10개 코스를 통해 안산 대부도의 감탄스러운 자연 경관을 빠짐없이 즐기며 걸을 수 있습니다."
      ],
      "metadata": {
        "id": "2GfVVvVvKRSt"
      }
    },
    {
      "cell_type": "markdown",
      "source": [
        "# [영덕 블루로드](http://blueroad.yd.go.kr/ko/open_content/main_page/)\n",
        "> 부산에서 강원도 고성에 이르는 688km의 해파랑길에 일부로, 영덕 대게공원을 출발하여 축산항을 거쳐 고래불해수욕장에 이르는 도보여행을 위해 조성된 약 64.6km의 해안길이다."
      ],
      "metadata": {
        "id": "hgi-dhl3KhvL"
      }
    },
    {
      "cell_type": "markdown",
      "source": [
        "---\n",
        "---\n",
        "# df1 : 둘레길 관심인구"
      ],
      "metadata": {
        "id": "UiL9NghznLts"
      }
    },
    {
      "cell_type": "code",
      "source": [
        "# Total : 44,373\n",
        "# df1[(df1['연령'] == 2) | (df1['연령'] ==  3)]\n",
        "df1_23 = df1[df1['연령'].isin([2, 3])]     # 17,916, 40.4%\n",
        "df1_2 = df1[(df1['연령'] == 2)]            #  5,417, 12.2%\n",
        "df1_3 = df1[(df1['연령'] == 3)]            # 12,499, 28.2%\n",
        "df1_456 = df1[df1['연령'].isin([4, 5, 6])] # 26,457, 59.6%"
      ],
      "metadata": {
        "id": "UV31QRX1t8nC"
      },
      "execution_count": null,
      "outputs": []
    },
    {
      "cell_type": "code",
      "source": [
        "df1_23.head()"
      ],
      "metadata": {
        "colab": {
          "base_uri": "https://localhost:8080/",
          "height": 354
        },
        "id": "yZHpHcnkCKoA",
        "outputId": "55305ae4-4eb6-4c53-8f89-c6a88d0e9765"
      },
      "execution_count": null,
      "outputs": [
        {
          "output_type": "execute_result",
          "data": {
            "text/plain": [
              "         길                                        사이트제목 성별  연령  \\\n",
              "6    영남알프스           영남알프스 간월재 쉽게 가는법 사진찍기좋은곳 : 네이버 블로그  M   2   \n",
              "7    영남알프스      울산 억새 간월재 영남알프스 옷차림 가는방법 후기까지 : 네이버 블로그  F   2   \n",
              "9   금오도비렁길  여수 금오도 여행. 금오도 비렁길 3코스.1박2일. 펜션숙박 : 네이버 블로그  F   3   \n",
              "14     다산길                        파주시 연다산길 62 - Daum 검색  F   2   \n",
              "15     둘레길                         태안 학암포 둘레길 - Daum 검색  F   3   \n",
              "\n",
              "                        직업         소득      결혼          자녀   주거  시도     구  \\\n",
              "6                      NaN        NaN                      NaN  서울   송파구   \n",
              "7                      NaN        NaN                      NaN  서울  동대문구   \n",
              "9                      NaN        NaN                      NaN  경기  의정부시   \n",
              "14  사무직 (일반사무직, 공무원, 직업군인)  100~199만원     아니오              기타   충남   논산시   \n",
              "15                     NaN        NaN                      NaN  인천    중구   \n",
              "\n",
              "       동             자동차  \n",
              "6    문정동             NaN  \n",
              "7   전농2동             NaN  \n",
              "9    낙양동             NaN  \n",
              "14    내동  경차 (모닝, 스파크 등)  \n",
              "15   운서동             NaN  "
            ],
            "text/html": [
              "\n",
              "  <div id=\"df-b511d845-47f9-4292-a303-cf168370890b\">\n",
              "    <div class=\"colab-df-container\">\n",
              "      <div>\n",
              "<style scoped>\n",
              "    .dataframe tbody tr th:only-of-type {\n",
              "        vertical-align: middle;\n",
              "    }\n",
              "\n",
              "    .dataframe tbody tr th {\n",
              "        vertical-align: top;\n",
              "    }\n",
              "\n",
              "    .dataframe thead th {\n",
              "        text-align: right;\n",
              "    }\n",
              "</style>\n",
              "<table border=\"1\" class=\"dataframe\">\n",
              "  <thead>\n",
              "    <tr style=\"text-align: right;\">\n",
              "      <th></th>\n",
              "      <th>길</th>\n",
              "      <th>사이트제목</th>\n",
              "      <th>성별</th>\n",
              "      <th>연령</th>\n",
              "      <th>직업</th>\n",
              "      <th>소득</th>\n",
              "      <th>결혼</th>\n",
              "      <th>자녀</th>\n",
              "      <th>주거</th>\n",
              "      <th>시도</th>\n",
              "      <th>구</th>\n",
              "      <th>동</th>\n",
              "      <th>자동차</th>\n",
              "    </tr>\n",
              "  </thead>\n",
              "  <tbody>\n",
              "    <tr>\n",
              "      <th>6</th>\n",
              "      <td>영남알프스</td>\n",
              "      <td>영남알프스 간월재 쉽게 가는법 사진찍기좋은곳 : 네이버 블로그</td>\n",
              "      <td>M</td>\n",
              "      <td>2</td>\n",
              "      <td>NaN</td>\n",
              "      <td>NaN</td>\n",
              "      <td></td>\n",
              "      <td></td>\n",
              "      <td>NaN</td>\n",
              "      <td>서울</td>\n",
              "      <td>송파구</td>\n",
              "      <td>문정동</td>\n",
              "      <td>NaN</td>\n",
              "    </tr>\n",
              "    <tr>\n",
              "      <th>7</th>\n",
              "      <td>영남알프스</td>\n",
              "      <td>울산 억새 간월재 영남알프스 옷차림 가는방법 후기까지 : 네이버 블로그</td>\n",
              "      <td>F</td>\n",
              "      <td>2</td>\n",
              "      <td>NaN</td>\n",
              "      <td>NaN</td>\n",
              "      <td></td>\n",
              "      <td></td>\n",
              "      <td>NaN</td>\n",
              "      <td>서울</td>\n",
              "      <td>동대문구</td>\n",
              "      <td>전농2동</td>\n",
              "      <td>NaN</td>\n",
              "    </tr>\n",
              "    <tr>\n",
              "      <th>9</th>\n",
              "      <td>금오도비렁길</td>\n",
              "      <td>여수 금오도 여행. 금오도 비렁길 3코스.1박2일. 펜션숙박 : 네이버 블로그</td>\n",
              "      <td>F</td>\n",
              "      <td>3</td>\n",
              "      <td>NaN</td>\n",
              "      <td>NaN</td>\n",
              "      <td></td>\n",
              "      <td></td>\n",
              "      <td>NaN</td>\n",
              "      <td>경기</td>\n",
              "      <td>의정부시</td>\n",
              "      <td>낙양동</td>\n",
              "      <td>NaN</td>\n",
              "    </tr>\n",
              "    <tr>\n",
              "      <th>14</th>\n",
              "      <td>다산길</td>\n",
              "      <td>파주시 연다산길 62 - Daum 검색</td>\n",
              "      <td>F</td>\n",
              "      <td>2</td>\n",
              "      <td>사무직 (일반사무직, 공무원, 직업군인)</td>\n",
              "      <td>100~199만원</td>\n",
              "      <td>아니오</td>\n",
              "      <td></td>\n",
              "      <td>기타</td>\n",
              "      <td>충남</td>\n",
              "      <td>논산시</td>\n",
              "      <td>내동</td>\n",
              "      <td>경차 (모닝, 스파크 등)</td>\n",
              "    </tr>\n",
              "    <tr>\n",
              "      <th>15</th>\n",
              "      <td>둘레길</td>\n",
              "      <td>태안 학암포 둘레길 - Daum 검색</td>\n",
              "      <td>F</td>\n",
              "      <td>3</td>\n",
              "      <td>NaN</td>\n",
              "      <td>NaN</td>\n",
              "      <td></td>\n",
              "      <td></td>\n",
              "      <td>NaN</td>\n",
              "      <td>인천</td>\n",
              "      <td>중구</td>\n",
              "      <td>운서동</td>\n",
              "      <td>NaN</td>\n",
              "    </tr>\n",
              "  </tbody>\n",
              "</table>\n",
              "</div>\n",
              "      <button class=\"colab-df-convert\" onclick=\"convertToInteractive('df-b511d845-47f9-4292-a303-cf168370890b')\"\n",
              "              title=\"Convert this dataframe to an interactive table.\"\n",
              "              style=\"display:none;\">\n",
              "        \n",
              "  <svg xmlns=\"http://www.w3.org/2000/svg\" height=\"24px\"viewBox=\"0 0 24 24\"\n",
              "       width=\"24px\">\n",
              "    <path d=\"M0 0h24v24H0V0z\" fill=\"none\"/>\n",
              "    <path d=\"M18.56 5.44l.94 2.06.94-2.06 2.06-.94-2.06-.94-.94-2.06-.94 2.06-2.06.94zm-11 1L8.5 8.5l.94-2.06 2.06-.94-2.06-.94L8.5 2.5l-.94 2.06-2.06.94zm10 10l.94 2.06.94-2.06 2.06-.94-2.06-.94-.94-2.06-.94 2.06-2.06.94z\"/><path d=\"M17.41 7.96l-1.37-1.37c-.4-.4-.92-.59-1.43-.59-.52 0-1.04.2-1.43.59L10.3 9.45l-7.72 7.72c-.78.78-.78 2.05 0 2.83L4 21.41c.39.39.9.59 1.41.59.51 0 1.02-.2 1.41-.59l7.78-7.78 2.81-2.81c.8-.78.8-2.07 0-2.86zM5.41 20L4 18.59l7.72-7.72 1.47 1.35L5.41 20z\"/>\n",
              "  </svg>\n",
              "      </button>\n",
              "      \n",
              "  <style>\n",
              "    .colab-df-container {\n",
              "      display:flex;\n",
              "      flex-wrap:wrap;\n",
              "      gap: 12px;\n",
              "    }\n",
              "\n",
              "    .colab-df-convert {\n",
              "      background-color: #E8F0FE;\n",
              "      border: none;\n",
              "      border-radius: 50%;\n",
              "      cursor: pointer;\n",
              "      display: none;\n",
              "      fill: #1967D2;\n",
              "      height: 32px;\n",
              "      padding: 0 0 0 0;\n",
              "      width: 32px;\n",
              "    }\n",
              "\n",
              "    .colab-df-convert:hover {\n",
              "      background-color: #E2EBFA;\n",
              "      box-shadow: 0px 1px 2px rgba(60, 64, 67, 0.3), 0px 1px 3px 1px rgba(60, 64, 67, 0.15);\n",
              "      fill: #174EA6;\n",
              "    }\n",
              "\n",
              "    [theme=dark] .colab-df-convert {\n",
              "      background-color: #3B4455;\n",
              "      fill: #D2E3FC;\n",
              "    }\n",
              "\n",
              "    [theme=dark] .colab-df-convert:hover {\n",
              "      background-color: #434B5C;\n",
              "      box-shadow: 0px 1px 3px 1px rgba(0, 0, 0, 0.15);\n",
              "      filter: drop-shadow(0px 1px 2px rgba(0, 0, 0, 0.3));\n",
              "      fill: #FFFFFF;\n",
              "    }\n",
              "  </style>\n",
              "\n",
              "      <script>\n",
              "        const buttonEl =\n",
              "          document.querySelector('#df-b511d845-47f9-4292-a303-cf168370890b button.colab-df-convert');\n",
              "        buttonEl.style.display =\n",
              "          google.colab.kernel.accessAllowed ? 'block' : 'none';\n",
              "\n",
              "        async function convertToInteractive(key) {\n",
              "          const element = document.querySelector('#df-b511d845-47f9-4292-a303-cf168370890b');\n",
              "          const dataTable =\n",
              "            await google.colab.kernel.invokeFunction('convertToInteractive',\n",
              "                                                     [key], {});\n",
              "          if (!dataTable) return;\n",
              "\n",
              "          const docLinkHtml = 'Like what you see? Visit the ' +\n",
              "            '<a target=\"_blank\" href=https://colab.research.google.com/notebooks/data_table.ipynb>data table notebook</a>'\n",
              "            + ' to learn more about interactive tables.';\n",
              "          element.innerHTML = '';\n",
              "          dataTable['output_type'] = 'display_data';\n",
              "          await google.colab.output.renderOutput(dataTable, element);\n",
              "          const docLink = document.createElement('div');\n",
              "          docLink.innerHTML = docLinkHtml;\n",
              "          element.appendChild(docLink);\n",
              "        }\n",
              "      </script>\n",
              "    </div>\n",
              "  </div>\n",
              "  "
            ]
          },
          "metadata": {},
          "execution_count": 109
        }
      ]
    },
    {
      "cell_type": "code",
      "source": [
        "road_1 = df1_23.query(\"길 == '서울둘레길'\")\n",
        "road_2 = df1_23.query(\"길 == '영남알프스'\")\n",
        "road_3 = df1_23.query(\"길 == '지리산둘레길'\")\n",
        "road_4 = df1_23.query(\"길 == '북한산둘레길'\")\n",
        "road_5 = df1_23.query(\"길 == '횡성호수길'\")"
      ],
      "metadata": {
        "id": "Sof0pOxqO5pU"
      },
      "execution_count": null,
      "outputs": []
    },
    {
      "cell_type": "code",
      "source": [
        "road2_1 = df1_2.query(\"길 == '서울둘레길'\")\n",
        "road2_2 = df1_2.query(\"길 == '영남알프스'\")\n",
        "road2_3 = df1_2.query(\"길 == '지리산둘레길'\")\n",
        "road2_4 = df1_2.query(\"길 == '북한산둘레길'\")\n",
        "road2_5 = df1_2.query(\"길 == '대부해솔길'\")"
      ],
      "metadata": {
        "id": "uJFB-EybZfUF"
      },
      "execution_count": null,
      "outputs": []
    },
    {
      "cell_type": "code",
      "source": [
        "road3_1 = df1_3.query(\"길 == '서울둘레길'\")\n",
        "road3_2 = df1_3.query(\"길 == '영남알프스'\")\n",
        "road3_3 = df1_3.query(\"길 == '지리산둘레길'\")\n",
        "road3_4 = df1_3.query(\"길 == '북한산둘레길'\")\n",
        "road3_5 = df1_3.query(\"길 == '횡성호수길'\")"
      ],
      "metadata": {
        "id": "85Qjg8dSZnlM"
      },
      "execution_count": null,
      "outputs": []
    },
    {
      "cell_type": "markdown",
      "source": [
        "### 서울둘레길"
      ],
      "metadata": {
        "id": "YTRha0MlakBi"
      }
    },
    {
      "cell_type": "code",
      "source": [
        "road_1.query(\"성별 == 'F'\")['시도'].value_counts()[:3],\\\n",
        "road2_1.query(\"성별 == 'F'\")['시도'].value_counts()[:3],\\\n",
        "road3_1.query(\"성별 == 'F'\")['시도'].value_counts()[:3]"
      ],
      "metadata": {
        "colab": {
          "base_uri": "https://localhost:8080/"
        },
        "id": "fH-oPNYUcM1e",
        "outputId": "aac9d246-d21d-408b-afd5-636d7e50bab5"
      },
      "execution_count": null,
      "outputs": [
        {
          "output_type": "execute_result",
          "data": {
            "text/plain": [
              "(서울    276\n",
              " 경기    183\n",
              " 부산     52\n",
              " Name: 시도, dtype: int64,\n",
              " 서울    91\n",
              " 경기    44\n",
              " 부산    17\n",
              " Name: 시도, dtype: int64,\n",
              " 서울    185\n",
              " 경기    139\n",
              " 인천     38\n",
              " Name: 시도, dtype: int64)"
            ]
          },
          "metadata": {},
          "execution_count": 117
        }
      ]
    },
    {
      "cell_type": "code",
      "source": [
        "len(road_1.query(\"성별 == 'F'\")),\\\n",
        "len(road_1.query(\"성별 == 'F' and 시도 == '서울'\")),\\\n",
        "len(road_1.query(\"성별 == 'F' and 시도 == '서울' and 자동차.notnull()\")),\\\n",
        "len(road2_1.query(\"성별 == 'F'\")),\\\n",
        "len(road2_1.query(\"성별 == 'F' and 시도 == '서울'\")),\\\n",
        "len(road2_1.query(\"성별 == 'F' and 시도 == '서울' and 자동차.notnull()\")),\\\n",
        "len(road3_1.query(\"성별 == 'F'\")),\\\n",
        "len(road3_1.query(\"성별 == 'F' and 시도 == '서울'\")),\\\n",
        "len(road3_1.query(\"성별 == 'F' and 시도 == '서울' and 자동차.notnull()\"))"
      ],
      "metadata": {
        "colab": {
          "base_uri": "https://localhost:8080/"
        },
        "id": "NYpzj42gPKRA",
        "outputId": "0e3cc624-093a-4503-ab05-dcf55d497608"
      },
      "execution_count": null,
      "outputs": [
        {
          "output_type": "execute_result",
          "data": {
            "text/plain": [
              "(754, 276, 45, 229, 91, 3, 525, 185, 42)"
            ]
          },
          "metadata": {},
          "execution_count": 97
        }
      ]
    },
    {
      "cell_type": "code",
      "source": [
        "road_1.query(\"성별 == 'M'\")['시도'].value_counts()[:3],\\\n",
        "road2_1.query(\"성별 == 'M'\")['시도'].value_counts()[:3],\\\n",
        "road3_1.query(\"성별 == 'M'\")['시도'].value_counts()[:3]"
      ],
      "metadata": {
        "colab": {
          "base_uri": "https://localhost:8080/"
        },
        "id": "RuJQJj2AchPs",
        "outputId": "9068bff5-9146-4052-e21a-699ed86dbc01"
      },
      "execution_count": null,
      "outputs": [
        {
          "output_type": "execute_result",
          "data": {
            "text/plain": [
              "(서울    243\n",
              " 경기    182\n",
              " 부산     58\n",
              " Name: 시도, dtype: int64,\n",
              " 서울    64\n",
              " 경기    59\n",
              " 부산    25\n",
              " Name: 시도, dtype: int64,\n",
              " 서울    179\n",
              " 경기    123\n",
              " 부산     33\n",
              " Name: 시도, dtype: int64)"
            ]
          },
          "metadata": {},
          "execution_count": 123
        }
      ]
    },
    {
      "cell_type": "code",
      "source": [
        "len(road_1.query(\"성별 == 'M'\")),\\\n",
        "len(road_1.query(\"성별 == 'M' and 시도 == '서울'\")),\\\n",
        "len(road_1.query(\"성별 == 'M' and 시도 == '서울' and 자동차.notnull()\")),\\\n",
        "len(road2_1.query(\"성별 == 'M'\")),\\\n",
        "len(road2_1.query(\"성별 == 'M' and 시도 == '서울'\")),\\\n",
        "len(road2_1.query(\"성별 == 'M' and 시도 == '서울' and 자동차.notnull()\")),\\\n",
        "len(road3_1.query(\"성별 == 'M'\")),\\\n",
        "len(road3_1.query(\"성별 == 'M' and 시도 == '서울'\")),\\\n",
        "len(road3_1.query(\"성별 == 'M' and 시도 == '서울' and 자동차.notnull()\"))"
      ],
      "metadata": {
        "colab": {
          "base_uri": "https://localhost:8080/"
        },
        "id": "YW1Qk0gLYpih",
        "outputId": "cc00180c-fe22-47d1-92ac-a0e32deb1c10"
      },
      "execution_count": null,
      "outputs": [
        {
          "output_type": "execute_result",
          "data": {
            "text/plain": [
              "(787, 243, 70, 257, 64, 6, 530, 179, 64)"
            ]
          },
          "metadata": {},
          "execution_count": 98
        }
      ]
    },
    {
      "cell_type": "markdown",
      "source": [
        "### 영남알프스"
      ],
      "metadata": {
        "id": "3j1r_cEramNE"
      }
    },
    {
      "cell_type": "code",
      "source": [
        "road_2.query(\"성별 == 'F'\")['시도'].value_counts()[:3],\\\n",
        "road2_2.query(\"성별 == 'F'\")['시도'].value_counts()[:3],\\\n",
        "road3_2.query(\"성별 == 'F'\")['시도'].value_counts()[:3]"
      ],
      "metadata": {
        "colab": {
          "base_uri": "https://localhost:8080/"
        },
        "id": "7SlHqgxXbvJ3",
        "outputId": "f4c306eb-0048-49d2-9112-981116382d00"
      },
      "execution_count": null,
      "outputs": [
        {
          "output_type": "execute_result",
          "data": {
            "text/plain": [
              "(서울    184\n",
              " 경기    162\n",
              " 부산     45\n",
              " Name: 시도, dtype: int64,\n",
              " 서울    59\n",
              " 경기    49\n",
              " 부산    19\n",
              " Name: 시도, dtype: int64,\n",
              " 서울    125\n",
              " 경기    113\n",
              " 인천     30\n",
              " Name: 시도, dtype: int64)"
            ]
          },
          "metadata": {},
          "execution_count": 118
        }
      ]
    },
    {
      "cell_type": "code",
      "source": [
        "len(road_2.query(\"성별 == 'F'\")),\\\n",
        "len(road_2.query(\"성별 == 'F' and 시도 == '서울'\")),\\\n",
        "len(road_2.query(\"성별 == 'F' and 시도 == '서울' and 자동차.notnull()\")),\\\n",
        "len(road2_2.query(\"성별 == 'F'\")),\\\n",
        "len(road2_2.query(\"성별 == 'F' and 시도 == '서울'\")),\\\n",
        "len(road2_2.query(\"성별 == 'F' and 시도 == '서울' and 자동차.notnull()\")),\\\n",
        "len(road3_2.query(\"성별 == 'F'\")),\\\n",
        "len(road3_2.query(\"성별 == 'F' and 시도 == '서울'\")),\\\n",
        "len(road3_2.query(\"성별 == 'F' and 시도 == '서울' and 자동차.notnull()\"))"
      ],
      "metadata": {
        "colab": {
          "base_uri": "https://localhost:8080/"
        },
        "id": "ggU-DLz7YwcG",
        "outputId": "d42ff7f4-8400-4856-a8ca-ca59c4910bcb"
      },
      "execution_count": null,
      "outputs": [
        {
          "output_type": "execute_result",
          "data": {
            "text/plain": [
              "(568, 184, 39, 181, 59, 4, 387, 125, 35)"
            ]
          },
          "metadata": {},
          "execution_count": 111
        }
      ]
    },
    {
      "cell_type": "code",
      "source": [
        "road_2.query(\"성별 == 'M'\")['시도'].value_counts()[:3],\\\n",
        "road2_2.query(\"성별 == 'M'\")['시도'].value_counts()[:3],\\\n",
        "road3_2.query(\"성별 == 'M'\")['시도'].value_counts()[:3]"
      ],
      "metadata": {
        "colab": {
          "base_uri": "https://localhost:8080/"
        },
        "id": "nw4_sgxIcDnO",
        "outputId": "54e6f5f7-2210-442d-8f81-7df3763aa9e0"
      },
      "execution_count": null,
      "outputs": [
        {
          "output_type": "execute_result",
          "data": {
            "text/plain": [
              "(서울    194\n",
              " 경기    143\n",
              " 인천     42\n",
              " Name: 시도, dtype: int64,\n",
              " 서울    57\n",
              " 경기    35\n",
              " 인천    13\n",
              " Name: 시도, dtype: int64,\n",
              " 서울    137\n",
              " 경기    108\n",
              " 인천     29\n",
              " Name: 시도, dtype: int64)"
            ]
          },
          "metadata": {},
          "execution_count": 122
        }
      ]
    },
    {
      "cell_type": "code",
      "source": [
        "len(road_2.query(\"성별 == 'M'\")),\\\n",
        "len(road_2.query(\"성별 == 'M' and 시도 == '서울'\")),\\\n",
        "len(road_2.query(\"성별 == 'M' and 시도 == '서울' and 자동차.notnull()\")),\\\n",
        "len(road2_2.query(\"성별 == 'M'\")),\\\n",
        "len(road2_2.query(\"성별 == 'M' and 시도 == '서울'\")),\\\n",
        "len(road2_2.query(\"성별 == 'M' and 시도 == '서울' and 자동차.notnull()\")),\\\n",
        "len(road3_2.query(\"성별 == 'M'\")),\\\n",
        "len(road3_2.query(\"성별 == 'M' and 시도 == '서울'\")),\\\n",
        "len(road3_2.query(\"성별 == 'M' and 시도 == '서울' and 자동차.notnull()\"))"
      ],
      "metadata": {
        "colab": {
          "base_uri": "https://localhost:8080/"
        },
        "id": "X_azitJGYwY0",
        "outputId": "e3e330dd-2853-4f8f-84ae-b4f2995d3292"
      },
      "execution_count": null,
      "outputs": [
        {
          "output_type": "execute_result",
          "data": {
            "text/plain": [
              "(595, 194, 53, 178, 57, 5, 417, 137, 48)"
            ]
          },
          "metadata": {},
          "execution_count": 100
        }
      ]
    },
    {
      "cell_type": "markdown",
      "source": [
        "### 지리산둘레길"
      ],
      "metadata": {
        "id": "WaNKE4wFapa3"
      }
    },
    {
      "cell_type": "code",
      "source": [
        "road_3.query(\"성별 == 'F'\")['시도'].value_counts()[:3],\\\n",
        "road2_3.query(\"성별 == 'F'\")['시도'].value_counts()[:3],\\\n",
        "road3_3.query(\"성별 == 'F'\")['시도'].value_counts()[:3]"
      ],
      "metadata": {
        "colab": {
          "base_uri": "https://localhost:8080/"
        },
        "id": "FHWzk1P5cH5L",
        "outputId": "0fb15b35-fd08-49f4-c33c-f84c7cd60fc0"
      },
      "execution_count": null,
      "outputs": [
        {
          "output_type": "execute_result",
          "data": {
            "text/plain": [
              "(서울    159\n",
              " 경기    149\n",
              " 인천     29\n",
              " Name: 시도, dtype: int64,\n",
              " 서울    52\n",
              " 경기    29\n",
              " 충남     7\n",
              " Name: 시도, dtype: int64,\n",
              " 경기    120\n",
              " 서울    107\n",
              " 인천     23\n",
              " Name: 시도, dtype: int64)"
            ]
          },
          "metadata": {},
          "execution_count": 119
        }
      ]
    },
    {
      "cell_type": "code",
      "source": [
        "len(road_3.query(\"성별 == 'F'\")),\\\n",
        "len(road_3.query(\"성별 == 'F' and 시도 == '서울'\")),\\\n",
        "len(road_3.query(\"성별 == 'F' and 시도 == '서울' and 자동차.notnull()\")),\\\n",
        "len(road2_3.query(\"성별 == 'F'\")),\\\n",
        "len(road2_3.query(\"성별 == 'F' and 시도 == '서울'\")),\\\n",
        "len(road2_3.query(\"성별 == 'F' and 시도 == '서울' and 자동차.notnull()\")),\\\n",
        "len(road3_3.query(\"성별 == 'F'\")),\\\n",
        "len(road3_3.query(\"성별 == 'F' and 시도 == '경기'\")),\\\n",
        "len(road3_3.query(\"성별 == 'F' and 시도 == '경기' and 자동차.notnull()\"))"
      ],
      "metadata": {
        "colab": {
          "base_uri": "https://localhost:8080/"
        },
        "id": "bJCi-UX-Y3NJ",
        "outputId": "2aac7a4d-d17f-42f2-ab34-f479a92bcaae"
      },
      "execution_count": null,
      "outputs": [
        {
          "output_type": "execute_result",
          "data": {
            "text/plain": [
              "(476, 159, 35, 130, 52, 3, 346, 120, 72)"
            ]
          },
          "metadata": {},
          "execution_count": 157
        }
      ]
    },
    {
      "cell_type": "code",
      "source": [
        "road_3.query(\"성별 == 'M'\")['시도'].value_counts()[:3],\\\n",
        "road2_3.query(\"성별 == 'M'\")['시도'].value_counts()[:3],\\\n",
        "road3_3.query(\"성별 == 'M'\")['시도'].value_counts()[:3]"
      ],
      "metadata": {
        "colab": {
          "base_uri": "https://localhost:8080/"
        },
        "id": "AUUKL0-9ckVw",
        "outputId": "5584f6d2-f83d-4fef-dfab-1ef845e29b4a"
      },
      "execution_count": null,
      "outputs": [
        {
          "output_type": "execute_result",
          "data": {
            "text/plain": [
              "(서울    163\n",
              " 경기    104\n",
              " 부산     36\n",
              " Name: 시도, dtype: int64,\n",
              " 서울    51\n",
              " 경기    33\n",
              " 인천    10\n",
              " Name: 시도, dtype: int64,\n",
              " 서울    112\n",
              " 경기     71\n",
              " 부산     27\n",
              " Name: 시도, dtype: int64)"
            ]
          },
          "metadata": {},
          "execution_count": 124
        }
      ]
    },
    {
      "cell_type": "code",
      "source": [
        "len(road_3.query(\"성별 == 'M'\")),\\\n",
        "len(road_3.query(\"성별 == 'M' and 시도 == '서울'\")),\\\n",
        "len(road_3.query(\"성별 == 'M' and 시도 == '서울' and 자동차.notnull()\")),\\\n",
        "len(road2_3.query(\"성별 == 'M'\")),\\\n",
        "len(road2_3.query(\"성별 == 'M' and 시도 == '서울'\")),\\\n",
        "len(road2_3.query(\"성별 == 'M' and 시도 == '서울' and 자동차.notnull()\")),\\\n",
        "len(road3_3.query(\"성별 == 'M'\")),\\\n",
        "len(road3_3.query(\"성별 == 'M' and 시도 == '서울'\")),\\\n",
        "len(road3_3.query(\"성별 == 'M' and 시도 == '서울' and 자동차.notnull()\"))"
      ],
      "metadata": {
        "colab": {
          "base_uri": "https://localhost:8080/"
        },
        "id": "mw9JtddSY3Jq",
        "outputId": "f542f76c-7656-4238-adba-772182d8e838"
      },
      "execution_count": null,
      "outputs": [
        {
          "output_type": "execute_result",
          "data": {
            "text/plain": [
              "(472, 163, 42, 164, 51, 5, 308, 112, 37)"
            ]
          },
          "metadata": {},
          "execution_count": 102
        }
      ]
    },
    {
      "cell_type": "markdown",
      "source": [
        "### 북한산둘레길"
      ],
      "metadata": {
        "id": "eyB5eSX-arol"
      }
    },
    {
      "cell_type": "code",
      "source": [
        "road_4.query(\"성별 == 'F'\")['시도'].value_counts()[:3],\\\n",
        "road2_4.query(\"성별 == 'F'\")['시도'].value_counts()[:3],\\\n",
        "road3_4.query(\"성별 == 'F'\")['시도'].value_counts()[:3]"
      ],
      "metadata": {
        "colab": {
          "base_uri": "https://localhost:8080/"
        },
        "id": "XAg6miEMcJV8",
        "outputId": "79bfa7aa-1359-46c1-ab11-fcc4ccf10e86"
      },
      "execution_count": null,
      "outputs": [
        {
          "output_type": "execute_result",
          "data": {
            "text/plain": [
              "(서울    125\n",
              " 경기     86\n",
              " 부산     26\n",
              " Name: 시도, dtype: int64,\n",
              " 서울    39\n",
              " 경기    18\n",
              " 부산     8\n",
              " Name: 시도, dtype: int64,\n",
              " 서울    86\n",
              " 경기    68\n",
              " 부산    18\n",
              " Name: 시도, dtype: int64)"
            ]
          },
          "metadata": {},
          "execution_count": 120
        }
      ]
    },
    {
      "cell_type": "code",
      "source": [
        "len(road_4.query(\"성별 == 'F'\")),\\\n",
        "len(road_4.query(\"성별 == 'F' and 시도 == '서울'\")),\\\n",
        "len(road_4.query(\"성별 == 'F' and 시도 == '서울' and 자동차.notnull()\")),\\\n",
        "len(road2_4.query(\"성별 == 'F'\")),\\\n",
        "len(road2_4.query(\"성별 == 'F' and 시도 == '서울'\")),\\\n",
        "len(road2_4.query(\"성별 == 'F' and 시도 == '서울' and 자동차.notnull()\")),\\\n",
        "len(road3_4.query(\"성별 == 'F'\")),\\\n",
        "len(road3_4.query(\"성별 == 'F' and 시도 == '서울'\")),\\\n",
        "len(road3_4.query(\"성별 == 'F' and 시도 == '서울' and 자동차.notnull()\"))"
      ],
      "metadata": {
        "colab": {
          "base_uri": "https://localhost:8080/"
        },
        "id": "C9zjdrbgY3Fl",
        "outputId": "95e04a92-82ea-4d9b-fd81-b66a846b3b5c"
      },
      "execution_count": null,
      "outputs": [
        {
          "output_type": "execute_result",
          "data": {
            "text/plain": [
              "(363, 125, 25, 96, 39, 3, 267, 86, 22)"
            ]
          },
          "metadata": {},
          "execution_count": 103
        }
      ]
    },
    {
      "cell_type": "code",
      "source": [
        "road_4.query(\"성별 == 'M'\")['시도'].value_counts()[:3],\\\n",
        "road2_4.query(\"성별 == 'M'\")['시도'].value_counts()[:3],\\\n",
        "road3_4.query(\"성별 == 'M'\")['시도'].value_counts()[:3]"
      ],
      "metadata": {
        "colab": {
          "base_uri": "https://localhost:8080/"
        },
        "id": "qpXZ0qdncmkp",
        "outputId": "d12ab20d-8135-492b-fc0d-13f474e868f3"
      },
      "execution_count": null,
      "outputs": [
        {
          "output_type": "execute_result",
          "data": {
            "text/plain": [
              "(서울    116\n",
              " 경기     82\n",
              " 부산     20\n",
              " Name: 시도, dtype: int64,\n",
              " 서울    32\n",
              " 경기    24\n",
              " 부산     7\n",
              " Name: 시도, dtype: int64,\n",
              " 서울    84\n",
              " 경기    58\n",
              " 대구    13\n",
              " Name: 시도, dtype: int64)"
            ]
          },
          "metadata": {},
          "execution_count": 125
        }
      ]
    },
    {
      "cell_type": "code",
      "source": [
        "len(road_4.query(\"성별 == 'M'\")),\\\n",
        "len(road_4.query(\"성별 == 'M' and 시도 == '서울'\")),\\\n",
        "len(road_4.query(\"성별 == 'M' and 시도 == '서울' and 자동차.notnull()\")),\\\n",
        "len(road2_4.query(\"성별 == 'M'\")),\\\n",
        "len(road2_4.query(\"성별 == 'M' and 시도 == '서울'\")),\\\n",
        "len(road2_4.query(\"성별 == 'M' and 시도 == '서울' and 자동차.notnull()\")),\\\n",
        "len(road3_4.query(\"성별 == 'M'\")),\\\n",
        "len(road3_4.query(\"성별 == 'M' and 시도 == '서울'\")),\\\n",
        "len(road3_4.query(\"성별 == 'M' and 시도 == '서울' and 자동차.notnull()\"))"
      ],
      "metadata": {
        "colab": {
          "base_uri": "https://localhost:8080/"
        },
        "id": "t9s6q8WqYwUb",
        "outputId": "569290a5-5a03-44df-8d7e-0b886594cb8f"
      },
      "execution_count": null,
      "outputs": [
        {
          "output_type": "execute_result",
          "data": {
            "text/plain": [
              "(343, 116, 36, 111, 32, 4, 232, 84, 32)"
            ]
          },
          "metadata": {},
          "execution_count": 104
        }
      ]
    },
    {
      "cell_type": "markdown",
      "source": [
        "### 횡성호수길"
      ],
      "metadata": {
        "id": "7sLrbzk0avKk"
      }
    },
    {
      "cell_type": "code",
      "source": [
        "road_5.query(\"성별 == 'F'\")['시도'].value_counts()[:3],\\\n",
        "road3_5.query(\"성별 == 'F'\")['시도'].value_counts()[:3]"
      ],
      "metadata": {
        "colab": {
          "base_uri": "https://localhost:8080/"
        },
        "id": "YEsBT4ybcK7s",
        "outputId": "7ebb56c0-ad3f-48a2-8ea0-d4b959dd059c"
      },
      "execution_count": null,
      "outputs": [
        {
          "output_type": "execute_result",
          "data": {
            "text/plain": [
              "(서울    84\n",
              " 경기    42\n",
              " 인천    19\n",
              " Name: 시도, dtype: int64,\n",
              " 서울    61\n",
              " 경기    27\n",
              " 인천    15\n",
              " Name: 시도, dtype: int64)"
            ]
          },
          "metadata": {},
          "execution_count": 145
        }
      ]
    },
    {
      "cell_type": "code",
      "source": [
        "len(road_5.query(\"성별 == 'F'\")),\\\n",
        "len(road_5.query(\"성별 == 'F' and 시도 == '서울'\")),\\\n",
        "len(road_5.query(\"성별 == 'F' and 시도 == '서울' and 자동차.notnull()\")),\\\n",
        "len(road3_5.query(\"성별 == 'F'\")),\\\n",
        "len(road3_5.query(\"성별 == 'F' and 시도 == '서울'\")),\\\n",
        "len(road3_5.query(\"성별 == 'F' and 시도 == '서울' and 자동차.notnull()\"))"
      ],
      "metadata": {
        "colab": {
          "base_uri": "https://localhost:8080/"
        },
        "id": "7XhFLVxGaVyW",
        "outputId": "f4d964ba-e066-4b83-8688-3ad3dd591270"
      },
      "execution_count": null,
      "outputs": [
        {
          "output_type": "execute_result",
          "data": {
            "text/plain": [
              "(224, 84, 16, 152, 61, 14)"
            ]
          },
          "metadata": {},
          "execution_count": 144
        }
      ]
    },
    {
      "cell_type": "code",
      "source": [
        "road_5.query(\"성별 == 'M'\")['시도'].value_counts()[:3],\\\n",
        "road3_5.query(\"성별 == 'M'\")['시도'].value_counts()[:3]"
      ],
      "metadata": {
        "colab": {
          "base_uri": "https://localhost:8080/"
        },
        "id": "yF6j4H8Lco0D",
        "outputId": "c2995664-36c9-4609-8447-e0ec464eaacd"
      },
      "execution_count": null,
      "outputs": [
        {
          "output_type": "execute_result",
          "data": {
            "text/plain": [
              "(서울    82\n",
              " 경기    40\n",
              " 경남    16\n",
              " Name: 시도, dtype: int64,\n",
              " 서울    58\n",
              " 경기    29\n",
              " 경남    14\n",
              " Name: 시도, dtype: int64)"
            ]
          },
          "metadata": {},
          "execution_count": 142
        }
      ]
    },
    {
      "cell_type": "code",
      "source": [
        "len(road_5.query(\"성별 == 'M'\")),\\\n",
        "len(road_5.query(\"성별 == 'M' and 시도 == '서울'\")),\\\n",
        "len(road_5.query(\"성별 == 'M' and 시도 == '서울' and 자동차.notnull()\")),\\\n",
        "len(road3_5.query(\"성별 == 'M'\")),\\\n",
        "len(road3_5.query(\"성별 == 'M' and 시도 == '서울'\")),\\\n",
        "len(road3_5.query(\"성별 == 'M' and 시도 == '서울' and 자동차.notnull()\"))"
      ],
      "metadata": {
        "colab": {
          "base_uri": "https://localhost:8080/"
        },
        "id": "hiO0YqoDaVrb",
        "outputId": "336a743d-0257-4930-a016-73be83f5d321"
      },
      "execution_count": null,
      "outputs": [
        {
          "output_type": "execute_result",
          "data": {
            "text/plain": [
              "(199, 82, 27, 140, 58, 25)"
            ]
          },
          "metadata": {},
          "execution_count": 140
        }
      ]
    },
    {
      "cell_type": "markdown",
      "source": [
        "### 대부해솔길"
      ],
      "metadata": {
        "id": "zFWVbIv4fVu7"
      }
    },
    {
      "cell_type": "code",
      "source": [
        "road2_5.query(\"성별 == 'F'\")['시도'].value_counts()[:3]"
      ],
      "metadata": {
        "colab": {
          "base_uri": "https://localhost:8080/"
        },
        "id": "2bfZgqpUfaRA",
        "outputId": "5bacfb3d-320e-4f11-cf29-da7b2479392c"
      },
      "execution_count": null,
      "outputs": [
        {
          "output_type": "execute_result",
          "data": {
            "text/plain": [
              "서울    30\n",
              "경기    19\n",
              "부산     6\n",
              "Name: 시도, dtype: int64"
            ]
          },
          "metadata": {},
          "execution_count": 146
        }
      ]
    },
    {
      "cell_type": "code",
      "source": [
        "len(road2_5.query(\"성별 == 'F'\")),\\\n",
        "len(road2_5.query(\"성별 == 'F' and 시도 == '서울'\")),\\\n",
        "len(road2_5.query(\"성별 == 'F' and 시도 == '서울' and 자동차.notnull()\"))"
      ],
      "metadata": {
        "colab": {
          "base_uri": "https://localhost:8080/"
        },
        "id": "4vVRQK-2faNe",
        "outputId": "6a08bf23-6c02-49cd-b1f6-8da138581a75"
      },
      "execution_count": null,
      "outputs": [
        {
          "output_type": "execute_result",
          "data": {
            "text/plain": [
              "(74, 30, 2)"
            ]
          },
          "metadata": {},
          "execution_count": 143
        }
      ]
    },
    {
      "cell_type": "code",
      "source": [
        "road2_5.query(\"성별 == 'M'\")['시도'].value_counts()[:3]"
      ],
      "metadata": {
        "colab": {
          "base_uri": "https://localhost:8080/"
        },
        "id": "sU3Qkb7FfaJk",
        "outputId": "6ee4ce54-ccac-4bf9-964b-ebebabe5e30b"
      },
      "execution_count": null,
      "outputs": [
        {
          "output_type": "execute_result",
          "data": {
            "text/plain": [
              "서울    20\n",
              "인천     6\n",
              "경기     5\n",
              "Name: 시도, dtype: int64"
            ]
          },
          "metadata": {},
          "execution_count": 141
        }
      ]
    },
    {
      "cell_type": "code",
      "source": [
        "len(road2_5.query(\"성별 == 'M'\")),\\\n",
        "len(road2_5.query(\"성별 == 'M' and 시도 == '서울'\")),\\\n",
        "len(road2_5.query(\"성별 == 'M' and 시도 == '서울' and 자동차.notnull()\"))"
      ],
      "metadata": {
        "colab": {
          "base_uri": "https://localhost:8080/"
        },
        "id": "0Gz9ZMiTfaFV",
        "outputId": "d22ab304-7f9c-4fa2-e620-d40e709df705"
      },
      "execution_count": null,
      "outputs": [
        {
          "output_type": "execute_result",
          "data": {
            "text/plain": [
              "(55, 20, 3)"
            ]
          },
          "metadata": {},
          "execution_count": 139
        }
      ]
    },
    {
      "cell_type": "markdown",
      "source": [
        "### 직업 기입한 인원 중에서 학생 퇴직 주부 무직 제외"
      ],
      "metadata": {
        "id": "aTuS40Pna0V4"
      }
    },
    {
      "cell_type": "code",
      "source": [
        "df1_23[~df1_23['직업'].isnull() &\\\n",
        "       ~df1_23['직업'].astype(str).str.contains('학생|퇴직|주부') &\\\n",
        "       ~(df1_23['직업'].astype(str) == '무직')]"
      ],
      "metadata": {
        "colab": {
          "base_uri": "https://localhost:8080/",
          "height": 1000
        },
        "id": "xucF_Oo-USDg",
        "outputId": "aa2732c3-d4fb-42fc-8cc9-5f872318650f"
      },
      "execution_count": null,
      "outputs": [
        {
          "output_type": "execute_result",
          "data": {
            "text/plain": [
              "                   길                                              사이트제목 성별  \\\n",
              "14               다산길                              파주시 연다산길 62 - Daum 검색  F   \n",
              "23           서울한양도성길                     서울 한양도성길 따라 남산타워 오르기 : 네이버 블로그  F   \n",
              "24             강화나들길                       폭염속 강화 나들길 걷기 조양방직 : 네이버 블로그  M   \n",
              "42               둘레길                             [단독]둘레길 개... :: 네이버 뉴스  F   \n",
              "60             횡성호수길  여행스케치 [YJ113] 횡성 호수길 + 청태산휴양림 + 월정사 + 상품권 제공 (당일)  F   \n",
              "...              ...                                                ... ..   \n",
              "44363          남해바래길                                          남해바래길펜션타운  M   \n",
              "44364           물소리길                                    물소리길 : 네이버 통합검색  F   \n",
              "44365            둘레길  바다를 끼고 걸어보는 최고의 해안둘레길 선바우길 :: 가족여행 주말여행 경북여행 바...  M   \n",
              "44367  고인돌질마재따라100리길  고창 가볼만한곳 고인돌 질마재따라 100리길{{ 연기제 소요사 미당시문학관 인촌 김...  F   \n",
              "44368            둘레길                                  제주 둘레길 : 네이버 통합검색  M   \n",
              "\n",
              "       연령                         직업          소득     결혼          자녀  \\\n",
              "14      2     사무직 (일반사무직, 공무원, 직업군인)   100~199만원    아니오               \n",
              "23      3     사무직 (일반사무직, 공무원, 직업군인)   500~599만원    아니오               \n",
              "24      3     판매직 (상점점원, 보험설계사, 노점상)   200~299만원    아니오               \n",
              "42      3  생산/노무직 (생산감독, 경비원, 공장근로자)  1,000만원 이상    아니오               \n",
              "60      3     사무직 (일반사무직, 공무원, 직업군인)   200~299만원  예          자녀 없음    \n",
              "...    ..                        ...         ...    ...         ...   \n",
              "44363   2    전문직 (의사, 판검사, 예술가, 종교인)   900~999만원    아니오               \n",
              "44364   3     사무직 (일반사무직, 공무원, 직업군인)   600~699만원  예          자녀 없음    \n",
              "44365   3                        기타    600~699만원  예          자녀 있음    \n",
              "44367   3     사무직 (일반사무직, 공무원, 직업군인)   600~699만원  예          자녀 있음    \n",
              "44368   3     사무직 (일반사무직, 공무원, 직업군인)   300~399만원    아니오               \n",
              "\n",
              "                  주거  시도        구      동                             자동차  \n",
              "14               기타   충남      논산시     내동                  경차 (모닝, 스파크 등)  \n",
              "23         아파트/ 주상복합  서울      금천구   시흥2동                             NaN  \n",
              "24     연립주택/ 다세대/ 빌라  서울      관악구   낙성대동                             NaN  \n",
              "42              오피스텔  충남  천안시 서북구    두정동                             NaN  \n",
              "60         아파트/ 주상복합  부산      수영구    남천동                             NaN  \n",
              "...              ...  ..      ...    ...                             ...  \n",
              "44363      아파트/ 주상복합  부산      영도구  남항동2가                             NaN  \n",
              "44364      아파트/ 주상복합  경기  부천시 소사구   소사본동    소형차 (액센트, 프라이드, 아베오, 피아트급 등)  \n",
              "44365      아파트/ 주상복합  경북      경산시    중산동  준중형SUV (투싼, 스포티지, QM5, 티구안급 등)  \n",
              "44367      아파트/ 주상복합  경기  수원시 영통구    망포동                  경차 (모닝, 스파크 등)  \n",
              "44368      아파트/ 주상복합  광주       북구   문흥2동                             NaN  \n",
              "\n",
              "[7390 rows x 13 columns]"
            ],
            "text/html": [
              "\n",
              "  <div id=\"df-75620035-0570-480c-9926-79fa212068c5\">\n",
              "    <div class=\"colab-df-container\">\n",
              "      <div>\n",
              "<style scoped>\n",
              "    .dataframe tbody tr th:only-of-type {\n",
              "        vertical-align: middle;\n",
              "    }\n",
              "\n",
              "    .dataframe tbody tr th {\n",
              "        vertical-align: top;\n",
              "    }\n",
              "\n",
              "    .dataframe thead th {\n",
              "        text-align: right;\n",
              "    }\n",
              "</style>\n",
              "<table border=\"1\" class=\"dataframe\">\n",
              "  <thead>\n",
              "    <tr style=\"text-align: right;\">\n",
              "      <th></th>\n",
              "      <th>길</th>\n",
              "      <th>사이트제목</th>\n",
              "      <th>성별</th>\n",
              "      <th>연령</th>\n",
              "      <th>직업</th>\n",
              "      <th>소득</th>\n",
              "      <th>결혼</th>\n",
              "      <th>자녀</th>\n",
              "      <th>주거</th>\n",
              "      <th>시도</th>\n",
              "      <th>구</th>\n",
              "      <th>동</th>\n",
              "      <th>자동차</th>\n",
              "    </tr>\n",
              "  </thead>\n",
              "  <tbody>\n",
              "    <tr>\n",
              "      <th>14</th>\n",
              "      <td>다산길</td>\n",
              "      <td>파주시 연다산길 62 - Daum 검색</td>\n",
              "      <td>F</td>\n",
              "      <td>2</td>\n",
              "      <td>사무직 (일반사무직, 공무원, 직업군인)</td>\n",
              "      <td>100~199만원</td>\n",
              "      <td>아니오</td>\n",
              "      <td></td>\n",
              "      <td>기타</td>\n",
              "      <td>충남</td>\n",
              "      <td>논산시</td>\n",
              "      <td>내동</td>\n",
              "      <td>경차 (모닝, 스파크 등)</td>\n",
              "    </tr>\n",
              "    <tr>\n",
              "      <th>23</th>\n",
              "      <td>서울한양도성길</td>\n",
              "      <td>서울 한양도성길 따라 남산타워 오르기 : 네이버 블로그</td>\n",
              "      <td>F</td>\n",
              "      <td>3</td>\n",
              "      <td>사무직 (일반사무직, 공무원, 직업군인)</td>\n",
              "      <td>500~599만원</td>\n",
              "      <td>아니오</td>\n",
              "      <td></td>\n",
              "      <td>아파트/ 주상복합</td>\n",
              "      <td>서울</td>\n",
              "      <td>금천구</td>\n",
              "      <td>시흥2동</td>\n",
              "      <td>NaN</td>\n",
              "    </tr>\n",
              "    <tr>\n",
              "      <th>24</th>\n",
              "      <td>강화나들길</td>\n",
              "      <td>폭염속 강화 나들길 걷기 조양방직 : 네이버 블로그</td>\n",
              "      <td>M</td>\n",
              "      <td>3</td>\n",
              "      <td>판매직 (상점점원, 보험설계사, 노점상)</td>\n",
              "      <td>200~299만원</td>\n",
              "      <td>아니오</td>\n",
              "      <td></td>\n",
              "      <td>연립주택/ 다세대/ 빌라</td>\n",
              "      <td>서울</td>\n",
              "      <td>관악구</td>\n",
              "      <td>낙성대동</td>\n",
              "      <td>NaN</td>\n",
              "    </tr>\n",
              "    <tr>\n",
              "      <th>42</th>\n",
              "      <td>둘레길</td>\n",
              "      <td>[단독]둘레길 개... :: 네이버 뉴스</td>\n",
              "      <td>F</td>\n",
              "      <td>3</td>\n",
              "      <td>생산/노무직 (생산감독, 경비원, 공장근로자)</td>\n",
              "      <td>1,000만원 이상</td>\n",
              "      <td>아니오</td>\n",
              "      <td></td>\n",
              "      <td>오피스텔</td>\n",
              "      <td>충남</td>\n",
              "      <td>천안시 서북구</td>\n",
              "      <td>두정동</td>\n",
              "      <td>NaN</td>\n",
              "    </tr>\n",
              "    <tr>\n",
              "      <th>60</th>\n",
              "      <td>횡성호수길</td>\n",
              "      <td>여행스케치 [YJ113] 횡성 호수길 + 청태산휴양림 + 월정사 + 상품권 제공 (당일)</td>\n",
              "      <td>F</td>\n",
              "      <td>3</td>\n",
              "      <td>사무직 (일반사무직, 공무원, 직업군인)</td>\n",
              "      <td>200~299만원</td>\n",
              "      <td>예</td>\n",
              "      <td>자녀 없음</td>\n",
              "      <td>아파트/ 주상복합</td>\n",
              "      <td>부산</td>\n",
              "      <td>수영구</td>\n",
              "      <td>남천동</td>\n",
              "      <td>NaN</td>\n",
              "    </tr>\n",
              "    <tr>\n",
              "      <th>...</th>\n",
              "      <td>...</td>\n",
              "      <td>...</td>\n",
              "      <td>...</td>\n",
              "      <td>...</td>\n",
              "      <td>...</td>\n",
              "      <td>...</td>\n",
              "      <td>...</td>\n",
              "      <td>...</td>\n",
              "      <td>...</td>\n",
              "      <td>...</td>\n",
              "      <td>...</td>\n",
              "      <td>...</td>\n",
              "      <td>...</td>\n",
              "    </tr>\n",
              "    <tr>\n",
              "      <th>44363</th>\n",
              "      <td>남해바래길</td>\n",
              "      <td>남해바래길펜션타운</td>\n",
              "      <td>M</td>\n",
              "      <td>2</td>\n",
              "      <td>전문직 (의사, 판검사, 예술가, 종교인)</td>\n",
              "      <td>900~999만원</td>\n",
              "      <td>아니오</td>\n",
              "      <td></td>\n",
              "      <td>아파트/ 주상복합</td>\n",
              "      <td>부산</td>\n",
              "      <td>영도구</td>\n",
              "      <td>남항동2가</td>\n",
              "      <td>NaN</td>\n",
              "    </tr>\n",
              "    <tr>\n",
              "      <th>44364</th>\n",
              "      <td>물소리길</td>\n",
              "      <td>물소리길 : 네이버 통합검색</td>\n",
              "      <td>F</td>\n",
              "      <td>3</td>\n",
              "      <td>사무직 (일반사무직, 공무원, 직업군인)</td>\n",
              "      <td>600~699만원</td>\n",
              "      <td>예</td>\n",
              "      <td>자녀 없음</td>\n",
              "      <td>아파트/ 주상복합</td>\n",
              "      <td>경기</td>\n",
              "      <td>부천시 소사구</td>\n",
              "      <td>소사본동</td>\n",
              "      <td>소형차 (액센트, 프라이드, 아베오, 피아트급 등)</td>\n",
              "    </tr>\n",
              "    <tr>\n",
              "      <th>44365</th>\n",
              "      <td>둘레길</td>\n",
              "      <td>바다를 끼고 걸어보는 최고의 해안둘레길 선바우길 :: 가족여행 주말여행 경북여행 바...</td>\n",
              "      <td>M</td>\n",
              "      <td>3</td>\n",
              "      <td>기타</td>\n",
              "      <td>600~699만원</td>\n",
              "      <td>예</td>\n",
              "      <td>자녀 있음</td>\n",
              "      <td>아파트/ 주상복합</td>\n",
              "      <td>경북</td>\n",
              "      <td>경산시</td>\n",
              "      <td>중산동</td>\n",
              "      <td>준중형SUV (투싼, 스포티지, QM5, 티구안급 등)</td>\n",
              "    </tr>\n",
              "    <tr>\n",
              "      <th>44367</th>\n",
              "      <td>고인돌질마재따라100리길</td>\n",
              "      <td>고창 가볼만한곳 고인돌 질마재따라 100리길{{ 연기제 소요사 미당시문학관 인촌 김...</td>\n",
              "      <td>F</td>\n",
              "      <td>3</td>\n",
              "      <td>사무직 (일반사무직, 공무원, 직업군인)</td>\n",
              "      <td>600~699만원</td>\n",
              "      <td>예</td>\n",
              "      <td>자녀 있음</td>\n",
              "      <td>아파트/ 주상복합</td>\n",
              "      <td>경기</td>\n",
              "      <td>수원시 영통구</td>\n",
              "      <td>망포동</td>\n",
              "      <td>경차 (모닝, 스파크 등)</td>\n",
              "    </tr>\n",
              "    <tr>\n",
              "      <th>44368</th>\n",
              "      <td>둘레길</td>\n",
              "      <td>제주 둘레길 : 네이버 통합검색</td>\n",
              "      <td>M</td>\n",
              "      <td>3</td>\n",
              "      <td>사무직 (일반사무직, 공무원, 직업군인)</td>\n",
              "      <td>300~399만원</td>\n",
              "      <td>아니오</td>\n",
              "      <td></td>\n",
              "      <td>아파트/ 주상복합</td>\n",
              "      <td>광주</td>\n",
              "      <td>북구</td>\n",
              "      <td>문흥2동</td>\n",
              "      <td>NaN</td>\n",
              "    </tr>\n",
              "  </tbody>\n",
              "</table>\n",
              "<p>7390 rows × 13 columns</p>\n",
              "</div>\n",
              "      <button class=\"colab-df-convert\" onclick=\"convertToInteractive('df-75620035-0570-480c-9926-79fa212068c5')\"\n",
              "              title=\"Convert this dataframe to an interactive table.\"\n",
              "              style=\"display:none;\">\n",
              "        \n",
              "  <svg xmlns=\"http://www.w3.org/2000/svg\" height=\"24px\"viewBox=\"0 0 24 24\"\n",
              "       width=\"24px\">\n",
              "    <path d=\"M0 0h24v24H0V0z\" fill=\"none\"/>\n",
              "    <path d=\"M18.56 5.44l.94 2.06.94-2.06 2.06-.94-2.06-.94-.94-2.06-.94 2.06-2.06.94zm-11 1L8.5 8.5l.94-2.06 2.06-.94-2.06-.94L8.5 2.5l-.94 2.06-2.06.94zm10 10l.94 2.06.94-2.06 2.06-.94-2.06-.94-.94-2.06-.94 2.06-2.06.94z\"/><path d=\"M17.41 7.96l-1.37-1.37c-.4-.4-.92-.59-1.43-.59-.52 0-1.04.2-1.43.59L10.3 9.45l-7.72 7.72c-.78.78-.78 2.05 0 2.83L4 21.41c.39.39.9.59 1.41.59.51 0 1.02-.2 1.41-.59l7.78-7.78 2.81-2.81c.8-.78.8-2.07 0-2.86zM5.41 20L4 18.59l7.72-7.72 1.47 1.35L5.41 20z\"/>\n",
              "  </svg>\n",
              "      </button>\n",
              "      \n",
              "  <style>\n",
              "    .colab-df-container {\n",
              "      display:flex;\n",
              "      flex-wrap:wrap;\n",
              "      gap: 12px;\n",
              "    }\n",
              "\n",
              "    .colab-df-convert {\n",
              "      background-color: #E8F0FE;\n",
              "      border: none;\n",
              "      border-radius: 50%;\n",
              "      cursor: pointer;\n",
              "      display: none;\n",
              "      fill: #1967D2;\n",
              "      height: 32px;\n",
              "      padding: 0 0 0 0;\n",
              "      width: 32px;\n",
              "    }\n",
              "\n",
              "    .colab-df-convert:hover {\n",
              "      background-color: #E2EBFA;\n",
              "      box-shadow: 0px 1px 2px rgba(60, 64, 67, 0.3), 0px 1px 3px 1px rgba(60, 64, 67, 0.15);\n",
              "      fill: #174EA6;\n",
              "    }\n",
              "\n",
              "    [theme=dark] .colab-df-convert {\n",
              "      background-color: #3B4455;\n",
              "      fill: #D2E3FC;\n",
              "    }\n",
              "\n",
              "    [theme=dark] .colab-df-convert:hover {\n",
              "      background-color: #434B5C;\n",
              "      box-shadow: 0px 1px 3px 1px rgba(0, 0, 0, 0.15);\n",
              "      filter: drop-shadow(0px 1px 2px rgba(0, 0, 0, 0.3));\n",
              "      fill: #FFFFFF;\n",
              "    }\n",
              "  </style>\n",
              "\n",
              "      <script>\n",
              "        const buttonEl =\n",
              "          document.querySelector('#df-75620035-0570-480c-9926-79fa212068c5 button.colab-df-convert');\n",
              "        buttonEl.style.display =\n",
              "          google.colab.kernel.accessAllowed ? 'block' : 'none';\n",
              "\n",
              "        async function convertToInteractive(key) {\n",
              "          const element = document.querySelector('#df-75620035-0570-480c-9926-79fa212068c5');\n",
              "          const dataTable =\n",
              "            await google.colab.kernel.invokeFunction('convertToInteractive',\n",
              "                                                     [key], {});\n",
              "          if (!dataTable) return;\n",
              "\n",
              "          const docLinkHtml = 'Like what you see? Visit the ' +\n",
              "            '<a target=\"_blank\" href=https://colab.research.google.com/notebooks/data_table.ipynb>data table notebook</a>'\n",
              "            + ' to learn more about interactive tables.';\n",
              "          element.innerHTML = '';\n",
              "          dataTable['output_type'] = 'display_data';\n",
              "          await google.colab.output.renderOutput(dataTable, element);\n",
              "          const docLink = document.createElement('div');\n",
              "          docLink.innerHTML = docLinkHtml;\n",
              "          element.appendChild(docLink);\n",
              "        }\n",
              "      </script>\n",
              "    </div>\n",
              "  </div>\n",
              "  "
            ]
          },
          "metadata": {},
          "execution_count": 79
        }
      ]
    },
    {
      "cell_type": "markdown",
      "source": [
        "### 가려는 둘레길과 검색어 비교"
      ],
      "metadata": {
        "id": "g-39SLX1dp4u"
      }
    },
    {
      "cell_type": "code",
      "source": [
        "len(road_1), road_1['사이트제목'].str.contains(\"서울\").sum(),\\\n",
        "len(road_2), road_2['사이트제목'].str.contains(\"영남\").sum(),\\\n",
        "len(road_3), road_3['사이트제목'].str.contains(\"지리산\").sum(),\\\n",
        "len(road_4), road_4['사이트제목'].str.contains(\"북한산\").sum(),\\\n",
        "len(road_5), road_5['사이트제목'].str.contains(\"횡성\").sum()"
      ],
      "metadata": {
        "colab": {
          "base_uri": "https://localhost:8080/"
        },
        "id": "_pHLfUSGQenK",
        "outputId": "e10d0a8b-7735-47df-92c5-a0d2990a265a"
      },
      "execution_count": null,
      "outputs": [
        {
          "output_type": "execute_result",
          "data": {
            "text/plain": [
              "(1541, 1541, 1163, 1163, 948, 948, 706, 685, 423, 423)"
            ]
          },
          "metadata": {},
          "execution_count": 159
        }
      ]
    },
    {
      "cell_type": "code",
      "source": [
        "len(road2_1), road2_1['사이트제목'].str.contains(\"서울\").sum(),\\\n",
        "len(road2_2), road2_2['사이트제목'].str.contains(\"영남\").sum(),\\\n",
        "len(road2_3), road2_3['사이트제목'].str.contains(\"지리산\").sum(),\\\n",
        "len(road2_4), road2_4['사이트제목'].str.contains(\"북한산\").sum(),\\\n",
        "len(road2_5), road2_5['사이트제목'].str.contains(\"횡성\").sum()"
      ],
      "metadata": {
        "colab": {
          "base_uri": "https://localhost:8080/"
        },
        "id": "p_d_FnyOSUkz",
        "outputId": "c1430f33-92db-4264-b224-6364a8d2342f"
      },
      "execution_count": null,
      "outputs": [
        {
          "output_type": "execute_result",
          "data": {
            "text/plain": [
              "(486, 486, 359, 359, 294, 294, 207, 201, 129, 0)"
            ]
          },
          "metadata": {},
          "execution_count": 160
        }
      ]
    },
    {
      "cell_type": "code",
      "source": [
        "len(road3_1), road3_1['사이트제목'].str.contains(\"서울\").sum(),\\\n",
        "len(road3_2), road3_2['사이트제목'].str.contains(\"영남\").sum(),\\\n",
        "len(road3_3), road3_3['사이트제목'].str.contains(\"지리산\").sum(),\\\n",
        "len(road3_4), road3_4['사이트제목'].str.contains(\"북한산\").sum(),\\\n",
        "len(road3_5), road3_5['사이트제목'].str.contains(\"횡성\").sum()"
      ],
      "metadata": {
        "colab": {
          "base_uri": "https://localhost:8080/"
        },
        "id": "aIs7WNxdQfca",
        "outputId": "03fd57b2-5740-4faf-e515-e059e84fe5fa"
      },
      "execution_count": null,
      "outputs": [
        {
          "output_type": "execute_result",
          "data": {
            "text/plain": [
              "(1055, 1055, 804, 804, 654, 654, 499, 484, 292, 292)"
            ]
          },
          "metadata": {},
          "execution_count": 161
        }
      ]
    },
    {
      "cell_type": "code",
      "source": [
        "road_1['사이트제목'][40:80]"
      ],
      "metadata": {
        "colab": {
          "base_uri": "https://localhost:8080/"
        },
        "id": "PlUhGBrwQfeI",
        "outputId": "a8607457-7077-4ee3-a2dd-f662d8947d1e"
      },
      "execution_count": null,
      "outputs": [
        {
          "output_type": "execute_result",
          "data": {
            "text/plain": [
              "1032    서울둘레길! 서울두드림길! 둘레길코스 정보 거리와 시간 특징 스탬프 장소 교통정보 ...\n",
              "1071    서울둘레길 3코스(3-3구간) : 수서역~방이동생태경관보전지역을 걷다. : 네이버 블로그\n",
              "1085                                    서울 둘레길 : 네이버 통합검색\n",
              "1106                                 서울 둘레길 3코스 - Daum 검색\n",
              "1107                                    서울 둘레길 : 네이버 통합검색\n",
              "1108                 서울둘레길 3코스-고덕·일자산코스 ② 고덕역 ~ 일자산 ~ 수서역\n",
              "1129                                  둘레길 코스 상세정보:: 서울둘레길\n",
              "1158    서울둘레길! 서울두드림길! 둘레길코스 정보 거리와 시간 특징 스탬프 장소 교통정보 ...\n",
              "1183                                  둘레길 코스 상세정보:: 서울둘레길\n",
              "1242                                  둘레길 코스 상세정보:: 서울둘레길\n",
              "1280                                 서울둘레길 4코스 : 네이버 통합검색\n",
              "1345                     서울 둘레길 4-1코스 : 대모산 둘레길 : 네이버 블로그\n",
              "1389                               서울둘레길 대모산 산책 : 네이버 블로그\n",
              "1399                                 서울둘레길 3코스 : 네이버 통합검색\n",
              "1433                                    서울 둘레길 : 네이버 통합검색\n",
              "1435    서울둘레길 2코스 : 용마.아차산코스 2-1(화랑대역~중랑캠핑숲~망우산) 忘憂 근심...\n",
              "1453                                  둘레길 코스 상세정보:: 서울둘레길\n",
              "1479                                 서울둘레길 4코스 : 네이버 통합검색\n",
              "1536                                 서울 둘레길 1코스 - Daum 검색\n",
              "1575                                       서울둘레길4코스 : 네이버\n",
              "1613         서울둘레길 3코스걷기(고덕.일자산구간) 수서역에서 잠실한강공원 : 네이버 블로그\n",
              "1649                                 서울둘레길 4코스 : 네이버 VIEW\n",
              "1656                              서울둘레길 4코스 완주기 : 네이버 블로그\n",
              "1665                              서울둘레길 4코스 완주기 : 네이버 블로그\n",
              "1672                                 서울 둘레길 1코스 - Daum 검색\n",
              "1723                     서울 둘레길 4-1코스 : 대모산 둘레길 : 네이버 블로그\n",
              "1735         서울둘레길 3코스걷기(고덕.일자산구간) 수서역에서 잠실한강공원 : 네이버 블로그\n",
              "1808                                  둘레길 코스 상세정보:: 서울둘레길\n",
              "1864                                      둘레길 코스 :: 서울둘레길\n",
              "1939                                  둘레길 코스 상세정보:: 서울둘레길\n",
              "1940    [서울 둘레길] 남산 순환산책길 - 추천코스 : Visit Seoul - 서울시 공...\n",
              "1943                                 서울둘레길 3코스 : 네이버 통합검색\n",
              "1949                               서울둘레길 대모산 산책 : 네이버 블로그\n",
              "1973         서울둘레길 3코스걷기(고덕.일자산구간) 수서역에서 잠실한강공원 : 네이버 블로그\n",
              "2068                                 서울 둘레길 3코스 - Daum 검색\n",
              "2095             걷기좋은길서울둘레길 안산자락길 둘레길 트래킹 코스 안내 : 네이버 블로그\n",
              "2117                                 서울둘레길 4코스 : 네이버 통합검색\n",
              "2140                                     서울 둘레길 - Daum 검색\n",
              "2160                                    서울 둘레길 : 네이버 통합검색\n",
              "2188                     서울 둘레길 4-1코스 : 대모산 둘레길 : 네이버 블로그\n",
              "Name: 사이트제목, dtype: object"
            ]
          },
          "metadata": {},
          "execution_count": 132
        }
      ]
    },
    {
      "cell_type": "code",
      "source": [],
      "metadata": {
        "id": "_9VIB7qIWrzl"
      },
      "execution_count": null,
      "outputs": []
    },
    {
      "cell_type": "markdown",
      "source": [
        "---\n",
        "---\n",
        "# df2 : 둘레길 주변관광 이용자 정보"
      ],
      "metadata": {
        "id": "Ltm-jv9bwwZw"
      }
    },
    {
      "cell_type": "code",
      "source": [
        "df2.head()"
      ],
      "metadata": {
        "colab": {
          "base_uri": "https://localhost:8080/",
          "height": 206
        },
        "id": "4sWnLOnMPhps",
        "outputId": "428c479f-3abb-4b86-b45d-6a973cfcf7da"
      },
      "execution_count": null,
      "outputs": [
        {
          "output_type": "execute_result",
          "data": {
            "text/plain": [
              "      주변관광                                        사이트제목 성별  연령   직업   소득  \\\n",
              "0     왜목마을           당진당일치기 3 왜목마을 해수욕장 산책 잠깐 들리기 좋은 코스  F   2  NaN  NaN   \n",
              "1      모악산                           100대명산  모악산  84130  M   4  NaN  NaN   \n",
              "2      보덕사                                       보덕사 예산  M   4  NaN  NaN   \n",
              "3      한탄강  포천 나들이 비둘기낭폭포 / 한탄강하늘다리 / 계류리예술창고 : 네이버 블로그  F   2  NaN  NaN   \n",
              "4  증평에듀팜특구      SNS기자단 기고 해외 관광객도 즐길 충북의 명소 증평 에듀팜 관광특구  M   3  NaN  NaN   \n",
              "\n",
              "       결혼          자녀   주거  시도    구       동  자동차  \n",
              "0                      NaN  서울  강동구    명일2동  NaN  \n",
              "1                      NaN  전남  화순군     화순읍  NaN  \n",
              "2                      NaN  경기  파주시     야동동  NaN  \n",
              "3                      NaN  전북  익산시     어양동  NaN  \n",
              "4                      NaN  서울  노원구  중계2.3동  NaN  "
            ],
            "text/html": [
              "\n",
              "  <div id=\"df-d7dc0ccd-b2da-4312-82d5-ec3575d3925c\">\n",
              "    <div class=\"colab-df-container\">\n",
              "      <div>\n",
              "<style scoped>\n",
              "    .dataframe tbody tr th:only-of-type {\n",
              "        vertical-align: middle;\n",
              "    }\n",
              "\n",
              "    .dataframe tbody tr th {\n",
              "        vertical-align: top;\n",
              "    }\n",
              "\n",
              "    .dataframe thead th {\n",
              "        text-align: right;\n",
              "    }\n",
              "</style>\n",
              "<table border=\"1\" class=\"dataframe\">\n",
              "  <thead>\n",
              "    <tr style=\"text-align: right;\">\n",
              "      <th></th>\n",
              "      <th>주변관광</th>\n",
              "      <th>사이트제목</th>\n",
              "      <th>성별</th>\n",
              "      <th>연령</th>\n",
              "      <th>직업</th>\n",
              "      <th>소득</th>\n",
              "      <th>결혼</th>\n",
              "      <th>자녀</th>\n",
              "      <th>주거</th>\n",
              "      <th>시도</th>\n",
              "      <th>구</th>\n",
              "      <th>동</th>\n",
              "      <th>자동차</th>\n",
              "    </tr>\n",
              "  </thead>\n",
              "  <tbody>\n",
              "    <tr>\n",
              "      <th>0</th>\n",
              "      <td>왜목마을</td>\n",
              "      <td>당진당일치기 3 왜목마을 해수욕장 산책 잠깐 들리기 좋은 코스</td>\n",
              "      <td>F</td>\n",
              "      <td>2</td>\n",
              "      <td>NaN</td>\n",
              "      <td>NaN</td>\n",
              "      <td></td>\n",
              "      <td></td>\n",
              "      <td>NaN</td>\n",
              "      <td>서울</td>\n",
              "      <td>강동구</td>\n",
              "      <td>명일2동</td>\n",
              "      <td>NaN</td>\n",
              "    </tr>\n",
              "    <tr>\n",
              "      <th>1</th>\n",
              "      <td>모악산</td>\n",
              "      <td>100대명산  모악산  84130</td>\n",
              "      <td>M</td>\n",
              "      <td>4</td>\n",
              "      <td>NaN</td>\n",
              "      <td>NaN</td>\n",
              "      <td></td>\n",
              "      <td></td>\n",
              "      <td>NaN</td>\n",
              "      <td>전남</td>\n",
              "      <td>화순군</td>\n",
              "      <td>화순읍</td>\n",
              "      <td>NaN</td>\n",
              "    </tr>\n",
              "    <tr>\n",
              "      <th>2</th>\n",
              "      <td>보덕사</td>\n",
              "      <td>보덕사 예산</td>\n",
              "      <td>M</td>\n",
              "      <td>4</td>\n",
              "      <td>NaN</td>\n",
              "      <td>NaN</td>\n",
              "      <td></td>\n",
              "      <td></td>\n",
              "      <td>NaN</td>\n",
              "      <td>경기</td>\n",
              "      <td>파주시</td>\n",
              "      <td>야동동</td>\n",
              "      <td>NaN</td>\n",
              "    </tr>\n",
              "    <tr>\n",
              "      <th>3</th>\n",
              "      <td>한탄강</td>\n",
              "      <td>포천 나들이 비둘기낭폭포 / 한탄강하늘다리 / 계류리예술창고 : 네이버 블로그</td>\n",
              "      <td>F</td>\n",
              "      <td>2</td>\n",
              "      <td>NaN</td>\n",
              "      <td>NaN</td>\n",
              "      <td></td>\n",
              "      <td></td>\n",
              "      <td>NaN</td>\n",
              "      <td>전북</td>\n",
              "      <td>익산시</td>\n",
              "      <td>어양동</td>\n",
              "      <td>NaN</td>\n",
              "    </tr>\n",
              "    <tr>\n",
              "      <th>4</th>\n",
              "      <td>증평에듀팜특구</td>\n",
              "      <td>SNS기자단 기고 해외 관광객도 즐길 충북의 명소 증평 에듀팜 관광특구</td>\n",
              "      <td>M</td>\n",
              "      <td>3</td>\n",
              "      <td>NaN</td>\n",
              "      <td>NaN</td>\n",
              "      <td></td>\n",
              "      <td></td>\n",
              "      <td>NaN</td>\n",
              "      <td>서울</td>\n",
              "      <td>노원구</td>\n",
              "      <td>중계2.3동</td>\n",
              "      <td>NaN</td>\n",
              "    </tr>\n",
              "  </tbody>\n",
              "</table>\n",
              "</div>\n",
              "      <button class=\"colab-df-convert\" onclick=\"convertToInteractive('df-d7dc0ccd-b2da-4312-82d5-ec3575d3925c')\"\n",
              "              title=\"Convert this dataframe to an interactive table.\"\n",
              "              style=\"display:none;\">\n",
              "        \n",
              "  <svg xmlns=\"http://www.w3.org/2000/svg\" height=\"24px\"viewBox=\"0 0 24 24\"\n",
              "       width=\"24px\">\n",
              "    <path d=\"M0 0h24v24H0V0z\" fill=\"none\"/>\n",
              "    <path d=\"M18.56 5.44l.94 2.06.94-2.06 2.06-.94-2.06-.94-.94-2.06-.94 2.06-2.06.94zm-11 1L8.5 8.5l.94-2.06 2.06-.94-2.06-.94L8.5 2.5l-.94 2.06-2.06.94zm10 10l.94 2.06.94-2.06 2.06-.94-2.06-.94-.94-2.06-.94 2.06-2.06.94z\"/><path d=\"M17.41 7.96l-1.37-1.37c-.4-.4-.92-.59-1.43-.59-.52 0-1.04.2-1.43.59L10.3 9.45l-7.72 7.72c-.78.78-.78 2.05 0 2.83L4 21.41c.39.39.9.59 1.41.59.51 0 1.02-.2 1.41-.59l7.78-7.78 2.81-2.81c.8-.78.8-2.07 0-2.86zM5.41 20L4 18.59l7.72-7.72 1.47 1.35L5.41 20z\"/>\n",
              "  </svg>\n",
              "      </button>\n",
              "      \n",
              "  <style>\n",
              "    .colab-df-container {\n",
              "      display:flex;\n",
              "      flex-wrap:wrap;\n",
              "      gap: 12px;\n",
              "    }\n",
              "\n",
              "    .colab-df-convert {\n",
              "      background-color: #E8F0FE;\n",
              "      border: none;\n",
              "      border-radius: 50%;\n",
              "      cursor: pointer;\n",
              "      display: none;\n",
              "      fill: #1967D2;\n",
              "      height: 32px;\n",
              "      padding: 0 0 0 0;\n",
              "      width: 32px;\n",
              "    }\n",
              "\n",
              "    .colab-df-convert:hover {\n",
              "      background-color: #E2EBFA;\n",
              "      box-shadow: 0px 1px 2px rgba(60, 64, 67, 0.3), 0px 1px 3px 1px rgba(60, 64, 67, 0.15);\n",
              "      fill: #174EA6;\n",
              "    }\n",
              "\n",
              "    [theme=dark] .colab-df-convert {\n",
              "      background-color: #3B4455;\n",
              "      fill: #D2E3FC;\n",
              "    }\n",
              "\n",
              "    [theme=dark] .colab-df-convert:hover {\n",
              "      background-color: #434B5C;\n",
              "      box-shadow: 0px 1px 3px 1px rgba(0, 0, 0, 0.15);\n",
              "      filter: drop-shadow(0px 1px 2px rgba(0, 0, 0, 0.3));\n",
              "      fill: #FFFFFF;\n",
              "    }\n",
              "  </style>\n",
              "\n",
              "      <script>\n",
              "        const buttonEl =\n",
              "          document.querySelector('#df-d7dc0ccd-b2da-4312-82d5-ec3575d3925c button.colab-df-convert');\n",
              "        buttonEl.style.display =\n",
              "          google.colab.kernel.accessAllowed ? 'block' : 'none';\n",
              "\n",
              "        async function convertToInteractive(key) {\n",
              "          const element = document.querySelector('#df-d7dc0ccd-b2da-4312-82d5-ec3575d3925c');\n",
              "          const dataTable =\n",
              "            await google.colab.kernel.invokeFunction('convertToInteractive',\n",
              "                                                     [key], {});\n",
              "          if (!dataTable) return;\n",
              "\n",
              "          const docLinkHtml = 'Like what you see? Visit the ' +\n",
              "            '<a target=\"_blank\" href=https://colab.research.google.com/notebooks/data_table.ipynb>data table notebook</a>'\n",
              "            + ' to learn more about interactive tables.';\n",
              "          element.innerHTML = '';\n",
              "          dataTable['output_type'] = 'display_data';\n",
              "          await google.colab.output.renderOutput(dataTable, element);\n",
              "          const docLink = document.createElement('div');\n",
              "          docLink.innerHTML = docLinkHtml;\n",
              "          element.appendChild(docLink);\n",
              "        }\n",
              "      </script>\n",
              "    </div>\n",
              "  </div>\n",
              "  "
            ]
          },
          "metadata": {},
          "execution_count": 238
        }
      ]
    },
    {
      "cell_type": "code",
      "source": [
        "# Total : 9,468\n",
        "df2_23 = df2[df2['연령'].isin([2, 3])]     # 4,086, 43.2%\n",
        "df2_2 = df2[(df2['연령'] == 2)]            # 1,204, 12.7%\n",
        "df2_3 = df2[(df2['연령'] == 3)]            # 2,882, 30.4%\n",
        "df2_45 = df2[df2['연령'].isin([4, 5])]     # 5,382, 56.8%"
      ],
      "metadata": {
        "id": "6o9hCdfOPiMF"
      },
      "execution_count": null,
      "outputs": []
    },
    {
      "cell_type": "code",
      "source": [
        "trip_1 = df2_23.query(\"주변관광 == '울릉도'\")\n",
        "trip_2 = df2_23.query(\"주변관광 == '해운대'\")\n",
        "trip_3 = df2_23.query(\"주변관광 == '남원'\")\n",
        "trip_4 = df2_23.query(\"주변관광 == '안면도'\")\n",
        "trip_5 = df2_23.query(\"주변관광 == '죽도'\")"
      ],
      "metadata": {
        "id": "Mb5_8OlOefo0"
      },
      "execution_count": null,
      "outputs": []
    },
    {
      "cell_type": "code",
      "source": [
        "trip2_1 = df2_2.query(\"주변관광 == '울릉도'\")\n",
        "trip2_2 = df2_2.query(\"주변관광 == '해운대'\")\n",
        "trip2_3 = df2_2.query(\"주변관광 == '죽도'\")\n",
        "trip2_4 = df2_2.query(\"주변관광 == '남원'\")\n",
        "trip2_5 = df2_2.query(\"주변관광 == '한탄강'\")"
      ],
      "metadata": {
        "id": "ai8VcXAbgOBx"
      },
      "execution_count": null,
      "outputs": []
    },
    {
      "cell_type": "code",
      "source": [
        "trip3_1 = df2_3.query(\"주변관광 == '해운대'\")\n",
        "trip3_2 = df2_3.query(\"주변관광 == '울릉도'\")\n",
        "trip3_3 = df2_3.query(\"주변관광 == '남원'\")\n",
        "trip3_4 = df2_3.query(\"주변관광 == '안면도'\")\n",
        "trip3_5 = df2_3.query(\"주변관광 == '태종대'\")"
      ],
      "metadata": {
        "id": "ck2tkhpbgmAZ"
      },
      "execution_count": null,
      "outputs": []
    },
    {
      "cell_type": "code",
      "source": [
        "trip_1"
      ],
      "metadata": {
        "colab": {
          "base_uri": "https://localhost:8080/",
          "height": 1000
        },
        "id": "3mwi9BFNe1zM",
        "outputId": "9c60f0b0-6fa2-4c67-ecee-03e273d62284"
      },
      "execution_count": null,
      "outputs": [
        {
          "output_type": "execute_result",
          "data": {
            "text/plain": [
              "     주변관광                                              사이트제목 성별  연령  \\\n",
              "946   울릉도                                  울릉도 배편 : 네이버 통합검색  M   3   \n",
              "1040  울릉도                      울릉도 명이나물 장아찌 홀릭 *^^* : 네이버 카페  M   2   \n",
              "1271  울릉도  [울릉도] 울릉도 3일 패키지 (묵호/포항/강릉출발 택1) :: 600개 도시 현지...  M   2   \n",
              "1505  울릉도  [울릉도] 울릉도 3일 패키지 (묵호/포항/강릉출발 택1) :: 600개 도시 현지...  M   2   \n",
              "1618  울릉도                                   울릉도여행 : 네이버 통합검색  M   3   \n",
              "...   ...                                                ... ..  ..   \n",
              "8472  울릉도                                 위드U호텔 - 울릉도 위드U 호텔  M   2   \n",
              "8474  울릉도                 울릉도숙박업소 깨끗하고 편안한 울릉도올레펜션 : 네이버 블로그  M   2   \n",
              "8843  울릉도                                  울릉도 날씨 : 네이버 통합검색  F   3   \n",
              "8844  울릉도                                     울릉도 : 네이버 통합검색  F   3   \n",
              "8884  울릉도                                     울릉도 : 네이버 통합검색  F   3   \n",
              "\n",
              "                          직업         소득      결혼          자녀         주거  시도  \\\n",
              "946                      NaN        NaN                            NaN  서울   \n",
              "1040                     NaN        NaN                            NaN  경기   \n",
              "1271                     NaN        NaN                            NaN  경기   \n",
              "1505                     NaN        NaN                            NaN  충북   \n",
              "1618                     NaN        NaN                            NaN  서울   \n",
              "...                      ...        ...     ...         ...        ...  ..   \n",
              "8472                     NaN        NaN                            NaN  광주   \n",
              "8474                     NaN        NaN                            NaN  서울   \n",
              "8843  사무직 (일반사무직, 공무원, 직업군인)  400~499만원   예          자녀 없음   아파트/ 주상복합  경기   \n",
              "8844  사무직 (일반사무직, 공무원, 직업군인)  400~499만원   예          자녀 없음   아파트/ 주상복합  경기   \n",
              "8884   주부 (전업주부, 파트타임 근무 주부)  300~399만원   예          자녀 있음   아파트/ 주상복합  경기   \n",
              "\n",
              "            구     동                         자동차  \n",
              "946       성북구  하월곡동                         NaN  \n",
              "1040      평택시   안중읍                         NaN  \n",
              "1271  부천시 오정구   여월동                         NaN  \n",
              "1505      충주시   안림동                         NaN  \n",
              "1618      강서구  등촌2동                         NaN  \n",
              "...       ...   ...                         ...  \n",
              "8472      광산구   산정동                         NaN  \n",
              "8474      용산구   보광동                         NaN  \n",
              "8843      시흥시  정왕3동  준중형차 (아반떼, K3, 크루즈, 제타급 등)  \n",
              "8844      시흥시  정왕3동  준중형차 (아반떼, K3, 크루즈, 제타급 등)  \n",
              "8884      오산시   갈곶동              경차 (모닝, 스파크 등)  \n",
              "\n",
              "[268 rows x 13 columns]"
            ],
            "text/html": [
              "\n",
              "  <div id=\"df-94f9191c-6257-4811-9b9c-90de4134f3d6\">\n",
              "    <div class=\"colab-df-container\">\n",
              "      <div>\n",
              "<style scoped>\n",
              "    .dataframe tbody tr th:only-of-type {\n",
              "        vertical-align: middle;\n",
              "    }\n",
              "\n",
              "    .dataframe tbody tr th {\n",
              "        vertical-align: top;\n",
              "    }\n",
              "\n",
              "    .dataframe thead th {\n",
              "        text-align: right;\n",
              "    }\n",
              "</style>\n",
              "<table border=\"1\" class=\"dataframe\">\n",
              "  <thead>\n",
              "    <tr style=\"text-align: right;\">\n",
              "      <th></th>\n",
              "      <th>주변관광</th>\n",
              "      <th>사이트제목</th>\n",
              "      <th>성별</th>\n",
              "      <th>연령</th>\n",
              "      <th>직업</th>\n",
              "      <th>소득</th>\n",
              "      <th>결혼</th>\n",
              "      <th>자녀</th>\n",
              "      <th>주거</th>\n",
              "      <th>시도</th>\n",
              "      <th>구</th>\n",
              "      <th>동</th>\n",
              "      <th>자동차</th>\n",
              "    </tr>\n",
              "  </thead>\n",
              "  <tbody>\n",
              "    <tr>\n",
              "      <th>946</th>\n",
              "      <td>울릉도</td>\n",
              "      <td>울릉도 배편 : 네이버 통합검색</td>\n",
              "      <td>M</td>\n",
              "      <td>3</td>\n",
              "      <td>NaN</td>\n",
              "      <td>NaN</td>\n",
              "      <td></td>\n",
              "      <td></td>\n",
              "      <td>NaN</td>\n",
              "      <td>서울</td>\n",
              "      <td>성북구</td>\n",
              "      <td>하월곡동</td>\n",
              "      <td>NaN</td>\n",
              "    </tr>\n",
              "    <tr>\n",
              "      <th>1040</th>\n",
              "      <td>울릉도</td>\n",
              "      <td>울릉도 명이나물 장아찌 홀릭 *^^* : 네이버 카페</td>\n",
              "      <td>M</td>\n",
              "      <td>2</td>\n",
              "      <td>NaN</td>\n",
              "      <td>NaN</td>\n",
              "      <td></td>\n",
              "      <td></td>\n",
              "      <td>NaN</td>\n",
              "      <td>경기</td>\n",
              "      <td>평택시</td>\n",
              "      <td>안중읍</td>\n",
              "      <td>NaN</td>\n",
              "    </tr>\n",
              "    <tr>\n",
              "      <th>1271</th>\n",
              "      <td>울릉도</td>\n",
              "      <td>[울릉도] 울릉도 3일 패키지 (묵호/포항/강릉출발 택1) :: 600개 도시 현지...</td>\n",
              "      <td>M</td>\n",
              "      <td>2</td>\n",
              "      <td>NaN</td>\n",
              "      <td>NaN</td>\n",
              "      <td></td>\n",
              "      <td></td>\n",
              "      <td>NaN</td>\n",
              "      <td>경기</td>\n",
              "      <td>부천시 오정구</td>\n",
              "      <td>여월동</td>\n",
              "      <td>NaN</td>\n",
              "    </tr>\n",
              "    <tr>\n",
              "      <th>1505</th>\n",
              "      <td>울릉도</td>\n",
              "      <td>[울릉도] 울릉도 3일 패키지 (묵호/포항/강릉출발 택1) :: 600개 도시 현지...</td>\n",
              "      <td>M</td>\n",
              "      <td>2</td>\n",
              "      <td>NaN</td>\n",
              "      <td>NaN</td>\n",
              "      <td></td>\n",
              "      <td></td>\n",
              "      <td>NaN</td>\n",
              "      <td>충북</td>\n",
              "      <td>충주시</td>\n",
              "      <td>안림동</td>\n",
              "      <td>NaN</td>\n",
              "    </tr>\n",
              "    <tr>\n",
              "      <th>1618</th>\n",
              "      <td>울릉도</td>\n",
              "      <td>울릉도여행 : 네이버 통합검색</td>\n",
              "      <td>M</td>\n",
              "      <td>3</td>\n",
              "      <td>NaN</td>\n",
              "      <td>NaN</td>\n",
              "      <td></td>\n",
              "      <td></td>\n",
              "      <td>NaN</td>\n",
              "      <td>서울</td>\n",
              "      <td>강서구</td>\n",
              "      <td>등촌2동</td>\n",
              "      <td>NaN</td>\n",
              "    </tr>\n",
              "    <tr>\n",
              "      <th>...</th>\n",
              "      <td>...</td>\n",
              "      <td>...</td>\n",
              "      <td>...</td>\n",
              "      <td>...</td>\n",
              "      <td>...</td>\n",
              "      <td>...</td>\n",
              "      <td>...</td>\n",
              "      <td>...</td>\n",
              "      <td>...</td>\n",
              "      <td>...</td>\n",
              "      <td>...</td>\n",
              "      <td>...</td>\n",
              "      <td>...</td>\n",
              "    </tr>\n",
              "    <tr>\n",
              "      <th>8472</th>\n",
              "      <td>울릉도</td>\n",
              "      <td>위드U호텔 - 울릉도 위드U 호텔</td>\n",
              "      <td>M</td>\n",
              "      <td>2</td>\n",
              "      <td>NaN</td>\n",
              "      <td>NaN</td>\n",
              "      <td></td>\n",
              "      <td></td>\n",
              "      <td>NaN</td>\n",
              "      <td>광주</td>\n",
              "      <td>광산구</td>\n",
              "      <td>산정동</td>\n",
              "      <td>NaN</td>\n",
              "    </tr>\n",
              "    <tr>\n",
              "      <th>8474</th>\n",
              "      <td>울릉도</td>\n",
              "      <td>울릉도숙박업소 깨끗하고 편안한 울릉도올레펜션 : 네이버 블로그</td>\n",
              "      <td>M</td>\n",
              "      <td>2</td>\n",
              "      <td>NaN</td>\n",
              "      <td>NaN</td>\n",
              "      <td></td>\n",
              "      <td></td>\n",
              "      <td>NaN</td>\n",
              "      <td>서울</td>\n",
              "      <td>용산구</td>\n",
              "      <td>보광동</td>\n",
              "      <td>NaN</td>\n",
              "    </tr>\n",
              "    <tr>\n",
              "      <th>8843</th>\n",
              "      <td>울릉도</td>\n",
              "      <td>울릉도 날씨 : 네이버 통합검색</td>\n",
              "      <td>F</td>\n",
              "      <td>3</td>\n",
              "      <td>사무직 (일반사무직, 공무원, 직업군인)</td>\n",
              "      <td>400~499만원</td>\n",
              "      <td>예</td>\n",
              "      <td>자녀 없음</td>\n",
              "      <td>아파트/ 주상복합</td>\n",
              "      <td>경기</td>\n",
              "      <td>시흥시</td>\n",
              "      <td>정왕3동</td>\n",
              "      <td>준중형차 (아반떼, K3, 크루즈, 제타급 등)</td>\n",
              "    </tr>\n",
              "    <tr>\n",
              "      <th>8844</th>\n",
              "      <td>울릉도</td>\n",
              "      <td>울릉도 : 네이버 통합검색</td>\n",
              "      <td>F</td>\n",
              "      <td>3</td>\n",
              "      <td>사무직 (일반사무직, 공무원, 직업군인)</td>\n",
              "      <td>400~499만원</td>\n",
              "      <td>예</td>\n",
              "      <td>자녀 없음</td>\n",
              "      <td>아파트/ 주상복합</td>\n",
              "      <td>경기</td>\n",
              "      <td>시흥시</td>\n",
              "      <td>정왕3동</td>\n",
              "      <td>준중형차 (아반떼, K3, 크루즈, 제타급 등)</td>\n",
              "    </tr>\n",
              "    <tr>\n",
              "      <th>8884</th>\n",
              "      <td>울릉도</td>\n",
              "      <td>울릉도 : 네이버 통합검색</td>\n",
              "      <td>F</td>\n",
              "      <td>3</td>\n",
              "      <td>주부 (전업주부, 파트타임 근무 주부)</td>\n",
              "      <td>300~399만원</td>\n",
              "      <td>예</td>\n",
              "      <td>자녀 있음</td>\n",
              "      <td>아파트/ 주상복합</td>\n",
              "      <td>경기</td>\n",
              "      <td>오산시</td>\n",
              "      <td>갈곶동</td>\n",
              "      <td>경차 (모닝, 스파크 등)</td>\n",
              "    </tr>\n",
              "  </tbody>\n",
              "</table>\n",
              "<p>268 rows × 13 columns</p>\n",
              "</div>\n",
              "      <button class=\"colab-df-convert\" onclick=\"convertToInteractive('df-94f9191c-6257-4811-9b9c-90de4134f3d6')\"\n",
              "              title=\"Convert this dataframe to an interactive table.\"\n",
              "              style=\"display:none;\">\n",
              "        \n",
              "  <svg xmlns=\"http://www.w3.org/2000/svg\" height=\"24px\"viewBox=\"0 0 24 24\"\n",
              "       width=\"24px\">\n",
              "    <path d=\"M0 0h24v24H0V0z\" fill=\"none\"/>\n",
              "    <path d=\"M18.56 5.44l.94 2.06.94-2.06 2.06-.94-2.06-.94-.94-2.06-.94 2.06-2.06.94zm-11 1L8.5 8.5l.94-2.06 2.06-.94-2.06-.94L8.5 2.5l-.94 2.06-2.06.94zm10 10l.94 2.06.94-2.06 2.06-.94-2.06-.94-.94-2.06-.94 2.06-2.06.94z\"/><path d=\"M17.41 7.96l-1.37-1.37c-.4-.4-.92-.59-1.43-.59-.52 0-1.04.2-1.43.59L10.3 9.45l-7.72 7.72c-.78.78-.78 2.05 0 2.83L4 21.41c.39.39.9.59 1.41.59.51 0 1.02-.2 1.41-.59l7.78-7.78 2.81-2.81c.8-.78.8-2.07 0-2.86zM5.41 20L4 18.59l7.72-7.72 1.47 1.35L5.41 20z\"/>\n",
              "  </svg>\n",
              "      </button>\n",
              "      \n",
              "  <style>\n",
              "    .colab-df-container {\n",
              "      display:flex;\n",
              "      flex-wrap:wrap;\n",
              "      gap: 12px;\n",
              "    }\n",
              "\n",
              "    .colab-df-convert {\n",
              "      background-color: #E8F0FE;\n",
              "      border: none;\n",
              "      border-radius: 50%;\n",
              "      cursor: pointer;\n",
              "      display: none;\n",
              "      fill: #1967D2;\n",
              "      height: 32px;\n",
              "      padding: 0 0 0 0;\n",
              "      width: 32px;\n",
              "    }\n",
              "\n",
              "    .colab-df-convert:hover {\n",
              "      background-color: #E2EBFA;\n",
              "      box-shadow: 0px 1px 2px rgba(60, 64, 67, 0.3), 0px 1px 3px 1px rgba(60, 64, 67, 0.15);\n",
              "      fill: #174EA6;\n",
              "    }\n",
              "\n",
              "    [theme=dark] .colab-df-convert {\n",
              "      background-color: #3B4455;\n",
              "      fill: #D2E3FC;\n",
              "    }\n",
              "\n",
              "    [theme=dark] .colab-df-convert:hover {\n",
              "      background-color: #434B5C;\n",
              "      box-shadow: 0px 1px 3px 1px rgba(0, 0, 0, 0.15);\n",
              "      filter: drop-shadow(0px 1px 2px rgba(0, 0, 0, 0.3));\n",
              "      fill: #FFFFFF;\n",
              "    }\n",
              "  </style>\n",
              "\n",
              "      <script>\n",
              "        const buttonEl =\n",
              "          document.querySelector('#df-94f9191c-6257-4811-9b9c-90de4134f3d6 button.colab-df-convert');\n",
              "        buttonEl.style.display =\n",
              "          google.colab.kernel.accessAllowed ? 'block' : 'none';\n",
              "\n",
              "        async function convertToInteractive(key) {\n",
              "          const element = document.querySelector('#df-94f9191c-6257-4811-9b9c-90de4134f3d6');\n",
              "          const dataTable =\n",
              "            await google.colab.kernel.invokeFunction('convertToInteractive',\n",
              "                                                     [key], {});\n",
              "          if (!dataTable) return;\n",
              "\n",
              "          const docLinkHtml = 'Like what you see? Visit the ' +\n",
              "            '<a target=\"_blank\" href=https://colab.research.google.com/notebooks/data_table.ipynb>data table notebook</a>'\n",
              "            + ' to learn more about interactive tables.';\n",
              "          element.innerHTML = '';\n",
              "          dataTable['output_type'] = 'display_data';\n",
              "          await google.colab.output.renderOutput(dataTable, element);\n",
              "          const docLink = document.createElement('div');\n",
              "          docLink.innerHTML = docLinkHtml;\n",
              "          element.appendChild(docLink);\n",
              "        }\n",
              "      </script>\n",
              "    </div>\n",
              "  </div>\n",
              "  "
            ]
          },
          "metadata": {},
          "execution_count": 135
        }
      ]
    },
    {
      "cell_type": "markdown",
      "source": [
        "### 울릉도"
      ],
      "metadata": {
        "id": "uzpjN2nohVzI"
      }
    },
    {
      "cell_type": "code",
      "source": [
        "# 230대 20대\n",
        "trip_1.query(\"성별 == 'F'\")['시도'].value_counts()[:3],\\\n",
        "trip2_1.query(\"성별 == 'F'\")['시도'].value_counts()[:3]"
      ],
      "metadata": {
        "colab": {
          "base_uri": "https://localhost:8080/"
        },
        "id": "Iuw3aT8ehIQq",
        "outputId": "cfae0c55-c83a-4a66-8170-18946eb39cfe"
      },
      "execution_count": null,
      "outputs": [
        {
          "output_type": "execute_result",
          "data": {
            "text/plain": [
              "(부산    128\n",
              " 서울     21\n",
              " 대구     19\n",
              " Name: 시도, dtype: int64,\n",
              " 부산    126\n",
              " 서울      5\n",
              " 경기      4\n",
              " Name: 시도, dtype: int64)"
            ]
          },
          "metadata": {},
          "execution_count": 169
        }
      ]
    },
    {
      "cell_type": "code",
      "source": [
        "len(trip_1.query(\"성별 == 'F'\")),\\\n",
        "len(trip_1.query(\"성별 == 'F' and 시도 == '부산'\")),\\\n",
        "len(trip_1.query(\"성별 == 'F' and 시도 == '부산' and 자동차.notnull()\")),\\\n",
        "len(trip2_1.query(\"성별 == 'F'\")),\\\n",
        "len(trip2_1.query(\"성별 == 'F' and 시도 == '부산'\")),\\\n",
        "len(trip2_1.query(\"성별 == 'F' and 시도 == '부산' and 자동차.notnull()\"))"
      ],
      "metadata": {
        "colab": {
          "base_uri": "https://localhost:8080/"
        },
        "id": "VbW_1IcBhIM1",
        "outputId": "8839ab1b-ac85-48ae-d811-4b27ec901415"
      },
      "execution_count": null,
      "outputs": [
        {
          "output_type": "execute_result",
          "data": {
            "text/plain": [
              "(204, 128, 1, 145, 126, 0)"
            ]
          },
          "metadata": {},
          "execution_count": 171
        }
      ]
    },
    {
      "cell_type": "code",
      "source": [
        "trip_1.query(\"성별 == 'M'\")['시도'].value_counts()[:3],\\\n",
        "trip2_1.query(\"성별 == 'M'\")['시도'].value_counts()[:3]"
      ],
      "metadata": {
        "colab": {
          "base_uri": "https://localhost:8080/"
        },
        "id": "92YfiytKefjJ",
        "outputId": "7da7eede-3e71-4165-8f12-c50b62ad6684"
      },
      "execution_count": null,
      "outputs": [
        {
          "output_type": "execute_result",
          "data": {
            "text/plain": [
              "(서울    26\n",
              " 경기     9\n",
              " 대구     6\n",
              " Name: 시도, dtype: int64,\n",
              " 서울    11\n",
              " 경기     5\n",
              " 충북     1\n",
              " Name: 시도, dtype: int64)"
            ]
          },
          "metadata": {},
          "execution_count": 173
        }
      ]
    },
    {
      "cell_type": "code",
      "source": [
        "len(trip_1.query(\"성별 == 'M'\")),\\\n",
        "len(trip_1.query(\"성별 == 'M' and 시도 == '서울'\")),\\\n",
        "len(trip_1.query(\"성별 == 'M' and 시도 == '서울' and 자동차.notnull()\")),\\\n",
        "len(trip2_1.query(\"성별 == 'M'\")),\\\n",
        "len(trip2_1.query(\"성별 == 'M' and 시도 == '서울'\")),\\\n",
        "len(trip2_1.query(\"성별 == 'M' and 시도 == '서울' and 자동차.notnull()\"))"
      ],
      "metadata": {
        "colab": {
          "base_uri": "https://localhost:8080/"
        },
        "id": "DNIS76G6hPcw",
        "outputId": "c1f9d932-6b5f-4fad-9e9e-d3fa76d070ec"
      },
      "execution_count": null,
      "outputs": [
        {
          "output_type": "execute_result",
          "data": {
            "text/plain": [
              "(64, 26, 3, 21, 11, 1)"
            ]
          },
          "metadata": {},
          "execution_count": 176
        }
      ]
    },
    {
      "cell_type": "code",
      "source": [
        "# 30대\n",
        "trip3_2.query(\"성별 == 'F'\")['시도'].value_counts()[:3]"
      ],
      "metadata": {
        "colab": {
          "base_uri": "https://localhost:8080/"
        },
        "id": "72prXqEEoo8J",
        "outputId": "8156933e-36af-43fb-ba83-4c333437394b"
      },
      "execution_count": null,
      "outputs": [
        {
          "output_type": "execute_result",
          "data": {
            "text/plain": [
              "대구    18\n",
              "서울    16\n",
              "경기    14\n",
              "Name: 시도, dtype: int64"
            ]
          },
          "metadata": {},
          "execution_count": 179
        }
      ]
    },
    {
      "cell_type": "code",
      "source": [
        "len(trip3_2.query(\"성별 == 'F'\")),\\\n",
        "len(trip3_2.query(\"성별 == 'F' and 시도 == '대구'\")),\\\n",
        "len(trip3_2.query(\"성별 == 'F' and 시도 == '대구' and 자동차.notnull()\"))"
      ],
      "metadata": {
        "colab": {
          "base_uri": "https://localhost:8080/"
        },
        "id": "lKM_0Ff5oo46",
        "outputId": "7f835633-704d-42da-f409-efe5ee75cbd8"
      },
      "execution_count": null,
      "outputs": [
        {
          "output_type": "execute_result",
          "data": {
            "text/plain": [
              "(59, 18, 6)"
            ]
          },
          "metadata": {},
          "execution_count": 181
        }
      ]
    },
    {
      "cell_type": "code",
      "source": [
        "trip3_2.query(\"성별 == 'M'\")['시도'].value_counts()[:3]"
      ],
      "metadata": {
        "colab": {
          "base_uri": "https://localhost:8080/"
        },
        "id": "CxLdNM0ao11N",
        "outputId": "98118ba9-ba46-4526-d9eb-bfb94ccaa955"
      },
      "execution_count": null,
      "outputs": [
        {
          "output_type": "execute_result",
          "data": {
            "text/plain": [
              "서울    15\n",
              "대구     5\n",
              "경남     4\n",
              "Name: 시도, dtype: int64"
            ]
          },
          "metadata": {},
          "execution_count": 182
        }
      ]
    },
    {
      "cell_type": "code",
      "source": [
        "len(trip3_2.query(\"성별 == 'M'\")),\\\n",
        "len(trip3_2.query(\"성별 == 'M' and 시도 == '서울'\")),\\\n",
        "len(trip3_2.query(\"성별 == 'M' and 시도 == '서울' and 자동차.notnull()\"))"
      ],
      "metadata": {
        "colab": {
          "base_uri": "https://localhost:8080/"
        },
        "id": "K7w5jq6Mo1xn",
        "outputId": "2d7422f5-21b3-455a-c8c9-36b1f11d77fe"
      },
      "execution_count": null,
      "outputs": [
        {
          "output_type": "execute_result",
          "data": {
            "text/plain": [
              "(43, 15, 2)"
            ]
          },
          "metadata": {},
          "execution_count": 183
        }
      ]
    },
    {
      "cell_type": "markdown",
      "source": [
        "### 해운대"
      ],
      "metadata": {
        "id": "CGf4UsLShPY-"
      }
    },
    {
      "cell_type": "code",
      "source": [
        "# 30대\n",
        "trip3_1.query(\"성별 == 'F'\")['시도'].value_counts()[:3]"
      ],
      "metadata": {
        "colab": {
          "base_uri": "https://localhost:8080/"
        },
        "id": "AZvyevQlm7S_",
        "outputId": "f0de5ca9-c6a2-4612-9b36-36b555d3c244"
      },
      "execution_count": null,
      "outputs": [
        {
          "output_type": "execute_result",
          "data": {
            "text/plain": [
              "인천    38\n",
              "서울    27\n",
              "부산    21\n",
              "Name: 시도, dtype: int64"
            ]
          },
          "metadata": {},
          "execution_count": 170
        }
      ]
    },
    {
      "cell_type": "code",
      "source": [
        "len(trip3_1.query(\"성별 == 'F'\")),\\\n",
        "len(trip3_1.query(\"성별 == 'F' and 시도 == '인천'\")),\\\n",
        "len(trip3_1.query(\"성별 == 'F' and 시도 == '인천' and 자동차.notnull()\"))"
      ],
      "metadata": {
        "colab": {
          "base_uri": "https://localhost:8080/"
        },
        "id": "lmMCT9UXlxTE",
        "outputId": "7b807fdf-a43c-41c9-e129-9d867002c231"
      },
      "execution_count": null,
      "outputs": [
        {
          "output_type": "execute_result",
          "data": {
            "text/plain": [
              "(128, 38, 2)"
            ]
          },
          "metadata": {},
          "execution_count": 172
        }
      ]
    },
    {
      "cell_type": "code",
      "source": [
        "trip3_1.query(\"성별 == 'M'\")['시도'].value_counts()[:3]"
      ],
      "metadata": {
        "colab": {
          "base_uri": "https://localhost:8080/"
        },
        "id": "VYLegZAbn4bK",
        "outputId": "d6b3383b-4e3d-4257-f87d-15bbc26ffec2"
      },
      "execution_count": null,
      "outputs": [
        {
          "output_type": "execute_result",
          "data": {
            "text/plain": [
              "경기    14\n",
              "서울    14\n",
              "인천     2\n",
              "Name: 시도, dtype: int64"
            ]
          },
          "metadata": {},
          "execution_count": 174
        }
      ]
    },
    {
      "cell_type": "code",
      "source": [
        "len(trip3_1.query(\"성별 == 'M'\")),\\\n",
        "len(trip3_1.query(\"성별 == 'M' and 시도 == '경기'\")),\\\n",
        "len(trip3_1.query(\"성별 == 'M' and 시도 == '경기' and 자동차.notnull()\"))"
      ],
      "metadata": {
        "colab": {
          "base_uri": "https://localhost:8080/"
        },
        "id": "DTqL0ok1n4YJ",
        "outputId": "d4d6d75c-a08d-42fc-b660-861b2e3c1fd6"
      },
      "execution_count": null,
      "outputs": [
        {
          "output_type": "execute_result",
          "data": {
            "text/plain": [
              "(37, 14, 10)"
            ]
          },
          "metadata": {},
          "execution_count": 177
        }
      ]
    },
    {
      "cell_type": "code",
      "source": [
        "# 230대 20대\n",
        "trip_2.query(\"성별 == 'F'\")['시도'].value_counts()[:3],\\\n",
        "trip2_2.query(\"성별 == 'F'\")['시도'].value_counts()[:3]"
      ],
      "metadata": {
        "colab": {
          "base_uri": "https://localhost:8080/"
        },
        "id": "HQnpusskpK8N",
        "outputId": "7ef94481-7dc0-4c42-cc00-61dd121ddac9"
      },
      "execution_count": null,
      "outputs": [
        {
          "output_type": "execute_result",
          "data": {
            "text/plain": [
              "(인천    39\n",
              " 서울    35\n",
              " 부산    26\n",
              " Name: 시도, dtype: int64,\n",
              " 서울    8\n",
              " 부산    5\n",
              " 경기    3\n",
              " Name: 시도, dtype: int64)"
            ]
          },
          "metadata": {},
          "execution_count": 184
        }
      ]
    },
    {
      "cell_type": "code",
      "source": [
        "len(trip_2.query(\"성별 == 'F'\")),\\\n",
        "len(trip_2.query(\"성별 == 'F' and 시도 == '인천'\")),\\\n",
        "len(trip_2.query(\"성별 == 'F' and 시도 == '인천' and 자동차.notnull()\")),\\\n",
        "len(trip2_2.query(\"성별 == 'F'\")),\\\n",
        "len(trip2_2.query(\"성별 == 'F' and 시도 == '서울'\")),\\\n",
        "len(trip2_2.query(\"성별 == 'F' and 시도 == '서울' and 자동차.notnull()\"))"
      ],
      "metadata": {
        "colab": {
          "base_uri": "https://localhost:8080/"
        },
        "id": "q5G-4IBHpK5d",
        "outputId": "92fd3d38-8612-47a9-92fc-851472c73bea"
      },
      "execution_count": null,
      "outputs": [
        {
          "output_type": "execute_result",
          "data": {
            "text/plain": [
              "(150, 39, 2, 22, 8, 0)"
            ]
          },
          "metadata": {},
          "execution_count": 185
        }
      ]
    },
    {
      "cell_type": "code",
      "source": [
        "trip_2.query(\"성별 == 'F'\")['시도'].value_counts().keys()[0]"
      ],
      "metadata": {
        "colab": {
          "base_uri": "https://localhost:8080/",
          "height": 35
        },
        "id": "2MqqRPh2qfGX",
        "outputId": "c174271a-30a3-4b1b-9e95-cf86e332cd29"
      },
      "execution_count": null,
      "outputs": [
        {
          "output_type": "execute_result",
          "data": {
            "text/plain": [
              "'인천'"
            ],
            "application/vnd.google.colaboratory.intrinsic+json": {
              "type": "string"
            }
          },
          "metadata": {},
          "execution_count": 195
        }
      ]
    },
    {
      "cell_type": "code",
      "source": [
        "trip2_2.query(\"성별 == 'F'\")['시도'].value_counts().keys()[0]"
      ],
      "metadata": {
        "colab": {
          "base_uri": "https://localhost:8080/",
          "height": 35
        },
        "id": "xX03gSPmoCb_",
        "outputId": "1c97a73f-ec69-415c-ae12-9faca3c03754"
      },
      "execution_count": null,
      "outputs": [
        {
          "output_type": "execute_result",
          "data": {
            "text/plain": [
              "'서울'"
            ],
            "application/vnd.google.colaboratory.intrinsic+json": {
              "type": "string"
            }
          },
          "metadata": {},
          "execution_count": 194
        }
      ]
    },
    {
      "cell_type": "code",
      "source": [
        "trip_2.query(\"성별 == 'M'\")['시도'].value_counts()[:3],\\\n",
        "trip2_2.query(\"성별 == 'M'\")['시도'].value_counts()[:3]"
      ],
      "metadata": {
        "colab": {
          "base_uri": "https://localhost:8080/"
        },
        "id": "zu1EVoBqrHNW",
        "outputId": "c915a2d4-0c19-420a-8ff2-1dfe11f1b053"
      },
      "execution_count": null,
      "outputs": [
        {
          "output_type": "execute_result",
          "data": {
            "text/plain": [
              "(서울    21\n",
              " 경기    17\n",
              " 대전     5\n",
              " Name: 시도, dtype: int64,\n",
              " 서울    7\n",
              " 경북    4\n",
              " 대전    3\n",
              " Name: 시도, dtype: int64)"
            ]
          },
          "metadata": {},
          "execution_count": 196
        }
      ]
    },
    {
      "cell_type": "code",
      "source": [
        "len(trip_2.query(\"성별 == 'M'\")),\\\n",
        "len(trip_2.query(\"성별 == 'M' and 시도 == '서울'\")),\\\n",
        "len(trip_2.query(\"성별 == 'M' and 시도 == '서울' and 자동차.notnull()\")),\\\n",
        "len(trip2_2.query(\"성별 == 'M'\")),\\\n",
        "len(trip2_2.query(\"성별 == 'M' and 시도 == '서울'\")),\\\n",
        "len(trip2_2.query(\"성별 == 'M' and 시도 == '서울' and 자동차.notnull()\"))"
      ],
      "metadata": {
        "colab": {
          "base_uri": "https://localhost:8080/"
        },
        "id": "rxe6t4MprHJk",
        "outputId": "69446d48-a8a4-48a3-e28a-d83c8ea9f09b"
      },
      "execution_count": null,
      "outputs": [
        {
          "output_type": "execute_result",
          "data": {
            "text/plain": [
              "(63, 21, 4, 26, 7, 1)"
            ]
          },
          "metadata": {},
          "execution_count": 197
        }
      ]
    },
    {
      "cell_type": "markdown",
      "source": [
        "### 남원"
      ],
      "metadata": {
        "id": "BGt8oObRrHFy"
      }
    },
    {
      "cell_type": "code",
      "source": [
        "# 230대 30대\n",
        "trip_3.query(\"성별 == 'F'\")['시도'].value_counts()[:3],\\\n",
        "trip3_3.query(\"성별 == 'F'\")['시도'].value_counts()[:3]"
      ],
      "metadata": {
        "colab": {
          "base_uri": "https://localhost:8080/"
        },
        "id": "X2g5U430rcqo",
        "outputId": "4e3a95ac-d5ad-4b98-b01f-2f47335487ac"
      },
      "execution_count": null,
      "outputs": [
        {
          "output_type": "execute_result",
          "data": {
            "text/plain": [
              "(경기    25\n",
              " 대구    19\n",
              " 서울     9\n",
              " Name: 시도, dtype: int64,\n",
              " 대구    19\n",
              " 경기    18\n",
              " 서울     7\n",
              " Name: 시도, dtype: int64)"
            ]
          },
          "metadata": {},
          "execution_count": 199
        }
      ]
    },
    {
      "cell_type": "code",
      "source": [
        "len(trip_3.query(\"성별 == 'F'\")),\\\n",
        "len(trip_3.query(\"성별 == 'F' and 시도 == '경기'\")),\\\n",
        "len(trip_3.query(\"성별 == 'F' and 시도 == '경기' and 자동차.notnull()\")),\\\n",
        "len(trip3_3.query(\"성별 == 'F'\")),\\\n",
        "len(trip3_3.query(\"성별 == 'F' and 시도 == '대구'\")),\\\n",
        "len(trip3_3.query(\"성별 == 'F' and 시도 == '대구' and 자동차.notnull()\"))"
      ],
      "metadata": {
        "colab": {
          "base_uri": "https://localhost:8080/"
        },
        "id": "q0n0ha2Jrcsy",
        "outputId": "d7e88bb1-2975-4e16-8dd7-cecb59ae3a6c"
      },
      "execution_count": null,
      "outputs": [
        {
          "output_type": "execute_result",
          "data": {
            "text/plain": [
              "(74, 25, 13, 60, 19, 0)"
            ]
          },
          "metadata": {},
          "execution_count": 202
        }
      ]
    },
    {
      "cell_type": "code",
      "source": [
        "trip_3.query(\"성별 == 'M'\")['시도'].value_counts()[:3],\\\n",
        "trip3_3.query(\"성별 == 'M'\")['시도'].value_counts()[:3]"
      ],
      "metadata": {
        "colab": {
          "base_uri": "https://localhost:8080/"
        },
        "id": "HoFbvHnTrcu1",
        "outputId": "cfc4f60d-c02a-4f3b-f517-2c194ff71adf"
      },
      "execution_count": null,
      "outputs": [
        {
          "output_type": "execute_result",
          "data": {
            "text/plain": [
              "(경기    18\n",
              " 서울     8\n",
              " 충남     3\n",
              " Name: 시도, dtype: int64,\n",
              " 경기    16\n",
              " 서울     7\n",
              " 충남     3\n",
              " Name: 시도, dtype: int64)"
            ]
          },
          "metadata": {},
          "execution_count": 200
        }
      ]
    },
    {
      "cell_type": "code",
      "source": [
        "len(trip_3.query(\"성별 == 'M'\")),\\\n",
        "len(trip_3.query(\"성별 == 'M' and 시도 == '경기'\")),\\\n",
        "len(trip_3.query(\"성별 == 'M' and 시도 == '경기' and 자동차.notnull()\")),\\\n",
        "len(trip3_3.query(\"성별 == 'M'\")),\\\n",
        "len(trip3_3.query(\"성별 == 'M' and 시도 == '경기'\")),\\\n",
        "len(trip3_3.query(\"성별 == 'M' and 시도 == '경기' and 자동차.notnull()\"))"
      ],
      "metadata": {
        "colab": {
          "base_uri": "https://localhost:8080/"
        },
        "id": "gIlkAXyircw7",
        "outputId": "59a773e6-2eb8-4e44-ab3f-74d84403357d"
      },
      "execution_count": null,
      "outputs": [
        {
          "output_type": "execute_result",
          "data": {
            "text/plain": [
              "(38, 18, 11, 33, 16, 11)"
            ]
          },
          "metadata": {},
          "execution_count": 201
        }
      ]
    },
    {
      "cell_type": "code",
      "source": [
        "# 20대\n",
        "trip2_4.query(\"성별 == 'F'\")['시도'].value_counts()[:3]"
      ],
      "metadata": {
        "colab": {
          "base_uri": "https://localhost:8080/"
        },
        "id": "vnw9M_T8szG_",
        "outputId": "1dbf2c3f-3940-4421-c64c-11700da38d72"
      },
      "execution_count": null,
      "outputs": [
        {
          "output_type": "execute_result",
          "data": {
            "text/plain": [
              "경기    7\n",
              "충북    2\n",
              "서울    2\n",
              "Name: 시도, dtype: int64"
            ]
          },
          "metadata": {},
          "execution_count": 208
        }
      ]
    },
    {
      "cell_type": "code",
      "source": [
        "trip2_4.query(\"성별 == 'M'\")['시도'].value_counts()[:3]"
      ],
      "metadata": {
        "colab": {
          "base_uri": "https://localhost:8080/"
        },
        "id": "eNi4jRo9szCh",
        "outputId": "e47d2576-2410-42c2-fe84-3a141428fff6"
      },
      "execution_count": null,
      "outputs": [
        {
          "output_type": "execute_result",
          "data": {
            "text/plain": [
              "경기    2\n",
              "서울    1\n",
              "전북    1\n",
              "Name: 시도, dtype: int64"
            ]
          },
          "metadata": {},
          "execution_count": 210
        }
      ]
    },
    {
      "cell_type": "markdown",
      "source": [
        "### 죽도"
      ],
      "metadata": {
        "id": "5l_rpz2_oCY9"
      }
    },
    {
      "cell_type": "code",
      "source": [
        "trip2_3.query(\"성별 == 'F'\")['시도'].value_counts()[:3]"
      ],
      "metadata": {
        "colab": {
          "base_uri": "https://localhost:8080/"
        },
        "id": "bOG1BbrQlJ-s",
        "outputId": "c1eba28a-e01b-4ea4-834d-6781da11ab9b"
      },
      "execution_count": null,
      "outputs": [
        {
          "output_type": "execute_result",
          "data": {
            "text/plain": [
              "부산    30\n",
              "경남     1\n",
              "경기     1\n",
              "Name: 시도, dtype: int64"
            ]
          },
          "metadata": {},
          "execution_count": 219
        }
      ]
    },
    {
      "cell_type": "code",
      "source": [
        "len(trip2_3.query(\"성별 == 'F'\")),\\\n",
        "len(trip2_3.query(\"성별 == 'F' and 시도 == '부산'\")),\\\n",
        "len(trip2_3.query(\"성별 == 'F' and 시도 == '부산' and 자동차.notnull()\"))"
      ],
      "metadata": {
        "colab": {
          "base_uri": "https://localhost:8080/"
        },
        "id": "FomImFPxsRT6",
        "outputId": "9a076d74-3059-4f15-c68e-38a9be0db9c7"
      },
      "execution_count": null,
      "outputs": [
        {
          "output_type": "execute_result",
          "data": {
            "text/plain": [
              "(35, 30, 30)"
            ]
          },
          "metadata": {},
          "execution_count": 220
        }
      ]
    },
    {
      "cell_type": "code",
      "source": [
        "trip2_3.query(\"성별 == 'M'\")['시도'].value_counts()[:3]"
      ],
      "metadata": {
        "colab": {
          "base_uri": "https://localhost:8080/"
        },
        "id": "r3Cw_6CMlJ7c",
        "outputId": "ccf5259c-de2f-47d2-9c7e-cb040ffa75cf"
      },
      "execution_count": null,
      "outputs": [
        {
          "output_type": "execute_result",
          "data": {
            "text/plain": [
              "서울    2\n",
              "울산    1\n",
              "경기    1\n",
              "Name: 시도, dtype: int64"
            ]
          },
          "metadata": {},
          "execution_count": 221
        }
      ]
    },
    {
      "cell_type": "code",
      "source": [
        "len(trip2_3.query(\"성별 == 'M'\")),\\\n",
        "len(trip2_3.query(\"성별 == 'M' and 시도 == '서울'\")),\\\n",
        "len(trip2_3.query(\"성별 == 'M' and 시도 == '서울' and 자동차.notnull()\"))"
      ],
      "metadata": {
        "colab": {
          "base_uri": "https://localhost:8080/"
        },
        "id": "WueLNaPKhPVE",
        "outputId": "ee133b2e-f7c9-4a7e-b832-bb4208409baa"
      },
      "execution_count": null,
      "outputs": [
        {
          "output_type": "execute_result",
          "data": {
            "text/plain": [
              "(4, 2, 0)"
            ]
          },
          "metadata": {},
          "execution_count": 222
        }
      ]
    },
    {
      "cell_type": "code",
      "source": [
        "trip_5.query(\"성별 == 'F'\")['시도'].value_counts()[:3]"
      ],
      "metadata": {
        "colab": {
          "base_uri": "https://localhost:8080/"
        },
        "id": "1FzLSwbtwDW5",
        "outputId": "ac0c4a1f-fcfb-4c30-b8fa-3470a866d9d4"
      },
      "execution_count": null,
      "outputs": [
        {
          "output_type": "execute_result",
          "data": {
            "text/plain": [
              "부산    33\n",
              "서울     8\n",
              "경기     6\n",
              "Name: 시도, dtype: int64"
            ]
          },
          "metadata": {},
          "execution_count": 223
        }
      ]
    },
    {
      "cell_type": "code",
      "source": [
        "len(trip_5.query(\"성별 == 'F'\")),\\\n",
        "len(trip_5.query(\"성별 == 'F' and 시도 == '부산'\")),\\\n",
        "len(trip_5.query(\"성별 == 'F' and 시도 == '부산' and 자동차.notnull()\"))"
      ],
      "metadata": {
        "colab": {
          "base_uri": "https://localhost:8080/"
        },
        "id": "BFSQdAJowHbg",
        "outputId": "db168533-ffa6-46a9-dc55-627f44439f7c"
      },
      "execution_count": null,
      "outputs": [
        {
          "output_type": "execute_result",
          "data": {
            "text/plain": [
              "(61, 33, 33)"
            ]
          },
          "metadata": {},
          "execution_count": 225
        }
      ]
    },
    {
      "cell_type": "code",
      "source": [
        "trip_5.query(\"성별 == 'M'\")['시도'].value_counts()[:3]"
      ],
      "metadata": {
        "colab": {
          "base_uri": "https://localhost:8080/"
        },
        "id": "3rSDkl4cwDT5",
        "outputId": "b1d8ade2-fdeb-4054-9ff9-de394b1bba2b"
      },
      "execution_count": null,
      "outputs": [
        {
          "output_type": "execute_result",
          "data": {
            "text/plain": [
              "서울    8\n",
              "경기    3\n",
              "부산    2\n",
              "Name: 시도, dtype: int64"
            ]
          },
          "metadata": {},
          "execution_count": 224
        }
      ]
    },
    {
      "cell_type": "code",
      "source": [
        "len(trip_5.query(\"성별 == 'M'\")),\\\n",
        "len(trip_5.query(\"성별 == 'M' and 시도 == '서울'\")),\\\n",
        "len(trip_5.query(\"성별 == 'M' and 시도 == '서울' and 자동차.notnull()\"))"
      ],
      "metadata": {
        "colab": {
          "base_uri": "https://localhost:8080/"
        },
        "id": "E-ohKrd-wOI8",
        "outputId": "a27f3843-6766-4f1a-bd81-3e8fa139354d"
      },
      "execution_count": null,
      "outputs": [
        {
          "output_type": "execute_result",
          "data": {
            "text/plain": [
              "(16, 8, 2)"
            ]
          },
          "metadata": {},
          "execution_count": 226
        }
      ]
    },
    {
      "cell_type": "markdown",
      "source": [
        "### 안면도"
      ],
      "metadata": {
        "id": "t3muqDmOsnrO"
      }
    },
    {
      "cell_type": "code",
      "source": [
        "trip_4.query(\"성별 == 'F'\")['시도'].value_counts()[:3],\\\n",
        "trip3_4.query(\"성별 == 'F'\")['시도'].value_counts()[:3]"
      ],
      "metadata": {
        "colab": {
          "base_uri": "https://localhost:8080/"
        },
        "id": "hyJbmnJ4u4cf",
        "outputId": "37a370e5-c9fe-4a22-fdd9-e57dc5b26667"
      },
      "execution_count": null,
      "outputs": [
        {
          "output_type": "execute_result",
          "data": {
            "text/plain": [
              "(서울    32\n",
              " 전북    10\n",
              " 경기     7\n",
              " Name: 시도, dtype: int64,\n",
              " 서울    27\n",
              " 전북    10\n",
              " 경기     6\n",
              " Name: 시도, dtype: int64)"
            ]
          },
          "metadata": {},
          "execution_count": 213
        }
      ]
    },
    {
      "cell_type": "code",
      "source": [
        "len(trip_4.query(\"성별 == 'F'\")),\\\n",
        "len(trip_4.query(\"성별 == 'F' and 시도 == '서울'\")),\\\n",
        "len(trip_4.query(\"성별 == 'F' and 시도 == '서울' and 자동차.notnull()\")),\\\n",
        "len(trip3_4.query(\"성별 == 'F'\")),\\\n",
        "len(trip3_4.query(\"성별 == 'F' and 시도 == '서울'\")),\\\n",
        "len(trip3_4.query(\"성별 == 'F' and 시도 == '서울' and 자동차.notnull()\"))"
      ],
      "metadata": {
        "colab": {
          "base_uri": "https://localhost:8080/"
        },
        "id": "RTp6h6vSu3XD",
        "outputId": "7dc333d0-5015-473c-e354-525c197efc8c"
      },
      "execution_count": null,
      "outputs": [
        {
          "output_type": "execute_result",
          "data": {
            "text/plain": [
              "(58, 32, 3, 50, 27, 3)"
            ]
          },
          "metadata": {},
          "execution_count": 214
        }
      ]
    },
    {
      "cell_type": "code",
      "source": [
        "trip_4.query(\"성별 == 'M'\")['시도'].value_counts()[:3],\\\n",
        "trip3_4.query(\"성별 == 'M'\")['시도'].value_counts()[:3]"
      ],
      "metadata": {
        "colab": {
          "base_uri": "https://localhost:8080/"
        },
        "id": "aMGlh6_0spHa",
        "outputId": "70f766ea-3785-4734-e493-c91ada25e3bd"
      },
      "execution_count": null,
      "outputs": [
        {
          "output_type": "execute_result",
          "data": {
            "text/plain": [
              "(서울    11\n",
              " 경기     6\n",
              " 대전     3\n",
              " Name: 시도, dtype: int64,\n",
              " 서울    10\n",
              " 경기     5\n",
              " 대전     3\n",
              " Name: 시도, dtype: int64)"
            ]
          },
          "metadata": {},
          "execution_count": 212
        }
      ]
    },
    {
      "cell_type": "code",
      "source": [
        "len(trip_4.query(\"성별 == 'M'\")),\\\n",
        "len(trip_4.query(\"성별 == 'M' and 시도 == '서울'\")),\\\n",
        "len(trip_4.query(\"성별 == 'M' and 시도 == '서울' and 자동차.notnull()\")),\\\n",
        "len(trip3_4.query(\"성별 == 'M'\")),\\\n",
        "len(trip3_4.query(\"성별 == 'M' and 시도 == '서울'\")),\\\n",
        "len(trip3_4.query(\"성별 == 'M' and 시도 == '서울' and 자동차.notnull()\"))"
      ],
      "metadata": {
        "colab": {
          "base_uri": "https://localhost:8080/"
        },
        "id": "YkdwduKKspEZ",
        "outputId": "d76352a7-7008-49f8-a97a-514b1397d282"
      },
      "execution_count": null,
      "outputs": [
        {
          "output_type": "execute_result",
          "data": {
            "text/plain": [
              "(26, 11, 8, 20, 10, 8)"
            ]
          },
          "metadata": {},
          "execution_count": 215
        }
      ]
    },
    {
      "cell_type": "code",
      "source": [],
      "metadata": {
        "id": "d5x57iFNso98"
      },
      "execution_count": null,
      "outputs": []
    },
    {
      "cell_type": "code",
      "source": [],
      "metadata": {
        "id": "hZrd9LDJsnn9"
      },
      "execution_count": null,
      "outputs": []
    },
    {
      "cell_type": "markdown",
      "source": [
        "---\n",
        "---\n",
        "# df3 : 둘레길 선호 관광 장소"
      ],
      "metadata": {
        "id": "R7QKTqAlllv0"
      }
    },
    {
      "cell_type": "code",
      "source": [
        "df3.head()"
      ],
      "metadata": {
        "colab": {
          "base_uri": "https://localhost:8080/",
          "height": 354
        },
        "id": "KRdryWEOll0f",
        "outputId": "a018c1b1-1646-4379-ad80-35b91fd1b53d"
      },
      "execution_count": null,
      "outputs": [
        {
          "output_type": "execute_result",
          "data": {
            "text/plain": [
              "   선호관광                             사이트제목 성별  연령                     직업  \\\n",
              "0  구곡폭포                         구곡 폭포 나들이  F   4                    NaN   \n",
              "1   불갑사  불갑사 상사화 개화초기 풍경불갑사상사화축제 날에는 만개할듯  M   5                    NaN   \n",
              "2   신화랑          청도 가볼만한곳 신화랑풍류마을 생각보다 알차  M   3                    NaN   \n",
              "3   태조산               천안 태조산421m  흑성산519m  F   5                    NaN   \n",
              "4   복전암                        토요산행   보문산  F   3  주부 (전업주부, 파트타임 근무 주부)   \n",
              "\n",
              "          소득      결혼          자녀         주거  시도        구     동  \\\n",
              "0        NaN                            NaN  서울      도봉구   쌍문동   \n",
              "1        NaN                            NaN  경북      영천시   야사동   \n",
              "2        NaN                            NaN  부산     부산진구  전포1동   \n",
              "3        NaN                            NaN  경기  성남시 분당구  수내3동   \n",
              "4  900~999만원   예          자녀 있음   아파트/ 주상복합  충남      홍성군   홍성읍   \n",
              "\n",
              "                                자동차  \n",
              "0                               NaN  \n",
              "1                               NaN  \n",
              "2                               NaN  \n",
              "3                               NaN  \n",
              "4  준대형차 (그랜저, K7, 알페온, 캠리급, 파사트급 등)  "
            ],
            "text/html": [
              "\n",
              "  <div id=\"df-5ce05e6b-e920-47b8-9a5b-2a129d4286c6\">\n",
              "    <div class=\"colab-df-container\">\n",
              "      <div>\n",
              "<style scoped>\n",
              "    .dataframe tbody tr th:only-of-type {\n",
              "        vertical-align: middle;\n",
              "    }\n",
              "\n",
              "    .dataframe tbody tr th {\n",
              "        vertical-align: top;\n",
              "    }\n",
              "\n",
              "    .dataframe thead th {\n",
              "        text-align: right;\n",
              "    }\n",
              "</style>\n",
              "<table border=\"1\" class=\"dataframe\">\n",
              "  <thead>\n",
              "    <tr style=\"text-align: right;\">\n",
              "      <th></th>\n",
              "      <th>선호관광</th>\n",
              "      <th>사이트제목</th>\n",
              "      <th>성별</th>\n",
              "      <th>연령</th>\n",
              "      <th>직업</th>\n",
              "      <th>소득</th>\n",
              "      <th>결혼</th>\n",
              "      <th>자녀</th>\n",
              "      <th>주거</th>\n",
              "      <th>시도</th>\n",
              "      <th>구</th>\n",
              "      <th>동</th>\n",
              "      <th>자동차</th>\n",
              "    </tr>\n",
              "  </thead>\n",
              "  <tbody>\n",
              "    <tr>\n",
              "      <th>0</th>\n",
              "      <td>구곡폭포</td>\n",
              "      <td>구곡 폭포 나들이</td>\n",
              "      <td>F</td>\n",
              "      <td>4</td>\n",
              "      <td>NaN</td>\n",
              "      <td>NaN</td>\n",
              "      <td></td>\n",
              "      <td></td>\n",
              "      <td>NaN</td>\n",
              "      <td>서울</td>\n",
              "      <td>도봉구</td>\n",
              "      <td>쌍문동</td>\n",
              "      <td>NaN</td>\n",
              "    </tr>\n",
              "    <tr>\n",
              "      <th>1</th>\n",
              "      <td>불갑사</td>\n",
              "      <td>불갑사 상사화 개화초기 풍경불갑사상사화축제 날에는 만개할듯</td>\n",
              "      <td>M</td>\n",
              "      <td>5</td>\n",
              "      <td>NaN</td>\n",
              "      <td>NaN</td>\n",
              "      <td></td>\n",
              "      <td></td>\n",
              "      <td>NaN</td>\n",
              "      <td>경북</td>\n",
              "      <td>영천시</td>\n",
              "      <td>야사동</td>\n",
              "      <td>NaN</td>\n",
              "    </tr>\n",
              "    <tr>\n",
              "      <th>2</th>\n",
              "      <td>신화랑</td>\n",
              "      <td>청도 가볼만한곳 신화랑풍류마을 생각보다 알차</td>\n",
              "      <td>M</td>\n",
              "      <td>3</td>\n",
              "      <td>NaN</td>\n",
              "      <td>NaN</td>\n",
              "      <td></td>\n",
              "      <td></td>\n",
              "      <td>NaN</td>\n",
              "      <td>부산</td>\n",
              "      <td>부산진구</td>\n",
              "      <td>전포1동</td>\n",
              "      <td>NaN</td>\n",
              "    </tr>\n",
              "    <tr>\n",
              "      <th>3</th>\n",
              "      <td>태조산</td>\n",
              "      <td>천안 태조산421m  흑성산519m</td>\n",
              "      <td>F</td>\n",
              "      <td>5</td>\n",
              "      <td>NaN</td>\n",
              "      <td>NaN</td>\n",
              "      <td></td>\n",
              "      <td></td>\n",
              "      <td>NaN</td>\n",
              "      <td>경기</td>\n",
              "      <td>성남시 분당구</td>\n",
              "      <td>수내3동</td>\n",
              "      <td>NaN</td>\n",
              "    </tr>\n",
              "    <tr>\n",
              "      <th>4</th>\n",
              "      <td>복전암</td>\n",
              "      <td>토요산행   보문산</td>\n",
              "      <td>F</td>\n",
              "      <td>3</td>\n",
              "      <td>주부 (전업주부, 파트타임 근무 주부)</td>\n",
              "      <td>900~999만원</td>\n",
              "      <td>예</td>\n",
              "      <td>자녀 있음</td>\n",
              "      <td>아파트/ 주상복합</td>\n",
              "      <td>충남</td>\n",
              "      <td>홍성군</td>\n",
              "      <td>홍성읍</td>\n",
              "      <td>준대형차 (그랜저, K7, 알페온, 캠리급, 파사트급 등)</td>\n",
              "    </tr>\n",
              "  </tbody>\n",
              "</table>\n",
              "</div>\n",
              "      <button class=\"colab-df-convert\" onclick=\"convertToInteractive('df-5ce05e6b-e920-47b8-9a5b-2a129d4286c6')\"\n",
              "              title=\"Convert this dataframe to an interactive table.\"\n",
              "              style=\"display:none;\">\n",
              "        \n",
              "  <svg xmlns=\"http://www.w3.org/2000/svg\" height=\"24px\"viewBox=\"0 0 24 24\"\n",
              "       width=\"24px\">\n",
              "    <path d=\"M0 0h24v24H0V0z\" fill=\"none\"/>\n",
              "    <path d=\"M18.56 5.44l.94 2.06.94-2.06 2.06-.94-2.06-.94-.94-2.06-.94 2.06-2.06.94zm-11 1L8.5 8.5l.94-2.06 2.06-.94-2.06-.94L8.5 2.5l-.94 2.06-2.06.94zm10 10l.94 2.06.94-2.06 2.06-.94-2.06-.94-.94-2.06-.94 2.06-2.06.94z\"/><path d=\"M17.41 7.96l-1.37-1.37c-.4-.4-.92-.59-1.43-.59-.52 0-1.04.2-1.43.59L10.3 9.45l-7.72 7.72c-.78.78-.78 2.05 0 2.83L4 21.41c.39.39.9.59 1.41.59.51 0 1.02-.2 1.41-.59l7.78-7.78 2.81-2.81c.8-.78.8-2.07 0-2.86zM5.41 20L4 18.59l7.72-7.72 1.47 1.35L5.41 20z\"/>\n",
              "  </svg>\n",
              "      </button>\n",
              "      \n",
              "  <style>\n",
              "    .colab-df-container {\n",
              "      display:flex;\n",
              "      flex-wrap:wrap;\n",
              "      gap: 12px;\n",
              "    }\n",
              "\n",
              "    .colab-df-convert {\n",
              "      background-color: #E8F0FE;\n",
              "      border: none;\n",
              "      border-radius: 50%;\n",
              "      cursor: pointer;\n",
              "      display: none;\n",
              "      fill: #1967D2;\n",
              "      height: 32px;\n",
              "      padding: 0 0 0 0;\n",
              "      width: 32px;\n",
              "    }\n",
              "\n",
              "    .colab-df-convert:hover {\n",
              "      background-color: #E2EBFA;\n",
              "      box-shadow: 0px 1px 2px rgba(60, 64, 67, 0.3), 0px 1px 3px 1px rgba(60, 64, 67, 0.15);\n",
              "      fill: #174EA6;\n",
              "    }\n",
              "\n",
              "    [theme=dark] .colab-df-convert {\n",
              "      background-color: #3B4455;\n",
              "      fill: #D2E3FC;\n",
              "    }\n",
              "\n",
              "    [theme=dark] .colab-df-convert:hover {\n",
              "      background-color: #434B5C;\n",
              "      box-shadow: 0px 1px 3px 1px rgba(0, 0, 0, 0.15);\n",
              "      filter: drop-shadow(0px 1px 2px rgba(0, 0, 0, 0.3));\n",
              "      fill: #FFFFFF;\n",
              "    }\n",
              "  </style>\n",
              "\n",
              "      <script>\n",
              "        const buttonEl =\n",
              "          document.querySelector('#df-5ce05e6b-e920-47b8-9a5b-2a129d4286c6 button.colab-df-convert');\n",
              "        buttonEl.style.display =\n",
              "          google.colab.kernel.accessAllowed ? 'block' : 'none';\n",
              "\n",
              "        async function convertToInteractive(key) {\n",
              "          const element = document.querySelector('#df-5ce05e6b-e920-47b8-9a5b-2a129d4286c6');\n",
              "          const dataTable =\n",
              "            await google.colab.kernel.invokeFunction('convertToInteractive',\n",
              "                                                     [key], {});\n",
              "          if (!dataTable) return;\n",
              "\n",
              "          const docLinkHtml = 'Like what you see? Visit the ' +\n",
              "            '<a target=\"_blank\" href=https://colab.research.google.com/notebooks/data_table.ipynb>data table notebook</a>'\n",
              "            + ' to learn more about interactive tables.';\n",
              "          element.innerHTML = '';\n",
              "          dataTable['output_type'] = 'display_data';\n",
              "          await google.colab.output.renderOutput(dataTable, element);\n",
              "          const docLink = document.createElement('div');\n",
              "          docLink.innerHTML = docLinkHtml;\n",
              "          element.appendChild(docLink);\n",
              "        }\n",
              "      </script>\n",
              "    </div>\n",
              "  </div>\n",
              "  "
            ]
          },
          "metadata": {},
          "execution_count": 227
        }
      ]
    },
    {
      "cell_type": "code",
      "source": [
        "# Total : 9,468 # df2랑 같네요\n",
        "df3_23 = df3[df3['연령'].isin([2, 3])]     # 4,086, 43.2%\n",
        "df3_2 = df3[(df3['연령'] == 2)]            # 1,204, 12.7%\n",
        "df3_3 = df3[(df3['연령'] == 3)]            # 2,882, 30.4%\n",
        "df3_45 = df3[df3['연령'].isin([4, 5])]     # 5,382, 56.8%"
      ],
      "metadata": {
        "id": "1UeW61JLll2w"
      },
      "execution_count": null,
      "outputs": []
    },
    {
      "cell_type": "code",
      "source": [
        "df3_23['자동차'].value_counts().sum(), round(df3_23['자동차'].value_counts().sum() / len(df3_23) * 100, 1)"
      ],
      "metadata": {
        "colab": {
          "base_uri": "https://localhost:8080/"
        },
        "id": "9thmJJd1ll4m",
        "outputId": "d68251bb-617a-48e3-a673-c47db2b46278"
      },
      "execution_count": null,
      "outputs": [
        {
          "output_type": "execute_result",
          "data": {
            "text/plain": [
              "(1275, 31.2)"
            ]
          },
          "metadata": {},
          "execution_count": 231
        }
      ]
    },
    {
      "cell_type": "code",
      "source": [
        "df3_23['직업'].value_counts() # 무직, 학생, 주부"
      ],
      "metadata": {
        "colab": {
          "base_uri": "https://localhost:8080/"
        },
        "id": "dzf2gEtMll68",
        "outputId": "1ad3d14a-b098-4c60-ad80-890aa075a2fd"
      },
      "execution_count": null,
      "outputs": [
        {
          "output_type": "execute_result",
          "data": {
            "text/plain": [
              "사무직 (일반사무직, 공무원, 직업군인)             873\n",
              "주부 (전업주부, 파트타임 근무 주부)              428\n",
              "무직                                 292\n",
              "전문직 (의사, 판검사, 예술가, 종교인)            240\n",
              "학생 (초중고학생, 대학생, 대학원생)              223\n",
              "교직 (교사, 유치원교사, 학원강사)               188\n",
              "자영업 (도소매업, 숙박업, 미용업)               128\n",
              "서비스직 (요식업, 숙박업, 미용실종업원)            108\n",
              "생산/노무직 (생산감독, 경비원, 공장근로자)           74\n",
              "판매직 (상점점원, 보험설계사, 노점상)              74\n",
              "기타                                  61\n",
              "기능직 (자동차정비, 운전기사, 안경사, 택시기사)        42\n",
              "관리직 (사장, 간부, 고위공무원)                 19\n",
              "농/축/광/수산업 (축산, 낙농업, 수산, 임업, 광업)      6\n",
              "Name: 직업, dtype: int64"
            ]
          },
          "metadata": {},
          "execution_count": 232
        }
      ]
    },
    {
      "cell_type": "code",
      "source": [
        "df3_23['성별'].value_counts() # 16.5% 차이"
      ],
      "metadata": {
        "colab": {
          "base_uri": "https://localhost:8080/"
        },
        "id": "bRfjcWYymNSr",
        "outputId": "bdb29952-f6c2-4bf3-e82a-5bceae0324ae"
      },
      "execution_count": null,
      "outputs": [
        {
          "output_type": "execute_result",
          "data": {
            "text/plain": [
              "F    2381\n",
              "M    1705\n",
              "Name: 성별, dtype: int64"
            ]
          },
          "metadata": {},
          "execution_count": 233
        }
      ]
    },
    {
      "cell_type": "code",
      "source": [
        "df3_23['선호관광'].value_counts()[:5]"
      ],
      "metadata": {
        "colab": {
          "base_uri": "https://localhost:8080/"
        },
        "id": "aj9kQNCvmdl7",
        "outputId": "2e7420a5-53f3-40d4-8845-1d7238405d89"
      },
      "execution_count": null,
      "outputs": [
        {
          "output_type": "execute_result",
          "data": {
            "text/plain": [
              "울릉도    268\n",
              "해운대    213\n",
              "남원     112\n",
              "안면도     84\n",
              "죽도      77\n",
              "Name: 선호관광, dtype: int64"
            ]
          },
          "metadata": {},
          "execution_count": 235
        }
      ]
    },
    {
      "cell_type": "markdown",
      "source": [
        "---\n",
        "---\n",
        "# df4 : 둘레길 관심인구 관심사/관심분야 (포털 검색 분야) 정보"
      ],
      "metadata": {
        "id": "CfJesB_Tm377"
      }
    },
    {
      "cell_type": "code",
      "source": [
        "df4.head()"
      ],
      "metadata": {
        "colab": {
          "base_uri": "https://localhost:8080/",
          "height": 206
        },
        "id": "Y0actFgAnlcW",
        "outputId": "fe062d48-0b27-4e33-98a4-81d20ca8aad0"
      },
      "execution_count": null,
      "outputs": [
        {
          "output_type": "execute_result",
          "data": {
            "text/plain": [
              "   주요관심                     사이트제목 성별  연령                            직업  \\\n",
              "0    사회   `내기 골프 논란`... :: 네이버 뉴스  M   4                           NaN   \n",
              "1    사회            해외야구 : 네이버 스포츠  F   5                           NaN   \n",
              "2  TV연예  [단독] “VIP가 ... :: 네이버 뉴스  M   5  기능직 (자동차정비, 운전기사, 안경사, 택시기사)   \n",
              "3    경제                    네이버 뉴스  M   3        사무직 (일반사무직, 공무원, 직업군인)   \n",
              "4    사회    [단독] 음주운전... :: 네이버 뉴스  M   3                           NaN   \n",
              "\n",
              "          소득      결혼          자녀             주거  시도     구      동  자동차  \n",
              "0        NaN                                NaN  서울  영등포구  문래동3가  NaN  \n",
              "1        NaN                                NaN  경기  의정부시   신곡1동  NaN  \n",
              "2  300~399만원     아니오              연립주택/ 다세대/ 빌라  서울   종로구   창신2동  NaN  \n",
              "3  300~399만원     아니오                  아파트/ 주상복합  서울   구로구   고척2동  NaN  \n",
              "4        NaN                                NaN  경남   김해시    진영읍  NaN  "
            ],
            "text/html": [
              "\n",
              "  <div id=\"df-d1bcbae0-086f-4f03-857c-ecc1af236d4a\">\n",
              "    <div class=\"colab-df-container\">\n",
              "      <div>\n",
              "<style scoped>\n",
              "    .dataframe tbody tr th:only-of-type {\n",
              "        vertical-align: middle;\n",
              "    }\n",
              "\n",
              "    .dataframe tbody tr th {\n",
              "        vertical-align: top;\n",
              "    }\n",
              "\n",
              "    .dataframe thead th {\n",
              "        text-align: right;\n",
              "    }\n",
              "</style>\n",
              "<table border=\"1\" class=\"dataframe\">\n",
              "  <thead>\n",
              "    <tr style=\"text-align: right;\">\n",
              "      <th></th>\n",
              "      <th>주요관심</th>\n",
              "      <th>사이트제목</th>\n",
              "      <th>성별</th>\n",
              "      <th>연령</th>\n",
              "      <th>직업</th>\n",
              "      <th>소득</th>\n",
              "      <th>결혼</th>\n",
              "      <th>자녀</th>\n",
              "      <th>주거</th>\n",
              "      <th>시도</th>\n",
              "      <th>구</th>\n",
              "      <th>동</th>\n",
              "      <th>자동차</th>\n",
              "    </tr>\n",
              "  </thead>\n",
              "  <tbody>\n",
              "    <tr>\n",
              "      <th>0</th>\n",
              "      <td>사회</td>\n",
              "      <td>`내기 골프 논란`... :: 네이버 뉴스</td>\n",
              "      <td>M</td>\n",
              "      <td>4</td>\n",
              "      <td>NaN</td>\n",
              "      <td>NaN</td>\n",
              "      <td></td>\n",
              "      <td></td>\n",
              "      <td>NaN</td>\n",
              "      <td>서울</td>\n",
              "      <td>영등포구</td>\n",
              "      <td>문래동3가</td>\n",
              "      <td>NaN</td>\n",
              "    </tr>\n",
              "    <tr>\n",
              "      <th>1</th>\n",
              "      <td>사회</td>\n",
              "      <td>해외야구 : 네이버 스포츠</td>\n",
              "      <td>F</td>\n",
              "      <td>5</td>\n",
              "      <td>NaN</td>\n",
              "      <td>NaN</td>\n",
              "      <td></td>\n",
              "      <td></td>\n",
              "      <td>NaN</td>\n",
              "      <td>경기</td>\n",
              "      <td>의정부시</td>\n",
              "      <td>신곡1동</td>\n",
              "      <td>NaN</td>\n",
              "    </tr>\n",
              "    <tr>\n",
              "      <th>2</th>\n",
              "      <td>TV연예</td>\n",
              "      <td>[단독] “VIP가 ... :: 네이버 뉴스</td>\n",
              "      <td>M</td>\n",
              "      <td>5</td>\n",
              "      <td>기능직 (자동차정비, 운전기사, 안경사, 택시기사)</td>\n",
              "      <td>300~399만원</td>\n",
              "      <td>아니오</td>\n",
              "      <td></td>\n",
              "      <td>연립주택/ 다세대/ 빌라</td>\n",
              "      <td>서울</td>\n",
              "      <td>종로구</td>\n",
              "      <td>창신2동</td>\n",
              "      <td>NaN</td>\n",
              "    </tr>\n",
              "    <tr>\n",
              "      <th>3</th>\n",
              "      <td>경제</td>\n",
              "      <td>네이버 뉴스</td>\n",
              "      <td>M</td>\n",
              "      <td>3</td>\n",
              "      <td>사무직 (일반사무직, 공무원, 직업군인)</td>\n",
              "      <td>300~399만원</td>\n",
              "      <td>아니오</td>\n",
              "      <td></td>\n",
              "      <td>아파트/ 주상복합</td>\n",
              "      <td>서울</td>\n",
              "      <td>구로구</td>\n",
              "      <td>고척2동</td>\n",
              "      <td>NaN</td>\n",
              "    </tr>\n",
              "    <tr>\n",
              "      <th>4</th>\n",
              "      <td>사회</td>\n",
              "      <td>[단독] 음주운전... :: 네이버 뉴스</td>\n",
              "      <td>M</td>\n",
              "      <td>3</td>\n",
              "      <td>NaN</td>\n",
              "      <td>NaN</td>\n",
              "      <td></td>\n",
              "      <td></td>\n",
              "      <td>NaN</td>\n",
              "      <td>경남</td>\n",
              "      <td>김해시</td>\n",
              "      <td>진영읍</td>\n",
              "      <td>NaN</td>\n",
              "    </tr>\n",
              "  </tbody>\n",
              "</table>\n",
              "</div>\n",
              "      <button class=\"colab-df-convert\" onclick=\"convertToInteractive('df-d1bcbae0-086f-4f03-857c-ecc1af236d4a')\"\n",
              "              title=\"Convert this dataframe to an interactive table.\"\n",
              "              style=\"display:none;\">\n",
              "        \n",
              "  <svg xmlns=\"http://www.w3.org/2000/svg\" height=\"24px\"viewBox=\"0 0 24 24\"\n",
              "       width=\"24px\">\n",
              "    <path d=\"M0 0h24v24H0V0z\" fill=\"none\"/>\n",
              "    <path d=\"M18.56 5.44l.94 2.06.94-2.06 2.06-.94-2.06-.94-.94-2.06-.94 2.06-2.06.94zm-11 1L8.5 8.5l.94-2.06 2.06-.94-2.06-.94L8.5 2.5l-.94 2.06-2.06.94zm10 10l.94 2.06.94-2.06 2.06-.94-2.06-.94-.94-2.06-.94 2.06-2.06.94z\"/><path d=\"M17.41 7.96l-1.37-1.37c-.4-.4-.92-.59-1.43-.59-.52 0-1.04.2-1.43.59L10.3 9.45l-7.72 7.72c-.78.78-.78 2.05 0 2.83L4 21.41c.39.39.9.59 1.41.59.51 0 1.02-.2 1.41-.59l7.78-7.78 2.81-2.81c.8-.78.8-2.07 0-2.86zM5.41 20L4 18.59l7.72-7.72 1.47 1.35L5.41 20z\"/>\n",
              "  </svg>\n",
              "      </button>\n",
              "      \n",
              "  <style>\n",
              "    .colab-df-container {\n",
              "      display:flex;\n",
              "      flex-wrap:wrap;\n",
              "      gap: 12px;\n",
              "    }\n",
              "\n",
              "    .colab-df-convert {\n",
              "      background-color: #E8F0FE;\n",
              "      border: none;\n",
              "      border-radius: 50%;\n",
              "      cursor: pointer;\n",
              "      display: none;\n",
              "      fill: #1967D2;\n",
              "      height: 32px;\n",
              "      padding: 0 0 0 0;\n",
              "      width: 32px;\n",
              "    }\n",
              "\n",
              "    .colab-df-convert:hover {\n",
              "      background-color: #E2EBFA;\n",
              "      box-shadow: 0px 1px 2px rgba(60, 64, 67, 0.3), 0px 1px 3px 1px rgba(60, 64, 67, 0.15);\n",
              "      fill: #174EA6;\n",
              "    }\n",
              "\n",
              "    [theme=dark] .colab-df-convert {\n",
              "      background-color: #3B4455;\n",
              "      fill: #D2E3FC;\n",
              "    }\n",
              "\n",
              "    [theme=dark] .colab-df-convert:hover {\n",
              "      background-color: #434B5C;\n",
              "      box-shadow: 0px 1px 3px 1px rgba(0, 0, 0, 0.15);\n",
              "      filter: drop-shadow(0px 1px 2px rgba(0, 0, 0, 0.3));\n",
              "      fill: #FFFFFF;\n",
              "    }\n",
              "  </style>\n",
              "\n",
              "      <script>\n",
              "        const buttonEl =\n",
              "          document.querySelector('#df-d1bcbae0-086f-4f03-857c-ecc1af236d4a button.colab-df-convert');\n",
              "        buttonEl.style.display =\n",
              "          google.colab.kernel.accessAllowed ? 'block' : 'none';\n",
              "\n",
              "        async function convertToInteractive(key) {\n",
              "          const element = document.querySelector('#df-d1bcbae0-086f-4f03-857c-ecc1af236d4a');\n",
              "          const dataTable =\n",
              "            await google.colab.kernel.invokeFunction('convertToInteractive',\n",
              "                                                     [key], {});\n",
              "          if (!dataTable) return;\n",
              "\n",
              "          const docLinkHtml = 'Like what you see? Visit the ' +\n",
              "            '<a target=\"_blank\" href=https://colab.research.google.com/notebooks/data_table.ipynb>data table notebook</a>'\n",
              "            + ' to learn more about interactive tables.';\n",
              "          element.innerHTML = '';\n",
              "          dataTable['output_type'] = 'display_data';\n",
              "          await google.colab.output.renderOutput(dataTable, element);\n",
              "          const docLink = document.createElement('div');\n",
              "          docLink.innerHTML = docLinkHtml;\n",
              "          element.appendChild(docLink);\n",
              "        }\n",
              "      </script>\n",
              "    </div>\n",
              "  </div>\n",
              "  "
            ]
          },
          "metadata": {},
          "execution_count": 240
        }
      ]
    },
    {
      "cell_type": "code",
      "source": [
        "df4['연령'].value_counts().sum() - 14883 - 50129"
      ],
      "metadata": {
        "colab": {
          "base_uri": "https://localhost:8080/"
        },
        "id": "fzFwac2xnucr",
        "outputId": "9b7f0ac8-bb5f-41bb-af75-3a583d9e93be"
      },
      "execution_count": null,
      "outputs": [
        {
          "output_type": "execute_result",
          "data": {
            "text/plain": [
              "91504"
            ]
          },
          "metadata": {},
          "execution_count": 244
        }
      ]
    },
    {
      "cell_type": "code",
      "source": [
        "# Total : 156,516\n",
        "df4_23 = df4[df4['연령'].isin([2, 3])]     # 65,012, 41.5%\n",
        "df4_2 = df4[(df4['연령'] == 2)]            # 14,883, 9.5%\n",
        "df4_3 = df4[(df4['연령'] == 3)]            # 50,129, 32.0%\n",
        "df4_456 = df4[df4['연령'].isin([4, 5, 6])] # 91,504, 58.5%"
      ],
      "metadata": {
        "id": "8XxdVozfnmjd"
      },
      "execution_count": null,
      "outputs": []
    },
    {
      "cell_type": "code",
      "source": [],
      "metadata": {
        "id": "WmDPAhg5y-Gk"
      },
      "execution_count": null,
      "outputs": []
    },
    {
      "cell_type": "code",
      "source": [
        "inter_1 = df4_23.query(\"주요관심 == 'TV연예'\")\n",
        "inter_2 = df4_23.query(\"주요관심 == '사회'\")\n",
        "inter_3 = df4_23.query(\"주요관심 == '스포츠'\")\n",
        "inter_4 = df4_23.query(\"주요관심 == '경제'\")\n",
        "inter_5 = df4_23.query(\"주요관심 == '정치'\")"
      ],
      "metadata": {
        "id": "ja0a226wy-Dd"
      },
      "execution_count": null,
      "outputs": []
    },
    {
      "cell_type": "code",
      "source": [
        "inter2_1 = df4_2.query(\"주요관심 == '사회'\")\n",
        "inter2_2 = df4_2.query(\"주요관심 == '정치'\")\n",
        "inter2_3 = df4_2.query(\"주요관심 == 'TV연예'\")\n",
        "inter2_4 = df4_2.query(\"주요관심 == '스포츠'\")\n",
        "inter2_5 = df4_2.query(\"주요관심 == '정치'\")"
      ],
      "metadata": {
        "id": "xiCoFZ-xzYuf"
      },
      "execution_count": null,
      "outputs": []
    },
    {
      "cell_type": "code",
      "source": [
        "inter3_1 = df4_3.query(\"주요관심 == 'TV연예'\")\n",
        "inter3_2 = df4_3.query(\"주요관심 == '사회'\")\n",
        "inter3_3 = df4_3.query(\"주요관심 == '스포츠'\")\n",
        "inter3_4 = df4_3.query(\"주요관심 == '경제'\")\n",
        "inter3_5 = df4_3.query(\"주요관심 == '정치'\")"
      ],
      "metadata": {
        "id": "KMOVK01wzcuL"
      },
      "execution_count": null,
      "outputs": []
    },
    {
      "cell_type": "markdown",
      "source": [
        "### TV연애"
      ],
      "metadata": {
        "id": "7Aj_z8h-0H8V"
      }
    },
    {
      "cell_type": "code",
      "source": [
        "inter_1.query(\"성별 == 'F'\")['시도'].value_counts()[:3],\\\n",
        "inter3_1.query(\"성별 == 'F'\")['시도'].value_counts()[:3]"
      ],
      "metadata": {
        "colab": {
          "base_uri": "https://localhost:8080/"
        },
        "id": "4UHRm8nmzwLl",
        "outputId": "450c455b-1a75-48c4-9b2e-9cee0a729bd3"
      },
      "execution_count": null,
      "outputs": [
        {
          "output_type": "execute_result",
          "data": {
            "text/plain": [
              "(서울    6789\n",
              " 경기    2911\n",
              " 경남    2526\n",
              " Name: 시도, dtype: int64,\n",
              " 서울    6500\n",
              " 경남    2470\n",
              " 경기    2390\n",
              " Name: 시도, dtype: int64)"
            ]
          },
          "metadata": {},
          "execution_count": 235
        }
      ]
    },
    {
      "cell_type": "code",
      "source": [
        "len(inter_1.query(\"성별 == 'F'\")),\\\n",
        "len(inter_1.query(\"성별 == 'F' and 시도 == '서울'\")),\\\n",
        "len(inter_1.query(\"성별 == 'F' and 시도 == '서울' and 자동차.notnull()\")),\\\n",
        "len(inter3_1.query(\"성별 == 'F'\")),\\\n",
        "len(inter3_1.query(\"성별 == 'F' and 시도 == '서울'\")),\\\n",
        "len(inter3_1.query(\"성별 == 'F' and 시도 == '서울' and 자동차.notnull()\"))"
      ],
      "metadata": {
        "colab": {
          "base_uri": "https://localhost:8080/"
        },
        "id": "wZzno_X3zwIh",
        "outputId": "2ea15a72-6d3b-4b03-e876-8fc7005f04d7"
      },
      "execution_count": null,
      "outputs": [
        {
          "output_type": "execute_result",
          "data": {
            "text/plain": [
              "(16779, 6789, 801, 15254, 6500, 799)"
            ]
          },
          "metadata": {},
          "execution_count": 237
        }
      ]
    },
    {
      "cell_type": "code",
      "source": [
        "inter_1.query(\"성별 == 'M'\")['시도'].value_counts()[:3],\\\n",
        "inter3_1.query(\"성별 == 'M'\")['시도'].value_counts()[:3]"
      ],
      "metadata": {
        "colab": {
          "base_uri": "https://localhost:8080/"
        },
        "id": "D5vpAsjW0Foe",
        "outputId": "9f7f8e4d-4efe-4f54-b6a8-b105dffdaa65"
      },
      "execution_count": null,
      "outputs": [
        {
          "output_type": "execute_result",
          "data": {
            "text/plain": [
              "(서울    979\n",
              " 경기    772\n",
              " 인천    542\n",
              " Name: 시도, dtype: int64,\n",
              " 서울    741\n",
              " 경기    541\n",
              " 인천    469\n",
              " Name: 시도, dtype: int64)"
            ]
          },
          "metadata": {},
          "execution_count": 239
        }
      ]
    },
    {
      "cell_type": "code",
      "source": [
        "len(inter_1.query(\"성별 == 'M'\")),\\\n",
        "len(inter_1.query(\"성별 == 'M' and 시도 == '서울'\")),\\\n",
        "len(inter_1.query(\"성별 == 'M' and 시도 == '서울' and 자동차.notnull()\")),\\\n",
        "len(inter3_1.query(\"성별 == 'M'\")),\\\n",
        "len(inter3_1.query(\"성별 == 'M' and 시도 == '서울'\")),\\\n",
        "len(inter3_1.query(\"성별 == 'M' and 시도 == '서울' and 자동차.notnull()\"))"
      ],
      "metadata": {
        "colab": {
          "base_uri": "https://localhost:8080/"
        },
        "id": "FFKZPuBH0trm",
        "outputId": "5b25c29c-e3e6-4e45-929f-68b320f175c5"
      },
      "execution_count": null,
      "outputs": [
        {
          "output_type": "execute_result",
          "data": {
            "text/plain": [
              "(3494, 979, 298, 2477, 741, 260)"
            ]
          },
          "metadata": {},
          "execution_count": 240
        }
      ]
    },
    {
      "cell_type": "code",
      "source": [
        "# 20대 3위\n",
        "inter2_3.query(\"성별 == 'F'\")['시도'].value_counts()[:3]"
      ],
      "metadata": {
        "colab": {
          "base_uri": "https://localhost:8080/"
        },
        "id": "WnVM78LQ0toW",
        "outputId": "84c5a1cc-8d54-4b91-de76-fe76e4c70878"
      },
      "execution_count": null,
      "outputs": [
        {
          "output_type": "execute_result",
          "data": {
            "text/plain": [
              "경기    521\n",
              "서울    289\n",
              "경북    210\n",
              "Name: 시도, dtype: int64"
            ]
          },
          "metadata": {},
          "execution_count": 258
        }
      ]
    },
    {
      "cell_type": "code",
      "source": [
        "len(inter2_3.query(\"성별 == 'F'\")),\\\n",
        "len(inter2_3.query(\"성별 == 'F' and 시도 == '경기'\")),\\\n",
        "len(inter2_3.query(\"성별 == 'F' and 시도 == '경기' and 자동차.notnull()\"))"
      ],
      "metadata": {
        "colab": {
          "base_uri": "https://localhost:8080/"
        },
        "id": "WPihrGOn2bWb",
        "outputId": "d1ad8c9a-4332-4712-e178-2940ce29aace"
      },
      "execution_count": null,
      "outputs": [
        {
          "output_type": "execute_result",
          "data": {
            "text/plain": [
              "(1525, 521, 22)"
            ]
          },
          "metadata": {},
          "execution_count": 263
        }
      ]
    },
    {
      "cell_type": "code",
      "source": [
        "inter2_3.query(\"성별 == 'M'\")['시도'].value_counts()[:3]"
      ],
      "metadata": {
        "colab": {
          "base_uri": "https://localhost:8080/"
        },
        "id": "gl9zfE1X2bTS",
        "outputId": "efca0290-9e91-4699-fa73-f0eed166b892"
      },
      "execution_count": null,
      "outputs": [
        {
          "output_type": "execute_result",
          "data": {
            "text/plain": [
              "서울    238\n",
              "경기    231\n",
              "인천     73\n",
              "Name: 시도, dtype: int64"
            ]
          },
          "metadata": {},
          "execution_count": 261
        }
      ]
    },
    {
      "cell_type": "code",
      "source": [
        "len(inter2_3.query(\"성별 == 'M'\")),\\\n",
        "len(inter2_3.query(\"성별 == 'M' and 시도 == '서울'\")),\\\n",
        "len(inter2_3.query(\"성별 == 'M' and 시도 == '서울' and 자동차.notnull()\"))"
      ],
      "metadata": {
        "colab": {
          "base_uri": "https://localhost:8080/"
        },
        "id": "KbNca9hZ2bPn",
        "outputId": "8ff07097-cda1-43fa-e3a7-5b743fd72aae"
      },
      "execution_count": null,
      "outputs": [
        {
          "output_type": "execute_result",
          "data": {
            "text/plain": [
              "(1017, 238, 38)"
            ]
          },
          "metadata": {},
          "execution_count": 264
        }
      ]
    },
    {
      "cell_type": "markdown",
      "source": [
        "### 사회"
      ],
      "metadata": {
        "id": "JH3ZeaWD0Flv"
      }
    },
    {
      "cell_type": "code",
      "source": [
        "inter2_1.query(\"성별 == 'F'\")['시도'].value_counts()[:3]"
      ],
      "metadata": {
        "colab": {
          "base_uri": "https://localhost:8080/"
        },
        "id": "UgnTi8zo0Fil",
        "outputId": "3245e8d8-0c3e-4b78-b1c1-b8d5b6a7a75f"
      },
      "execution_count": null,
      "outputs": [
        {
          "output_type": "execute_result",
          "data": {
            "text/plain": [
              "서울    1017\n",
              "경기     815\n",
              "충북     310\n",
              "Name: 시도, dtype: int64"
            ]
          },
          "metadata": {},
          "execution_count": 233
        }
      ]
    },
    {
      "cell_type": "code",
      "source": [
        "len(inter2_1.query(\"성별 == 'F'\")),\\\n",
        "len(inter2_1.query(\"성별 == 'F' and 시도 == '서울'\")),\\\n",
        "len(inter2_1.query(\"성별 == 'F' and 시도 == '서울' and 자동차.notnull()\"))"
      ],
      "metadata": {
        "colab": {
          "base_uri": "https://localhost:8080/"
        },
        "id": "helprXkE0FfD",
        "outputId": "e4d5759a-c06b-4143-84ce-c5b77691f775"
      },
      "execution_count": null,
      "outputs": [
        {
          "output_type": "execute_result",
          "data": {
            "text/plain": [
              "(3019, 1017, 68)"
            ]
          },
          "metadata": {},
          "execution_count": 238
        }
      ]
    },
    {
      "cell_type": "code",
      "source": [
        "inter2_1.query(\"성별 == 'M'\")['시도'].value_counts()[:3]"
      ],
      "metadata": {
        "colab": {
          "base_uri": "https://localhost:8080/"
        },
        "id": "Z9L4Wgad0Fbp",
        "outputId": "d7284129-c0f7-4014-9da0-f2058056f476"
      },
      "execution_count": null,
      "outputs": [
        {
          "output_type": "execute_result",
          "data": {
            "text/plain": [
              "경기    1326\n",
              "서울     740\n",
              "부산     149\n",
              "Name: 시도, dtype: int64"
            ]
          },
          "metadata": {},
          "execution_count": 241
        }
      ]
    },
    {
      "cell_type": "code",
      "source": [
        "len(inter2_1.query(\"성별 == 'M'\")),\\\n",
        "len(inter2_1.query(\"성별 == 'M' and 시도 == '경기'\")),\\\n",
        "len(inter2_1.query(\"성별 == 'M' and 시도 == '경기' and 자동차.notnull()\"))"
      ],
      "metadata": {
        "colab": {
          "base_uri": "https://localhost:8080/"
        },
        "id": "b6zOLd8I00RL",
        "outputId": "946ec04f-8503-49c8-8cf0-57d76c0d1108"
      },
      "execution_count": null,
      "outputs": [
        {
          "output_type": "execute_result",
          "data": {
            "text/plain": [
              "(3197, 1326, 63)"
            ]
          },
          "metadata": {},
          "execution_count": 242
        }
      ]
    },
    {
      "cell_type": "code",
      "source": [
        "inter_2.query(\"성별 == 'F'\")['시도'].value_counts()[:3],\\\n",
        "inter3_2.query(\"성별 == 'F'\")['시도'].value_counts()[:3]"
      ],
      "metadata": {
        "colab": {
          "base_uri": "https://localhost:8080/"
        },
        "id": "2-s-xEmV04TQ",
        "outputId": "3635149c-698f-40cf-d462-33afc486bbb7"
      },
      "execution_count": null,
      "outputs": [
        {
          "output_type": "execute_result",
          "data": {
            "text/plain": [
              "(경기    4838\n",
              " 서울    4050\n",
              " 인천     969\n",
              " Name: 시도, dtype: int64,\n",
              " 경기    4023\n",
              " 서울    3033\n",
              " 인천     807\n",
              " Name: 시도, dtype: int64)"
            ]
          },
          "metadata": {},
          "execution_count": 243
        }
      ]
    },
    {
      "cell_type": "code",
      "source": [
        "len(inter_2.query(\"성별 == 'F'\")),\\\n",
        "len(inter_2.query(\"성별 == 'F' and 시도 == '경기'\")),\\\n",
        "len(inter_2.query(\"성별 == 'F' and 시도 == '경기' and 자동차.notnull()\")),\\\n",
        "len(inter3_2.query(\"성별 == 'F'\")),\\\n",
        "len(inter3_2.query(\"성별 == 'F' and 시도 == '경기'\")),\\\n",
        "len(inter3_2.query(\"성별 == 'F' and 시도 == '경기' and 자동차.notnull()\"))"
      ],
      "metadata": {
        "colab": {
          "base_uri": "https://localhost:8080/"
        },
        "id": "ZOXAeGL_04Pm",
        "outputId": "975e8617-908d-4009-9da5-4ef19d04335a"
      },
      "execution_count": null,
      "outputs": [
        {
          "output_type": "execute_result",
          "data": {
            "text/plain": [
              "(13910, 4838, 2775, 10891, 4023, 2637)"
            ]
          },
          "metadata": {},
          "execution_count": 244
        }
      ]
    },
    {
      "cell_type": "code",
      "source": [
        "inter_2.query(\"성별 == 'M'\")['시도'].value_counts()[:3],\\\n",
        "inter3_2.query(\"성별 == 'M'\")['시도'].value_counts()[:3]"
      ],
      "metadata": {
        "colab": {
          "base_uri": "https://localhost:8080/"
        },
        "id": "TWbSpT7h1L3e",
        "outputId": "c0c8dc5a-4472-4ddb-8c88-25c155e13c29"
      },
      "execution_count": null,
      "outputs": [
        {
          "output_type": "execute_result",
          "data": {
            "text/plain": [
              "(경기    2924\n",
              " 서울    2775\n",
              " 인천     692\n",
              " Name: 시도, dtype: int64,\n",
              " 서울    2035\n",
              " 경기    1598\n",
              " 인천     564\n",
              " Name: 시도, dtype: int64)"
            ]
          },
          "metadata": {},
          "execution_count": 245
        }
      ]
    },
    {
      "cell_type": "code",
      "source": [
        "len(inter_2.query(\"성별 == 'M'\")),\\\n",
        "len(inter_2.query(\"성별 == 'M' and 시도 == '경기'\")),\\\n",
        "len(inter_2.query(\"성별 == 'M' and 시도 == '경기' and 자동차.notnull()\")),\\\n",
        "len(inter3_2.query(\"성별 == 'M'\")),\\\n",
        "len(inter3_2.query(\"성별 == 'M' and 시도 == '서울'\")),\\\n",
        "len(inter3_2.query(\"성별 == 'M' and 시도 == '서울' and 자동차.notnull()\"))"
      ],
      "metadata": {
        "colab": {
          "base_uri": "https://localhost:8080/"
        },
        "id": "XOTk6Mx61L0j",
        "outputId": "72db8538-8861-4a69-ab99-1942f9c400f4"
      },
      "execution_count": null,
      "outputs": [
        {
          "output_type": "execute_result",
          "data": {
            "text/plain": [
              "(9406, 2924, 731, 6209, 2035, 645)"
            ]
          },
          "metadata": {},
          "execution_count": 247
        }
      ]
    },
    {
      "cell_type": "markdown",
      "source": [
        "### 정치"
      ],
      "metadata": {
        "id": "f27ZHjGp1LxU"
      }
    },
    {
      "cell_type": "code",
      "source": [
        "inter2_2.query(\"성별 == 'F'\")['시도'].value_counts()[:3]"
      ],
      "metadata": {
        "colab": {
          "base_uri": "https://localhost:8080/"
        },
        "id": "o318-utky-AV",
        "outputId": "76c443d7-06c2-4163-be1c-d0a5b120bcf6"
      },
      "execution_count": null,
      "outputs": [
        {
          "output_type": "execute_result",
          "data": {
            "text/plain": [
              "서울    81\n",
              "경기    65\n",
              "인천    34\n",
              "Name: 시도, dtype: int64"
            ]
          },
          "metadata": {},
          "execution_count": 248
        }
      ]
    },
    {
      "cell_type": "code",
      "source": [
        "len(inter2_2.query(\"성별 == 'F'\")),\\\n",
        "len(inter2_2.query(\"성별 == 'F' and 시도 == '서울'\")),\\\n",
        "len(inter2_2.query(\"성별 == 'F' and 시도 == '서울' and 자동차.notnull()\"))"
      ],
      "metadata": {
        "colab": {
          "base_uri": "https://localhost:8080/"
        },
        "id": "RaeM6YBK1wUn",
        "outputId": "eb0a63cb-6b50-4e62-da54-3601cf1b4aaa"
      },
      "execution_count": null,
      "outputs": [
        {
          "output_type": "execute_result",
          "data": {
            "text/plain": [
              "(259, 81, 7)"
            ]
          },
          "metadata": {},
          "execution_count": 251
        }
      ]
    },
    {
      "cell_type": "code",
      "source": [
        "inter2_2.query(\"성별 == 'M'\")['시도'].value_counts()[:3]"
      ],
      "metadata": {
        "colab": {
          "base_uri": "https://localhost:8080/"
        },
        "id": "bl59e2yU1rsa",
        "outputId": "3f0d4acf-2eb9-46c3-fe67-15a3d30c9e38"
      },
      "execution_count": null,
      "outputs": [
        {
          "output_type": "execute_result",
          "data": {
            "text/plain": [
              "경기    868\n",
              "서울     64\n",
              "경남     22\n",
              "Name: 시도, dtype: int64"
            ]
          },
          "metadata": {},
          "execution_count": 250
        }
      ]
    },
    {
      "cell_type": "code",
      "source": [
        "len(inter2_2.query(\"성별 == 'M'\")),\\\n",
        "len(inter2_2.query(\"성별 == 'M' and 시도 == '경기'\")),\\\n",
        "len(inter2_2.query(\"성별 == 'M' and 시도 == '경기' and 자동차.notnull()\"))"
      ],
      "metadata": {
        "colab": {
          "base_uri": "https://localhost:8080/"
        },
        "id": "10UJ9zgX1wiK",
        "outputId": "c61d6de6-9f87-4ae7-e070-723d835b85c8"
      },
      "execution_count": null,
      "outputs": [
        {
          "output_type": "execute_result",
          "data": {
            "text/plain": [
              "(1059, 868, 814)"
            ]
          },
          "metadata": {},
          "execution_count": 252
        }
      ]
    },
    {
      "cell_type": "markdown",
      "source": [
        "### 스포츠"
      ],
      "metadata": {
        "id": "7xwsfslM15uu"
      }
    },
    {
      "cell_type": "code",
      "source": [
        "inter_3.query(\"성별 == 'F'\")['시도'].value_counts()[:3],\\\n",
        "inter3_3.query(\"성별 == 'F'\")['시도'].value_counts()[:3]"
      ],
      "metadata": {
        "colab": {
          "base_uri": "https://localhost:8080/"
        },
        "id": "zeiBaxhV2Eqc",
        "outputId": "09b5ae2b-06a0-4567-a62b-902a0e7701e3"
      },
      "execution_count": null,
      "outputs": [
        {
          "output_type": "execute_result",
          "data": {
            "text/plain": [
              "(서울    1283\n",
              " 경기     897\n",
              " 인천     230\n",
              " Name: 시도, dtype: int64,\n",
              " 서울    899\n",
              " 경기    678\n",
              " 부산    176\n",
              " Name: 시도, dtype: int64)"
            ]
          },
          "metadata": {},
          "execution_count": 254
        }
      ]
    },
    {
      "cell_type": "code",
      "source": [
        "len(inter_3.query(\"성별 == 'F'\")),\\\n",
        "len(inter_3.query(\"성별 == 'F' and 시도 == '경기'\")),\\\n",
        "len(inter_3.query(\"성별 == 'F' and 시도 == '경기' and 자동차.notnull()\")),\\\n",
        "len(inter3_3.query(\"성별 == 'F'\")),\\\n",
        "len(inter3_3.query(\"성별 == 'F' and 시도 == '경기'\")),\\\n",
        "len(inter3_3.query(\"성별 == 'F' and 시도 == '경기' and 자동차.notnull()\"))"
      ],
      "metadata": {
        "colab": {
          "base_uri": "https://localhost:8080/"
        },
        "id": "hL3w_6tX2Gr-",
        "outputId": "b055271d-64af-4a9f-9473-5a03e1fca4be"
      },
      "execution_count": null,
      "outputs": [
        {
          "output_type": "execute_result",
          "data": {
            "text/plain": [
              "(3532, 897, 276, 2526, 678, 248)"
            ]
          },
          "metadata": {},
          "execution_count": 255
        }
      ]
    },
    {
      "cell_type": "code",
      "source": [
        "inter_3.query(\"성별 == 'M'\")['시도'].value_counts()[:3],\\\n",
        "inter3_3.query(\"성별 == 'M'\")['시도'].value_counts()[:3]"
      ],
      "metadata": {
        "colab": {
          "base_uri": "https://localhost:8080/"
        },
        "id": "eAxcUeqG15q9",
        "outputId": "19dddcdb-73e0-4b80-ca5f-538ca86fc1c7"
      },
      "execution_count": null,
      "outputs": [
        {
          "output_type": "execute_result",
          "data": {
            "text/plain": [
              "(서울    3462\n",
              " 경기    1686\n",
              " 인천    1484\n",
              " Name: 시도, dtype: int64,\n",
              " 서울    2211\n",
              " 경기    1445\n",
              " 인천    1396\n",
              " Name: 시도, dtype: int64)"
            ]
          },
          "metadata": {},
          "execution_count": 256
        }
      ]
    },
    {
      "cell_type": "code",
      "source": [
        "len(inter_3.query(\"성별 == 'M'\")),\\\n",
        "len(inter_3.query(\"성별 == 'M' and 시도 == '경기'\")),\\\n",
        "len(inter_3.query(\"성별 == 'M' and 시도 == '경기' and 자동차.notnull()\")),\\\n",
        "len(inter3_3.query(\"성별 == 'M'\")),\\\n",
        "len(inter3_3.query(\"성별 == 'M' and 시도 == '서울'\")),\\\n",
        "len(inter3_3.query(\"성별 == 'M' and 시도 == '서울' and 자동차.notnull()\"))"
      ],
      "metadata": {
        "colab": {
          "base_uri": "https://localhost:8080/"
        },
        "id": "Q8I48EUL15ni",
        "outputId": "9fe45d8d-6630-46ac-fb09-e4e419234c29"
      },
      "execution_count": null,
      "outputs": [
        {
          "output_type": "execute_result",
          "data": {
            "text/plain": [
              "(8311, 1686, 1169, 6284, 2211, 1629)"
            ]
          },
          "metadata": {},
          "execution_count": 257
        }
      ]
    },
    {
      "cell_type": "markdown",
      "source": [
        "# df5 : 둘레길 관심인구 라이프스타일 (온라인쇼핑몰 이용 카테고리 정보)"
      ],
      "metadata": {
        "id": "0PZdDGqQxbPN"
      }
    },
    {
      "cell_type": "code",
      "source": [
        "df5.head()"
      ],
      "metadata": {
        "colab": {
          "base_uri": "https://localhost:8080/",
          "height": 206
        },
        "id": "XOwxEGzixbQ7",
        "outputId": "76c9c906-1a30-4306-c75b-9e5f619a125f"
      },
      "execution_count": null,
      "outputs": [
        {
          "output_type": "execute_result",
          "data": {
            "text/plain": [
              "     카테고리 성별  연령                       직업         소득      결혼          자녀  \\\n",
              "0  레저/자동차  F   4  서비스직 (요식업, 숙박업, 미용실종업원)  700~799만원     아니오               \n",
              "1  레저/자동차  F   4  서비스직 (요식업, 숙박업, 미용실종업원)  700~799만원     아니오               \n",
              "2  레저/자동차  F   4  서비스직 (요식업, 숙박업, 미용실종업원)  700~799만원     아니오               \n",
              "3    패션의류  F   2                      NaN        NaN                       \n",
              "4    패션의류  F   2                      NaN        NaN                       \n",
              "\n",
              "     주거  시도     구      동  자동차  \n",
              "0  단독주택  서울   도봉구   쌍문1동  NaN  \n",
              "1  단독주택  서울   도봉구   쌍문1동  NaN  \n",
              "2  단독주택  서울   도봉구   쌍문1동  NaN  \n",
              "3   NaN  경기  의정부시  의정부1동  NaN  \n",
              "4   NaN  경기  의정부시  의정부1동  NaN  "
            ],
            "text/html": [
              "\n",
              "  <div id=\"df-2603be1b-82da-42cc-9065-a862dfb85b82\">\n",
              "    <div class=\"colab-df-container\">\n",
              "      <div>\n",
              "<style scoped>\n",
              "    .dataframe tbody tr th:only-of-type {\n",
              "        vertical-align: middle;\n",
              "    }\n",
              "\n",
              "    .dataframe tbody tr th {\n",
              "        vertical-align: top;\n",
              "    }\n",
              "\n",
              "    .dataframe thead th {\n",
              "        text-align: right;\n",
              "    }\n",
              "</style>\n",
              "<table border=\"1\" class=\"dataframe\">\n",
              "  <thead>\n",
              "    <tr style=\"text-align: right;\">\n",
              "      <th></th>\n",
              "      <th>카테고리</th>\n",
              "      <th>성별</th>\n",
              "      <th>연령</th>\n",
              "      <th>직업</th>\n",
              "      <th>소득</th>\n",
              "      <th>결혼</th>\n",
              "      <th>자녀</th>\n",
              "      <th>주거</th>\n",
              "      <th>시도</th>\n",
              "      <th>구</th>\n",
              "      <th>동</th>\n",
              "      <th>자동차</th>\n",
              "    </tr>\n",
              "  </thead>\n",
              "  <tbody>\n",
              "    <tr>\n",
              "      <th>0</th>\n",
              "      <td>레저/자동차</td>\n",
              "      <td>F</td>\n",
              "      <td>4</td>\n",
              "      <td>서비스직 (요식업, 숙박업, 미용실종업원)</td>\n",
              "      <td>700~799만원</td>\n",
              "      <td>아니오</td>\n",
              "      <td></td>\n",
              "      <td>단독주택</td>\n",
              "      <td>서울</td>\n",
              "      <td>도봉구</td>\n",
              "      <td>쌍문1동</td>\n",
              "      <td>NaN</td>\n",
              "    </tr>\n",
              "    <tr>\n",
              "      <th>1</th>\n",
              "      <td>레저/자동차</td>\n",
              "      <td>F</td>\n",
              "      <td>4</td>\n",
              "      <td>서비스직 (요식업, 숙박업, 미용실종업원)</td>\n",
              "      <td>700~799만원</td>\n",
              "      <td>아니오</td>\n",
              "      <td></td>\n",
              "      <td>단독주택</td>\n",
              "      <td>서울</td>\n",
              "      <td>도봉구</td>\n",
              "      <td>쌍문1동</td>\n",
              "      <td>NaN</td>\n",
              "    </tr>\n",
              "    <tr>\n",
              "      <th>2</th>\n",
              "      <td>레저/자동차</td>\n",
              "      <td>F</td>\n",
              "      <td>4</td>\n",
              "      <td>서비스직 (요식업, 숙박업, 미용실종업원)</td>\n",
              "      <td>700~799만원</td>\n",
              "      <td>아니오</td>\n",
              "      <td></td>\n",
              "      <td>단독주택</td>\n",
              "      <td>서울</td>\n",
              "      <td>도봉구</td>\n",
              "      <td>쌍문1동</td>\n",
              "      <td>NaN</td>\n",
              "    </tr>\n",
              "    <tr>\n",
              "      <th>3</th>\n",
              "      <td>패션의류</td>\n",
              "      <td>F</td>\n",
              "      <td>2</td>\n",
              "      <td>NaN</td>\n",
              "      <td>NaN</td>\n",
              "      <td></td>\n",
              "      <td></td>\n",
              "      <td>NaN</td>\n",
              "      <td>경기</td>\n",
              "      <td>의정부시</td>\n",
              "      <td>의정부1동</td>\n",
              "      <td>NaN</td>\n",
              "    </tr>\n",
              "    <tr>\n",
              "      <th>4</th>\n",
              "      <td>패션의류</td>\n",
              "      <td>F</td>\n",
              "      <td>2</td>\n",
              "      <td>NaN</td>\n",
              "      <td>NaN</td>\n",
              "      <td></td>\n",
              "      <td></td>\n",
              "      <td>NaN</td>\n",
              "      <td>경기</td>\n",
              "      <td>의정부시</td>\n",
              "      <td>의정부1동</td>\n",
              "      <td>NaN</td>\n",
              "    </tr>\n",
              "  </tbody>\n",
              "</table>\n",
              "</div>\n",
              "      <button class=\"colab-df-convert\" onclick=\"convertToInteractive('df-2603be1b-82da-42cc-9065-a862dfb85b82')\"\n",
              "              title=\"Convert this dataframe to an interactive table.\"\n",
              "              style=\"display:none;\">\n",
              "        \n",
              "  <svg xmlns=\"http://www.w3.org/2000/svg\" height=\"24px\"viewBox=\"0 0 24 24\"\n",
              "       width=\"24px\">\n",
              "    <path d=\"M0 0h24v24H0V0z\" fill=\"none\"/>\n",
              "    <path d=\"M18.56 5.44l.94 2.06.94-2.06 2.06-.94-2.06-.94-.94-2.06-.94 2.06-2.06.94zm-11 1L8.5 8.5l.94-2.06 2.06-.94-2.06-.94L8.5 2.5l-.94 2.06-2.06.94zm10 10l.94 2.06.94-2.06 2.06-.94-2.06-.94-.94-2.06-.94 2.06-2.06.94z\"/><path d=\"M17.41 7.96l-1.37-1.37c-.4-.4-.92-.59-1.43-.59-.52 0-1.04.2-1.43.59L10.3 9.45l-7.72 7.72c-.78.78-.78 2.05 0 2.83L4 21.41c.39.39.9.59 1.41.59.51 0 1.02-.2 1.41-.59l7.78-7.78 2.81-2.81c.8-.78.8-2.07 0-2.86zM5.41 20L4 18.59l7.72-7.72 1.47 1.35L5.41 20z\"/>\n",
              "  </svg>\n",
              "      </button>\n",
              "      \n",
              "  <style>\n",
              "    .colab-df-container {\n",
              "      display:flex;\n",
              "      flex-wrap:wrap;\n",
              "      gap: 12px;\n",
              "    }\n",
              "\n",
              "    .colab-df-convert {\n",
              "      background-color: #E8F0FE;\n",
              "      border: none;\n",
              "      border-radius: 50%;\n",
              "      cursor: pointer;\n",
              "      display: none;\n",
              "      fill: #1967D2;\n",
              "      height: 32px;\n",
              "      padding: 0 0 0 0;\n",
              "      width: 32px;\n",
              "    }\n",
              "\n",
              "    .colab-df-convert:hover {\n",
              "      background-color: #E2EBFA;\n",
              "      box-shadow: 0px 1px 2px rgba(60, 64, 67, 0.3), 0px 1px 3px 1px rgba(60, 64, 67, 0.15);\n",
              "      fill: #174EA6;\n",
              "    }\n",
              "\n",
              "    [theme=dark] .colab-df-convert {\n",
              "      background-color: #3B4455;\n",
              "      fill: #D2E3FC;\n",
              "    }\n",
              "\n",
              "    [theme=dark] .colab-df-convert:hover {\n",
              "      background-color: #434B5C;\n",
              "      box-shadow: 0px 1px 3px 1px rgba(0, 0, 0, 0.15);\n",
              "      filter: drop-shadow(0px 1px 2px rgba(0, 0, 0, 0.3));\n",
              "      fill: #FFFFFF;\n",
              "    }\n",
              "  </style>\n",
              "\n",
              "      <script>\n",
              "        const buttonEl =\n",
              "          document.querySelector('#df-2603be1b-82da-42cc-9065-a862dfb85b82 button.colab-df-convert');\n",
              "        buttonEl.style.display =\n",
              "          google.colab.kernel.accessAllowed ? 'block' : 'none';\n",
              "\n",
              "        async function convertToInteractive(key) {\n",
              "          const element = document.querySelector('#df-2603be1b-82da-42cc-9065-a862dfb85b82');\n",
              "          const dataTable =\n",
              "            await google.colab.kernel.invokeFunction('convertToInteractive',\n",
              "                                                     [key], {});\n",
              "          if (!dataTable) return;\n",
              "\n",
              "          const docLinkHtml = 'Like what you see? Visit the ' +\n",
              "            '<a target=\"_blank\" href=https://colab.research.google.com/notebooks/data_table.ipynb>data table notebook</a>'\n",
              "            + ' to learn more about interactive tables.';\n",
              "          element.innerHTML = '';\n",
              "          dataTable['output_type'] = 'display_data';\n",
              "          await google.colab.output.renderOutput(dataTable, element);\n",
              "          const docLink = document.createElement('div');\n",
              "          docLink.innerHTML = docLinkHtml;\n",
              "          element.appendChild(docLink);\n",
              "        }\n",
              "      </script>\n",
              "    </div>\n",
              "  </div>\n",
              "  "
            ]
          },
          "metadata": {},
          "execution_count": 275
        }
      ]
    },
    {
      "cell_type": "code",
      "source": [
        "# Total : 68,606\n",
        "df5_23 = df5[df5['연령'].isin([2, 3])]     # 32,292, 47.1%\n",
        "df5_2 = df5[(df5['연령'] == 2)]            # 8,887, 13.0%\n",
        "df5_3 = df5[(df5['연령'] == 3)]            # 23,405, 34.1%\n",
        "df5_45 = df5[df5['연령'].isin([4, 5])]     # 36,314, 52.9%"
      ],
      "metadata": {
        "id": "H_ZZDaoExbS4"
      },
      "execution_count": null,
      "outputs": []
    },
    {
      "cell_type": "code",
      "source": [
        "cate_1 = df5_23.query(\"카테고리 == '식품/건강'\")\n",
        "cate_2 = df5_23.query(\"카테고리 == '패션의류'\")\n",
        "cate_3 = df5_23.query(\"카테고리 == '생활/주방'\")\n",
        "cate_4 = df5_23.query(\"카테고리 == '뷰티'\")\n",
        "cate_5 = df5_23.query(\"카테고리 == '패션잡화'\")"
      ],
      "metadata": {
        "id": "SDE_4HBY2xBm"
      },
      "execution_count": null,
      "outputs": []
    },
    {
      "cell_type": "code",
      "source": [
        "cate2_1 = df5_2.query(\"카테고리 == '패션의류'\")\n",
        "cate2_2 = df5_2.query(\"카테고리 == '패션잡화'\")\n",
        "cate2_3 = df5_2.query(\"카테고리 == '식품/건강'\")\n",
        "cate2_4 = df5_2.query(\"카테고리 == '뷰티'\")\n",
        "cate2_5 = df5_2.query(\"카테고리 == '디지털/가전'\")"
      ],
      "metadata": {
        "id": "g6htwIUo3BmF"
      },
      "execution_count": null,
      "outputs": []
    },
    {
      "cell_type": "code",
      "source": [
        "cate3_1 = df5_3.query(\"카테고리 == '식품/건강'\")\n",
        "cate3_2 = df5_3.query(\"카테고리 == '패션의류'\")\n",
        "cate3_3 = df5_3.query(\"카테고리 == '생활/주방'\")\n",
        "cate3_4 = df5_3.query(\"카테고리 == '뷰티'\")\n",
        "cate3_5 = df5_3.query(\"카테고리 == '패션잡화'\")"
      ],
      "metadata": {
        "id": "bNmH8CLQ3C0G"
      },
      "execution_count": null,
      "outputs": []
    },
    {
      "cell_type": "markdown",
      "source": [
        "### 식품/건강"
      ],
      "metadata": {
        "id": "z3Aj-YQh3f_y"
      }
    },
    {
      "cell_type": "code",
      "source": [
        "cate_1.query(\"성별 == 'F'\")['시도'].value_counts()[:3],\\\n",
        "cate3_1.query(\"성별 == 'F'\")['시도'].value_counts()[:3]"
      ],
      "metadata": {
        "colab": {
          "base_uri": "https://localhost:8080/"
        },
        "id": "h0Hzecg63V4P",
        "outputId": "4c477bdb-23b6-49a6-ae90-03fc34e2400f"
      },
      "execution_count": null,
      "outputs": [
        {
          "output_type": "execute_result",
          "data": {
            "text/plain": [
              "(서울    2053\n",
              " 경기    2050\n",
              " 대구    1091\n",
              " Name: 시도, dtype: int64,\n",
              " 서울    1893\n",
              " 경기    1872\n",
              " 대구    1064\n",
              " Name: 시도, dtype: int64)"
            ]
          },
          "metadata": {},
          "execution_count": 270
        }
      ]
    },
    {
      "cell_type": "code",
      "source": [
        "len(cate_1.query(\"성별 == 'F'\")),\\\n",
        "len(cate_1.query(\"성별 == 'F' and 시도 == '서울'\")),\\\n",
        "len(cate_1.query(\"성별 == 'F' and 시도 == '서울' and 자동차.notnull()\")),\\\n",
        "len(cate3_1.query(\"성별 == 'F'\")),\\\n",
        "len(cate3_1.query(\"성별 == 'F' and 시도 == '서울'\")),\\\n",
        "len(cate3_1.query(\"성별 == 'F' and 시도 == '서울' and 자동차.notnull()\"))"
      ],
      "metadata": {
        "colab": {
          "base_uri": "https://localhost:8080/"
        },
        "id": "T7DFGtVl3PzX",
        "outputId": "98268004-84e7-4f63-e94e-b949b2ea6485"
      },
      "execution_count": null,
      "outputs": [
        {
          "output_type": "execute_result",
          "data": {
            "text/plain": [
              "(6773, 2053, 1356, 6102, 1893, 1339)"
            ]
          },
          "metadata": {},
          "execution_count": 271
        }
      ]
    },
    {
      "cell_type": "code",
      "source": [
        "cate_1.query(\"성별 == 'M'\")['시도'].value_counts()[:3],\\\n",
        "cate3_1.query(\"성별 == 'M'\")['시도'].value_counts()[:3]"
      ],
      "metadata": {
        "colab": {
          "base_uri": "https://localhost:8080/"
        },
        "id": "Ht2bM3rP3jxw",
        "outputId": "7f4e238e-7beb-4ae6-bda3-c049678cc9c8"
      },
      "execution_count": null,
      "outputs": [
        {
          "output_type": "execute_result",
          "data": {
            "text/plain": [
              "(서울    867\n",
              " 경기    571\n",
              " 충북    196\n",
              " Name: 시도, dtype: int64,\n",
              " 서울    637\n",
              " 경기    390\n",
              " 충북    173\n",
              " Name: 시도, dtype: int64)"
            ]
          },
          "metadata": {},
          "execution_count": 272
        }
      ]
    },
    {
      "cell_type": "code",
      "source": [
        "len(cate_1.query(\"성별 == 'M'\")),\\\n",
        "len(cate_1.query(\"성별 == 'M' and 시도 == '서울'\")),\\\n",
        "len(cate_1.query(\"성별 == 'M' and 시도 == '서울' and 자동차.notnull()\")),\\\n",
        "len(cate3_1.query(\"성별 == 'M'\")),\\\n",
        "len(cate3_1.query(\"성별 == 'M' and 시도 == '서울'\")),\\\n",
        "len(cate3_1.query(\"성별 == 'M' and 시도 == '서울' and 자동차.notnull()\"))"
      ],
      "metadata": {
        "colab": {
          "base_uri": "https://localhost:8080/"
        },
        "id": "GPd6fDTM3ner",
        "outputId": "8c72d470-ec60-4258-9672-0c1185d42e1a"
      },
      "execution_count": null,
      "outputs": [
        {
          "output_type": "execute_result",
          "data": {
            "text/plain": [
              "(2638, 867, 214, 1843, 637, 193)"
            ]
          },
          "metadata": {},
          "execution_count": 273
        }
      ]
    },
    {
      "cell_type": "code",
      "source": [
        "# 20대\n",
        "cate2_3.query(\"성별 == 'F'\")['시도'].value_counts()[:3]"
      ],
      "metadata": {
        "colab": {
          "base_uri": "https://localhost:8080/"
        },
        "id": "NrJldpwW3xWX",
        "outputId": "b9bf1d73-1b13-4e76-f319-a36e2e440fea"
      },
      "execution_count": null,
      "outputs": [
        {
          "output_type": "execute_result",
          "data": {
            "text/plain": [
              "경기    178\n",
              "서울    160\n",
              "인천     55\n",
              "Name: 시도, dtype: int64"
            ]
          },
          "metadata": {},
          "execution_count": 278
        }
      ]
    },
    {
      "cell_type": "code",
      "source": [
        "len(cate2_3.query(\"성별 == 'F'\")),\\\n",
        "len(cate2_3.query(\"성별 == 'F' and 시도 == '경기'\")),\\\n",
        "len(cate2_3.query(\"성별 == 'F' and 시도 == '경기' and 자동차.notnull()\"))"
      ],
      "metadata": {
        "colab": {
          "base_uri": "https://localhost:8080/"
        },
        "id": "aXTUgICS327x",
        "outputId": "0feb575e-4061-4b4b-ea43-093758fae42c"
      },
      "execution_count": null,
      "outputs": [
        {
          "output_type": "execute_result",
          "data": {
            "text/plain": [
              "(671, 178, 19)"
            ]
          },
          "metadata": {},
          "execution_count": 279
        }
      ]
    },
    {
      "cell_type": "code",
      "source": [
        "cate2_3.query(\"성별 == 'M'\")['시도'].value_counts()[:3]"
      ],
      "metadata": {
        "colab": {
          "base_uri": "https://localhost:8080/"
        },
        "id": "3LbXXOis322K",
        "outputId": "73f66162-70dd-437a-a3a1-2f410805952f"
      },
      "execution_count": null,
      "outputs": [
        {
          "output_type": "execute_result",
          "data": {
            "text/plain": [
              "서울    230\n",
              "경기    181\n",
              "인천     63\n",
              "Name: 시도, dtype: int64"
            ]
          },
          "metadata": {},
          "execution_count": 280
        }
      ]
    },
    {
      "cell_type": "code",
      "source": [
        "len(cate2_3.query(\"성별 == 'M'\")),\\\n",
        "len(cate2_3.query(\"성별 == 'M' and 시도 == '서울'\")),\\\n",
        "len(cate2_3.query(\"성별 == 'M' and 시도 == '서울' and 자동차.notnull()\"))"
      ],
      "metadata": {
        "colab": {
          "base_uri": "https://localhost:8080/"
        },
        "id": "83Ww75C735nr",
        "outputId": "833c8c61-c111-4d33-d48e-91b3c992148c"
      },
      "execution_count": null,
      "outputs": [
        {
          "output_type": "execute_result",
          "data": {
            "text/plain": [
              "(795, 230, 21)"
            ]
          },
          "metadata": {},
          "execution_count": 282
        }
      ]
    },
    {
      "cell_type": "code",
      "source": [],
      "metadata": {
        "id": "xjqFzIlu35jW"
      },
      "execution_count": null,
      "outputs": []
    },
    {
      "cell_type": "markdown",
      "source": [
        "### 패션의류"
      ],
      "metadata": {
        "id": "nFBqMvTH3tCl"
      }
    },
    {
      "cell_type": "code",
      "source": [
        "# 20대\n",
        "cate2_1.query(\"성별 == 'F'\")['시도'].value_counts()[:3]"
      ],
      "metadata": {
        "colab": {
          "base_uri": "https://localhost:8080/"
        },
        "id": "YLhAtOBf4_2C",
        "outputId": "a72be35b-8405-4a19-cc44-0fb9d94b1e15"
      },
      "execution_count": null,
      "outputs": [
        {
          "output_type": "execute_result",
          "data": {
            "text/plain": [
              "부산    2231\n",
              "서울     228\n",
              "경기     158\n",
              "Name: 시도, dtype: int64"
            ]
          },
          "metadata": {},
          "execution_count": 287
        }
      ]
    },
    {
      "cell_type": "code",
      "source": [
        "len(cate2_1.query(\"성별 == 'F'\")),\\\n",
        "len(cate2_1.query(\"성별 == 'F' and 시도 == '부산'\")),\\\n",
        "len(cate2_1.query(\"성별 == 'F' and 시도 == '부산' and 자동차.notnull()\"))"
      ],
      "metadata": {
        "colab": {
          "base_uri": "https://localhost:8080/"
        },
        "id": "WYO2-7Zh5EA-",
        "outputId": "0dfc58e1-69e1-48ba-d180-e086c146c9ee"
      },
      "execution_count": null,
      "outputs": [
        {
          "output_type": "execute_result",
          "data": {
            "text/plain": [
              "(2868, 2231, 3)"
            ]
          },
          "metadata": {},
          "execution_count": 291
        }
      ]
    },
    {
      "cell_type": "code",
      "source": [
        "cate2_1.query(\"성별 == 'M'\")['시도'].value_counts()[:3]"
      ],
      "metadata": {
        "colab": {
          "base_uri": "https://localhost:8080/"
        },
        "id": "oMeF6ZBH5HRS",
        "outputId": "ad957358-4fbc-44a5-db48-a889c2e2b51b"
      },
      "execution_count": null,
      "outputs": [
        {
          "output_type": "execute_result",
          "data": {
            "text/plain": [
              "서울    170\n",
              "경기    131\n",
              "부산     41\n",
              "Name: 시도, dtype: int64"
            ]
          },
          "metadata": {},
          "execution_count": 290
        }
      ]
    },
    {
      "cell_type": "code",
      "source": [
        "len(cate2_1.query(\"성별 == 'M'\")),\\\n",
        "len(cate2_1.query(\"성별 == 'M' and 시도 == '서울'\")),\\\n",
        "len(cate2_1.query(\"성별 == 'M' and 시도 == '서울' and 자동차.notnull()\"))"
      ],
      "metadata": {
        "colab": {
          "base_uri": "https://localhost:8080/"
        },
        "id": "ZL3ny_PC5HOT",
        "outputId": "f5aeb7de-d848-4c95-98d0-e6006e2a1002"
      },
      "execution_count": null,
      "outputs": [
        {
          "output_type": "execute_result",
          "data": {
            "text/plain": [
              "(561, 170, 23)"
            ]
          },
          "metadata": {},
          "execution_count": 292
        }
      ]
    },
    {
      "cell_type": "code",
      "source": [
        "#230 30대\n",
        "cate_2.query(\"성별 == 'F'\")['시도'].value_counts()[:3],\\\n",
        "cate3_2.query(\"성별 == 'F'\")['시도'].value_counts()[:3]"
      ],
      "metadata": {
        "colab": {
          "base_uri": "https://localhost:8080/"
        },
        "id": "QNNpOXZV3w-z",
        "outputId": "59b7ddc3-1dcd-4c80-8e9f-6e1cf7584281"
      },
      "execution_count": null,
      "outputs": [
        {
          "output_type": "execute_result",
          "data": {
            "text/plain": [
              "(부산    2475\n",
              " 서울    1255\n",
              " 경기    1106\n",
              " Name: 시도, dtype: int64,\n",
              " 서울    1027\n",
              " 경기     948\n",
              " 부산     244\n",
              " Name: 시도, dtype: int64)"
            ]
          },
          "metadata": {},
          "execution_count": 283
        }
      ]
    },
    {
      "cell_type": "code",
      "source": [
        "len(cate_2.query(\"성별 == 'F'\")),\\\n",
        "len(cate_2.query(\"성별 == 'F' and 시도 == '부산'\")),\\\n",
        "len(cate_2.query(\"성별 == 'F' and 시도 == '부산' and 자동차.notnull()\")),\\\n",
        "len(cate3_2.query(\"성별 == 'F'\")),\\\n",
        "len(cate3_2.query(\"성별 == 'F' and 시도 == '서울'\")),\\\n",
        "len(cate3_2.query(\"성별 == 'F' and 시도 == '서울' and 자동차.notnull()\"))"
      ],
      "metadata": {
        "colab": {
          "base_uri": "https://localhost:8080/"
        },
        "id": "lumN23Td4bQw",
        "outputId": "d71aec2b-beef-4aa2-ee37-0401c6361c69"
      },
      "execution_count": null,
      "outputs": [
        {
          "output_type": "execute_result",
          "data": {
            "text/plain": [
              "(5759, 2475, 192, 2891, 1027, 376)"
            ]
          },
          "metadata": {},
          "execution_count": 284
        }
      ]
    },
    {
      "cell_type": "code",
      "source": [
        "cate_2.query(\"성별 == 'M'\")['시도'].value_counts()[:3],\\\n",
        "cate3_2.query(\"성별 == 'M'\")['시도'].value_counts()[:3]"
      ],
      "metadata": {
        "colab": {
          "base_uri": "https://localhost:8080/"
        },
        "id": "2mSvVX2Z4gsI",
        "outputId": "bf7a40a6-03e8-4f4f-8272-331ba86b46b9"
      },
      "execution_count": null,
      "outputs": [
        {
          "output_type": "execute_result",
          "data": {
            "text/plain": [
              "(서울    655\n",
              " 경기    482\n",
              " 부산    119\n",
              " Name: 시도, dtype: int64,\n",
              " 서울    485\n",
              " 경기    351\n",
              " 인천     88\n",
              " Name: 시도, dtype: int64)"
            ]
          },
          "metadata": {},
          "execution_count": 285
        }
      ]
    },
    {
      "cell_type": "code",
      "source": [
        "len(cate_2.query(\"성별 == 'M'\")),\\\n",
        "len(cate_2.query(\"성별 == 'M' and 시도 == '서울'\")),\\\n",
        "len(cate_2.query(\"성별 == 'M' and 시도 == '서울' and 자동차.notnull()\")),\\\n",
        "len(cate3_2.query(\"성별 == 'M'\")),\\\n",
        "len(cate3_2.query(\"성별 == 'M' and 시도 == '서울'\")),\\\n",
        "len(cate3_2.query(\"성별 == 'M' and 시도 == '서울' and 자동차.notnull()\"))"
      ],
      "metadata": {
        "colab": {
          "base_uri": "https://localhost:8080/"
        },
        "id": "MZWZIcVr4jA_",
        "outputId": "51926274-4b5e-4887-d39c-058bf33c44e1"
      },
      "execution_count": null,
      "outputs": [
        {
          "output_type": "execute_result",
          "data": {
            "text/plain": [
              "(1947, 655, 188, 1386, 485, 165)"
            ]
          },
          "metadata": {},
          "execution_count": 286
        }
      ]
    },
    {
      "cell_type": "markdown",
      "source": [
        "### 패션잡화"
      ],
      "metadata": {
        "id": "fEC1Wz4S4n3Z"
      }
    },
    {
      "cell_type": "code",
      "source": [
        "cate2_2.query(\"성별 == 'F'\")['시도'].value_counts()[:3]"
      ],
      "metadata": {
        "colab": {
          "base_uri": "https://localhost:8080/"
        },
        "id": "vI_KB9th41uz",
        "outputId": "04dbb367-71af-4f35-e925-21945a9ed216"
      },
      "execution_count": null,
      "outputs": [
        {
          "output_type": "execute_result",
          "data": {
            "text/plain": [
              "부산    297\n",
              "서울     98\n",
              "경기     50\n",
              "Name: 시도, dtype: int64"
            ]
          },
          "metadata": {},
          "execution_count": 294
        }
      ]
    },
    {
      "cell_type": "code",
      "source": [
        "len(cate2_2.query(\"성별 == 'F'\")),\\\n",
        "len(cate2_2.query(\"성별 == 'F' and 시도 == '부산'\")),\\\n",
        "len(cate2_2.query(\"성별 == 'F' and 시도 == '부산' and 자동차.notnull()\"))"
      ],
      "metadata": {
        "colab": {
          "base_uri": "https://localhost:8080/"
        },
        "id": "whdeTQZa5T9J",
        "outputId": "d8571b49-3cbf-4b51-e370-ae211e1467c3"
      },
      "execution_count": null,
      "outputs": [
        {
          "output_type": "execute_result",
          "data": {
            "text/plain": [
              "(509, 297, 2)"
            ]
          },
          "metadata": {},
          "execution_count": 295
        }
      ]
    },
    {
      "cell_type": "code",
      "source": [
        "cate2_2.query(\"성별 == 'M'\")['시도'].value_counts()[:3]"
      ],
      "metadata": {
        "colab": {
          "base_uri": "https://localhost:8080/"
        },
        "id": "UA2IyUGr5XsE",
        "outputId": "f7f3c6cc-6b13-4f6b-e44a-50f839909a66"
      },
      "execution_count": null,
      "outputs": [
        {
          "output_type": "execute_result",
          "data": {
            "text/plain": [
              "서울    110\n",
              "경기     36\n",
              "전북     15\n",
              "Name: 시도, dtype: int64"
            ]
          },
          "metadata": {},
          "execution_count": 296
        }
      ]
    },
    {
      "cell_type": "code",
      "source": [
        "len(cate2_2.query(\"성별 == 'M'\")),\\\n",
        "len(cate2_2.query(\"성별 == 'M' and 시도 == '서울'\")),\\\n",
        "len(cate2_2.query(\"성별 == 'M' and 시도 == '서울' and 자동차.notnull()\"))"
      ],
      "metadata": {
        "colab": {
          "base_uri": "https://localhost:8080/"
        },
        "id": "dNscrPd95Zrr",
        "outputId": "0f5a6383-7526-4927-d72b-a69bf4611dd8"
      },
      "execution_count": null,
      "outputs": [
        {
          "output_type": "execute_result",
          "data": {
            "text/plain": [
              "(252, 110, 6)"
            ]
          },
          "metadata": {},
          "execution_count": 297
        }
      ]
    },
    {
      "cell_type": "code",
      "source": [],
      "metadata": {
        "id": "QkEDNUxH5cS5"
      },
      "execution_count": null,
      "outputs": []
    }
  ]
}