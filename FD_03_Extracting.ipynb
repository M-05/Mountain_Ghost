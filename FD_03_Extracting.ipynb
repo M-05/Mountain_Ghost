{
  "nbformat": 4,
  "nbformat_minor": 0,
  "metadata": {
    "colab": {
      "provenance": []
    },
    "kernelspec": {
      "name": "python3",
      "display_name": "Python 3"
    },
    "language_info": {
      "name": "python"
    }
  },
  "cells": [
    {
      "cell_type": "code",
      "execution_count": null,
      "metadata": {
        "id": "0y-ZuXZts9Lu"
      },
      "outputs": [],
      "source": [
        "import pandas as pd\n",
        "import os\n",
        "from google.colab import drive"
      ]
    },
    {
      "cell_type": "code",
      "source": [
        "pd.set_option('display.max_columns', None)\n",
        "# display.[max_categories, max_columns, max_colwidth, max_dir_items,\n",
        "#   max_info_columns, max_info_rows, max_rows, max_seq_items, memory_usage,\n",
        "#   min_rows, multi_sparse, notebook_repr_html, pprint_nest_depth, precision,\n",
        "#   show_dimensions]"
      ],
      "metadata": {
        "id": "KxiaNFK4tCuG"
      },
      "execution_count": null,
      "outputs": []
    },
    {
      "cell_type": "code",
      "source": [
        "# 나의 구글 드라이브 연결\n",
        "drive.mount(\"/content/drive\")"
      ],
      "metadata": {
        "colab": {
          "base_uri": "https://localhost:8080/"
        },
        "id": "4pDBp2F6uv5C",
        "outputId": "bece8e8a-785d-4acf-d3b9-f538934a1d13"
      },
      "execution_count": null,
      "outputs": [
        {
          "output_type": "stream",
          "name": "stdout",
          "text": [
            "Mounted at /content/drive\n"
          ]
        }
      ]
    },
    {
      "cell_type": "code",
      "source": [
        "path = './drive/MyDrive/Colab Notebooks/'"
      ],
      "metadata": {
        "id": "tSvDFn2Xlcof"
      },
      "execution_count": null,
      "outputs": []
    },
    {
      "cell_type": "markdown",
      "source": [
        "# 데이터 불러오기"
      ],
      "metadata": {
        "id": "xAKWS_Av06pS"
      }
    },
    {
      "cell_type": "code",
      "source": [
        "# 국립공원 관심인구 정보\n",
        "df1 = pd.read_csv(path + \"FPL030101.csv\")\n",
        "# 국립공원 관심인구 라이프스타일 (온라인쇼핑몰 이용 카테고리 정보)\n",
        "df2 = pd.read_csv(path + \"FPL030701.csv\")\n",
        "\n",
        "# 자전거코스/자전거길 관심인구 정보\n",
        "df3 = pd.read_csv(path + \"FPL040101.csv\")\n",
        "# 자전거코스/자전거길 관심인구 자전거용품 검색 정보\n",
        "df4 = pd.read_csv(path + \"FPL040401.csv\")\n",
        "\n",
        "# 산림치유원 관심인구 선호 산림치유원 검색 정보\n",
        "df5 = pd.read_csv(path + \"FPL050201.csv\")\n",
        "\n",
        "# 산림체험 관심인구 정보\n",
        "df14 = pd.read_csv(path + \"FPL060101.csv\")\n",
        "# 산림체험 관심인구 선호 산림체험장소 검색 정보\n",
        "df15 = pd.read_csv(path + \"FPL060201.csv\")\n",
        "# 산림체험 관심인구 선호 산림체험 프로그램 검색 정보\n",
        "df16 = pd.read_csv(path + \"FPL060301.csv\")\n",
        "\n",
        "# 산림치유 관심인구 라이프스타일 (온라인쇼핑몰 검색/구매 카테고리) 정보\n",
        "df17 = pd.read_csv(path + \"FPL060501.csv\")\n",
        "\n",
        "# 귀산촌 관심인구 정보\n",
        "df18 = pd.read_csv(path + \"FPL070101.csv\")\n",
        "\n",
        "# 산림재해 관심인구 정보\n",
        "df19 = pd.read_csv(path + \"FPL080101.csv\")\n",
        "# 산림대피소 관심인구 정보\n",
        "df20 = pd.read_csv(path + \"FPL080201.csv\")\n",
        "# 산림재해 관심인구 관심지역 검색정보\n",
        "df21 = pd.read_csv(path + \"FPL080301.csv\")\n",
        "# 산림재해 연관 검색 키워드를 검색한 관심인구 정보\n",
        "df22 = pd.read_csv(path + \"FPL080401.csv\")\n",
        "\n",
        "# 전국 국립공원 등산로 이용자 분류(성/연령)별 평균 칼로리 소모량 정보\n",
        "df23 = pd.read_csv(path + \"PARK_KCAL.csv\")"
      ],
      "metadata": {
        "id": "900CO4-stGEi"
      },
      "execution_count": null,
      "outputs": []
    },
    {
      "cell_type": "markdown",
      "source": [
        "# 국립공원[National Park]\n",
        "> 자연 경치가 뛰어난 지역의 자연과 문화적 가치를 보호하기 위하여 나라에서 지정하여 관리하는 공원.\n",
        "\n",
        "### df1 : 국립공원 관심인구 정보 (Total : 19,910)\n",
        "\n",
        "|순위| 1 | 2 | 3 | 4 | 5 |\n",
        "|--|--|--|--|--|--|\n",
        "|거주지 230 | 서울 | 경기 | 부산 | 경북 | 대구\n",
        "|국립공원 | 경주 | 북한산 | 지리산 | 만물상 | 월출산\n",
        "|거주지 20 | 서울 | 부산 | 울산 | 경기 | 경북\n",
        "|국립공원 | 경주 | 북한산 | 만물상 | 주왕산 | 지리산\n",
        "|거주지 30 | 서울 | 경기 | 대구 | 경북 | 경남\n",
        "|국립공원 | 경주 | 지리산 | 북한산 | 만물상 | 몽산포\n",
        "|||||||\n",
        "|거주지 14560 | 서울 | 경기 | 경북 | 대구 | 인천\n",
        "|국립공원 | 경주 | 북한산 | 설악산 | 지리산 | 만물상\n",
        "\n",
        "> 만물상[萬物相] : 금강산에 있는 바위산.\n",
        "\n",
        "`[2-30] 여 : 9,410(85.1%), 남 : 1,651(14.9%)`\n",
        "\n",
        "|Age|관심인구|Car|job|\n",
        "|--|--|--|--|\n",
        "|2-30|11,061(55.6%)|6,044(54.6%)|7,622(68.9%)\n",
        "|20|2,732(13.7%)|1,154(10.4%)|1,902(17.2%)\n",
        "|30|8,329(41.8%)|4,890(44.2%)|5,720(51.7%)\n",
        "\n",
        "---\n",
        "\n",
        "\n",
        "### df2 : 국립공원 관심인구 라이프스타일 (온라인쇼핑몰 이용 카테고리 정보) (Total : 173,928)\n",
        "\n",
        "|순위| 1 | 2 | 3 | 4 | 5 |\n",
        "|--|--|--|--|--|--|\n",
        "|거주지 230 | 서울 | 경기 | 부산 | 대구 | 경남\n",
        "|카테고리 | 식품/건강 | 패션의류 | 생활/주방 | 뷰티 | 패션잡화\n",
        "|거주지 20 | 서울 | 부산 | 경기 | 대구 | 광주\n",
        "|카테고리 | 식품/건강 | 패션의류 | 생활/주방 | 디지털/가전 | 뷰티\n",
        "|거주지 30 | 서울 | 경기 | 부산 | 경남 | 대구\n",
        "|카테고리 | 식품/건강 | 패션의류 | 생활/주방 | 뷰티 | 패션잡화\n",
        "|||||||\n",
        "|거주지 14560 | 경기 | 서울 | 인천 | 경북 | 부산\n",
        "|카테고리 | 식품/건강 | 패션의류 | 패션잡화 | 생활/주방 | 디지털/가전\n",
        "\n",
        "`[2-30] 여 : 97,688(89.2%), 남 : 11,789(10.8%)`\n",
        "\n",
        "|Age|관심인구|Car|job|\n",
        "|--|--|--|--|\n",
        "|2-30|109,477(62.9%)|60,586(55.3%)|65,783(60.1%)\n",
        "|20|20,686(11.9%)|6,631(6.1%) | 10,022(9.2%)\n",
        "|30|88,791(51.1%)|53,955(49.3%)|55,761(50.9%)\n",
        "\n",
        "---\n",
        "\n",
        "### df3 : 자전거코스/자전거길 관심인구 정보 (Total : 23,494)\n",
        "\n",
        "|순위| 1 | 2 | 3 | 4 | 5 |\n",
        "|--|--|--|--|--|--|\n",
        "|거주지 230 | 서울 | 경기 | 인천 | 부산 | 대구\n",
        "|자전거길 | 영산강자전거길 | 섬진강자전거길 | 낙동강자전거길 | 남한강자전거길 | 동해안자전거길\n",
        "|거주지 20 | 서울 | 경기 | 인천 | 부산 | 대구\n",
        "|자전거길 | 영산강자전거길 | 낙동강자전거길 | 섬진강자전거길 | 남한강자전거길 | 금강자전거길\n",
        "|거주지 30 | 서울 | 경기 | 인천 | 부산 | 경남\n",
        "|자전거길 | 영산강자전거길 | 섬진강자전거길 | 낙동강자전거길 | 남한강자전거길 | 동해안자전거길\n",
        "|||||||\n",
        "|거주지 14560 | 서울 | 경기 | 인천 | 부산 | 경남\n",
        "|자전거길 | 영산강자전거길 | 남한강자전거길 | 동해안자전거길 | 낙동강자전거길 | 북한강자전거길\n",
        "\n",
        "`[2-30] 여 : 5,163(38.0%), 남 : 8,414(62.0%)`\n",
        "\n",
        "|Age|관심인구|Car|job|\n",
        "|--|--|--|--|\n",
        "|2-30|13,577(57.8%)|3,385(24.9%)|4,951(36.5%)\n",
        "|20|6,363(27.1%)|661(4.9%) | 1,258(9.3%)\n",
        "|30|7,214(30.7%)|2,724(20.1%)|3,693(27.2%)\n",
        "\n",
        "---\n",
        "\n",
        "### df4 : 자전거코스/자전거길 관심인구 자전거용품 검색 정보 (Total : 3,200)\n",
        "\n",
        "|순위| 1 | 2 | 3 | 4 | 5 |\n",
        "|--|--|--|--|--|--|\n",
        "|거주지 230 | 서울 | 경기 | 인천 | 부산 | 대구\n",
        "|카테고리 | 자전거 | 패션의류 | 생활/주방 | 뷰티 | 패션잡화\n",
        "|거주지 20 | 서울 | 경기 | 부산 | 인천 | 대구\n",
        "|카테고리 | 식품/건강 | 패션의류 | 생활/주방 | 디지털/가전 | 뷰티\n",
        "|거주지 30 | 서울 | 경기 | 인천 | 부산 | 대구\n",
        "|카테고리 | 식품/건강 | 패션의류 | 생활/주방 | 뷰티 | 패션잡화\n",
        "|||||||\n",
        "|거주지 14560 | 경기 | 서울 | 인천 | 경북 | 부산\n",
        "|카테고리 | 식품/건강 | 패션의류 | 패션잡화 | 생활/주방 | 디지털/가전\n",
        "\n",
        "`[2-30] 여 : 701(37.9%), 남 : 1,149(62.1%)`\n",
        "\n",
        "|Age|관심인구|Car|job|\n",
        "|--|--|--|--|\n",
        "|2-30|1,850(57.8%)|470(25.4%)|655(35.4%)\n",
        "|20|867(27.1%)|96(5.2%) | 175(9.5%)\n",
        "|30|983(30.7%)|374(20.2%)|480(25.9%)\n",
        "\n",
        "---\n",
        "\n",
        "### df5 : 산림치유원 관심인구 선호 산림치유원 검색 정보 (Total : 873,021)\n",
        "\n",
        "|순위| 1 | 2 | 3 | 4 | 5 |\n",
        "|--|--|--|--|--|--|\n",
        "|거주지 230 | 서울 | 경기 | 부산 | 대구 | 경남\n",
        "|카테고리 | 식품/건강 | 패션의류 | 생활/주방 | 뷰티 | 패션잡화\n",
        "|거주지 20 | 서울 | 부산 | 경기 | 대구 | 광주\n",
        "|카테고리 | 식품/건강 | 패션의류 | 생활/주방 | 디지털/가전 | 뷰티\n",
        "|거주지 30 | 서울 | 경기 | 부산 | 경남 | 대구\n",
        "|카테고리 | 식품/건강 | 패션의류 | 생활/주방 | 뷰티 | 패션잡화\n",
        "|||||||\n",
        "|거주지 14560 | 경기 | 서울 | 인천 | 경북 | 부산\n",
        "|카테고리 | 식품/건강 | 패션의류 | 패션잡화 | 생활/주방 | 디지털/가전\n",
        "\n",
        "`[2-30] 여 : 97,688(89.2%), 남 : 11,789(10.8%)`\n",
        "\n",
        "|Age|관심인구|Car|job|\n",
        "|--|--|--|--|\n",
        "|2-30|109,477(62.9%)|60,586(55.3%)|65,783(60.1%)\n",
        "|20|20,686(11.9%)|6,631(6.1%) | 10,022(9.2%)\n",
        "|30|88,791(51.1%)|53,955(49.3%)|55,761(50.9%)"
      ],
      "metadata": {
        "id": "om6m2vDtvcAD"
      }
    },
    {
      "cell_type": "markdown",
      "source": [
        "# 국립공원[National Park]\n",
        "> 자연 경치가 뛰어난 지역의 자연과 문화적 가치를 보호하기 위하여 나라에서 지정하여 관리하는 공원.\n",
        "\n",
        "### df1 : 국립공원 관심인구 정보 (Total : 19,910)\n",
        "\n",
        "|순위| 1 | 2 | 3 | 4 | 5 |\n",
        "|--|--|--|--|--|--|\n",
        "|거주지 230 | 서울 | 경기 | 부산 | 경북 | 대구\n",
        "|국립공원 | 경주 | 북한산 | 지리산 | 만물상 | 월출산\n",
        "|거주지 20 | 서울 | 부산 | 울산 | 경기 | 경북\n",
        "|국립공원 | 경주 | 북한산 | 만물상 | 주왕산 | 지리산\n",
        "|거주지 30 | 서울 | 경기 | 대구 | 경북 | 경남\n",
        "|국립공원 | 경주 | 지리산 | 북한산 | 만물상 | 몽산포\n",
        "|||||||\n",
        "|거주지 14560 | 서울 | 경기 | 경북 | 대구 | 인천\n",
        "|국립공원 | 경주 | 북한산 | 설악산 | 지리산 | 만물상\n",
        "\n",
        "> 만물상[萬物相] : 금강산에 있는 바위산.\n",
        "\n",
        "`[2-30] 여 : 9,410(85.1%), 남 : 1,651(14.9%)`\n",
        "\n",
        "|Age|관심인구|Car|job|\n",
        "|--|--|--|--|\n",
        "|2-30|11,061(55.6%)|6,044(54.6%)|7,622(68.9%)\n",
        "|20|2,732(13.7%)|1,154(10.4%)|1,902(17.2%)\n",
        "|30|8,329(41.8%)|4,890(44.2%)|5,720(51.7%)\n",
        "\n",
        "---\n",
        "\n",
        "\n",
        "### df2 : 국립공원 관심인구 라이프스타일 (온라인쇼핑몰 이용 카테고리 정보) (Total : 173,928)\n",
        "\n",
        "|순위| 1 | 2 | 3 | 4 | 5 |\n",
        "|--|--|--|--|--|--|\n",
        "|거주지 230 | 서울 | 경기 | 부산 | 대구 | 경남\n",
        "|카테고리 | 식품/건강 | 패션의류 | 생활/주방 | 뷰티 | 패션잡화\n",
        "|거주지 20 | 서울 | 부산 | 경기 | 대구 | 광주\n",
        "|카테고리 | 식품/건강 | 패션의류 | 생활/주방 | 디지털/가전 | 뷰티\n",
        "|거주지 30 | 서울 | 경기 | 부산 | 경남 | 대구\n",
        "|카테고리 | 식품/건강 | 패션의류 | 생활/주방 | 뷰티 | 패션잡화\n",
        "|||||||\n",
        "|거주지 14560 | 경기 | 서울 | 인천 | 경북 | 부산\n",
        "|카테고리 | 식품/건강 | 패션의류 | 패션잡화 | 생활/주방 | 디지털/가전\n",
        "\n",
        "`[2-30] 여 : 97,688(89.2%), 남 : 11,789(10.8%)`\n",
        "\n",
        "|Age|관심인구|Car|job|\n",
        "|--|--|--|--|\n",
        "|2-30|109,477(62.9%)|60,586(55.3%)|65,783(60.1%)\n",
        "|20|20,686(11.9%)|6,631(6.1%) | 10,022(9.2%)\n",
        "|30|88,791(51.1%)|53,955(49.3%)|55,761(50.9%)\n",
        "\n",
        "---\n",
        "\n",
        "### df3 : 자전거코스/자전거길 관심인구 정보 (Total : 23,494)\n",
        "\n",
        "|순위| 1 | 2 | 3 | 4 | 5 |\n",
        "|--|--|--|--|--|--|\n",
        "|거주지 230 | 서울 | 경기 | 인천 | 부산 | 대구\n",
        "|자전거길 | 영산강자전거길 | 섬진강자전거길 | 낙동강자전거길 | 남한강자전거길 | 동해안자전거길\n",
        "|거주지 20 | 서울 | 경기 | 인천 | 부산 | 대구\n",
        "|자전거길 | 영산강자전거길 | 낙동강자전거길 | 섬진강자전거길 | 남한강자전거길 | 금강자전거길\n",
        "|거주지 30 | 서울 | 경기 | 인천 | 부산 | 경남\n",
        "|자전거길 | 영산강자전거길 | 섬진강자전거길 | 낙동강자전거길 | 남한강자전거길 | 동해안자전거길\n",
        "|||||||\n",
        "|거주지 14560 | 서울 | 경기 | 인천 | 부산 | 경남\n",
        "|자전거길 | 영산강자전거길 | 남한강자전거길 | 동해안자전거길 | 낙동강자전거길 | 북한강자전거길\n",
        "\n",
        "`[2-30] 여 : 5,163(38.0%), 남 : 8,414(62.0%)`\n",
        "\n",
        "|Age|관심인구|Car|job|\n",
        "|--|--|--|--|\n",
        "|2-30|13,577(57.8%)|3,385(24.9%)|4,951(36.5%)\n",
        "|20|6,363(27.1%)|661(4.9%) | 1,258(9.3%)\n",
        "|30|7,214(30.7%)|2,724(20.1%)|3,693(27.2%)\n",
        "\n",
        "---\n",
        "\n",
        "### df4 : 자전거코스/자전거길 관심인구 자전거용품 검색 정보 (Total : 3,200)\n",
        "\n",
        "|순위| 1 | 2 | 3 | 4 | 5 |\n",
        "|--|--|--|--|--|--|\n",
        "|거주지 230 | 서울 | 경기 | 인천 | 부산 | 대구\n",
        "|카테고리 | 자전거 | 자전거액세서리 | 자전거의류/잡화 | 보호대 | 헬멧\n",
        "|거주지 20 | 서울 | 경기 | 부산 | 인천 | 대구\n",
        "|카테고리 | 자전거 | 자전거액세서리 | 자전거의류/잡화 | 보호대 | 헬멧/보호장비\n",
        "|거주지 30 | 서울 | 경기 | 인천 | 부산 | 대구\n",
        "|카테고리 | 자전거 | 자전거액세서리 | 자전거의류/잡화 | 헬멧 | 보호대\n",
        "|||||||\n",
        "|거주지 450 | 경기 | 서울 | 인천 | 경북 | 부산\n",
        "|카테고리 | 자전거 | 자전거액세서리 | 자전거의류/잡화 | 헬멧 | MTB\n",
        "\n",
        "> MTB : mountain bike\n",
        "\n",
        "`[2-30] 여 : 701(37.9%), 남 : 1,149(62.1%)`\n",
        "\n",
        "|Age|관심인구|Car|job|\n",
        "|--|--|--|--|\n",
        "|2-30|1,850(57.8%)|470(25.4%)|655(35.4%)\n",
        "|20|867(27.1%)|96(5.2%) | 175(9.5%)\n",
        "|30|983(30.7%)|374(20.2%)|480(25.9%)\n",
        "\n",
        "---\n",
        "\n",
        "### df5 : 산림치유원 관심인구 선호 산림치유원 검색 정보 (Total : 737)\n",
        "\n",
        "|순위| 1 | 2 | 3 | 4 | 5 |\n",
        "|--|--|--|--|--|--|\n",
        "|거주지 230 | 서울 | 경기 | 부산 | 인천 | 대구\n",
        "|치유원 | 산림치유원 | 치유의숲 | 숲체원 | 횡성숲체원 |  \n",
        "|거주지 20 | 경기 | 서울 | 인천 | 강원 | 경북\n",
        "|치유원 (경기) | 산림치유원 |  |  |  |\n",
        "|거주지 30 | 서울 | 경기 | 대구 | 부산 | 인천\n",
        "|치유원 | 산림치유원 | 치유의숲 | 숲체원 | 횡성숲체원 |\n",
        "|||||||\n",
        "|거주지 450 | 서울 | 경기 | 강원 | 부산 | 대구\n",
        "|치유원 | 산림치유원 | 치유의숲 |  |  |\n",
        "\n",
        "`[2-30] 여 : 269(72.9%), 남 : 100(27.1%)`\n",
        "\n",
        "|Age|관심인구|Car|job|\n",
        "|--|--|--|--|\n",
        "|2-30|369(50.1%)|128(34.7%)|157(42.5%)\n",
        "|20|100(13.6%)|10(2.7%) | 21(5.7%)\n",
        "|30|269(36.5%)|118(32.0%)|136(36.9%)"
      ],
      "metadata": {
        "id": "cxAiQ7G3daae"
      }
    },
    {
      "cell_type": "markdown",
      "source": [
        "10대는 부모의 영향  \n",
        "길 & 코스 & 자전거 -> 남자  \n",
        "인터넷 쇼핑 & 치유원 -> 여자"
      ],
      "metadata": {
        "id": "_r4mWxdmwswF"
      }
    },
    {
      "cell_type": "markdown",
      "source": [
        "---\n",
        "---\n",
        "# df1 : 국립공원 관심인구 정보 (Total : 19,910)"
      ],
      "metadata": {
        "id": "UiL9NghznLts"
      }
    },
    {
      "cell_type": "code",
      "source": [
        "len(df1)"
      ],
      "metadata": {
        "colab": {
          "base_uri": "https://localhost:8080/"
        },
        "id": "4uupFVAIQYZQ",
        "outputId": "6d09e678-e064-425b-f5a0-efad72161877"
      },
      "execution_count": null,
      "outputs": [
        {
          "output_type": "execute_result",
          "data": {
            "text/plain": [
              "19910"
            ]
          },
          "metadata": {},
          "execution_count": 129
        }
      ]
    },
    {
      "cell_type": "code",
      "source": [
        "df1.head()"
      ],
      "metadata": {
        "colab": {
          "base_uri": "https://localhost:8080/",
          "height": 649
        },
        "id": "popY0YyWm57k",
        "outputId": "7849a153-7edd-4649-904a-becb334d5e28"
      },
      "execution_count": null,
      "outputs": [
        {
          "output_type": "execute_result",
          "data": {
            "text/plain": [
              "  국립공원                                      사이트제목 성별  연령  \\\n",
              "0  지리산                             지리산 : 네이버 통합검색  M   3   \n",
              "1  지리산                                        지리산  M   3   \n",
              "2  흑산도  전주 횟집 추천 다농 3층 흑산도13호 가성비 대박이네! : 네이버 블로그  F   3   \n",
              "3  흑산도              전주 횟집 추천 흑산도13호 으뜸! : 네이버 블로그  F   3   \n",
              "4  흑산도       전주 송천동 횟집 다농3층 흑산도 13호 갑!! : 네이버 블로그  F   3   \n",
              "\n",
              "                       직업         소득     결혼          자녀             주거  시도  \\\n",
              "0  사무직 (일반사무직, 공무원, 직업군인)  600~699만원    아니오              연립주택/ 다세대/ 빌라  서울   \n",
              "1  사무직 (일반사무직, 공무원, 직업군인)  600~699만원    아니오              연립주택/ 다세대/ 빌라  서울   \n",
              "2  판매직 (상점점원, 보험설계사, 노점상)  200~299만원  예          자녀 있음            단독주택  전북   \n",
              "3  판매직 (상점점원, 보험설계사, 노점상)  200~299만원  예          자녀 있음            단독주택  전북   \n",
              "4  판매직 (상점점원, 보험설계사, 노점상)  200~299만원  예          자녀 있음            단독주택  전북   \n",
              "\n",
              "      구      동             자동차  \n",
              "0  동대문구  답십리2동  경차 (모닝, 스파크 등)  \n",
              "1  동대문구  답십리2동  경차 (모닝, 스파크 등)  \n",
              "2   장수군    천천면             NaN  \n",
              "3   장수군    천천면             NaN  \n",
              "4   장수군    천천면             NaN  "
            ],
            "text/html": [
              "\n",
              "  <div id=\"df-1f240cf5-8e7b-4c1a-bc18-72c7c8c3bbef\">\n",
              "    <div class=\"colab-df-container\">\n",
              "      <div>\n",
              "<style scoped>\n",
              "    .dataframe tbody tr th:only-of-type {\n",
              "        vertical-align: middle;\n",
              "    }\n",
              "\n",
              "    .dataframe tbody tr th {\n",
              "        vertical-align: top;\n",
              "    }\n",
              "\n",
              "    .dataframe thead th {\n",
              "        text-align: right;\n",
              "    }\n",
              "</style>\n",
              "<table border=\"1\" class=\"dataframe\">\n",
              "  <thead>\n",
              "    <tr style=\"text-align: right;\">\n",
              "      <th></th>\n",
              "      <th>국립공원</th>\n",
              "      <th>사이트제목</th>\n",
              "      <th>성별</th>\n",
              "      <th>연령</th>\n",
              "      <th>직업</th>\n",
              "      <th>소득</th>\n",
              "      <th>결혼</th>\n",
              "      <th>자녀</th>\n",
              "      <th>주거</th>\n",
              "      <th>시도</th>\n",
              "      <th>구</th>\n",
              "      <th>동</th>\n",
              "      <th>자동차</th>\n",
              "    </tr>\n",
              "  </thead>\n",
              "  <tbody>\n",
              "    <tr>\n",
              "      <th>0</th>\n",
              "      <td>지리산</td>\n",
              "      <td>지리산 : 네이버 통합검색</td>\n",
              "      <td>M</td>\n",
              "      <td>3</td>\n",
              "      <td>사무직 (일반사무직, 공무원, 직업군인)</td>\n",
              "      <td>600~699만원</td>\n",
              "      <td>아니오</td>\n",
              "      <td></td>\n",
              "      <td>연립주택/ 다세대/ 빌라</td>\n",
              "      <td>서울</td>\n",
              "      <td>동대문구</td>\n",
              "      <td>답십리2동</td>\n",
              "      <td>경차 (모닝, 스파크 등)</td>\n",
              "    </tr>\n",
              "    <tr>\n",
              "      <th>1</th>\n",
              "      <td>지리산</td>\n",
              "      <td>지리산</td>\n",
              "      <td>M</td>\n",
              "      <td>3</td>\n",
              "      <td>사무직 (일반사무직, 공무원, 직업군인)</td>\n",
              "      <td>600~699만원</td>\n",
              "      <td>아니오</td>\n",
              "      <td></td>\n",
              "      <td>연립주택/ 다세대/ 빌라</td>\n",
              "      <td>서울</td>\n",
              "      <td>동대문구</td>\n",
              "      <td>답십리2동</td>\n",
              "      <td>경차 (모닝, 스파크 등)</td>\n",
              "    </tr>\n",
              "    <tr>\n",
              "      <th>2</th>\n",
              "      <td>흑산도</td>\n",
              "      <td>전주 횟집 추천 다농 3층 흑산도13호 가성비 대박이네! : 네이버 블로그</td>\n",
              "      <td>F</td>\n",
              "      <td>3</td>\n",
              "      <td>판매직 (상점점원, 보험설계사, 노점상)</td>\n",
              "      <td>200~299만원</td>\n",
              "      <td>예</td>\n",
              "      <td>자녀 있음</td>\n",
              "      <td>단독주택</td>\n",
              "      <td>전북</td>\n",
              "      <td>장수군</td>\n",
              "      <td>천천면</td>\n",
              "      <td>NaN</td>\n",
              "    </tr>\n",
              "    <tr>\n",
              "      <th>3</th>\n",
              "      <td>흑산도</td>\n",
              "      <td>전주 횟집 추천 흑산도13호 으뜸! : 네이버 블로그</td>\n",
              "      <td>F</td>\n",
              "      <td>3</td>\n",
              "      <td>판매직 (상점점원, 보험설계사, 노점상)</td>\n",
              "      <td>200~299만원</td>\n",
              "      <td>예</td>\n",
              "      <td>자녀 있음</td>\n",
              "      <td>단독주택</td>\n",
              "      <td>전북</td>\n",
              "      <td>장수군</td>\n",
              "      <td>천천면</td>\n",
              "      <td>NaN</td>\n",
              "    </tr>\n",
              "    <tr>\n",
              "      <th>4</th>\n",
              "      <td>흑산도</td>\n",
              "      <td>전주 송천동 횟집 다농3층 흑산도 13호 갑!! : 네이버 블로그</td>\n",
              "      <td>F</td>\n",
              "      <td>3</td>\n",
              "      <td>판매직 (상점점원, 보험설계사, 노점상)</td>\n",
              "      <td>200~299만원</td>\n",
              "      <td>예</td>\n",
              "      <td>자녀 있음</td>\n",
              "      <td>단독주택</td>\n",
              "      <td>전북</td>\n",
              "      <td>장수군</td>\n",
              "      <td>천천면</td>\n",
              "      <td>NaN</td>\n",
              "    </tr>\n",
              "  </tbody>\n",
              "</table>\n",
              "</div>\n",
              "      <button class=\"colab-df-convert\" onclick=\"convertToInteractive('df-1f240cf5-8e7b-4c1a-bc18-72c7c8c3bbef')\"\n",
              "              title=\"Convert this dataframe to an interactive table.\"\n",
              "              style=\"display:none;\">\n",
              "        \n",
              "  <svg xmlns=\"http://www.w3.org/2000/svg\" height=\"24px\"viewBox=\"0 0 24 24\"\n",
              "       width=\"24px\">\n",
              "    <path d=\"M0 0h24v24H0V0z\" fill=\"none\"/>\n",
              "    <path d=\"M18.56 5.44l.94 2.06.94-2.06 2.06-.94-2.06-.94-.94-2.06-.94 2.06-2.06.94zm-11 1L8.5 8.5l.94-2.06 2.06-.94-2.06-.94L8.5 2.5l-.94 2.06-2.06.94zm10 10l.94 2.06.94-2.06 2.06-.94-2.06-.94-.94-2.06-.94 2.06-2.06.94z\"/><path d=\"M17.41 7.96l-1.37-1.37c-.4-.4-.92-.59-1.43-.59-.52 0-1.04.2-1.43.59L10.3 9.45l-7.72 7.72c-.78.78-.78 2.05 0 2.83L4 21.41c.39.39.9.59 1.41.59.51 0 1.02-.2 1.41-.59l7.78-7.78 2.81-2.81c.8-.78.8-2.07 0-2.86zM5.41 20L4 18.59l7.72-7.72 1.47 1.35L5.41 20z\"/>\n",
              "  </svg>\n",
              "      </button>\n",
              "      \n",
              "  <style>\n",
              "    .colab-df-container {\n",
              "      display:flex;\n",
              "      flex-wrap:wrap;\n",
              "      gap: 12px;\n",
              "    }\n",
              "\n",
              "    .colab-df-convert {\n",
              "      background-color: #E8F0FE;\n",
              "      border: none;\n",
              "      border-radius: 50%;\n",
              "      cursor: pointer;\n",
              "      display: none;\n",
              "      fill: #1967D2;\n",
              "      height: 32px;\n",
              "      padding: 0 0 0 0;\n",
              "      width: 32px;\n",
              "    }\n",
              "\n",
              "    .colab-df-convert:hover {\n",
              "      background-color: #E2EBFA;\n",
              "      box-shadow: 0px 1px 2px rgba(60, 64, 67, 0.3), 0px 1px 3px 1px rgba(60, 64, 67, 0.15);\n",
              "      fill: #174EA6;\n",
              "    }\n",
              "\n",
              "    [theme=dark] .colab-df-convert {\n",
              "      background-color: #3B4455;\n",
              "      fill: #D2E3FC;\n",
              "    }\n",
              "\n",
              "    [theme=dark] .colab-df-convert:hover {\n",
              "      background-color: #434B5C;\n",
              "      box-shadow: 0px 1px 3px 1px rgba(0, 0, 0, 0.15);\n",
              "      filter: drop-shadow(0px 1px 2px rgba(0, 0, 0, 0.3));\n",
              "      fill: #FFFFFF;\n",
              "    }\n",
              "  </style>\n",
              "\n",
              "      <script>\n",
              "        const buttonEl =\n",
              "          document.querySelector('#df-1f240cf5-8e7b-4c1a-bc18-72c7c8c3bbef button.colab-df-convert');\n",
              "        buttonEl.style.display =\n",
              "          google.colab.kernel.accessAllowed ? 'block' : 'none';\n",
              "\n",
              "        async function convertToInteractive(key) {\n",
              "          const element = document.querySelector('#df-1f240cf5-8e7b-4c1a-bc18-72c7c8c3bbef');\n",
              "          const dataTable =\n",
              "            await google.colab.kernel.invokeFunction('convertToInteractive',\n",
              "                                                     [key], {});\n",
              "          if (!dataTable) return;\n",
              "\n",
              "          const docLinkHtml = 'Like what you see? Visit the ' +\n",
              "            '<a target=\"_blank\" href=https://colab.research.google.com/notebooks/data_table.ipynb>data table notebook</a>'\n",
              "            + ' to learn more about interactive tables.';\n",
              "          element.innerHTML = '';\n",
              "          dataTable['output_type'] = 'display_data';\n",
              "          await google.colab.output.renderOutput(dataTable, element);\n",
              "          const docLink = document.createElement('div');\n",
              "          docLink.innerHTML = docLinkHtml;\n",
              "          element.appendChild(docLink);\n",
              "        }\n",
              "      </script>\n",
              "    </div>\n",
              "  </div>\n",
              "  "
            ]
          },
          "metadata": {},
          "execution_count": 136
        }
      ]
    },
    {
      "cell_type": "code",
      "source": [
        "age_counts = df1['연령'].value_counts()\n",
        "age_counts"
      ],
      "metadata": {
        "colab": {
          "base_uri": "https://localhost:8080/"
        },
        "id": "nFXIYcxvm-Zx",
        "outputId": "17602168-5da1-4c4b-f704-66bd1d9c256a"
      },
      "execution_count": null,
      "outputs": [
        {
          "output_type": "execute_result",
          "data": {
            "text/plain": [
              "3    8329\n",
              "4    6401\n",
              "2    2732\n",
              "5    2256\n",
              "1     174\n",
              "6      18\n",
              "Name: 연령, dtype: int64"
            ]
          },
          "metadata": {},
          "execution_count": 137
        }
      ]
    },
    {
      "cell_type": "code",
      "source": [
        "age_counts.loc[[2,3]].sum()"
      ],
      "metadata": {
        "colab": {
          "base_uri": "https://localhost:8080/"
        },
        "id": "6SFkCtWOUutO",
        "outputId": "b4d7e600-f695-48ba-8c60-aa2edc963f08"
      },
      "execution_count": null,
      "outputs": [
        {
          "output_type": "execute_result",
          "data": {
            "text/plain": [
              "11061"
            ]
          },
          "metadata": {},
          "execution_count": 138
        }
      ]
    },
    {
      "cell_type": "code",
      "source": [
        "round(age_counts.loc[[2,3]].sum() / age_counts.sum() * 100, 1),\\\n",
        "round(age_counts.loc[2] / age_counts.sum() * 100, 1),\\\n",
        "round(age_counts.loc[3] / age_counts.sum() * 100, 1),\\\n",
        "round(age_counts.drop([2,3]).sum() / age_counts.sum() * 100, 1)"
      ],
      "metadata": {
        "colab": {
          "base_uri": "https://localhost:8080/"
        },
        "id": "CHtJU2W5ntqv",
        "outputId": "ad573380-4805-43df-f835-1db019eedc6a"
      },
      "execution_count": null,
      "outputs": [
        {
          "output_type": "execute_result",
          "data": {
            "text/plain": [
              "(55.6, 13.7, 41.8, 44.4)"
            ]
          },
          "metadata": {},
          "execution_count": 90
        }
      ]
    },
    {
      "cell_type": "code",
      "source": [
        "df1_23 = df1[df1['연령'].isin([2, 3])]\n",
        "df1_2 = df1[(df1['연령'] == 2)]\n",
        "df1_3 = df1[(df1['연령'] == 3)]\n",
        "df1_1456 = df1[df1['연령'].isin([1, 4, 5, 6])]"
      ],
      "metadata": {
        "id": "UV31QRX1t8nC"
      },
      "execution_count": null,
      "outputs": []
    },
    {
      "cell_type": "code",
      "source": [
        "df1_23.head()"
      ],
      "metadata": {
        "colab": {
          "base_uri": "https://localhost:8080/",
          "height": 649
        },
        "id": "yZHpHcnkCKoA",
        "outputId": "e145a46b-a2f7-4060-c5f2-57593e4610e2"
      },
      "execution_count": null,
      "outputs": [
        {
          "output_type": "execute_result",
          "data": {
            "text/plain": [
              "  국립공원                                      사이트제목 성별  연령  \\\n",
              "0  지리산                             지리산 : 네이버 통합검색  M   3   \n",
              "1  지리산                                        지리산  M   3   \n",
              "2  흑산도  전주 횟집 추천 다농 3층 흑산도13호 가성비 대박이네! : 네이버 블로그  F   3   \n",
              "3  흑산도              전주 횟집 추천 흑산도13호 으뜸! : 네이버 블로그  F   3   \n",
              "4  흑산도       전주 송천동 횟집 다농3층 흑산도 13호 갑!! : 네이버 블로그  F   3   \n",
              "\n",
              "                       직업         소득     결혼          자녀             주거  시도  \\\n",
              "0  사무직 (일반사무직, 공무원, 직업군인)  600~699만원    아니오              연립주택/ 다세대/ 빌라  서울   \n",
              "1  사무직 (일반사무직, 공무원, 직업군인)  600~699만원    아니오              연립주택/ 다세대/ 빌라  서울   \n",
              "2  판매직 (상점점원, 보험설계사, 노점상)  200~299만원  예          자녀 있음            단독주택  전북   \n",
              "3  판매직 (상점점원, 보험설계사, 노점상)  200~299만원  예          자녀 있음            단독주택  전북   \n",
              "4  판매직 (상점점원, 보험설계사, 노점상)  200~299만원  예          자녀 있음            단독주택  전북   \n",
              "\n",
              "      구      동             자동차  \n",
              "0  동대문구  답십리2동  경차 (모닝, 스파크 등)  \n",
              "1  동대문구  답십리2동  경차 (모닝, 스파크 등)  \n",
              "2   장수군    천천면             NaN  \n",
              "3   장수군    천천면             NaN  \n",
              "4   장수군    천천면             NaN  "
            ],
            "text/html": [
              "\n",
              "  <div id=\"df-567f7f5e-1020-403e-92c0-44694f8bf289\">\n",
              "    <div class=\"colab-df-container\">\n",
              "      <div>\n",
              "<style scoped>\n",
              "    .dataframe tbody tr th:only-of-type {\n",
              "        vertical-align: middle;\n",
              "    }\n",
              "\n",
              "    .dataframe tbody tr th {\n",
              "        vertical-align: top;\n",
              "    }\n",
              "\n",
              "    .dataframe thead th {\n",
              "        text-align: right;\n",
              "    }\n",
              "</style>\n",
              "<table border=\"1\" class=\"dataframe\">\n",
              "  <thead>\n",
              "    <tr style=\"text-align: right;\">\n",
              "      <th></th>\n",
              "      <th>국립공원</th>\n",
              "      <th>사이트제목</th>\n",
              "      <th>성별</th>\n",
              "      <th>연령</th>\n",
              "      <th>직업</th>\n",
              "      <th>소득</th>\n",
              "      <th>결혼</th>\n",
              "      <th>자녀</th>\n",
              "      <th>주거</th>\n",
              "      <th>시도</th>\n",
              "      <th>구</th>\n",
              "      <th>동</th>\n",
              "      <th>자동차</th>\n",
              "    </tr>\n",
              "  </thead>\n",
              "  <tbody>\n",
              "    <tr>\n",
              "      <th>0</th>\n",
              "      <td>지리산</td>\n",
              "      <td>지리산 : 네이버 통합검색</td>\n",
              "      <td>M</td>\n",
              "      <td>3</td>\n",
              "      <td>사무직 (일반사무직, 공무원, 직업군인)</td>\n",
              "      <td>600~699만원</td>\n",
              "      <td>아니오</td>\n",
              "      <td></td>\n",
              "      <td>연립주택/ 다세대/ 빌라</td>\n",
              "      <td>서울</td>\n",
              "      <td>동대문구</td>\n",
              "      <td>답십리2동</td>\n",
              "      <td>경차 (모닝, 스파크 등)</td>\n",
              "    </tr>\n",
              "    <tr>\n",
              "      <th>1</th>\n",
              "      <td>지리산</td>\n",
              "      <td>지리산</td>\n",
              "      <td>M</td>\n",
              "      <td>3</td>\n",
              "      <td>사무직 (일반사무직, 공무원, 직업군인)</td>\n",
              "      <td>600~699만원</td>\n",
              "      <td>아니오</td>\n",
              "      <td></td>\n",
              "      <td>연립주택/ 다세대/ 빌라</td>\n",
              "      <td>서울</td>\n",
              "      <td>동대문구</td>\n",
              "      <td>답십리2동</td>\n",
              "      <td>경차 (모닝, 스파크 등)</td>\n",
              "    </tr>\n",
              "    <tr>\n",
              "      <th>2</th>\n",
              "      <td>흑산도</td>\n",
              "      <td>전주 횟집 추천 다농 3층 흑산도13호 가성비 대박이네! : 네이버 블로그</td>\n",
              "      <td>F</td>\n",
              "      <td>3</td>\n",
              "      <td>판매직 (상점점원, 보험설계사, 노점상)</td>\n",
              "      <td>200~299만원</td>\n",
              "      <td>예</td>\n",
              "      <td>자녀 있음</td>\n",
              "      <td>단독주택</td>\n",
              "      <td>전북</td>\n",
              "      <td>장수군</td>\n",
              "      <td>천천면</td>\n",
              "      <td>NaN</td>\n",
              "    </tr>\n",
              "    <tr>\n",
              "      <th>3</th>\n",
              "      <td>흑산도</td>\n",
              "      <td>전주 횟집 추천 흑산도13호 으뜸! : 네이버 블로그</td>\n",
              "      <td>F</td>\n",
              "      <td>3</td>\n",
              "      <td>판매직 (상점점원, 보험설계사, 노점상)</td>\n",
              "      <td>200~299만원</td>\n",
              "      <td>예</td>\n",
              "      <td>자녀 있음</td>\n",
              "      <td>단독주택</td>\n",
              "      <td>전북</td>\n",
              "      <td>장수군</td>\n",
              "      <td>천천면</td>\n",
              "      <td>NaN</td>\n",
              "    </tr>\n",
              "    <tr>\n",
              "      <th>4</th>\n",
              "      <td>흑산도</td>\n",
              "      <td>전주 송천동 횟집 다농3층 흑산도 13호 갑!! : 네이버 블로그</td>\n",
              "      <td>F</td>\n",
              "      <td>3</td>\n",
              "      <td>판매직 (상점점원, 보험설계사, 노점상)</td>\n",
              "      <td>200~299만원</td>\n",
              "      <td>예</td>\n",
              "      <td>자녀 있음</td>\n",
              "      <td>단독주택</td>\n",
              "      <td>전북</td>\n",
              "      <td>장수군</td>\n",
              "      <td>천천면</td>\n",
              "      <td>NaN</td>\n",
              "    </tr>\n",
              "  </tbody>\n",
              "</table>\n",
              "</div>\n",
              "      <button class=\"colab-df-convert\" onclick=\"convertToInteractive('df-567f7f5e-1020-403e-92c0-44694f8bf289')\"\n",
              "              title=\"Convert this dataframe to an interactive table.\"\n",
              "              style=\"display:none;\">\n",
              "        \n",
              "  <svg xmlns=\"http://www.w3.org/2000/svg\" height=\"24px\"viewBox=\"0 0 24 24\"\n",
              "       width=\"24px\">\n",
              "    <path d=\"M0 0h24v24H0V0z\" fill=\"none\"/>\n",
              "    <path d=\"M18.56 5.44l.94 2.06.94-2.06 2.06-.94-2.06-.94-.94-2.06-.94 2.06-2.06.94zm-11 1L8.5 8.5l.94-2.06 2.06-.94-2.06-.94L8.5 2.5l-.94 2.06-2.06.94zm10 10l.94 2.06.94-2.06 2.06-.94-2.06-.94-.94-2.06-.94 2.06-2.06.94z\"/><path d=\"M17.41 7.96l-1.37-1.37c-.4-.4-.92-.59-1.43-.59-.52 0-1.04.2-1.43.59L10.3 9.45l-7.72 7.72c-.78.78-.78 2.05 0 2.83L4 21.41c.39.39.9.59 1.41.59.51 0 1.02-.2 1.41-.59l7.78-7.78 2.81-2.81c.8-.78.8-2.07 0-2.86zM5.41 20L4 18.59l7.72-7.72 1.47 1.35L5.41 20z\"/>\n",
              "  </svg>\n",
              "      </button>\n",
              "      \n",
              "  <style>\n",
              "    .colab-df-container {\n",
              "      display:flex;\n",
              "      flex-wrap:wrap;\n",
              "      gap: 12px;\n",
              "    }\n",
              "\n",
              "    .colab-df-convert {\n",
              "      background-color: #E8F0FE;\n",
              "      border: none;\n",
              "      border-radius: 50%;\n",
              "      cursor: pointer;\n",
              "      display: none;\n",
              "      fill: #1967D2;\n",
              "      height: 32px;\n",
              "      padding: 0 0 0 0;\n",
              "      width: 32px;\n",
              "    }\n",
              "\n",
              "    .colab-df-convert:hover {\n",
              "      background-color: #E2EBFA;\n",
              "      box-shadow: 0px 1px 2px rgba(60, 64, 67, 0.3), 0px 1px 3px 1px rgba(60, 64, 67, 0.15);\n",
              "      fill: #174EA6;\n",
              "    }\n",
              "\n",
              "    [theme=dark] .colab-df-convert {\n",
              "      background-color: #3B4455;\n",
              "      fill: #D2E3FC;\n",
              "    }\n",
              "\n",
              "    [theme=dark] .colab-df-convert:hover {\n",
              "      background-color: #434B5C;\n",
              "      box-shadow: 0px 1px 3px 1px rgba(0, 0, 0, 0.15);\n",
              "      filter: drop-shadow(0px 1px 2px rgba(0, 0, 0, 0.3));\n",
              "      fill: #FFFFFF;\n",
              "    }\n",
              "  </style>\n",
              "\n",
              "      <script>\n",
              "        const buttonEl =\n",
              "          document.querySelector('#df-567f7f5e-1020-403e-92c0-44694f8bf289 button.colab-df-convert');\n",
              "        buttonEl.style.display =\n",
              "          google.colab.kernel.accessAllowed ? 'block' : 'none';\n",
              "\n",
              "        async function convertToInteractive(key) {\n",
              "          const element = document.querySelector('#df-567f7f5e-1020-403e-92c0-44694f8bf289');\n",
              "          const dataTable =\n",
              "            await google.colab.kernel.invokeFunction('convertToInteractive',\n",
              "                                                     [key], {});\n",
              "          if (!dataTable) return;\n",
              "\n",
              "          const docLinkHtml = 'Like what you see? Visit the ' +\n",
              "            '<a target=\"_blank\" href=https://colab.research.google.com/notebooks/data_table.ipynb>data table notebook</a>'\n",
              "            + ' to learn more about interactive tables.';\n",
              "          element.innerHTML = '';\n",
              "          dataTable['output_type'] = 'display_data';\n",
              "          await google.colab.output.renderOutput(dataTable, element);\n",
              "          const docLink = document.createElement('div');\n",
              "          docLink.innerHTML = docLinkHtml;\n",
              "          element.appendChild(docLink);\n",
              "        }\n",
              "      </script>\n",
              "    </div>\n",
              "  </div>\n",
              "  "
            ]
          },
          "metadata": {},
          "execution_count": 92
        }
      ]
    },
    {
      "cell_type": "markdown",
      "source": [
        "### 230대 성별"
      ],
      "metadata": {
        "id": "7082Q-e7w-bC"
      }
    },
    {
      "cell_type": "code",
      "source": [
        "sex_counts = df1_23['성별'].value_counts()\n",
        "sex_counts"
      ],
      "metadata": {
        "colab": {
          "base_uri": "https://localhost:8080/"
        },
        "id": "1YUYo0IJDyLt",
        "outputId": "89c21b66-4d5a-4fe5-ce25-d8a3b8cace0c"
      },
      "execution_count": null,
      "outputs": [
        {
          "output_type": "execute_result",
          "data": {
            "text/plain": [
              "F    9410\n",
              "M    1651\n",
              "Name: 성별, dtype: int64"
            ]
          },
          "metadata": {},
          "execution_count": 93
        }
      ]
    },
    {
      "cell_type": "code",
      "source": [
        "round(sex_counts.loc['F'] / sex_counts.sum() * 100 , 1),\\\n",
        "round(sex_counts.loc['M'] / sex_counts.sum() * 100 , 1)"
      ],
      "metadata": {
        "colab": {
          "base_uri": "https://localhost:8080/"
        },
        "id": "mmykcmq4rbk_",
        "outputId": "da3b899d-8cdd-4724-cbcb-82d730b49f3d"
      },
      "execution_count": null,
      "outputs": [
        {
          "output_type": "execute_result",
          "data": {
            "text/plain": [
              "(85.1, 14.9)"
            ]
          },
          "metadata": {},
          "execution_count": 94
        }
      ]
    },
    {
      "cell_type": "markdown",
      "source": [
        "### 230대 직업"
      ],
      "metadata": {
        "id": "1Kzp-toTr7_x"
      }
    },
    {
      "cell_type": "code",
      "source": [
        "df1_23['직업'].notnull().sum(), df1_23['소득'].notnull().sum()"
      ],
      "metadata": {
        "colab": {
          "base_uri": "https://localhost:8080/"
        },
        "id": "kGwbriHbCdTb",
        "outputId": "2994b5b3-b87b-47f6-d352-8fe8087511ed"
      },
      "execution_count": null,
      "outputs": [
        {
          "output_type": "execute_result",
          "data": {
            "text/plain": [
              "(11054, 11054)"
            ]
          },
          "metadata": {},
          "execution_count": 95
        }
      ]
    },
    {
      "cell_type": "code",
      "source": [
        "job_counts = df1_23['직업'].value_counts()\n",
        "job_counts"
      ],
      "metadata": {
        "colab": {
          "base_uri": "https://localhost:8080/"
        },
        "id": "QsaUaF-7s3ac",
        "outputId": "2b604b3e-4c80-4fcc-d729-e36216176857"
      },
      "execution_count": null,
      "outputs": [
        {
          "output_type": "execute_result",
          "data": {
            "text/plain": [
              "사무직 (일반사무직, 공무원, 직업군인)             3676\n",
              "주부 (전업주부, 파트타임 근무 주부)              2362\n",
              "전문직 (의사, 판검사, 예술가, 종교인)            1575\n",
              "교직 (교사, 유치원교사, 학원강사)               1048\n",
              "학생 (초중고학생, 대학생, 대학원생)               692\n",
              "무직                                  361\n",
              "자영업 (도소매업, 숙박업, 미용업)                340\n",
              "서비스직 (요식업, 숙박업, 미용실종업원)             250\n",
              "관리직 (사장, 간부, 고위공무원)                 231\n",
              "생산/노무직 (생산감독, 경비원, 공장근로자)           193\n",
              "기타                                  165\n",
              "기능직 (자동차정비, 운전기사, 안경사, 택시기사)         84\n",
              "판매직 (상점점원, 보험설계사, 노점상)               59\n",
              "퇴직/연금생활자                             17\n",
              "농/축/광/수산업 (축산, 낙농업, 수산, 임업, 광업)       1\n",
              "Name: 직업, dtype: int64"
            ]
          },
          "metadata": {},
          "execution_count": 96
        }
      ]
    },
    {
      "cell_type": "code",
      "source": [
        "drop_jobs = job_counts[job_counts.index.str.contains('학생|퇴직|주부')]\n",
        "drop_jobs"
      ],
      "metadata": {
        "colab": {
          "base_uri": "https://localhost:8080/"
        },
        "id": "AgH1qBUSs7EH",
        "outputId": "6d328283-823d-41d6-ffa0-3ede3070f27c"
      },
      "execution_count": null,
      "outputs": [
        {
          "output_type": "execute_result",
          "data": {
            "text/plain": [
              "주부 (전업주부, 파트타임 근무 주부)    2362\n",
              "학생 (초중고학생, 대학생, 대학원생)     692\n",
              "퇴직/연금생활자                   17\n",
              "Name: 직업, dtype: int64"
            ]
          },
          "metadata": {},
          "execution_count": 97
        }
      ]
    },
    {
      "cell_type": "code",
      "source": [
        "round((job_counts.sum() - drop_jobs.sum() - job_counts['무직']) / len(df1_23) * 100, 1),\\\n",
        "job_counts.sum() - drop_jobs.sum() - job_counts['무직']"
      ],
      "metadata": {
        "colab": {
          "base_uri": "https://localhost:8080/"
        },
        "id": "91JWewIptKJj",
        "outputId": "a7b19a9a-99b5-49f1-ee68-37f086096315"
      },
      "execution_count": null,
      "outputs": [
        {
          "output_type": "execute_result",
          "data": {
            "text/plain": [
              "(68.9, 7622)"
            ]
          },
          "metadata": {},
          "execution_count": 98
        }
      ]
    },
    {
      "cell_type": "code",
      "source": [
        "job2_counts = df1_2['직업'].value_counts()\n",
        "job3_counts = df1_3['직업'].value_counts()"
      ],
      "metadata": {
        "id": "kxQnZbBuujHJ"
      },
      "execution_count": null,
      "outputs": []
    },
    {
      "cell_type": "code",
      "source": [
        "drop2_jobs = job2_counts[job2_counts.index.str.contains('학생|퇴직|주부')]\n",
        "drop3_jobs = job3_counts[job3_counts.index.str.contains('학생|퇴직|주부')]\n",
        "drop3_jobs"
      ],
      "metadata": {
        "colab": {
          "base_uri": "https://localhost:8080/"
        },
        "id": "OAiHSAVGtKGF",
        "outputId": "0dbabb3a-14b7-45b3-90f5-6eecbb5ed060"
      },
      "execution_count": null,
      "outputs": [
        {
          "output_type": "execute_result",
          "data": {
            "text/plain": [
              "주부 (전업주부, 파트타임 근무 주부)    2331\n",
              "학생 (초중고학생, 대학생, 대학원생)      45\n",
              "퇴직/연금생활자                   10\n",
              "Name: 직업, dtype: int64"
            ]
          },
          "metadata": {},
          "execution_count": 100
        }
      ]
    },
    {
      "cell_type": "code",
      "source": [
        "round((job2_counts.sum() - drop2_jobs.sum() - job2_counts['무직']) / len(df1_23) * 100, 1),\\\n",
        "job2_counts.sum() - drop2_jobs.sum() - job2_counts['무직'],\\\n",
        "round((job3_counts.sum() - drop3_jobs.sum() - job3_counts['무직']) / len(df1_23) * 100, 1),\\\n",
        "job3_counts.sum() - drop3_jobs.sum() - job3_counts['무직']"
      ],
      "metadata": {
        "colab": {
          "base_uri": "https://localhost:8080/"
        },
        "id": "wptWgYKhu_La",
        "outputId": "636bafdf-92b0-46d4-eeaf-79c683729676"
      },
      "execution_count": null,
      "outputs": [
        {
          "output_type": "execute_result",
          "data": {
            "text/plain": [
              "(17.2, 1902, 51.7, 5720)"
            ]
          },
          "metadata": {},
          "execution_count": 101
        }
      ]
    },
    {
      "cell_type": "markdown",
      "source": [
        "### 230대 자동차"
      ],
      "metadata": {
        "id": "FUPfNghvvwH1"
      }
    },
    {
      "cell_type": "code",
      "source": [
        "car_counts = df1_23['자동차'].value_counts()\n",
        "car_counts"
      ],
      "metadata": {
        "colab": {
          "base_uri": "https://localhost:8080/"
        },
        "id": "sE3CR3rnu_Hl",
        "outputId": "513615a2-e854-494a-8590-dfa58ac08fe4"
      },
      "execution_count": null,
      "outputs": [
        {
          "output_type": "execute_result",
          "data": {
            "text/plain": [
              "경차 (모닝, 스파크 등)                      2037\n",
              "준중형차 (아반떼, K3, 크루즈, 제타급 등)          1377\n",
              "중형차 (쏘나타, K5, 말리부, 골프급 등)            610\n",
              "소형SUV/CUV (티볼리, QM3 등)               489\n",
              "준중형SUV (투싼, 스포티지, QM5, 티구안급 등)       448\n",
              "준대형차 (그랜저, K7, 알페온, 캠리급, 파사트급 등)     381\n",
              "MPV (카니발, 올란도, 피카소급, 오딧세이 등)         284\n",
              "중형SUV (싼타페, 쏘렌토, 캡티바, BMW X3급 등)     153\n",
              "소형차 (액센트, 프라이드, 아베오, 피아트급 등)         130\n",
              "대형차 (제너시스, BMW5급 등)                   53\n",
              "준중형파생 (벨로스터, I30 등)                   37\n",
              "대형SUV (베라크루즈, 모하비, 투아렉급 등)            32\n",
              "기타 (승합차/트럭/화물차/기타 차량 등)               10\n",
              "스포츠 (제네시스 쿠페, BMW M, 벤츠 AMG 등)         3\n",
              "Name: 자동차, dtype: int64"
            ]
          },
          "metadata": {},
          "execution_count": 22
        }
      ]
    },
    {
      "cell_type": "code",
      "source": [
        "round(car_counts.sum() / len(df1_23) * 100, 1),\\\n",
        "car_counts.sum()"
      ],
      "metadata": {
        "colab": {
          "base_uri": "https://localhost:8080/"
        },
        "id": "BAhsMFO1u_DM",
        "outputId": "a40ef361-ff1a-4c06-c80f-e3ab66881759"
      },
      "execution_count": null,
      "outputs": [
        {
          "output_type": "execute_result",
          "data": {
            "text/plain": [
              "(54.6, 6044)"
            ]
          },
          "metadata": {},
          "execution_count": 23
        }
      ]
    },
    {
      "cell_type": "code",
      "source": [
        "car2_counts = df1_2['자동차'].value_counts()\n",
        "car3_counts = df1_3['자동차'].value_counts()\n",
        "\n",
        "round(car2_counts.sum() / len(df1_23) * 100, 1),\\\n",
        "car2_counts.sum(),\\\n",
        "round(car3_counts.sum() / len(df1_23) * 100, 1),\\\n",
        "car3_counts.sum()"
      ],
      "metadata": {
        "colab": {
          "base_uri": "https://localhost:8080/"
        },
        "id": "ZNbPkbaPwL2c",
        "outputId": "b63d10d7-5f82-4874-e799-5dabdf5cb03b"
      },
      "execution_count": null,
      "outputs": [
        {
          "output_type": "execute_result",
          "data": {
            "text/plain": [
              "(10.4, 1154, 44.2, 4890)"
            ]
          },
          "metadata": {},
          "execution_count": 24
        }
      ]
    },
    {
      "cell_type": "code",
      "source": [],
      "metadata": {
        "id": "AcjjTKbDwLyR"
      },
      "execution_count": null,
      "outputs": []
    },
    {
      "cell_type": "code",
      "source": [
        "df1_23['시도'].value_counts()[:5],\\\n",
        "df1_2['시도'].value_counts()[:5],\\\n",
        "df1_3['시도'].value_counts()[:5]"
      ],
      "metadata": {
        "colab": {
          "base_uri": "https://localhost:8080/"
        },
        "id": "_tqKqb6exF-H",
        "outputId": "c024ea1f-ef8f-45a3-d34c-de57cd1f9d47"
      },
      "execution_count": null,
      "outputs": [
        {
          "output_type": "execute_result",
          "data": {
            "text/plain": [
              "(서울    2894\n",
              " 경기    1870\n",
              " 부산    1015\n",
              " 경북     936\n",
              " 대구     914\n",
              " Name: 시도, dtype: int64,\n",
              " 서울    621\n",
              " 부산    524\n",
              " 울산    397\n",
              " 경기    376\n",
              " 경북    259\n",
              " Name: 시도, dtype: int64,\n",
              " 서울    2273\n",
              " 경기    1494\n",
              " 대구     840\n",
              " 경북     677\n",
              " 경남     668\n",
              " Name: 시도, dtype: int64)"
            ]
          },
          "metadata": {},
          "execution_count": 25
        }
      ]
    },
    {
      "cell_type": "code",
      "source": [
        "df1_23[df1_23['시도'] == \"서울\"]['국립공원'].value_counts()[:6],\\\n",
        "df1_2[df1_2['시도'] == \"서울\"]['국립공원'].value_counts()[:6],\\\n",
        "df1_3[df1_3['시도'] == \"서울\"]['국립공원'].value_counts()[:6]"
      ],
      "metadata": {
        "colab": {
          "base_uri": "https://localhost:8080/"
        },
        "id": "e8FcTHQvxjIh",
        "outputId": "5ebecb9a-c533-4bad-c931-659ec25746dc"
      },
      "execution_count": null,
      "outputs": [
        {
          "output_type": "execute_result",
          "data": {
            "text/plain": [
              "(경주      1095\n",
              " 국립공원     199\n",
              " 북한산      164\n",
              " 지리산      159\n",
              " 만물상      128\n",
              " 월출산      104\n",
              " Name: 국립공원, dtype: int64,\n",
              " 경주      283\n",
              " 국립공원    128\n",
              " 북한산      30\n",
              " 만물상      26\n",
              " 주왕산      20\n",
              " 지리산      19\n",
              " Name: 국립공원, dtype: int64,\n",
              " 경주     812\n",
              " 지리산    140\n",
              " 북한산    134\n",
              " 만물상    102\n",
              " 월출산     89\n",
              " 몽산포     82\n",
              " Name: 국립공원, dtype: int64)"
            ]
          },
          "metadata": {},
          "execution_count": 132
        }
      ]
    },
    {
      "cell_type": "code",
      "source": [
        "df1_1456['시도'].value_counts()[:5],\\\n",
        "df1_1456[df1_1456['시도'] == \"서울\"]['국립공원'].value_counts()[:6]"
      ],
      "metadata": {
        "colab": {
          "base_uri": "https://localhost:8080/"
        },
        "id": "W6esjYOwxzSb",
        "outputId": "438b1122-21ca-4be5-da63-f3b37c3c4a07"
      },
      "execution_count": null,
      "outputs": [
        {
          "output_type": "execute_result",
          "data": {
            "text/plain": [
              "(서울    3328\n",
              " 경기    2354\n",
              " 경북     726\n",
              " 대구     412\n",
              " 인천     391\n",
              " Name: 시도, dtype: int64,\n",
              " 경주      1066\n",
              " 국립공원     299\n",
              " 북한산      185\n",
              " 설악산      183\n",
              " 지리산      178\n",
              " 만물상      166\n",
              " Name: 국립공원, dtype: int64)"
            ]
          },
          "metadata": {},
          "execution_count": 133
        }
      ]
    },
    {
      "cell_type": "markdown",
      "source": [
        "# df2 : 국립공원 관심인구 라이프스타일 (온라인쇼핑몰 이용 카테고리 정보) (Total : 173,928)"
      ],
      "metadata": {
        "id": "4oWbjXgyxjFt"
      }
    },
    {
      "cell_type": "code",
      "source": [
        "len(df2)"
      ],
      "metadata": {
        "colab": {
          "base_uri": "https://localhost:8080/"
        },
        "id": "wFtfAYc4QUqi",
        "outputId": "c6c337d6-30ca-42f4-f8ac-309325c8cbc4"
      },
      "execution_count": null,
      "outputs": [
        {
          "output_type": "execute_result",
          "data": {
            "text/plain": [
              "173928"
            ]
          },
          "metadata": {},
          "execution_count": 128
        }
      ]
    },
    {
      "cell_type": "code",
      "source": [
        "df2.head()"
      ],
      "metadata": {
        "colab": {
          "base_uri": "https://localhost:8080/",
          "height": 441
        },
        "id": "iXbkYWF7zheN",
        "outputId": "c949f55d-36f1-4d56-903e-ba66564a20b9"
      },
      "execution_count": null,
      "outputs": [
        {
          "output_type": "execute_result",
          "data": {
            "text/plain": [
              "     카테고리 성별  연령                      직업         소득     결혼          자녀  \\\n",
              "0  레저/자동차  F   3  사무직 (일반사무직, 공무원, 직업군인)  100~199만원    아니오               \n",
              "1   생활/주방  F   3   주부 (전업주부, 파트타임 근무 주부)  200~299만원  예          자녀 없음    \n",
              "2    패션잡화  F   2  사무직 (일반사무직, 공무원, 직업군인)  400~499만원    아니오               \n",
              "3    패션잡화  F   2  사무직 (일반사무직, 공무원, 직업군인)  400~499만원    아니오               \n",
              "4   식품/건강  F   4   주부 (전업주부, 파트타임 근무 주부)  300~399만원  예          자녀 있음    \n",
              "\n",
              "              주거  시도        구     동             자동차  \n",
              "0  연립주택/ 다세대/ 빌라  경기  수원시 권선구   권선동             NaN  \n",
              "1  연립주택/ 다세대/ 빌라  서울      강서구  화곡본동  경차 (모닝, 스파크 등)  \n",
              "2      아파트/ 주상복합  부산       북구  화명1동             NaN  \n",
              "3      아파트/ 주상복합  부산       북구  화명1동             NaN  \n",
              "4  연립주택/ 다세대/ 빌라  경기  용인시 수지구   죽전동             NaN  "
            ],
            "text/html": [
              "\n",
              "  <div id=\"df-ed999876-6e0f-4c1a-b688-d3a9ac276b06\">\n",
              "    <div class=\"colab-df-container\">\n",
              "      <div>\n",
              "<style scoped>\n",
              "    .dataframe tbody tr th:only-of-type {\n",
              "        vertical-align: middle;\n",
              "    }\n",
              "\n",
              "    .dataframe tbody tr th {\n",
              "        vertical-align: top;\n",
              "    }\n",
              "\n",
              "    .dataframe thead th {\n",
              "        text-align: right;\n",
              "    }\n",
              "</style>\n",
              "<table border=\"1\" class=\"dataframe\">\n",
              "  <thead>\n",
              "    <tr style=\"text-align: right;\">\n",
              "      <th></th>\n",
              "      <th>카테고리</th>\n",
              "      <th>성별</th>\n",
              "      <th>연령</th>\n",
              "      <th>직업</th>\n",
              "      <th>소득</th>\n",
              "      <th>결혼</th>\n",
              "      <th>자녀</th>\n",
              "      <th>주거</th>\n",
              "      <th>시도</th>\n",
              "      <th>구</th>\n",
              "      <th>동</th>\n",
              "      <th>자동차</th>\n",
              "    </tr>\n",
              "  </thead>\n",
              "  <tbody>\n",
              "    <tr>\n",
              "      <th>0</th>\n",
              "      <td>레저/자동차</td>\n",
              "      <td>F</td>\n",
              "      <td>3</td>\n",
              "      <td>사무직 (일반사무직, 공무원, 직업군인)</td>\n",
              "      <td>100~199만원</td>\n",
              "      <td>아니오</td>\n",
              "      <td></td>\n",
              "      <td>연립주택/ 다세대/ 빌라</td>\n",
              "      <td>경기</td>\n",
              "      <td>수원시 권선구</td>\n",
              "      <td>권선동</td>\n",
              "      <td>NaN</td>\n",
              "    </tr>\n",
              "    <tr>\n",
              "      <th>1</th>\n",
              "      <td>생활/주방</td>\n",
              "      <td>F</td>\n",
              "      <td>3</td>\n",
              "      <td>주부 (전업주부, 파트타임 근무 주부)</td>\n",
              "      <td>200~299만원</td>\n",
              "      <td>예</td>\n",
              "      <td>자녀 없음</td>\n",
              "      <td>연립주택/ 다세대/ 빌라</td>\n",
              "      <td>서울</td>\n",
              "      <td>강서구</td>\n",
              "      <td>화곡본동</td>\n",
              "      <td>경차 (모닝, 스파크 등)</td>\n",
              "    </tr>\n",
              "    <tr>\n",
              "      <th>2</th>\n",
              "      <td>패션잡화</td>\n",
              "      <td>F</td>\n",
              "      <td>2</td>\n",
              "      <td>사무직 (일반사무직, 공무원, 직업군인)</td>\n",
              "      <td>400~499만원</td>\n",
              "      <td>아니오</td>\n",
              "      <td></td>\n",
              "      <td>아파트/ 주상복합</td>\n",
              "      <td>부산</td>\n",
              "      <td>북구</td>\n",
              "      <td>화명1동</td>\n",
              "      <td>NaN</td>\n",
              "    </tr>\n",
              "    <tr>\n",
              "      <th>3</th>\n",
              "      <td>패션잡화</td>\n",
              "      <td>F</td>\n",
              "      <td>2</td>\n",
              "      <td>사무직 (일반사무직, 공무원, 직업군인)</td>\n",
              "      <td>400~499만원</td>\n",
              "      <td>아니오</td>\n",
              "      <td></td>\n",
              "      <td>아파트/ 주상복합</td>\n",
              "      <td>부산</td>\n",
              "      <td>북구</td>\n",
              "      <td>화명1동</td>\n",
              "      <td>NaN</td>\n",
              "    </tr>\n",
              "    <tr>\n",
              "      <th>4</th>\n",
              "      <td>식품/건강</td>\n",
              "      <td>F</td>\n",
              "      <td>4</td>\n",
              "      <td>주부 (전업주부, 파트타임 근무 주부)</td>\n",
              "      <td>300~399만원</td>\n",
              "      <td>예</td>\n",
              "      <td>자녀 있음</td>\n",
              "      <td>연립주택/ 다세대/ 빌라</td>\n",
              "      <td>경기</td>\n",
              "      <td>용인시 수지구</td>\n",
              "      <td>죽전동</td>\n",
              "      <td>NaN</td>\n",
              "    </tr>\n",
              "  </tbody>\n",
              "</table>\n",
              "</div>\n",
              "      <button class=\"colab-df-convert\" onclick=\"convertToInteractive('df-ed999876-6e0f-4c1a-b688-d3a9ac276b06')\"\n",
              "              title=\"Convert this dataframe to an interactive table.\"\n",
              "              style=\"display:none;\">\n",
              "        \n",
              "  <svg xmlns=\"http://www.w3.org/2000/svg\" height=\"24px\"viewBox=\"0 0 24 24\"\n",
              "       width=\"24px\">\n",
              "    <path d=\"M0 0h24v24H0V0z\" fill=\"none\"/>\n",
              "    <path d=\"M18.56 5.44l.94 2.06.94-2.06 2.06-.94-2.06-.94-.94-2.06-.94 2.06-2.06.94zm-11 1L8.5 8.5l.94-2.06 2.06-.94-2.06-.94L8.5 2.5l-.94 2.06-2.06.94zm10 10l.94 2.06.94-2.06 2.06-.94-2.06-.94-.94-2.06-.94 2.06-2.06.94z\"/><path d=\"M17.41 7.96l-1.37-1.37c-.4-.4-.92-.59-1.43-.59-.52 0-1.04.2-1.43.59L10.3 9.45l-7.72 7.72c-.78.78-.78 2.05 0 2.83L4 21.41c.39.39.9.59 1.41.59.51 0 1.02-.2 1.41-.59l7.78-7.78 2.81-2.81c.8-.78.8-2.07 0-2.86zM5.41 20L4 18.59l7.72-7.72 1.47 1.35L5.41 20z\"/>\n",
              "  </svg>\n",
              "      </button>\n",
              "      \n",
              "  <style>\n",
              "    .colab-df-container {\n",
              "      display:flex;\n",
              "      flex-wrap:wrap;\n",
              "      gap: 12px;\n",
              "    }\n",
              "\n",
              "    .colab-df-convert {\n",
              "      background-color: #E8F0FE;\n",
              "      border: none;\n",
              "      border-radius: 50%;\n",
              "      cursor: pointer;\n",
              "      display: none;\n",
              "      fill: #1967D2;\n",
              "      height: 32px;\n",
              "      padding: 0 0 0 0;\n",
              "      width: 32px;\n",
              "    }\n",
              "\n",
              "    .colab-df-convert:hover {\n",
              "      background-color: #E2EBFA;\n",
              "      box-shadow: 0px 1px 2px rgba(60, 64, 67, 0.3), 0px 1px 3px 1px rgba(60, 64, 67, 0.15);\n",
              "      fill: #174EA6;\n",
              "    }\n",
              "\n",
              "    [theme=dark] .colab-df-convert {\n",
              "      background-color: #3B4455;\n",
              "      fill: #D2E3FC;\n",
              "    }\n",
              "\n",
              "    [theme=dark] .colab-df-convert:hover {\n",
              "      background-color: #434B5C;\n",
              "      box-shadow: 0px 1px 3px 1px rgba(0, 0, 0, 0.15);\n",
              "      filter: drop-shadow(0px 1px 2px rgba(0, 0, 0, 0.3));\n",
              "      fill: #FFFFFF;\n",
              "    }\n",
              "  </style>\n",
              "\n",
              "      <script>\n",
              "        const buttonEl =\n",
              "          document.querySelector('#df-ed999876-6e0f-4c1a-b688-d3a9ac276b06 button.colab-df-convert');\n",
              "        buttonEl.style.display =\n",
              "          google.colab.kernel.accessAllowed ? 'block' : 'none';\n",
              "\n",
              "        async function convertToInteractive(key) {\n",
              "          const element = document.querySelector('#df-ed999876-6e0f-4c1a-b688-d3a9ac276b06');\n",
              "          const dataTable =\n",
              "            await google.colab.kernel.invokeFunction('convertToInteractive',\n",
              "                                                     [key], {});\n",
              "          if (!dataTable) return;\n",
              "\n",
              "          const docLinkHtml = 'Like what you see? Visit the ' +\n",
              "            '<a target=\"_blank\" href=https://colab.research.google.com/notebooks/data_table.ipynb>data table notebook</a>'\n",
              "            + ' to learn more about interactive tables.';\n",
              "          element.innerHTML = '';\n",
              "          dataTable['output_type'] = 'display_data';\n",
              "          await google.colab.output.renderOutput(dataTable, element);\n",
              "          const docLink = document.createElement('div');\n",
              "          docLink.innerHTML = docLinkHtml;\n",
              "          element.appendChild(docLink);\n",
              "        }\n",
              "      </script>\n",
              "    </div>\n",
              "  </div>\n",
              "  "
            ]
          },
          "metadata": {},
          "execution_count": 28
        }
      ]
    },
    {
      "cell_type": "markdown",
      "source": [
        "### 연령"
      ],
      "metadata": {
        "id": "9hpLucPw0yP4"
      }
    },
    {
      "cell_type": "code",
      "source": [
        "age_counts = df2['연령'].value_counts()\n",
        "age_counts"
      ],
      "metadata": {
        "colab": {
          "base_uri": "https://localhost:8080/"
        },
        "id": "jG6UYrVnzjH6",
        "outputId": "af39b438-01a3-4bd7-c482-0e0e5f6d697f"
      },
      "execution_count": null,
      "outputs": [
        {
          "output_type": "execute_result",
          "data": {
            "text/plain": [
              "3    88791\n",
              "4    60967\n",
              "2    20686\n",
              "5     3484\n",
              "Name: 연령, dtype: int64"
            ]
          },
          "metadata": {},
          "execution_count": 139
        }
      ]
    },
    {
      "cell_type": "code",
      "source": [
        "age_counts.loc[[2,3]].sum(), round(age_counts.loc[[2,3]].sum() / age_counts.sum() * 100, 1),\\\n",
        "age_counts.loc[2], round(age_counts.loc[2] / age_counts.sum() * 100, 1),\\\n",
        "age_counts.loc[3], round(age_counts.loc[3] / age_counts.sum() * 100, 1),\\\n",
        "age_counts.drop([2,3]).sum(), round(age_counts.drop([2,3]).sum() / age_counts.sum() * 100, 1)"
      ],
      "metadata": {
        "colab": {
          "base_uri": "https://localhost:8080/"
        },
        "id": "BpOwyZVKzrvy",
        "outputId": "c8866985-6835-4a2c-dc09-46938af423fd"
      },
      "execution_count": null,
      "outputs": [
        {
          "output_type": "execute_result",
          "data": {
            "text/plain": [
              "(109477, 62.9, 20686, 11.9, 88791, 51.1, 64451, 37.1)"
            ]
          },
          "metadata": {},
          "execution_count": 30
        }
      ]
    },
    {
      "cell_type": "code",
      "source": [
        "df2_23 = df2[df2['연령'].isin([2, 3])]\n",
        "df2_2 = df2[(df2['연령'] == 2)]\n",
        "df2_3 = df2[(df2['연령'] == 3)]\n",
        "df2_1456 = df2[df2['연령'].isin([1, 4, 5, 6])]"
      ],
      "metadata": {
        "id": "OzeUIX2h1Rcf"
      },
      "execution_count": null,
      "outputs": []
    },
    {
      "cell_type": "markdown",
      "source": [
        "### 230대 성별"
      ],
      "metadata": {
        "id": "7b5NtDyRz9Tg"
      }
    },
    {
      "cell_type": "code",
      "source": [
        "sex_counts = df2_23['성별'].value_counts()\n",
        "sex_counts"
      ],
      "metadata": {
        "id": "ZnGEh4PN0xaH",
        "colab": {
          "base_uri": "https://localhost:8080/"
        },
        "outputId": "21c99fb4-c586-4f18-83a8-3e546d12038c"
      },
      "execution_count": null,
      "outputs": [
        {
          "output_type": "execute_result",
          "data": {
            "text/plain": [
              "F    97688\n",
              "M    11789\n",
              "Name: 성별, dtype: int64"
            ]
          },
          "metadata": {},
          "execution_count": 32
        }
      ]
    },
    {
      "cell_type": "code",
      "source": [
        "round(sex_counts.loc['F'] / sex_counts.sum() * 100 , 1),\\\n",
        "round(sex_counts.loc['M'] / sex_counts.sum() * 100 , 1)"
      ],
      "metadata": {
        "colab": {
          "base_uri": "https://localhost:8080/"
        },
        "id": "4Ao8T5s21lJC",
        "outputId": "4c802a90-0ae1-4b62-f6ca-bfb8baa166c4"
      },
      "execution_count": null,
      "outputs": [
        {
          "output_type": "execute_result",
          "data": {
            "text/plain": [
              "(89.2, 10.8)"
            ]
          },
          "metadata": {},
          "execution_count": 33
        }
      ]
    },
    {
      "cell_type": "markdown",
      "source": [
        "### 230대 직업"
      ],
      "metadata": {
        "id": "yoN8Y1y61rED"
      }
    },
    {
      "cell_type": "code",
      "source": [
        "job_counts = df2_23['직업'].value_counts()\n",
        "job_counts"
      ],
      "metadata": {
        "colab": {
          "base_uri": "https://localhost:8080/"
        },
        "id": "YEiiUZIe1xaW",
        "outputId": "0764a012-a03a-4535-e5bc-cb57e9e5cc9b"
      },
      "execution_count": null,
      "outputs": [
        {
          "output_type": "execute_result",
          "data": {
            "text/plain": [
              "사무직 (일반사무직, 공무원, 직업군인)          39812\n",
              "주부 (전업주부, 파트타임 근무 주부)           28463\n",
              "학생 (초중고학생, 대학생, 대학원생)            8256\n",
              "교직 (교사, 유치원교사, 학원강사)             7694\n",
              "전문직 (의사, 판검사, 예술가, 종교인)          6684\n",
              "무직                               6638\n",
              "서비스직 (요식업, 숙박업, 미용실종업원)          3377\n",
              "기타                               2121\n",
              "자영업 (도소매업, 숙박업, 미용업)             2021\n",
              "판매직 (상점점원, 보험설계사, 노점상)           1775\n",
              "기능직 (자동차정비, 운전기사, 안경사, 택시기사)     1162\n",
              "생산/노무직 (생산감독, 경비원, 공장근로자)         662\n",
              "관리직 (사장, 간부, 고위공무원)               475\n",
              "퇴직/연금생활자                           30\n",
              "Name: 직업, dtype: int64"
            ]
          },
          "metadata": {},
          "execution_count": 34
        }
      ]
    },
    {
      "cell_type": "code",
      "source": [
        "drop_jobs = job_counts[job_counts.index.str.contains('학생|퇴직|주부')]\n",
        "drop_jobs"
      ],
      "metadata": {
        "colab": {
          "base_uri": "https://localhost:8080/"
        },
        "id": "C6kMzItB11lG",
        "outputId": "50d88ce7-10af-4f9b-e82a-20bba06ac749"
      },
      "execution_count": null,
      "outputs": [
        {
          "output_type": "execute_result",
          "data": {
            "text/plain": [
              "주부 (전업주부, 파트타임 근무 주부)    28463\n",
              "학생 (초중고학생, 대학생, 대학원생)     8256\n",
              "퇴직/연금생활자                    30\n",
              "Name: 직업, dtype: int64"
            ]
          },
          "metadata": {},
          "execution_count": 36
        }
      ]
    },
    {
      "cell_type": "code",
      "source": [
        "round((job_counts.sum() - drop_jobs.sum() - job_counts['무직']) / len(df2_23) * 100, 1),\\\n",
        "job_counts.sum() - drop_jobs.sum() - job_counts['무직']"
      ],
      "metadata": {
        "colab": {
          "base_uri": "https://localhost:8080/"
        },
        "id": "-TXHYHFd19qK",
        "outputId": "6aa933fa-7eed-4bbc-8959-d1f096d12b8d"
      },
      "execution_count": null,
      "outputs": [
        {
          "output_type": "execute_result",
          "data": {
            "text/plain": [
              "(60.1, 65783)"
            ]
          },
          "metadata": {},
          "execution_count": 37
        }
      ]
    },
    {
      "cell_type": "code",
      "source": [
        "job2_counts = df2_2['직업'].value_counts()\n",
        "job3_counts = df2_3['직업'].value_counts()"
      ],
      "metadata": {
        "id": "F4zxy4jA2K7Q"
      },
      "execution_count": null,
      "outputs": []
    },
    {
      "cell_type": "code",
      "source": [
        "drop2_jobs = job2_counts[job2_counts.index.str.contains('학생|퇴직|주부')]\n",
        "drop3_jobs = job3_counts[job3_counts.index.str.contains('학생|퇴직|주부')]"
      ],
      "metadata": {
        "id": "hp4Y3zuC2Q5a"
      },
      "execution_count": null,
      "outputs": []
    },
    {
      "cell_type": "code",
      "source": [
        "round((job2_counts.sum() - drop2_jobs.sum() - job2_counts['무직']) / len(df2_23) * 100, 1),\\\n",
        "job2_counts.sum() - drop2_jobs.sum() - job2_counts['무직'],\\\n",
        "round((job3_counts.sum() - drop3_jobs.sum() - job3_counts['무직']) / len(df2_23) * 100, 1),\\\n",
        "job3_counts.sum() - drop3_jobs.sum() - job3_counts['무직']"
      ],
      "metadata": {
        "colab": {
          "base_uri": "https://localhost:8080/"
        },
        "id": "DREn5w822XMD",
        "outputId": "899cd0eb-710f-40e8-a3b3-ef62231ec63a"
      },
      "execution_count": null,
      "outputs": [
        {
          "output_type": "execute_result",
          "data": {
            "text/plain": [
              "(9.2, 10022, 50.9, 55761)"
            ]
          },
          "metadata": {},
          "execution_count": 40
        }
      ]
    },
    {
      "cell_type": "markdown",
      "source": [
        "### 230대 자동차"
      ],
      "metadata": {
        "id": "jubiPu_l2g25"
      }
    },
    {
      "cell_type": "code",
      "source": [
        "car_counts = df2_23['자동차'].value_counts()\n",
        "car_counts"
      ],
      "metadata": {
        "colab": {
          "base_uri": "https://localhost:8080/"
        },
        "id": "oSOYfvW-2k3Y",
        "outputId": "c02d15b1-59bd-4244-afe4-a51410c14056"
      },
      "execution_count": null,
      "outputs": [
        {
          "output_type": "execute_result",
          "data": {
            "text/plain": [
              "경차 (모닝, 스파크 등)                      12423\n",
              "준중형차 (아반떼, K3, 크루즈, 제타급 등)          11421\n",
              "준대형차 (그랜저, K7, 알페온, 캠리급, 파사트급 등)     8453\n",
              "중형차 (쏘나타, K5, 말리부, 골프급 등)            7944\n",
              "소형SUV/CUV (티볼리, QM3 등)               7451\n",
              "MPV (카니발, 올란도, 피카소급, 오딧세이 등)         3915\n",
              "준중형SUV (투싼, 스포티지, QM5, 티구안급 등)       3451\n",
              "중형SUV (싼타페, 쏘렌토, 캡티바, BMW X3급 등)     2695\n",
              "대형차 (제너시스, BMW5급 등)                  1389\n",
              "대형SUV (베라크루즈, 모하비, 투아렉급 등)            904\n",
              "준중형파생 (벨로스터, I30 등)                   294\n",
              "소형차 (액센트, 프라이드, 아베오, 피아트급 등)          121\n",
              "기타 (승합차/트럭/화물차/기타 차량 등)                90\n",
              "스포츠 (제네시스 쿠페, BMW M, 벤츠 AMG 등)         35\n",
              "Name: 자동차, dtype: int64"
            ]
          },
          "metadata": {},
          "execution_count": 41
        }
      ]
    },
    {
      "cell_type": "code",
      "source": [
        "round(car_counts.sum() / len(df2_23) * 100, 1),\\\n",
        "car_counts.sum()"
      ],
      "metadata": {
        "colab": {
          "base_uri": "https://localhost:8080/"
        },
        "id": "uv-ZA8Wi2nIY",
        "outputId": "249893b0-c84b-4b8b-e454-c51154b3b3ec"
      },
      "execution_count": null,
      "outputs": [
        {
          "output_type": "execute_result",
          "data": {
            "text/plain": [
              "(55.3, 60586)"
            ]
          },
          "metadata": {},
          "execution_count": 42
        }
      ]
    },
    {
      "cell_type": "code",
      "source": [
        "car2_counts = df2_2['자동차'].value_counts()\n",
        "car3_counts = df2_3['자동차'].value_counts()\n",
        "\n",
        "round(car2_counts.sum() / len(df2_23) * 100, 1),\\\n",
        "car2_counts.sum(),\\\n",
        "round(car3_counts.sum() / len(df2_23) * 100, 1),\\\n",
        "car3_counts.sum()"
      ],
      "metadata": {
        "colab": {
          "base_uri": "https://localhost:8080/"
        },
        "id": "390t_GT52s71",
        "outputId": "04093b4d-2eb4-45c1-8949-2ece1815f1d3"
      },
      "execution_count": null,
      "outputs": [
        {
          "output_type": "execute_result",
          "data": {
            "text/plain": [
              "(6.1, 6631, 49.3, 53955)"
            ]
          },
          "metadata": {},
          "execution_count": 43
        }
      ]
    },
    {
      "cell_type": "markdown",
      "source": [
        "### 230대 거주지"
      ],
      "metadata": {
        "id": "Ah3Dg3R03AAB"
      }
    },
    {
      "cell_type": "code",
      "source": [
        "df2_23['시도'].value_counts()[:5],\\\n",
        "df2_2['시도'].value_counts()[:5],\\\n",
        "df2_3['시도'].value_counts()[:5]"
      ],
      "metadata": {
        "colab": {
          "base_uri": "https://localhost:8080/"
        },
        "id": "chuS7Ucy3Ekn",
        "outputId": "0bc57459-048c-4aaf-a61c-befd343acc77"
      },
      "execution_count": null,
      "outputs": [
        {
          "output_type": "execute_result",
          "data": {
            "text/plain": [
              "(서울    34261\n",
              " 경기    25951\n",
              " 부산    13201\n",
              " 대구     7131\n",
              " 경남     6215\n",
              " Name: 시도, dtype: int64,\n",
              " 서울    8717\n",
              " 부산    4993\n",
              " 경기    3532\n",
              " 대구    1154\n",
              " 광주     737\n",
              " Name: 시도, dtype: int64,\n",
              " 서울    25544\n",
              " 경기    22419\n",
              " 부산     8208\n",
              " 경남     6035\n",
              " 대구     5977\n",
              " Name: 시도, dtype: int64)"
            ]
          },
          "metadata": {},
          "execution_count": 44
        }
      ]
    },
    {
      "cell_type": "code",
      "source": [
        "df2_23[df2_23['시도'] == \"서울\"]['카테고리'].value_counts()[:5],\\\n",
        "df2_2[df2_2['시도'] == \"서울\"]['카테고리'].value_counts()[:5],\\\n",
        "df2_3[df2_3['시도'] == \"서울\"]['카테고리'].value_counts()[:5]"
      ],
      "metadata": {
        "colab": {
          "base_uri": "https://localhost:8080/"
        },
        "id": "2iU2e4sR3GVP",
        "outputId": "5cb79d8b-694b-4ad1-9b79-1251e4c46692"
      },
      "execution_count": null,
      "outputs": [
        {
          "output_type": "execute_result",
          "data": {
            "text/plain": [
              "(식품/건강    15583\n",
              " 패션의류      8216\n",
              " 생활/주방     3350\n",
              " 뷰티        2270\n",
              " 패션잡화      2157\n",
              " Name: 카테고리, dtype: int64,\n",
              " 식품/건강     3542\n",
              " 패션의류      3259\n",
              " 생활/주방      568\n",
              " 디지털/가전     386\n",
              " 뷰티         343\n",
              " Name: 카테고리, dtype: int64,\n",
              " 식품/건강    12041\n",
              " 패션의류      4957\n",
              " 생활/주방     2782\n",
              " 뷰티        1927\n",
              " 패션잡화      1873\n",
              " Name: 카테고리, dtype: int64)"
            ]
          },
          "metadata": {},
          "execution_count": 140
        }
      ]
    },
    {
      "cell_type": "code",
      "source": [
        "df2_1456['시도'].value_counts()[:5],\\\n",
        "df2_1456[df2_1456['시도'] == \"경기\"]['카테고리'].value_counts()[:5]"
      ],
      "metadata": {
        "colab": {
          "base_uri": "https://localhost:8080/"
        },
        "id": "ppKS6iN33QO9",
        "outputId": "1358c100-a4ef-4eee-b364-cfd59d15fec2"
      },
      "execution_count": null,
      "outputs": [
        {
          "output_type": "execute_result",
          "data": {
            "text/plain": [
              "(경기    24141\n",
              " 서울    18287\n",
              " 인천     5535\n",
              " 경북     3554\n",
              " 부산     3143\n",
              " Name: 시도, dtype: int64,\n",
              " 식품/건강     9693\n",
              " 패션의류      5815\n",
              " 패션잡화      2582\n",
              " 생활/주방     2361\n",
              " 디지털/가전    1217\n",
              " Name: 카테고리, dtype: int64)"
            ]
          },
          "metadata": {},
          "execution_count": 47
        }
      ]
    },
    {
      "cell_type": "markdown",
      "source": [
        "# df3 : 자전거코스/자전거길 관심인구 정보 (Total : 23,494)"
      ],
      "metadata": {
        "id": "2A1sBO6Z3VAc"
      }
    },
    {
      "cell_type": "code",
      "source": [
        "len(df3)"
      ],
      "metadata": {
        "colab": {
          "base_uri": "https://localhost:8080/"
        },
        "id": "-2zq_1cXQQrz",
        "outputId": "7eb4a482-63e1-4c95-c026-cc131e07508e"
      },
      "execution_count": null,
      "outputs": [
        {
          "output_type": "execute_result",
          "data": {
            "text/plain": [
              "23494"
            ]
          },
          "metadata": {},
          "execution_count": 127
        }
      ]
    },
    {
      "cell_type": "code",
      "source": [
        "df3.head()"
      ],
      "metadata": {
        "colab": {
          "base_uri": "https://localhost:8080/",
          "height": 476
        },
        "id": "Nb0vj2Oo8F0-",
        "outputId": "b4cfbfb9-5cd7-439a-aec1-90b95126f4a5"
      },
      "execution_count": null,
      "outputs": [
        {
          "output_type": "execute_result",
          "data": {
            "text/plain": [
              "         자전거길                      사이트제목 성별  연령   직업        소득      결혼  \\\n",
              "0  남양주왕숙천자전거길          남양주  왕숙천 자전거길 라이딩  F   4  NaN       NaN           \n",
              "1  화명생태공원자전거길            브롬톤 화명생태공원 자전거길  M   2  NaN       NaN           \n",
              "2     경춘선자전거길               경춘선 자전거길 라이딩  M   3  NaN       NaN           \n",
              "3    평화누리자전거길                  평화누리 자전거길  F   2   무직  100만원 미만     아니오   \n",
              "4     중랑천자전거길  191102 동두천 마실 라이딩중랑천 자전거길  M   2  NaN       NaN           \n",
              "\n",
              "           자녀             주거  시도    구      동             자동차  \n",
              "0                        NaN  서울  노원구  상계10동             NaN  \n",
              "1                        NaN  전남  담양군    고서면             NaN  \n",
              "2                        NaN  경북  영천시    언하동             NaN  \n",
              "3              연립주택/ 다세대/ 빌라  인천   서구    연희동  경차 (모닝, 스파크 등)  \n",
              "4                        NaN  경북  안동시    서후면             NaN  "
            ],
            "text/html": [
              "\n",
              "  <div id=\"df-986915fe-8b6f-4cd2-ad81-8e8f0e612887\">\n",
              "    <div class=\"colab-df-container\">\n",
              "      <div>\n",
              "<style scoped>\n",
              "    .dataframe tbody tr th:only-of-type {\n",
              "        vertical-align: middle;\n",
              "    }\n",
              "\n",
              "    .dataframe tbody tr th {\n",
              "        vertical-align: top;\n",
              "    }\n",
              "\n",
              "    .dataframe thead th {\n",
              "        text-align: right;\n",
              "    }\n",
              "</style>\n",
              "<table border=\"1\" class=\"dataframe\">\n",
              "  <thead>\n",
              "    <tr style=\"text-align: right;\">\n",
              "      <th></th>\n",
              "      <th>자전거길</th>\n",
              "      <th>사이트제목</th>\n",
              "      <th>성별</th>\n",
              "      <th>연령</th>\n",
              "      <th>직업</th>\n",
              "      <th>소득</th>\n",
              "      <th>결혼</th>\n",
              "      <th>자녀</th>\n",
              "      <th>주거</th>\n",
              "      <th>시도</th>\n",
              "      <th>구</th>\n",
              "      <th>동</th>\n",
              "      <th>자동차</th>\n",
              "    </tr>\n",
              "  </thead>\n",
              "  <tbody>\n",
              "    <tr>\n",
              "      <th>0</th>\n",
              "      <td>남양주왕숙천자전거길</td>\n",
              "      <td>남양주  왕숙천 자전거길 라이딩</td>\n",
              "      <td>F</td>\n",
              "      <td>4</td>\n",
              "      <td>NaN</td>\n",
              "      <td>NaN</td>\n",
              "      <td></td>\n",
              "      <td></td>\n",
              "      <td>NaN</td>\n",
              "      <td>서울</td>\n",
              "      <td>노원구</td>\n",
              "      <td>상계10동</td>\n",
              "      <td>NaN</td>\n",
              "    </tr>\n",
              "    <tr>\n",
              "      <th>1</th>\n",
              "      <td>화명생태공원자전거길</td>\n",
              "      <td>브롬톤 화명생태공원 자전거길</td>\n",
              "      <td>M</td>\n",
              "      <td>2</td>\n",
              "      <td>NaN</td>\n",
              "      <td>NaN</td>\n",
              "      <td></td>\n",
              "      <td></td>\n",
              "      <td>NaN</td>\n",
              "      <td>전남</td>\n",
              "      <td>담양군</td>\n",
              "      <td>고서면</td>\n",
              "      <td>NaN</td>\n",
              "    </tr>\n",
              "    <tr>\n",
              "      <th>2</th>\n",
              "      <td>경춘선자전거길</td>\n",
              "      <td>경춘선 자전거길 라이딩</td>\n",
              "      <td>M</td>\n",
              "      <td>3</td>\n",
              "      <td>NaN</td>\n",
              "      <td>NaN</td>\n",
              "      <td></td>\n",
              "      <td></td>\n",
              "      <td>NaN</td>\n",
              "      <td>경북</td>\n",
              "      <td>영천시</td>\n",
              "      <td>언하동</td>\n",
              "      <td>NaN</td>\n",
              "    </tr>\n",
              "    <tr>\n",
              "      <th>3</th>\n",
              "      <td>평화누리자전거길</td>\n",
              "      <td>평화누리 자전거길</td>\n",
              "      <td>F</td>\n",
              "      <td>2</td>\n",
              "      <td>무직</td>\n",
              "      <td>100만원 미만</td>\n",
              "      <td>아니오</td>\n",
              "      <td></td>\n",
              "      <td>연립주택/ 다세대/ 빌라</td>\n",
              "      <td>인천</td>\n",
              "      <td>서구</td>\n",
              "      <td>연희동</td>\n",
              "      <td>경차 (모닝, 스파크 등)</td>\n",
              "    </tr>\n",
              "    <tr>\n",
              "      <th>4</th>\n",
              "      <td>중랑천자전거길</td>\n",
              "      <td>191102 동두천 마실 라이딩중랑천 자전거길</td>\n",
              "      <td>M</td>\n",
              "      <td>2</td>\n",
              "      <td>NaN</td>\n",
              "      <td>NaN</td>\n",
              "      <td></td>\n",
              "      <td></td>\n",
              "      <td>NaN</td>\n",
              "      <td>경북</td>\n",
              "      <td>안동시</td>\n",
              "      <td>서후면</td>\n",
              "      <td>NaN</td>\n",
              "    </tr>\n",
              "  </tbody>\n",
              "</table>\n",
              "</div>\n",
              "      <button class=\"colab-df-convert\" onclick=\"convertToInteractive('df-986915fe-8b6f-4cd2-ad81-8e8f0e612887')\"\n",
              "              title=\"Convert this dataframe to an interactive table.\"\n",
              "              style=\"display:none;\">\n",
              "        \n",
              "  <svg xmlns=\"http://www.w3.org/2000/svg\" height=\"24px\"viewBox=\"0 0 24 24\"\n",
              "       width=\"24px\">\n",
              "    <path d=\"M0 0h24v24H0V0z\" fill=\"none\"/>\n",
              "    <path d=\"M18.56 5.44l.94 2.06.94-2.06 2.06-.94-2.06-.94-.94-2.06-.94 2.06-2.06.94zm-11 1L8.5 8.5l.94-2.06 2.06-.94-2.06-.94L8.5 2.5l-.94 2.06-2.06.94zm10 10l.94 2.06.94-2.06 2.06-.94-2.06-.94-.94-2.06-.94 2.06-2.06.94z\"/><path d=\"M17.41 7.96l-1.37-1.37c-.4-.4-.92-.59-1.43-.59-.52 0-1.04.2-1.43.59L10.3 9.45l-7.72 7.72c-.78.78-.78 2.05 0 2.83L4 21.41c.39.39.9.59 1.41.59.51 0 1.02-.2 1.41-.59l7.78-7.78 2.81-2.81c.8-.78.8-2.07 0-2.86zM5.41 20L4 18.59l7.72-7.72 1.47 1.35L5.41 20z\"/>\n",
              "  </svg>\n",
              "      </button>\n",
              "      \n",
              "  <style>\n",
              "    .colab-df-container {\n",
              "      display:flex;\n",
              "      flex-wrap:wrap;\n",
              "      gap: 12px;\n",
              "    }\n",
              "\n",
              "    .colab-df-convert {\n",
              "      background-color: #E8F0FE;\n",
              "      border: none;\n",
              "      border-radius: 50%;\n",
              "      cursor: pointer;\n",
              "      display: none;\n",
              "      fill: #1967D2;\n",
              "      height: 32px;\n",
              "      padding: 0 0 0 0;\n",
              "      width: 32px;\n",
              "    }\n",
              "\n",
              "    .colab-df-convert:hover {\n",
              "      background-color: #E2EBFA;\n",
              "      box-shadow: 0px 1px 2px rgba(60, 64, 67, 0.3), 0px 1px 3px 1px rgba(60, 64, 67, 0.15);\n",
              "      fill: #174EA6;\n",
              "    }\n",
              "\n",
              "    [theme=dark] .colab-df-convert {\n",
              "      background-color: #3B4455;\n",
              "      fill: #D2E3FC;\n",
              "    }\n",
              "\n",
              "    [theme=dark] .colab-df-convert:hover {\n",
              "      background-color: #434B5C;\n",
              "      box-shadow: 0px 1px 3px 1px rgba(0, 0, 0, 0.15);\n",
              "      filter: drop-shadow(0px 1px 2px rgba(0, 0, 0, 0.3));\n",
              "      fill: #FFFFFF;\n",
              "    }\n",
              "  </style>\n",
              "\n",
              "      <script>\n",
              "        const buttonEl =\n",
              "          document.querySelector('#df-986915fe-8b6f-4cd2-ad81-8e8f0e612887 button.colab-df-convert');\n",
              "        buttonEl.style.display =\n",
              "          google.colab.kernel.accessAllowed ? 'block' : 'none';\n",
              "\n",
              "        async function convertToInteractive(key) {\n",
              "          const element = document.querySelector('#df-986915fe-8b6f-4cd2-ad81-8e8f0e612887');\n",
              "          const dataTable =\n",
              "            await google.colab.kernel.invokeFunction('convertToInteractive',\n",
              "                                                     [key], {});\n",
              "          if (!dataTable) return;\n",
              "\n",
              "          const docLinkHtml = 'Like what you see? Visit the ' +\n",
              "            '<a target=\"_blank\" href=https://colab.research.google.com/notebooks/data_table.ipynb>data table notebook</a>'\n",
              "            + ' to learn more about interactive tables.';\n",
              "          element.innerHTML = '';\n",
              "          dataTable['output_type'] = 'display_data';\n",
              "          await google.colab.output.renderOutput(dataTable, element);\n",
              "          const docLink = document.createElement('div');\n",
              "          docLink.innerHTML = docLinkHtml;\n",
              "          element.appendChild(docLink);\n",
              "        }\n",
              "      </script>\n",
              "    </div>\n",
              "  </div>\n",
              "  "
            ]
          },
          "metadata": {},
          "execution_count": 48
        }
      ]
    },
    {
      "cell_type": "markdown",
      "source": [
        "### AGE"
      ],
      "metadata": {
        "id": "Tsw1w3Ws8Y5g"
      }
    },
    {
      "cell_type": "code",
      "source": [
        "age_counts = df3['연령'].value_counts()\n",
        "age_counts"
      ],
      "metadata": {
        "colab": {
          "base_uri": "https://localhost:8080/"
        },
        "id": "T_2_2GQr8Gu-",
        "outputId": "1f5cc8eb-dd5a-4fc1-c166-920ca55cedc1"
      },
      "execution_count": null,
      "outputs": [
        {
          "output_type": "execute_result",
          "data": {
            "text/plain": [
              "3    7214\n",
              "2    6363\n",
              "4    6155\n",
              "5    3762\n",
              "Name: 연령, dtype: int64"
            ]
          },
          "metadata": {},
          "execution_count": 49
        }
      ]
    },
    {
      "cell_type": "code",
      "source": [
        "age_counts.loc[[2,3]].sum(), round(age_counts.loc[[2,3]].sum() / age_counts.sum() * 100, 1),\\\n",
        "age_counts.loc[2], round(age_counts.loc[2] / age_counts.sum() * 100, 1),\\\n",
        "age_counts.loc[3], round(age_counts.loc[3] / age_counts.sum() * 100, 1),\\\n",
        "age_counts.drop([2,3]).sum(), round(age_counts.drop([2,3]).sum() / age_counts.sum() * 100, 1)"
      ],
      "metadata": {
        "colab": {
          "base_uri": "https://localhost:8080/"
        },
        "id": "ecIreZ8u8SjK",
        "outputId": "0ed5f040-c1b0-4d27-99bd-7f48919fd427"
      },
      "execution_count": null,
      "outputs": [
        {
          "output_type": "execute_result",
          "data": {
            "text/plain": [
              "(13577, 57.8, 6363, 27.1, 7214, 30.7, 9917, 42.2)"
            ]
          },
          "metadata": {},
          "execution_count": 50
        }
      ]
    },
    {
      "cell_type": "code",
      "source": [
        "df3_23 = df3[df3['연령'].isin([2, 3])]\n",
        "df3_2 = df3[(df3['연령'] == 2)]\n",
        "df3_3 = df3[(df3['연령'] == 3)]\n",
        "df3_1456 = df3[df3['연령'].isin([1, 4, 5, 6])]"
      ],
      "metadata": {
        "id": "YGU3sHhK8piF"
      },
      "execution_count": null,
      "outputs": []
    },
    {
      "cell_type": "markdown",
      "source": [
        "### 230대 성별"
      ],
      "metadata": {
        "id": "mNVjrnGs83Af"
      }
    },
    {
      "cell_type": "code",
      "source": [
        "sex_counts = df3_23['성별'].value_counts()\n",
        "sex_counts"
      ],
      "metadata": {
        "colab": {
          "base_uri": "https://localhost:8080/"
        },
        "id": "Al86Lb0b853P",
        "outputId": "c9850e47-0895-46ac-cd0e-4a9fd23e220c"
      },
      "execution_count": null,
      "outputs": [
        {
          "output_type": "execute_result",
          "data": {
            "text/plain": [
              "M    8414\n",
              "F    5163\n",
              "Name: 성별, dtype: int64"
            ]
          },
          "metadata": {},
          "execution_count": 52
        }
      ]
    },
    {
      "cell_type": "code",
      "source": [
        "round(sex_counts.loc['F'] / sex_counts.sum() * 100 , 1),\\\n",
        "round(sex_counts.loc['M'] / sex_counts.sum() * 100 , 1)"
      ],
      "metadata": {
        "colab": {
          "base_uri": "https://localhost:8080/"
        },
        "id": "NqbEdoyu87i2",
        "outputId": "144d89f4-f3c4-4170-ec3f-87a683faa3f5"
      },
      "execution_count": null,
      "outputs": [
        {
          "output_type": "execute_result",
          "data": {
            "text/plain": [
              "(38.0, 62.0)"
            ]
          },
          "metadata": {},
          "execution_count": 53
        }
      ]
    },
    {
      "cell_type": "markdown",
      "source": [
        "### 230대 직업"
      ],
      "metadata": {
        "id": "oON0Vlfe89Lr"
      }
    },
    {
      "cell_type": "code",
      "source": [
        "job_counts = df3_23['직업'].value_counts()\n",
        "job_counts"
      ],
      "metadata": {
        "colab": {
          "base_uri": "https://localhost:8080/"
        },
        "id": "5iqR_c7Q9BRq",
        "outputId": "e6317750-7316-430a-9d1b-c399523126e3"
      },
      "execution_count": null,
      "outputs": [
        {
          "output_type": "execute_result",
          "data": {
            "text/plain": [
              "사무직 (일반사무직, 공무원, 직업군인)             2354\n",
              "학생 (초중고학생, 대학생, 대학원생)              1475\n",
              "전문직 (의사, 판검사, 예술가, 종교인)             635\n",
              "무직                                  578\n",
              "주부 (전업주부, 파트타임 근무 주부)               493\n",
              "서비스직 (요식업, 숙박업, 미용실종업원)             387\n",
              "생산/노무직 (생산감독, 경비원, 공장근로자)           365\n",
              "교직 (교사, 유치원교사, 학원강사)                302\n",
              "기타                                  285\n",
              "자영업 (도소매업, 숙박업, 미용업)                202\n",
              "판매직 (상점점원, 보험설계사, 노점상)              155\n",
              "기능직 (자동차정비, 운전기사, 안경사, 택시기사)        149\n",
              "관리직 (사장, 간부, 고위공무원)                  93\n",
              "농/축/광/수산업 (축산, 낙농업, 수산, 임업, 광업)      24\n",
              "퇴직/연금생활자                             19\n",
              "Name: 직업, dtype: int64"
            ]
          },
          "metadata": {},
          "execution_count": 54
        }
      ]
    },
    {
      "cell_type": "code",
      "source": [
        "drop_jobs = job_counts[job_counts.index.str.contains('학생|퇴직|주부')]\n",
        "drop_jobs"
      ],
      "metadata": {
        "colab": {
          "base_uri": "https://localhost:8080/"
        },
        "id": "r_i991st9Cjk",
        "outputId": "5396d5c0-f496-4350-d5c1-747aed6b0017"
      },
      "execution_count": null,
      "outputs": [
        {
          "output_type": "execute_result",
          "data": {
            "text/plain": [
              "학생 (초중고학생, 대학생, 대학원생)    1475\n",
              "주부 (전업주부, 파트타임 근무 주부)     493\n",
              "퇴직/연금생활자                   19\n",
              "Name: 직업, dtype: int64"
            ]
          },
          "metadata": {},
          "execution_count": 55
        }
      ]
    },
    {
      "cell_type": "code",
      "source": [
        "round((job_counts.sum() - drop_jobs.sum() - job_counts['무직']) / len(df3_23) * 100, 1),\\\n",
        "job_counts.sum() - drop_jobs.sum() - job_counts['무직']"
      ],
      "metadata": {
        "colab": {
          "base_uri": "https://localhost:8080/"
        },
        "id": "uRplHcRs9IX0",
        "outputId": "9513e940-6c98-4caa-fb9c-1aeb0254d7ae"
      },
      "execution_count": null,
      "outputs": [
        {
          "output_type": "execute_result",
          "data": {
            "text/plain": [
              "(36.5, 4951)"
            ]
          },
          "metadata": {},
          "execution_count": 56
        }
      ]
    },
    {
      "cell_type": "code",
      "source": [
        "job2_counts = df3_2['직업'].value_counts()\n",
        "job3_counts = df3_3['직업'].value_counts()"
      ],
      "metadata": {
        "id": "xTYR06YF9QzG"
      },
      "execution_count": null,
      "outputs": []
    },
    {
      "cell_type": "code",
      "source": [
        "drop2_jobs = job2_counts[job2_counts.index.str.contains('학생|퇴직|주부')]\n",
        "drop3_jobs = job3_counts[job3_counts.index.str.contains('학생|퇴직|주부')]"
      ],
      "metadata": {
        "id": "qGJ161Ge9Wuk"
      },
      "execution_count": null,
      "outputs": []
    },
    {
      "cell_type": "code",
      "source": [
        "round((job2_counts.sum() - drop2_jobs.sum() - job2_counts['무직']) / len(df3_23) * 100, 1),\\\n",
        "job2_counts.sum() - drop2_jobs.sum() - job2_counts['무직'],\\\n",
        "round((job3_counts.sum() - drop3_jobs.sum() - job3_counts['무직']) / len(df3_23) * 100, 1),\\\n",
        "job3_counts.sum() - drop3_jobs.sum() - job3_counts['무직']"
      ],
      "metadata": {
        "colab": {
          "base_uri": "https://localhost:8080/"
        },
        "id": "N-ezykcI9cze",
        "outputId": "b424ec83-7961-4ad3-d4c5-7c693c0802f1"
      },
      "execution_count": null,
      "outputs": [
        {
          "output_type": "execute_result",
          "data": {
            "text/plain": [
              "(9.3, 1258, 27.2, 3693)"
            ]
          },
          "metadata": {},
          "execution_count": 59
        }
      ]
    },
    {
      "cell_type": "markdown",
      "source": [
        "### 230대 자동차"
      ],
      "metadata": {
        "id": "DUwEPxhE9k5V"
      }
    },
    {
      "cell_type": "code",
      "source": [
        "car_counts = df3_23['자동차'].value_counts()\n",
        "car_counts"
      ],
      "metadata": {
        "colab": {
          "base_uri": "https://localhost:8080/"
        },
        "id": "LyG0FIdx9ob0",
        "outputId": "a1dae1fb-d9a5-4b38-b877-33ccde00f3bd"
      },
      "execution_count": null,
      "outputs": [
        {
          "output_type": "execute_result",
          "data": {
            "text/plain": [
              "준중형차 (아반떼, K3, 크루즈, 제타급 등)          818\n",
              "중형차 (쏘나타, K5, 말리부, 골프급 등)           695\n",
              "경차 (모닝, 스파크 등)                      422\n",
              "준중형SUV (투싼, 스포티지, QM5, 티구안급 등)      315\n",
              "중형SUV (싼타페, 쏘렌토, 캡티바, BMW X3급 등)    237\n",
              "준대형차 (그랜저, K7, 알페온, 캠리급, 파사트급 등)    218\n",
              "소형차 (액센트, 프라이드, 아베오, 피아트급 등)        189\n",
              "소형SUV/CUV (티볼리, QM3 등)              121\n",
              "대형차 (제너시스, BMW5급 등)                  94\n",
              "MPV (카니발, 올란도, 피카소급, 오딧세이 등)         90\n",
              "기타 (승합차/트럭/화물차/기타 차량 등)              71\n",
              "대형SUV (베라크루즈, 모하비, 투아렉급 등)           39\n",
              "프리미엄 (에쿠스, BMW7급 등)                  25\n",
              "스포츠 (제네시스 쿠페, BMW M, 벤츠 AMG 등)       24\n",
              "준중형파생 (벨로스터, I30 등)                  24\n",
              "중형파생 (I40 등)                          3\n",
              "Name: 자동차, dtype: int64"
            ]
          },
          "metadata": {},
          "execution_count": 60
        }
      ]
    },
    {
      "cell_type": "code",
      "source": [
        "round(car_counts.sum() / len(df3_23) * 100, 1),\\\n",
        "car_counts.sum()"
      ],
      "metadata": {
        "colab": {
          "base_uri": "https://localhost:8080/"
        },
        "id": "7Tv2uGsg9p5y",
        "outputId": "f47e89de-e1b4-4ed6-ec22-620cb285fff1"
      },
      "execution_count": null,
      "outputs": [
        {
          "output_type": "execute_result",
          "data": {
            "text/plain": [
              "(24.9, 3385)"
            ]
          },
          "metadata": {},
          "execution_count": 61
        }
      ]
    },
    {
      "cell_type": "code",
      "source": [
        "car2_counts = df3_2['자동차'].value_counts()\n",
        "car3_counts = df3_3['자동차'].value_counts()\n",
        "\n",
        "round(car2_counts.sum() / len(df3_23) * 100, 1),\\\n",
        "car2_counts.sum(),\\\n",
        "round(car3_counts.sum() / len(df3_23) * 100, 1),\\\n",
        "car3_counts.sum()"
      ],
      "metadata": {
        "colab": {
          "base_uri": "https://localhost:8080/"
        },
        "id": "Gkhve_iH9tAW",
        "outputId": "833a6b4f-83cb-4cad-d8e1-373d63831bef"
      },
      "execution_count": null,
      "outputs": [
        {
          "output_type": "execute_result",
          "data": {
            "text/plain": [
              "(4.9, 661, 20.1, 2724)"
            ]
          },
          "metadata": {},
          "execution_count": 62
        }
      ]
    },
    {
      "cell_type": "markdown",
      "source": [
        "### 230대 거주지"
      ],
      "metadata": {
        "id": "hmxw6FnS9yZi"
      }
    },
    {
      "cell_type": "code",
      "source": [
        "df3_23['시도'].value_counts()[:5],\\\n",
        "df3_2['시도'].value_counts()[:5],\\\n",
        "df3_3['시도'].value_counts()[:5]"
      ],
      "metadata": {
        "colab": {
          "base_uri": "https://localhost:8080/"
        },
        "id": "LBxq384C90Gf",
        "outputId": "56dfd58c-5a20-414e-8186-b9be1a632366"
      },
      "execution_count": null,
      "outputs": [
        {
          "output_type": "execute_result",
          "data": {
            "text/plain": [
              "(서울    4422\n",
              " 경기    3351\n",
              " 인천     867\n",
              " 부산     835\n",
              " 대구     588\n",
              " Name: 시도, dtype: int64,\n",
              " 서울    1898\n",
              " 경기    1462\n",
              " 인천     396\n",
              " 부산     394\n",
              " 대구     310\n",
              " Name: 시도, dtype: int64,\n",
              " 서울    2524\n",
              " 경기    1889\n",
              " 인천     471\n",
              " 부산     441\n",
              " 경남     287\n",
              " Name: 시도, dtype: int64)"
            ]
          },
          "metadata": {},
          "execution_count": 63
        }
      ]
    },
    {
      "cell_type": "code",
      "source": [
        "df3_23[df3_23['시도'] == \"서울\"]['자전거길'].value_counts()[:5],\\\n",
        "df3_2[df3_2['시도'] == \"서울\"]['자전거길'].value_counts()[:5],\\\n",
        "df3_3[df3_3['시도'] == \"서울\"]['자전거길'].value_counts()[:5]"
      ],
      "metadata": {
        "colab": {
          "base_uri": "https://localhost:8080/"
        },
        "id": "llrovvhC93YT",
        "outputId": "0a93e270-878b-441b-a3aa-029cc9b6f32c"
      },
      "execution_count": null,
      "outputs": [
        {
          "output_type": "execute_result",
          "data": {
            "text/plain": [
              "(영산강자전거길    328\n",
              " 섬진강자전거길    270\n",
              " 낙동강자전거길    261\n",
              " 남한강자전거길    245\n",
              " 동해안자전거길    228\n",
              " Name: 자전거길, dtype: int64,\n",
              " 영산강자전거길    149\n",
              " 낙동강자전거길    117\n",
              " 섬진강자전거길    114\n",
              " 남한강자전거길    103\n",
              " 금강자전거길      94\n",
              " Name: 자전거길, dtype: int64,\n",
              " 영산강자전거길    179\n",
              " 섬진강자전거길    156\n",
              " 낙동강자전거길    144\n",
              " 남한강자전거길    142\n",
              " 동해안자전거길    135\n",
              " Name: 자전거길, dtype: int64)"
            ]
          },
          "metadata": {},
          "execution_count": 64
        }
      ]
    },
    {
      "cell_type": "code",
      "source": [
        "df3_1456['시도'].value_counts()[:5],\\\n",
        "df3_1456[df3_1456['시도'] == \"서울\"]['자전거길'].value_counts()[:5]"
      ],
      "metadata": {
        "colab": {
          "base_uri": "https://localhost:8080/"
        },
        "id": "1yRAIcxa96ht",
        "outputId": "dc5aaf41-230f-46e9-b7a9-9856c8e12e84"
      },
      "execution_count": null,
      "outputs": [
        {
          "output_type": "execute_result",
          "data": {
            "text/plain": [
              "(서울    3335\n",
              " 경기    2837\n",
              " 인천     640\n",
              " 부산     511\n",
              " 경남     350\n",
              " Name: 시도, dtype: int64,\n",
              " 영산강자전거길    242\n",
              " 남한강자전거길    191\n",
              " 동해안자전거길    191\n",
              " 낙동강자전거길    190\n",
              " 북한강자전거길    178\n",
              " Name: 자전거길, dtype: int64)"
            ]
          },
          "metadata": {},
          "execution_count": 65
        }
      ]
    },
    {
      "cell_type": "code",
      "source": [],
      "metadata": {
        "id": "MmHeiPp4MnKH"
      },
      "execution_count": null,
      "outputs": []
    },
    {
      "cell_type": "markdown",
      "source": [
        "# df4 : 자전거코스/자전거길 관심인구 자전거용품 검색 정보 (Total : 3,200)"
      ],
      "metadata": {
        "id": "nj9yT_QkBAd9"
      }
    },
    {
      "cell_type": "code",
      "source": [
        "len(df4)"
      ],
      "metadata": {
        "colab": {
          "base_uri": "https://localhost:8080/"
        },
        "id": "vr9m7UPhQND4",
        "outputId": "61a8b2bb-6953-473b-c62c-4d549ad1674e"
      },
      "execution_count": null,
      "outputs": [
        {
          "output_type": "execute_result",
          "data": {
            "text/plain": [
              "3200"
            ]
          },
          "metadata": {},
          "execution_count": 126
        }
      ]
    },
    {
      "cell_type": "code",
      "source": [
        "df4.head()"
      ],
      "metadata": {
        "colab": {
          "base_uri": "https://localhost:8080/",
          "height": 632
        },
        "outputId": "cbd2e4d2-c7dc-4986-f548-ee61b0663258",
        "id": "w1oWx2qeNBVj"
      },
      "execution_count": null,
      "outputs": [
        {
          "output_type": "execute_result",
          "data": {
            "text/plain": [
              "        카테고리                                               상품내용 성별  연령  \\\n",
              "0    자전거액세서리                          유아안장자전거유아안장 후방유아안장 아동보조안장  F   5   \n",
              "1  에어펌프(발펌프)                 GIYO지요 GF-56GTB ULTRA 자전거펌프 공기배출기능  F   4   \n",
              "2         장갑                         윈드스토퍼스마트터치 겨울 방한장갑 네오프렌 방풍  F   2   \n",
              "3   자전거의류/잡화  사은품증정나루 마스크 자전거 자외선차단 등산 골프 바라클라바 버프 겨울 방한 넥워머...  M   2   \n",
              "4    자전거액세서리                 완전사2017년 신형 KSM400-3 SE 연납축전지 12V/  M   3   \n",
              "\n",
              "                          직업          소득      결혼          자녀             주거  \\\n",
              "0                        NaN         NaN                                NaN   \n",
              "1                        NaN         NaN                                NaN   \n",
              "2      학생 (초중고학생, 대학생, 대학원생)   300~399만원     아니오                       단독주택   \n",
              "3    서비스직 (요식업, 숙박업, 미용실종업원)  1,000만원 이상     아니오              연립주택/ 다세대/ 빌라   \n",
              "4  생산/노무직 (생산감독, 경비원, 공장근로자)   300~399만원   예          자녀 없음   연립주택/ 다세대/ 빌라   \n",
              "\n",
              "   시도        구     동                         자동차  \n",
              "0  서울      강서구  화곡8동                         NaN  \n",
              "1  경기      오산시   갈곶동                         NaN  \n",
              "2  부산      사상구   괘법동                         NaN  \n",
              "3  경기  고양시 덕양구   내유동                         NaN  \n",
              "4  경기  안산시 단원구  선부2동  준중형차 (아반떼, K3, 크루즈, 제타급 등)  "
            ],
            "text/html": [
              "\n",
              "  <div id=\"df-8677fc77-a856-45e2-a8aa-b3c94312a1b4\">\n",
              "    <div class=\"colab-df-container\">\n",
              "      <div>\n",
              "<style scoped>\n",
              "    .dataframe tbody tr th:only-of-type {\n",
              "        vertical-align: middle;\n",
              "    }\n",
              "\n",
              "    .dataframe tbody tr th {\n",
              "        vertical-align: top;\n",
              "    }\n",
              "\n",
              "    .dataframe thead th {\n",
              "        text-align: right;\n",
              "    }\n",
              "</style>\n",
              "<table border=\"1\" class=\"dataframe\">\n",
              "  <thead>\n",
              "    <tr style=\"text-align: right;\">\n",
              "      <th></th>\n",
              "      <th>카테고리</th>\n",
              "      <th>상품내용</th>\n",
              "      <th>성별</th>\n",
              "      <th>연령</th>\n",
              "      <th>직업</th>\n",
              "      <th>소득</th>\n",
              "      <th>결혼</th>\n",
              "      <th>자녀</th>\n",
              "      <th>주거</th>\n",
              "      <th>시도</th>\n",
              "      <th>구</th>\n",
              "      <th>동</th>\n",
              "      <th>자동차</th>\n",
              "    </tr>\n",
              "  </thead>\n",
              "  <tbody>\n",
              "    <tr>\n",
              "      <th>0</th>\n",
              "      <td>자전거액세서리</td>\n",
              "      <td>유아안장자전거유아안장 후방유아안장 아동보조안장</td>\n",
              "      <td>F</td>\n",
              "      <td>5</td>\n",
              "      <td>NaN</td>\n",
              "      <td>NaN</td>\n",
              "      <td></td>\n",
              "      <td></td>\n",
              "      <td>NaN</td>\n",
              "      <td>서울</td>\n",
              "      <td>강서구</td>\n",
              "      <td>화곡8동</td>\n",
              "      <td>NaN</td>\n",
              "    </tr>\n",
              "    <tr>\n",
              "      <th>1</th>\n",
              "      <td>에어펌프(발펌프)</td>\n",
              "      <td>GIYO지요 GF-56GTB ULTRA 자전거펌프 공기배출기능</td>\n",
              "      <td>F</td>\n",
              "      <td>4</td>\n",
              "      <td>NaN</td>\n",
              "      <td>NaN</td>\n",
              "      <td></td>\n",
              "      <td></td>\n",
              "      <td>NaN</td>\n",
              "      <td>경기</td>\n",
              "      <td>오산시</td>\n",
              "      <td>갈곶동</td>\n",
              "      <td>NaN</td>\n",
              "    </tr>\n",
              "    <tr>\n",
              "      <th>2</th>\n",
              "      <td>장갑</td>\n",
              "      <td>윈드스토퍼스마트터치 겨울 방한장갑 네오프렌 방풍</td>\n",
              "      <td>F</td>\n",
              "      <td>2</td>\n",
              "      <td>학생 (초중고학생, 대학생, 대학원생)</td>\n",
              "      <td>300~399만원</td>\n",
              "      <td>아니오</td>\n",
              "      <td></td>\n",
              "      <td>단독주택</td>\n",
              "      <td>부산</td>\n",
              "      <td>사상구</td>\n",
              "      <td>괘법동</td>\n",
              "      <td>NaN</td>\n",
              "    </tr>\n",
              "    <tr>\n",
              "      <th>3</th>\n",
              "      <td>자전거의류/잡화</td>\n",
              "      <td>사은품증정나루 마스크 자전거 자외선차단 등산 골프 바라클라바 버프 겨울 방한 넥워머...</td>\n",
              "      <td>M</td>\n",
              "      <td>2</td>\n",
              "      <td>서비스직 (요식업, 숙박업, 미용실종업원)</td>\n",
              "      <td>1,000만원 이상</td>\n",
              "      <td>아니오</td>\n",
              "      <td></td>\n",
              "      <td>연립주택/ 다세대/ 빌라</td>\n",
              "      <td>경기</td>\n",
              "      <td>고양시 덕양구</td>\n",
              "      <td>내유동</td>\n",
              "      <td>NaN</td>\n",
              "    </tr>\n",
              "    <tr>\n",
              "      <th>4</th>\n",
              "      <td>자전거액세서리</td>\n",
              "      <td>완전사2017년 신형 KSM400-3 SE 연납축전지 12V/</td>\n",
              "      <td>M</td>\n",
              "      <td>3</td>\n",
              "      <td>생산/노무직 (생산감독, 경비원, 공장근로자)</td>\n",
              "      <td>300~399만원</td>\n",
              "      <td>예</td>\n",
              "      <td>자녀 없음</td>\n",
              "      <td>연립주택/ 다세대/ 빌라</td>\n",
              "      <td>경기</td>\n",
              "      <td>안산시 단원구</td>\n",
              "      <td>선부2동</td>\n",
              "      <td>준중형차 (아반떼, K3, 크루즈, 제타급 등)</td>\n",
              "    </tr>\n",
              "  </tbody>\n",
              "</table>\n",
              "</div>\n",
              "      <button class=\"colab-df-convert\" onclick=\"convertToInteractive('df-8677fc77-a856-45e2-a8aa-b3c94312a1b4')\"\n",
              "              title=\"Convert this dataframe to an interactive table.\"\n",
              "              style=\"display:none;\">\n",
              "        \n",
              "  <svg xmlns=\"http://www.w3.org/2000/svg\" height=\"24px\"viewBox=\"0 0 24 24\"\n",
              "       width=\"24px\">\n",
              "    <path d=\"M0 0h24v24H0V0z\" fill=\"none\"/>\n",
              "    <path d=\"M18.56 5.44l.94 2.06.94-2.06 2.06-.94-2.06-.94-.94-2.06-.94 2.06-2.06.94zm-11 1L8.5 8.5l.94-2.06 2.06-.94-2.06-.94L8.5 2.5l-.94 2.06-2.06.94zm10 10l.94 2.06.94-2.06 2.06-.94-2.06-.94-.94-2.06-.94 2.06-2.06.94z\"/><path d=\"M17.41 7.96l-1.37-1.37c-.4-.4-.92-.59-1.43-.59-.52 0-1.04.2-1.43.59L10.3 9.45l-7.72 7.72c-.78.78-.78 2.05 0 2.83L4 21.41c.39.39.9.59 1.41.59.51 0 1.02-.2 1.41-.59l7.78-7.78 2.81-2.81c.8-.78.8-2.07 0-2.86zM5.41 20L4 18.59l7.72-7.72 1.47 1.35L5.41 20z\"/>\n",
              "  </svg>\n",
              "      </button>\n",
              "      \n",
              "  <style>\n",
              "    .colab-df-container {\n",
              "      display:flex;\n",
              "      flex-wrap:wrap;\n",
              "      gap: 12px;\n",
              "    }\n",
              "\n",
              "    .colab-df-convert {\n",
              "      background-color: #E8F0FE;\n",
              "      border: none;\n",
              "      border-radius: 50%;\n",
              "      cursor: pointer;\n",
              "      display: none;\n",
              "      fill: #1967D2;\n",
              "      height: 32px;\n",
              "      padding: 0 0 0 0;\n",
              "      width: 32px;\n",
              "    }\n",
              "\n",
              "    .colab-df-convert:hover {\n",
              "      background-color: #E2EBFA;\n",
              "      box-shadow: 0px 1px 2px rgba(60, 64, 67, 0.3), 0px 1px 3px 1px rgba(60, 64, 67, 0.15);\n",
              "      fill: #174EA6;\n",
              "    }\n",
              "\n",
              "    [theme=dark] .colab-df-convert {\n",
              "      background-color: #3B4455;\n",
              "      fill: #D2E3FC;\n",
              "    }\n",
              "\n",
              "    [theme=dark] .colab-df-convert:hover {\n",
              "      background-color: #434B5C;\n",
              "      box-shadow: 0px 1px 3px 1px rgba(0, 0, 0, 0.15);\n",
              "      filter: drop-shadow(0px 1px 2px rgba(0, 0, 0, 0.3));\n",
              "      fill: #FFFFFF;\n",
              "    }\n",
              "  </style>\n",
              "\n",
              "      <script>\n",
              "        const buttonEl =\n",
              "          document.querySelector('#df-8677fc77-a856-45e2-a8aa-b3c94312a1b4 button.colab-df-convert');\n",
              "        buttonEl.style.display =\n",
              "          google.colab.kernel.accessAllowed ? 'block' : 'none';\n",
              "\n",
              "        async function convertToInteractive(key) {\n",
              "          const element = document.querySelector('#df-8677fc77-a856-45e2-a8aa-b3c94312a1b4');\n",
              "          const dataTable =\n",
              "            await google.colab.kernel.invokeFunction('convertToInteractive',\n",
              "                                                     [key], {});\n",
              "          if (!dataTable) return;\n",
              "\n",
              "          const docLinkHtml = 'Like what you see? Visit the ' +\n",
              "            '<a target=\"_blank\" href=https://colab.research.google.com/notebooks/data_table.ipynb>data table notebook</a>'\n",
              "            + ' to learn more about interactive tables.';\n",
              "          element.innerHTML = '';\n",
              "          dataTable['output_type'] = 'display_data';\n",
              "          await google.colab.output.renderOutput(dataTable, element);\n",
              "          const docLink = document.createElement('div');\n",
              "          docLink.innerHTML = docLinkHtml;\n",
              "          element.appendChild(docLink);\n",
              "        }\n",
              "      </script>\n",
              "    </div>\n",
              "  </div>\n",
              "  "
            ]
          },
          "metadata": {},
          "execution_count": 66
        }
      ]
    },
    {
      "cell_type": "code",
      "source": [
        "age_counts = df4['연령'].value_counts()\n",
        "age_counts"
      ],
      "metadata": {
        "colab": {
          "base_uri": "https://localhost:8080/"
        },
        "outputId": "849ed8a1-769f-4e25-dcf8-bb5439234d57",
        "id": "TASLNlxWNBVj"
      },
      "execution_count": null,
      "outputs": [
        {
          "output_type": "execute_result",
          "data": {
            "text/plain": [
              "3    983\n",
              "2    867\n",
              "4    839\n",
              "5    511\n",
              "Name: 연령, dtype: int64"
            ]
          },
          "metadata": {},
          "execution_count": 141
        }
      ]
    },
    {
      "cell_type": "code",
      "source": [
        "age_counts.loc[[2,3]].sum()"
      ],
      "metadata": {
        "id": "W8YIfFb9bSVb",
        "outputId": "d88637ad-6811-4343-d720-06b3f1c5d2a6",
        "colab": {
          "base_uri": "https://localhost:8080/"
        }
      },
      "execution_count": null,
      "outputs": [
        {
          "output_type": "execute_result",
          "data": {
            "text/plain": [
              "1850"
            ]
          },
          "metadata": {},
          "execution_count": 142
        }
      ]
    },
    {
      "cell_type": "code",
      "source": [
        "round(age_counts.loc[[2,3]].sum() / age_counts.sum() * 100, 1),\\\n",
        "round(age_counts.loc[2] / age_counts.sum() * 100, 1),\\\n",
        "round(age_counts.loc[3] / age_counts.sum() * 100, 1),\\\n",
        "round(age_counts.drop([2,3]).sum() / age_counts.sum() * 100, 1)"
      ],
      "metadata": {
        "colab": {
          "base_uri": "https://localhost:8080/"
        },
        "outputId": "93c947df-a9af-42c7-9c14-0363f10b2d7d",
        "id": "cOcxlrJhNBVj"
      },
      "execution_count": null,
      "outputs": [
        {
          "output_type": "execute_result",
          "data": {
            "text/plain": [
              "(57.8, 27.1, 30.7, 42.2)"
            ]
          },
          "metadata": {},
          "execution_count": 68
        }
      ]
    },
    {
      "cell_type": "code",
      "source": [
        "df4_23 = df4[df4['연령'].isin([2, 3])]\n",
        "df4_2 = df4[(df4['연령'] == 2)]\n",
        "df4_3 = df4[(df4['연령'] == 3)]\n",
        "df4_45 = df4[df4['연령'].isin([4, 5])]"
      ],
      "metadata": {
        "id": "POhObRF-NBVj"
      },
      "execution_count": null,
      "outputs": []
    },
    {
      "cell_type": "code",
      "source": [
        "df4_23.head()"
      ],
      "metadata": {
        "colab": {
          "base_uri": "https://localhost:8080/",
          "height": 615
        },
        "outputId": "229a0053-8389-4690-d727-0575549e0208",
        "id": "TeLTYltONBVk"
      },
      "execution_count": null,
      "outputs": [
        {
          "output_type": "execute_result",
          "data": {
            "text/plain": [
              "        카테고리                                               상품내용 성별  연령  \\\n",
              "2         장갑                         윈드스토퍼스마트터치 겨울 방한장갑 네오프렌 방풍  F   2   \n",
              "3   자전거의류/잡화  사은품증정나루 마스크 자전거 자외선차단 등산 골프 바라클라바 버프 겨울 방한 넥워머...  M   2   \n",
              "4    자전거액세서리                 완전사2017년 신형 KSM400-3 SE 연납축전지 12V/  M   3   \n",
              "7  자전거타이어/부품                삼천리알루미늄 핸드펌프  - 자전거 다용도 튜브 펌프 공기주입기  M   3   \n",
              "9        자전거                         지멘스여성용 부인용 자전거 클래식 24 26인치  M   3   \n",
              "\n",
              "                          직업          소득      결혼          자녀             주거  \\\n",
              "2      학생 (초중고학생, 대학생, 대학원생)   300~399만원     아니오                       단독주택   \n",
              "3    서비스직 (요식업, 숙박업, 미용실종업원)  1,000만원 이상     아니오              연립주택/ 다세대/ 빌라   \n",
              "4  생산/노무직 (생산감독, 경비원, 공장근로자)   300~399만원   예          자녀 없음   연립주택/ 다세대/ 빌라   \n",
              "7                        NaN         NaN                                NaN   \n",
              "9                        NaN         NaN                                NaN   \n",
              "\n",
              "   시도        구     동                         자동차  \n",
              "2  부산      사상구   괘법동                         NaN  \n",
              "3  경기  고양시 덕양구   내유동                         NaN  \n",
              "4  경기  안산시 단원구  선부2동  준중형차 (아반떼, K3, 크루즈, 제타급 등)  \n",
              "7  부산       북구  만덕3동                         NaN  \n",
              "9  서울      강남구   일원동                         NaN  "
            ],
            "text/html": [
              "\n",
              "  <div id=\"df-d88315ba-0021-491c-95a4-8727d8b6bcee\">\n",
              "    <div class=\"colab-df-container\">\n",
              "      <div>\n",
              "<style scoped>\n",
              "    .dataframe tbody tr th:only-of-type {\n",
              "        vertical-align: middle;\n",
              "    }\n",
              "\n",
              "    .dataframe tbody tr th {\n",
              "        vertical-align: top;\n",
              "    }\n",
              "\n",
              "    .dataframe thead th {\n",
              "        text-align: right;\n",
              "    }\n",
              "</style>\n",
              "<table border=\"1\" class=\"dataframe\">\n",
              "  <thead>\n",
              "    <tr style=\"text-align: right;\">\n",
              "      <th></th>\n",
              "      <th>카테고리</th>\n",
              "      <th>상품내용</th>\n",
              "      <th>성별</th>\n",
              "      <th>연령</th>\n",
              "      <th>직업</th>\n",
              "      <th>소득</th>\n",
              "      <th>결혼</th>\n",
              "      <th>자녀</th>\n",
              "      <th>주거</th>\n",
              "      <th>시도</th>\n",
              "      <th>구</th>\n",
              "      <th>동</th>\n",
              "      <th>자동차</th>\n",
              "    </tr>\n",
              "  </thead>\n",
              "  <tbody>\n",
              "    <tr>\n",
              "      <th>2</th>\n",
              "      <td>장갑</td>\n",
              "      <td>윈드스토퍼스마트터치 겨울 방한장갑 네오프렌 방풍</td>\n",
              "      <td>F</td>\n",
              "      <td>2</td>\n",
              "      <td>학생 (초중고학생, 대학생, 대학원생)</td>\n",
              "      <td>300~399만원</td>\n",
              "      <td>아니오</td>\n",
              "      <td></td>\n",
              "      <td>단독주택</td>\n",
              "      <td>부산</td>\n",
              "      <td>사상구</td>\n",
              "      <td>괘법동</td>\n",
              "      <td>NaN</td>\n",
              "    </tr>\n",
              "    <tr>\n",
              "      <th>3</th>\n",
              "      <td>자전거의류/잡화</td>\n",
              "      <td>사은품증정나루 마스크 자전거 자외선차단 등산 골프 바라클라바 버프 겨울 방한 넥워머...</td>\n",
              "      <td>M</td>\n",
              "      <td>2</td>\n",
              "      <td>서비스직 (요식업, 숙박업, 미용실종업원)</td>\n",
              "      <td>1,000만원 이상</td>\n",
              "      <td>아니오</td>\n",
              "      <td></td>\n",
              "      <td>연립주택/ 다세대/ 빌라</td>\n",
              "      <td>경기</td>\n",
              "      <td>고양시 덕양구</td>\n",
              "      <td>내유동</td>\n",
              "      <td>NaN</td>\n",
              "    </tr>\n",
              "    <tr>\n",
              "      <th>4</th>\n",
              "      <td>자전거액세서리</td>\n",
              "      <td>완전사2017년 신형 KSM400-3 SE 연납축전지 12V/</td>\n",
              "      <td>M</td>\n",
              "      <td>3</td>\n",
              "      <td>생산/노무직 (생산감독, 경비원, 공장근로자)</td>\n",
              "      <td>300~399만원</td>\n",
              "      <td>예</td>\n",
              "      <td>자녀 없음</td>\n",
              "      <td>연립주택/ 다세대/ 빌라</td>\n",
              "      <td>경기</td>\n",
              "      <td>안산시 단원구</td>\n",
              "      <td>선부2동</td>\n",
              "      <td>준중형차 (아반떼, K3, 크루즈, 제타급 등)</td>\n",
              "    </tr>\n",
              "    <tr>\n",
              "      <th>7</th>\n",
              "      <td>자전거타이어/부품</td>\n",
              "      <td>삼천리알루미늄 핸드펌프  - 자전거 다용도 튜브 펌프 공기주입기</td>\n",
              "      <td>M</td>\n",
              "      <td>3</td>\n",
              "      <td>NaN</td>\n",
              "      <td>NaN</td>\n",
              "      <td></td>\n",
              "      <td></td>\n",
              "      <td>NaN</td>\n",
              "      <td>부산</td>\n",
              "      <td>북구</td>\n",
              "      <td>만덕3동</td>\n",
              "      <td>NaN</td>\n",
              "    </tr>\n",
              "    <tr>\n",
              "      <th>9</th>\n",
              "      <td>자전거</td>\n",
              "      <td>지멘스여성용 부인용 자전거 클래식 24 26인치</td>\n",
              "      <td>M</td>\n",
              "      <td>3</td>\n",
              "      <td>NaN</td>\n",
              "      <td>NaN</td>\n",
              "      <td></td>\n",
              "      <td></td>\n",
              "      <td>NaN</td>\n",
              "      <td>서울</td>\n",
              "      <td>강남구</td>\n",
              "      <td>일원동</td>\n",
              "      <td>NaN</td>\n",
              "    </tr>\n",
              "  </tbody>\n",
              "</table>\n",
              "</div>\n",
              "      <button class=\"colab-df-convert\" onclick=\"convertToInteractive('df-d88315ba-0021-491c-95a4-8727d8b6bcee')\"\n",
              "              title=\"Convert this dataframe to an interactive table.\"\n",
              "              style=\"display:none;\">\n",
              "        \n",
              "  <svg xmlns=\"http://www.w3.org/2000/svg\" height=\"24px\"viewBox=\"0 0 24 24\"\n",
              "       width=\"24px\">\n",
              "    <path d=\"M0 0h24v24H0V0z\" fill=\"none\"/>\n",
              "    <path d=\"M18.56 5.44l.94 2.06.94-2.06 2.06-.94-2.06-.94-.94-2.06-.94 2.06-2.06.94zm-11 1L8.5 8.5l.94-2.06 2.06-.94-2.06-.94L8.5 2.5l-.94 2.06-2.06.94zm10 10l.94 2.06.94-2.06 2.06-.94-2.06-.94-.94-2.06-.94 2.06-2.06.94z\"/><path d=\"M17.41 7.96l-1.37-1.37c-.4-.4-.92-.59-1.43-.59-.52 0-1.04.2-1.43.59L10.3 9.45l-7.72 7.72c-.78.78-.78 2.05 0 2.83L4 21.41c.39.39.9.59 1.41.59.51 0 1.02-.2 1.41-.59l7.78-7.78 2.81-2.81c.8-.78.8-2.07 0-2.86zM5.41 20L4 18.59l7.72-7.72 1.47 1.35L5.41 20z\"/>\n",
              "  </svg>\n",
              "      </button>\n",
              "      \n",
              "  <style>\n",
              "    .colab-df-container {\n",
              "      display:flex;\n",
              "      flex-wrap:wrap;\n",
              "      gap: 12px;\n",
              "    }\n",
              "\n",
              "    .colab-df-convert {\n",
              "      background-color: #E8F0FE;\n",
              "      border: none;\n",
              "      border-radius: 50%;\n",
              "      cursor: pointer;\n",
              "      display: none;\n",
              "      fill: #1967D2;\n",
              "      height: 32px;\n",
              "      padding: 0 0 0 0;\n",
              "      width: 32px;\n",
              "    }\n",
              "\n",
              "    .colab-df-convert:hover {\n",
              "      background-color: #E2EBFA;\n",
              "      box-shadow: 0px 1px 2px rgba(60, 64, 67, 0.3), 0px 1px 3px 1px rgba(60, 64, 67, 0.15);\n",
              "      fill: #174EA6;\n",
              "    }\n",
              "\n",
              "    [theme=dark] .colab-df-convert {\n",
              "      background-color: #3B4455;\n",
              "      fill: #D2E3FC;\n",
              "    }\n",
              "\n",
              "    [theme=dark] .colab-df-convert:hover {\n",
              "      background-color: #434B5C;\n",
              "      box-shadow: 0px 1px 3px 1px rgba(0, 0, 0, 0.15);\n",
              "      filter: drop-shadow(0px 1px 2px rgba(0, 0, 0, 0.3));\n",
              "      fill: #FFFFFF;\n",
              "    }\n",
              "  </style>\n",
              "\n",
              "      <script>\n",
              "        const buttonEl =\n",
              "          document.querySelector('#df-d88315ba-0021-491c-95a4-8727d8b6bcee button.colab-df-convert');\n",
              "        buttonEl.style.display =\n",
              "          google.colab.kernel.accessAllowed ? 'block' : 'none';\n",
              "\n",
              "        async function convertToInteractive(key) {\n",
              "          const element = document.querySelector('#df-d88315ba-0021-491c-95a4-8727d8b6bcee');\n",
              "          const dataTable =\n",
              "            await google.colab.kernel.invokeFunction('convertToInteractive',\n",
              "                                                     [key], {});\n",
              "          if (!dataTable) return;\n",
              "\n",
              "          const docLinkHtml = 'Like what you see? Visit the ' +\n",
              "            '<a target=\"_blank\" href=https://colab.research.google.com/notebooks/data_table.ipynb>data table notebook</a>'\n",
              "            + ' to learn more about interactive tables.';\n",
              "          element.innerHTML = '';\n",
              "          dataTable['output_type'] = 'display_data';\n",
              "          await google.colab.output.renderOutput(dataTable, element);\n",
              "          const docLink = document.createElement('div');\n",
              "          docLink.innerHTML = docLinkHtml;\n",
              "          element.appendChild(docLink);\n",
              "        }\n",
              "      </script>\n",
              "    </div>\n",
              "  </div>\n",
              "  "
            ]
          },
          "metadata": {},
          "execution_count": 70
        }
      ]
    },
    {
      "cell_type": "markdown",
      "source": [
        "### 230대 성별"
      ],
      "metadata": {
        "id": "F9YuqGlKNBVk"
      }
    },
    {
      "cell_type": "code",
      "source": [
        "sex_counts = df4_23['성별'].value_counts()\n",
        "sex_counts"
      ],
      "metadata": {
        "colab": {
          "base_uri": "https://localhost:8080/"
        },
        "outputId": "3a2d55dd-a103-4a69-ff45-285f2f837028",
        "id": "-9V0ZdUaNBVk"
      },
      "execution_count": null,
      "outputs": [
        {
          "output_type": "execute_result",
          "data": {
            "text/plain": [
              "M    1149\n",
              "F     701\n",
              "Name: 성별, dtype: int64"
            ]
          },
          "metadata": {},
          "execution_count": 71
        }
      ]
    },
    {
      "cell_type": "code",
      "source": [
        "round(sex_counts.loc['F'] / sex_counts.sum() * 100 , 1),\\\n",
        "round(sex_counts.loc['M'] / sex_counts.sum() * 100 , 1)"
      ],
      "metadata": {
        "colab": {
          "base_uri": "https://localhost:8080/"
        },
        "outputId": "6327447d-25ef-4f6c-a54a-81f534842221",
        "id": "9H5-SY0XNBVk"
      },
      "execution_count": null,
      "outputs": [
        {
          "output_type": "execute_result",
          "data": {
            "text/plain": [
              "(37.9, 62.1)"
            ]
          },
          "metadata": {},
          "execution_count": 72
        }
      ]
    },
    {
      "cell_type": "markdown",
      "source": [
        "### 230대 직업"
      ],
      "metadata": {
        "id": "TE1nbLizNBVk"
      }
    },
    {
      "cell_type": "code",
      "source": [
        "df4_23['직업'].notnull().sum(), df4_23['소득'].notnull().sum()"
      ],
      "metadata": {
        "colab": {
          "base_uri": "https://localhost:8080/"
        },
        "outputId": "1b79b3d6-14fd-492e-bcf3-92b3e522ea63",
        "id": "BevhHyHyNBVk"
      },
      "execution_count": null,
      "outputs": [
        {
          "output_type": "execute_result",
          "data": {
            "text/plain": [
              "(1006, 1000)"
            ]
          },
          "metadata": {},
          "execution_count": 73
        }
      ]
    },
    {
      "cell_type": "code",
      "source": [
        "job_counts = df4_23['직업'].value_counts()\n",
        "job_counts"
      ],
      "metadata": {
        "colab": {
          "base_uri": "https://localhost:8080/"
        },
        "outputId": "fde690e7-8f07-4ba3-9c1e-6c22d75ba868",
        "id": "or8g2zbENBVk"
      },
      "execution_count": null,
      "outputs": [
        {
          "output_type": "execute_result",
          "data": {
            "text/plain": [
              "사무직 (일반사무직, 공무원, 직업군인)             318\n",
              "학생 (초중고학생, 대학생, 대학원생)              194\n",
              "전문직 (의사, 판검사, 예술가, 종교인)             96\n",
              "무직                                  86\n",
              "주부 (전업주부, 파트타임 근무 주부)               68\n",
              "서비스직 (요식업, 숙박업, 미용실종업원)             46\n",
              "생산/노무직 (생산감독, 경비원, 공장근로자)           42\n",
              "교직 (교사, 유치원교사, 학원강사)                35\n",
              "자영업 (도소매업, 숙박업, 미용업)                33\n",
              "기타                                  26\n",
              "판매직 (상점점원, 보험설계사, 노점상)              22\n",
              "관리직 (사장, 간부, 고위공무원)                 17\n",
              "기능직 (자동차정비, 운전기사, 안경사, 택시기사)        14\n",
              "농/축/광/수산업 (축산, 낙농업, 수산, 임업, 광업)      6\n",
              "퇴직/연금생활자                             3\n",
              "Name: 직업, dtype: int64"
            ]
          },
          "metadata": {},
          "execution_count": 74
        }
      ]
    },
    {
      "cell_type": "code",
      "source": [
        "drop_jobs = job_counts[job_counts.index.str.contains('학생|퇴직|주부')]\n",
        "drop_jobs"
      ],
      "metadata": {
        "colab": {
          "base_uri": "https://localhost:8080/"
        },
        "outputId": "0315ca7d-a277-4303-9e3f-81622b0eeb4b",
        "id": "_lxVdK7tNBVk"
      },
      "execution_count": null,
      "outputs": [
        {
          "output_type": "execute_result",
          "data": {
            "text/plain": [
              "학생 (초중고학생, 대학생, 대학원생)    194\n",
              "주부 (전업주부, 파트타임 근무 주부)     68\n",
              "퇴직/연금생활자                   3\n",
              "Name: 직업, dtype: int64"
            ]
          },
          "metadata": {},
          "execution_count": 75
        }
      ]
    },
    {
      "cell_type": "code",
      "source": [
        "round((job_counts.sum() - drop_jobs.sum() - job_counts['무직']) / len(df4_23) * 100, 1),\\\n",
        "job_counts.sum() - drop_jobs.sum() - job_counts['무직']"
      ],
      "metadata": {
        "colab": {
          "base_uri": "https://localhost:8080/"
        },
        "outputId": "5392122b-f80d-4c99-a474-26eb5c9cb35a",
        "id": "ZQ6QyBkENBVk"
      },
      "execution_count": null,
      "outputs": [
        {
          "output_type": "execute_result",
          "data": {
            "text/plain": [
              "(35.4, 655)"
            ]
          },
          "metadata": {},
          "execution_count": 81
        }
      ]
    },
    {
      "cell_type": "code",
      "source": [
        "job2_counts = df4_2['직업'].value_counts()\n",
        "job3_counts = df4_3['직업'].value_counts()"
      ],
      "metadata": {
        "id": "XGk6lq8qNBVk"
      },
      "execution_count": null,
      "outputs": []
    },
    {
      "cell_type": "code",
      "source": [
        "drop2_jobs = job2_counts[job2_counts.index.str.contains('학생|퇴직|주부')]\n",
        "drop3_jobs = job3_counts[job3_counts.index.str.contains('학생|퇴직|주부')]\n",
        "drop3_jobs"
      ],
      "metadata": {
        "colab": {
          "base_uri": "https://localhost:8080/"
        },
        "outputId": "31c6d982-4004-4483-f4be-7ad955c3759c",
        "id": "mvEJv1BjNBVk"
      },
      "execution_count": null,
      "outputs": [
        {
          "output_type": "execute_result",
          "data": {
            "text/plain": [
              "주부 (전업주부, 파트타임 근무 주부)    64\n",
              "학생 (초중고학생, 대학생, 대학원생)    14\n",
              "퇴직/연금생활자                  2\n",
              "Name: 직업, dtype: int64"
            ]
          },
          "metadata": {},
          "execution_count": 78
        }
      ]
    },
    {
      "cell_type": "code",
      "source": [
        "round((job2_counts.sum() - drop2_jobs.sum() - job2_counts['무직']) / len(df4_23) * 100, 1),\\\n",
        "job2_counts.sum() - drop2_jobs.sum() - job2_counts['무직'],\\\n",
        "round((job3_counts.sum() - drop3_jobs.sum() - job3_counts['무직']) / len(df4_23) * 100, 1),\\\n",
        "job3_counts.sum() - drop3_jobs.sum() - job3_counts['무직']"
      ],
      "metadata": {
        "colab": {
          "base_uri": "https://localhost:8080/"
        },
        "outputId": "fcf9e0bb-3af8-497f-f738-7e0f7a6e264a",
        "id": "fIxNygjiNBVk"
      },
      "execution_count": null,
      "outputs": [
        {
          "output_type": "execute_result",
          "data": {
            "text/plain": [
              "(9.5, 175, 25.9, 480)"
            ]
          },
          "metadata": {},
          "execution_count": 80
        }
      ]
    },
    {
      "cell_type": "markdown",
      "source": [
        "### 230대 자동차"
      ],
      "metadata": {
        "id": "Et02x0p5NBVk"
      }
    },
    {
      "cell_type": "code",
      "source": [
        "car_counts = df4_23['자동차'].value_counts()\n",
        "car_counts"
      ],
      "metadata": {
        "colab": {
          "base_uri": "https://localhost:8080/"
        },
        "outputId": "a5975a52-1d89-497f-e7a2-3e171301b09b",
        "id": "0SxBKGccNBVk"
      },
      "execution_count": null,
      "outputs": [
        {
          "output_type": "execute_result",
          "data": {
            "text/plain": [
              "준중형차 (아반떼, K3, 크루즈, 제타급 등)          121\n",
              "중형차 (쏘나타, K5, 말리부, 골프급 등)            89\n",
              "준중형SUV (투싼, 스포티지, QM5, 티구안급 등)       46\n",
              "경차 (모닝, 스파크 등)                       44\n",
              "중형SUV (싼타페, 쏘렌토, 캡티바, BMW X3급 등)     34\n",
              "소형차 (액센트, 프라이드, 아베오, 피아트급 등)         32\n",
              "준대형차 (그랜저, K7, 알페온, 캠리급, 파사트급 등)     31\n",
              "대형차 (제너시스, BMW5급 등)                  19\n",
              "소형SUV/CUV (티볼리, QM3 등)               15\n",
              "MPV (카니발, 올란도, 피카소급, 오딧세이 등)         13\n",
              "기타 (승합차/트럭/화물차/기타 차량 등)               8\n",
              "준중형파생 (벨로스터, I30 등)                   6\n",
              "대형SUV (베라크루즈, 모하비, 투아렉급 등)            5\n",
              "스포츠 (제네시스 쿠페, BMW M, 벤츠 AMG 등)        4\n",
              "프리미엄 (에쿠스, BMW7급 등)                   2\n",
              "중형파생 (I40 등)                          1\n",
              "Name: 자동차, dtype: int64"
            ]
          },
          "metadata": {},
          "execution_count": 82
        }
      ]
    },
    {
      "cell_type": "code",
      "source": [
        "round(car_counts.sum() / len(df4_23) * 100, 1),\\\n",
        "car_counts.sum()"
      ],
      "metadata": {
        "colab": {
          "base_uri": "https://localhost:8080/"
        },
        "outputId": "69eae5d8-152b-4973-d764-ea5ecb67b911",
        "id": "HVuq6Ar9NBVk"
      },
      "execution_count": null,
      "outputs": [
        {
          "output_type": "execute_result",
          "data": {
            "text/plain": [
              "(25.4, 470)"
            ]
          },
          "metadata": {},
          "execution_count": 83
        }
      ]
    },
    {
      "cell_type": "code",
      "source": [
        "car2_counts = df4_2['자동차'].value_counts()\n",
        "car3_counts = df4_3['자동차'].value_counts()\n",
        "\n",
        "round(car2_counts.sum() / len(df4_23) * 100, 1),\\\n",
        "car2_counts.sum(),\\\n",
        "round(car3_counts.sum() / len(df4_23) * 100, 1),\\\n",
        "car3_counts.sum()"
      ],
      "metadata": {
        "colab": {
          "base_uri": "https://localhost:8080/"
        },
        "outputId": "e25433d0-c635-45bb-9975-b503a87e24fe",
        "id": "LgXu8FPKNBVk"
      },
      "execution_count": null,
      "outputs": [
        {
          "output_type": "execute_result",
          "data": {
            "text/plain": [
              "(5.2, 96, 20.2, 374)"
            ]
          },
          "metadata": {},
          "execution_count": 84
        }
      ]
    },
    {
      "cell_type": "code",
      "source": [],
      "metadata": {
        "id": "RG7dxLEzNBVk"
      },
      "execution_count": null,
      "outputs": []
    },
    {
      "cell_type": "code",
      "source": [
        "df4_23['시도'].value_counts()[:5],\\\n",
        "df4_2['시도'].value_counts()[:5],\\\n",
        "df4_3['시도'].value_counts()[:5]"
      ],
      "metadata": {
        "colab": {
          "base_uri": "https://localhost:8080/"
        },
        "outputId": "f4129e35-b4d6-4ba9-e4b2-5b299f7357ff",
        "id": "pceYijuZNBVk"
      },
      "execution_count": null,
      "outputs": [
        {
          "output_type": "execute_result",
          "data": {
            "text/plain": [
              "(서울    611\n",
              " 경기    456\n",
              " 인천    120\n",
              " 부산    109\n",
              " 대구     81\n",
              " Name: 시도, dtype: int64,\n",
              " 서울    267\n",
              " 경기    198\n",
              " 부산     53\n",
              " 인천     49\n",
              " 대구     43\n",
              " Name: 시도, dtype: int64,\n",
              " 서울    344\n",
              " 경기    258\n",
              " 인천     71\n",
              " 부산     56\n",
              " 대구     38\n",
              " Name: 시도, dtype: int64)"
            ]
          },
          "metadata": {},
          "execution_count": 85
        }
      ]
    },
    {
      "cell_type": "code",
      "source": [
        "df4_23[df4_23['시도'] == \"서울\"]['카테고리'].value_counts()[:5],\\\n",
        "df4_2[df4_2['시도'] == \"서울\"]['카테고리'].value_counts()[:5],\\\n",
        "df4_3[df4_3['시도'] == \"서울\"]['카테고리'].value_counts()[:5]"
      ],
      "metadata": {
        "colab": {
          "base_uri": "https://localhost:8080/"
        },
        "outputId": "8f1a5314-2711-4f13-8b29-94ae0b203959",
        "id": "S7xvfqO9NBVl"
      },
      "execution_count": null,
      "outputs": [
        {
          "output_type": "execute_result",
          "data": {
            "text/plain": [
              "(자전거         88\n",
              " 자전거액세서리     70\n",
              " 자전거의류/잡화    53\n",
              " 보호대         35\n",
              " 헬멧          32\n",
              " Name: 카테고리, dtype: int64,\n",
              " 자전거         33\n",
              " 자전거액세서리     31\n",
              " 자전거의류/잡화    27\n",
              " 보호대         16\n",
              " 헬멧/보호장비     13\n",
              " Name: 카테고리, dtype: int64,\n",
              " 자전거         55\n",
              " 자전거액세서리     39\n",
              " 자전거의류/잡화    26\n",
              " 헬멧          22\n",
              " 보호대         19\n",
              " Name: 카테고리, dtype: int64)"
            ]
          },
          "metadata": {},
          "execution_count": 86
        }
      ]
    },
    {
      "cell_type": "code",
      "source": [
        "df4_45['시도'].value_counts()[:5],\\\n",
        "df4_45[df4_45['시도'] == \"서울\"]['카테고리'].value_counts()[:5]"
      ],
      "metadata": {
        "colab": {
          "base_uri": "https://localhost:8080/"
        },
        "outputId": "a2dc520a-ad1a-4cf8-ad64-5c84e4f6c5f8",
        "id": "O0Z_zyvENBVl"
      },
      "execution_count": null,
      "outputs": [
        {
          "output_type": "execute_result",
          "data": {
            "text/plain": [
              "(서울    443\n",
              " 경기    408\n",
              " 인천     81\n",
              " 부산     71\n",
              " 대구     51\n",
              " Name: 시도, dtype: int64,\n",
              " 자전거         55\n",
              " 자전거액세서리     54\n",
              " 자전거의류/잡화    33\n",
              " 헬멧          21\n",
              " MTB         20\n",
              " Name: 카테고리, dtype: int64)"
            ]
          },
          "metadata": {},
          "execution_count": 87
        }
      ]
    },
    {
      "cell_type": "code",
      "source": [],
      "metadata": {
        "id": "I_tLVwnDNDKq"
      },
      "execution_count": null,
      "outputs": []
    },
    {
      "cell_type": "markdown",
      "source": [
        "# df5 : 산림치유원 관심인구 선호 산림치유원 검색 정보 (Total : 737)"
      ],
      "metadata": {
        "id": "sawXk2zwNDSM"
      }
    },
    {
      "cell_type": "code",
      "source": [
        "len(df5)"
      ],
      "metadata": {
        "colab": {
          "base_uri": "https://localhost:8080/"
        },
        "id": "pyRvxfnuQIsS",
        "outputId": "991d0bfb-a6aa-4d1c-b802-5fc8982773dd"
      },
      "execution_count": null,
      "outputs": [
        {
          "output_type": "execute_result",
          "data": {
            "text/plain": [
              "737"
            ]
          },
          "metadata": {},
          "execution_count": 125
        }
      ]
    },
    {
      "cell_type": "code",
      "source": [
        "df5.head()"
      ],
      "metadata": {
        "colab": {
          "base_uri": "https://localhost:8080/",
          "height": 649
        },
        "outputId": "a900f494-19d2-4ffc-a760-c57e0f19dedb",
        "id": "TICbJRWWNDb-"
      },
      "execution_count": null,
      "outputs": [
        {
          "output_type": "execute_result",
          "data": {
            "text/plain": [
              "     치유원                                     사이트제목 성별  연령  \\\n",
              "0  산림치유원           [복권기금이야기] 기금투어, 국립산림치유원 숲 체험 캠프  F   4   \n",
              "1  산림치유원                            국립산림치유원 마실치유숲길  F   2   \n",
              "2  산림치유원                   영주 국립산림치유원에서 제대로 힐링하세요!  F   5   \n",
              "3  산림치유원                        국립산림치유원에서 치유를 경험하다  F   4   \n",
              "4  산림치유원  이낙연 국무총리 경북 영주시노인복지관 소수서원 국립산림치유원 웰니스 관광  M   4   \n",
              "\n",
              "                       직업         소득      결혼          자녀         주거  시도     구  \\\n",
              "0  사무직 (일반사무직, 공무원, 직업군인)  400~499만원   예          자녀 있음   아파트/ 주상복합  경기  동두천시   \n",
              "1                      무직   100만원 미만     아니오                   단독주택  경기   파주시   \n",
              "2                     NaN        NaN                            NaN  충남   예산군   \n",
              "3                     NaN        NaN                            NaN  서울  영등포구   \n",
              "4  사무직 (일반사무직, 공무원, 직업군인)  700~799만원   예          자녀 있음   아파트/ 주상복합  인천   연수구   \n",
              "\n",
              "      동                         자동차  \n",
              "0  생연1동  준중형차 (아반떼, K3, 크루즈, 제타급 등)  \n",
              "1   탄현면                         NaN  \n",
              "2   예산읍                         NaN  \n",
              "3  여의도동                         NaN  \n",
              "4   송도동   중형차 (쏘나타, K5, 말리부, 골프급 등)  "
            ],
            "text/html": [
              "\n",
              "  <div id=\"df-8f65821d-3724-46e8-87af-ef9d960988e8\">\n",
              "    <div class=\"colab-df-container\">\n",
              "      <div>\n",
              "<style scoped>\n",
              "    .dataframe tbody tr th:only-of-type {\n",
              "        vertical-align: middle;\n",
              "    }\n",
              "\n",
              "    .dataframe tbody tr th {\n",
              "        vertical-align: top;\n",
              "    }\n",
              "\n",
              "    .dataframe thead th {\n",
              "        text-align: right;\n",
              "    }\n",
              "</style>\n",
              "<table border=\"1\" class=\"dataframe\">\n",
              "  <thead>\n",
              "    <tr style=\"text-align: right;\">\n",
              "      <th></th>\n",
              "      <th>치유원</th>\n",
              "      <th>사이트제목</th>\n",
              "      <th>성별</th>\n",
              "      <th>연령</th>\n",
              "      <th>직업</th>\n",
              "      <th>소득</th>\n",
              "      <th>결혼</th>\n",
              "      <th>자녀</th>\n",
              "      <th>주거</th>\n",
              "      <th>시도</th>\n",
              "      <th>구</th>\n",
              "      <th>동</th>\n",
              "      <th>자동차</th>\n",
              "    </tr>\n",
              "  </thead>\n",
              "  <tbody>\n",
              "    <tr>\n",
              "      <th>0</th>\n",
              "      <td>산림치유원</td>\n",
              "      <td>[복권기금이야기] 기금투어, 국립산림치유원 숲 체험 캠프</td>\n",
              "      <td>F</td>\n",
              "      <td>4</td>\n",
              "      <td>사무직 (일반사무직, 공무원, 직업군인)</td>\n",
              "      <td>400~499만원</td>\n",
              "      <td>예</td>\n",
              "      <td>자녀 있음</td>\n",
              "      <td>아파트/ 주상복합</td>\n",
              "      <td>경기</td>\n",
              "      <td>동두천시</td>\n",
              "      <td>생연1동</td>\n",
              "      <td>준중형차 (아반떼, K3, 크루즈, 제타급 등)</td>\n",
              "    </tr>\n",
              "    <tr>\n",
              "      <th>1</th>\n",
              "      <td>산림치유원</td>\n",
              "      <td>국립산림치유원 마실치유숲길</td>\n",
              "      <td>F</td>\n",
              "      <td>2</td>\n",
              "      <td>무직</td>\n",
              "      <td>100만원 미만</td>\n",
              "      <td>아니오</td>\n",
              "      <td></td>\n",
              "      <td>단독주택</td>\n",
              "      <td>경기</td>\n",
              "      <td>파주시</td>\n",
              "      <td>탄현면</td>\n",
              "      <td>NaN</td>\n",
              "    </tr>\n",
              "    <tr>\n",
              "      <th>2</th>\n",
              "      <td>산림치유원</td>\n",
              "      <td>영주 국립산림치유원에서 제대로 힐링하세요!</td>\n",
              "      <td>F</td>\n",
              "      <td>5</td>\n",
              "      <td>NaN</td>\n",
              "      <td>NaN</td>\n",
              "      <td></td>\n",
              "      <td></td>\n",
              "      <td>NaN</td>\n",
              "      <td>충남</td>\n",
              "      <td>예산군</td>\n",
              "      <td>예산읍</td>\n",
              "      <td>NaN</td>\n",
              "    </tr>\n",
              "    <tr>\n",
              "      <th>3</th>\n",
              "      <td>산림치유원</td>\n",
              "      <td>국립산림치유원에서 치유를 경험하다</td>\n",
              "      <td>F</td>\n",
              "      <td>4</td>\n",
              "      <td>NaN</td>\n",
              "      <td>NaN</td>\n",
              "      <td></td>\n",
              "      <td></td>\n",
              "      <td>NaN</td>\n",
              "      <td>서울</td>\n",
              "      <td>영등포구</td>\n",
              "      <td>여의도동</td>\n",
              "      <td>NaN</td>\n",
              "    </tr>\n",
              "    <tr>\n",
              "      <th>4</th>\n",
              "      <td>산림치유원</td>\n",
              "      <td>이낙연 국무총리 경북 영주시노인복지관 소수서원 국립산림치유원 웰니스 관광</td>\n",
              "      <td>M</td>\n",
              "      <td>4</td>\n",
              "      <td>사무직 (일반사무직, 공무원, 직업군인)</td>\n",
              "      <td>700~799만원</td>\n",
              "      <td>예</td>\n",
              "      <td>자녀 있음</td>\n",
              "      <td>아파트/ 주상복합</td>\n",
              "      <td>인천</td>\n",
              "      <td>연수구</td>\n",
              "      <td>송도동</td>\n",
              "      <td>중형차 (쏘나타, K5, 말리부, 골프급 등)</td>\n",
              "    </tr>\n",
              "  </tbody>\n",
              "</table>\n",
              "</div>\n",
              "      <button class=\"colab-df-convert\" onclick=\"convertToInteractive('df-8f65821d-3724-46e8-87af-ef9d960988e8')\"\n",
              "              title=\"Convert this dataframe to an interactive table.\"\n",
              "              style=\"display:none;\">\n",
              "        \n",
              "  <svg xmlns=\"http://www.w3.org/2000/svg\" height=\"24px\"viewBox=\"0 0 24 24\"\n",
              "       width=\"24px\">\n",
              "    <path d=\"M0 0h24v24H0V0z\" fill=\"none\"/>\n",
              "    <path d=\"M18.56 5.44l.94 2.06.94-2.06 2.06-.94-2.06-.94-.94-2.06-.94 2.06-2.06.94zm-11 1L8.5 8.5l.94-2.06 2.06-.94-2.06-.94L8.5 2.5l-.94 2.06-2.06.94zm10 10l.94 2.06.94-2.06 2.06-.94-2.06-.94-.94-2.06-.94 2.06-2.06.94z\"/><path d=\"M17.41 7.96l-1.37-1.37c-.4-.4-.92-.59-1.43-.59-.52 0-1.04.2-1.43.59L10.3 9.45l-7.72 7.72c-.78.78-.78 2.05 0 2.83L4 21.41c.39.39.9.59 1.41.59.51 0 1.02-.2 1.41-.59l7.78-7.78 2.81-2.81c.8-.78.8-2.07 0-2.86zM5.41 20L4 18.59l7.72-7.72 1.47 1.35L5.41 20z\"/>\n",
              "  </svg>\n",
              "      </button>\n",
              "      \n",
              "  <style>\n",
              "    .colab-df-container {\n",
              "      display:flex;\n",
              "      flex-wrap:wrap;\n",
              "      gap: 12px;\n",
              "    }\n",
              "\n",
              "    .colab-df-convert {\n",
              "      background-color: #E8F0FE;\n",
              "      border: none;\n",
              "      border-radius: 50%;\n",
              "      cursor: pointer;\n",
              "      display: none;\n",
              "      fill: #1967D2;\n",
              "      height: 32px;\n",
              "      padding: 0 0 0 0;\n",
              "      width: 32px;\n",
              "    }\n",
              "\n",
              "    .colab-df-convert:hover {\n",
              "      background-color: #E2EBFA;\n",
              "      box-shadow: 0px 1px 2px rgba(60, 64, 67, 0.3), 0px 1px 3px 1px rgba(60, 64, 67, 0.15);\n",
              "      fill: #174EA6;\n",
              "    }\n",
              "\n",
              "    [theme=dark] .colab-df-convert {\n",
              "      background-color: #3B4455;\n",
              "      fill: #D2E3FC;\n",
              "    }\n",
              "\n",
              "    [theme=dark] .colab-df-convert:hover {\n",
              "      background-color: #434B5C;\n",
              "      box-shadow: 0px 1px 3px 1px rgba(0, 0, 0, 0.15);\n",
              "      filter: drop-shadow(0px 1px 2px rgba(0, 0, 0, 0.3));\n",
              "      fill: #FFFFFF;\n",
              "    }\n",
              "  </style>\n",
              "\n",
              "      <script>\n",
              "        const buttonEl =\n",
              "          document.querySelector('#df-8f65821d-3724-46e8-87af-ef9d960988e8 button.colab-df-convert');\n",
              "        buttonEl.style.display =\n",
              "          google.colab.kernel.accessAllowed ? 'block' : 'none';\n",
              "\n",
              "        async function convertToInteractive(key) {\n",
              "          const element = document.querySelector('#df-8f65821d-3724-46e8-87af-ef9d960988e8');\n",
              "          const dataTable =\n",
              "            await google.colab.kernel.invokeFunction('convertToInteractive',\n",
              "                                                     [key], {});\n",
              "          if (!dataTable) return;\n",
              "\n",
              "          const docLinkHtml = 'Like what you see? Visit the ' +\n",
              "            '<a target=\"_blank\" href=https://colab.research.google.com/notebooks/data_table.ipynb>data table notebook</a>'\n",
              "            + ' to learn more about interactive tables.';\n",
              "          element.innerHTML = '';\n",
              "          dataTable['output_type'] = 'display_data';\n",
              "          await google.colab.output.renderOutput(dataTable, element);\n",
              "          const docLink = document.createElement('div');\n",
              "          docLink.innerHTML = docLinkHtml;\n",
              "          element.appendChild(docLink);\n",
              "        }\n",
              "      </script>\n",
              "    </div>\n",
              "  </div>\n",
              "  "
            ]
          },
          "metadata": {},
          "execution_count": 124
        }
      ]
    },
    {
      "cell_type": "code",
      "source": [
        "age_counts = df5['연령'].value_counts()\n",
        "age_counts"
      ],
      "metadata": {
        "colab": {
          "base_uri": "https://localhost:8080/"
        },
        "outputId": "7ea4efa8-1891-4db3-dd7a-1d65294cbb33",
        "id": "tCbhWZn4NDb_"
      },
      "execution_count": null,
      "outputs": [
        {
          "output_type": "execute_result",
          "data": {
            "text/plain": [
              "3    269\n",
              "4    219\n",
              "5    149\n",
              "2    100\n",
              "Name: 연령, dtype: int64"
            ]
          },
          "metadata": {},
          "execution_count": 143
        }
      ]
    },
    {
      "cell_type": "code",
      "source": [
        "age_counts.loc[[2,3]].sum()"
      ],
      "metadata": {
        "id": "sqQngUKLbWMs",
        "outputId": "e6ce39b9-2f6d-4891-bb3f-40bbad1e747c",
        "colab": {
          "base_uri": "https://localhost:8080/"
        }
      },
      "execution_count": null,
      "outputs": [
        {
          "output_type": "execute_result",
          "data": {
            "text/plain": [
              "369"
            ]
          },
          "metadata": {},
          "execution_count": 144
        }
      ]
    },
    {
      "cell_type": "code",
      "source": [
        "round(age_counts.loc[[2,3]].sum() / age_counts.sum() * 100, 1),\\\n",
        "round(age_counts.loc[2] / age_counts.sum() * 100, 1),\\\n",
        "round(age_counts.loc[3] / age_counts.sum() * 100, 1),\\\n",
        "round(age_counts.drop([2,3]).sum() / age_counts.sum() * 100, 1)"
      ],
      "metadata": {
        "colab": {
          "base_uri": "https://localhost:8080/"
        },
        "outputId": "690a3b2f-008d-46d1-e550-db6c8cb21b68",
        "id": "Kzq0aw17NDb_"
      },
      "execution_count": null,
      "outputs": [
        {
          "output_type": "execute_result",
          "data": {
            "text/plain": [
              "(50.1, 13.6, 36.5, 49.9)"
            ]
          },
          "metadata": {},
          "execution_count": 104
        }
      ]
    },
    {
      "cell_type": "code",
      "source": [
        "df5_23 = df5[df5['연령'].isin([2, 3])]\n",
        "df5_2 = df5[(df5['연령'] == 2)]\n",
        "df5_3 = df5[(df5['연령'] == 3)]\n",
        "df5_45 = df5[df5['연령'].isin([4, 5])]"
      ],
      "metadata": {
        "id": "bO_Kl0mhNDb_"
      },
      "execution_count": null,
      "outputs": []
    },
    {
      "cell_type": "code",
      "source": [
        "df5_23.head()"
      ],
      "metadata": {
        "colab": {
          "base_uri": "https://localhost:8080/",
          "height": 649
        },
        "outputId": "96641f2e-c00c-4e13-93bf-21b11751741e",
        "id": "U8Qfuu1tNDb_"
      },
      "execution_count": null,
      "outputs": [
        {
          "output_type": "execute_result",
          "data": {
            "text/plain": [
              "      치유원                         사이트제목 성별  연령                       직업  \\\n",
              "1   산림치유원                국립산림치유원 마실치유숲길  F   2                       무직   \n",
              "5   산림치유원  영주 국립산림치유원 숲 체험 프로그램 등산 힐링캠프  M   3                      기타    \n",
              "6   산림치유원          국립산림치유원 1박2일 팸투어 힐링♥  F   3  전문직 (의사, 판검사, 예술가, 종교인)   \n",
              "7   산림치유원             영주여행 무섬마을 산림치유원여행  F   3  전문직 (의사, 판검사, 예술가, 종교인)   \n",
              "12  산림치유원                국립 산림 치유원 데크로드  M   2   사무직 (일반사무직, 공무원, 직업군인)   \n",
              "\n",
              "           소득     결혼          자녀             주거  시도    구     동  \\\n",
              "1    100만원 미만    아니오                       단독주택  경기  파주시   탄현면   \n",
              "5   200~299만원    아니오                  아파트/ 주상복합  부산  연제구  거제2동   \n",
              "6   400~499만원  예          자녀 있음   연립주택/ 다세대/ 빌라  경남  진주시   하대동   \n",
              "7   400~499만원  예          자녀 있음   연립주택/ 다세대/ 빌라  경남  진주시   하대동   \n",
              "12  600~699만원    아니오                  아파트/ 주상복합  서울  관악구   은천동   \n",
              "\n",
              "                               자동차  \n",
              "1                              NaN  \n",
              "5   준중형SUV (투싼, 스포티지, QM5, 티구안급 등)  \n",
              "6                              NaN  \n",
              "7                              NaN  \n",
              "12                             NaN  "
            ],
            "text/html": [
              "\n",
              "  <div id=\"df-cd4b196a-c5f9-434c-a72d-162e3f19f68c\">\n",
              "    <div class=\"colab-df-container\">\n",
              "      <div>\n",
              "<style scoped>\n",
              "    .dataframe tbody tr th:only-of-type {\n",
              "        vertical-align: middle;\n",
              "    }\n",
              "\n",
              "    .dataframe tbody tr th {\n",
              "        vertical-align: top;\n",
              "    }\n",
              "\n",
              "    .dataframe thead th {\n",
              "        text-align: right;\n",
              "    }\n",
              "</style>\n",
              "<table border=\"1\" class=\"dataframe\">\n",
              "  <thead>\n",
              "    <tr style=\"text-align: right;\">\n",
              "      <th></th>\n",
              "      <th>치유원</th>\n",
              "      <th>사이트제목</th>\n",
              "      <th>성별</th>\n",
              "      <th>연령</th>\n",
              "      <th>직업</th>\n",
              "      <th>소득</th>\n",
              "      <th>결혼</th>\n",
              "      <th>자녀</th>\n",
              "      <th>주거</th>\n",
              "      <th>시도</th>\n",
              "      <th>구</th>\n",
              "      <th>동</th>\n",
              "      <th>자동차</th>\n",
              "    </tr>\n",
              "  </thead>\n",
              "  <tbody>\n",
              "    <tr>\n",
              "      <th>1</th>\n",
              "      <td>산림치유원</td>\n",
              "      <td>국립산림치유원 마실치유숲길</td>\n",
              "      <td>F</td>\n",
              "      <td>2</td>\n",
              "      <td>무직</td>\n",
              "      <td>100만원 미만</td>\n",
              "      <td>아니오</td>\n",
              "      <td></td>\n",
              "      <td>단독주택</td>\n",
              "      <td>경기</td>\n",
              "      <td>파주시</td>\n",
              "      <td>탄현면</td>\n",
              "      <td>NaN</td>\n",
              "    </tr>\n",
              "    <tr>\n",
              "      <th>5</th>\n",
              "      <td>산림치유원</td>\n",
              "      <td>영주 국립산림치유원 숲 체험 프로그램 등산 힐링캠프</td>\n",
              "      <td>M</td>\n",
              "      <td>3</td>\n",
              "      <td>기타</td>\n",
              "      <td>200~299만원</td>\n",
              "      <td>아니오</td>\n",
              "      <td></td>\n",
              "      <td>아파트/ 주상복합</td>\n",
              "      <td>부산</td>\n",
              "      <td>연제구</td>\n",
              "      <td>거제2동</td>\n",
              "      <td>준중형SUV (투싼, 스포티지, QM5, 티구안급 등)</td>\n",
              "    </tr>\n",
              "    <tr>\n",
              "      <th>6</th>\n",
              "      <td>산림치유원</td>\n",
              "      <td>국립산림치유원 1박2일 팸투어 힐링♥</td>\n",
              "      <td>F</td>\n",
              "      <td>3</td>\n",
              "      <td>전문직 (의사, 판검사, 예술가, 종교인)</td>\n",
              "      <td>400~499만원</td>\n",
              "      <td>예</td>\n",
              "      <td>자녀 있음</td>\n",
              "      <td>연립주택/ 다세대/ 빌라</td>\n",
              "      <td>경남</td>\n",
              "      <td>진주시</td>\n",
              "      <td>하대동</td>\n",
              "      <td>NaN</td>\n",
              "    </tr>\n",
              "    <tr>\n",
              "      <th>7</th>\n",
              "      <td>산림치유원</td>\n",
              "      <td>영주여행 무섬마을 산림치유원여행</td>\n",
              "      <td>F</td>\n",
              "      <td>3</td>\n",
              "      <td>전문직 (의사, 판검사, 예술가, 종교인)</td>\n",
              "      <td>400~499만원</td>\n",
              "      <td>예</td>\n",
              "      <td>자녀 있음</td>\n",
              "      <td>연립주택/ 다세대/ 빌라</td>\n",
              "      <td>경남</td>\n",
              "      <td>진주시</td>\n",
              "      <td>하대동</td>\n",
              "      <td>NaN</td>\n",
              "    </tr>\n",
              "    <tr>\n",
              "      <th>12</th>\n",
              "      <td>산림치유원</td>\n",
              "      <td>국립 산림 치유원 데크로드</td>\n",
              "      <td>M</td>\n",
              "      <td>2</td>\n",
              "      <td>사무직 (일반사무직, 공무원, 직업군인)</td>\n",
              "      <td>600~699만원</td>\n",
              "      <td>아니오</td>\n",
              "      <td></td>\n",
              "      <td>아파트/ 주상복합</td>\n",
              "      <td>서울</td>\n",
              "      <td>관악구</td>\n",
              "      <td>은천동</td>\n",
              "      <td>NaN</td>\n",
              "    </tr>\n",
              "  </tbody>\n",
              "</table>\n",
              "</div>\n",
              "      <button class=\"colab-df-convert\" onclick=\"convertToInteractive('df-cd4b196a-c5f9-434c-a72d-162e3f19f68c')\"\n",
              "              title=\"Convert this dataframe to an interactive table.\"\n",
              "              style=\"display:none;\">\n",
              "        \n",
              "  <svg xmlns=\"http://www.w3.org/2000/svg\" height=\"24px\"viewBox=\"0 0 24 24\"\n",
              "       width=\"24px\">\n",
              "    <path d=\"M0 0h24v24H0V0z\" fill=\"none\"/>\n",
              "    <path d=\"M18.56 5.44l.94 2.06.94-2.06 2.06-.94-2.06-.94-.94-2.06-.94 2.06-2.06.94zm-11 1L8.5 8.5l.94-2.06 2.06-.94-2.06-.94L8.5 2.5l-.94 2.06-2.06.94zm10 10l.94 2.06.94-2.06 2.06-.94-2.06-.94-.94-2.06-.94 2.06-2.06.94z\"/><path d=\"M17.41 7.96l-1.37-1.37c-.4-.4-.92-.59-1.43-.59-.52 0-1.04.2-1.43.59L10.3 9.45l-7.72 7.72c-.78.78-.78 2.05 0 2.83L4 21.41c.39.39.9.59 1.41.59.51 0 1.02-.2 1.41-.59l7.78-7.78 2.81-2.81c.8-.78.8-2.07 0-2.86zM5.41 20L4 18.59l7.72-7.72 1.47 1.35L5.41 20z\"/>\n",
              "  </svg>\n",
              "      </button>\n",
              "      \n",
              "  <style>\n",
              "    .colab-df-container {\n",
              "      display:flex;\n",
              "      flex-wrap:wrap;\n",
              "      gap: 12px;\n",
              "    }\n",
              "\n",
              "    .colab-df-convert {\n",
              "      background-color: #E8F0FE;\n",
              "      border: none;\n",
              "      border-radius: 50%;\n",
              "      cursor: pointer;\n",
              "      display: none;\n",
              "      fill: #1967D2;\n",
              "      height: 32px;\n",
              "      padding: 0 0 0 0;\n",
              "      width: 32px;\n",
              "    }\n",
              "\n",
              "    .colab-df-convert:hover {\n",
              "      background-color: #E2EBFA;\n",
              "      box-shadow: 0px 1px 2px rgba(60, 64, 67, 0.3), 0px 1px 3px 1px rgba(60, 64, 67, 0.15);\n",
              "      fill: #174EA6;\n",
              "    }\n",
              "\n",
              "    [theme=dark] .colab-df-convert {\n",
              "      background-color: #3B4455;\n",
              "      fill: #D2E3FC;\n",
              "    }\n",
              "\n",
              "    [theme=dark] .colab-df-convert:hover {\n",
              "      background-color: #434B5C;\n",
              "      box-shadow: 0px 1px 3px 1px rgba(0, 0, 0, 0.15);\n",
              "      filter: drop-shadow(0px 1px 2px rgba(0, 0, 0, 0.3));\n",
              "      fill: #FFFFFF;\n",
              "    }\n",
              "  </style>\n",
              "\n",
              "      <script>\n",
              "        const buttonEl =\n",
              "          document.querySelector('#df-cd4b196a-c5f9-434c-a72d-162e3f19f68c button.colab-df-convert');\n",
              "        buttonEl.style.display =\n",
              "          google.colab.kernel.accessAllowed ? 'block' : 'none';\n",
              "\n",
              "        async function convertToInteractive(key) {\n",
              "          const element = document.querySelector('#df-cd4b196a-c5f9-434c-a72d-162e3f19f68c');\n",
              "          const dataTable =\n",
              "            await google.colab.kernel.invokeFunction('convertToInteractive',\n",
              "                                                     [key], {});\n",
              "          if (!dataTable) return;\n",
              "\n",
              "          const docLinkHtml = 'Like what you see? Visit the ' +\n",
              "            '<a target=\"_blank\" href=https://colab.research.google.com/notebooks/data_table.ipynb>data table notebook</a>'\n",
              "            + ' to learn more about interactive tables.';\n",
              "          element.innerHTML = '';\n",
              "          dataTable['output_type'] = 'display_data';\n",
              "          await google.colab.output.renderOutput(dataTable, element);\n",
              "          const docLink = document.createElement('div');\n",
              "          docLink.innerHTML = docLinkHtml;\n",
              "          element.appendChild(docLink);\n",
              "        }\n",
              "      </script>\n",
              "    </div>\n",
              "  </div>\n",
              "  "
            ]
          },
          "metadata": {},
          "execution_count": 106
        }
      ]
    },
    {
      "cell_type": "markdown",
      "source": [
        "### 230대 성별"
      ],
      "metadata": {
        "id": "BhceFGRXNDb_"
      }
    },
    {
      "cell_type": "code",
      "source": [
        "sex_counts = df5_23['성별'].value_counts()\n",
        "sex_counts"
      ],
      "metadata": {
        "colab": {
          "base_uri": "https://localhost:8080/"
        },
        "outputId": "19b3712b-e83d-4c27-f85a-ce2691e4e892",
        "id": "YVcPzJeeNDb_"
      },
      "execution_count": null,
      "outputs": [
        {
          "output_type": "execute_result",
          "data": {
            "text/plain": [
              "F    269\n",
              "M    100\n",
              "Name: 성별, dtype: int64"
            ]
          },
          "metadata": {},
          "execution_count": 107
        }
      ]
    },
    {
      "cell_type": "code",
      "source": [
        "round(sex_counts.loc['F'] / sex_counts.sum() * 100 , 1),\\\n",
        "round(sex_counts.loc['M'] / sex_counts.sum() * 100 , 1)"
      ],
      "metadata": {
        "colab": {
          "base_uri": "https://localhost:8080/"
        },
        "outputId": "360cfc65-d518-4082-8a94-5353c170fc69",
        "id": "BbywphGLNDb_"
      },
      "execution_count": null,
      "outputs": [
        {
          "output_type": "execute_result",
          "data": {
            "text/plain": [
              "(72.9, 27.1)"
            ]
          },
          "metadata": {},
          "execution_count": 108
        }
      ]
    },
    {
      "cell_type": "markdown",
      "source": [
        "### 230대 직업"
      ],
      "metadata": {
        "id": "d2Nz9q0QNDb_"
      }
    },
    {
      "cell_type": "code",
      "source": [
        "df5_23['직업'].notnull().sum(), df5_23['소득'].notnull().sum()"
      ],
      "metadata": {
        "colab": {
          "base_uri": "https://localhost:8080/"
        },
        "outputId": "0a9e2494-3a08-4fb9-e157-fbfc55492804",
        "id": "naNQV5TUNDb_"
      },
      "execution_count": null,
      "outputs": [
        {
          "output_type": "execute_result",
          "data": {
            "text/plain": [
              "(238, 238)"
            ]
          },
          "metadata": {},
          "execution_count": 109
        }
      ]
    },
    {
      "cell_type": "code",
      "source": [
        "job_counts = df5_23['직업'].value_counts()\n",
        "job_counts"
      ],
      "metadata": {
        "colab": {
          "base_uri": "https://localhost:8080/"
        },
        "outputId": "c33ca00d-6290-4e01-b0b5-4246aa8e4390",
        "id": "NfKlZUBpNDb_"
      },
      "execution_count": null,
      "outputs": [
        {
          "output_type": "execute_result",
          "data": {
            "text/plain": [
              "사무직 (일반사무직, 공무원, 직업군인)          94\n",
              "주부 (전업주부, 파트타임 근무 주부)           50\n",
              "학생 (초중고학생, 대학생, 대학원생)           24\n",
              "전문직 (의사, 판검사, 예술가, 종교인)         23\n",
              "교직 (교사, 유치원교사, 학원강사)            10\n",
              "생산/노무직 (생산감독, 경비원, 공장근로자)        8\n",
              "무직                               7\n",
              "서비스직 (요식업, 숙박업, 미용실종업원)          6\n",
              "기타                               4\n",
              "판매직 (상점점원, 보험설계사, 노점상)           4\n",
              "기능직 (자동차정비, 운전기사, 안경사, 택시기사)     4\n",
              "자영업 (도소매업, 숙박업, 미용업)             4\n",
              "Name: 직업, dtype: int64"
            ]
          },
          "metadata": {},
          "execution_count": 110
        }
      ]
    },
    {
      "cell_type": "code",
      "source": [
        "drop_jobs = job_counts[job_counts.index.str.contains('학생|퇴직|주부')]\n",
        "drop_jobs"
      ],
      "metadata": {
        "colab": {
          "base_uri": "https://localhost:8080/"
        },
        "outputId": "e7271789-b14c-4088-f3de-052b77bd1855",
        "id": "AdeGr-RGNDb_"
      },
      "execution_count": null,
      "outputs": [
        {
          "output_type": "execute_result",
          "data": {
            "text/plain": [
              "주부 (전업주부, 파트타임 근무 주부)    50\n",
              "학생 (초중고학생, 대학생, 대학원생)    24\n",
              "Name: 직업, dtype: int64"
            ]
          },
          "metadata": {},
          "execution_count": 112
        }
      ]
    },
    {
      "cell_type": "code",
      "source": [
        "round((job_counts.sum() - drop_jobs.sum() - job_counts['무직']) / len(df5_23) * 100, 1),\\\n",
        "job_counts.sum() - drop_jobs.sum() - job_counts['무직']"
      ],
      "metadata": {
        "colab": {
          "base_uri": "https://localhost:8080/"
        },
        "outputId": "66a12859-b349-487d-edd5-2e6732ca94e5",
        "id": "wrxI7bjhNDb_"
      },
      "execution_count": null,
      "outputs": [
        {
          "output_type": "execute_result",
          "data": {
            "text/plain": [
              "(42.5, 157)"
            ]
          },
          "metadata": {},
          "execution_count": 113
        }
      ]
    },
    {
      "cell_type": "code",
      "source": [
        "job2_counts = df5_2['직업'].value_counts()\n",
        "job3_counts = df5_3['직업'].value_counts()"
      ],
      "metadata": {
        "id": "3mKx_tSfNDb_"
      },
      "execution_count": null,
      "outputs": []
    },
    {
      "cell_type": "code",
      "source": [
        "drop2_jobs = job2_counts[job2_counts.index.str.contains('학생|퇴직|주부')]\n",
        "drop3_jobs = job3_counts[job3_counts.index.str.contains('학생|퇴직|주부')]\n",
        "drop3_jobs"
      ],
      "metadata": {
        "colab": {
          "base_uri": "https://localhost:8080/"
        },
        "outputId": "8b6874fc-7caf-48d4-85ce-eeeffe8cc942",
        "id": "19LPQJb9NDb_"
      },
      "execution_count": null,
      "outputs": [
        {
          "output_type": "execute_result",
          "data": {
            "text/plain": [
              "주부 (전업주부, 파트타임 근무 주부)    46\n",
              "학생 (초중고학생, 대학생, 대학원생)     2\n",
              "Name: 직업, dtype: int64"
            ]
          },
          "metadata": {},
          "execution_count": 115
        }
      ]
    },
    {
      "cell_type": "code",
      "source": [
        "round((job2_counts.sum() - drop2_jobs.sum() - job2_counts['무직']) / len(df5_23) * 100, 1),\\\n",
        "job2_counts.sum() - drop2_jobs.sum() - job2_counts['무직'],\\\n",
        "round((job3_counts.sum() - drop3_jobs.sum() - job3_counts['무직']) / len(df5_23) * 100, 1),\\\n",
        "job3_counts.sum() - drop3_jobs.sum() - job3_counts['무직']"
      ],
      "metadata": {
        "colab": {
          "base_uri": "https://localhost:8080/"
        },
        "outputId": "1924ca42-7baa-46ad-dd3c-8b84416fd10b",
        "id": "lFV1fG1xNDb_"
      },
      "execution_count": null,
      "outputs": [
        {
          "output_type": "execute_result",
          "data": {
            "text/plain": [
              "(5.7, 21, 36.9, 136)"
            ]
          },
          "metadata": {},
          "execution_count": 116
        }
      ]
    },
    {
      "cell_type": "markdown",
      "source": [
        "### 230대 자동차"
      ],
      "metadata": {
        "id": "dSgDmOTUNDcA"
      }
    },
    {
      "cell_type": "code",
      "source": [
        "car_counts = df5_23['자동차'].value_counts()\n",
        "car_counts"
      ],
      "metadata": {
        "colab": {
          "base_uri": "https://localhost:8080/"
        },
        "outputId": "65e6f00d-4de9-4027-9a6e-0a6f7febf1aa",
        "id": "RhttArrpNDcA"
      },
      "execution_count": null,
      "outputs": [
        {
          "output_type": "execute_result",
          "data": {
            "text/plain": [
              "준중형차 (아반떼, K3, 크루즈, 제타급 등)          33\n",
              "경차 (모닝, 스파크 등)                      29\n",
              "중형차 (쏘나타, K5, 말리부, 골프급 등)           26\n",
              "소형SUV/CUV (티볼리, QM3 등)               9\n",
              "준중형SUV (투싼, 스포티지, QM5, 티구안급 등)       8\n",
              "중형SUV (싼타페, 쏘렌토, 캡티바, BMW X3급 등)     7\n",
              "소형차 (액센트, 프라이드, 아베오, 피아트급 등)         5\n",
              "대형차 (제너시스, BMW5급 등)                  5\n",
              "준대형차 (그랜저, K7, 알페온, 캠리급, 파사트급 등)     4\n",
              "MPV (카니발, 올란도, 피카소급, 오딧세이 등)         1\n",
              "기타 (승합차/트럭/화물차/기타 차량 등)              1\n",
              "Name: 자동차, dtype: int64"
            ]
          },
          "metadata": {},
          "execution_count": 117
        }
      ]
    },
    {
      "cell_type": "code",
      "source": [
        "round(car_counts.sum() / len(df5_23) * 100, 1),\\\n",
        "car_counts.sum()"
      ],
      "metadata": {
        "colab": {
          "base_uri": "https://localhost:8080/"
        },
        "outputId": "a59ff066-ad8e-4575-941b-c1c4a8820381",
        "id": "FHlmBm5pNDcA"
      },
      "execution_count": null,
      "outputs": [
        {
          "output_type": "execute_result",
          "data": {
            "text/plain": [
              "(34.7, 128)"
            ]
          },
          "metadata": {},
          "execution_count": 118
        }
      ]
    },
    {
      "cell_type": "code",
      "source": [
        "car2_counts = df5_2['자동차'].value_counts()\n",
        "car3_counts = df5_3['자동차'].value_counts()\n",
        "\n",
        "round(car2_counts.sum() / len(df5_23) * 100, 1),\\\n",
        "car2_counts.sum(),\\\n",
        "round(car3_counts.sum() / len(df5_23) * 100, 1),\\\n",
        "car3_counts.sum()"
      ],
      "metadata": {
        "colab": {
          "base_uri": "https://localhost:8080/"
        },
        "outputId": "933f4264-b2a0-467c-aaf8-0062a09cd72c",
        "id": "JMCdT_R0NDcA"
      },
      "execution_count": null,
      "outputs": [
        {
          "output_type": "execute_result",
          "data": {
            "text/plain": [
              "(2.7, 10, 32.0, 118)"
            ]
          },
          "metadata": {},
          "execution_count": 119
        }
      ]
    },
    {
      "cell_type": "code",
      "source": [],
      "metadata": {
        "id": "A-PWfRyhNDcA"
      },
      "execution_count": null,
      "outputs": []
    },
    {
      "cell_type": "code",
      "source": [
        "df5_23['시도'].value_counts()[:5],\\\n",
        "df5_2['시도'].value_counts()[:5],\\\n",
        "df5_3['시도'].value_counts()[:5]"
      ],
      "metadata": {
        "colab": {
          "base_uri": "https://localhost:8080/"
        },
        "outputId": "597d579a-a54e-4075-ebc8-f3b6b2c45f1f",
        "id": "mtgdCCAINDcA"
      },
      "execution_count": null,
      "outputs": [
        {
          "output_type": "execute_result",
          "data": {
            "text/plain": [
              "(서울    137\n",
              " 경기     90\n",
              " 부산     22\n",
              " 인천     20\n",
              " 대구     19\n",
              " Name: 시도, dtype: int64,\n",
              " 경기    26\n",
              " 서울    26\n",
              " 인천     7\n",
              " 강원     5\n",
              " 경북     5\n",
              " Name: 시도, dtype: int64,\n",
              " 서울    111\n",
              " 경기     64\n",
              " 대구     18\n",
              " 부산     17\n",
              " 인천     13\n",
              " Name: 시도, dtype: int64)"
            ]
          },
          "metadata": {},
          "execution_count": 120
        }
      ]
    },
    {
      "cell_type": "code",
      "source": [
        "df5_23[df5_23['시도'] == \"서울\"]['치유원'].value_counts()[:5],\\\n",
        "df5_2[df5_2['시도'] == \"경기\"]['치유원'].value_counts()[:5],\\\n",
        "df5_3[df5_3['시도'] == \"서울\"]['치유원'].value_counts()[:5]"
      ],
      "metadata": {
        "colab": {
          "base_uri": "https://localhost:8080/"
        },
        "outputId": "7120d58e-808e-4259-d916-3d1b09c4a0de",
        "id": "SBu3byoyNDcA"
      },
      "execution_count": null,
      "outputs": [
        {
          "output_type": "execute_result",
          "data": {
            "text/plain": [
              "(산림치유원    102\n",
              " 치유의숲      16\n",
              " 숲체원       11\n",
              " 횡성숲체원      8\n",
              " Name: 치유원, dtype: int64,\n",
              " 산림치유원    26\n",
              " Name: 치유원, dtype: int64,\n",
              " 산림치유원    76\n",
              " 치유의숲     16\n",
              " 숲체원      11\n",
              " 횡성숲체원     8\n",
              " Name: 치유원, dtype: int64)"
            ]
          },
          "metadata": {},
          "execution_count": 121
        }
      ]
    },
    {
      "cell_type": "code",
      "source": [
        "df5_45['시도'].value_counts()[:5],\\\n",
        "df5_45[df5_45['시도'] == \"서울\"]['치유원'].value_counts()[:5]"
      ],
      "metadata": {
        "colab": {
          "base_uri": "https://localhost:8080/"
        },
        "outputId": "6629821a-c332-4ffd-fbb2-976d0cb1666f",
        "id": "-ExvpAgaNDcA"
      },
      "execution_count": null,
      "outputs": [
        {
          "output_type": "execute_result",
          "data": {
            "text/plain": [
              "(서울    107\n",
              " 경기     78\n",
              " 강원     48\n",
              " 부산     33\n",
              " 대구     23\n",
              " Name: 시도, dtype: int64,\n",
              " 산림치유원    105\n",
              " 치유의숲       2\n",
              " Name: 치유원, dtype: int64)"
            ]
          },
          "metadata": {},
          "execution_count": 122
        }
      ]
    },
    {
      "cell_type": "code",
      "source": [],
      "metadata": {
        "id": "XjR5YPlpP6rB"
      },
      "execution_count": null,
      "outputs": []
    }
  ]
}